{
 "cells": [
  {
   "cell_type": "code",
   "execution_count": 1,
   "id": "bc5c74dc",
   "metadata": {},
   "outputs": [
    {
     "data": {
      "text/html": [
       "<style>.container { width:90% !important; }</style>"
      ],
      "text/plain": [
       "<IPython.core.display.HTML object>"
      ]
     },
     "metadata": {},
     "output_type": "display_data"
    }
   ],
   "source": [
    "from IPython.display import display, HTML\n",
    "display(HTML(\"<style>.container { width:90% !important; }</style>\"))\n",
    "\n",
    "from pylab import rcParams\n",
    "rcParams['figure.figsize'] = 12,8"
   ]
  },
  {
   "cell_type": "code",
   "execution_count": 2,
   "id": "3d57b9af",
   "metadata": {},
   "outputs": [],
   "source": [
    "import matplotlib.pyplot as plt\n",
    "import seaborn as sns\n",
    "\n",
    "\n",
    "import pandas as pd\n",
    "import numpy as np\n",
    "\n",
    "from datetime import datetime, timedelta\n",
    "\n",
    "import re\n",
    "\n",
    "import os\n",
    "from glob import glob\n",
    "from tqdm import tqdm\n",
    "\n",
    "import yaml\n",
    "from yaml import dump\n",
    "import uuid\n",
    "import itertools\n",
    "\n",
    "import matplotlib.pyplot as plt"
   ]
  },
  {
   "cell_type": "code",
   "execution_count": 3,
   "id": "194a5fc2",
   "metadata": {},
   "outputs": [],
   "source": [
    "import xgboost\n",
    "from xgboost import XGBClassifier\n",
    "\n",
    "from sklearn.ensemble import RandomForestClassifier\n",
    "from sklearn.linear_model import SGDClassifier, LogisticRegression\n",
    "from sklearn.neighbors import KNeighborsClassifier\n",
    "\n",
    "from lightgbm import LGBMClassifier"
   ]
  },
  {
   "cell_type": "code",
   "execution_count": 4,
   "id": "6627bb13",
   "metadata": {},
   "outputs": [],
   "source": [
    "import plotly.graph_objects as go\n",
    "import plotly.express as px\n",
    "from plotly.subplots import make_subplots"
   ]
  },
  {
   "cell_type": "code",
   "execution_count": 5,
   "id": "2392ee5b",
   "metadata": {},
   "outputs": [],
   "source": [
    "import warnings\n",
    "warnings.simplefilter(action=\"ignore\")"
   ]
  },
  {
   "cell_type": "markdown",
   "id": "8d4043eb",
   "metadata": {
    "heading_collapsed": true
   },
   "source": [
    "## Initialization"
   ]
  },
  {
   "cell_type": "code",
   "execution_count": 6,
   "id": "18b7df95",
   "metadata": {
    "hidden": true
   },
   "outputs": [],
   "source": [
    "# companies = [\"AMAZON\", \"APPLE\", \"GOOGLE\", \"META\", \"NETFLIX\"]\n",
    "# time_period = [\"daily\", \"weekly\", \"monthly\"]\n",
    "\n",
    "# path = f\"/diploma_info/datalake/raw_data/{companies[2]}_{time_period[2]}.csv\""
   ]
  },
  {
   "cell_type": "code",
   "execution_count": 7,
   "id": "e717a7fa",
   "metadata": {
    "hidden": true
   },
   "outputs": [],
   "source": [
    "# date_parse = lambda dates: pd.to_datetime(dates)\n",
    "\n",
    "# df = pd.read_csv(\n",
    "#     path,\n",
    "#     parse_dates=[\"Date\"],\n",
    "#     date_parser=date_parse,\n",
    "#     index_col=[\"Date\"],\n",
    "# )"
   ]
  },
  {
   "cell_type": "code",
   "execution_count": 8,
   "id": "4002d9dc",
   "metadata": {
    "hidden": true
   },
   "outputs": [],
   "source": [
    "# growth = [0]\n",
    "# diff_value = [0]\n",
    "\n",
    "\n",
    "# for k in range(1, df.shape[0]):\n",
    "#     diff_value.append(df.iloc[k][\"Close\"] - df.iloc[k-1][\"Close\"])\n",
    "#     if diff_value[-1] > 0:\n",
    "#         growth.append(1)\n",
    "#     else:\n",
    "#         growth.append(0)"
   ]
  },
  {
   "cell_type": "code",
   "execution_count": 9,
   "id": "2fa657f5",
   "metadata": {
    "hidden": true
   },
   "outputs": [],
   "source": [
    "# df['diff_value'] = diff_value\n",
    "# df['growth'] = growth"
   ]
  },
  {
   "cell_type": "markdown",
   "id": "6b896891",
   "metadata": {
    "heading_collapsed": true
   },
   "source": [
    "## EDA"
   ]
  },
  {
   "cell_type": "code",
   "execution_count": 10,
   "id": "63f41236",
   "metadata": {
    "hidden": true
   },
   "outputs": [],
   "source": [
    "# df.shape[0]-df.growth.sum(), df.growth.sum()"
   ]
  },
  {
   "cell_type": "code",
   "execution_count": 11,
   "id": "a9b20356",
   "metadata": {
    "hidden": true
   },
   "outputs": [],
   "source": [
    "# start = datetime(2023, 12, 1, 0)\n",
    "# end = datetime(2024, 1, 31, 23)\n",
    "\n",
    "\n",
    "# fig = make_subplots(specs=[[{\"secondary_y\": True}]])\n",
    "# text = {\"date\": df.index.date,\n",
    "#         \"open\": df.Open,\n",
    "#         \"high\": df.High,\n",
    "#         \"low\": df.Low,\n",
    "#         \"close\": df.Close,\n",
    "#        }\n",
    "\n",
    "\n",
    "# fig.add_trace(go.Scatter(x=df.index.date,\n",
    "#                          y=df.Close,\n",
    "#                          name='Google',\n",
    "#                          text=round(df.Open, 5),\n",
    "#                          line_color='#000000',\n",
    "#                          hovertemplate=\"Date: %{x}<br>Open: %{text}<br>Close: %{y}\"\n",
    "#                         ),\n",
    "#                secondary_y=False\n",
    "#              )\n",
    "\n",
    "# colors = ['red' if df.iloc[k].growth == 0 else 'green' for k in range(df.shape[0])]\n",
    "\n",
    "# fig.add_trace(go.Bar(x=df.index.date,\n",
    "#                      y=df.diff_value,\n",
    "#                      name='Growth_or_Fall',\n",
    "#                      marker_color=colors,\n",
    "#                      ),\n",
    "#                secondary_y=True\n",
    "#              )\n",
    "\n",
    "\n",
    "# fig.update_layout(title=f'Electricity_consumption', \n",
    "#                   xaxis_tickangle=-45,\n",
    "#                   width=1500,\n",
    "#                   height=800\n",
    "#                  )\n",
    "\n",
    "# fig.update_layout(hovermode=\"x\")\n",
    "# fig.update_xaxes(rangeslider_visible=True)\n",
    "# fig.update_yaxes(title_text=\"Close price value\", secondary_y=False)\n",
    "# fig.update_yaxes(title_text=\"Change\", secondary_y=True)\n",
    "\n",
    "\n",
    "# # fig.write_html()\n",
    "\n",
    "# fig.show()"
   ]
  },
  {
   "cell_type": "code",
   "execution_count": null,
   "id": "265e9dd0",
   "metadata": {
    "hidden": true
   },
   "outputs": [],
   "source": []
  },
  {
   "cell_type": "code",
   "execution_count": null,
   "id": "99137685",
   "metadata": {
    "hidden": true
   },
   "outputs": [],
   "source": []
  },
  {
   "cell_type": "markdown",
   "id": "908c4f54",
   "metadata": {},
   "source": [
    "## Forecasting"
   ]
  },
  {
   "cell_type": "markdown",
   "id": "5172d8a5",
   "metadata": {},
   "source": [
    "#### initialize all required valiables, prepare datasets"
   ]
  },
  {
   "cell_type": "code",
   "execution_count": 12,
   "id": "042f2e61",
   "metadata": {},
   "outputs": [],
   "source": [
    "def init(company, period):\n",
    "\n",
    "    train_end = datetime(2023, 12, 31)\n",
    "    test_start = datetime(2024, 1, 1)\n",
    "    test_end = datetime(2024, 2, 8)\n",
    "    \n",
    "    train_features_set = [\n",
    "        ['close_lag_1', 'volume_lag_1'],\n",
    "        ['close_lag_1', 'close_max_3_days', 'close_min_3_days', 'close_mean_3_days'],\n",
    "        ['close_lag_1', 'year', 'month', 'day', 'day_of_week', 'week_of_year']\n",
    "    ]\n",
    "\n",
    "    \n",
    "    date_parse = lambda dates: pd.to_datetime(dates)\n",
    "    path = f\"/diploma_info/datalake/processed_data/{company}_{period}.csv\"\n",
    "    \n",
    "    full_set = pd.read_csv(\n",
    "        path,\n",
    "        parse_dates=[\"date\"],\n",
    "        date_parser=date_parse,\n",
    "        index_col=[\"date\"],\n",
    "    )\n",
    "#     full_set.index.name = 'date'\n",
    "#     full_set.columns = [c.lower() for c in full_set.columns]\n",
    "    \n",
    "#     full_set = create_target_value(full_set)\n",
    "#     full_set = create_new_features(full_set, test_end)\n",
    "\n",
    "#     full_set['growth_lag_1', 'growth_lag_2', 'growth_lag_3'] = full_set\n",
    "\n",
    "    full_set = full_set.fillna(0)\n",
    "    \n",
    "    \n",
    "    test_start = datetime(full_set.loc[test_start:].index[0].year, full_set.loc[test_start:].index[0].month, full_set.loc[test_start:].index[0].day)\n",
    "    train_end = datetime(full_set.loc[:train_end].index[-1].year, full_set.loc[:train_end].index[-1].month, full_set.loc[:train_end].index[-1].day)\n",
    "    \n",
    "    \n",
    "    return full_set, train_end, test_start, test_end, train_features_set"
   ]
  },
  {
   "cell_type": "code",
   "execution_count": 13,
   "id": "d41c580a",
   "metadata": {
    "code_folding": [
     0
    ]
   },
   "outputs": [],
   "source": [
    "def create_target_value(df):\n",
    "\n",
    "    growth = [0]\n",
    "    diff_value = [0]\n",
    "\n",
    "\n",
    "    for k in range(1, df.shape[0]):\n",
    "        diff_value.append(df.iloc[k][\"close\"] - df.iloc[k-1][\"close\"])\n",
    "        if diff_value[-1] > 0:\n",
    "            growth.append(1)\n",
    "        else:\n",
    "            growth.append(0)\n",
    "\n",
    "    df['diff_value'] = diff_value\n",
    "    df['growth'] = growth\n",
    "    \n",
    "    return df"
   ]
  },
  {
   "cell_type": "code",
   "execution_count": 14,
   "id": "0b4fbfae",
   "metadata": {
    "code_folding": [
     0
    ]
   },
   "outputs": [],
   "source": [
    "def create_new_features(df, test_end):\n",
    "    \n",
    "    df['year'] = df.index.year\n",
    "    df['month'] = df.index.month\n",
    "    df['day'] = df.index.day\n",
    "    df['day_of_week'] = df.index.weekday\n",
    "    df['week_of_year'] = (df.index.isocalendar()['week']).astype('int')\n",
    "    df['close_lag_1'] = df['close'].shift(1).bfill()\n",
    "    df['volume_lag_1'] = df['volume'].shift(1).bfill()\n",
    "\n",
    "    for window in [3, 5, 7]:\n",
    "        close_agg = pd.DataFrame(round(df['close'].rolling(window=window, closed='left').agg(\n",
    "            ('max', 'min', 'mean')\n",
    "        )))\n",
    "        close_agg.columns = [f'close_max_{window}_days', f'close_min_{window}_days', f'close_mean_{window}_days']\n",
    "        day_mean = close_agg.reset_index()[['date', f'close_max_{window}_days', f'close_min_{window}_days', f'close_mean_{window}_days']]\n",
    "\n",
    "        df = df.reset_index().merge(day_mean, on='date').set_index(\"date\")\n",
    "        df = df.loc[:test_end.strftime(\"%Y%m%d\"),]\n",
    "    \n",
    "    return df"
   ]
  },
  {
   "cell_type": "code",
   "execution_count": 15,
   "id": "c42b5f2c",
   "metadata": {
    "code_folding": [
     0,
     70,
     105,
     129
    ]
   },
   "outputs": [],
   "source": [
    "def models_hyperparameter_random_forest(company):\n",
    "\n",
    "    depth_list = []\n",
    "    n_estimators_list = []\n",
    "    \n",
    "    if company == 'amazon':\n",
    "        depth_list = [7]\n",
    "        n_estimators_list = [5000]\n",
    "    elif company == 'apple' or company == 'netflix':\n",
    "        depth_list = [7]\n",
    "        n_estimators_list = [10]\n",
    "    elif company == 'meta':\n",
    "        depth_list = [9]\n",
    "        n_estimators_list = [10]\n",
    "    elif company == 'google':\n",
    "        depth_list = [9]\n",
    "        n_estimators_list = [10, 200]\n",
    "    \n",
    "    hyperparameters_for_model = []\n",
    "    \n",
    "    for depth, n_estimators in itertools.product(depth_list, n_estimators_list):\n",
    "        hyperparameters_for_model.append({\n",
    "                        'n_estimators': n_estimators,\n",
    "                        'n_jobs': -1,\n",
    "                        'random_state': 2,\n",
    "                        'max_depth': depth,\n",
    "            })\n",
    "\n",
    "    return hyperparameters_for_model\n",
    "\n",
    "\n",
    "def models_hyperparameter_xgboost(company):\n",
    "\n",
    "    depth_list = []\n",
    "    n_estimators_list = []\n",
    "    \n",
    "    if company == 'apple' or company == 'google':\n",
    "        depth_list = [7, 9]\n",
    "        n_estimators_list = [10, 200]\n",
    "    elif company == 'amazon':\n",
    "        depth_list = [7]\n",
    "        n_estimators_list = [10]\n",
    "    elif company == 'meta':\n",
    "        depth_list = [7]\n",
    "        n_estimators_list = [5000]\n",
    "    elif company == 'netflix':\n",
    "        depth_list = [9]\n",
    "        n_estimators_list = [200]\n",
    "    \n",
    "    hyperparameters_for_model = []\n",
    "    \n",
    "    for depth, n_estimators in itertools.product(depth_list, n_estimators_list):\n",
    "        hyperparameters_for_model.append({\n",
    "                    'n_estimators': n_estimators,\n",
    "                    'n_jobs': -1,\n",
    "                    'max_depth': depth,\n",
    "                    'eta': 0.3,\n",
    "                    'booster': 'gbtree',\n",
    "                    'objective': 'reg:squarederror',\n",
    "                    'eval_metric': 'rmse',\n",
    "                    'subsample': 1,\n",
    "                    'colsample_bytree': 1,\n",
    "                    'min_child_weight': 1,\n",
    "                    'random_state': 2,\n",
    "            })\n",
    "        \n",
    "    return hyperparameters_for_model\n",
    "\n",
    "\n",
    "def models_hyperparameter_lgbm(company):\n",
    "\n",
    "    depth_list = []\n",
    "    n_estimators_list = []\n",
    "    \n",
    "    if company == 'apple' or company == 'meta':\n",
    "        depth_list = [7, 9]\n",
    "        n_estimators_list = [5000]\n",
    "    elif company == 'amazon':\n",
    "        depth_list = [7]\n",
    "        n_estimators_list = [200]\n",
    "    elif company == 'google':\n",
    "        depth_list = [7, 9]\n",
    "        n_estimators_list = [10]\n",
    "    elif company == 'netflix':\n",
    "        depth_list = [9]\n",
    "        n_estimators_list = [10, 5000]\n",
    "    \n",
    "    hyperparameters_for_model = []\n",
    "    \n",
    "    for depth, n_estimators in itertools.product(depth_list, n_estimators_list):\n",
    "        hyperparameters_for_model.append({\n",
    "                    'n_estimators': n_estimators,\n",
    "                    'n_jobs': -1,\n",
    "                    'max_depth': depth,\n",
    "                    'eta': 0.3,\n",
    "                    'random_state': 2,\n",
    "                    'objective': 'binary',\n",
    "                    'verbosity': -1,\n",
    "                    'metric': 'binary', \n",
    "            })\n",
    "\n",
    "    return hyperparameters_for_model\n",
    "\n",
    "\n",
    "def models_hyperparameter_knn(company):\n",
    "\n",
    "    n_neighbors_list = []\n",
    "    \n",
    "    if company == 'apple'or company == 'netflix':\n",
    "        n_neighbors_list = [3, 50]\n",
    "    elif company == 'amazon':\n",
    "        n_neighbors_list = [50]\n",
    "    elif company == 'meta':\n",
    "        n_neighbors_list = [9]\n",
    "    elif company == 'google':\n",
    "        n_neighbors_list = [3, 5]\n",
    "    \n",
    "    hyperparameters_for_model = []\n",
    "    \n",
    "    for n_neighbors in n_neighbors_list:\n",
    "        hyperparameters_for_model.append({\n",
    "                        'n_neighbors': n_neighbors,\n",
    "                        'n_jobs': -1\n",
    "            })\n",
    "\n",
    "    return hyperparameters_for_model\n",
    "\n",
    "\n",
    "def models_hyperparameter_log(company):\n",
    "\n",
    "    n_estimators_list = [10]\n",
    "    \n",
    "    hyperparameters_for_model = []\n",
    "    \n",
    "    for n_estimators in n_estimators_list:\n",
    "        hyperparameters_for_model.append({\n",
    "                        'max_iter': n_estimators,\n",
    "                        'n_jobs': -1,\n",
    "                        'random_state': 2,\n",
    "                        'solver': 'liblinear'\n",
    "            })\n",
    "\n",
    "    return hyperparameters_for_model"
   ]
  },
  {
   "cell_type": "code",
   "execution_count": 16,
   "id": "01393351",
   "metadata": {
    "code_folding": []
   },
   "outputs": [],
   "source": [
    "def define_parameters(company, period, train_end, test_start, test_end, train_features_set, forecast_steps, models_dict, problem):\n",
    "    \n",
    "    list_of_configs = []\n",
    "    \n",
    "    model = None\n",
    "    \n",
    "    for duration in [90, 120, 180, 240]:\n",
    "#     for train_start in [datetime(2010, 1, 1), datetime(2015, 1, 1), datetime(2020, 1, 1)]:\n",
    "        for md in models_dict.values():\n",
    "            if md == 'random_forest':\n",
    "                hyperparameters_for_model = models_hyperparameter_random_forest(company)\n",
    "            elif md == 'xgboost':\n",
    "                hyperparameters_for_model = models_hyperparameter_xgboost(company)\n",
    "            elif md == 'lightgbm':\n",
    "                hyperparameters_for_model = models_hyperparameter_lgbm(company)\n",
    "            elif md == 'knear_neighbors':\n",
    "                hyperparameters_for_model = models_hyperparameter_knn(company)\n",
    "            elif md == 'logistic_regression':\n",
    "                hyperparameters_for_model = models_hyperparameter_log(company)\n",
    "            else:\n",
    "                print('Unknown model')\n",
    "                return\n",
    "\n",
    "            for hp in hyperparameters_for_model:\n",
    "\n",
    "                if md == 'random_forest':\n",
    "                    model = RandomForestClassifier(**hp)\n",
    "                elif md == 'xgboost':\n",
    "                    model = XGBClassifier(**hp)\n",
    "                elif md == 'lightgbm':\n",
    "                    model = LGBMClassifier(**hp)\n",
    "                elif md == 'knear_neighbors':\n",
    "                    model = KNeighborsClassifier(**hp)\n",
    "                elif md == 'logistic_regression':\n",
    "                    model = LogisticRegression(**hp)\n",
    "                else:\n",
    "                    print('Unknown model')\n",
    "\n",
    "                for train_features in train_features_set:\n",
    "    #                 'volume_lag_1', 'close_max_3_days', 'month'\n",
    "\n",
    "                    if company == 'apple' or company == 'google':\n",
    "                        if 'volume_lag_1' not in train_features and 'month' not in train_features:\n",
    "                            continue\n",
    "                    elif company == 'amazon':\n",
    "                        if 'volume_lag_1' not in train_features and 'close_max_3_days' not in train_features:\n",
    "                            continue                    \n",
    "    #                 elif company == 'meta':\n",
    "    #                     pass \n",
    "    #                 if not ('volume_lag_1' in train_features or 'month' in train_features): continue                    \n",
    "                    elif company == 'netflix':\n",
    "                        if 'close_max_3_days' not in train_features and 'month' not in train_features:\n",
    "                            continue\n",
    "\n",
    "                    config = {\n",
    "                        'unique_uuid': str(uuid.uuid1()),\n",
    "#                         'train_start': train_start,\n",
    "                        'train_end': train_end,\n",
    "                        'test_start': test_start,\n",
    "                        'test_end': test_end,\n",
    "                        'duration_training_history': duration,\n",
    "                        'target_column': 'growth',\n",
    "                        'train_features': train_features,\n",
    "                        'path_to_result': f'/diploma_info/datalake/',\n",
    "                        'forecast_periods': forecast_steps,\n",
    "        #                 'hour_mean_value': 5,\n",
    "                        'model_name': md,\n",
    "                        'model': model,\n",
    "                        'forecast_frequency': period,\n",
    "                        'company': company,\n",
    "                        'model_hyperparameters': hp,\n",
    "                        'problem': problem\n",
    "                    }\n",
    "\n",
    "                    list_of_configs.append(config.copy())\n",
    "    \n",
    "    return list_of_configs"
   ]
  },
  {
   "cell_type": "markdown",
   "id": "4de80c2e",
   "metadata": {},
   "source": [
    "#### functions used in wfv service"
   ]
  },
  {
   "cell_type": "code",
   "execution_count": 17,
   "id": "4016f075",
   "metadata": {
    "code_folding": []
   },
   "outputs": [],
   "source": [
    "def data(day, X_full_set, y_full_set, train_start, config, forecast_steps):\n",
    "\n",
    "\n",
    "    X_train = X_full_set.loc[train_start:config[\"train_end\"]]\n",
    "    X_test = X_full_set.loc[config[\"test_start\"]+timedelta(days=day):\n",
    "                    config[\"test_start\"]+timedelta(days=day+forecast_steps)]\n",
    "    y_train = y_full_set.loc[train_start:config[\"train_end\"]]\n",
    "    y_test = y_full_set.loc[config[\"test_start\"]+timedelta(days=day):\n",
    "                    config[\"test_start\"]+timedelta(days=day+forecast_steps)]\n",
    "    \n",
    "    return X_train, X_test, y_train, y_test"
   ]
  },
  {
   "cell_type": "code",
   "execution_count": 18,
   "id": "1e1c8fa3",
   "metadata": {
    "code_folding": []
   },
   "outputs": [],
   "source": [
    "def standardize_mean_values(day, df_test, df_train, config):\n",
    "    \n",
    "    agg_cols = ['close_lag_1', 'volume_lag_1'] + [col for col in config['train_features'] if \"close_m\" in col]\n",
    "    \n",
    "    for agg in agg_cols:\n",
    "        if agg in df_test.columns:\n",
    "            try:\n",
    "                num = df_test.loc[config[\"test_start\"]+timedelta(days=day), agg]\n",
    "\n",
    "            except KeyError as e:\n",
    "                num = df_train[agg].iloc[-1]\n",
    "\n",
    "            finally:\n",
    "\n",
    "                _df = df_test.loc[config[\"test_start\"]+timedelta(days=day):, agg]\n",
    "                _df = _df.replace(_df.values, num)\n",
    "\n",
    "#                 print(df_test.loc[config[\"test_start\"]+timedelta(days=day):, agg], _df.values.ravel())\n",
    "\n",
    "                df_test.loc[config[\"test_start\"]:, agg] = _df.values.ravel()\n",
    "    \n",
    "    return df_test"
   ]
  },
  {
   "cell_type": "code",
   "execution_count": 19,
   "id": "7bc649df",
   "metadata": {},
   "outputs": [],
   "source": [
    "def add_predictions(day, model_name, df_preds, y_pred_df, y_test, config):\n",
    "    \n",
    "    dates = y_test.index\n",
    "    \n",
    "    for date in dates:\n",
    "        step_day = int((date-(config[\"test_start\"]+timedelta(days=day))).days)\n",
    "        df_preds.loc[date.strftime(\"%Y-%m-%d\"), f'd-{step_day}'] = y_pred_df.loc[date.strftime(\"%Y-%m-%d\"), 0]\n",
    "    \n",
    "    return df_preds"
   ]
  },
  {
   "cell_type": "code",
   "execution_count": 20,
   "id": "cf71e08e",
   "metadata": {
    "code_folding": [
     15,
     20
    ]
   },
   "outputs": [],
   "source": [
    "def estimations(day, df_stats, y_pred_df, y_test, config):\n",
    "    \n",
    "    dates = y_test.index\n",
    "    \n",
    "    for date in dates:\n",
    "        step_day = int((date-(config[\"test_start\"]+timedelta(days=day))).days)\n",
    "\n",
    "        try:\n",
    "            pred = y_pred_df.loc[date].values[0]\n",
    "            real = y_test.loc[date].values[0]\n",
    "\n",
    "            err = pred-real\n",
    "\n",
    "            df_stats.loc[date, f'd-{step_day}' + '_is_true'] = 1 if (err == 0) else 0\n",
    "            \n",
    "        except ZeroDivisionError as e:\n",
    "            print(e)\n",
    "\n",
    "            df_stats.loc[date, f'd-{step_day}' + '_is_true'] = 0\n",
    "\n",
    "        except KeyError as e:\n",
    "            print(e)\n",
    "\n",
    "            df_stats.loc[date, f'd-{step_day}' + '_is_true'] = 0\n",
    "    \n",
    "    return df_stats"
   ]
  },
  {
   "cell_type": "code",
   "execution_count": 21,
   "id": "664c8058",
   "metadata": {},
   "outputs": [],
   "source": [
    "def write_predictions(forecast_steps, df_preds, config, research_task_uuid, problem):\n",
    "    \n",
    "    for step in range(forecast_steps+1):\n",
    "        try:\n",
    "            pred = df_preds.loc[:, [f'd-{step}']].dropna().sort_index()\n",
    "            pred.index.name = 'date_time'\n",
    "\n",
    "            path_to_files = os.path.join(config['path_to_result'], \"forecast\", problem,\n",
    "                                         config['company'], config['forecast_frequency'], config['model_name'], \n",
    "                                         f\"research_task_{research_task_uuid}\", \n",
    "                                         f\"{config['model_name']}_{config['unique_uuid']}\")\n",
    "            if not os.path.isdir(path_to_files):\n",
    "                os.makedirs(path_to_files)\n",
    "                \n",
    "            file_name = os.path.join(path_to_files, \n",
    "                    f\"forecast_d-{step}_{config['model_name']}.csv\")\n",
    "\n",
    "            pd.DataFrame(pred).to_csv(file_name)\n",
    "\n",
    "        except KeyError:\n",
    "            pass"
   ]
  },
  {
   "cell_type": "markdown",
   "id": "a41fc750",
   "metadata": {},
   "source": [
    "### wfv service"
   ]
  },
  {
   "cell_type": "markdown",
   "id": "25651890",
   "metadata": {},
   "source": [
    "#### *add train_features grid (day_means, date_features, lag_features etc.)\n",
    "\n",
    "#### *add checking LightGBM, Random_Forest, Linear_Classifier etc. \n",
    "\n",
    "#### *add lag_features (? check whats better: those or \"mean\"s) \n",
    "\n",
    "#### *am I able to add some factors like inflation/company's profit etc."
   ]
  },
  {
   "cell_type": "code",
   "execution_count": 22,
   "id": "c32598ef",
   "metadata": {
    "code_folding": [],
    "scrolled": true
   },
   "outputs": [],
   "source": [
    "def run_wfv(full_set: pd.DataFrame, config: dict, research_task_uuid: str, forecast_steps: int, company: str, models_dict: dict, problem: str):\n",
    "    \n",
    "    X_full_set = full_set.loc[:, config['train_features']]\n",
    "    y_full_set = full_set.loc[:, [config['target_column']]]\n",
    "    \n",
    "    if X_full_set.shape[0] != y_full_set.shape[0]:\n",
    "        common_index = list(set(X_full_set.index) & set(y_full_set.index))\n",
    "        common_index.sort()\n",
    "        X_full_set = X_full_set.loc[common_index, :]\n",
    "        y_full_set = y_full_set.loc[common_index, :]\n",
    "    print(X_full_set.shape, y_full_set.shape)\n",
    "    \n",
    "\n",
    "    df_preds = pd.DataFrame()\n",
    "    df_stats = pd.DataFrame()\n",
    "\n",
    "    count_days = (test_end - test_start).days + 1\n",
    "    \n",
    "    \n",
    "    model_name = config['model_name']\n",
    "    print(model_name)\n",
    "    \n",
    "    model = config['model']\n",
    "\n",
    "    unique_uuid = config['unique_uuid']\n",
    "    \n",
    "    if not os.path.isdir(config['path_to_result']):\n",
    "        os.makedirs(config['path_to_result'])\n",
    "\n",
    "    path_folder_result = os.path.join(config['path_to_result'], \"wf_result\", problem, config['company'], \n",
    "                                      config['forecast_frequency'], model_name,\n",
    "                                      f\"research_task_{research_task_uuid}\")\n",
    "    if not os.path.isdir(path_folder_result):\n",
    "        os.makedirs(path_folder_result)\n",
    "        \n",
    "        \n",
    "\n",
    "    for day in tqdm(range(count_days)):\n",
    "        \n",
    "        train_start = config.get('train_start', None)\n",
    "        if train_start is None:\n",
    "            if config.get('duration_training_history', None) is None:\n",
    "                train_start = X_full_set.index[0]\n",
    "                config['train_start'] = datetime(train_start.year, train_start.month, train_start.day)\n",
    "            else:\n",
    "                train_start = config['train_end'] + timedelta(days=day - config['duration_training_history'])\n",
    "\n",
    "        try:\n",
    "\n",
    "            X_train, X_test, y_train, y_test = data(day, X_full_set, y_full_set, train_start, config, forecast_steps)\n",
    "    #         print(X_train, y_train)\n",
    "            X_test = standardize_mean_values(day, X_test.copy(), X_train, config)\n",
    "    #             print(test_start+timedelta(days=day), 'x_test: ', X_test.head(2))\n",
    "\n",
    "            y_pred = model.fit(X_train, y_train).predict(X_test)\n",
    "\n",
    "#             print(y_pred)\n",
    "\n",
    "            y_pred_df = pd.DataFrame(y_pred, index=y_test.index)\n",
    "            df_preds = add_predictions(day, model_name, df_preds, y_pred_df, y_test, config)\n",
    "\n",
    "            df_stats = estimations(day, df_stats, y_pred_df, y_test, config)\n",
    "        \n",
    "\n",
    "\n",
    "        except KeyError as e:\n",
    "            print(e)\n",
    "            continue\n",
    "            \n",
    "        except ValueError as e:\n",
    "            print(e)\n",
    "            continue\n",
    "\n",
    "\n",
    "    write_predictions(forecast_steps, df_preds, config, research_task_uuid, problem)\n",
    "\n",
    "\n",
    "    last_index = df_stats.index[-1]\n",
    "    df_stats.loc[last_index, 'model_hyperparameters'] = str(config['model_hyperparameters'])\n",
    "    df_stats.loc[last_index, 'train_features'] = str(config['train_features'])\n",
    "    \n",
    "    path_to_save_result_csv = os.path.join(path_folder_result, f'{model_name}_{unique_uuid}.csv')\n",
    "    df_stats.round(2).to_csv(path_to_save_result_csv, date_format='%Y-%m-%d %H:%M:%S')\n",
    "    \n",
    "    config_to_save = config.copy()\n",
    "    config_to_save.pop('model', None)\n",
    "    with open(os.path.join(path_folder_result, f'{model_name}_{unique_uuid}.yaml'), 'w') as outfile:\n",
    "        dump(config_to_save, outfile, default_flow_style=False)"
   ]
  },
  {
   "cell_type": "code",
   "execution_count": 23,
   "id": "b0650674",
   "metadata": {
    "scrolled": true
   },
   "outputs": [
    {
     "name": "stdout",
     "output_type": "stream",
     "text": [
      "company: AMAZON\t period: daily\t train ends: 2023-12-29 00:00:00\t test starts: 2024-01-02 00:00:00\n",
      "_research_task_uuid = 3484053a-fbf2-11ee-a1af-c0e434d84b22\n",
      "\n",
      "count_configs 32 \n",
      "\n",
      "xgboost == {'unique_uuid': '3484053b-fbf2-11ee-a1a7-c0e434d84b22', 'train_end': datetime.datetime(2023, 12, 29, 0, 0), 'test_start': datetime.datetime(2024, 1, 2, 0, 0), 'test_end': datetime.datetime(2024, 2, 8, 0, 0), 'duration_training_history': 90, 'target_column': 'growth', 'train_features': ['close_lag_1', 'volume_lag_1'], 'path_to_result': '/diploma_info/datalake/', 'forecast_periods': 4, 'model_name': 'xgboost', 'model': XGBClassifier(base_score=None, booster='gbtree', callbacks=None,\n",
      "              colsample_bylevel=None, colsample_bynode=None, colsample_bytree=1,\n",
      "              device=None, early_stopping_rounds=None, enable_categorical=False,\n",
      "              eta=0.3, eval_metric='rmse', feature_types=None, gamma=None,\n",
      "              grow_policy=None, importance_type=None,\n",
      "              interaction_constraints=None, learning_rate=None, max_bin=None,\n",
      "              max_cat_threshold=None, max_cat_to_onehot=None,\n",
      "              max_delta_step=None, max_depth=7, max_leaves=None,\n",
      "              min_child_weight=1, missing=nan, monotone_constraints=None,\n",
      "              multi_strategy=None, n_estimators=10, n_jobs=-1,\n",
      "              num_parallel_tree=None, ...), 'forecast_frequency': 'daily', 'company': 'amazon', 'model_hyperparameters': {'n_estimators': 10, 'n_jobs': -1, 'max_depth': 7, 'eta': 0.3, 'booster': 'gbtree', 'objective': 'reg:squarederror', 'eval_metric': 'rmse', 'subsample': 1, 'colsample_bytree': 1, 'min_child_weight': 1, 'random_state': 2}, 'problem': 'classification'} \n",
      "\n",
      "(6743, 2) (6743, 1)\n",
      "xgboost\n"
     ]
    },
    {
     "name": "stderr",
     "output_type": "stream",
     "text": [
      "100%|██████████████████████████████████████████████████████████████████████████████████| 38/38 [00:01<00:00, 22.84it/s]\n"
     ]
    },
    {
     "name": "stdout",
     "output_type": "stream",
     "text": [
      "xgboost == {'unique_uuid': '3484053c-fbf2-11ee-817a-c0e434d84b22', 'train_end': datetime.datetime(2023, 12, 29, 0, 0), 'test_start': datetime.datetime(2024, 1, 2, 0, 0), 'test_end': datetime.datetime(2024, 2, 8, 0, 0), 'duration_training_history': 90, 'target_column': 'growth', 'train_features': ['close_lag_1', 'close_max_3_days', 'close_min_3_days', 'close_mean_3_days'], 'path_to_result': '/diploma_info/datalake/', 'forecast_periods': 4, 'model_name': 'xgboost', 'model': XGBClassifier(base_score=None, booster='gbtree', callbacks=None,\n",
      "              colsample_bylevel=None, colsample_bynode=None, colsample_bytree=1,\n",
      "              device=None, early_stopping_rounds=None, enable_categorical=False,\n",
      "              eta=0.3, eval_metric='rmse', feature_types=None, gamma=None,\n",
      "              grow_policy=None, importance_type=None,\n",
      "              interaction_constraints=None, learning_rate=None, max_bin=None,\n",
      "              max_cat_threshold=None, max_cat_to_onehot=None,\n",
      "              max_delta_step=None, max_depth=7, max_leaves=None,\n",
      "              min_child_weight=1, missing=nan, monotone_constraints=None,\n",
      "              multi_strategy=None, n_estimators=10, n_jobs=-1,\n",
      "              num_parallel_tree=None, ...), 'forecast_frequency': 'daily', 'company': 'amazon', 'model_hyperparameters': {'n_estimators': 10, 'n_jobs': -1, 'max_depth': 7, 'eta': 0.3, 'booster': 'gbtree', 'objective': 'reg:squarederror', 'eval_metric': 'rmse', 'subsample': 1, 'colsample_bytree': 1, 'min_child_weight': 1, 'random_state': 2}, 'problem': 'classification'} \n",
      "\n",
      "(6743, 4) (6743, 1)\n",
      "xgboost\n"
     ]
    },
    {
     "name": "stderr",
     "output_type": "stream",
     "text": [
      "100%|██████████████████████████████████████████████████████████████████████████████████| 38/38 [00:00<00:00, 48.86it/s]\n"
     ]
    },
    {
     "name": "stdout",
     "output_type": "stream",
     "text": [
      "lightgbm == {'unique_uuid': '3484053d-fbf2-11ee-82cd-c0e434d84b22', 'train_end': datetime.datetime(2023, 12, 29, 0, 0), 'test_start': datetime.datetime(2024, 1, 2, 0, 0), 'test_end': datetime.datetime(2024, 2, 8, 0, 0), 'duration_training_history': 90, 'target_column': 'growth', 'train_features': ['close_lag_1', 'volume_lag_1'], 'path_to_result': '/diploma_info/datalake/', 'forecast_periods': 4, 'model_name': 'lightgbm', 'model': LGBMClassifier(eta=0.3, max_depth=7, metric='binary', n_estimators=200,\n",
      "               n_jobs=-1, objective='binary', random_state=2, verbosity=-1), 'forecast_frequency': 'daily', 'company': 'amazon', 'model_hyperparameters': {'n_estimators': 200, 'n_jobs': -1, 'max_depth': 7, 'eta': 0.3, 'random_state': 2, 'objective': 'binary', 'verbosity': -1, 'metric': 'binary'}, 'problem': 'classification'} \n",
      "\n",
      "(6743, 2) (6743, 1)\n",
      "lightgbm\n"
     ]
    },
    {
     "name": "stderr",
     "output_type": "stream",
     "text": [
      "100%|██████████████████████████████████████████████████████████████████████████████████| 38/38 [00:00<00:00, 41.97it/s]\n"
     ]
    },
    {
     "name": "stdout",
     "output_type": "stream",
     "text": [
      "lightgbm == {'unique_uuid': '3484053e-fbf2-11ee-a10c-c0e434d84b22', 'train_end': datetime.datetime(2023, 12, 29, 0, 0), 'test_start': datetime.datetime(2024, 1, 2, 0, 0), 'test_end': datetime.datetime(2024, 2, 8, 0, 0), 'duration_training_history': 90, 'target_column': 'growth', 'train_features': ['close_lag_1', 'close_max_3_days', 'close_min_3_days', 'close_mean_3_days'], 'path_to_result': '/diploma_info/datalake/', 'forecast_periods': 4, 'model_name': 'lightgbm', 'model': LGBMClassifier(eta=0.3, max_depth=7, metric='binary', n_estimators=200,\n",
      "               n_jobs=-1, objective='binary', random_state=2, verbosity=-1), 'forecast_frequency': 'daily', 'company': 'amazon', 'model_hyperparameters': {'n_estimators': 200, 'n_jobs': -1, 'max_depth': 7, 'eta': 0.3, 'random_state': 2, 'objective': 'binary', 'verbosity': -1, 'metric': 'binary'}, 'problem': 'classification'} \n",
      "\n",
      "(6743, 4) (6743, 1)\n",
      "lightgbm\n"
     ]
    },
    {
     "name": "stderr",
     "output_type": "stream",
     "text": [
      "100%|██████████████████████████████████████████████████████████████████████████████████| 38/38 [00:00<00:00, 40.13it/s]\n"
     ]
    },
    {
     "name": "stdout",
     "output_type": "stream",
     "text": [
      "random_forest == {'unique_uuid': '3484053f-fbf2-11ee-be1d-c0e434d84b22', 'train_end': datetime.datetime(2023, 12, 29, 0, 0), 'test_start': datetime.datetime(2024, 1, 2, 0, 0), 'test_end': datetime.datetime(2024, 2, 8, 0, 0), 'duration_training_history': 90, 'target_column': 'growth', 'train_features': ['close_lag_1', 'volume_lag_1'], 'path_to_result': '/diploma_info/datalake/', 'forecast_periods': 4, 'model_name': 'random_forest', 'model': RandomForestClassifier(max_depth=7, n_estimators=5000, n_jobs=-1,\n",
      "                       random_state=2), 'forecast_frequency': 'daily', 'company': 'amazon', 'model_hyperparameters': {'n_estimators': 5000, 'n_jobs': -1, 'random_state': 2, 'max_depth': 7}, 'problem': 'classification'} \n",
      "\n",
      "(6743, 2) (6743, 1)\n",
      "random_forest\n"
     ]
    },
    {
     "name": "stderr",
     "output_type": "stream",
     "text": [
      "100%|██████████████████████████████████████████████████████████████████████████████████| 38/38 [05:16<00:00,  8.32s/it]\n"
     ]
    },
    {
     "name": "stdout",
     "output_type": "stream",
     "text": [
      "random_forest == {'unique_uuid': '34840540-fbf2-11ee-b608-c0e434d84b22', 'train_end': datetime.datetime(2023, 12, 29, 0, 0), 'test_start': datetime.datetime(2024, 1, 2, 0, 0), 'test_end': datetime.datetime(2024, 2, 8, 0, 0), 'duration_training_history': 90, 'target_column': 'growth', 'train_features': ['close_lag_1', 'close_max_3_days', 'close_min_3_days', 'close_mean_3_days'], 'path_to_result': '/diploma_info/datalake/', 'forecast_periods': 4, 'model_name': 'random_forest', 'model': RandomForestClassifier(max_depth=7, n_estimators=5000, n_jobs=-1,\n",
      "                       random_state=2), 'forecast_frequency': 'daily', 'company': 'amazon', 'model_hyperparameters': {'n_estimators': 5000, 'n_jobs': -1, 'random_state': 2, 'max_depth': 7}, 'problem': 'classification'} \n",
      "\n",
      "(6743, 4) (6743, 1)\n",
      "random_forest\n"
     ]
    },
    {
     "name": "stderr",
     "output_type": "stream",
     "text": [
      "100%|██████████████████████████████████████████████████████████████████████████████████| 38/38 [05:17<00:00,  8.36s/it]\n"
     ]
    },
    {
     "name": "stdout",
     "output_type": "stream",
     "text": [
      "knear_neighbors == {'unique_uuid': '34840541-fbf2-11ee-acc5-c0e434d84b22', 'train_end': datetime.datetime(2023, 12, 29, 0, 0), 'test_start': datetime.datetime(2024, 1, 2, 0, 0), 'test_end': datetime.datetime(2024, 2, 8, 0, 0), 'duration_training_history': 90, 'target_column': 'growth', 'train_features': ['close_lag_1', 'volume_lag_1'], 'path_to_result': '/diploma_info/datalake/', 'forecast_periods': 4, 'model_name': 'knear_neighbors', 'model': KNeighborsClassifier(n_jobs=-1, n_neighbors=50), 'forecast_frequency': 'daily', 'company': 'amazon', 'model_hyperparameters': {'n_neighbors': 50, 'n_jobs': -1}, 'problem': 'classification'} \n",
      "\n",
      "(6743, 2) (6743, 1)\n",
      "knear_neighbors\n"
     ]
    },
    {
     "name": "stderr",
     "output_type": "stream",
     "text": [
      "100%|██████████████████████████████████████████████████████████████████████████████████| 38/38 [00:00<00:00, 51.29it/s]\n"
     ]
    },
    {
     "name": "stdout",
     "output_type": "stream",
     "text": [
      "Expected n_neighbors <= n_samples_fit, but n_neighbors = 50, n_samples_fit = 49, n_samples = 5\n",
      "Expected n_neighbors <= n_samples_fit, but n_neighbors = 50, n_samples_fit = 48, n_samples = 4\n",
      "Expected n_neighbors <= n_samples_fit, but n_neighbors = 50, n_samples_fit = 48, n_samples = 3\n",
      "Expected n_neighbors <= n_samples_fit, but n_neighbors = 50, n_samples_fit = 48, n_samples = 3\n",
      "Expected n_neighbors <= n_samples_fit, but n_neighbors = 50, n_samples_fit = 47, n_samples = 3\n",
      "Expected n_neighbors <= n_samples_fit, but n_neighbors = 50, n_samples_fit = 46, n_samples = 3\n",
      "Expected n_neighbors <= n_samples_fit, but n_neighbors = 50, n_samples_fit = 45, n_samples = 4\n",
      "Expected n_neighbors <= n_samples_fit, but n_neighbors = 50, n_samples_fit = 44, n_samples = 5\n",
      "Expected n_neighbors <= n_samples_fit, but n_neighbors = 50, n_samples_fit = 43, n_samples = 4\n",
      "Expected n_neighbors <= n_samples_fit, but n_neighbors = 50, n_samples_fit = 43, n_samples = 3\n",
      "Expected n_neighbors <= n_samples_fit, but n_neighbors = 50, n_samples_fit = 43, n_samples = 3\n",
      "Expected n_neighbors <= n_samples_fit, but n_neighbors = 50, n_samples_fit = 42, n_samples = 3\n",
      "Expected n_neighbors <= n_samples_fit, but n_neighbors = 50, n_samples_fit = 41, n_samples = 3\n",
      "Expected n_neighbors <= n_samples_fit, but n_neighbors = 50, n_samples_fit = 40, n_samples = 4\n",
      "Expected n_neighbors <= n_samples_fit, but n_neighbors = 50, n_samples_fit = 39, n_samples = 5\n",
      "Expected n_neighbors <= n_samples_fit, but n_neighbors = 50, n_samples_fit = 38, n_samples = 4\n",
      "Expected n_neighbors <= n_samples_fit, but n_neighbors = 50, n_samples_fit = 38, n_samples = 3\n",
      "Expected n_neighbors <= n_samples_fit, but n_neighbors = 50, n_samples_fit = 38, n_samples = 3\n",
      "knear_neighbors == {'unique_uuid': '34840542-fbf2-11ee-8a1b-c0e434d84b22', 'train_end': datetime.datetime(2023, 12, 29, 0, 0), 'test_start': datetime.datetime(2024, 1, 2, 0, 0), 'test_end': datetime.datetime(2024, 2, 8, 0, 0), 'duration_training_history': 90, 'target_column': 'growth', 'train_features': ['close_lag_1', 'close_max_3_days', 'close_min_3_days', 'close_mean_3_days'], 'path_to_result': '/diploma_info/datalake/', 'forecast_periods': 4, 'model_name': 'knear_neighbors', 'model': KNeighborsClassifier(n_jobs=-1, n_neighbors=50), 'forecast_frequency': 'daily', 'company': 'amazon', 'model_hyperparameters': {'n_neighbors': 50, 'n_jobs': -1}, 'problem': 'classification'} \n",
      "\n",
      "(6743, 4) (6743, 1)\n",
      "knear_neighbors\n"
     ]
    },
    {
     "name": "stderr",
     "output_type": "stream",
     "text": [
      "100%|█████████████████████████████████████████████████████████████████████████████████| 38/38 [00:00<00:00, 108.25it/s]\n"
     ]
    },
    {
     "name": "stdout",
     "output_type": "stream",
     "text": [
      "Expected n_neighbors <= n_samples_fit, but n_neighbors = 50, n_samples_fit = 49, n_samples = 5\n",
      "Expected n_neighbors <= n_samples_fit, but n_neighbors = 50, n_samples_fit = 48, n_samples = 4\n",
      "Expected n_neighbors <= n_samples_fit, but n_neighbors = 50, n_samples_fit = 48, n_samples = 3\n",
      "Expected n_neighbors <= n_samples_fit, but n_neighbors = 50, n_samples_fit = 48, n_samples = 3\n",
      "Expected n_neighbors <= n_samples_fit, but n_neighbors = 50, n_samples_fit = 47, n_samples = 3\n",
      "Expected n_neighbors <= n_samples_fit, but n_neighbors = 50, n_samples_fit = 46, n_samples = 3\n",
      "Expected n_neighbors <= n_samples_fit, but n_neighbors = 50, n_samples_fit = 45, n_samples = 4\n",
      "Expected n_neighbors <= n_samples_fit, but n_neighbors = 50, n_samples_fit = 44, n_samples = 5\n",
      "Expected n_neighbors <= n_samples_fit, but n_neighbors = 50, n_samples_fit = 43, n_samples = 4\n",
      "Expected n_neighbors <= n_samples_fit, but n_neighbors = 50, n_samples_fit = 43, n_samples = 3\n",
      "Expected n_neighbors <= n_samples_fit, but n_neighbors = 50, n_samples_fit = 43, n_samples = 3\n",
      "Expected n_neighbors <= n_samples_fit, but n_neighbors = 50, n_samples_fit = 42, n_samples = 3\n",
      "Expected n_neighbors <= n_samples_fit, but n_neighbors = 50, n_samples_fit = 41, n_samples = 3\n",
      "Expected n_neighbors <= n_samples_fit, but n_neighbors = 50, n_samples_fit = 40, n_samples = 4\n",
      "Expected n_neighbors <= n_samples_fit, but n_neighbors = 50, n_samples_fit = 39, n_samples = 5\n",
      "Expected n_neighbors <= n_samples_fit, but n_neighbors = 50, n_samples_fit = 38, n_samples = 4\n",
      "Expected n_neighbors <= n_samples_fit, but n_neighbors = 50, n_samples_fit = 38, n_samples = 3\n",
      "Expected n_neighbors <= n_samples_fit, but n_neighbors = 50, n_samples_fit = 38, n_samples = 3\n",
      "xgboost == {'unique_uuid': '34840543-fbf2-11ee-9720-c0e434d84b22', 'train_end': datetime.datetime(2023, 12, 29, 0, 0), 'test_start': datetime.datetime(2024, 1, 2, 0, 0), 'test_end': datetime.datetime(2024, 2, 8, 0, 0), 'duration_training_history': 120, 'target_column': 'growth', 'train_features': ['close_lag_1', 'volume_lag_1'], 'path_to_result': '/diploma_info/datalake/', 'forecast_periods': 4, 'model_name': 'xgboost', 'model': XGBClassifier(base_score=None, booster='gbtree', callbacks=None,\n",
      "              colsample_bylevel=None, colsample_bynode=None, colsample_bytree=1,\n",
      "              device=None, early_stopping_rounds=None, enable_categorical=False,\n",
      "              eta=0.3, eval_metric='rmse', feature_types=None, gamma=None,\n",
      "              grow_policy=None, importance_type=None,\n",
      "              interaction_constraints=None, learning_rate=None, max_bin=None,\n",
      "              max_cat_threshold=None, max_cat_to_onehot=None,\n",
      "              max_delta_step=None, max_depth=7, max_leaves=None,\n",
      "              min_child_weight=1, missing=nan, monotone_constraints=None,\n",
      "              multi_strategy=None, n_estimators=10, n_jobs=-1,\n",
      "              num_parallel_tree=None, ...), 'forecast_frequency': 'daily', 'company': 'amazon', 'model_hyperparameters': {'n_estimators': 10, 'n_jobs': -1, 'max_depth': 7, 'eta': 0.3, 'booster': 'gbtree', 'objective': 'reg:squarederror', 'eval_metric': 'rmse', 'subsample': 1, 'colsample_bytree': 1, 'min_child_weight': 1, 'random_state': 2}, 'problem': 'classification'} \n",
      "\n",
      "(6743, 2) (6743, 1)\n",
      "xgboost\n"
     ]
    },
    {
     "name": "stderr",
     "output_type": "stream",
     "text": [
      "100%|██████████████████████████████████████████████████████████████████████████████████| 38/38 [00:00<00:00, 56.71it/s]\n"
     ]
    },
    {
     "name": "stdout",
     "output_type": "stream",
     "text": [
      "xgboost == {'unique_uuid': '34840544-fbf2-11ee-a4df-c0e434d84b22', 'train_end': datetime.datetime(2023, 12, 29, 0, 0), 'test_start': datetime.datetime(2024, 1, 2, 0, 0), 'test_end': datetime.datetime(2024, 2, 8, 0, 0), 'duration_training_history': 120, 'target_column': 'growth', 'train_features': ['close_lag_1', 'close_max_3_days', 'close_min_3_days', 'close_mean_3_days'], 'path_to_result': '/diploma_info/datalake/', 'forecast_periods': 4, 'model_name': 'xgboost', 'model': XGBClassifier(base_score=None, booster='gbtree', callbacks=None,\n",
      "              colsample_bylevel=None, colsample_bynode=None, colsample_bytree=1,\n",
      "              device=None, early_stopping_rounds=None, enable_categorical=False,\n",
      "              eta=0.3, eval_metric='rmse', feature_types=None, gamma=None,\n",
      "              grow_policy=None, importance_type=None,\n",
      "              interaction_constraints=None, learning_rate=None, max_bin=None,\n",
      "              max_cat_threshold=None, max_cat_to_onehot=None,\n",
      "              max_delta_step=None, max_depth=7, max_leaves=None,\n",
      "              min_child_weight=1, missing=nan, monotone_constraints=None,\n",
      "              multi_strategy=None, n_estimators=10, n_jobs=-1,\n",
      "              num_parallel_tree=None, ...), 'forecast_frequency': 'daily', 'company': 'amazon', 'model_hyperparameters': {'n_estimators': 10, 'n_jobs': -1, 'max_depth': 7, 'eta': 0.3, 'booster': 'gbtree', 'objective': 'reg:squarederror', 'eval_metric': 'rmse', 'subsample': 1, 'colsample_bytree': 1, 'min_child_weight': 1, 'random_state': 2}, 'problem': 'classification'} \n",
      "\n",
      "(6743, 4) (6743, 1)\n",
      "xgboost\n"
     ]
    },
    {
     "name": "stderr",
     "output_type": "stream",
     "text": [
      "100%|██████████████████████████████████████████████████████████████████████████████████| 38/38 [00:00<00:00, 45.18it/s]\n"
     ]
    },
    {
     "name": "stdout",
     "output_type": "stream",
     "text": [
      "lightgbm == {'unique_uuid': '34840545-fbf2-11ee-830f-c0e434d84b22', 'train_end': datetime.datetime(2023, 12, 29, 0, 0), 'test_start': datetime.datetime(2024, 1, 2, 0, 0), 'test_end': datetime.datetime(2024, 2, 8, 0, 0), 'duration_training_history': 120, 'target_column': 'growth', 'train_features': ['close_lag_1', 'volume_lag_1'], 'path_to_result': '/diploma_info/datalake/', 'forecast_periods': 4, 'model_name': 'lightgbm', 'model': LGBMClassifier(eta=0.3, max_depth=7, metric='binary', n_estimators=200,\n",
      "               n_jobs=-1, objective='binary', random_state=2, verbosity=-1), 'forecast_frequency': 'daily', 'company': 'amazon', 'model_hyperparameters': {'n_estimators': 200, 'n_jobs': -1, 'max_depth': 7, 'eta': 0.3, 'random_state': 2, 'objective': 'binary', 'verbosity': -1, 'metric': 'binary'}, 'problem': 'classification'} \n",
      "\n",
      "(6743, 2) (6743, 1)\n",
      "lightgbm\n"
     ]
    },
    {
     "name": "stderr",
     "output_type": "stream",
     "text": [
      "100%|██████████████████████████████████████████████████████████████████████████████████| 38/38 [00:00<00:00, 38.89it/s]\n"
     ]
    },
    {
     "name": "stdout",
     "output_type": "stream",
     "text": [
      "lightgbm == {'unique_uuid': '34840546-fbf2-11ee-bb3f-c0e434d84b22', 'train_end': datetime.datetime(2023, 12, 29, 0, 0), 'test_start': datetime.datetime(2024, 1, 2, 0, 0), 'test_end': datetime.datetime(2024, 2, 8, 0, 0), 'duration_training_history': 120, 'target_column': 'growth', 'train_features': ['close_lag_1', 'close_max_3_days', 'close_min_3_days', 'close_mean_3_days'], 'path_to_result': '/diploma_info/datalake/', 'forecast_periods': 4, 'model_name': 'lightgbm', 'model': LGBMClassifier(eta=0.3, max_depth=7, metric='binary', n_estimators=200,\n",
      "               n_jobs=-1, objective='binary', random_state=2, verbosity=-1), 'forecast_frequency': 'daily', 'company': 'amazon', 'model_hyperparameters': {'n_estimators': 200, 'n_jobs': -1, 'max_depth': 7, 'eta': 0.3, 'random_state': 2, 'objective': 'binary', 'verbosity': -1, 'metric': 'binary'}, 'problem': 'classification'} \n",
      "\n",
      "(6743, 4) (6743, 1)\n",
      "lightgbm\n"
     ]
    },
    {
     "name": "stderr",
     "output_type": "stream",
     "text": [
      "100%|██████████████████████████████████████████████████████████████████████████████████| 38/38 [00:01<00:00, 35.22it/s]\n"
     ]
    },
    {
     "name": "stdout",
     "output_type": "stream",
     "text": [
      "random_forest == {'unique_uuid': '34840547-fbf2-11ee-a789-c0e434d84b22', 'train_end': datetime.datetime(2023, 12, 29, 0, 0), 'test_start': datetime.datetime(2024, 1, 2, 0, 0), 'test_end': datetime.datetime(2024, 2, 8, 0, 0), 'duration_training_history': 120, 'target_column': 'growth', 'train_features': ['close_lag_1', 'volume_lag_1'], 'path_to_result': '/diploma_info/datalake/', 'forecast_periods': 4, 'model_name': 'random_forest', 'model': RandomForestClassifier(max_depth=7, n_estimators=5000, n_jobs=-1,\n",
      "                       random_state=2), 'forecast_frequency': 'daily', 'company': 'amazon', 'model_hyperparameters': {'n_estimators': 5000, 'n_jobs': -1, 'random_state': 2, 'max_depth': 7}, 'problem': 'classification'} \n",
      "\n",
      "(6743, 2) (6743, 1)\n",
      "random_forest\n"
     ]
    },
    {
     "name": "stderr",
     "output_type": "stream",
     "text": [
      "100%|██████████████████████████████████████████████████████████████████████████████████| 38/38 [05:08<00:00,  8.13s/it]\n"
     ]
    },
    {
     "name": "stdout",
     "output_type": "stream",
     "text": [
      "random_forest == {'unique_uuid': '34840548-fbf2-11ee-bc95-c0e434d84b22', 'train_end': datetime.datetime(2023, 12, 29, 0, 0), 'test_start': datetime.datetime(2024, 1, 2, 0, 0), 'test_end': datetime.datetime(2024, 2, 8, 0, 0), 'duration_training_history': 120, 'target_column': 'growth', 'train_features': ['close_lag_1', 'close_max_3_days', 'close_min_3_days', 'close_mean_3_days'], 'path_to_result': '/diploma_info/datalake/', 'forecast_periods': 4, 'model_name': 'random_forest', 'model': RandomForestClassifier(max_depth=7, n_estimators=5000, n_jobs=-1,\n",
      "                       random_state=2), 'forecast_frequency': 'daily', 'company': 'amazon', 'model_hyperparameters': {'n_estimators': 5000, 'n_jobs': -1, 'random_state': 2, 'max_depth': 7}, 'problem': 'classification'} \n",
      "\n",
      "(6743, 4) (6743, 1)\n",
      "random_forest\n"
     ]
    },
    {
     "name": "stderr",
     "output_type": "stream",
     "text": [
      "100%|██████████████████████████████████████████████████████████████████████████████████| 38/38 [05:18<00:00,  8.37s/it]\n"
     ]
    },
    {
     "name": "stdout",
     "output_type": "stream",
     "text": [
      "knear_neighbors == {'unique_uuid': '34840549-fbf2-11ee-b35b-c0e434d84b22', 'train_end': datetime.datetime(2023, 12, 29, 0, 0), 'test_start': datetime.datetime(2024, 1, 2, 0, 0), 'test_end': datetime.datetime(2024, 2, 8, 0, 0), 'duration_training_history': 120, 'target_column': 'growth', 'train_features': ['close_lag_1', 'volume_lag_1'], 'path_to_result': '/diploma_info/datalake/', 'forecast_periods': 4, 'model_name': 'knear_neighbors', 'model': KNeighborsClassifier(n_jobs=-1, n_neighbors=50), 'forecast_frequency': 'daily', 'company': 'amazon', 'model_hyperparameters': {'n_neighbors': 50, 'n_jobs': -1}, 'problem': 'classification'} \n",
      "\n",
      "(6743, 2) (6743, 1)\n",
      "knear_neighbors\n"
     ]
    },
    {
     "name": "stderr",
     "output_type": "stream",
     "text": [
      "100%|██████████████████████████████████████████████████████████████████████████████████| 38/38 [00:00<00:00, 89.83it/s]\n"
     ]
    },
    {
     "name": "stdout",
     "output_type": "stream",
     "text": [
      "knear_neighbors == {'unique_uuid': '3484054a-fbf2-11ee-ae09-c0e434d84b22', 'train_end': datetime.datetime(2023, 12, 29, 0, 0), 'test_start': datetime.datetime(2024, 1, 2, 0, 0), 'test_end': datetime.datetime(2024, 2, 8, 0, 0), 'duration_training_history': 120, 'target_column': 'growth', 'train_features': ['close_lag_1', 'close_max_3_days', 'close_min_3_days', 'close_mean_3_days'], 'path_to_result': '/diploma_info/datalake/', 'forecast_periods': 4, 'model_name': 'knear_neighbors', 'model': KNeighborsClassifier(n_jobs=-1, n_neighbors=50), 'forecast_frequency': 'daily', 'company': 'amazon', 'model_hyperparameters': {'n_neighbors': 50, 'n_jobs': -1}, 'problem': 'classification'} \n",
      "\n",
      "(6743, 4) (6743, 1)\n",
      "knear_neighbors\n"
     ]
    },
    {
     "name": "stderr",
     "output_type": "stream",
     "text": [
      "100%|██████████████████████████████████████████████████████████████████████████████████| 38/38 [00:00<00:00, 77.81it/s]\n"
     ]
    },
    {
     "name": "stdout",
     "output_type": "stream",
     "text": [
      "xgboost == {'unique_uuid': '3484054b-fbf2-11ee-8e62-c0e434d84b22', 'train_end': datetime.datetime(2023, 12, 29, 0, 0), 'test_start': datetime.datetime(2024, 1, 2, 0, 0), 'test_end': datetime.datetime(2024, 2, 8, 0, 0), 'duration_training_history': 180, 'target_column': 'growth', 'train_features': ['close_lag_1', 'volume_lag_1'], 'path_to_result': '/diploma_info/datalake/', 'forecast_periods': 4, 'model_name': 'xgboost', 'model': XGBClassifier(base_score=None, booster='gbtree', callbacks=None,\n",
      "              colsample_bylevel=None, colsample_bynode=None, colsample_bytree=1,\n",
      "              device=None, early_stopping_rounds=None, enable_categorical=False,\n",
      "              eta=0.3, eval_metric='rmse', feature_types=None, gamma=None,\n",
      "              grow_policy=None, importance_type=None,\n",
      "              interaction_constraints=None, learning_rate=None, max_bin=None,\n",
      "              max_cat_threshold=None, max_cat_to_onehot=None,\n",
      "              max_delta_step=None, max_depth=7, max_leaves=None,\n",
      "              min_child_weight=1, missing=nan, monotone_constraints=None,\n",
      "              multi_strategy=None, n_estimators=10, n_jobs=-1,\n",
      "              num_parallel_tree=None, ...), 'forecast_frequency': 'daily', 'company': 'amazon', 'model_hyperparameters': {'n_estimators': 10, 'n_jobs': -1, 'max_depth': 7, 'eta': 0.3, 'booster': 'gbtree', 'objective': 'reg:squarederror', 'eval_metric': 'rmse', 'subsample': 1, 'colsample_bytree': 1, 'min_child_weight': 1, 'random_state': 2}, 'problem': 'classification'} \n",
      "\n",
      "(6743, 2) (6743, 1)\n",
      "xgboost\n"
     ]
    },
    {
     "name": "stderr",
     "output_type": "stream",
     "text": [
      "100%|██████████████████████████████████████████████████████████████████████████████████| 38/38 [00:00<00:00, 55.71it/s]\n"
     ]
    },
    {
     "name": "stdout",
     "output_type": "stream",
     "text": [
      "xgboost == {'unique_uuid': '3484054c-fbf2-11ee-8fb7-c0e434d84b22', 'train_end': datetime.datetime(2023, 12, 29, 0, 0), 'test_start': datetime.datetime(2024, 1, 2, 0, 0), 'test_end': datetime.datetime(2024, 2, 8, 0, 0), 'duration_training_history': 180, 'target_column': 'growth', 'train_features': ['close_lag_1', 'close_max_3_days', 'close_min_3_days', 'close_mean_3_days'], 'path_to_result': '/diploma_info/datalake/', 'forecast_periods': 4, 'model_name': 'xgboost', 'model': XGBClassifier(base_score=None, booster='gbtree', callbacks=None,\n",
      "              colsample_bylevel=None, colsample_bynode=None, colsample_bytree=1,\n",
      "              device=None, early_stopping_rounds=None, enable_categorical=False,\n",
      "              eta=0.3, eval_metric='rmse', feature_types=None, gamma=None,\n",
      "              grow_policy=None, importance_type=None,\n",
      "              interaction_constraints=None, learning_rate=None, max_bin=None,\n",
      "              max_cat_threshold=None, max_cat_to_onehot=None,\n",
      "              max_delta_step=None, max_depth=7, max_leaves=None,\n",
      "              min_child_weight=1, missing=nan, monotone_constraints=None,\n",
      "              multi_strategy=None, n_estimators=10, n_jobs=-1,\n",
      "              num_parallel_tree=None, ...), 'forecast_frequency': 'daily', 'company': 'amazon', 'model_hyperparameters': {'n_estimators': 10, 'n_jobs': -1, 'max_depth': 7, 'eta': 0.3, 'booster': 'gbtree', 'objective': 'reg:squarederror', 'eval_metric': 'rmse', 'subsample': 1, 'colsample_bytree': 1, 'min_child_weight': 1, 'random_state': 2}, 'problem': 'classification'} \n",
      "\n",
      "(6743, 4) (6743, 1)\n",
      "xgboost\n"
     ]
    },
    {
     "name": "stderr",
     "output_type": "stream",
     "text": [
      "100%|██████████████████████████████████████████████████████████████████████████████████| 38/38 [00:00<00:00, 49.80it/s]\n"
     ]
    },
    {
     "name": "stdout",
     "output_type": "stream",
     "text": [
      "lightgbm == {'unique_uuid': '3484054d-fbf2-11ee-991c-c0e434d84b22', 'train_end': datetime.datetime(2023, 12, 29, 0, 0), 'test_start': datetime.datetime(2024, 1, 2, 0, 0), 'test_end': datetime.datetime(2024, 2, 8, 0, 0), 'duration_training_history': 180, 'target_column': 'growth', 'train_features': ['close_lag_1', 'volume_lag_1'], 'path_to_result': '/diploma_info/datalake/', 'forecast_periods': 4, 'model_name': 'lightgbm', 'model': LGBMClassifier(eta=0.3, max_depth=7, metric='binary', n_estimators=200,\n",
      "               n_jobs=-1, objective='binary', random_state=2, verbosity=-1), 'forecast_frequency': 'daily', 'company': 'amazon', 'model_hyperparameters': {'n_estimators': 200, 'n_jobs': -1, 'max_depth': 7, 'eta': 0.3, 'random_state': 2, 'objective': 'binary', 'verbosity': -1, 'metric': 'binary'}, 'problem': 'classification'} \n",
      "\n",
      "(6743, 2) (6743, 1)\n",
      "lightgbm\n"
     ]
    },
    {
     "name": "stderr",
     "output_type": "stream",
     "text": [
      "100%|██████████████████████████████████████████████████████████████████████████████████| 38/38 [00:01<00:00, 35.31it/s]\n"
     ]
    },
    {
     "name": "stdout",
     "output_type": "stream",
     "text": [
      "lightgbm == {'unique_uuid': '3484054e-fbf2-11ee-a27b-c0e434d84b22', 'train_end': datetime.datetime(2023, 12, 29, 0, 0), 'test_start': datetime.datetime(2024, 1, 2, 0, 0), 'test_end': datetime.datetime(2024, 2, 8, 0, 0), 'duration_training_history': 180, 'target_column': 'growth', 'train_features': ['close_lag_1', 'close_max_3_days', 'close_min_3_days', 'close_mean_3_days'], 'path_to_result': '/diploma_info/datalake/', 'forecast_periods': 4, 'model_name': 'lightgbm', 'model': LGBMClassifier(eta=0.3, max_depth=7, metric='binary', n_estimators=200,\n",
      "               n_jobs=-1, objective='binary', random_state=2, verbosity=-1), 'forecast_frequency': 'daily', 'company': 'amazon', 'model_hyperparameters': {'n_estimators': 200, 'n_jobs': -1, 'max_depth': 7, 'eta': 0.3, 'random_state': 2, 'objective': 'binary', 'verbosity': -1, 'metric': 'binary'}, 'problem': 'classification'} \n",
      "\n",
      "(6743, 4) (6743, 1)\n",
      "lightgbm\n"
     ]
    },
    {
     "name": "stderr",
     "output_type": "stream",
     "text": [
      "100%|██████████████████████████████████████████████████████████████████████████████████| 38/38 [00:01<00:00, 32.90it/s]\n"
     ]
    },
    {
     "name": "stdout",
     "output_type": "stream",
     "text": [
      "random_forest == {'unique_uuid': '3484054f-fbf2-11ee-8065-c0e434d84b22', 'train_end': datetime.datetime(2023, 12, 29, 0, 0), 'test_start': datetime.datetime(2024, 1, 2, 0, 0), 'test_end': datetime.datetime(2024, 2, 8, 0, 0), 'duration_training_history': 180, 'target_column': 'growth', 'train_features': ['close_lag_1', 'volume_lag_1'], 'path_to_result': '/diploma_info/datalake/', 'forecast_periods': 4, 'model_name': 'random_forest', 'model': RandomForestClassifier(max_depth=7, n_estimators=5000, n_jobs=-1,\n",
      "                       random_state=2), 'forecast_frequency': 'daily', 'company': 'amazon', 'model_hyperparameters': {'n_estimators': 5000, 'n_jobs': -1, 'random_state': 2, 'max_depth': 7}, 'problem': 'classification'} \n",
      "\n",
      "(6743, 2) (6743, 1)\n",
      "random_forest\n"
     ]
    },
    {
     "name": "stderr",
     "output_type": "stream",
     "text": [
      "100%|██████████████████████████████████████████████████████████████████████████████████| 38/38 [05:16<00:00,  8.32s/it]\n"
     ]
    },
    {
     "name": "stdout",
     "output_type": "stream",
     "text": [
      "random_forest == {'unique_uuid': '34840550-fbf2-11ee-bb8c-c0e434d84b22', 'train_end': datetime.datetime(2023, 12, 29, 0, 0), 'test_start': datetime.datetime(2024, 1, 2, 0, 0), 'test_end': datetime.datetime(2024, 2, 8, 0, 0), 'duration_training_history': 180, 'target_column': 'growth', 'train_features': ['close_lag_1', 'close_max_3_days', 'close_min_3_days', 'close_mean_3_days'], 'path_to_result': '/diploma_info/datalake/', 'forecast_periods': 4, 'model_name': 'random_forest', 'model': RandomForestClassifier(max_depth=7, n_estimators=5000, n_jobs=-1,\n",
      "                       random_state=2), 'forecast_frequency': 'daily', 'company': 'amazon', 'model_hyperparameters': {'n_estimators': 5000, 'n_jobs': -1, 'random_state': 2, 'max_depth': 7}, 'problem': 'classification'} \n",
      "\n",
      "(6743, 4) (6743, 1)\n",
      "random_forest\n"
     ]
    },
    {
     "name": "stderr",
     "output_type": "stream",
     "text": [
      "100%|██████████████████████████████████████████████████████████████████████████████████| 38/38 [05:10<00:00,  8.18s/it]\n"
     ]
    },
    {
     "name": "stdout",
     "output_type": "stream",
     "text": [
      "knear_neighbors == {'unique_uuid': '34840551-fbf2-11ee-abd3-c0e434d84b22', 'train_end': datetime.datetime(2023, 12, 29, 0, 0), 'test_start': datetime.datetime(2024, 1, 2, 0, 0), 'test_end': datetime.datetime(2024, 2, 8, 0, 0), 'duration_training_history': 180, 'target_column': 'growth', 'train_features': ['close_lag_1', 'volume_lag_1'], 'path_to_result': '/diploma_info/datalake/', 'forecast_periods': 4, 'model_name': 'knear_neighbors', 'model': KNeighborsClassifier(n_jobs=-1, n_neighbors=50), 'forecast_frequency': 'daily', 'company': 'amazon', 'model_hyperparameters': {'n_neighbors': 50, 'n_jobs': -1}, 'problem': 'classification'} \n",
      "\n",
      "(6743, 2) (6743, 1)\n",
      "knear_neighbors\n"
     ]
    },
    {
     "name": "stderr",
     "output_type": "stream",
     "text": [
      "100%|██████████████████████████████████████████████████████████████████████████████████| 38/38 [00:01<00:00, 37.14it/s]\n"
     ]
    },
    {
     "name": "stdout",
     "output_type": "stream",
     "text": [
      "knear_neighbors == {'unique_uuid': '34840552-fbf2-11ee-9eb3-c0e434d84b22', 'train_end': datetime.datetime(2023, 12, 29, 0, 0), 'test_start': datetime.datetime(2024, 1, 2, 0, 0), 'test_end': datetime.datetime(2024, 2, 8, 0, 0), 'duration_training_history': 180, 'target_column': 'growth', 'train_features': ['close_lag_1', 'close_max_3_days', 'close_min_3_days', 'close_mean_3_days'], 'path_to_result': '/diploma_info/datalake/', 'forecast_periods': 4, 'model_name': 'knear_neighbors', 'model': KNeighborsClassifier(n_jobs=-1, n_neighbors=50), 'forecast_frequency': 'daily', 'company': 'amazon', 'model_hyperparameters': {'n_neighbors': 50, 'n_jobs': -1}, 'problem': 'classification'} \n",
      "\n",
      "(6743, 4) (6743, 1)\n",
      "knear_neighbors\n"
     ]
    },
    {
     "name": "stderr",
     "output_type": "stream",
     "text": [
      "100%|██████████████████████████████████████████████████████████████████████████████████| 38/38 [00:01<00:00, 35.31it/s]\n"
     ]
    },
    {
     "name": "stdout",
     "output_type": "stream",
     "text": [
      "xgboost == {'unique_uuid': '34840553-fbf2-11ee-8d89-c0e434d84b22', 'train_end': datetime.datetime(2023, 12, 29, 0, 0), 'test_start': datetime.datetime(2024, 1, 2, 0, 0), 'test_end': datetime.datetime(2024, 2, 8, 0, 0), 'duration_training_history': 240, 'target_column': 'growth', 'train_features': ['close_lag_1', 'volume_lag_1'], 'path_to_result': '/diploma_info/datalake/', 'forecast_periods': 4, 'model_name': 'xgboost', 'model': XGBClassifier(base_score=None, booster='gbtree', callbacks=None,\n",
      "              colsample_bylevel=None, colsample_bynode=None, colsample_bytree=1,\n",
      "              device=None, early_stopping_rounds=None, enable_categorical=False,\n",
      "              eta=0.3, eval_metric='rmse', feature_types=None, gamma=None,\n",
      "              grow_policy=None, importance_type=None,\n",
      "              interaction_constraints=None, learning_rate=None, max_bin=None,\n",
      "              max_cat_threshold=None, max_cat_to_onehot=None,\n",
      "              max_delta_step=None, max_depth=7, max_leaves=None,\n",
      "              min_child_weight=1, missing=nan, monotone_constraints=None,\n",
      "              multi_strategy=None, n_estimators=10, n_jobs=-1,\n",
      "              num_parallel_tree=None, ...), 'forecast_frequency': 'daily', 'company': 'amazon', 'model_hyperparameters': {'n_estimators': 10, 'n_jobs': -1, 'max_depth': 7, 'eta': 0.3, 'booster': 'gbtree', 'objective': 'reg:squarederror', 'eval_metric': 'rmse', 'subsample': 1, 'colsample_bytree': 1, 'min_child_weight': 1, 'random_state': 2}, 'problem': 'classification'} \n",
      "\n",
      "(6743, 2) (6743, 1)\n",
      "xgboost\n"
     ]
    },
    {
     "name": "stderr",
     "output_type": "stream",
     "text": [
      "100%|██████████████████████████████████████████████████████████████████████████████████| 38/38 [00:00<00:00, 54.91it/s]\n"
     ]
    },
    {
     "name": "stdout",
     "output_type": "stream",
     "text": [
      "xgboost == {'unique_uuid': '34840554-fbf2-11ee-8baf-c0e434d84b22', 'train_end': datetime.datetime(2023, 12, 29, 0, 0), 'test_start': datetime.datetime(2024, 1, 2, 0, 0), 'test_end': datetime.datetime(2024, 2, 8, 0, 0), 'duration_training_history': 240, 'target_column': 'growth', 'train_features': ['close_lag_1', 'close_max_3_days', 'close_min_3_days', 'close_mean_3_days'], 'path_to_result': '/diploma_info/datalake/', 'forecast_periods': 4, 'model_name': 'xgboost', 'model': XGBClassifier(base_score=None, booster='gbtree', callbacks=None,\n",
      "              colsample_bylevel=None, colsample_bynode=None, colsample_bytree=1,\n",
      "              device=None, early_stopping_rounds=None, enable_categorical=False,\n",
      "              eta=0.3, eval_metric='rmse', feature_types=None, gamma=None,\n",
      "              grow_policy=None, importance_type=None,\n",
      "              interaction_constraints=None, learning_rate=None, max_bin=None,\n",
      "              max_cat_threshold=None, max_cat_to_onehot=None,\n",
      "              max_delta_step=None, max_depth=7, max_leaves=None,\n",
      "              min_child_weight=1, missing=nan, monotone_constraints=None,\n",
      "              multi_strategy=None, n_estimators=10, n_jobs=-1,\n",
      "              num_parallel_tree=None, ...), 'forecast_frequency': 'daily', 'company': 'amazon', 'model_hyperparameters': {'n_estimators': 10, 'n_jobs': -1, 'max_depth': 7, 'eta': 0.3, 'booster': 'gbtree', 'objective': 'reg:squarederror', 'eval_metric': 'rmse', 'subsample': 1, 'colsample_bytree': 1, 'min_child_weight': 1, 'random_state': 2}, 'problem': 'classification'} \n",
      "\n",
      "(6743, 4) (6743, 1)\n",
      "xgboost\n"
     ]
    },
    {
     "name": "stderr",
     "output_type": "stream",
     "text": [
      "100%|██████████████████████████████████████████████████████████████████████████████████| 38/38 [00:00<00:00, 50.39it/s]\n"
     ]
    },
    {
     "name": "stdout",
     "output_type": "stream",
     "text": [
      "lightgbm == {'unique_uuid': '34840555-fbf2-11ee-9a98-c0e434d84b22', 'train_end': datetime.datetime(2023, 12, 29, 0, 0), 'test_start': datetime.datetime(2024, 1, 2, 0, 0), 'test_end': datetime.datetime(2024, 2, 8, 0, 0), 'duration_training_history': 240, 'target_column': 'growth', 'train_features': ['close_lag_1', 'volume_lag_1'], 'path_to_result': '/diploma_info/datalake/', 'forecast_periods': 4, 'model_name': 'lightgbm', 'model': LGBMClassifier(eta=0.3, max_depth=7, metric='binary', n_estimators=200,\n",
      "               n_jobs=-1, objective='binary', random_state=2, verbosity=-1), 'forecast_frequency': 'daily', 'company': 'amazon', 'model_hyperparameters': {'n_estimators': 200, 'n_jobs': -1, 'max_depth': 7, 'eta': 0.3, 'random_state': 2, 'objective': 'binary', 'verbosity': -1, 'metric': 'binary'}, 'problem': 'classification'} \n",
      "\n",
      "(6743, 2) (6743, 1)\n",
      "lightgbm\n"
     ]
    },
    {
     "name": "stderr",
     "output_type": "stream",
     "text": [
      "100%|██████████████████████████████████████████████████████████████████████████████████| 38/38 [00:01<00:00, 32.09it/s]\n"
     ]
    },
    {
     "name": "stdout",
     "output_type": "stream",
     "text": [
      "lightgbm == {'unique_uuid': '34840556-fbf2-11ee-a0a7-c0e434d84b22', 'train_end': datetime.datetime(2023, 12, 29, 0, 0), 'test_start': datetime.datetime(2024, 1, 2, 0, 0), 'test_end': datetime.datetime(2024, 2, 8, 0, 0), 'duration_training_history': 240, 'target_column': 'growth', 'train_features': ['close_lag_1', 'close_max_3_days', 'close_min_3_days', 'close_mean_3_days'], 'path_to_result': '/diploma_info/datalake/', 'forecast_periods': 4, 'model_name': 'lightgbm', 'model': LGBMClassifier(eta=0.3, max_depth=7, metric='binary', n_estimators=200,\n",
      "               n_jobs=-1, objective='binary', random_state=2, verbosity=-1), 'forecast_frequency': 'daily', 'company': 'amazon', 'model_hyperparameters': {'n_estimators': 200, 'n_jobs': -1, 'max_depth': 7, 'eta': 0.3, 'random_state': 2, 'objective': 'binary', 'verbosity': -1, 'metric': 'binary'}, 'problem': 'classification'} \n",
      "\n",
      "(6743, 4) (6743, 1)\n",
      "lightgbm\n"
     ]
    },
    {
     "name": "stderr",
     "output_type": "stream",
     "text": [
      "100%|██████████████████████████████████████████████████████████████████████████████████| 38/38 [00:01<00:00, 30.04it/s]\n"
     ]
    },
    {
     "name": "stdout",
     "output_type": "stream",
     "text": [
      "random_forest == {'unique_uuid': '34840557-fbf2-11ee-a298-c0e434d84b22', 'train_end': datetime.datetime(2023, 12, 29, 0, 0), 'test_start': datetime.datetime(2024, 1, 2, 0, 0), 'test_end': datetime.datetime(2024, 2, 8, 0, 0), 'duration_training_history': 240, 'target_column': 'growth', 'train_features': ['close_lag_1', 'volume_lag_1'], 'path_to_result': '/diploma_info/datalake/', 'forecast_periods': 4, 'model_name': 'random_forest', 'model': RandomForestClassifier(max_depth=7, n_estimators=5000, n_jobs=-1,\n",
      "                       random_state=2), 'forecast_frequency': 'daily', 'company': 'amazon', 'model_hyperparameters': {'n_estimators': 5000, 'n_jobs': -1, 'random_state': 2, 'max_depth': 7}, 'problem': 'classification'} \n",
      "\n",
      "(6743, 2) (6743, 1)\n",
      "random_forest\n"
     ]
    },
    {
     "name": "stderr",
     "output_type": "stream",
     "text": [
      "100%|██████████████████████████████████████████████████████████████████████████████████| 38/38 [05:11<00:00,  8.19s/it]\n"
     ]
    },
    {
     "name": "stdout",
     "output_type": "stream",
     "text": [
      "random_forest == {'unique_uuid': '34840558-fbf2-11ee-9c12-c0e434d84b22', 'train_end': datetime.datetime(2023, 12, 29, 0, 0), 'test_start': datetime.datetime(2024, 1, 2, 0, 0), 'test_end': datetime.datetime(2024, 2, 8, 0, 0), 'duration_training_history': 240, 'target_column': 'growth', 'train_features': ['close_lag_1', 'close_max_3_days', 'close_min_3_days', 'close_mean_3_days'], 'path_to_result': '/diploma_info/datalake/', 'forecast_periods': 4, 'model_name': 'random_forest', 'model': RandomForestClassifier(max_depth=7, n_estimators=5000, n_jobs=-1,\n",
      "                       random_state=2), 'forecast_frequency': 'daily', 'company': 'amazon', 'model_hyperparameters': {'n_estimators': 5000, 'n_jobs': -1, 'random_state': 2, 'max_depth': 7}, 'problem': 'classification'} \n",
      "\n",
      "(6743, 4) (6743, 1)\n",
      "random_forest\n"
     ]
    },
    {
     "name": "stderr",
     "output_type": "stream",
     "text": [
      "100%|██████████████████████████████████████████████████████████████████████████████████| 38/38 [05:12<00:00,  8.22s/it]\n"
     ]
    },
    {
     "name": "stdout",
     "output_type": "stream",
     "text": [
      "knear_neighbors == {'unique_uuid': '34840559-fbf2-11ee-a172-c0e434d84b22', 'train_end': datetime.datetime(2023, 12, 29, 0, 0), 'test_start': datetime.datetime(2024, 1, 2, 0, 0), 'test_end': datetime.datetime(2024, 2, 8, 0, 0), 'duration_training_history': 240, 'target_column': 'growth', 'train_features': ['close_lag_1', 'volume_lag_1'], 'path_to_result': '/diploma_info/datalake/', 'forecast_periods': 4, 'model_name': 'knear_neighbors', 'model': KNeighborsClassifier(n_jobs=-1, n_neighbors=50), 'forecast_frequency': 'daily', 'company': 'amazon', 'model_hyperparameters': {'n_neighbors': 50, 'n_jobs': -1}, 'problem': 'classification'} \n",
      "\n",
      "(6743, 2) (6743, 1)\n",
      "knear_neighbors\n"
     ]
    },
    {
     "name": "stderr",
     "output_type": "stream",
     "text": [
      "100%|██████████████████████████████████████████████████████████████████████████████████| 38/38 [00:01<00:00, 35.01it/s]\n"
     ]
    },
    {
     "name": "stdout",
     "output_type": "stream",
     "text": [
      "knear_neighbors == {'unique_uuid': '3484055a-fbf2-11ee-a59e-c0e434d84b22', 'train_end': datetime.datetime(2023, 12, 29, 0, 0), 'test_start': datetime.datetime(2024, 1, 2, 0, 0), 'test_end': datetime.datetime(2024, 2, 8, 0, 0), 'duration_training_history': 240, 'target_column': 'growth', 'train_features': ['close_lag_1', 'close_max_3_days', 'close_min_3_days', 'close_mean_3_days'], 'path_to_result': '/diploma_info/datalake/', 'forecast_periods': 4, 'model_name': 'knear_neighbors', 'model': KNeighborsClassifier(n_jobs=-1, n_neighbors=50), 'forecast_frequency': 'daily', 'company': 'amazon', 'model_hyperparameters': {'n_neighbors': 50, 'n_jobs': -1}, 'problem': 'classification'} \n",
      "\n",
      "(6743, 4) (6743, 1)\n",
      "knear_neighbors\n"
     ]
    },
    {
     "name": "stderr",
     "output_type": "stream",
     "text": [
      "100%|██████████████████████████████████████████████████████████████████████████████████| 38/38 [00:01<00:00, 34.73it/s]\n"
     ]
    },
    {
     "name": "stdout",
     "output_type": "stream",
     "text": [
      "company: APPLE\t period: daily\t train ends: 2023-12-29 00:00:00\t test starts: 2024-01-02 00:00:00\n",
      "_research_task_uuid = 1b07614d-fbf8-11ee-9d52-c0e434d84b22\n",
      "\n",
      "count_configs 72 \n",
      "\n",
      "xgboost == {'unique_uuid': '1b07614e-fbf8-11ee-b4bd-c0e434d84b22', 'train_end': datetime.datetime(2023, 12, 29, 0, 0), 'test_start': datetime.datetime(2024, 1, 2, 0, 0), 'test_end': datetime.datetime(2024, 2, 8, 0, 0), 'duration_training_history': 90, 'target_column': 'growth', 'train_features': ['close_lag_1', 'volume_lag_1'], 'path_to_result': '/diploma_info/datalake/', 'forecast_periods': 4, 'model_name': 'xgboost', 'model': XGBClassifier(base_score=None, booster='gbtree', callbacks=None,\n",
      "              colsample_bylevel=None, colsample_bynode=None, colsample_bytree=1,\n",
      "              device=None, early_stopping_rounds=None, enable_categorical=False,\n",
      "              eta=0.3, eval_metric='rmse', feature_types=None, gamma=None,\n",
      "              grow_policy=None, importance_type=None,\n",
      "              interaction_constraints=None, learning_rate=None, max_bin=None,\n",
      "              max_cat_threshold=None, max_cat_to_onehot=None,\n",
      "              max_delta_step=None, max_depth=7, max_leaves=None,\n",
      "              min_child_weight=1, missing=nan, monotone_constraints=None,\n",
      "              multi_strategy=None, n_estimators=10, n_jobs=-1,\n",
      "              num_parallel_tree=None, ...), 'forecast_frequency': 'daily', 'company': 'apple', 'model_hyperparameters': {'n_estimators': 10, 'n_jobs': -1, 'max_depth': 7, 'eta': 0.3, 'booster': 'gbtree', 'objective': 'reg:squarederror', 'eval_metric': 'rmse', 'subsample': 1, 'colsample_bytree': 1, 'min_child_weight': 1, 'random_state': 2}, 'problem': 'classification'} \n",
      "\n",
      "(10895, 2) (10895, 1)\n",
      "xgboost\n"
     ]
    },
    {
     "name": "stderr",
     "output_type": "stream",
     "text": [
      "100%|██████████████████████████████████████████████████████████████████████████████████| 38/38 [00:00<00:00, 58.91it/s]\n"
     ]
    },
    {
     "name": "stdout",
     "output_type": "stream",
     "text": [
      "xgboost == {'unique_uuid': '1b07885a-fbf8-11ee-bf1b-c0e434d84b22', 'train_end': datetime.datetime(2023, 12, 29, 0, 0), 'test_start': datetime.datetime(2024, 1, 2, 0, 0), 'test_end': datetime.datetime(2024, 2, 8, 0, 0), 'duration_training_history': 90, 'target_column': 'growth', 'train_features': ['close_lag_1', 'year', 'month', 'day', 'day_of_week', 'week_of_year'], 'path_to_result': '/diploma_info/datalake/', 'forecast_periods': 4, 'model_name': 'xgboost', 'model': XGBClassifier(base_score=None, booster='gbtree', callbacks=None,\n",
      "              colsample_bylevel=None, colsample_bynode=None, colsample_bytree=1,\n",
      "              device=None, early_stopping_rounds=None, enable_categorical=False,\n",
      "              eta=0.3, eval_metric='rmse', feature_types=None, gamma=None,\n",
      "              grow_policy=None, importance_type=None,\n",
      "              interaction_constraints=None, learning_rate=None, max_bin=None,\n",
      "              max_cat_threshold=None, max_cat_to_onehot=None,\n",
      "              max_delta_step=None, max_depth=7, max_leaves=None,\n",
      "              min_child_weight=1, missing=nan, monotone_constraints=None,\n",
      "              multi_strategy=None, n_estimators=10, n_jobs=-1,\n",
      "              num_parallel_tree=None, ...), 'forecast_frequency': 'daily', 'company': 'apple', 'model_hyperparameters': {'n_estimators': 10, 'n_jobs': -1, 'max_depth': 7, 'eta': 0.3, 'booster': 'gbtree', 'objective': 'reg:squarederror', 'eval_metric': 'rmse', 'subsample': 1, 'colsample_bytree': 1, 'min_child_weight': 1, 'random_state': 2}, 'problem': 'classification'} \n",
      "\n",
      "(10895, 6) (10895, 1)\n",
      "xgboost\n"
     ]
    },
    {
     "name": "stderr",
     "output_type": "stream",
     "text": [
      "100%|██████████████████████████████████████████████████████████████████████████████████| 38/38 [00:00<00:00, 56.13it/s]\n"
     ]
    },
    {
     "name": "stdout",
     "output_type": "stream",
     "text": [
      "xgboost == {'unique_uuid': '1b07885b-fbf8-11ee-b3b8-c0e434d84b22', 'train_end': datetime.datetime(2023, 12, 29, 0, 0), 'test_start': datetime.datetime(2024, 1, 2, 0, 0), 'test_end': datetime.datetime(2024, 2, 8, 0, 0), 'duration_training_history': 90, 'target_column': 'growth', 'train_features': ['close_lag_1', 'volume_lag_1'], 'path_to_result': '/diploma_info/datalake/', 'forecast_periods': 4, 'model_name': 'xgboost', 'model': XGBClassifier(base_score=None, booster='gbtree', callbacks=None,\n",
      "              colsample_bylevel=None, colsample_bynode=None, colsample_bytree=1,\n",
      "              device=None, early_stopping_rounds=None, enable_categorical=False,\n",
      "              eta=0.3, eval_metric='rmse', feature_types=None, gamma=None,\n",
      "              grow_policy=None, importance_type=None,\n",
      "              interaction_constraints=None, learning_rate=None, max_bin=None,\n",
      "              max_cat_threshold=None, max_cat_to_onehot=None,\n",
      "              max_delta_step=None, max_depth=7, max_leaves=None,\n",
      "              min_child_weight=1, missing=nan, monotone_constraints=None,\n",
      "              multi_strategy=None, n_estimators=200, n_jobs=-1,\n",
      "              num_parallel_tree=None, ...), 'forecast_frequency': 'daily', 'company': 'apple', 'model_hyperparameters': {'n_estimators': 200, 'n_jobs': -1, 'max_depth': 7, 'eta': 0.3, 'booster': 'gbtree', 'objective': 'reg:squarederror', 'eval_metric': 'rmse', 'subsample': 1, 'colsample_bytree': 1, 'min_child_weight': 1, 'random_state': 2}, 'problem': 'classification'} \n",
      "\n",
      "(10895, 2) (10895, 1)\n",
      "xgboost\n"
     ]
    },
    {
     "name": "stderr",
     "output_type": "stream",
     "text": [
      "100%|██████████████████████████████████████████████████████████████████████████████████| 38/38 [00:01<00:00, 20.18it/s]\n"
     ]
    },
    {
     "name": "stdout",
     "output_type": "stream",
     "text": [
      "xgboost == {'unique_uuid': '1b07885c-fbf8-11ee-943f-c0e434d84b22', 'train_end': datetime.datetime(2023, 12, 29, 0, 0), 'test_start': datetime.datetime(2024, 1, 2, 0, 0), 'test_end': datetime.datetime(2024, 2, 8, 0, 0), 'duration_training_history': 90, 'target_column': 'growth', 'train_features': ['close_lag_1', 'year', 'month', 'day', 'day_of_week', 'week_of_year'], 'path_to_result': '/diploma_info/datalake/', 'forecast_periods': 4, 'model_name': 'xgboost', 'model': XGBClassifier(base_score=None, booster='gbtree', callbacks=None,\n",
      "              colsample_bylevel=None, colsample_bynode=None, colsample_bytree=1,\n",
      "              device=None, early_stopping_rounds=None, enable_categorical=False,\n",
      "              eta=0.3, eval_metric='rmse', feature_types=None, gamma=None,\n",
      "              grow_policy=None, importance_type=None,\n",
      "              interaction_constraints=None, learning_rate=None, max_bin=None,\n",
      "              max_cat_threshold=None, max_cat_to_onehot=None,\n",
      "              max_delta_step=None, max_depth=7, max_leaves=None,\n",
      "              min_child_weight=1, missing=nan, monotone_constraints=None,\n",
      "              multi_strategy=None, n_estimators=200, n_jobs=-1,\n",
      "              num_parallel_tree=None, ...), 'forecast_frequency': 'daily', 'company': 'apple', 'model_hyperparameters': {'n_estimators': 200, 'n_jobs': -1, 'max_depth': 7, 'eta': 0.3, 'booster': 'gbtree', 'objective': 'reg:squarederror', 'eval_metric': 'rmse', 'subsample': 1, 'colsample_bytree': 1, 'min_child_weight': 1, 'random_state': 2}, 'problem': 'classification'} \n",
      "\n",
      "(10895, 6) (10895, 1)\n",
      "xgboost\n"
     ]
    },
    {
     "name": "stderr",
     "output_type": "stream",
     "text": [
      "100%|██████████████████████████████████████████████████████████████████████████████████| 38/38 [00:01<00:00, 19.35it/s]\n"
     ]
    },
    {
     "name": "stdout",
     "output_type": "stream",
     "text": [
      "xgboost == {'unique_uuid': '1b07885d-fbf8-11ee-b4f7-c0e434d84b22', 'train_end': datetime.datetime(2023, 12, 29, 0, 0), 'test_start': datetime.datetime(2024, 1, 2, 0, 0), 'test_end': datetime.datetime(2024, 2, 8, 0, 0), 'duration_training_history': 90, 'target_column': 'growth', 'train_features': ['close_lag_1', 'volume_lag_1'], 'path_to_result': '/diploma_info/datalake/', 'forecast_periods': 4, 'model_name': 'xgboost', 'model': XGBClassifier(base_score=None, booster='gbtree', callbacks=None,\n",
      "              colsample_bylevel=None, colsample_bynode=None, colsample_bytree=1,\n",
      "              device=None, early_stopping_rounds=None, enable_categorical=False,\n",
      "              eta=0.3, eval_metric='rmse', feature_types=None, gamma=None,\n",
      "              grow_policy=None, importance_type=None,\n",
      "              interaction_constraints=None, learning_rate=None, max_bin=None,\n",
      "              max_cat_threshold=None, max_cat_to_onehot=None,\n",
      "              max_delta_step=None, max_depth=9, max_leaves=None,\n",
      "              min_child_weight=1, missing=nan, monotone_constraints=None,\n",
      "              multi_strategy=None, n_estimators=10, n_jobs=-1,\n",
      "              num_parallel_tree=None, ...), 'forecast_frequency': 'daily', 'company': 'apple', 'model_hyperparameters': {'n_estimators': 10, 'n_jobs': -1, 'max_depth': 9, 'eta': 0.3, 'booster': 'gbtree', 'objective': 'reg:squarederror', 'eval_metric': 'rmse', 'subsample': 1, 'colsample_bytree': 1, 'min_child_weight': 1, 'random_state': 2}, 'problem': 'classification'} \n",
      "\n",
      "(10895, 2) (10895, 1)\n",
      "xgboost\n"
     ]
    },
    {
     "name": "stderr",
     "output_type": "stream",
     "text": [
      "100%|██████████████████████████████████████████████████████████████████████████████████| 38/38 [00:00<00:00, 55.31it/s]\n"
     ]
    },
    {
     "name": "stdout",
     "output_type": "stream",
     "text": [
      "xgboost == {'unique_uuid': '1b07885e-fbf8-11ee-b606-c0e434d84b22', 'train_end': datetime.datetime(2023, 12, 29, 0, 0), 'test_start': datetime.datetime(2024, 1, 2, 0, 0), 'test_end': datetime.datetime(2024, 2, 8, 0, 0), 'duration_training_history': 90, 'target_column': 'growth', 'train_features': ['close_lag_1', 'year', 'month', 'day', 'day_of_week', 'week_of_year'], 'path_to_result': '/diploma_info/datalake/', 'forecast_periods': 4, 'model_name': 'xgboost', 'model': XGBClassifier(base_score=None, booster='gbtree', callbacks=None,\n",
      "              colsample_bylevel=None, colsample_bynode=None, colsample_bytree=1,\n",
      "              device=None, early_stopping_rounds=None, enable_categorical=False,\n",
      "              eta=0.3, eval_metric='rmse', feature_types=None, gamma=None,\n",
      "              grow_policy=None, importance_type=None,\n",
      "              interaction_constraints=None, learning_rate=None, max_bin=None,\n",
      "              max_cat_threshold=None, max_cat_to_onehot=None,\n",
      "              max_delta_step=None, max_depth=9, max_leaves=None,\n",
      "              min_child_weight=1, missing=nan, monotone_constraints=None,\n",
      "              multi_strategy=None, n_estimators=10, n_jobs=-1,\n",
      "              num_parallel_tree=None, ...), 'forecast_frequency': 'daily', 'company': 'apple', 'model_hyperparameters': {'n_estimators': 10, 'n_jobs': -1, 'max_depth': 9, 'eta': 0.3, 'booster': 'gbtree', 'objective': 'reg:squarederror', 'eval_metric': 'rmse', 'subsample': 1, 'colsample_bytree': 1, 'min_child_weight': 1, 'random_state': 2}, 'problem': 'classification'} \n",
      "\n",
      "(10895, 6) (10895, 1)\n",
      "xgboost\n"
     ]
    },
    {
     "name": "stderr",
     "output_type": "stream",
     "text": [
      "100%|██████████████████████████████████████████████████████████████████████████████████| 38/38 [00:00<00:00, 54.99it/s]\n"
     ]
    },
    {
     "name": "stdout",
     "output_type": "stream",
     "text": [
      "xgboost == {'unique_uuid': '1b07885f-fbf8-11ee-ab31-c0e434d84b22', 'train_end': datetime.datetime(2023, 12, 29, 0, 0), 'test_start': datetime.datetime(2024, 1, 2, 0, 0), 'test_end': datetime.datetime(2024, 2, 8, 0, 0), 'duration_training_history': 90, 'target_column': 'growth', 'train_features': ['close_lag_1', 'volume_lag_1'], 'path_to_result': '/diploma_info/datalake/', 'forecast_periods': 4, 'model_name': 'xgboost', 'model': XGBClassifier(base_score=None, booster='gbtree', callbacks=None,\n",
      "              colsample_bylevel=None, colsample_bynode=None, colsample_bytree=1,\n",
      "              device=None, early_stopping_rounds=None, enable_categorical=False,\n",
      "              eta=0.3, eval_metric='rmse', feature_types=None, gamma=None,\n",
      "              grow_policy=None, importance_type=None,\n",
      "              interaction_constraints=None, learning_rate=None, max_bin=None,\n",
      "              max_cat_threshold=None, max_cat_to_onehot=None,\n",
      "              max_delta_step=None, max_depth=9, max_leaves=None,\n",
      "              min_child_weight=1, missing=nan, monotone_constraints=None,\n",
      "              multi_strategy=None, n_estimators=200, n_jobs=-1,\n",
      "              num_parallel_tree=None, ...), 'forecast_frequency': 'daily', 'company': 'apple', 'model_hyperparameters': {'n_estimators': 200, 'n_jobs': -1, 'max_depth': 9, 'eta': 0.3, 'booster': 'gbtree', 'objective': 'reg:squarederror', 'eval_metric': 'rmse', 'subsample': 1, 'colsample_bytree': 1, 'min_child_weight': 1, 'random_state': 2}, 'problem': 'classification'} \n",
      "\n",
      "(10895, 2) (10895, 1)\n",
      "xgboost\n"
     ]
    },
    {
     "name": "stderr",
     "output_type": "stream",
     "text": [
      "100%|██████████████████████████████████████████████████████████████████████████████████| 38/38 [00:01<00:00, 20.27it/s]\n"
     ]
    },
    {
     "name": "stdout",
     "output_type": "stream",
     "text": [
      "xgboost == {'unique_uuid': '1b078860-fbf8-11ee-9e92-c0e434d84b22', 'train_end': datetime.datetime(2023, 12, 29, 0, 0), 'test_start': datetime.datetime(2024, 1, 2, 0, 0), 'test_end': datetime.datetime(2024, 2, 8, 0, 0), 'duration_training_history': 90, 'target_column': 'growth', 'train_features': ['close_lag_1', 'year', 'month', 'day', 'day_of_week', 'week_of_year'], 'path_to_result': '/diploma_info/datalake/', 'forecast_periods': 4, 'model_name': 'xgboost', 'model': XGBClassifier(base_score=None, booster='gbtree', callbacks=None,\n",
      "              colsample_bylevel=None, colsample_bynode=None, colsample_bytree=1,\n",
      "              device=None, early_stopping_rounds=None, enable_categorical=False,\n",
      "              eta=0.3, eval_metric='rmse', feature_types=None, gamma=None,\n",
      "              grow_policy=None, importance_type=None,\n",
      "              interaction_constraints=None, learning_rate=None, max_bin=None,\n",
      "              max_cat_threshold=None, max_cat_to_onehot=None,\n",
      "              max_delta_step=None, max_depth=9, max_leaves=None,\n",
      "              min_child_weight=1, missing=nan, monotone_constraints=None,\n",
      "              multi_strategy=None, n_estimators=200, n_jobs=-1,\n",
      "              num_parallel_tree=None, ...), 'forecast_frequency': 'daily', 'company': 'apple', 'model_hyperparameters': {'n_estimators': 200, 'n_jobs': -1, 'max_depth': 9, 'eta': 0.3, 'booster': 'gbtree', 'objective': 'reg:squarederror', 'eval_metric': 'rmse', 'subsample': 1, 'colsample_bytree': 1, 'min_child_weight': 1, 'random_state': 2}, 'problem': 'classification'} \n",
      "\n",
      "(10895, 6) (10895, 1)\n",
      "xgboost\n"
     ]
    },
    {
     "name": "stderr",
     "output_type": "stream",
     "text": [
      "100%|██████████████████████████████████████████████████████████████████████████████████| 38/38 [00:01<00:00, 19.33it/s]\n"
     ]
    },
    {
     "name": "stdout",
     "output_type": "stream",
     "text": [
      "lightgbm == {'unique_uuid': '1b078861-fbf8-11ee-834c-c0e434d84b22', 'train_end': datetime.datetime(2023, 12, 29, 0, 0), 'test_start': datetime.datetime(2024, 1, 2, 0, 0), 'test_end': datetime.datetime(2024, 2, 8, 0, 0), 'duration_training_history': 90, 'target_column': 'growth', 'train_features': ['close_lag_1', 'volume_lag_1'], 'path_to_result': '/diploma_info/datalake/', 'forecast_periods': 4, 'model_name': 'lightgbm', 'model': LGBMClassifier(eta=0.3, max_depth=7, metric='binary', n_estimators=5000,\n",
      "               n_jobs=-1, objective='binary', random_state=2, verbosity=-1), 'forecast_frequency': 'daily', 'company': 'apple', 'model_hyperparameters': {'n_estimators': 5000, 'n_jobs': -1, 'max_depth': 7, 'eta': 0.3, 'random_state': 2, 'objective': 'binary', 'verbosity': -1, 'metric': 'binary'}, 'problem': 'classification'} \n",
      "\n",
      "(10895, 2) (10895, 1)\n",
      "lightgbm\n"
     ]
    },
    {
     "name": "stderr",
     "output_type": "stream",
     "text": [
      "100%|██████████████████████████████████████████████████████████████████████████████████| 38/38 [00:12<00:00,  3.12it/s]\n"
     ]
    },
    {
     "name": "stdout",
     "output_type": "stream",
     "text": [
      "lightgbm == {'unique_uuid': '1b078862-fbf8-11ee-a9dd-c0e434d84b22', 'train_end': datetime.datetime(2023, 12, 29, 0, 0), 'test_start': datetime.datetime(2024, 1, 2, 0, 0), 'test_end': datetime.datetime(2024, 2, 8, 0, 0), 'duration_training_history': 90, 'target_column': 'growth', 'train_features': ['close_lag_1', 'year', 'month', 'day', 'day_of_week', 'week_of_year'], 'path_to_result': '/diploma_info/datalake/', 'forecast_periods': 4, 'model_name': 'lightgbm', 'model': LGBMClassifier(eta=0.3, max_depth=7, metric='binary', n_estimators=5000,\n",
      "               n_jobs=-1, objective='binary', random_state=2, verbosity=-1), 'forecast_frequency': 'daily', 'company': 'apple', 'model_hyperparameters': {'n_estimators': 5000, 'n_jobs': -1, 'max_depth': 7, 'eta': 0.3, 'random_state': 2, 'objective': 'binary', 'verbosity': -1, 'metric': 'binary'}, 'problem': 'classification'} \n",
      "\n",
      "(10895, 6) (10895, 1)\n",
      "lightgbm\n"
     ]
    },
    {
     "name": "stderr",
     "output_type": "stream",
     "text": [
      "100%|██████████████████████████████████████████████████████████████████████████████████| 38/38 [00:11<00:00,  3.21it/s]\n"
     ]
    },
    {
     "name": "stdout",
     "output_type": "stream",
     "text": [
      "lightgbm == {'unique_uuid': '1b078863-fbf8-11ee-9d84-c0e434d84b22', 'train_end': datetime.datetime(2023, 12, 29, 0, 0), 'test_start': datetime.datetime(2024, 1, 2, 0, 0), 'test_end': datetime.datetime(2024, 2, 8, 0, 0), 'duration_training_history': 90, 'target_column': 'growth', 'train_features': ['close_lag_1', 'volume_lag_1'], 'path_to_result': '/diploma_info/datalake/', 'forecast_periods': 4, 'model_name': 'lightgbm', 'model': LGBMClassifier(eta=0.3, max_depth=9, metric='binary', n_estimators=5000,\n",
      "               n_jobs=-1, objective='binary', random_state=2, verbosity=-1), 'forecast_frequency': 'daily', 'company': 'apple', 'model_hyperparameters': {'n_estimators': 5000, 'n_jobs': -1, 'max_depth': 9, 'eta': 0.3, 'random_state': 2, 'objective': 'binary', 'verbosity': -1, 'metric': 'binary'}, 'problem': 'classification'} \n",
      "\n",
      "(10895, 2) (10895, 1)\n",
      "lightgbm\n"
     ]
    },
    {
     "name": "stderr",
     "output_type": "stream",
     "text": [
      "100%|██████████████████████████████████████████████████████████████████████████████████| 38/38 [00:13<00:00,  2.87it/s]\n"
     ]
    },
    {
     "name": "stdout",
     "output_type": "stream",
     "text": [
      "lightgbm == {'unique_uuid': '1b078864-fbf8-11ee-a2d3-c0e434d84b22', 'train_end': datetime.datetime(2023, 12, 29, 0, 0), 'test_start': datetime.datetime(2024, 1, 2, 0, 0), 'test_end': datetime.datetime(2024, 2, 8, 0, 0), 'duration_training_history': 90, 'target_column': 'growth', 'train_features': ['close_lag_1', 'year', 'month', 'day', 'day_of_week', 'week_of_year'], 'path_to_result': '/diploma_info/datalake/', 'forecast_periods': 4, 'model_name': 'lightgbm', 'model': LGBMClassifier(eta=0.3, max_depth=9, metric='binary', n_estimators=5000,\n",
      "               n_jobs=-1, objective='binary', random_state=2, verbosity=-1), 'forecast_frequency': 'daily', 'company': 'apple', 'model_hyperparameters': {'n_estimators': 5000, 'n_jobs': -1, 'max_depth': 9, 'eta': 0.3, 'random_state': 2, 'objective': 'binary', 'verbosity': -1, 'metric': 'binary'}, 'problem': 'classification'} \n",
      "\n",
      "(10895, 6) (10895, 1)\n",
      "lightgbm\n"
     ]
    },
    {
     "name": "stderr",
     "output_type": "stream",
     "text": [
      "100%|██████████████████████████████████████████████████████████████████████████████████| 38/38 [00:14<00:00,  2.54it/s]\n"
     ]
    },
    {
     "name": "stdout",
     "output_type": "stream",
     "text": [
      "random_forest == {'unique_uuid': '1b078865-fbf8-11ee-8b39-c0e434d84b22', 'train_end': datetime.datetime(2023, 12, 29, 0, 0), 'test_start': datetime.datetime(2024, 1, 2, 0, 0), 'test_end': datetime.datetime(2024, 2, 8, 0, 0), 'duration_training_history': 90, 'target_column': 'growth', 'train_features': ['close_lag_1', 'volume_lag_1'], 'path_to_result': '/diploma_info/datalake/', 'forecast_periods': 4, 'model_name': 'random_forest', 'model': RandomForestClassifier(max_depth=7, n_estimators=10, n_jobs=-1, random_state=2), 'forecast_frequency': 'daily', 'company': 'apple', 'model_hyperparameters': {'n_estimators': 10, 'n_jobs': -1, 'random_state': 2, 'max_depth': 7}, 'problem': 'classification'} \n",
      "\n",
      "(10895, 2) (10895, 1)\n",
      "random_forest\n"
     ]
    },
    {
     "name": "stderr",
     "output_type": "stream",
     "text": [
      "100%|██████████████████████████████████████████████████████████████████████████████████| 38/38 [00:02<00:00, 17.04it/s]\n"
     ]
    },
    {
     "name": "stdout",
     "output_type": "stream",
     "text": [
      "random_forest == {'unique_uuid': '1b078866-fbf8-11ee-8519-c0e434d84b22', 'train_end': datetime.datetime(2023, 12, 29, 0, 0), 'test_start': datetime.datetime(2024, 1, 2, 0, 0), 'test_end': datetime.datetime(2024, 2, 8, 0, 0), 'duration_training_history': 90, 'target_column': 'growth', 'train_features': ['close_lag_1', 'year', 'month', 'day', 'day_of_week', 'week_of_year'], 'path_to_result': '/diploma_info/datalake/', 'forecast_periods': 4, 'model_name': 'random_forest', 'model': RandomForestClassifier(max_depth=7, n_estimators=10, n_jobs=-1, random_state=2), 'forecast_frequency': 'daily', 'company': 'apple', 'model_hyperparameters': {'n_estimators': 10, 'n_jobs': -1, 'random_state': 2, 'max_depth': 7}, 'problem': 'classification'} \n",
      "\n",
      "(10895, 6) (10895, 1)\n",
      "random_forest\n"
     ]
    },
    {
     "name": "stderr",
     "output_type": "stream",
     "text": [
      "100%|██████████████████████████████████████████████████████████████████████████████████| 38/38 [00:02<00:00, 17.22it/s]\n"
     ]
    },
    {
     "name": "stdout",
     "output_type": "stream",
     "text": [
      "knear_neighbors == {'unique_uuid': '1b078867-fbf8-11ee-a019-c0e434d84b22', 'train_end': datetime.datetime(2023, 12, 29, 0, 0), 'test_start': datetime.datetime(2024, 1, 2, 0, 0), 'test_end': datetime.datetime(2024, 2, 8, 0, 0), 'duration_training_history': 90, 'target_column': 'growth', 'train_features': ['close_lag_1', 'volume_lag_1'], 'path_to_result': '/diploma_info/datalake/', 'forecast_periods': 4, 'model_name': 'knear_neighbors', 'model': KNeighborsClassifier(n_jobs=-1, n_neighbors=3), 'forecast_frequency': 'daily', 'company': 'apple', 'model_hyperparameters': {'n_neighbors': 3, 'n_jobs': -1}, 'problem': 'classification'} \n",
      "\n",
      "(10895, 2) (10895, 1)\n",
      "knear_neighbors\n"
     ]
    },
    {
     "name": "stderr",
     "output_type": "stream",
     "text": [
      "100%|██████████████████████████████████████████████████████████████████████████████████| 38/38 [00:01<00:00, 36.34it/s]\n"
     ]
    },
    {
     "name": "stdout",
     "output_type": "stream",
     "text": [
      "knear_neighbors == {'unique_uuid': '1b078868-fbf8-11ee-be23-c0e434d84b22', 'train_end': datetime.datetime(2023, 12, 29, 0, 0), 'test_start': datetime.datetime(2024, 1, 2, 0, 0), 'test_end': datetime.datetime(2024, 2, 8, 0, 0), 'duration_training_history': 90, 'target_column': 'growth', 'train_features': ['close_lag_1', 'year', 'month', 'day', 'day_of_week', 'week_of_year'], 'path_to_result': '/diploma_info/datalake/', 'forecast_periods': 4, 'model_name': 'knear_neighbors', 'model': KNeighborsClassifier(n_jobs=-1, n_neighbors=3), 'forecast_frequency': 'daily', 'company': 'apple', 'model_hyperparameters': {'n_neighbors': 3, 'n_jobs': -1}, 'problem': 'classification'} \n",
      "\n",
      "(10895, 6) (10895, 1)\n",
      "knear_neighbors\n"
     ]
    },
    {
     "name": "stderr",
     "output_type": "stream",
     "text": [
      "100%|██████████████████████████████████████████████████████████████████████████████████| 38/38 [00:01<00:00, 37.31it/s]\n"
     ]
    },
    {
     "name": "stdout",
     "output_type": "stream",
     "text": [
      "knear_neighbors == {'unique_uuid': '1b078869-fbf8-11ee-a115-c0e434d84b22', 'train_end': datetime.datetime(2023, 12, 29, 0, 0), 'test_start': datetime.datetime(2024, 1, 2, 0, 0), 'test_end': datetime.datetime(2024, 2, 8, 0, 0), 'duration_training_history': 90, 'target_column': 'growth', 'train_features': ['close_lag_1', 'volume_lag_1'], 'path_to_result': '/diploma_info/datalake/', 'forecast_periods': 4, 'model_name': 'knear_neighbors', 'model': KNeighborsClassifier(n_jobs=-1, n_neighbors=50), 'forecast_frequency': 'daily', 'company': 'apple', 'model_hyperparameters': {'n_neighbors': 50, 'n_jobs': -1}, 'problem': 'classification'} \n",
      "\n",
      "(10895, 2) (10895, 1)\n",
      "knear_neighbors\n"
     ]
    },
    {
     "name": "stderr",
     "output_type": "stream",
     "text": [
      "100%|█████████████████████████████████████████████████████████████████████████████████| 38/38 [00:00<00:00, 127.51it/s]\n"
     ]
    },
    {
     "name": "stdout",
     "output_type": "stream",
     "text": [
      "Expected n_neighbors <= n_samples_fit, but n_neighbors = 50, n_samples_fit = 49, n_samples = 5\n",
      "Expected n_neighbors <= n_samples_fit, but n_neighbors = 50, n_samples_fit = 48, n_samples = 4\n",
      "Expected n_neighbors <= n_samples_fit, but n_neighbors = 50, n_samples_fit = 48, n_samples = 3\n",
      "Expected n_neighbors <= n_samples_fit, but n_neighbors = 50, n_samples_fit = 48, n_samples = 3\n",
      "Expected n_neighbors <= n_samples_fit, but n_neighbors = 50, n_samples_fit = 47, n_samples = 3\n",
      "Expected n_neighbors <= n_samples_fit, but n_neighbors = 50, n_samples_fit = 46, n_samples = 3\n",
      "Expected n_neighbors <= n_samples_fit, but n_neighbors = 50, n_samples_fit = 45, n_samples = 4\n",
      "Expected n_neighbors <= n_samples_fit, but n_neighbors = 50, n_samples_fit = 44, n_samples = 5\n",
      "Expected n_neighbors <= n_samples_fit, but n_neighbors = 50, n_samples_fit = 43, n_samples = 4\n",
      "Expected n_neighbors <= n_samples_fit, but n_neighbors = 50, n_samples_fit = 43, n_samples = 3\n",
      "Expected n_neighbors <= n_samples_fit, but n_neighbors = 50, n_samples_fit = 43, n_samples = 3\n",
      "Expected n_neighbors <= n_samples_fit, but n_neighbors = 50, n_samples_fit = 42, n_samples = 3\n",
      "Expected n_neighbors <= n_samples_fit, but n_neighbors = 50, n_samples_fit = 41, n_samples = 3\n",
      "Expected n_neighbors <= n_samples_fit, but n_neighbors = 50, n_samples_fit = 40, n_samples = 4\n",
      "Expected n_neighbors <= n_samples_fit, but n_neighbors = 50, n_samples_fit = 39, n_samples = 5\n",
      "Expected n_neighbors <= n_samples_fit, but n_neighbors = 50, n_samples_fit = 38, n_samples = 4\n",
      "Expected n_neighbors <= n_samples_fit, but n_neighbors = 50, n_samples_fit = 38, n_samples = 3\n",
      "Expected n_neighbors <= n_samples_fit, but n_neighbors = 50, n_samples_fit = 38, n_samples = 3\n",
      "knear_neighbors == {'unique_uuid': '1b07886a-fbf8-11ee-98fe-c0e434d84b22', 'train_end': datetime.datetime(2023, 12, 29, 0, 0), 'test_start': datetime.datetime(2024, 1, 2, 0, 0), 'test_end': datetime.datetime(2024, 2, 8, 0, 0), 'duration_training_history': 90, 'target_column': 'growth', 'train_features': ['close_lag_1', 'year', 'month', 'day', 'day_of_week', 'week_of_year'], 'path_to_result': '/diploma_info/datalake/', 'forecast_periods': 4, 'model_name': 'knear_neighbors', 'model': KNeighborsClassifier(n_jobs=-1, n_neighbors=50), 'forecast_frequency': 'daily', 'company': 'apple', 'model_hyperparameters': {'n_neighbors': 50, 'n_jobs': -1}, 'problem': 'classification'} \n",
      "\n",
      "(10895, 6) (10895, 1)\n",
      "knear_neighbors\n"
     ]
    },
    {
     "name": "stderr",
     "output_type": "stream",
     "text": [
      "100%|█████████████████████████████████████████████████████████████████████████████████| 38/38 [00:00<00:00, 136.68it/s]\n"
     ]
    },
    {
     "name": "stdout",
     "output_type": "stream",
     "text": [
      "Expected n_neighbors <= n_samples_fit, but n_neighbors = 50, n_samples_fit = 49, n_samples = 5\n",
      "Expected n_neighbors <= n_samples_fit, but n_neighbors = 50, n_samples_fit = 48, n_samples = 4\n",
      "Expected n_neighbors <= n_samples_fit, but n_neighbors = 50, n_samples_fit = 48, n_samples = 3\n",
      "Expected n_neighbors <= n_samples_fit, but n_neighbors = 50, n_samples_fit = 48, n_samples = 3\n",
      "Expected n_neighbors <= n_samples_fit, but n_neighbors = 50, n_samples_fit = 47, n_samples = 3\n",
      "Expected n_neighbors <= n_samples_fit, but n_neighbors = 50, n_samples_fit = 46, n_samples = 3\n",
      "Expected n_neighbors <= n_samples_fit, but n_neighbors = 50, n_samples_fit = 45, n_samples = 4\n",
      "Expected n_neighbors <= n_samples_fit, but n_neighbors = 50, n_samples_fit = 44, n_samples = 5\n",
      "Expected n_neighbors <= n_samples_fit, but n_neighbors = 50, n_samples_fit = 43, n_samples = 4\n",
      "Expected n_neighbors <= n_samples_fit, but n_neighbors = 50, n_samples_fit = 43, n_samples = 3\n",
      "Expected n_neighbors <= n_samples_fit, but n_neighbors = 50, n_samples_fit = 43, n_samples = 3\n",
      "Expected n_neighbors <= n_samples_fit, but n_neighbors = 50, n_samples_fit = 42, n_samples = 3\n",
      "Expected n_neighbors <= n_samples_fit, but n_neighbors = 50, n_samples_fit = 41, n_samples = 3\n",
      "Expected n_neighbors <= n_samples_fit, but n_neighbors = 50, n_samples_fit = 40, n_samples = 4\n",
      "Expected n_neighbors <= n_samples_fit, but n_neighbors = 50, n_samples_fit = 39, n_samples = 5\n",
      "Expected n_neighbors <= n_samples_fit, but n_neighbors = 50, n_samples_fit = 38, n_samples = 4\n",
      "Expected n_neighbors <= n_samples_fit, but n_neighbors = 50, n_samples_fit = 38, n_samples = 3\n",
      "Expected n_neighbors <= n_samples_fit, but n_neighbors = 50, n_samples_fit = 38, n_samples = 3\n",
      "xgboost == {'unique_uuid': '1b07886b-fbf8-11ee-9eb8-c0e434d84b22', 'train_end': datetime.datetime(2023, 12, 29, 0, 0), 'test_start': datetime.datetime(2024, 1, 2, 0, 0), 'test_end': datetime.datetime(2024, 2, 8, 0, 0), 'duration_training_history': 120, 'target_column': 'growth', 'train_features': ['close_lag_1', 'volume_lag_1'], 'path_to_result': '/diploma_info/datalake/', 'forecast_periods': 4, 'model_name': 'xgboost', 'model': XGBClassifier(base_score=None, booster='gbtree', callbacks=None,\n",
      "              colsample_bylevel=None, colsample_bynode=None, colsample_bytree=1,\n",
      "              device=None, early_stopping_rounds=None, enable_categorical=False,\n",
      "              eta=0.3, eval_metric='rmse', feature_types=None, gamma=None,\n",
      "              grow_policy=None, importance_type=None,\n",
      "              interaction_constraints=None, learning_rate=None, max_bin=None,\n",
      "              max_cat_threshold=None, max_cat_to_onehot=None,\n",
      "              max_delta_step=None, max_depth=7, max_leaves=None,\n",
      "              min_child_weight=1, missing=nan, monotone_constraints=None,\n",
      "              multi_strategy=None, n_estimators=10, n_jobs=-1,\n",
      "              num_parallel_tree=None, ...), 'forecast_frequency': 'daily', 'company': 'apple', 'model_hyperparameters': {'n_estimators': 10, 'n_jobs': -1, 'max_depth': 7, 'eta': 0.3, 'booster': 'gbtree', 'objective': 'reg:squarederror', 'eval_metric': 'rmse', 'subsample': 1, 'colsample_bytree': 1, 'min_child_weight': 1, 'random_state': 2}, 'problem': 'classification'} \n",
      "\n",
      "(10895, 2) (10895, 1)\n",
      "xgboost\n"
     ]
    },
    {
     "name": "stderr",
     "output_type": "stream",
     "text": [
      "100%|██████████████████████████████████████████████████████████████████████████████████| 38/38 [00:00<00:00, 46.68it/s]\n"
     ]
    },
    {
     "name": "stdout",
     "output_type": "stream",
     "text": [
      "xgboost == {'unique_uuid': '1b07886c-fbf8-11ee-be4b-c0e434d84b22', 'train_end': datetime.datetime(2023, 12, 29, 0, 0), 'test_start': datetime.datetime(2024, 1, 2, 0, 0), 'test_end': datetime.datetime(2024, 2, 8, 0, 0), 'duration_training_history': 120, 'target_column': 'growth', 'train_features': ['close_lag_1', 'year', 'month', 'day', 'day_of_week', 'week_of_year'], 'path_to_result': '/diploma_info/datalake/', 'forecast_periods': 4, 'model_name': 'xgboost', 'model': XGBClassifier(base_score=None, booster='gbtree', callbacks=None,\n",
      "              colsample_bylevel=None, colsample_bynode=None, colsample_bytree=1,\n",
      "              device=None, early_stopping_rounds=None, enable_categorical=False,\n",
      "              eta=0.3, eval_metric='rmse', feature_types=None, gamma=None,\n",
      "              grow_policy=None, importance_type=None,\n",
      "              interaction_constraints=None, learning_rate=None, max_bin=None,\n",
      "              max_cat_threshold=None, max_cat_to_onehot=None,\n",
      "              max_delta_step=None, max_depth=7, max_leaves=None,\n",
      "              min_child_weight=1, missing=nan, monotone_constraints=None,\n",
      "              multi_strategy=None, n_estimators=10, n_jobs=-1,\n",
      "              num_parallel_tree=None, ...), 'forecast_frequency': 'daily', 'company': 'apple', 'model_hyperparameters': {'n_estimators': 10, 'n_jobs': -1, 'max_depth': 7, 'eta': 0.3, 'booster': 'gbtree', 'objective': 'reg:squarederror', 'eval_metric': 'rmse', 'subsample': 1, 'colsample_bytree': 1, 'min_child_weight': 1, 'random_state': 2}, 'problem': 'classification'} \n",
      "\n",
      "(10895, 6) (10895, 1)\n",
      "xgboost\n"
     ]
    },
    {
     "name": "stderr",
     "output_type": "stream",
     "text": [
      "100%|██████████████████████████████████████████████████████████████████████████████████| 38/38 [00:00<00:00, 42.91it/s]\n"
     ]
    },
    {
     "name": "stdout",
     "output_type": "stream",
     "text": [
      "xgboost == {'unique_uuid': '1b07886d-fbf8-11ee-ba0a-c0e434d84b22', 'train_end': datetime.datetime(2023, 12, 29, 0, 0), 'test_start': datetime.datetime(2024, 1, 2, 0, 0), 'test_end': datetime.datetime(2024, 2, 8, 0, 0), 'duration_training_history': 120, 'target_column': 'growth', 'train_features': ['close_lag_1', 'volume_lag_1'], 'path_to_result': '/diploma_info/datalake/', 'forecast_periods': 4, 'model_name': 'xgboost', 'model': XGBClassifier(base_score=None, booster='gbtree', callbacks=None,\n",
      "              colsample_bylevel=None, colsample_bynode=None, colsample_bytree=1,\n",
      "              device=None, early_stopping_rounds=None, enable_categorical=False,\n",
      "              eta=0.3, eval_metric='rmse', feature_types=None, gamma=None,\n",
      "              grow_policy=None, importance_type=None,\n",
      "              interaction_constraints=None, learning_rate=None, max_bin=None,\n",
      "              max_cat_threshold=None, max_cat_to_onehot=None,\n",
      "              max_delta_step=None, max_depth=7, max_leaves=None,\n",
      "              min_child_weight=1, missing=nan, monotone_constraints=None,\n",
      "              multi_strategy=None, n_estimators=200, n_jobs=-1,\n",
      "              num_parallel_tree=None, ...), 'forecast_frequency': 'daily', 'company': 'apple', 'model_hyperparameters': {'n_estimators': 200, 'n_jobs': -1, 'max_depth': 7, 'eta': 0.3, 'booster': 'gbtree', 'objective': 'reg:squarederror', 'eval_metric': 'rmse', 'subsample': 1, 'colsample_bytree': 1, 'min_child_weight': 1, 'random_state': 2}, 'problem': 'classification'} \n",
      "\n",
      "(10895, 2) (10895, 1)\n",
      "xgboost\n"
     ]
    },
    {
     "name": "stderr",
     "output_type": "stream",
     "text": [
      "100%|██████████████████████████████████████████████████████████████████████████████████| 38/38 [00:02<00:00, 14.33it/s]\n"
     ]
    },
    {
     "name": "stdout",
     "output_type": "stream",
     "text": [
      "xgboost == {'unique_uuid': '1b07886e-fbf8-11ee-a165-c0e434d84b22', 'train_end': datetime.datetime(2023, 12, 29, 0, 0), 'test_start': datetime.datetime(2024, 1, 2, 0, 0), 'test_end': datetime.datetime(2024, 2, 8, 0, 0), 'duration_training_history': 120, 'target_column': 'growth', 'train_features': ['close_lag_1', 'year', 'month', 'day', 'day_of_week', 'week_of_year'], 'path_to_result': '/diploma_info/datalake/', 'forecast_periods': 4, 'model_name': 'xgboost', 'model': XGBClassifier(base_score=None, booster='gbtree', callbacks=None,\n",
      "              colsample_bylevel=None, colsample_bynode=None, colsample_bytree=1,\n",
      "              device=None, early_stopping_rounds=None, enable_categorical=False,\n",
      "              eta=0.3, eval_metric='rmse', feature_types=None, gamma=None,\n",
      "              grow_policy=None, importance_type=None,\n",
      "              interaction_constraints=None, learning_rate=None, max_bin=None,\n",
      "              max_cat_threshold=None, max_cat_to_onehot=None,\n",
      "              max_delta_step=None, max_depth=7, max_leaves=None,\n",
      "              min_child_weight=1, missing=nan, monotone_constraints=None,\n",
      "              multi_strategy=None, n_estimators=200, n_jobs=-1,\n",
      "              num_parallel_tree=None, ...), 'forecast_frequency': 'daily', 'company': 'apple', 'model_hyperparameters': {'n_estimators': 200, 'n_jobs': -1, 'max_depth': 7, 'eta': 0.3, 'booster': 'gbtree', 'objective': 'reg:squarederror', 'eval_metric': 'rmse', 'subsample': 1, 'colsample_bytree': 1, 'min_child_weight': 1, 'random_state': 2}, 'problem': 'classification'} \n",
      "\n",
      "(10895, 6) (10895, 1)\n",
      "xgboost\n"
     ]
    },
    {
     "name": "stderr",
     "output_type": "stream",
     "text": [
      "100%|██████████████████████████████████████████████████████████████████████████████████| 38/38 [00:02<00:00, 14.16it/s]\n"
     ]
    },
    {
     "name": "stdout",
     "output_type": "stream",
     "text": [
      "xgboost == {'unique_uuid': '1b07886f-fbf8-11ee-abbc-c0e434d84b22', 'train_end': datetime.datetime(2023, 12, 29, 0, 0), 'test_start': datetime.datetime(2024, 1, 2, 0, 0), 'test_end': datetime.datetime(2024, 2, 8, 0, 0), 'duration_training_history': 120, 'target_column': 'growth', 'train_features': ['close_lag_1', 'volume_lag_1'], 'path_to_result': '/diploma_info/datalake/', 'forecast_periods': 4, 'model_name': 'xgboost', 'model': XGBClassifier(base_score=None, booster='gbtree', callbacks=None,\n",
      "              colsample_bylevel=None, colsample_bynode=None, colsample_bytree=1,\n",
      "              device=None, early_stopping_rounds=None, enable_categorical=False,\n",
      "              eta=0.3, eval_metric='rmse', feature_types=None, gamma=None,\n",
      "              grow_policy=None, importance_type=None,\n",
      "              interaction_constraints=None, learning_rate=None, max_bin=None,\n",
      "              max_cat_threshold=None, max_cat_to_onehot=None,\n",
      "              max_delta_step=None, max_depth=9, max_leaves=None,\n",
      "              min_child_weight=1, missing=nan, monotone_constraints=None,\n",
      "              multi_strategy=None, n_estimators=10, n_jobs=-1,\n",
      "              num_parallel_tree=None, ...), 'forecast_frequency': 'daily', 'company': 'apple', 'model_hyperparameters': {'n_estimators': 10, 'n_jobs': -1, 'max_depth': 9, 'eta': 0.3, 'booster': 'gbtree', 'objective': 'reg:squarederror', 'eval_metric': 'rmse', 'subsample': 1, 'colsample_bytree': 1, 'min_child_weight': 1, 'random_state': 2}, 'problem': 'classification'} \n",
      "\n",
      "(10895, 2) (10895, 1)\n",
      "xgboost\n"
     ]
    },
    {
     "name": "stderr",
     "output_type": "stream",
     "text": [
      "100%|██████████████████████████████████████████████████████████████████████████████████| 38/38 [00:00<00:00, 43.48it/s]\n"
     ]
    },
    {
     "name": "stdout",
     "output_type": "stream",
     "text": [
      "xgboost == {'unique_uuid': '1b078870-fbf8-11ee-ad54-c0e434d84b22', 'train_end': datetime.datetime(2023, 12, 29, 0, 0), 'test_start': datetime.datetime(2024, 1, 2, 0, 0), 'test_end': datetime.datetime(2024, 2, 8, 0, 0), 'duration_training_history': 120, 'target_column': 'growth', 'train_features': ['close_lag_1', 'year', 'month', 'day', 'day_of_week', 'week_of_year'], 'path_to_result': '/diploma_info/datalake/', 'forecast_periods': 4, 'model_name': 'xgboost', 'model': XGBClassifier(base_score=None, booster='gbtree', callbacks=None,\n",
      "              colsample_bylevel=None, colsample_bynode=None, colsample_bytree=1,\n",
      "              device=None, early_stopping_rounds=None, enable_categorical=False,\n",
      "              eta=0.3, eval_metric='rmse', feature_types=None, gamma=None,\n",
      "              grow_policy=None, importance_type=None,\n",
      "              interaction_constraints=None, learning_rate=None, max_bin=None,\n",
      "              max_cat_threshold=None, max_cat_to_onehot=None,\n",
      "              max_delta_step=None, max_depth=9, max_leaves=None,\n",
      "              min_child_weight=1, missing=nan, monotone_constraints=None,\n",
      "              multi_strategy=None, n_estimators=10, n_jobs=-1,\n",
      "              num_parallel_tree=None, ...), 'forecast_frequency': 'daily', 'company': 'apple', 'model_hyperparameters': {'n_estimators': 10, 'n_jobs': -1, 'max_depth': 9, 'eta': 0.3, 'booster': 'gbtree', 'objective': 'reg:squarederror', 'eval_metric': 'rmse', 'subsample': 1, 'colsample_bytree': 1, 'min_child_weight': 1, 'random_state': 2}, 'problem': 'classification'} \n",
      "\n",
      "(10895, 6) (10895, 1)\n",
      "xgboost\n"
     ]
    },
    {
     "name": "stderr",
     "output_type": "stream",
     "text": [
      "100%|██████████████████████████████████████████████████████████████████████████████████| 38/38 [00:00<00:00, 40.21it/s]\n"
     ]
    },
    {
     "name": "stdout",
     "output_type": "stream",
     "text": [
      "xgboost == {'unique_uuid': '1b078871-fbf8-11ee-af7c-c0e434d84b22', 'train_end': datetime.datetime(2023, 12, 29, 0, 0), 'test_start': datetime.datetime(2024, 1, 2, 0, 0), 'test_end': datetime.datetime(2024, 2, 8, 0, 0), 'duration_training_history': 120, 'target_column': 'growth', 'train_features': ['close_lag_1', 'volume_lag_1'], 'path_to_result': '/diploma_info/datalake/', 'forecast_periods': 4, 'model_name': 'xgboost', 'model': XGBClassifier(base_score=None, booster='gbtree', callbacks=None,\n",
      "              colsample_bylevel=None, colsample_bynode=None, colsample_bytree=1,\n",
      "              device=None, early_stopping_rounds=None, enable_categorical=False,\n",
      "              eta=0.3, eval_metric='rmse', feature_types=None, gamma=None,\n",
      "              grow_policy=None, importance_type=None,\n",
      "              interaction_constraints=None, learning_rate=None, max_bin=None,\n",
      "              max_cat_threshold=None, max_cat_to_onehot=None,\n",
      "              max_delta_step=None, max_depth=9, max_leaves=None,\n",
      "              min_child_weight=1, missing=nan, monotone_constraints=None,\n",
      "              multi_strategy=None, n_estimators=200, n_jobs=-1,\n",
      "              num_parallel_tree=None, ...), 'forecast_frequency': 'daily', 'company': 'apple', 'model_hyperparameters': {'n_estimators': 200, 'n_jobs': -1, 'max_depth': 9, 'eta': 0.3, 'booster': 'gbtree', 'objective': 'reg:squarederror', 'eval_metric': 'rmse', 'subsample': 1, 'colsample_bytree': 1, 'min_child_weight': 1, 'random_state': 2}, 'problem': 'classification'} \n",
      "\n",
      "(10895, 2) (10895, 1)\n",
      "xgboost\n"
     ]
    },
    {
     "name": "stderr",
     "output_type": "stream",
     "text": [
      "100%|██████████████████████████████████████████████████████████████████████████████████| 38/38 [00:02<00:00, 13.55it/s]\n"
     ]
    },
    {
     "name": "stdout",
     "output_type": "stream",
     "text": [
      "xgboost == {'unique_uuid': '1b078872-fbf8-11ee-9ba4-c0e434d84b22', 'train_end': datetime.datetime(2023, 12, 29, 0, 0), 'test_start': datetime.datetime(2024, 1, 2, 0, 0), 'test_end': datetime.datetime(2024, 2, 8, 0, 0), 'duration_training_history': 120, 'target_column': 'growth', 'train_features': ['close_lag_1', 'year', 'month', 'day', 'day_of_week', 'week_of_year'], 'path_to_result': '/diploma_info/datalake/', 'forecast_periods': 4, 'model_name': 'xgboost', 'model': XGBClassifier(base_score=None, booster='gbtree', callbacks=None,\n",
      "              colsample_bylevel=None, colsample_bynode=None, colsample_bytree=1,\n",
      "              device=None, early_stopping_rounds=None, enable_categorical=False,\n",
      "              eta=0.3, eval_metric='rmse', feature_types=None, gamma=None,\n",
      "              grow_policy=None, importance_type=None,\n",
      "              interaction_constraints=None, learning_rate=None, max_bin=None,\n",
      "              max_cat_threshold=None, max_cat_to_onehot=None,\n",
      "              max_delta_step=None, max_depth=9, max_leaves=None,\n",
      "              min_child_weight=1, missing=nan, monotone_constraints=None,\n",
      "              multi_strategy=None, n_estimators=200, n_jobs=-1,\n",
      "              num_parallel_tree=None, ...), 'forecast_frequency': 'daily', 'company': 'apple', 'model_hyperparameters': {'n_estimators': 200, 'n_jobs': -1, 'max_depth': 9, 'eta': 0.3, 'booster': 'gbtree', 'objective': 'reg:squarederror', 'eval_metric': 'rmse', 'subsample': 1, 'colsample_bytree': 1, 'min_child_weight': 1, 'random_state': 2}, 'problem': 'classification'} \n",
      "\n",
      "(10895, 6) (10895, 1)\n",
      "xgboost\n"
     ]
    },
    {
     "name": "stderr",
     "output_type": "stream",
     "text": [
      "100%|██████████████████████████████████████████████████████████████████████████████████| 38/38 [00:02<00:00, 14.01it/s]\n"
     ]
    },
    {
     "name": "stdout",
     "output_type": "stream",
     "text": [
      "lightgbm == {'unique_uuid': '1b078873-fbf8-11ee-9e42-c0e434d84b22', 'train_end': datetime.datetime(2023, 12, 29, 0, 0), 'test_start': datetime.datetime(2024, 1, 2, 0, 0), 'test_end': datetime.datetime(2024, 2, 8, 0, 0), 'duration_training_history': 120, 'target_column': 'growth', 'train_features': ['close_lag_1', 'volume_lag_1'], 'path_to_result': '/diploma_info/datalake/', 'forecast_periods': 4, 'model_name': 'lightgbm', 'model': LGBMClassifier(eta=0.3, max_depth=7, metric='binary', n_estimators=5000,\n",
      "               n_jobs=-1, objective='binary', random_state=2, verbosity=-1), 'forecast_frequency': 'daily', 'company': 'apple', 'model_hyperparameters': {'n_estimators': 5000, 'n_jobs': -1, 'max_depth': 7, 'eta': 0.3, 'random_state': 2, 'objective': 'binary', 'verbosity': -1, 'metric': 'binary'}, 'problem': 'classification'} \n",
      "\n",
      "(10895, 2) (10895, 1)\n",
      "lightgbm\n"
     ]
    },
    {
     "name": "stderr",
     "output_type": "stream",
     "text": [
      "100%|██████████████████████████████████████████████████████████████████████████████████| 38/38 [00:17<00:00,  2.13it/s]\n"
     ]
    },
    {
     "name": "stdout",
     "output_type": "stream",
     "text": [
      "lightgbm == {'unique_uuid': '1b078874-fbf8-11ee-b04c-c0e434d84b22', 'train_end': datetime.datetime(2023, 12, 29, 0, 0), 'test_start': datetime.datetime(2024, 1, 2, 0, 0), 'test_end': datetime.datetime(2024, 2, 8, 0, 0), 'duration_training_history': 120, 'target_column': 'growth', 'train_features': ['close_lag_1', 'year', 'month', 'day', 'day_of_week', 'week_of_year'], 'path_to_result': '/diploma_info/datalake/', 'forecast_periods': 4, 'model_name': 'lightgbm', 'model': LGBMClassifier(eta=0.3, max_depth=7, metric='binary', n_estimators=5000,\n",
      "               n_jobs=-1, objective='binary', random_state=2, verbosity=-1), 'forecast_frequency': 'daily', 'company': 'apple', 'model_hyperparameters': {'n_estimators': 5000, 'n_jobs': -1, 'max_depth': 7, 'eta': 0.3, 'random_state': 2, 'objective': 'binary', 'verbosity': -1, 'metric': 'binary'}, 'problem': 'classification'} \n",
      "\n",
      "(10895, 6) (10895, 1)\n",
      "lightgbm\n"
     ]
    },
    {
     "name": "stderr",
     "output_type": "stream",
     "text": [
      "100%|██████████████████████████████████████████████████████████████████████████████████| 38/38 [00:19<00:00,  1.95it/s]\n"
     ]
    },
    {
     "name": "stdout",
     "output_type": "stream",
     "text": [
      "lightgbm == {'unique_uuid': '1b078875-fbf8-11ee-9f79-c0e434d84b22', 'train_end': datetime.datetime(2023, 12, 29, 0, 0), 'test_start': datetime.datetime(2024, 1, 2, 0, 0), 'test_end': datetime.datetime(2024, 2, 8, 0, 0), 'duration_training_history': 120, 'target_column': 'growth', 'train_features': ['close_lag_1', 'volume_lag_1'], 'path_to_result': '/diploma_info/datalake/', 'forecast_periods': 4, 'model_name': 'lightgbm', 'model': LGBMClassifier(eta=0.3, max_depth=9, metric='binary', n_estimators=5000,\n",
      "               n_jobs=-1, objective='binary', random_state=2, verbosity=-1), 'forecast_frequency': 'daily', 'company': 'apple', 'model_hyperparameters': {'n_estimators': 5000, 'n_jobs': -1, 'max_depth': 9, 'eta': 0.3, 'random_state': 2, 'objective': 'binary', 'verbosity': -1, 'metric': 'binary'}, 'problem': 'classification'} \n",
      "\n",
      "(10895, 2) (10895, 1)\n",
      "lightgbm\n"
     ]
    },
    {
     "name": "stderr",
     "output_type": "stream",
     "text": [
      "100%|██████████████████████████████████████████████████████████████████████████████████| 38/38 [00:18<00:00,  2.01it/s]\n"
     ]
    },
    {
     "name": "stdout",
     "output_type": "stream",
     "text": [
      "lightgbm == {'unique_uuid': '1b078876-fbf8-11ee-a263-c0e434d84b22', 'train_end': datetime.datetime(2023, 12, 29, 0, 0), 'test_start': datetime.datetime(2024, 1, 2, 0, 0), 'test_end': datetime.datetime(2024, 2, 8, 0, 0), 'duration_training_history': 120, 'target_column': 'growth', 'train_features': ['close_lag_1', 'year', 'month', 'day', 'day_of_week', 'week_of_year'], 'path_to_result': '/diploma_info/datalake/', 'forecast_periods': 4, 'model_name': 'lightgbm', 'model': LGBMClassifier(eta=0.3, max_depth=9, metric='binary', n_estimators=5000,\n",
      "               n_jobs=-1, objective='binary', random_state=2, verbosity=-1), 'forecast_frequency': 'daily', 'company': 'apple', 'model_hyperparameters': {'n_estimators': 5000, 'n_jobs': -1, 'max_depth': 9, 'eta': 0.3, 'random_state': 2, 'objective': 'binary', 'verbosity': -1, 'metric': 'binary'}, 'problem': 'classification'} \n",
      "\n",
      "(10895, 6) (10895, 1)\n",
      "lightgbm\n"
     ]
    },
    {
     "name": "stderr",
     "output_type": "stream",
     "text": [
      "100%|██████████████████████████████████████████████████████████████████████████████████| 38/38 [00:18<00:00,  2.01it/s]\n"
     ]
    },
    {
     "name": "stdout",
     "output_type": "stream",
     "text": [
      "random_forest == {'unique_uuid': '1b078877-fbf8-11ee-8707-c0e434d84b22', 'train_end': datetime.datetime(2023, 12, 29, 0, 0), 'test_start': datetime.datetime(2024, 1, 2, 0, 0), 'test_end': datetime.datetime(2024, 2, 8, 0, 0), 'duration_training_history': 120, 'target_column': 'growth', 'train_features': ['close_lag_1', 'volume_lag_1'], 'path_to_result': '/diploma_info/datalake/', 'forecast_periods': 4, 'model_name': 'random_forest', 'model': RandomForestClassifier(max_depth=7, n_estimators=10, n_jobs=-1, random_state=2), 'forecast_frequency': 'daily', 'company': 'apple', 'model_hyperparameters': {'n_estimators': 10, 'n_jobs': -1, 'random_state': 2, 'max_depth': 7}, 'problem': 'classification'} \n",
      "\n",
      "(10895, 2) (10895, 1)\n",
      "random_forest\n"
     ]
    },
    {
     "name": "stderr",
     "output_type": "stream",
     "text": [
      "100%|██████████████████████████████████████████████████████████████████████████████████| 38/38 [00:02<00:00, 16.83it/s]\n"
     ]
    },
    {
     "name": "stdout",
     "output_type": "stream",
     "text": [
      "random_forest == {'unique_uuid': '1b078878-fbf8-11ee-9348-c0e434d84b22', 'train_end': datetime.datetime(2023, 12, 29, 0, 0), 'test_start': datetime.datetime(2024, 1, 2, 0, 0), 'test_end': datetime.datetime(2024, 2, 8, 0, 0), 'duration_training_history': 120, 'target_column': 'growth', 'train_features': ['close_lag_1', 'year', 'month', 'day', 'day_of_week', 'week_of_year'], 'path_to_result': '/diploma_info/datalake/', 'forecast_periods': 4, 'model_name': 'random_forest', 'model': RandomForestClassifier(max_depth=7, n_estimators=10, n_jobs=-1, random_state=2), 'forecast_frequency': 'daily', 'company': 'apple', 'model_hyperparameters': {'n_estimators': 10, 'n_jobs': -1, 'random_state': 2, 'max_depth': 7}, 'problem': 'classification'} \n",
      "\n",
      "(10895, 6) (10895, 1)\n",
      "random_forest\n"
     ]
    },
    {
     "name": "stderr",
     "output_type": "stream",
     "text": [
      "100%|██████████████████████████████████████████████████████████████████████████████████| 38/38 [00:02<00:00, 17.31it/s]\n"
     ]
    },
    {
     "name": "stdout",
     "output_type": "stream",
     "text": [
      "knear_neighbors == {'unique_uuid': '1b078879-fbf8-11ee-842c-c0e434d84b22', 'train_end': datetime.datetime(2023, 12, 29, 0, 0), 'test_start': datetime.datetime(2024, 1, 2, 0, 0), 'test_end': datetime.datetime(2024, 2, 8, 0, 0), 'duration_training_history': 120, 'target_column': 'growth', 'train_features': ['close_lag_1', 'volume_lag_1'], 'path_to_result': '/diploma_info/datalake/', 'forecast_periods': 4, 'model_name': 'knear_neighbors', 'model': KNeighborsClassifier(n_jobs=-1, n_neighbors=3), 'forecast_frequency': 'daily', 'company': 'apple', 'model_hyperparameters': {'n_neighbors': 3, 'n_jobs': -1}, 'problem': 'classification'} \n",
      "\n",
      "(10895, 2) (10895, 1)\n",
      "knear_neighbors\n"
     ]
    },
    {
     "name": "stderr",
     "output_type": "stream",
     "text": [
      "100%|██████████████████████████████████████████████████████████████████████████████████| 38/38 [00:01<00:00, 36.63it/s]\n"
     ]
    },
    {
     "name": "stdout",
     "output_type": "stream",
     "text": [
      "knear_neighbors == {'unique_uuid': '1b07887a-fbf8-11ee-9b8b-c0e434d84b22', 'train_end': datetime.datetime(2023, 12, 29, 0, 0), 'test_start': datetime.datetime(2024, 1, 2, 0, 0), 'test_end': datetime.datetime(2024, 2, 8, 0, 0), 'duration_training_history': 120, 'target_column': 'growth', 'train_features': ['close_lag_1', 'year', 'month', 'day', 'day_of_week', 'week_of_year'], 'path_to_result': '/diploma_info/datalake/', 'forecast_periods': 4, 'model_name': 'knear_neighbors', 'model': KNeighborsClassifier(n_jobs=-1, n_neighbors=3), 'forecast_frequency': 'daily', 'company': 'apple', 'model_hyperparameters': {'n_neighbors': 3, 'n_jobs': -1}, 'problem': 'classification'} \n",
      "\n",
      "(10895, 6) (10895, 1)\n",
      "knear_neighbors\n"
     ]
    },
    {
     "name": "stderr",
     "output_type": "stream",
     "text": [
      "100%|██████████████████████████████████████████████████████████████████████████████████| 38/38 [00:01<00:00, 37.34it/s]\n"
     ]
    },
    {
     "name": "stdout",
     "output_type": "stream",
     "text": [
      "knear_neighbors == {'unique_uuid': '1b07887b-fbf8-11ee-8339-c0e434d84b22', 'train_end': datetime.datetime(2023, 12, 29, 0, 0), 'test_start': datetime.datetime(2024, 1, 2, 0, 0), 'test_end': datetime.datetime(2024, 2, 8, 0, 0), 'duration_training_history': 120, 'target_column': 'growth', 'train_features': ['close_lag_1', 'volume_lag_1'], 'path_to_result': '/diploma_info/datalake/', 'forecast_periods': 4, 'model_name': 'knear_neighbors', 'model': KNeighborsClassifier(n_jobs=-1, n_neighbors=50), 'forecast_frequency': 'daily', 'company': 'apple', 'model_hyperparameters': {'n_neighbors': 50, 'n_jobs': -1}, 'problem': 'classification'} \n",
      "\n",
      "(10895, 2) (10895, 1)\n",
      "knear_neighbors\n"
     ]
    },
    {
     "name": "stderr",
     "output_type": "stream",
     "text": [
      "100%|██████████████████████████████████████████████████████████████████████████████████| 38/38 [00:00<00:00, 90.69it/s]\n"
     ]
    },
    {
     "name": "stdout",
     "output_type": "stream",
     "text": [
      "knear_neighbors == {'unique_uuid': '1b07887c-fbf8-11ee-ad42-c0e434d84b22', 'train_end': datetime.datetime(2023, 12, 29, 0, 0), 'test_start': datetime.datetime(2024, 1, 2, 0, 0), 'test_end': datetime.datetime(2024, 2, 8, 0, 0), 'duration_training_history': 120, 'target_column': 'growth', 'train_features': ['close_lag_1', 'year', 'month', 'day', 'day_of_week', 'week_of_year'], 'path_to_result': '/diploma_info/datalake/', 'forecast_periods': 4, 'model_name': 'knear_neighbors', 'model': KNeighborsClassifier(n_jobs=-1, n_neighbors=50), 'forecast_frequency': 'daily', 'company': 'apple', 'model_hyperparameters': {'n_neighbors': 50, 'n_jobs': -1}, 'problem': 'classification'} \n",
      "\n",
      "(10895, 6) (10895, 1)\n",
      "knear_neighbors\n"
     ]
    },
    {
     "name": "stderr",
     "output_type": "stream",
     "text": [
      "100%|██████████████████████████████████████████████████████████████████████████████████| 38/38 [00:00<00:00, 94.52it/s]\n"
     ]
    },
    {
     "name": "stdout",
     "output_type": "stream",
     "text": [
      "xgboost == {'unique_uuid': '1b07887d-fbf8-11ee-ba3b-c0e434d84b22', 'train_end': datetime.datetime(2023, 12, 29, 0, 0), 'test_start': datetime.datetime(2024, 1, 2, 0, 0), 'test_end': datetime.datetime(2024, 2, 8, 0, 0), 'duration_training_history': 180, 'target_column': 'growth', 'train_features': ['close_lag_1', 'volume_lag_1'], 'path_to_result': '/diploma_info/datalake/', 'forecast_periods': 4, 'model_name': 'xgboost', 'model': XGBClassifier(base_score=None, booster='gbtree', callbacks=None,\n",
      "              colsample_bylevel=None, colsample_bynode=None, colsample_bytree=1,\n",
      "              device=None, early_stopping_rounds=None, enable_categorical=False,\n",
      "              eta=0.3, eval_metric='rmse', feature_types=None, gamma=None,\n",
      "              grow_policy=None, importance_type=None,\n",
      "              interaction_constraints=None, learning_rate=None, max_bin=None,\n",
      "              max_cat_threshold=None, max_cat_to_onehot=None,\n",
      "              max_delta_step=None, max_depth=7, max_leaves=None,\n",
      "              min_child_weight=1, missing=nan, monotone_constraints=None,\n",
      "              multi_strategy=None, n_estimators=10, n_jobs=-1,\n",
      "              num_parallel_tree=None, ...), 'forecast_frequency': 'daily', 'company': 'apple', 'model_hyperparameters': {'n_estimators': 10, 'n_jobs': -1, 'max_depth': 7, 'eta': 0.3, 'booster': 'gbtree', 'objective': 'reg:squarederror', 'eval_metric': 'rmse', 'subsample': 1, 'colsample_bytree': 1, 'min_child_weight': 1, 'random_state': 2}, 'problem': 'classification'} \n",
      "\n",
      "(10895, 2) (10895, 1)\n",
      "xgboost\n"
     ]
    },
    {
     "name": "stderr",
     "output_type": "stream",
     "text": [
      "100%|██████████████████████████████████████████████████████████████████████████████████| 38/38 [00:00<00:00, 42.98it/s]\n"
     ]
    },
    {
     "name": "stdout",
     "output_type": "stream",
     "text": [
      "xgboost == {'unique_uuid': '1b07887e-fbf8-11ee-8fcf-c0e434d84b22', 'train_end': datetime.datetime(2023, 12, 29, 0, 0), 'test_start': datetime.datetime(2024, 1, 2, 0, 0), 'test_end': datetime.datetime(2024, 2, 8, 0, 0), 'duration_training_history': 180, 'target_column': 'growth', 'train_features': ['close_lag_1', 'year', 'month', 'day', 'day_of_week', 'week_of_year'], 'path_to_result': '/diploma_info/datalake/', 'forecast_periods': 4, 'model_name': 'xgboost', 'model': XGBClassifier(base_score=None, booster='gbtree', callbacks=None,\n",
      "              colsample_bylevel=None, colsample_bynode=None, colsample_bytree=1,\n",
      "              device=None, early_stopping_rounds=None, enable_categorical=False,\n",
      "              eta=0.3, eval_metric='rmse', feature_types=None, gamma=None,\n",
      "              grow_policy=None, importance_type=None,\n",
      "              interaction_constraints=None, learning_rate=None, max_bin=None,\n",
      "              max_cat_threshold=None, max_cat_to_onehot=None,\n",
      "              max_delta_step=None, max_depth=7, max_leaves=None,\n",
      "              min_child_weight=1, missing=nan, monotone_constraints=None,\n",
      "              multi_strategy=None, n_estimators=10, n_jobs=-1,\n",
      "              num_parallel_tree=None, ...), 'forecast_frequency': 'daily', 'company': 'apple', 'model_hyperparameters': {'n_estimators': 10, 'n_jobs': -1, 'max_depth': 7, 'eta': 0.3, 'booster': 'gbtree', 'objective': 'reg:squarederror', 'eval_metric': 'rmse', 'subsample': 1, 'colsample_bytree': 1, 'min_child_weight': 1, 'random_state': 2}, 'problem': 'classification'} \n",
      "\n",
      "(10895, 6) (10895, 1)\n",
      "xgboost\n"
     ]
    },
    {
     "name": "stderr",
     "output_type": "stream",
     "text": [
      "100%|██████████████████████████████████████████████████████████████████████████████████| 38/38 [00:00<00:00, 41.62it/s]\n"
     ]
    },
    {
     "name": "stdout",
     "output_type": "stream",
     "text": [
      "xgboost == {'unique_uuid': '1b07887f-fbf8-11ee-bc77-c0e434d84b22', 'train_end': datetime.datetime(2023, 12, 29, 0, 0), 'test_start': datetime.datetime(2024, 1, 2, 0, 0), 'test_end': datetime.datetime(2024, 2, 8, 0, 0), 'duration_training_history': 180, 'target_column': 'growth', 'train_features': ['close_lag_1', 'volume_lag_1'], 'path_to_result': '/diploma_info/datalake/', 'forecast_periods': 4, 'model_name': 'xgboost', 'model': XGBClassifier(base_score=None, booster='gbtree', callbacks=None,\n",
      "              colsample_bylevel=None, colsample_bynode=None, colsample_bytree=1,\n",
      "              device=None, early_stopping_rounds=None, enable_categorical=False,\n",
      "              eta=0.3, eval_metric='rmse', feature_types=None, gamma=None,\n",
      "              grow_policy=None, importance_type=None,\n",
      "              interaction_constraints=None, learning_rate=None, max_bin=None,\n",
      "              max_cat_threshold=None, max_cat_to_onehot=None,\n",
      "              max_delta_step=None, max_depth=7, max_leaves=None,\n",
      "              min_child_weight=1, missing=nan, monotone_constraints=None,\n",
      "              multi_strategy=None, n_estimators=200, n_jobs=-1,\n",
      "              num_parallel_tree=None, ...), 'forecast_frequency': 'daily', 'company': 'apple', 'model_hyperparameters': {'n_estimators': 200, 'n_jobs': -1, 'max_depth': 7, 'eta': 0.3, 'booster': 'gbtree', 'objective': 'reg:squarederror', 'eval_metric': 'rmse', 'subsample': 1, 'colsample_bytree': 1, 'min_child_weight': 1, 'random_state': 2}, 'problem': 'classification'} \n",
      "\n",
      "(10895, 2) (10895, 1)\n",
      "xgboost\n"
     ]
    },
    {
     "name": "stderr",
     "output_type": "stream",
     "text": [
      "100%|██████████████████████████████████████████████████████████████████████████████████| 38/38 [00:03<00:00, 12.09it/s]\n"
     ]
    },
    {
     "name": "stdout",
     "output_type": "stream",
     "text": [
      "xgboost == {'unique_uuid': '1b078880-fbf8-11ee-b029-c0e434d84b22', 'train_end': datetime.datetime(2023, 12, 29, 0, 0), 'test_start': datetime.datetime(2024, 1, 2, 0, 0), 'test_end': datetime.datetime(2024, 2, 8, 0, 0), 'duration_training_history': 180, 'target_column': 'growth', 'train_features': ['close_lag_1', 'year', 'month', 'day', 'day_of_week', 'week_of_year'], 'path_to_result': '/diploma_info/datalake/', 'forecast_periods': 4, 'model_name': 'xgboost', 'model': XGBClassifier(base_score=None, booster='gbtree', callbacks=None,\n",
      "              colsample_bylevel=None, colsample_bynode=None, colsample_bytree=1,\n",
      "              device=None, early_stopping_rounds=None, enable_categorical=False,\n",
      "              eta=0.3, eval_metric='rmse', feature_types=None, gamma=None,\n",
      "              grow_policy=None, importance_type=None,\n",
      "              interaction_constraints=None, learning_rate=None, max_bin=None,\n",
      "              max_cat_threshold=None, max_cat_to_onehot=None,\n",
      "              max_delta_step=None, max_depth=7, max_leaves=None,\n",
      "              min_child_weight=1, missing=nan, monotone_constraints=None,\n",
      "              multi_strategy=None, n_estimators=200, n_jobs=-1,\n",
      "              num_parallel_tree=None, ...), 'forecast_frequency': 'daily', 'company': 'apple', 'model_hyperparameters': {'n_estimators': 200, 'n_jobs': -1, 'max_depth': 7, 'eta': 0.3, 'booster': 'gbtree', 'objective': 'reg:squarederror', 'eval_metric': 'rmse', 'subsample': 1, 'colsample_bytree': 1, 'min_child_weight': 1, 'random_state': 2}, 'problem': 'classification'} \n",
      "\n",
      "(10895, 6) (10895, 1)\n",
      "xgboost\n"
     ]
    },
    {
     "name": "stderr",
     "output_type": "stream",
     "text": [
      "100%|██████████████████████████████████████████████████████████████████████████████████| 38/38 [00:02<00:00, 12.67it/s]\n"
     ]
    },
    {
     "name": "stdout",
     "output_type": "stream",
     "text": [
      "xgboost == {'unique_uuid': '1b078881-fbf8-11ee-831f-c0e434d84b22', 'train_end': datetime.datetime(2023, 12, 29, 0, 0), 'test_start': datetime.datetime(2024, 1, 2, 0, 0), 'test_end': datetime.datetime(2024, 2, 8, 0, 0), 'duration_training_history': 180, 'target_column': 'growth', 'train_features': ['close_lag_1', 'volume_lag_1'], 'path_to_result': '/diploma_info/datalake/', 'forecast_periods': 4, 'model_name': 'xgboost', 'model': XGBClassifier(base_score=None, booster='gbtree', callbacks=None,\n",
      "              colsample_bylevel=None, colsample_bynode=None, colsample_bytree=1,\n",
      "              device=None, early_stopping_rounds=None, enable_categorical=False,\n",
      "              eta=0.3, eval_metric='rmse', feature_types=None, gamma=None,\n",
      "              grow_policy=None, importance_type=None,\n",
      "              interaction_constraints=None, learning_rate=None, max_bin=None,\n",
      "              max_cat_threshold=None, max_cat_to_onehot=None,\n",
      "              max_delta_step=None, max_depth=9, max_leaves=None,\n",
      "              min_child_weight=1, missing=nan, monotone_constraints=None,\n",
      "              multi_strategy=None, n_estimators=10, n_jobs=-1,\n",
      "              num_parallel_tree=None, ...), 'forecast_frequency': 'daily', 'company': 'apple', 'model_hyperparameters': {'n_estimators': 10, 'n_jobs': -1, 'max_depth': 9, 'eta': 0.3, 'booster': 'gbtree', 'objective': 'reg:squarederror', 'eval_metric': 'rmse', 'subsample': 1, 'colsample_bytree': 1, 'min_child_weight': 1, 'random_state': 2}, 'problem': 'classification'} \n",
      "\n",
      "(10895, 2) (10895, 1)\n",
      "xgboost\n"
     ]
    },
    {
     "name": "stderr",
     "output_type": "stream",
     "text": [
      "100%|██████████████████████████████████████████████████████████████████████████████████| 38/38 [00:00<00:00, 40.17it/s]\n"
     ]
    },
    {
     "name": "stdout",
     "output_type": "stream",
     "text": [
      "xgboost == {'unique_uuid': '1b078882-fbf8-11ee-bcf6-c0e434d84b22', 'train_end': datetime.datetime(2023, 12, 29, 0, 0), 'test_start': datetime.datetime(2024, 1, 2, 0, 0), 'test_end': datetime.datetime(2024, 2, 8, 0, 0), 'duration_training_history': 180, 'target_column': 'growth', 'train_features': ['close_lag_1', 'year', 'month', 'day', 'day_of_week', 'week_of_year'], 'path_to_result': '/diploma_info/datalake/', 'forecast_periods': 4, 'model_name': 'xgboost', 'model': XGBClassifier(base_score=None, booster='gbtree', callbacks=None,\n",
      "              colsample_bylevel=None, colsample_bynode=None, colsample_bytree=1,\n",
      "              device=None, early_stopping_rounds=None, enable_categorical=False,\n",
      "              eta=0.3, eval_metric='rmse', feature_types=None, gamma=None,\n",
      "              grow_policy=None, importance_type=None,\n",
      "              interaction_constraints=None, learning_rate=None, max_bin=None,\n",
      "              max_cat_threshold=None, max_cat_to_onehot=None,\n",
      "              max_delta_step=None, max_depth=9, max_leaves=None,\n",
      "              min_child_weight=1, missing=nan, monotone_constraints=None,\n",
      "              multi_strategy=None, n_estimators=10, n_jobs=-1,\n",
      "              num_parallel_tree=None, ...), 'forecast_frequency': 'daily', 'company': 'apple', 'model_hyperparameters': {'n_estimators': 10, 'n_jobs': -1, 'max_depth': 9, 'eta': 0.3, 'booster': 'gbtree', 'objective': 'reg:squarederror', 'eval_metric': 'rmse', 'subsample': 1, 'colsample_bytree': 1, 'min_child_weight': 1, 'random_state': 2}, 'problem': 'classification'} \n",
      "\n",
      "(10895, 6) (10895, 1)\n",
      "xgboost\n"
     ]
    },
    {
     "name": "stderr",
     "output_type": "stream",
     "text": [
      "100%|██████████████████████████████████████████████████████████████████████████████████| 38/38 [00:00<00:00, 38.04it/s]\n"
     ]
    },
    {
     "name": "stdout",
     "output_type": "stream",
     "text": [
      "xgboost == {'unique_uuid': '1b078883-fbf8-11ee-b54d-c0e434d84b22', 'train_end': datetime.datetime(2023, 12, 29, 0, 0), 'test_start': datetime.datetime(2024, 1, 2, 0, 0), 'test_end': datetime.datetime(2024, 2, 8, 0, 0), 'duration_training_history': 180, 'target_column': 'growth', 'train_features': ['close_lag_1', 'volume_lag_1'], 'path_to_result': '/diploma_info/datalake/', 'forecast_periods': 4, 'model_name': 'xgboost', 'model': XGBClassifier(base_score=None, booster='gbtree', callbacks=None,\n",
      "              colsample_bylevel=None, colsample_bynode=None, colsample_bytree=1,\n",
      "              device=None, early_stopping_rounds=None, enable_categorical=False,\n",
      "              eta=0.3, eval_metric='rmse', feature_types=None, gamma=None,\n",
      "              grow_policy=None, importance_type=None,\n",
      "              interaction_constraints=None, learning_rate=None, max_bin=None,\n",
      "              max_cat_threshold=None, max_cat_to_onehot=None,\n",
      "              max_delta_step=None, max_depth=9, max_leaves=None,\n",
      "              min_child_weight=1, missing=nan, monotone_constraints=None,\n",
      "              multi_strategy=None, n_estimators=200, n_jobs=-1,\n",
      "              num_parallel_tree=None, ...), 'forecast_frequency': 'daily', 'company': 'apple', 'model_hyperparameters': {'n_estimators': 200, 'n_jobs': -1, 'max_depth': 9, 'eta': 0.3, 'booster': 'gbtree', 'objective': 'reg:squarederror', 'eval_metric': 'rmse', 'subsample': 1, 'colsample_bytree': 1, 'min_child_weight': 1, 'random_state': 2}, 'problem': 'classification'} \n",
      "\n",
      "(10895, 2) (10895, 1)\n",
      "xgboost\n"
     ]
    },
    {
     "name": "stderr",
     "output_type": "stream",
     "text": [
      "100%|██████████████████████████████████████████████████████████████████████████████████| 38/38 [00:03<00:00, 12.22it/s]\n"
     ]
    },
    {
     "name": "stdout",
     "output_type": "stream",
     "text": [
      "xgboost == {'unique_uuid': '1b078884-fbf8-11ee-b572-c0e434d84b22', 'train_end': datetime.datetime(2023, 12, 29, 0, 0), 'test_start': datetime.datetime(2024, 1, 2, 0, 0), 'test_end': datetime.datetime(2024, 2, 8, 0, 0), 'duration_training_history': 180, 'target_column': 'growth', 'train_features': ['close_lag_1', 'year', 'month', 'day', 'day_of_week', 'week_of_year'], 'path_to_result': '/diploma_info/datalake/', 'forecast_periods': 4, 'model_name': 'xgboost', 'model': XGBClassifier(base_score=None, booster='gbtree', callbacks=None,\n",
      "              colsample_bylevel=None, colsample_bynode=None, colsample_bytree=1,\n",
      "              device=None, early_stopping_rounds=None, enable_categorical=False,\n",
      "              eta=0.3, eval_metric='rmse', feature_types=None, gamma=None,\n",
      "              grow_policy=None, importance_type=None,\n",
      "              interaction_constraints=None, learning_rate=None, max_bin=None,\n",
      "              max_cat_threshold=None, max_cat_to_onehot=None,\n",
      "              max_delta_step=None, max_depth=9, max_leaves=None,\n",
      "              min_child_weight=1, missing=nan, monotone_constraints=None,\n",
      "              multi_strategy=None, n_estimators=200, n_jobs=-1,\n",
      "              num_parallel_tree=None, ...), 'forecast_frequency': 'daily', 'company': 'apple', 'model_hyperparameters': {'n_estimators': 200, 'n_jobs': -1, 'max_depth': 9, 'eta': 0.3, 'booster': 'gbtree', 'objective': 'reg:squarederror', 'eval_metric': 'rmse', 'subsample': 1, 'colsample_bytree': 1, 'min_child_weight': 1, 'random_state': 2}, 'problem': 'classification'} \n",
      "\n",
      "(10895, 6) (10895, 1)\n",
      "xgboost\n"
     ]
    },
    {
     "name": "stderr",
     "output_type": "stream",
     "text": [
      "100%|██████████████████████████████████████████████████████████████████████████████████| 38/38 [00:02<00:00, 12.70it/s]\n"
     ]
    },
    {
     "name": "stdout",
     "output_type": "stream",
     "text": [
      "lightgbm == {'unique_uuid': '1b078885-fbf8-11ee-895d-c0e434d84b22', 'train_end': datetime.datetime(2023, 12, 29, 0, 0), 'test_start': datetime.datetime(2024, 1, 2, 0, 0), 'test_end': datetime.datetime(2024, 2, 8, 0, 0), 'duration_training_history': 180, 'target_column': 'growth', 'train_features': ['close_lag_1', 'volume_lag_1'], 'path_to_result': '/diploma_info/datalake/', 'forecast_periods': 4, 'model_name': 'lightgbm', 'model': LGBMClassifier(eta=0.3, max_depth=7, metric='binary', n_estimators=5000,\n",
      "               n_jobs=-1, objective='binary', random_state=2, verbosity=-1), 'forecast_frequency': 'daily', 'company': 'apple', 'model_hyperparameters': {'n_estimators': 5000, 'n_jobs': -1, 'max_depth': 7, 'eta': 0.3, 'random_state': 2, 'objective': 'binary', 'verbosity': -1, 'metric': 'binary'}, 'problem': 'classification'} \n",
      "\n",
      "(10895, 2) (10895, 1)\n",
      "lightgbm\n"
     ]
    },
    {
     "name": "stderr",
     "output_type": "stream",
     "text": [
      "100%|██████████████████████████████████████████████████████████████████████████████████| 38/38 [00:21<00:00,  1.79it/s]\n"
     ]
    },
    {
     "name": "stdout",
     "output_type": "stream",
     "text": [
      "lightgbm == {'unique_uuid': '1b078886-fbf8-11ee-9205-c0e434d84b22', 'train_end': datetime.datetime(2023, 12, 29, 0, 0), 'test_start': datetime.datetime(2024, 1, 2, 0, 0), 'test_end': datetime.datetime(2024, 2, 8, 0, 0), 'duration_training_history': 180, 'target_column': 'growth', 'train_features': ['close_lag_1', 'year', 'month', 'day', 'day_of_week', 'week_of_year'], 'path_to_result': '/diploma_info/datalake/', 'forecast_periods': 4, 'model_name': 'lightgbm', 'model': LGBMClassifier(eta=0.3, max_depth=7, metric='binary', n_estimators=5000,\n",
      "               n_jobs=-1, objective='binary', random_state=2, verbosity=-1), 'forecast_frequency': 'daily', 'company': 'apple', 'model_hyperparameters': {'n_estimators': 5000, 'n_jobs': -1, 'max_depth': 7, 'eta': 0.3, 'random_state': 2, 'objective': 'binary', 'verbosity': -1, 'metric': 'binary'}, 'problem': 'classification'} \n",
      "\n",
      "(10895, 6) (10895, 1)\n",
      "lightgbm\n"
     ]
    },
    {
     "name": "stderr",
     "output_type": "stream",
     "text": [
      "100%|██████████████████████████████████████████████████████████████████████████████████| 38/38 [00:22<00:00,  1.67it/s]\n"
     ]
    },
    {
     "name": "stdout",
     "output_type": "stream",
     "text": [
      "lightgbm == {'unique_uuid': '1b078887-fbf8-11ee-a468-c0e434d84b22', 'train_end': datetime.datetime(2023, 12, 29, 0, 0), 'test_start': datetime.datetime(2024, 1, 2, 0, 0), 'test_end': datetime.datetime(2024, 2, 8, 0, 0), 'duration_training_history': 180, 'target_column': 'growth', 'train_features': ['close_lag_1', 'volume_lag_1'], 'path_to_result': '/diploma_info/datalake/', 'forecast_periods': 4, 'model_name': 'lightgbm', 'model': LGBMClassifier(eta=0.3, max_depth=9, metric='binary', n_estimators=5000,\n",
      "               n_jobs=-1, objective='binary', random_state=2, verbosity=-1), 'forecast_frequency': 'daily', 'company': 'apple', 'model_hyperparameters': {'n_estimators': 5000, 'n_jobs': -1, 'max_depth': 9, 'eta': 0.3, 'random_state': 2, 'objective': 'binary', 'verbosity': -1, 'metric': 'binary'}, 'problem': 'classification'} \n",
      "\n",
      "(10895, 2) (10895, 1)\n",
      "lightgbm\n"
     ]
    },
    {
     "name": "stderr",
     "output_type": "stream",
     "text": [
      "100%|██████████████████████████████████████████████████████████████████████████████████| 38/38 [00:23<00:00,  1.59it/s]\n"
     ]
    },
    {
     "name": "stdout",
     "output_type": "stream",
     "text": [
      "lightgbm == {'unique_uuid': '1b078888-fbf8-11ee-84ae-c0e434d84b22', 'train_end': datetime.datetime(2023, 12, 29, 0, 0), 'test_start': datetime.datetime(2024, 1, 2, 0, 0), 'test_end': datetime.datetime(2024, 2, 8, 0, 0), 'duration_training_history': 180, 'target_column': 'growth', 'train_features': ['close_lag_1', 'year', 'month', 'day', 'day_of_week', 'week_of_year'], 'path_to_result': '/diploma_info/datalake/', 'forecast_periods': 4, 'model_name': 'lightgbm', 'model': LGBMClassifier(eta=0.3, max_depth=9, metric='binary', n_estimators=5000,\n",
      "               n_jobs=-1, objective='binary', random_state=2, verbosity=-1), 'forecast_frequency': 'daily', 'company': 'apple', 'model_hyperparameters': {'n_estimators': 5000, 'n_jobs': -1, 'max_depth': 9, 'eta': 0.3, 'random_state': 2, 'objective': 'binary', 'verbosity': -1, 'metric': 'binary'}, 'problem': 'classification'} \n",
      "\n",
      "(10895, 6) (10895, 1)\n",
      "lightgbm\n"
     ]
    },
    {
     "name": "stderr",
     "output_type": "stream",
     "text": [
      "100%|██████████████████████████████████████████████████████████████████████████████████| 38/38 [00:22<00:00,  1.68it/s]\n"
     ]
    },
    {
     "name": "stdout",
     "output_type": "stream",
     "text": [
      "random_forest == {'unique_uuid': '1b078889-fbf8-11ee-82cf-c0e434d84b22', 'train_end': datetime.datetime(2023, 12, 29, 0, 0), 'test_start': datetime.datetime(2024, 1, 2, 0, 0), 'test_end': datetime.datetime(2024, 2, 8, 0, 0), 'duration_training_history': 180, 'target_column': 'growth', 'train_features': ['close_lag_1', 'volume_lag_1'], 'path_to_result': '/diploma_info/datalake/', 'forecast_periods': 4, 'model_name': 'random_forest', 'model': RandomForestClassifier(max_depth=7, n_estimators=10, n_jobs=-1, random_state=2), 'forecast_frequency': 'daily', 'company': 'apple', 'model_hyperparameters': {'n_estimators': 10, 'n_jobs': -1, 'random_state': 2, 'max_depth': 7}, 'problem': 'classification'} \n",
      "\n",
      "(10895, 2) (10895, 1)\n",
      "random_forest\n"
     ]
    },
    {
     "name": "stderr",
     "output_type": "stream",
     "text": [
      "100%|██████████████████████████████████████████████████████████████████████████████████| 38/38 [00:02<00:00, 16.79it/s]\n"
     ]
    },
    {
     "name": "stdout",
     "output_type": "stream",
     "text": [
      "random_forest == {'unique_uuid': '1b07888a-fbf8-11ee-a719-c0e434d84b22', 'train_end': datetime.datetime(2023, 12, 29, 0, 0), 'test_start': datetime.datetime(2024, 1, 2, 0, 0), 'test_end': datetime.datetime(2024, 2, 8, 0, 0), 'duration_training_history': 180, 'target_column': 'growth', 'train_features': ['close_lag_1', 'year', 'month', 'day', 'day_of_week', 'week_of_year'], 'path_to_result': '/diploma_info/datalake/', 'forecast_periods': 4, 'model_name': 'random_forest', 'model': RandomForestClassifier(max_depth=7, n_estimators=10, n_jobs=-1, random_state=2), 'forecast_frequency': 'daily', 'company': 'apple', 'model_hyperparameters': {'n_estimators': 10, 'n_jobs': -1, 'random_state': 2, 'max_depth': 7}, 'problem': 'classification'} \n",
      "\n",
      "(10895, 6) (10895, 1)\n",
      "random_forest\n"
     ]
    },
    {
     "name": "stderr",
     "output_type": "stream",
     "text": [
      "100%|██████████████████████████████████████████████████████████████████████████████████| 38/38 [00:02<00:00, 17.36it/s]\n"
     ]
    },
    {
     "name": "stdout",
     "output_type": "stream",
     "text": [
      "knear_neighbors == {'unique_uuid': '1b07888b-fbf8-11ee-ac1d-c0e434d84b22', 'train_end': datetime.datetime(2023, 12, 29, 0, 0), 'test_start': datetime.datetime(2024, 1, 2, 0, 0), 'test_end': datetime.datetime(2024, 2, 8, 0, 0), 'duration_training_history': 180, 'target_column': 'growth', 'train_features': ['close_lag_1', 'volume_lag_1'], 'path_to_result': '/diploma_info/datalake/', 'forecast_periods': 4, 'model_name': 'knear_neighbors', 'model': KNeighborsClassifier(n_jobs=-1, n_neighbors=3), 'forecast_frequency': 'daily', 'company': 'apple', 'model_hyperparameters': {'n_neighbors': 3, 'n_jobs': -1}, 'problem': 'classification'} \n",
      "\n",
      "(10895, 2) (10895, 1)\n",
      "knear_neighbors\n"
     ]
    },
    {
     "name": "stderr",
     "output_type": "stream",
     "text": [
      "100%|██████████████████████████████████████████████████████████████████████████████████| 38/38 [00:01<00:00, 36.22it/s]\n"
     ]
    },
    {
     "name": "stdout",
     "output_type": "stream",
     "text": [
      "knear_neighbors == {'unique_uuid': '1b07888c-fbf8-11ee-8162-c0e434d84b22', 'train_end': datetime.datetime(2023, 12, 29, 0, 0), 'test_start': datetime.datetime(2024, 1, 2, 0, 0), 'test_end': datetime.datetime(2024, 2, 8, 0, 0), 'duration_training_history': 180, 'target_column': 'growth', 'train_features': ['close_lag_1', 'year', 'month', 'day', 'day_of_week', 'week_of_year'], 'path_to_result': '/diploma_info/datalake/', 'forecast_periods': 4, 'model_name': 'knear_neighbors', 'model': KNeighborsClassifier(n_jobs=-1, n_neighbors=3), 'forecast_frequency': 'daily', 'company': 'apple', 'model_hyperparameters': {'n_neighbors': 3, 'n_jobs': -1}, 'problem': 'classification'} \n",
      "\n",
      "(10895, 6) (10895, 1)\n",
      "knear_neighbors\n"
     ]
    },
    {
     "name": "stderr",
     "output_type": "stream",
     "text": [
      "100%|██████████████████████████████████████████████████████████████████████████████████| 38/38 [00:01<00:00, 37.37it/s]\n"
     ]
    },
    {
     "name": "stdout",
     "output_type": "stream",
     "text": [
      "knear_neighbors == {'unique_uuid': '1b07888d-fbf8-11ee-b312-c0e434d84b22', 'train_end': datetime.datetime(2023, 12, 29, 0, 0), 'test_start': datetime.datetime(2024, 1, 2, 0, 0), 'test_end': datetime.datetime(2024, 2, 8, 0, 0), 'duration_training_history': 180, 'target_column': 'growth', 'train_features': ['close_lag_1', 'volume_lag_1'], 'path_to_result': '/diploma_info/datalake/', 'forecast_periods': 4, 'model_name': 'knear_neighbors', 'model': KNeighborsClassifier(n_jobs=-1, n_neighbors=50), 'forecast_frequency': 'daily', 'company': 'apple', 'model_hyperparameters': {'n_neighbors': 50, 'n_jobs': -1}, 'problem': 'classification'} \n",
      "\n",
      "(10895, 2) (10895, 1)\n",
      "knear_neighbors\n"
     ]
    },
    {
     "name": "stderr",
     "output_type": "stream",
     "text": [
      "100%|██████████████████████████████████████████████████████████████████████████████████| 38/38 [00:01<00:00, 37.43it/s]\n"
     ]
    },
    {
     "name": "stdout",
     "output_type": "stream",
     "text": [
      "knear_neighbors == {'unique_uuid': '1b07888e-fbf8-11ee-bfea-c0e434d84b22', 'train_end': datetime.datetime(2023, 12, 29, 0, 0), 'test_start': datetime.datetime(2024, 1, 2, 0, 0), 'test_end': datetime.datetime(2024, 2, 8, 0, 0), 'duration_training_history': 180, 'target_column': 'growth', 'train_features': ['close_lag_1', 'year', 'month', 'day', 'day_of_week', 'week_of_year'], 'path_to_result': '/diploma_info/datalake/', 'forecast_periods': 4, 'model_name': 'knear_neighbors', 'model': KNeighborsClassifier(n_jobs=-1, n_neighbors=50), 'forecast_frequency': 'daily', 'company': 'apple', 'model_hyperparameters': {'n_neighbors': 50, 'n_jobs': -1}, 'problem': 'classification'} \n",
      "\n",
      "(10895, 6) (10895, 1)\n",
      "knear_neighbors\n"
     ]
    },
    {
     "name": "stderr",
     "output_type": "stream",
     "text": [
      "100%|██████████████████████████████████████████████████████████████████████████████████| 38/38 [00:00<00:00, 38.21it/s]\n"
     ]
    },
    {
     "name": "stdout",
     "output_type": "stream",
     "text": [
      "xgboost == {'unique_uuid': '1b07888f-fbf8-11ee-b7ea-c0e434d84b22', 'train_end': datetime.datetime(2023, 12, 29, 0, 0), 'test_start': datetime.datetime(2024, 1, 2, 0, 0), 'test_end': datetime.datetime(2024, 2, 8, 0, 0), 'duration_training_history': 240, 'target_column': 'growth', 'train_features': ['close_lag_1', 'volume_lag_1'], 'path_to_result': '/diploma_info/datalake/', 'forecast_periods': 4, 'model_name': 'xgboost', 'model': XGBClassifier(base_score=None, booster='gbtree', callbacks=None,\n",
      "              colsample_bylevel=None, colsample_bynode=None, colsample_bytree=1,\n",
      "              device=None, early_stopping_rounds=None, enable_categorical=False,\n",
      "              eta=0.3, eval_metric='rmse', feature_types=None, gamma=None,\n",
      "              grow_policy=None, importance_type=None,\n",
      "              interaction_constraints=None, learning_rate=None, max_bin=None,\n",
      "              max_cat_threshold=None, max_cat_to_onehot=None,\n",
      "              max_delta_step=None, max_depth=7, max_leaves=None,\n",
      "              min_child_weight=1, missing=nan, monotone_constraints=None,\n",
      "              multi_strategy=None, n_estimators=10, n_jobs=-1,\n",
      "              num_parallel_tree=None, ...), 'forecast_frequency': 'daily', 'company': 'apple', 'model_hyperparameters': {'n_estimators': 10, 'n_jobs': -1, 'max_depth': 7, 'eta': 0.3, 'booster': 'gbtree', 'objective': 'reg:squarederror', 'eval_metric': 'rmse', 'subsample': 1, 'colsample_bytree': 1, 'min_child_weight': 1, 'random_state': 2}, 'problem': 'classification'} \n",
      "\n",
      "(10895, 2) (10895, 1)\n",
      "xgboost\n"
     ]
    },
    {
     "name": "stderr",
     "output_type": "stream",
     "text": [
      "100%|██████████████████████████████████████████████████████████████████████████████████| 38/38 [00:00<00:00, 42.79it/s]\n"
     ]
    },
    {
     "name": "stdout",
     "output_type": "stream",
     "text": [
      "xgboost == {'unique_uuid': '1b078890-fbf8-11ee-b019-c0e434d84b22', 'train_end': datetime.datetime(2023, 12, 29, 0, 0), 'test_start': datetime.datetime(2024, 1, 2, 0, 0), 'test_end': datetime.datetime(2024, 2, 8, 0, 0), 'duration_training_history': 240, 'target_column': 'growth', 'train_features': ['close_lag_1', 'year', 'month', 'day', 'day_of_week', 'week_of_year'], 'path_to_result': '/diploma_info/datalake/', 'forecast_periods': 4, 'model_name': 'xgboost', 'model': XGBClassifier(base_score=None, booster='gbtree', callbacks=None,\n",
      "              colsample_bylevel=None, colsample_bynode=None, colsample_bytree=1,\n",
      "              device=None, early_stopping_rounds=None, enable_categorical=False,\n",
      "              eta=0.3, eval_metric='rmse', feature_types=None, gamma=None,\n",
      "              grow_policy=None, importance_type=None,\n",
      "              interaction_constraints=None, learning_rate=None, max_bin=None,\n",
      "              max_cat_threshold=None, max_cat_to_onehot=None,\n",
      "              max_delta_step=None, max_depth=7, max_leaves=None,\n",
      "              min_child_weight=1, missing=nan, monotone_constraints=None,\n",
      "              multi_strategy=None, n_estimators=10, n_jobs=-1,\n",
      "              num_parallel_tree=None, ...), 'forecast_frequency': 'daily', 'company': 'apple', 'model_hyperparameters': {'n_estimators': 10, 'n_jobs': -1, 'max_depth': 7, 'eta': 0.3, 'booster': 'gbtree', 'objective': 'reg:squarederror', 'eval_metric': 'rmse', 'subsample': 1, 'colsample_bytree': 1, 'min_child_weight': 1, 'random_state': 2}, 'problem': 'classification'} \n",
      "\n",
      "(10895, 6) (10895, 1)\n",
      "xgboost\n"
     ]
    },
    {
     "name": "stderr",
     "output_type": "stream",
     "text": [
      "100%|██████████████████████████████████████████████████████████████████████████████████| 38/38 [00:00<00:00, 40.00it/s]\n"
     ]
    },
    {
     "name": "stdout",
     "output_type": "stream",
     "text": [
      "xgboost == {'unique_uuid': '1b078891-fbf8-11ee-bd31-c0e434d84b22', 'train_end': datetime.datetime(2023, 12, 29, 0, 0), 'test_start': datetime.datetime(2024, 1, 2, 0, 0), 'test_end': datetime.datetime(2024, 2, 8, 0, 0), 'duration_training_history': 240, 'target_column': 'growth', 'train_features': ['close_lag_1', 'volume_lag_1'], 'path_to_result': '/diploma_info/datalake/', 'forecast_periods': 4, 'model_name': 'xgboost', 'model': XGBClassifier(base_score=None, booster='gbtree', callbacks=None,\n",
      "              colsample_bylevel=None, colsample_bynode=None, colsample_bytree=1,\n",
      "              device=None, early_stopping_rounds=None, enable_categorical=False,\n",
      "              eta=0.3, eval_metric='rmse', feature_types=None, gamma=None,\n",
      "              grow_policy=None, importance_type=None,\n",
      "              interaction_constraints=None, learning_rate=None, max_bin=None,\n",
      "              max_cat_threshold=None, max_cat_to_onehot=None,\n",
      "              max_delta_step=None, max_depth=7, max_leaves=None,\n",
      "              min_child_weight=1, missing=nan, monotone_constraints=None,\n",
      "              multi_strategy=None, n_estimators=200, n_jobs=-1,\n",
      "              num_parallel_tree=None, ...), 'forecast_frequency': 'daily', 'company': 'apple', 'model_hyperparameters': {'n_estimators': 200, 'n_jobs': -1, 'max_depth': 7, 'eta': 0.3, 'booster': 'gbtree', 'objective': 'reg:squarederror', 'eval_metric': 'rmse', 'subsample': 1, 'colsample_bytree': 1, 'min_child_weight': 1, 'random_state': 2}, 'problem': 'classification'} \n",
      "\n",
      "(10895, 2) (10895, 1)\n",
      "xgboost\n"
     ]
    },
    {
     "name": "stderr",
     "output_type": "stream",
     "text": [
      "100%|██████████████████████████████████████████████████████████████████████████████████| 38/38 [00:03<00:00, 10.34it/s]\n"
     ]
    },
    {
     "name": "stdout",
     "output_type": "stream",
     "text": [
      "xgboost == {'unique_uuid': '1b078892-fbf8-11ee-ab24-c0e434d84b22', 'train_end': datetime.datetime(2023, 12, 29, 0, 0), 'test_start': datetime.datetime(2024, 1, 2, 0, 0), 'test_end': datetime.datetime(2024, 2, 8, 0, 0), 'duration_training_history': 240, 'target_column': 'growth', 'train_features': ['close_lag_1', 'year', 'month', 'day', 'day_of_week', 'week_of_year'], 'path_to_result': '/diploma_info/datalake/', 'forecast_periods': 4, 'model_name': 'xgboost', 'model': XGBClassifier(base_score=None, booster='gbtree', callbacks=None,\n",
      "              colsample_bylevel=None, colsample_bynode=None, colsample_bytree=1,\n",
      "              device=None, early_stopping_rounds=None, enable_categorical=False,\n",
      "              eta=0.3, eval_metric='rmse', feature_types=None, gamma=None,\n",
      "              grow_policy=None, importance_type=None,\n",
      "              interaction_constraints=None, learning_rate=None, max_bin=None,\n",
      "              max_cat_threshold=None, max_cat_to_onehot=None,\n",
      "              max_delta_step=None, max_depth=7, max_leaves=None,\n",
      "              min_child_weight=1, missing=nan, monotone_constraints=None,\n",
      "              multi_strategy=None, n_estimators=200, n_jobs=-1,\n",
      "              num_parallel_tree=None, ...), 'forecast_frequency': 'daily', 'company': 'apple', 'model_hyperparameters': {'n_estimators': 200, 'n_jobs': -1, 'max_depth': 7, 'eta': 0.3, 'booster': 'gbtree', 'objective': 'reg:squarederror', 'eval_metric': 'rmse', 'subsample': 1, 'colsample_bytree': 1, 'min_child_weight': 1, 'random_state': 2}, 'problem': 'classification'} \n",
      "\n",
      "(10895, 6) (10895, 1)\n",
      "xgboost\n"
     ]
    },
    {
     "name": "stderr",
     "output_type": "stream",
     "text": [
      "100%|██████████████████████████████████████████████████████████████████████████████████| 38/38 [00:03<00:00, 11.07it/s]\n"
     ]
    },
    {
     "name": "stdout",
     "output_type": "stream",
     "text": [
      "xgboost == {'unique_uuid': '1b078893-fbf8-11ee-a23f-c0e434d84b22', 'train_end': datetime.datetime(2023, 12, 29, 0, 0), 'test_start': datetime.datetime(2024, 1, 2, 0, 0), 'test_end': datetime.datetime(2024, 2, 8, 0, 0), 'duration_training_history': 240, 'target_column': 'growth', 'train_features': ['close_lag_1', 'volume_lag_1'], 'path_to_result': '/diploma_info/datalake/', 'forecast_periods': 4, 'model_name': 'xgboost', 'model': XGBClassifier(base_score=None, booster='gbtree', callbacks=None,\n",
      "              colsample_bylevel=None, colsample_bynode=None, colsample_bytree=1,\n",
      "              device=None, early_stopping_rounds=None, enable_categorical=False,\n",
      "              eta=0.3, eval_metric='rmse', feature_types=None, gamma=None,\n",
      "              grow_policy=None, importance_type=None,\n",
      "              interaction_constraints=None, learning_rate=None, max_bin=None,\n",
      "              max_cat_threshold=None, max_cat_to_onehot=None,\n",
      "              max_delta_step=None, max_depth=9, max_leaves=None,\n",
      "              min_child_weight=1, missing=nan, monotone_constraints=None,\n",
      "              multi_strategy=None, n_estimators=10, n_jobs=-1,\n",
      "              num_parallel_tree=None, ...), 'forecast_frequency': 'daily', 'company': 'apple', 'model_hyperparameters': {'n_estimators': 10, 'n_jobs': -1, 'max_depth': 9, 'eta': 0.3, 'booster': 'gbtree', 'objective': 'reg:squarederror', 'eval_metric': 'rmse', 'subsample': 1, 'colsample_bytree': 1, 'min_child_weight': 1, 'random_state': 2}, 'problem': 'classification'} \n",
      "\n",
      "(10895, 2) (10895, 1)\n",
      "xgboost\n"
     ]
    },
    {
     "name": "stderr",
     "output_type": "stream",
     "text": [
      "100%|██████████████████████████████████████████████████████████████████████████████████| 38/38 [00:01<00:00, 37.73it/s]\n"
     ]
    },
    {
     "name": "stdout",
     "output_type": "stream",
     "text": [
      "xgboost == {'unique_uuid': '1b078894-fbf8-11ee-9807-c0e434d84b22', 'train_end': datetime.datetime(2023, 12, 29, 0, 0), 'test_start': datetime.datetime(2024, 1, 2, 0, 0), 'test_end': datetime.datetime(2024, 2, 8, 0, 0), 'duration_training_history': 240, 'target_column': 'growth', 'train_features': ['close_lag_1', 'year', 'month', 'day', 'day_of_week', 'week_of_year'], 'path_to_result': '/diploma_info/datalake/', 'forecast_periods': 4, 'model_name': 'xgboost', 'model': XGBClassifier(base_score=None, booster='gbtree', callbacks=None,\n",
      "              colsample_bylevel=None, colsample_bynode=None, colsample_bytree=1,\n",
      "              device=None, early_stopping_rounds=None, enable_categorical=False,\n",
      "              eta=0.3, eval_metric='rmse', feature_types=None, gamma=None,\n",
      "              grow_policy=None, importance_type=None,\n",
      "              interaction_constraints=None, learning_rate=None, max_bin=None,\n",
      "              max_cat_threshold=None, max_cat_to_onehot=None,\n",
      "              max_delta_step=None, max_depth=9, max_leaves=None,\n",
      "              min_child_weight=1, missing=nan, monotone_constraints=None,\n",
      "              multi_strategy=None, n_estimators=10, n_jobs=-1,\n",
      "              num_parallel_tree=None, ...), 'forecast_frequency': 'daily', 'company': 'apple', 'model_hyperparameters': {'n_estimators': 10, 'n_jobs': -1, 'max_depth': 9, 'eta': 0.3, 'booster': 'gbtree', 'objective': 'reg:squarederror', 'eval_metric': 'rmse', 'subsample': 1, 'colsample_bytree': 1, 'min_child_weight': 1, 'random_state': 2}, 'problem': 'classification'} \n",
      "\n",
      "(10895, 6) (10895, 1)\n",
      "xgboost\n"
     ]
    },
    {
     "name": "stderr",
     "output_type": "stream",
     "text": [
      "100%|██████████████████████████████████████████████████████████████████████████████████| 38/38 [00:01<00:00, 34.05it/s]\n"
     ]
    },
    {
     "name": "stdout",
     "output_type": "stream",
     "text": [
      "xgboost == {'unique_uuid': '1b078895-fbf8-11ee-942b-c0e434d84b22', 'train_end': datetime.datetime(2023, 12, 29, 0, 0), 'test_start': datetime.datetime(2024, 1, 2, 0, 0), 'test_end': datetime.datetime(2024, 2, 8, 0, 0), 'duration_training_history': 240, 'target_column': 'growth', 'train_features': ['close_lag_1', 'volume_lag_1'], 'path_to_result': '/diploma_info/datalake/', 'forecast_periods': 4, 'model_name': 'xgboost', 'model': XGBClassifier(base_score=None, booster='gbtree', callbacks=None,\n",
      "              colsample_bylevel=None, colsample_bynode=None, colsample_bytree=1,\n",
      "              device=None, early_stopping_rounds=None, enable_categorical=False,\n",
      "              eta=0.3, eval_metric='rmse', feature_types=None, gamma=None,\n",
      "              grow_policy=None, importance_type=None,\n",
      "              interaction_constraints=None, learning_rate=None, max_bin=None,\n",
      "              max_cat_threshold=None, max_cat_to_onehot=None,\n",
      "              max_delta_step=None, max_depth=9, max_leaves=None,\n",
      "              min_child_weight=1, missing=nan, monotone_constraints=None,\n",
      "              multi_strategy=None, n_estimators=200, n_jobs=-1,\n",
      "              num_parallel_tree=None, ...), 'forecast_frequency': 'daily', 'company': 'apple', 'model_hyperparameters': {'n_estimators': 200, 'n_jobs': -1, 'max_depth': 9, 'eta': 0.3, 'booster': 'gbtree', 'objective': 'reg:squarederror', 'eval_metric': 'rmse', 'subsample': 1, 'colsample_bytree': 1, 'min_child_weight': 1, 'random_state': 2}, 'problem': 'classification'} \n",
      "\n",
      "(10895, 2) (10895, 1)\n",
      "xgboost\n"
     ]
    },
    {
     "name": "stderr",
     "output_type": "stream",
     "text": [
      "100%|██████████████████████████████████████████████████████████████████████████████████| 38/38 [00:03<00:00, 10.17it/s]\n"
     ]
    },
    {
     "name": "stdout",
     "output_type": "stream",
     "text": [
      "xgboost == {'unique_uuid': '1b078896-fbf8-11ee-8c61-c0e434d84b22', 'train_end': datetime.datetime(2023, 12, 29, 0, 0), 'test_start': datetime.datetime(2024, 1, 2, 0, 0), 'test_end': datetime.datetime(2024, 2, 8, 0, 0), 'duration_training_history': 240, 'target_column': 'growth', 'train_features': ['close_lag_1', 'year', 'month', 'day', 'day_of_week', 'week_of_year'], 'path_to_result': '/diploma_info/datalake/', 'forecast_periods': 4, 'model_name': 'xgboost', 'model': XGBClassifier(base_score=None, booster='gbtree', callbacks=None,\n",
      "              colsample_bylevel=None, colsample_bynode=None, colsample_bytree=1,\n",
      "              device=None, early_stopping_rounds=None, enable_categorical=False,\n",
      "              eta=0.3, eval_metric='rmse', feature_types=None, gamma=None,\n",
      "              grow_policy=None, importance_type=None,\n",
      "              interaction_constraints=None, learning_rate=None, max_bin=None,\n",
      "              max_cat_threshold=None, max_cat_to_onehot=None,\n",
      "              max_delta_step=None, max_depth=9, max_leaves=None,\n",
      "              min_child_weight=1, missing=nan, monotone_constraints=None,\n",
      "              multi_strategy=None, n_estimators=200, n_jobs=-1,\n",
      "              num_parallel_tree=None, ...), 'forecast_frequency': 'daily', 'company': 'apple', 'model_hyperparameters': {'n_estimators': 200, 'n_jobs': -1, 'max_depth': 9, 'eta': 0.3, 'booster': 'gbtree', 'objective': 'reg:squarederror', 'eval_metric': 'rmse', 'subsample': 1, 'colsample_bytree': 1, 'min_child_weight': 1, 'random_state': 2}, 'problem': 'classification'} \n",
      "\n",
      "(10895, 6) (10895, 1)\n",
      "xgboost\n"
     ]
    },
    {
     "name": "stderr",
     "output_type": "stream",
     "text": [
      "100%|██████████████████████████████████████████████████████████████████████████████████| 38/38 [00:03<00:00, 10.73it/s]\n"
     ]
    },
    {
     "name": "stdout",
     "output_type": "stream",
     "text": [
      "lightgbm == {'unique_uuid': '1b078897-fbf8-11ee-9a1b-c0e434d84b22', 'train_end': datetime.datetime(2023, 12, 29, 0, 0), 'test_start': datetime.datetime(2024, 1, 2, 0, 0), 'test_end': datetime.datetime(2024, 2, 8, 0, 0), 'duration_training_history': 240, 'target_column': 'growth', 'train_features': ['close_lag_1', 'volume_lag_1'], 'path_to_result': '/diploma_info/datalake/', 'forecast_periods': 4, 'model_name': 'lightgbm', 'model': LGBMClassifier(eta=0.3, max_depth=7, metric='binary', n_estimators=5000,\n",
      "               n_jobs=-1, objective='binary', random_state=2, verbosity=-1), 'forecast_frequency': 'daily', 'company': 'apple', 'model_hyperparameters': {'n_estimators': 5000, 'n_jobs': -1, 'max_depth': 7, 'eta': 0.3, 'random_state': 2, 'objective': 'binary', 'verbosity': -1, 'metric': 'binary'}, 'problem': 'classification'} \n",
      "\n",
      "(10895, 2) (10895, 1)\n",
      "lightgbm\n"
     ]
    },
    {
     "name": "stderr",
     "output_type": "stream",
     "text": [
      "100%|██████████████████████████████████████████████████████████████████████████████████| 38/38 [00:37<00:00,  1.02it/s]\n"
     ]
    },
    {
     "name": "stdout",
     "output_type": "stream",
     "text": [
      "lightgbm == {'unique_uuid': '1b078898-fbf8-11ee-829c-c0e434d84b22', 'train_end': datetime.datetime(2023, 12, 29, 0, 0), 'test_start': datetime.datetime(2024, 1, 2, 0, 0), 'test_end': datetime.datetime(2024, 2, 8, 0, 0), 'duration_training_history': 240, 'target_column': 'growth', 'train_features': ['close_lag_1', 'year', 'month', 'day', 'day_of_week', 'week_of_year'], 'path_to_result': '/diploma_info/datalake/', 'forecast_periods': 4, 'model_name': 'lightgbm', 'model': LGBMClassifier(eta=0.3, max_depth=7, metric='binary', n_estimators=5000,\n",
      "               n_jobs=-1, objective='binary', random_state=2, verbosity=-1), 'forecast_frequency': 'daily', 'company': 'apple', 'model_hyperparameters': {'n_estimators': 5000, 'n_jobs': -1, 'max_depth': 7, 'eta': 0.3, 'random_state': 2, 'objective': 'binary', 'verbosity': -1, 'metric': 'binary'}, 'problem': 'classification'} \n",
      "\n",
      "(10895, 6) (10895, 1)\n",
      "lightgbm\n"
     ]
    },
    {
     "name": "stderr",
     "output_type": "stream",
     "text": [
      "100%|██████████████████████████████████████████████████████████████████████████████████| 38/38 [00:32<00:00,  1.18it/s]\n"
     ]
    },
    {
     "name": "stdout",
     "output_type": "stream",
     "text": [
      "lightgbm == {'unique_uuid': '1b078899-fbf8-11ee-afef-c0e434d84b22', 'train_end': datetime.datetime(2023, 12, 29, 0, 0), 'test_start': datetime.datetime(2024, 1, 2, 0, 0), 'test_end': datetime.datetime(2024, 2, 8, 0, 0), 'duration_training_history': 240, 'target_column': 'growth', 'train_features': ['close_lag_1', 'volume_lag_1'], 'path_to_result': '/diploma_info/datalake/', 'forecast_periods': 4, 'model_name': 'lightgbm', 'model': LGBMClassifier(eta=0.3, max_depth=9, metric='binary', n_estimators=5000,\n",
      "               n_jobs=-1, objective='binary', random_state=2, verbosity=-1), 'forecast_frequency': 'daily', 'company': 'apple', 'model_hyperparameters': {'n_estimators': 5000, 'n_jobs': -1, 'max_depth': 9, 'eta': 0.3, 'random_state': 2, 'objective': 'binary', 'verbosity': -1, 'metric': 'binary'}, 'problem': 'classification'} \n",
      "\n",
      "(10895, 2) (10895, 1)\n",
      "lightgbm\n"
     ]
    },
    {
     "name": "stderr",
     "output_type": "stream",
     "text": [
      "100%|██████████████████████████████████████████████████████████████████████████████████| 38/38 [00:27<00:00,  1.37it/s]\n"
     ]
    },
    {
     "name": "stdout",
     "output_type": "stream",
     "text": [
      "lightgbm == {'unique_uuid': '1b07889a-fbf8-11ee-bdd5-c0e434d84b22', 'train_end': datetime.datetime(2023, 12, 29, 0, 0), 'test_start': datetime.datetime(2024, 1, 2, 0, 0), 'test_end': datetime.datetime(2024, 2, 8, 0, 0), 'duration_training_history': 240, 'target_column': 'growth', 'train_features': ['close_lag_1', 'year', 'month', 'day', 'day_of_week', 'week_of_year'], 'path_to_result': '/diploma_info/datalake/', 'forecast_periods': 4, 'model_name': 'lightgbm', 'model': LGBMClassifier(eta=0.3, max_depth=9, metric='binary', n_estimators=5000,\n",
      "               n_jobs=-1, objective='binary', random_state=2, verbosity=-1), 'forecast_frequency': 'daily', 'company': 'apple', 'model_hyperparameters': {'n_estimators': 5000, 'n_jobs': -1, 'max_depth': 9, 'eta': 0.3, 'random_state': 2, 'objective': 'binary', 'verbosity': -1, 'metric': 'binary'}, 'problem': 'classification'} \n",
      "\n",
      "(10895, 6) (10895, 1)\n",
      "lightgbm\n"
     ]
    },
    {
     "name": "stderr",
     "output_type": "stream",
     "text": [
      "100%|██████████████████████████████████████████████████████████████████████████████████| 38/38 [00:32<00:00,  1.18it/s]\n"
     ]
    },
    {
     "name": "stdout",
     "output_type": "stream",
     "text": [
      "random_forest == {'unique_uuid': '1b07889b-fbf8-11ee-8d81-c0e434d84b22', 'train_end': datetime.datetime(2023, 12, 29, 0, 0), 'test_start': datetime.datetime(2024, 1, 2, 0, 0), 'test_end': datetime.datetime(2024, 2, 8, 0, 0), 'duration_training_history': 240, 'target_column': 'growth', 'train_features': ['close_lag_1', 'volume_lag_1'], 'path_to_result': '/diploma_info/datalake/', 'forecast_periods': 4, 'model_name': 'random_forest', 'model': RandomForestClassifier(max_depth=7, n_estimators=10, n_jobs=-1, random_state=2), 'forecast_frequency': 'daily', 'company': 'apple', 'model_hyperparameters': {'n_estimators': 10, 'n_jobs': -1, 'random_state': 2, 'max_depth': 7}, 'problem': 'classification'} \n",
      "\n",
      "(10895, 2) (10895, 1)\n",
      "random_forest\n"
     ]
    },
    {
     "name": "stderr",
     "output_type": "stream",
     "text": [
      "100%|██████████████████████████████████████████████████████████████████████████████████| 38/38 [00:02<00:00, 13.01it/s]\n"
     ]
    },
    {
     "name": "stdout",
     "output_type": "stream",
     "text": [
      "random_forest == {'unique_uuid': '1b07889c-fbf8-11ee-83bb-c0e434d84b22', 'train_end': datetime.datetime(2023, 12, 29, 0, 0), 'test_start': datetime.datetime(2024, 1, 2, 0, 0), 'test_end': datetime.datetime(2024, 2, 8, 0, 0), 'duration_training_history': 240, 'target_column': 'growth', 'train_features': ['close_lag_1', 'year', 'month', 'day', 'day_of_week', 'week_of_year'], 'path_to_result': '/diploma_info/datalake/', 'forecast_periods': 4, 'model_name': 'random_forest', 'model': RandomForestClassifier(max_depth=7, n_estimators=10, n_jobs=-1, random_state=2), 'forecast_frequency': 'daily', 'company': 'apple', 'model_hyperparameters': {'n_estimators': 10, 'n_jobs': -1, 'random_state': 2, 'max_depth': 7}, 'problem': 'classification'} \n",
      "\n",
      "(10895, 6) (10895, 1)\n",
      "random_forest\n"
     ]
    },
    {
     "name": "stderr",
     "output_type": "stream",
     "text": [
      "100%|██████████████████████████████████████████████████████████████████████████████████| 38/38 [00:02<00:00, 15.35it/s]\n"
     ]
    },
    {
     "name": "stdout",
     "output_type": "stream",
     "text": [
      "knear_neighbors == {'unique_uuid': '1b07889d-fbf8-11ee-a222-c0e434d84b22', 'train_end': datetime.datetime(2023, 12, 29, 0, 0), 'test_start': datetime.datetime(2024, 1, 2, 0, 0), 'test_end': datetime.datetime(2024, 2, 8, 0, 0), 'duration_training_history': 240, 'target_column': 'growth', 'train_features': ['close_lag_1', 'volume_lag_1'], 'path_to_result': '/diploma_info/datalake/', 'forecast_periods': 4, 'model_name': 'knear_neighbors', 'model': KNeighborsClassifier(n_jobs=-1, n_neighbors=3), 'forecast_frequency': 'daily', 'company': 'apple', 'model_hyperparameters': {'n_neighbors': 3, 'n_jobs': -1}, 'problem': 'classification'} \n",
      "\n",
      "(10895, 2) (10895, 1)\n",
      "knear_neighbors\n"
     ]
    },
    {
     "name": "stderr",
     "output_type": "stream",
     "text": [
      "100%|██████████████████████████████████████████████████████████████████████████████████| 38/38 [00:01<00:00, 35.05it/s]\n"
     ]
    },
    {
     "name": "stdout",
     "output_type": "stream",
     "text": [
      "knear_neighbors == {'unique_uuid': '1b07889e-fbf8-11ee-b8a3-c0e434d84b22', 'train_end': datetime.datetime(2023, 12, 29, 0, 0), 'test_start': datetime.datetime(2024, 1, 2, 0, 0), 'test_end': datetime.datetime(2024, 2, 8, 0, 0), 'duration_training_history': 240, 'target_column': 'growth', 'train_features': ['close_lag_1', 'year', 'month', 'day', 'day_of_week', 'week_of_year'], 'path_to_result': '/diploma_info/datalake/', 'forecast_periods': 4, 'model_name': 'knear_neighbors', 'model': KNeighborsClassifier(n_jobs=-1, n_neighbors=3), 'forecast_frequency': 'daily', 'company': 'apple', 'model_hyperparameters': {'n_neighbors': 3, 'n_jobs': -1}, 'problem': 'classification'} \n",
      "\n",
      "(10895, 6) (10895, 1)\n",
      "knear_neighbors\n"
     ]
    },
    {
     "name": "stderr",
     "output_type": "stream",
     "text": [
      "100%|██████████████████████████████████████████████████████████████████████████████████| 38/38 [00:01<00:00, 34.74it/s]\n"
     ]
    },
    {
     "name": "stdout",
     "output_type": "stream",
     "text": [
      "knear_neighbors == {'unique_uuid': '1b07889f-fbf8-11ee-9399-c0e434d84b22', 'train_end': datetime.datetime(2023, 12, 29, 0, 0), 'test_start': datetime.datetime(2024, 1, 2, 0, 0), 'test_end': datetime.datetime(2024, 2, 8, 0, 0), 'duration_training_history': 240, 'target_column': 'growth', 'train_features': ['close_lag_1', 'volume_lag_1'], 'path_to_result': '/diploma_info/datalake/', 'forecast_periods': 4, 'model_name': 'knear_neighbors', 'model': KNeighborsClassifier(n_jobs=-1, n_neighbors=50), 'forecast_frequency': 'daily', 'company': 'apple', 'model_hyperparameters': {'n_neighbors': 50, 'n_jobs': -1}, 'problem': 'classification'} \n",
      "\n",
      "(10895, 2) (10895, 1)\n",
      "knear_neighbors\n"
     ]
    },
    {
     "name": "stderr",
     "output_type": "stream",
     "text": [
      "100%|██████████████████████████████████████████████████████████████████████████████████| 38/38 [00:01<00:00, 34.74it/s]\n"
     ]
    },
    {
     "name": "stdout",
     "output_type": "stream",
     "text": [
      "knear_neighbors == {'unique_uuid': '1b0788a0-fbf8-11ee-96f2-c0e434d84b22', 'train_end': datetime.datetime(2023, 12, 29, 0, 0), 'test_start': datetime.datetime(2024, 1, 2, 0, 0), 'test_end': datetime.datetime(2024, 2, 8, 0, 0), 'duration_training_history': 240, 'target_column': 'growth', 'train_features': ['close_lag_1', 'year', 'month', 'day', 'day_of_week', 'week_of_year'], 'path_to_result': '/diploma_info/datalake/', 'forecast_periods': 4, 'model_name': 'knear_neighbors', 'model': KNeighborsClassifier(n_jobs=-1, n_neighbors=50), 'forecast_frequency': 'daily', 'company': 'apple', 'model_hyperparameters': {'n_neighbors': 50, 'n_jobs': -1}, 'problem': 'classification'} \n",
      "\n",
      "(10895, 6) (10895, 1)\n",
      "knear_neighbors\n"
     ]
    },
    {
     "name": "stderr",
     "output_type": "stream",
     "text": [
      "100%|██████████████████████████████████████████████████████████████████████████████████| 38/38 [00:01<00:00, 36.87it/s]\n"
     ]
    },
    {
     "name": "stdout",
     "output_type": "stream",
     "text": [
      "company: GOOGLE\t period: daily\t train ends: 2023-12-29 00:00:00\t test starts: 2024-01-02 00:00:00\n",
      "_research_task_uuid = 22b34104-fbf9-11ee-8c22-c0e434d84b22\n",
      "\n",
      "count_configs 80 \n",
      "\n",
      "xgboost == {'unique_uuid': '22b34105-fbf9-11ee-8e30-c0e434d84b22', 'train_end': datetime.datetime(2023, 12, 29, 0, 0), 'test_start': datetime.datetime(2024, 1, 2, 0, 0), 'test_end': datetime.datetime(2024, 2, 8, 0, 0), 'duration_training_history': 90, 'target_column': 'growth', 'train_features': ['close_lag_1', 'volume_lag_1'], 'path_to_result': '/diploma_info/datalake/', 'forecast_periods': 4, 'model_name': 'xgboost', 'model': XGBClassifier(base_score=None, booster='gbtree', callbacks=None,\n",
      "              colsample_bylevel=None, colsample_bynode=None, colsample_bytree=1,\n",
      "              device=None, early_stopping_rounds=None, enable_categorical=False,\n",
      "              eta=0.3, eval_metric='rmse', feature_types=None, gamma=None,\n",
      "              grow_policy=None, importance_type=None,\n",
      "              interaction_constraints=None, learning_rate=None, max_bin=None,\n",
      "              max_cat_threshold=None, max_cat_to_onehot=None,\n",
      "              max_delta_step=None, max_depth=7, max_leaves=None,\n",
      "              min_child_weight=1, missing=nan, monotone_constraints=None,\n",
      "              multi_strategy=None, n_estimators=10, n_jobs=-1,\n",
      "              num_parallel_tree=None, ...), 'forecast_frequency': 'daily', 'company': 'google', 'model_hyperparameters': {'n_estimators': 10, 'n_jobs': -1, 'max_depth': 7, 'eta': 0.3, 'booster': 'gbtree', 'objective': 'reg:squarederror', 'eval_metric': 'rmse', 'subsample': 1, 'colsample_bytree': 1, 'min_child_weight': 1, 'random_state': 2}, 'problem': 'classification'} \n",
      "\n",
      "(4917, 2) (4917, 1)\n",
      "xgboost\n"
     ]
    },
    {
     "name": "stderr",
     "output_type": "stream",
     "text": [
      "100%|██████████████████████████████████████████████████████████████████████████████████| 38/38 [00:00<00:00, 47.53it/s]\n"
     ]
    },
    {
     "name": "stdout",
     "output_type": "stream",
     "text": [
      "xgboost == {'unique_uuid': '22b34106-fbf9-11ee-b421-c0e434d84b22', 'train_end': datetime.datetime(2023, 12, 29, 0, 0), 'test_start': datetime.datetime(2024, 1, 2, 0, 0), 'test_end': datetime.datetime(2024, 2, 8, 0, 0), 'duration_training_history': 90, 'target_column': 'growth', 'train_features': ['close_lag_1', 'year', 'month', 'day', 'day_of_week', 'week_of_year'], 'path_to_result': '/diploma_info/datalake/', 'forecast_periods': 4, 'model_name': 'xgboost', 'model': XGBClassifier(base_score=None, booster='gbtree', callbacks=None,\n",
      "              colsample_bylevel=None, colsample_bynode=None, colsample_bytree=1,\n",
      "              device=None, early_stopping_rounds=None, enable_categorical=False,\n",
      "              eta=0.3, eval_metric='rmse', feature_types=None, gamma=None,\n",
      "              grow_policy=None, importance_type=None,\n",
      "              interaction_constraints=None, learning_rate=None, max_bin=None,\n",
      "              max_cat_threshold=None, max_cat_to_onehot=None,\n",
      "              max_delta_step=None, max_depth=7, max_leaves=None,\n",
      "              min_child_weight=1, missing=nan, monotone_constraints=None,\n",
      "              multi_strategy=None, n_estimators=10, n_jobs=-1,\n",
      "              num_parallel_tree=None, ...), 'forecast_frequency': 'daily', 'company': 'google', 'model_hyperparameters': {'n_estimators': 10, 'n_jobs': -1, 'max_depth': 7, 'eta': 0.3, 'booster': 'gbtree', 'objective': 'reg:squarederror', 'eval_metric': 'rmse', 'subsample': 1, 'colsample_bytree': 1, 'min_child_weight': 1, 'random_state': 2}, 'problem': 'classification'} \n",
      "\n",
      "(4917, 6) (4917, 1)\n",
      "xgboost\n"
     ]
    },
    {
     "name": "stderr",
     "output_type": "stream",
     "text": [
      "100%|██████████████████████████████████████████████████████████████████████████████████| 38/38 [00:00<00:00, 44.34it/s]\n"
     ]
    },
    {
     "name": "stdout",
     "output_type": "stream",
     "text": [
      "xgboost == {'unique_uuid': '22b34107-fbf9-11ee-ac23-c0e434d84b22', 'train_end': datetime.datetime(2023, 12, 29, 0, 0), 'test_start': datetime.datetime(2024, 1, 2, 0, 0), 'test_end': datetime.datetime(2024, 2, 8, 0, 0), 'duration_training_history': 90, 'target_column': 'growth', 'train_features': ['close_lag_1', 'volume_lag_1'], 'path_to_result': '/diploma_info/datalake/', 'forecast_periods': 4, 'model_name': 'xgboost', 'model': XGBClassifier(base_score=None, booster='gbtree', callbacks=None,\n",
      "              colsample_bylevel=None, colsample_bynode=None, colsample_bytree=1,\n",
      "              device=None, early_stopping_rounds=None, enable_categorical=False,\n",
      "              eta=0.3, eval_metric='rmse', feature_types=None, gamma=None,\n",
      "              grow_policy=None, importance_type=None,\n",
      "              interaction_constraints=None, learning_rate=None, max_bin=None,\n",
      "              max_cat_threshold=None, max_cat_to_onehot=None,\n",
      "              max_delta_step=None, max_depth=7, max_leaves=None,\n",
      "              min_child_weight=1, missing=nan, monotone_constraints=None,\n",
      "              multi_strategy=None, n_estimators=200, n_jobs=-1,\n",
      "              num_parallel_tree=None, ...), 'forecast_frequency': 'daily', 'company': 'google', 'model_hyperparameters': {'n_estimators': 200, 'n_jobs': -1, 'max_depth': 7, 'eta': 0.3, 'booster': 'gbtree', 'objective': 'reg:squarederror', 'eval_metric': 'rmse', 'subsample': 1, 'colsample_bytree': 1, 'min_child_weight': 1, 'random_state': 2}, 'problem': 'classification'} \n",
      "\n",
      "(4917, 2) (4917, 1)\n",
      "xgboost\n"
     ]
    },
    {
     "name": "stderr",
     "output_type": "stream",
     "text": [
      "100%|██████████████████████████████████████████████████████████████████████████████████| 38/38 [00:02<00:00, 16.09it/s]\n"
     ]
    },
    {
     "name": "stdout",
     "output_type": "stream",
     "text": [
      "xgboost == {'unique_uuid': '22b34108-fbf9-11ee-aaeb-c0e434d84b22', 'train_end': datetime.datetime(2023, 12, 29, 0, 0), 'test_start': datetime.datetime(2024, 1, 2, 0, 0), 'test_end': datetime.datetime(2024, 2, 8, 0, 0), 'duration_training_history': 90, 'target_column': 'growth', 'train_features': ['close_lag_1', 'year', 'month', 'day', 'day_of_week', 'week_of_year'], 'path_to_result': '/diploma_info/datalake/', 'forecast_periods': 4, 'model_name': 'xgboost', 'model': XGBClassifier(base_score=None, booster='gbtree', callbacks=None,\n",
      "              colsample_bylevel=None, colsample_bynode=None, colsample_bytree=1,\n",
      "              device=None, early_stopping_rounds=None, enable_categorical=False,\n",
      "              eta=0.3, eval_metric='rmse', feature_types=None, gamma=None,\n",
      "              grow_policy=None, importance_type=None,\n",
      "              interaction_constraints=None, learning_rate=None, max_bin=None,\n",
      "              max_cat_threshold=None, max_cat_to_onehot=None,\n",
      "              max_delta_step=None, max_depth=7, max_leaves=None,\n",
      "              min_child_weight=1, missing=nan, monotone_constraints=None,\n",
      "              multi_strategy=None, n_estimators=200, n_jobs=-1,\n",
      "              num_parallel_tree=None, ...), 'forecast_frequency': 'daily', 'company': 'google', 'model_hyperparameters': {'n_estimators': 200, 'n_jobs': -1, 'max_depth': 7, 'eta': 0.3, 'booster': 'gbtree', 'objective': 'reg:squarederror', 'eval_metric': 'rmse', 'subsample': 1, 'colsample_bytree': 1, 'min_child_weight': 1, 'random_state': 2}, 'problem': 'classification'} \n",
      "\n",
      "(4917, 6) (4917, 1)\n",
      "xgboost\n"
     ]
    },
    {
     "name": "stderr",
     "output_type": "stream",
     "text": [
      "100%|██████████████████████████████████████████████████████████████████████████████████| 38/38 [00:02<00:00, 15.43it/s]\n"
     ]
    },
    {
     "name": "stdout",
     "output_type": "stream",
     "text": [
      "xgboost == {'unique_uuid': '22b34109-fbf9-11ee-a222-c0e434d84b22', 'train_end': datetime.datetime(2023, 12, 29, 0, 0), 'test_start': datetime.datetime(2024, 1, 2, 0, 0), 'test_end': datetime.datetime(2024, 2, 8, 0, 0), 'duration_training_history': 90, 'target_column': 'growth', 'train_features': ['close_lag_1', 'volume_lag_1'], 'path_to_result': '/diploma_info/datalake/', 'forecast_periods': 4, 'model_name': 'xgboost', 'model': XGBClassifier(base_score=None, booster='gbtree', callbacks=None,\n",
      "              colsample_bylevel=None, colsample_bynode=None, colsample_bytree=1,\n",
      "              device=None, early_stopping_rounds=None, enable_categorical=False,\n",
      "              eta=0.3, eval_metric='rmse', feature_types=None, gamma=None,\n",
      "              grow_policy=None, importance_type=None,\n",
      "              interaction_constraints=None, learning_rate=None, max_bin=None,\n",
      "              max_cat_threshold=None, max_cat_to_onehot=None,\n",
      "              max_delta_step=None, max_depth=9, max_leaves=None,\n",
      "              min_child_weight=1, missing=nan, monotone_constraints=None,\n",
      "              multi_strategy=None, n_estimators=10, n_jobs=-1,\n",
      "              num_parallel_tree=None, ...), 'forecast_frequency': 'daily', 'company': 'google', 'model_hyperparameters': {'n_estimators': 10, 'n_jobs': -1, 'max_depth': 9, 'eta': 0.3, 'booster': 'gbtree', 'objective': 'reg:squarederror', 'eval_metric': 'rmse', 'subsample': 1, 'colsample_bytree': 1, 'min_child_weight': 1, 'random_state': 2}, 'problem': 'classification'} \n",
      "\n",
      "(4917, 2) (4917, 1)\n",
      "xgboost\n"
     ]
    },
    {
     "name": "stderr",
     "output_type": "stream",
     "text": [
      "100%|██████████████████████████████████████████████████████████████████████████████████| 38/38 [00:00<00:00, 44.73it/s]\n"
     ]
    },
    {
     "name": "stdout",
     "output_type": "stream",
     "text": [
      "xgboost == {'unique_uuid': '22b3410a-fbf9-11ee-9ca4-c0e434d84b22', 'train_end': datetime.datetime(2023, 12, 29, 0, 0), 'test_start': datetime.datetime(2024, 1, 2, 0, 0), 'test_end': datetime.datetime(2024, 2, 8, 0, 0), 'duration_training_history': 90, 'target_column': 'growth', 'train_features': ['close_lag_1', 'year', 'month', 'day', 'day_of_week', 'week_of_year'], 'path_to_result': '/diploma_info/datalake/', 'forecast_periods': 4, 'model_name': 'xgboost', 'model': XGBClassifier(base_score=None, booster='gbtree', callbacks=None,\n",
      "              colsample_bylevel=None, colsample_bynode=None, colsample_bytree=1,\n",
      "              device=None, early_stopping_rounds=None, enable_categorical=False,\n",
      "              eta=0.3, eval_metric='rmse', feature_types=None, gamma=None,\n",
      "              grow_policy=None, importance_type=None,\n",
      "              interaction_constraints=None, learning_rate=None, max_bin=None,\n",
      "              max_cat_threshold=None, max_cat_to_onehot=None,\n",
      "              max_delta_step=None, max_depth=9, max_leaves=None,\n",
      "              min_child_weight=1, missing=nan, monotone_constraints=None,\n",
      "              multi_strategy=None, n_estimators=10, n_jobs=-1,\n",
      "              num_parallel_tree=None, ...), 'forecast_frequency': 'daily', 'company': 'google', 'model_hyperparameters': {'n_estimators': 10, 'n_jobs': -1, 'max_depth': 9, 'eta': 0.3, 'booster': 'gbtree', 'objective': 'reg:squarederror', 'eval_metric': 'rmse', 'subsample': 1, 'colsample_bytree': 1, 'min_child_weight': 1, 'random_state': 2}, 'problem': 'classification'} \n",
      "\n",
      "(4917, 6) (4917, 1)\n",
      "xgboost\n"
     ]
    },
    {
     "name": "stderr",
     "output_type": "stream",
     "text": [
      "100%|██████████████████████████████████████████████████████████████████████████████████| 38/38 [00:00<00:00, 41.02it/s]\n"
     ]
    },
    {
     "name": "stdout",
     "output_type": "stream",
     "text": [
      "xgboost == {'unique_uuid': '22b3410b-fbf9-11ee-bd5f-c0e434d84b22', 'train_end': datetime.datetime(2023, 12, 29, 0, 0), 'test_start': datetime.datetime(2024, 1, 2, 0, 0), 'test_end': datetime.datetime(2024, 2, 8, 0, 0), 'duration_training_history': 90, 'target_column': 'growth', 'train_features': ['close_lag_1', 'volume_lag_1'], 'path_to_result': '/diploma_info/datalake/', 'forecast_periods': 4, 'model_name': 'xgboost', 'model': XGBClassifier(base_score=None, booster='gbtree', callbacks=None,\n",
      "              colsample_bylevel=None, colsample_bynode=None, colsample_bytree=1,\n",
      "              device=None, early_stopping_rounds=None, enable_categorical=False,\n",
      "              eta=0.3, eval_metric='rmse', feature_types=None, gamma=None,\n",
      "              grow_policy=None, importance_type=None,\n",
      "              interaction_constraints=None, learning_rate=None, max_bin=None,\n",
      "              max_cat_threshold=None, max_cat_to_onehot=None,\n",
      "              max_delta_step=None, max_depth=9, max_leaves=None,\n",
      "              min_child_weight=1, missing=nan, monotone_constraints=None,\n",
      "              multi_strategy=None, n_estimators=200, n_jobs=-1,\n",
      "              num_parallel_tree=None, ...), 'forecast_frequency': 'daily', 'company': 'google', 'model_hyperparameters': {'n_estimators': 200, 'n_jobs': -1, 'max_depth': 9, 'eta': 0.3, 'booster': 'gbtree', 'objective': 'reg:squarederror', 'eval_metric': 'rmse', 'subsample': 1, 'colsample_bytree': 1, 'min_child_weight': 1, 'random_state': 2}, 'problem': 'classification'} \n",
      "\n",
      "(4917, 2) (4917, 1)\n",
      "xgboost\n"
     ]
    },
    {
     "name": "stderr",
     "output_type": "stream",
     "text": [
      "100%|██████████████████████████████████████████████████████████████████████████████████| 38/38 [00:02<00:00, 14.41it/s]\n"
     ]
    },
    {
     "name": "stdout",
     "output_type": "stream",
     "text": [
      "xgboost == {'unique_uuid': '22b3410c-fbf9-11ee-b366-c0e434d84b22', 'train_end': datetime.datetime(2023, 12, 29, 0, 0), 'test_start': datetime.datetime(2024, 1, 2, 0, 0), 'test_end': datetime.datetime(2024, 2, 8, 0, 0), 'duration_training_history': 90, 'target_column': 'growth', 'train_features': ['close_lag_1', 'year', 'month', 'day', 'day_of_week', 'week_of_year'], 'path_to_result': '/diploma_info/datalake/', 'forecast_periods': 4, 'model_name': 'xgboost', 'model': XGBClassifier(base_score=None, booster='gbtree', callbacks=None,\n",
      "              colsample_bylevel=None, colsample_bynode=None, colsample_bytree=1,\n",
      "              device=None, early_stopping_rounds=None, enable_categorical=False,\n",
      "              eta=0.3, eval_metric='rmse', feature_types=None, gamma=None,\n",
      "              grow_policy=None, importance_type=None,\n",
      "              interaction_constraints=None, learning_rate=None, max_bin=None,\n",
      "              max_cat_threshold=None, max_cat_to_onehot=None,\n",
      "              max_delta_step=None, max_depth=9, max_leaves=None,\n",
      "              min_child_weight=1, missing=nan, monotone_constraints=None,\n",
      "              multi_strategy=None, n_estimators=200, n_jobs=-1,\n",
      "              num_parallel_tree=None, ...), 'forecast_frequency': 'daily', 'company': 'google', 'model_hyperparameters': {'n_estimators': 200, 'n_jobs': -1, 'max_depth': 9, 'eta': 0.3, 'booster': 'gbtree', 'objective': 'reg:squarederror', 'eval_metric': 'rmse', 'subsample': 1, 'colsample_bytree': 1, 'min_child_weight': 1, 'random_state': 2}, 'problem': 'classification'} \n",
      "\n",
      "(4917, 6) (4917, 1)\n",
      "xgboost\n"
     ]
    },
    {
     "name": "stderr",
     "output_type": "stream",
     "text": [
      "100%|██████████████████████████████████████████████████████████████████████████████████| 38/38 [00:02<00:00, 12.97it/s]\n"
     ]
    },
    {
     "name": "stdout",
     "output_type": "stream",
     "text": [
      "lightgbm == {'unique_uuid': '22b3410d-fbf9-11ee-bf79-c0e434d84b22', 'train_end': datetime.datetime(2023, 12, 29, 0, 0), 'test_start': datetime.datetime(2024, 1, 2, 0, 0), 'test_end': datetime.datetime(2024, 2, 8, 0, 0), 'duration_training_history': 90, 'target_column': 'growth', 'train_features': ['close_lag_1', 'volume_lag_1'], 'path_to_result': '/diploma_info/datalake/', 'forecast_periods': 4, 'model_name': 'lightgbm', 'model': LGBMClassifier(eta=0.3, max_depth=7, metric='binary', n_estimators=10,\n",
      "               n_jobs=-1, objective='binary', random_state=2, verbosity=-1), 'forecast_frequency': 'daily', 'company': 'google', 'model_hyperparameters': {'n_estimators': 10, 'n_jobs': -1, 'max_depth': 7, 'eta': 0.3, 'random_state': 2, 'objective': 'binary', 'verbosity': -1, 'metric': 'binary'}, 'problem': 'classification'} \n",
      "\n",
      "(4917, 2) (4917, 1)\n",
      "lightgbm\n"
     ]
    },
    {
     "name": "stderr",
     "output_type": "stream",
     "text": [
      "100%|██████████████████████████████████████████████████████████████████████████████████| 38/38 [00:00<00:00, 50.81it/s]\n"
     ]
    },
    {
     "name": "stdout",
     "output_type": "stream",
     "text": [
      "lightgbm == {'unique_uuid': '22b3410e-fbf9-11ee-9b09-c0e434d84b22', 'train_end': datetime.datetime(2023, 12, 29, 0, 0), 'test_start': datetime.datetime(2024, 1, 2, 0, 0), 'test_end': datetime.datetime(2024, 2, 8, 0, 0), 'duration_training_history': 90, 'target_column': 'growth', 'train_features': ['close_lag_1', 'year', 'month', 'day', 'day_of_week', 'week_of_year'], 'path_to_result': '/diploma_info/datalake/', 'forecast_periods': 4, 'model_name': 'lightgbm', 'model': LGBMClassifier(eta=0.3, max_depth=7, metric='binary', n_estimators=10,\n",
      "               n_jobs=-1, objective='binary', random_state=2, verbosity=-1), 'forecast_frequency': 'daily', 'company': 'google', 'model_hyperparameters': {'n_estimators': 10, 'n_jobs': -1, 'max_depth': 7, 'eta': 0.3, 'random_state': 2, 'objective': 'binary', 'verbosity': -1, 'metric': 'binary'}, 'problem': 'classification'} \n",
      "\n",
      "(4917, 6) (4917, 1)\n",
      "lightgbm\n"
     ]
    },
    {
     "name": "stderr",
     "output_type": "stream",
     "text": [
      "100%|██████████████████████████████████████████████████████████████████████████████████| 38/38 [00:00<00:00, 51.63it/s]\n"
     ]
    },
    {
     "name": "stdout",
     "output_type": "stream",
     "text": [
      "lightgbm == {'unique_uuid': '22b3410f-fbf9-11ee-bb02-c0e434d84b22', 'train_end': datetime.datetime(2023, 12, 29, 0, 0), 'test_start': datetime.datetime(2024, 1, 2, 0, 0), 'test_end': datetime.datetime(2024, 2, 8, 0, 0), 'duration_training_history': 90, 'target_column': 'growth', 'train_features': ['close_lag_1', 'volume_lag_1'], 'path_to_result': '/diploma_info/datalake/', 'forecast_periods': 4, 'model_name': 'lightgbm', 'model': LGBMClassifier(eta=0.3, max_depth=9, metric='binary', n_estimators=10,\n",
      "               n_jobs=-1, objective='binary', random_state=2, verbosity=-1), 'forecast_frequency': 'daily', 'company': 'google', 'model_hyperparameters': {'n_estimators': 10, 'n_jobs': -1, 'max_depth': 9, 'eta': 0.3, 'random_state': 2, 'objective': 'binary', 'verbosity': -1, 'metric': 'binary'}, 'problem': 'classification'} \n",
      "\n",
      "(4917, 2) (4917, 1)\n",
      "lightgbm\n"
     ]
    },
    {
     "name": "stderr",
     "output_type": "stream",
     "text": [
      "100%|██████████████████████████████████████████████████████████████████████████████████| 38/38 [00:00<00:00, 49.94it/s]\n"
     ]
    },
    {
     "name": "stdout",
     "output_type": "stream",
     "text": [
      "lightgbm == {'unique_uuid': '22b34110-fbf9-11ee-b26f-c0e434d84b22', 'train_end': datetime.datetime(2023, 12, 29, 0, 0), 'test_start': datetime.datetime(2024, 1, 2, 0, 0), 'test_end': datetime.datetime(2024, 2, 8, 0, 0), 'duration_training_history': 90, 'target_column': 'growth', 'train_features': ['close_lag_1', 'year', 'month', 'day', 'day_of_week', 'week_of_year'], 'path_to_result': '/diploma_info/datalake/', 'forecast_periods': 4, 'model_name': 'lightgbm', 'model': LGBMClassifier(eta=0.3, max_depth=9, metric='binary', n_estimators=10,\n",
      "               n_jobs=-1, objective='binary', random_state=2, verbosity=-1), 'forecast_frequency': 'daily', 'company': 'google', 'model_hyperparameters': {'n_estimators': 10, 'n_jobs': -1, 'max_depth': 9, 'eta': 0.3, 'random_state': 2, 'objective': 'binary', 'verbosity': -1, 'metric': 'binary'}, 'problem': 'classification'} \n",
      "\n",
      "(4917, 6) (4917, 1)\n",
      "lightgbm\n"
     ]
    },
    {
     "name": "stderr",
     "output_type": "stream",
     "text": [
      "100%|██████████████████████████████████████████████████████████████████████████████████| 38/38 [00:00<00:00, 51.12it/s]\n"
     ]
    },
    {
     "name": "stdout",
     "output_type": "stream",
     "text": [
      "random_forest == {'unique_uuid': '22b34111-fbf9-11ee-8667-c0e434d84b22', 'train_end': datetime.datetime(2023, 12, 29, 0, 0), 'test_start': datetime.datetime(2024, 1, 2, 0, 0), 'test_end': datetime.datetime(2024, 2, 8, 0, 0), 'duration_training_history': 90, 'target_column': 'growth', 'train_features': ['close_lag_1', 'volume_lag_1'], 'path_to_result': '/diploma_info/datalake/', 'forecast_periods': 4, 'model_name': 'random_forest', 'model': RandomForestClassifier(max_depth=9, n_estimators=10, n_jobs=-1, random_state=2), 'forecast_frequency': 'daily', 'company': 'google', 'model_hyperparameters': {'n_estimators': 10, 'n_jobs': -1, 'random_state': 2, 'max_depth': 9}, 'problem': 'classification'} \n",
      "\n",
      "(4917, 2) (4917, 1)\n",
      "random_forest\n"
     ]
    },
    {
     "name": "stderr",
     "output_type": "stream",
     "text": [
      "100%|██████████████████████████████████████████████████████████████████████████████████| 38/38 [00:02<00:00, 16.12it/s]\n"
     ]
    },
    {
     "name": "stdout",
     "output_type": "stream",
     "text": [
      "random_forest == {'unique_uuid': '22b34112-fbf9-11ee-88ae-c0e434d84b22', 'train_end': datetime.datetime(2023, 12, 29, 0, 0), 'test_start': datetime.datetime(2024, 1, 2, 0, 0), 'test_end': datetime.datetime(2024, 2, 8, 0, 0), 'duration_training_history': 90, 'target_column': 'growth', 'train_features': ['close_lag_1', 'year', 'month', 'day', 'day_of_week', 'week_of_year'], 'path_to_result': '/diploma_info/datalake/', 'forecast_periods': 4, 'model_name': 'random_forest', 'model': RandomForestClassifier(max_depth=9, n_estimators=10, n_jobs=-1, random_state=2), 'forecast_frequency': 'daily', 'company': 'google', 'model_hyperparameters': {'n_estimators': 10, 'n_jobs': -1, 'random_state': 2, 'max_depth': 9}, 'problem': 'classification'} \n",
      "\n",
      "(4917, 6) (4917, 1)\n",
      "random_forest\n"
     ]
    },
    {
     "name": "stderr",
     "output_type": "stream",
     "text": [
      "100%|██████████████████████████████████████████████████████████████████████████████████| 38/38 [00:02<00:00, 16.33it/s]\n"
     ]
    },
    {
     "name": "stdout",
     "output_type": "stream",
     "text": [
      "random_forest == {'unique_uuid': '22b34113-fbf9-11ee-8f98-c0e434d84b22', 'train_end': datetime.datetime(2023, 12, 29, 0, 0), 'test_start': datetime.datetime(2024, 1, 2, 0, 0), 'test_end': datetime.datetime(2024, 2, 8, 0, 0), 'duration_training_history': 90, 'target_column': 'growth', 'train_features': ['close_lag_1', 'volume_lag_1'], 'path_to_result': '/diploma_info/datalake/', 'forecast_periods': 4, 'model_name': 'random_forest', 'model': RandomForestClassifier(max_depth=9, n_estimators=200, n_jobs=-1, random_state=2), 'forecast_frequency': 'daily', 'company': 'google', 'model_hyperparameters': {'n_estimators': 200, 'n_jobs': -1, 'random_state': 2, 'max_depth': 9}, 'problem': 'classification'} \n",
      "\n",
      "(4917, 2) (4917, 1)\n",
      "random_forest\n"
     ]
    },
    {
     "name": "stderr",
     "output_type": "stream",
     "text": [
      "100%|██████████████████████████████████████████████████████████████████████████████████| 38/38 [00:14<00:00,  2.67it/s]\n"
     ]
    },
    {
     "name": "stdout",
     "output_type": "stream",
     "text": [
      "random_forest == {'unique_uuid': '22b34114-fbf9-11ee-a245-c0e434d84b22', 'train_end': datetime.datetime(2023, 12, 29, 0, 0), 'test_start': datetime.datetime(2024, 1, 2, 0, 0), 'test_end': datetime.datetime(2024, 2, 8, 0, 0), 'duration_training_history': 90, 'target_column': 'growth', 'train_features': ['close_lag_1', 'year', 'month', 'day', 'day_of_week', 'week_of_year'], 'path_to_result': '/diploma_info/datalake/', 'forecast_periods': 4, 'model_name': 'random_forest', 'model': RandomForestClassifier(max_depth=9, n_estimators=200, n_jobs=-1, random_state=2), 'forecast_frequency': 'daily', 'company': 'google', 'model_hyperparameters': {'n_estimators': 200, 'n_jobs': -1, 'random_state': 2, 'max_depth': 9}, 'problem': 'classification'} \n",
      "\n",
      "(4917, 6) (4917, 1)\n",
      "random_forest\n"
     ]
    },
    {
     "name": "stderr",
     "output_type": "stream",
     "text": [
      "100%|██████████████████████████████████████████████████████████████████████████████████| 38/38 [00:13<00:00,  2.73it/s]\n"
     ]
    },
    {
     "name": "stdout",
     "output_type": "stream",
     "text": [
      "knear_neighbors == {'unique_uuid': '22b34115-fbf9-11ee-bdb6-c0e434d84b22', 'train_end': datetime.datetime(2023, 12, 29, 0, 0), 'test_start': datetime.datetime(2024, 1, 2, 0, 0), 'test_end': datetime.datetime(2024, 2, 8, 0, 0), 'duration_training_history': 90, 'target_column': 'growth', 'train_features': ['close_lag_1', 'volume_lag_1'], 'path_to_result': '/diploma_info/datalake/', 'forecast_periods': 4, 'model_name': 'knear_neighbors', 'model': KNeighborsClassifier(n_jobs=-1, n_neighbors=3), 'forecast_frequency': 'daily', 'company': 'google', 'model_hyperparameters': {'n_neighbors': 3, 'n_jobs': -1}, 'problem': 'classification'} \n",
      "\n",
      "(4917, 2) (4917, 1)\n",
      "knear_neighbors\n"
     ]
    },
    {
     "name": "stderr",
     "output_type": "stream",
     "text": [
      "100%|██████████████████████████████████████████████████████████████████████████████████| 38/38 [00:01<00:00, 36.61it/s]\n"
     ]
    },
    {
     "name": "stdout",
     "output_type": "stream",
     "text": [
      "knear_neighbors == {'unique_uuid': '22b34116-fbf9-11ee-9403-c0e434d84b22', 'train_end': datetime.datetime(2023, 12, 29, 0, 0), 'test_start': datetime.datetime(2024, 1, 2, 0, 0), 'test_end': datetime.datetime(2024, 2, 8, 0, 0), 'duration_training_history': 90, 'target_column': 'growth', 'train_features': ['close_lag_1', 'year', 'month', 'day', 'day_of_week', 'week_of_year'], 'path_to_result': '/diploma_info/datalake/', 'forecast_periods': 4, 'model_name': 'knear_neighbors', 'model': KNeighborsClassifier(n_jobs=-1, n_neighbors=3), 'forecast_frequency': 'daily', 'company': 'google', 'model_hyperparameters': {'n_neighbors': 3, 'n_jobs': -1}, 'problem': 'classification'} \n",
      "\n",
      "(4917, 6) (4917, 1)\n",
      "knear_neighbors\n"
     ]
    },
    {
     "name": "stderr",
     "output_type": "stream",
     "text": [
      "100%|██████████████████████████████████████████████████████████████████████████████████| 38/38 [00:01<00:00, 36.12it/s]\n"
     ]
    },
    {
     "name": "stdout",
     "output_type": "stream",
     "text": [
      "knear_neighbors == {'unique_uuid': '22b34117-fbf9-11ee-9444-c0e434d84b22', 'train_end': datetime.datetime(2023, 12, 29, 0, 0), 'test_start': datetime.datetime(2024, 1, 2, 0, 0), 'test_end': datetime.datetime(2024, 2, 8, 0, 0), 'duration_training_history': 90, 'target_column': 'growth', 'train_features': ['close_lag_1', 'volume_lag_1'], 'path_to_result': '/diploma_info/datalake/', 'forecast_periods': 4, 'model_name': 'knear_neighbors', 'model': KNeighborsClassifier(n_jobs=-1), 'forecast_frequency': 'daily', 'company': 'google', 'model_hyperparameters': {'n_neighbors': 5, 'n_jobs': -1}, 'problem': 'classification'} \n",
      "\n",
      "(4917, 2) (4917, 1)\n",
      "knear_neighbors\n"
     ]
    },
    {
     "name": "stderr",
     "output_type": "stream",
     "text": [
      "100%|██████████████████████████████████████████████████████████████████████████████████| 38/38 [00:01<00:00, 34.68it/s]\n"
     ]
    },
    {
     "name": "stdout",
     "output_type": "stream",
     "text": [
      "knear_neighbors == {'unique_uuid': '22b34118-fbf9-11ee-ab3e-c0e434d84b22', 'train_end': datetime.datetime(2023, 12, 29, 0, 0), 'test_start': datetime.datetime(2024, 1, 2, 0, 0), 'test_end': datetime.datetime(2024, 2, 8, 0, 0), 'duration_training_history': 90, 'target_column': 'growth', 'train_features': ['close_lag_1', 'year', 'month', 'day', 'day_of_week', 'week_of_year'], 'path_to_result': '/diploma_info/datalake/', 'forecast_periods': 4, 'model_name': 'knear_neighbors', 'model': KNeighborsClassifier(n_jobs=-1), 'forecast_frequency': 'daily', 'company': 'google', 'model_hyperparameters': {'n_neighbors': 5, 'n_jobs': -1}, 'problem': 'classification'} \n",
      "\n",
      "(4917, 6) (4917, 1)\n",
      "knear_neighbors\n"
     ]
    },
    {
     "name": "stderr",
     "output_type": "stream",
     "text": [
      "100%|██████████████████████████████████████████████████████████████████████████████████| 38/38 [00:01<00:00, 36.70it/s]\n"
     ]
    },
    {
     "name": "stdout",
     "output_type": "stream",
     "text": [
      "xgboost == {'unique_uuid': '22b34119-fbf9-11ee-8cba-c0e434d84b22', 'train_end': datetime.datetime(2023, 12, 29, 0, 0), 'test_start': datetime.datetime(2024, 1, 2, 0, 0), 'test_end': datetime.datetime(2024, 2, 8, 0, 0), 'duration_training_history': 120, 'target_column': 'growth', 'train_features': ['close_lag_1', 'volume_lag_1'], 'path_to_result': '/diploma_info/datalake/', 'forecast_periods': 4, 'model_name': 'xgboost', 'model': XGBClassifier(base_score=None, booster='gbtree', callbacks=None,\n",
      "              colsample_bylevel=None, colsample_bynode=None, colsample_bytree=1,\n",
      "              device=None, early_stopping_rounds=None, enable_categorical=False,\n",
      "              eta=0.3, eval_metric='rmse', feature_types=None, gamma=None,\n",
      "              grow_policy=None, importance_type=None,\n",
      "              interaction_constraints=None, learning_rate=None, max_bin=None,\n",
      "              max_cat_threshold=None, max_cat_to_onehot=None,\n",
      "              max_delta_step=None, max_depth=7, max_leaves=None,\n",
      "              min_child_weight=1, missing=nan, monotone_constraints=None,\n",
      "              multi_strategy=None, n_estimators=10, n_jobs=-1,\n",
      "              num_parallel_tree=None, ...), 'forecast_frequency': 'daily', 'company': 'google', 'model_hyperparameters': {'n_estimators': 10, 'n_jobs': -1, 'max_depth': 7, 'eta': 0.3, 'booster': 'gbtree', 'objective': 'reg:squarederror', 'eval_metric': 'rmse', 'subsample': 1, 'colsample_bytree': 1, 'min_child_weight': 1, 'random_state': 2}, 'problem': 'classification'} \n",
      "\n",
      "(4917, 2) (4917, 1)\n",
      "xgboost\n"
     ]
    },
    {
     "name": "stderr",
     "output_type": "stream",
     "text": [
      "100%|██████████████████████████████████████████████████████████████████████████████████| 38/38 [00:00<00:00, 48.74it/s]\n"
     ]
    },
    {
     "name": "stdout",
     "output_type": "stream",
     "text": [
      "xgboost == {'unique_uuid': '22b3411a-fbf9-11ee-8681-c0e434d84b22', 'train_end': datetime.datetime(2023, 12, 29, 0, 0), 'test_start': datetime.datetime(2024, 1, 2, 0, 0), 'test_end': datetime.datetime(2024, 2, 8, 0, 0), 'duration_training_history': 120, 'target_column': 'growth', 'train_features': ['close_lag_1', 'year', 'month', 'day', 'day_of_week', 'week_of_year'], 'path_to_result': '/diploma_info/datalake/', 'forecast_periods': 4, 'model_name': 'xgboost', 'model': XGBClassifier(base_score=None, booster='gbtree', callbacks=None,\n",
      "              colsample_bylevel=None, colsample_bynode=None, colsample_bytree=1,\n",
      "              device=None, early_stopping_rounds=None, enable_categorical=False,\n",
      "              eta=0.3, eval_metric='rmse', feature_types=None, gamma=None,\n",
      "              grow_policy=None, importance_type=None,\n",
      "              interaction_constraints=None, learning_rate=None, max_bin=None,\n",
      "              max_cat_threshold=None, max_cat_to_onehot=None,\n",
      "              max_delta_step=None, max_depth=7, max_leaves=None,\n",
      "              min_child_weight=1, missing=nan, monotone_constraints=None,\n",
      "              multi_strategy=None, n_estimators=10, n_jobs=-1,\n",
      "              num_parallel_tree=None, ...), 'forecast_frequency': 'daily', 'company': 'google', 'model_hyperparameters': {'n_estimators': 10, 'n_jobs': -1, 'max_depth': 7, 'eta': 0.3, 'booster': 'gbtree', 'objective': 'reg:squarederror', 'eval_metric': 'rmse', 'subsample': 1, 'colsample_bytree': 1, 'min_child_weight': 1, 'random_state': 2}, 'problem': 'classification'} \n",
      "\n",
      "(4917, 6) (4917, 1)\n",
      "xgboost\n"
     ]
    },
    {
     "name": "stderr",
     "output_type": "stream",
     "text": [
      "100%|██████████████████████████████████████████████████████████████████████████████████| 38/38 [00:00<00:00, 41.76it/s]\n"
     ]
    },
    {
     "name": "stdout",
     "output_type": "stream",
     "text": [
      "xgboost == {'unique_uuid': '22b3411b-fbf9-11ee-8612-c0e434d84b22', 'train_end': datetime.datetime(2023, 12, 29, 0, 0), 'test_start': datetime.datetime(2024, 1, 2, 0, 0), 'test_end': datetime.datetime(2024, 2, 8, 0, 0), 'duration_training_history': 120, 'target_column': 'growth', 'train_features': ['close_lag_1', 'volume_lag_1'], 'path_to_result': '/diploma_info/datalake/', 'forecast_periods': 4, 'model_name': 'xgboost', 'model': XGBClassifier(base_score=None, booster='gbtree', callbacks=None,\n",
      "              colsample_bylevel=None, colsample_bynode=None, colsample_bytree=1,\n",
      "              device=None, early_stopping_rounds=None, enable_categorical=False,\n",
      "              eta=0.3, eval_metric='rmse', feature_types=None, gamma=None,\n",
      "              grow_policy=None, importance_type=None,\n",
      "              interaction_constraints=None, learning_rate=None, max_bin=None,\n",
      "              max_cat_threshold=None, max_cat_to_onehot=None,\n",
      "              max_delta_step=None, max_depth=7, max_leaves=None,\n",
      "              min_child_weight=1, missing=nan, monotone_constraints=None,\n",
      "              multi_strategy=None, n_estimators=200, n_jobs=-1,\n",
      "              num_parallel_tree=None, ...), 'forecast_frequency': 'daily', 'company': 'google', 'model_hyperparameters': {'n_estimators': 200, 'n_jobs': -1, 'max_depth': 7, 'eta': 0.3, 'booster': 'gbtree', 'objective': 'reg:squarederror', 'eval_metric': 'rmse', 'subsample': 1, 'colsample_bytree': 1, 'min_child_weight': 1, 'random_state': 2}, 'problem': 'classification'} \n",
      "\n",
      "(4917, 2) (4917, 1)\n",
      "xgboost\n"
     ]
    },
    {
     "name": "stderr",
     "output_type": "stream",
     "text": [
      "100%|██████████████████████████████████████████████████████████████████████████████████| 38/38 [00:02<00:00, 14.23it/s]\n"
     ]
    },
    {
     "name": "stdout",
     "output_type": "stream",
     "text": [
      "xgboost == {'unique_uuid': '22b3411c-fbf9-11ee-b5b5-c0e434d84b22', 'train_end': datetime.datetime(2023, 12, 29, 0, 0), 'test_start': datetime.datetime(2024, 1, 2, 0, 0), 'test_end': datetime.datetime(2024, 2, 8, 0, 0), 'duration_training_history': 120, 'target_column': 'growth', 'train_features': ['close_lag_1', 'year', 'month', 'day', 'day_of_week', 'week_of_year'], 'path_to_result': '/diploma_info/datalake/', 'forecast_periods': 4, 'model_name': 'xgboost', 'model': XGBClassifier(base_score=None, booster='gbtree', callbacks=None,\n",
      "              colsample_bylevel=None, colsample_bynode=None, colsample_bytree=1,\n",
      "              device=None, early_stopping_rounds=None, enable_categorical=False,\n",
      "              eta=0.3, eval_metric='rmse', feature_types=None, gamma=None,\n",
      "              grow_policy=None, importance_type=None,\n",
      "              interaction_constraints=None, learning_rate=None, max_bin=None,\n",
      "              max_cat_threshold=None, max_cat_to_onehot=None,\n",
      "              max_delta_step=None, max_depth=7, max_leaves=None,\n",
      "              min_child_weight=1, missing=nan, monotone_constraints=None,\n",
      "              multi_strategy=None, n_estimators=200, n_jobs=-1,\n",
      "              num_parallel_tree=None, ...), 'forecast_frequency': 'daily', 'company': 'google', 'model_hyperparameters': {'n_estimators': 200, 'n_jobs': -1, 'max_depth': 7, 'eta': 0.3, 'booster': 'gbtree', 'objective': 'reg:squarederror', 'eval_metric': 'rmse', 'subsample': 1, 'colsample_bytree': 1, 'min_child_weight': 1, 'random_state': 2}, 'problem': 'classification'} \n",
      "\n",
      "(4917, 6) (4917, 1)\n",
      "xgboost\n"
     ]
    },
    {
     "name": "stderr",
     "output_type": "stream",
     "text": [
      "100%|██████████████████████████████████████████████████████████████████████████████████| 38/38 [00:02<00:00, 12.98it/s]\n"
     ]
    },
    {
     "name": "stdout",
     "output_type": "stream",
     "text": [
      "xgboost == {'unique_uuid': '22b3411d-fbf9-11ee-bfad-c0e434d84b22', 'train_end': datetime.datetime(2023, 12, 29, 0, 0), 'test_start': datetime.datetime(2024, 1, 2, 0, 0), 'test_end': datetime.datetime(2024, 2, 8, 0, 0), 'duration_training_history': 120, 'target_column': 'growth', 'train_features': ['close_lag_1', 'volume_lag_1'], 'path_to_result': '/diploma_info/datalake/', 'forecast_periods': 4, 'model_name': 'xgboost', 'model': XGBClassifier(base_score=None, booster='gbtree', callbacks=None,\n",
      "              colsample_bylevel=None, colsample_bynode=None, colsample_bytree=1,\n",
      "              device=None, early_stopping_rounds=None, enable_categorical=False,\n",
      "              eta=0.3, eval_metric='rmse', feature_types=None, gamma=None,\n",
      "              grow_policy=None, importance_type=None,\n",
      "              interaction_constraints=None, learning_rate=None, max_bin=None,\n",
      "              max_cat_threshold=None, max_cat_to_onehot=None,\n",
      "              max_delta_step=None, max_depth=9, max_leaves=None,\n",
      "              min_child_weight=1, missing=nan, monotone_constraints=None,\n",
      "              multi_strategy=None, n_estimators=10, n_jobs=-1,\n",
      "              num_parallel_tree=None, ...), 'forecast_frequency': 'daily', 'company': 'google', 'model_hyperparameters': {'n_estimators': 10, 'n_jobs': -1, 'max_depth': 9, 'eta': 0.3, 'booster': 'gbtree', 'objective': 'reg:squarederror', 'eval_metric': 'rmse', 'subsample': 1, 'colsample_bytree': 1, 'min_child_weight': 1, 'random_state': 2}, 'problem': 'classification'} \n",
      "\n",
      "(4917, 2) (4917, 1)\n",
      "xgboost\n"
     ]
    },
    {
     "name": "stderr",
     "output_type": "stream",
     "text": [
      "100%|██████████████████████████████████████████████████████████████████████████████████| 38/38 [00:01<00:00, 33.12it/s]\n"
     ]
    },
    {
     "name": "stdout",
     "output_type": "stream",
     "text": [
      "xgboost == {'unique_uuid': '22b3411e-fbf9-11ee-8186-c0e434d84b22', 'train_end': datetime.datetime(2023, 12, 29, 0, 0), 'test_start': datetime.datetime(2024, 1, 2, 0, 0), 'test_end': datetime.datetime(2024, 2, 8, 0, 0), 'duration_training_history': 120, 'target_column': 'growth', 'train_features': ['close_lag_1', 'year', 'month', 'day', 'day_of_week', 'week_of_year'], 'path_to_result': '/diploma_info/datalake/', 'forecast_periods': 4, 'model_name': 'xgboost', 'model': XGBClassifier(base_score=None, booster='gbtree', callbacks=None,\n",
      "              colsample_bylevel=None, colsample_bynode=None, colsample_bytree=1,\n",
      "              device=None, early_stopping_rounds=None, enable_categorical=False,\n",
      "              eta=0.3, eval_metric='rmse', feature_types=None, gamma=None,\n",
      "              grow_policy=None, importance_type=None,\n",
      "              interaction_constraints=None, learning_rate=None, max_bin=None,\n",
      "              max_cat_threshold=None, max_cat_to_onehot=None,\n",
      "              max_delta_step=None, max_depth=9, max_leaves=None,\n",
      "              min_child_weight=1, missing=nan, monotone_constraints=None,\n",
      "              multi_strategy=None, n_estimators=10, n_jobs=-1,\n",
      "              num_parallel_tree=None, ...), 'forecast_frequency': 'daily', 'company': 'google', 'model_hyperparameters': {'n_estimators': 10, 'n_jobs': -1, 'max_depth': 9, 'eta': 0.3, 'booster': 'gbtree', 'objective': 'reg:squarederror', 'eval_metric': 'rmse', 'subsample': 1, 'colsample_bytree': 1, 'min_child_weight': 1, 'random_state': 2}, 'problem': 'classification'} \n",
      "\n",
      "(4917, 6) (4917, 1)\n",
      "xgboost\n"
     ]
    },
    {
     "name": "stderr",
     "output_type": "stream",
     "text": [
      "100%|██████████████████████████████████████████████████████████████████████████████████| 38/38 [00:01<00:00, 32.17it/s]\n"
     ]
    },
    {
     "name": "stdout",
     "output_type": "stream",
     "text": [
      "xgboost == {'unique_uuid': '22b3411f-fbf9-11ee-926e-c0e434d84b22', 'train_end': datetime.datetime(2023, 12, 29, 0, 0), 'test_start': datetime.datetime(2024, 1, 2, 0, 0), 'test_end': datetime.datetime(2024, 2, 8, 0, 0), 'duration_training_history': 120, 'target_column': 'growth', 'train_features': ['close_lag_1', 'volume_lag_1'], 'path_to_result': '/diploma_info/datalake/', 'forecast_periods': 4, 'model_name': 'xgboost', 'model': XGBClassifier(base_score=None, booster='gbtree', callbacks=None,\n",
      "              colsample_bylevel=None, colsample_bynode=None, colsample_bytree=1,\n",
      "              device=None, early_stopping_rounds=None, enable_categorical=False,\n",
      "              eta=0.3, eval_metric='rmse', feature_types=None, gamma=None,\n",
      "              grow_policy=None, importance_type=None,\n",
      "              interaction_constraints=None, learning_rate=None, max_bin=None,\n",
      "              max_cat_threshold=None, max_cat_to_onehot=None,\n",
      "              max_delta_step=None, max_depth=9, max_leaves=None,\n",
      "              min_child_weight=1, missing=nan, monotone_constraints=None,\n",
      "              multi_strategy=None, n_estimators=200, n_jobs=-1,\n",
      "              num_parallel_tree=None, ...), 'forecast_frequency': 'daily', 'company': 'google', 'model_hyperparameters': {'n_estimators': 200, 'n_jobs': -1, 'max_depth': 9, 'eta': 0.3, 'booster': 'gbtree', 'objective': 'reg:squarederror', 'eval_metric': 'rmse', 'subsample': 1, 'colsample_bytree': 1, 'min_child_weight': 1, 'random_state': 2}, 'problem': 'classification'} \n",
      "\n",
      "(4917, 2) (4917, 1)\n",
      "xgboost\n"
     ]
    },
    {
     "name": "stderr",
     "output_type": "stream",
     "text": [
      "100%|██████████████████████████████████████████████████████████████████████████████████| 38/38 [00:02<00:00, 14.52it/s]\n"
     ]
    },
    {
     "name": "stdout",
     "output_type": "stream",
     "text": [
      "xgboost == {'unique_uuid': '22b34120-fbf9-11ee-b297-c0e434d84b22', 'train_end': datetime.datetime(2023, 12, 29, 0, 0), 'test_start': datetime.datetime(2024, 1, 2, 0, 0), 'test_end': datetime.datetime(2024, 2, 8, 0, 0), 'duration_training_history': 120, 'target_column': 'growth', 'train_features': ['close_lag_1', 'year', 'month', 'day', 'day_of_week', 'week_of_year'], 'path_to_result': '/diploma_info/datalake/', 'forecast_periods': 4, 'model_name': 'xgboost', 'model': XGBClassifier(base_score=None, booster='gbtree', callbacks=None,\n",
      "              colsample_bylevel=None, colsample_bynode=None, colsample_bytree=1,\n",
      "              device=None, early_stopping_rounds=None, enable_categorical=False,\n",
      "              eta=0.3, eval_metric='rmse', feature_types=None, gamma=None,\n",
      "              grow_policy=None, importance_type=None,\n",
      "              interaction_constraints=None, learning_rate=None, max_bin=None,\n",
      "              max_cat_threshold=None, max_cat_to_onehot=None,\n",
      "              max_delta_step=None, max_depth=9, max_leaves=None,\n",
      "              min_child_weight=1, missing=nan, monotone_constraints=None,\n",
      "              multi_strategy=None, n_estimators=200, n_jobs=-1,\n",
      "              num_parallel_tree=None, ...), 'forecast_frequency': 'daily', 'company': 'google', 'model_hyperparameters': {'n_estimators': 200, 'n_jobs': -1, 'max_depth': 9, 'eta': 0.3, 'booster': 'gbtree', 'objective': 'reg:squarederror', 'eval_metric': 'rmse', 'subsample': 1, 'colsample_bytree': 1, 'min_child_weight': 1, 'random_state': 2}, 'problem': 'classification'} \n",
      "\n",
      "(4917, 6) (4917, 1)\n",
      "xgboost\n"
     ]
    },
    {
     "name": "stderr",
     "output_type": "stream",
     "text": [
      "100%|██████████████████████████████████████████████████████████████████████████████████| 38/38 [00:02<00:00, 13.76it/s]\n"
     ]
    },
    {
     "name": "stdout",
     "output_type": "stream",
     "text": [
      "lightgbm == {'unique_uuid': '22b34121-fbf9-11ee-af59-c0e434d84b22', 'train_end': datetime.datetime(2023, 12, 29, 0, 0), 'test_start': datetime.datetime(2024, 1, 2, 0, 0), 'test_end': datetime.datetime(2024, 2, 8, 0, 0), 'duration_training_history': 120, 'target_column': 'growth', 'train_features': ['close_lag_1', 'volume_lag_1'], 'path_to_result': '/diploma_info/datalake/', 'forecast_periods': 4, 'model_name': 'lightgbm', 'model': LGBMClassifier(eta=0.3, max_depth=7, metric='binary', n_estimators=10,\n",
      "               n_jobs=-1, objective='binary', random_state=2, verbosity=-1), 'forecast_frequency': 'daily', 'company': 'google', 'model_hyperparameters': {'n_estimators': 10, 'n_jobs': -1, 'max_depth': 7, 'eta': 0.3, 'random_state': 2, 'objective': 'binary', 'verbosity': -1, 'metric': 'binary'}, 'problem': 'classification'} \n",
      "\n",
      "(4917, 2) (4917, 1)\n",
      "lightgbm\n"
     ]
    },
    {
     "name": "stderr",
     "output_type": "stream",
     "text": [
      "100%|██████████████████████████████████████████████████████████████████████████████████| 38/38 [00:00<00:00, 51.18it/s]\n"
     ]
    },
    {
     "name": "stdout",
     "output_type": "stream",
     "text": [
      "lightgbm == {'unique_uuid': '22b34122-fbf9-11ee-ac36-c0e434d84b22', 'train_end': datetime.datetime(2023, 12, 29, 0, 0), 'test_start': datetime.datetime(2024, 1, 2, 0, 0), 'test_end': datetime.datetime(2024, 2, 8, 0, 0), 'duration_training_history': 120, 'target_column': 'growth', 'train_features': ['close_lag_1', 'year', 'month', 'day', 'day_of_week', 'week_of_year'], 'path_to_result': '/diploma_info/datalake/', 'forecast_periods': 4, 'model_name': 'lightgbm', 'model': LGBMClassifier(eta=0.3, max_depth=7, metric='binary', n_estimators=10,\n",
      "               n_jobs=-1, objective='binary', random_state=2, verbosity=-1), 'forecast_frequency': 'daily', 'company': 'google', 'model_hyperparameters': {'n_estimators': 10, 'n_jobs': -1, 'max_depth': 7, 'eta': 0.3, 'random_state': 2, 'objective': 'binary', 'verbosity': -1, 'metric': 'binary'}, 'problem': 'classification'} \n",
      "\n",
      "(4917, 6) (4917, 1)\n",
      "lightgbm\n"
     ]
    },
    {
     "name": "stderr",
     "output_type": "stream",
     "text": [
      "100%|██████████████████████████████████████████████████████████████████████████████████| 38/38 [00:00<00:00, 51.50it/s]\n"
     ]
    },
    {
     "name": "stdout",
     "output_type": "stream",
     "text": [
      "lightgbm == {'unique_uuid': '22b34123-fbf9-11ee-b442-c0e434d84b22', 'train_end': datetime.datetime(2023, 12, 29, 0, 0), 'test_start': datetime.datetime(2024, 1, 2, 0, 0), 'test_end': datetime.datetime(2024, 2, 8, 0, 0), 'duration_training_history': 120, 'target_column': 'growth', 'train_features': ['close_lag_1', 'volume_lag_1'], 'path_to_result': '/diploma_info/datalake/', 'forecast_periods': 4, 'model_name': 'lightgbm', 'model': LGBMClassifier(eta=0.3, max_depth=9, metric='binary', n_estimators=10,\n",
      "               n_jobs=-1, objective='binary', random_state=2, verbosity=-1), 'forecast_frequency': 'daily', 'company': 'google', 'model_hyperparameters': {'n_estimators': 10, 'n_jobs': -1, 'max_depth': 9, 'eta': 0.3, 'random_state': 2, 'objective': 'binary', 'verbosity': -1, 'metric': 'binary'}, 'problem': 'classification'} \n",
      "\n",
      "(4917, 2) (4917, 1)\n",
      "lightgbm\n"
     ]
    },
    {
     "name": "stderr",
     "output_type": "stream",
     "text": [
      "100%|██████████████████████████████████████████████████████████████████████████████████| 38/38 [00:00<00:00, 49.03it/s]\n"
     ]
    },
    {
     "name": "stdout",
     "output_type": "stream",
     "text": [
      "lightgbm == {'unique_uuid': '22b34124-fbf9-11ee-84d6-c0e434d84b22', 'train_end': datetime.datetime(2023, 12, 29, 0, 0), 'test_start': datetime.datetime(2024, 1, 2, 0, 0), 'test_end': datetime.datetime(2024, 2, 8, 0, 0), 'duration_training_history': 120, 'target_column': 'growth', 'train_features': ['close_lag_1', 'year', 'month', 'day', 'day_of_week', 'week_of_year'], 'path_to_result': '/diploma_info/datalake/', 'forecast_periods': 4, 'model_name': 'lightgbm', 'model': LGBMClassifier(eta=0.3, max_depth=9, metric='binary', n_estimators=10,\n",
      "               n_jobs=-1, objective='binary', random_state=2, verbosity=-1), 'forecast_frequency': 'daily', 'company': 'google', 'model_hyperparameters': {'n_estimators': 10, 'n_jobs': -1, 'max_depth': 9, 'eta': 0.3, 'random_state': 2, 'objective': 'binary', 'verbosity': -1, 'metric': 'binary'}, 'problem': 'classification'} \n",
      "\n",
      "(4917, 6) (4917, 1)\n",
      "lightgbm\n"
     ]
    },
    {
     "name": "stderr",
     "output_type": "stream",
     "text": [
      "100%|██████████████████████████████████████████████████████████████████████████████████| 38/38 [00:00<00:00, 50.79it/s]\n"
     ]
    },
    {
     "name": "stdout",
     "output_type": "stream",
     "text": [
      "random_forest == {'unique_uuid': '22b34125-fbf9-11ee-b090-c0e434d84b22', 'train_end': datetime.datetime(2023, 12, 29, 0, 0), 'test_start': datetime.datetime(2024, 1, 2, 0, 0), 'test_end': datetime.datetime(2024, 2, 8, 0, 0), 'duration_training_history': 120, 'target_column': 'growth', 'train_features': ['close_lag_1', 'volume_lag_1'], 'path_to_result': '/diploma_info/datalake/', 'forecast_periods': 4, 'model_name': 'random_forest', 'model': RandomForestClassifier(max_depth=9, n_estimators=10, n_jobs=-1, random_state=2), 'forecast_frequency': 'daily', 'company': 'google', 'model_hyperparameters': {'n_estimators': 10, 'n_jobs': -1, 'random_state': 2, 'max_depth': 9}, 'problem': 'classification'} \n",
      "\n",
      "(4917, 2) (4917, 1)\n",
      "random_forest\n"
     ]
    },
    {
     "name": "stderr",
     "output_type": "stream",
     "text": [
      "100%|██████████████████████████████████████████████████████████████████████████████████| 38/38 [00:02<00:00, 16.61it/s]\n"
     ]
    },
    {
     "name": "stdout",
     "output_type": "stream",
     "text": [
      "random_forest == {'unique_uuid': '22b34126-fbf9-11ee-98bf-c0e434d84b22', 'train_end': datetime.datetime(2023, 12, 29, 0, 0), 'test_start': datetime.datetime(2024, 1, 2, 0, 0), 'test_end': datetime.datetime(2024, 2, 8, 0, 0), 'duration_training_history': 120, 'target_column': 'growth', 'train_features': ['close_lag_1', 'year', 'month', 'day', 'day_of_week', 'week_of_year'], 'path_to_result': '/diploma_info/datalake/', 'forecast_periods': 4, 'model_name': 'random_forest', 'model': RandomForestClassifier(max_depth=9, n_estimators=10, n_jobs=-1, random_state=2), 'forecast_frequency': 'daily', 'company': 'google', 'model_hyperparameters': {'n_estimators': 10, 'n_jobs': -1, 'random_state': 2, 'max_depth': 9}, 'problem': 'classification'} \n",
      "\n",
      "(4917, 6) (4917, 1)\n",
      "random_forest\n"
     ]
    },
    {
     "name": "stderr",
     "output_type": "stream",
     "text": [
      "100%|██████████████████████████████████████████████████████████████████████████████████| 38/38 [00:02<00:00, 17.14it/s]\n"
     ]
    },
    {
     "name": "stdout",
     "output_type": "stream",
     "text": [
      "random_forest == {'unique_uuid': '22b34127-fbf9-11ee-85c9-c0e434d84b22', 'train_end': datetime.datetime(2023, 12, 29, 0, 0), 'test_start': datetime.datetime(2024, 1, 2, 0, 0), 'test_end': datetime.datetime(2024, 2, 8, 0, 0), 'duration_training_history': 120, 'target_column': 'growth', 'train_features': ['close_lag_1', 'volume_lag_1'], 'path_to_result': '/diploma_info/datalake/', 'forecast_periods': 4, 'model_name': 'random_forest', 'model': RandomForestClassifier(max_depth=9, n_estimators=200, n_jobs=-1, random_state=2), 'forecast_frequency': 'daily', 'company': 'google', 'model_hyperparameters': {'n_estimators': 200, 'n_jobs': -1, 'random_state': 2, 'max_depth': 9}, 'problem': 'classification'} \n",
      "\n",
      "(4917, 2) (4917, 1)\n",
      "random_forest\n"
     ]
    },
    {
     "name": "stderr",
     "output_type": "stream",
     "text": [
      "100%|██████████████████████████████████████████████████████████████████████████████████| 38/38 [00:14<00:00,  2.65it/s]\n"
     ]
    },
    {
     "name": "stdout",
     "output_type": "stream",
     "text": [
      "random_forest == {'unique_uuid': '22b34128-fbf9-11ee-99f7-c0e434d84b22', 'train_end': datetime.datetime(2023, 12, 29, 0, 0), 'test_start': datetime.datetime(2024, 1, 2, 0, 0), 'test_end': datetime.datetime(2024, 2, 8, 0, 0), 'duration_training_history': 120, 'target_column': 'growth', 'train_features': ['close_lag_1', 'year', 'month', 'day', 'day_of_week', 'week_of_year'], 'path_to_result': '/diploma_info/datalake/', 'forecast_periods': 4, 'model_name': 'random_forest', 'model': RandomForestClassifier(max_depth=9, n_estimators=200, n_jobs=-1, random_state=2), 'forecast_frequency': 'daily', 'company': 'google', 'model_hyperparameters': {'n_estimators': 200, 'n_jobs': -1, 'random_state': 2, 'max_depth': 9}, 'problem': 'classification'} \n",
      "\n",
      "(4917, 6) (4917, 1)\n",
      "random_forest\n"
     ]
    },
    {
     "name": "stderr",
     "output_type": "stream",
     "text": [
      "100%|██████████████████████████████████████████████████████████████████████████████████| 38/38 [00:14<00:00,  2.55it/s]\n"
     ]
    },
    {
     "name": "stdout",
     "output_type": "stream",
     "text": [
      "knear_neighbors == {'unique_uuid': '22b34129-fbf9-11ee-9549-c0e434d84b22', 'train_end': datetime.datetime(2023, 12, 29, 0, 0), 'test_start': datetime.datetime(2024, 1, 2, 0, 0), 'test_end': datetime.datetime(2024, 2, 8, 0, 0), 'duration_training_history': 120, 'target_column': 'growth', 'train_features': ['close_lag_1', 'volume_lag_1'], 'path_to_result': '/diploma_info/datalake/', 'forecast_periods': 4, 'model_name': 'knear_neighbors', 'model': KNeighborsClassifier(n_jobs=-1, n_neighbors=3), 'forecast_frequency': 'daily', 'company': 'google', 'model_hyperparameters': {'n_neighbors': 3, 'n_jobs': -1}, 'problem': 'classification'} \n",
      "\n",
      "(4917, 2) (4917, 1)\n",
      "knear_neighbors\n"
     ]
    },
    {
     "name": "stderr",
     "output_type": "stream",
     "text": [
      "100%|██████████████████████████████████████████████████████████████████████████████████| 38/38 [00:01<00:00, 34.32it/s]\n"
     ]
    },
    {
     "name": "stdout",
     "output_type": "stream",
     "text": [
      "knear_neighbors == {'unique_uuid': '22b3412a-fbf9-11ee-b853-c0e434d84b22', 'train_end': datetime.datetime(2023, 12, 29, 0, 0), 'test_start': datetime.datetime(2024, 1, 2, 0, 0), 'test_end': datetime.datetime(2024, 2, 8, 0, 0), 'duration_training_history': 120, 'target_column': 'growth', 'train_features': ['close_lag_1', 'year', 'month', 'day', 'day_of_week', 'week_of_year'], 'path_to_result': '/diploma_info/datalake/', 'forecast_periods': 4, 'model_name': 'knear_neighbors', 'model': KNeighborsClassifier(n_jobs=-1, n_neighbors=3), 'forecast_frequency': 'daily', 'company': 'google', 'model_hyperparameters': {'n_neighbors': 3, 'n_jobs': -1}, 'problem': 'classification'} \n",
      "\n",
      "(4917, 6) (4917, 1)\n",
      "knear_neighbors\n"
     ]
    },
    {
     "name": "stderr",
     "output_type": "stream",
     "text": [
      "100%|██████████████████████████████████████████████████████████████████████████████████| 38/38 [00:01<00:00, 35.87it/s]\n"
     ]
    },
    {
     "name": "stdout",
     "output_type": "stream",
     "text": [
      "knear_neighbors == {'unique_uuid': '22b3412b-fbf9-11ee-9f7e-c0e434d84b22', 'train_end': datetime.datetime(2023, 12, 29, 0, 0), 'test_start': datetime.datetime(2024, 1, 2, 0, 0), 'test_end': datetime.datetime(2024, 2, 8, 0, 0), 'duration_training_history': 120, 'target_column': 'growth', 'train_features': ['close_lag_1', 'volume_lag_1'], 'path_to_result': '/diploma_info/datalake/', 'forecast_periods': 4, 'model_name': 'knear_neighbors', 'model': KNeighborsClassifier(n_jobs=-1), 'forecast_frequency': 'daily', 'company': 'google', 'model_hyperparameters': {'n_neighbors': 5, 'n_jobs': -1}, 'problem': 'classification'} \n",
      "\n",
      "(4917, 2) (4917, 1)\n",
      "knear_neighbors\n"
     ]
    },
    {
     "name": "stderr",
     "output_type": "stream",
     "text": [
      "100%|██████████████████████████████████████████████████████████████████████████████████| 38/38 [00:01<00:00, 35.36it/s]\n"
     ]
    },
    {
     "name": "stdout",
     "output_type": "stream",
     "text": [
      "knear_neighbors == {'unique_uuid': '22b3412c-fbf9-11ee-a056-c0e434d84b22', 'train_end': datetime.datetime(2023, 12, 29, 0, 0), 'test_start': datetime.datetime(2024, 1, 2, 0, 0), 'test_end': datetime.datetime(2024, 2, 8, 0, 0), 'duration_training_history': 120, 'target_column': 'growth', 'train_features': ['close_lag_1', 'year', 'month', 'day', 'day_of_week', 'week_of_year'], 'path_to_result': '/diploma_info/datalake/', 'forecast_periods': 4, 'model_name': 'knear_neighbors', 'model': KNeighborsClassifier(n_jobs=-1), 'forecast_frequency': 'daily', 'company': 'google', 'model_hyperparameters': {'n_neighbors': 5, 'n_jobs': -1}, 'problem': 'classification'} \n",
      "\n",
      "(4917, 6) (4917, 1)\n",
      "knear_neighbors\n"
     ]
    },
    {
     "name": "stderr",
     "output_type": "stream",
     "text": [
      "100%|██████████████████████████████████████████████████████████████████████████████████| 38/38 [00:01<00:00, 36.84it/s]\n"
     ]
    },
    {
     "name": "stdout",
     "output_type": "stream",
     "text": [
      "xgboost == {'unique_uuid': '22b3412d-fbf9-11ee-a52a-c0e434d84b22', 'train_end': datetime.datetime(2023, 12, 29, 0, 0), 'test_start': datetime.datetime(2024, 1, 2, 0, 0), 'test_end': datetime.datetime(2024, 2, 8, 0, 0), 'duration_training_history': 180, 'target_column': 'growth', 'train_features': ['close_lag_1', 'volume_lag_1'], 'path_to_result': '/diploma_info/datalake/', 'forecast_periods': 4, 'model_name': 'xgboost', 'model': XGBClassifier(base_score=None, booster='gbtree', callbacks=None,\n",
      "              colsample_bylevel=None, colsample_bynode=None, colsample_bytree=1,\n",
      "              device=None, early_stopping_rounds=None, enable_categorical=False,\n",
      "              eta=0.3, eval_metric='rmse', feature_types=None, gamma=None,\n",
      "              grow_policy=None, importance_type=None,\n",
      "              interaction_constraints=None, learning_rate=None, max_bin=None,\n",
      "              max_cat_threshold=None, max_cat_to_onehot=None,\n",
      "              max_delta_step=None, max_depth=7, max_leaves=None,\n",
      "              min_child_weight=1, missing=nan, monotone_constraints=None,\n",
      "              multi_strategy=None, n_estimators=10, n_jobs=-1,\n",
      "              num_parallel_tree=None, ...), 'forecast_frequency': 'daily', 'company': 'google', 'model_hyperparameters': {'n_estimators': 10, 'n_jobs': -1, 'max_depth': 7, 'eta': 0.3, 'booster': 'gbtree', 'objective': 'reg:squarederror', 'eval_metric': 'rmse', 'subsample': 1, 'colsample_bytree': 1, 'min_child_weight': 1, 'random_state': 2}, 'problem': 'classification'} \n",
      "\n",
      "(4917, 2) (4917, 1)\n",
      "xgboost\n"
     ]
    },
    {
     "name": "stderr",
     "output_type": "stream",
     "text": [
      "100%|██████████████████████████████████████████████████████████████████████████████████| 38/38 [00:00<00:00, 45.21it/s]\n"
     ]
    },
    {
     "name": "stdout",
     "output_type": "stream",
     "text": [
      "xgboost == {'unique_uuid': '22b3412e-fbf9-11ee-a7c2-c0e434d84b22', 'train_end': datetime.datetime(2023, 12, 29, 0, 0), 'test_start': datetime.datetime(2024, 1, 2, 0, 0), 'test_end': datetime.datetime(2024, 2, 8, 0, 0), 'duration_training_history': 180, 'target_column': 'growth', 'train_features': ['close_lag_1', 'year', 'month', 'day', 'day_of_week', 'week_of_year'], 'path_to_result': '/diploma_info/datalake/', 'forecast_periods': 4, 'model_name': 'xgboost', 'model': XGBClassifier(base_score=None, booster='gbtree', callbacks=None,\n",
      "              colsample_bylevel=None, colsample_bynode=None, colsample_bytree=1,\n",
      "              device=None, early_stopping_rounds=None, enable_categorical=False,\n",
      "              eta=0.3, eval_metric='rmse', feature_types=None, gamma=None,\n",
      "              grow_policy=None, importance_type=None,\n",
      "              interaction_constraints=None, learning_rate=None, max_bin=None,\n",
      "              max_cat_threshold=None, max_cat_to_onehot=None,\n",
      "              max_delta_step=None, max_depth=7, max_leaves=None,\n",
      "              min_child_weight=1, missing=nan, monotone_constraints=None,\n",
      "              multi_strategy=None, n_estimators=10, n_jobs=-1,\n",
      "              num_parallel_tree=None, ...), 'forecast_frequency': 'daily', 'company': 'google', 'model_hyperparameters': {'n_estimators': 10, 'n_jobs': -1, 'max_depth': 7, 'eta': 0.3, 'booster': 'gbtree', 'objective': 'reg:squarederror', 'eval_metric': 'rmse', 'subsample': 1, 'colsample_bytree': 1, 'min_child_weight': 1, 'random_state': 2}, 'problem': 'classification'} \n",
      "\n",
      "(4917, 6) (4917, 1)\n",
      "xgboost\n"
     ]
    },
    {
     "name": "stderr",
     "output_type": "stream",
     "text": [
      "100%|██████████████████████████████████████████████████████████████████████████████████| 38/38 [00:00<00:00, 39.69it/s]\n"
     ]
    },
    {
     "name": "stdout",
     "output_type": "stream",
     "text": [
      "xgboost == {'unique_uuid': '22b3412f-fbf9-11ee-accd-c0e434d84b22', 'train_end': datetime.datetime(2023, 12, 29, 0, 0), 'test_start': datetime.datetime(2024, 1, 2, 0, 0), 'test_end': datetime.datetime(2024, 2, 8, 0, 0), 'duration_training_history': 180, 'target_column': 'growth', 'train_features': ['close_lag_1', 'volume_lag_1'], 'path_to_result': '/diploma_info/datalake/', 'forecast_periods': 4, 'model_name': 'xgboost', 'model': XGBClassifier(base_score=None, booster='gbtree', callbacks=None,\n",
      "              colsample_bylevel=None, colsample_bynode=None, colsample_bytree=1,\n",
      "              device=None, early_stopping_rounds=None, enable_categorical=False,\n",
      "              eta=0.3, eval_metric='rmse', feature_types=None, gamma=None,\n",
      "              grow_policy=None, importance_type=None,\n",
      "              interaction_constraints=None, learning_rate=None, max_bin=None,\n",
      "              max_cat_threshold=None, max_cat_to_onehot=None,\n",
      "              max_delta_step=None, max_depth=7, max_leaves=None,\n",
      "              min_child_weight=1, missing=nan, monotone_constraints=None,\n",
      "              multi_strategy=None, n_estimators=200, n_jobs=-1,\n",
      "              num_parallel_tree=None, ...), 'forecast_frequency': 'daily', 'company': 'google', 'model_hyperparameters': {'n_estimators': 200, 'n_jobs': -1, 'max_depth': 7, 'eta': 0.3, 'booster': 'gbtree', 'objective': 'reg:squarederror', 'eval_metric': 'rmse', 'subsample': 1, 'colsample_bytree': 1, 'min_child_weight': 1, 'random_state': 2}, 'problem': 'classification'} \n",
      "\n",
      "(4917, 2) (4917, 1)\n",
      "xgboost\n"
     ]
    },
    {
     "name": "stderr",
     "output_type": "stream",
     "text": [
      "100%|██████████████████████████████████████████████████████████████████████████████████| 38/38 [00:03<00:00, 11.50it/s]\n"
     ]
    },
    {
     "name": "stdout",
     "output_type": "stream",
     "text": [
      "xgboost == {'unique_uuid': '22b34130-fbf9-11ee-89d2-c0e434d84b22', 'train_end': datetime.datetime(2023, 12, 29, 0, 0), 'test_start': datetime.datetime(2024, 1, 2, 0, 0), 'test_end': datetime.datetime(2024, 2, 8, 0, 0), 'duration_training_history': 180, 'target_column': 'growth', 'train_features': ['close_lag_1', 'year', 'month', 'day', 'day_of_week', 'week_of_year'], 'path_to_result': '/diploma_info/datalake/', 'forecast_periods': 4, 'model_name': 'xgboost', 'model': XGBClassifier(base_score=None, booster='gbtree', callbacks=None,\n",
      "              colsample_bylevel=None, colsample_bynode=None, colsample_bytree=1,\n",
      "              device=None, early_stopping_rounds=None, enable_categorical=False,\n",
      "              eta=0.3, eval_metric='rmse', feature_types=None, gamma=None,\n",
      "              grow_policy=None, importance_type=None,\n",
      "              interaction_constraints=None, learning_rate=None, max_bin=None,\n",
      "              max_cat_threshold=None, max_cat_to_onehot=None,\n",
      "              max_delta_step=None, max_depth=7, max_leaves=None,\n",
      "              min_child_weight=1, missing=nan, monotone_constraints=None,\n",
      "              multi_strategy=None, n_estimators=200, n_jobs=-1,\n",
      "              num_parallel_tree=None, ...), 'forecast_frequency': 'daily', 'company': 'google', 'model_hyperparameters': {'n_estimators': 200, 'n_jobs': -1, 'max_depth': 7, 'eta': 0.3, 'booster': 'gbtree', 'objective': 'reg:squarederror', 'eval_metric': 'rmse', 'subsample': 1, 'colsample_bytree': 1, 'min_child_weight': 1, 'random_state': 2}, 'problem': 'classification'} \n",
      "\n",
      "(4917, 6) (4917, 1)\n",
      "xgboost\n"
     ]
    },
    {
     "name": "stderr",
     "output_type": "stream",
     "text": [
      "100%|██████████████████████████████████████████████████████████████████████████████████| 38/38 [00:03<00:00, 11.31it/s]\n"
     ]
    },
    {
     "name": "stdout",
     "output_type": "stream",
     "text": [
      "xgboost == {'unique_uuid': '22b34131-fbf9-11ee-9d12-c0e434d84b22', 'train_end': datetime.datetime(2023, 12, 29, 0, 0), 'test_start': datetime.datetime(2024, 1, 2, 0, 0), 'test_end': datetime.datetime(2024, 2, 8, 0, 0), 'duration_training_history': 180, 'target_column': 'growth', 'train_features': ['close_lag_1', 'volume_lag_1'], 'path_to_result': '/diploma_info/datalake/', 'forecast_periods': 4, 'model_name': 'xgboost', 'model': XGBClassifier(base_score=None, booster='gbtree', callbacks=None,\n",
      "              colsample_bylevel=None, colsample_bynode=None, colsample_bytree=1,\n",
      "              device=None, early_stopping_rounds=None, enable_categorical=False,\n",
      "              eta=0.3, eval_metric='rmse', feature_types=None, gamma=None,\n",
      "              grow_policy=None, importance_type=None,\n",
      "              interaction_constraints=None, learning_rate=None, max_bin=None,\n",
      "              max_cat_threshold=None, max_cat_to_onehot=None,\n",
      "              max_delta_step=None, max_depth=9, max_leaves=None,\n",
      "              min_child_weight=1, missing=nan, monotone_constraints=None,\n",
      "              multi_strategy=None, n_estimators=10, n_jobs=-1,\n",
      "              num_parallel_tree=None, ...), 'forecast_frequency': 'daily', 'company': 'google', 'model_hyperparameters': {'n_estimators': 10, 'n_jobs': -1, 'max_depth': 9, 'eta': 0.3, 'booster': 'gbtree', 'objective': 'reg:squarederror', 'eval_metric': 'rmse', 'subsample': 1, 'colsample_bytree': 1, 'min_child_weight': 1, 'random_state': 2}, 'problem': 'classification'} \n",
      "\n",
      "(4917, 2) (4917, 1)\n",
      "xgboost\n"
     ]
    },
    {
     "name": "stderr",
     "output_type": "stream",
     "text": [
      "100%|██████████████████████████████████████████████████████████████████████████████████| 38/38 [00:01<00:00, 37.41it/s]\n"
     ]
    },
    {
     "name": "stdout",
     "output_type": "stream",
     "text": [
      "xgboost == {'unique_uuid': '22b34132-fbf9-11ee-bd0a-c0e434d84b22', 'train_end': datetime.datetime(2023, 12, 29, 0, 0), 'test_start': datetime.datetime(2024, 1, 2, 0, 0), 'test_end': datetime.datetime(2024, 2, 8, 0, 0), 'duration_training_history': 180, 'target_column': 'growth', 'train_features': ['close_lag_1', 'year', 'month', 'day', 'day_of_week', 'week_of_year'], 'path_to_result': '/diploma_info/datalake/', 'forecast_periods': 4, 'model_name': 'xgboost', 'model': XGBClassifier(base_score=None, booster='gbtree', callbacks=None,\n",
      "              colsample_bylevel=None, colsample_bynode=None, colsample_bytree=1,\n",
      "              device=None, early_stopping_rounds=None, enable_categorical=False,\n",
      "              eta=0.3, eval_metric='rmse', feature_types=None, gamma=None,\n",
      "              grow_policy=None, importance_type=None,\n",
      "              interaction_constraints=None, learning_rate=None, max_bin=None,\n",
      "              max_cat_threshold=None, max_cat_to_onehot=None,\n",
      "              max_delta_step=None, max_depth=9, max_leaves=None,\n",
      "              min_child_weight=1, missing=nan, monotone_constraints=None,\n",
      "              multi_strategy=None, n_estimators=10, n_jobs=-1,\n",
      "              num_parallel_tree=None, ...), 'forecast_frequency': 'daily', 'company': 'google', 'model_hyperparameters': {'n_estimators': 10, 'n_jobs': -1, 'max_depth': 9, 'eta': 0.3, 'booster': 'gbtree', 'objective': 'reg:squarederror', 'eval_metric': 'rmse', 'subsample': 1, 'colsample_bytree': 1, 'min_child_weight': 1, 'random_state': 2}, 'problem': 'classification'} \n",
      "\n",
      "(4917, 6) (4917, 1)\n",
      "xgboost\n"
     ]
    },
    {
     "name": "stderr",
     "output_type": "stream",
     "text": [
      "100%|██████████████████████████████████████████████████████████████████████████████████| 38/38 [00:01<00:00, 36.99it/s]\n"
     ]
    },
    {
     "name": "stdout",
     "output_type": "stream",
     "text": [
      "xgboost == {'unique_uuid': '22b34133-fbf9-11ee-bf8d-c0e434d84b22', 'train_end': datetime.datetime(2023, 12, 29, 0, 0), 'test_start': datetime.datetime(2024, 1, 2, 0, 0), 'test_end': datetime.datetime(2024, 2, 8, 0, 0), 'duration_training_history': 180, 'target_column': 'growth', 'train_features': ['close_lag_1', 'volume_lag_1'], 'path_to_result': '/diploma_info/datalake/', 'forecast_periods': 4, 'model_name': 'xgboost', 'model': XGBClassifier(base_score=None, booster='gbtree', callbacks=None,\n",
      "              colsample_bylevel=None, colsample_bynode=None, colsample_bytree=1,\n",
      "              device=None, early_stopping_rounds=None, enable_categorical=False,\n",
      "              eta=0.3, eval_metric='rmse', feature_types=None, gamma=None,\n",
      "              grow_policy=None, importance_type=None,\n",
      "              interaction_constraints=None, learning_rate=None, max_bin=None,\n",
      "              max_cat_threshold=None, max_cat_to_onehot=None,\n",
      "              max_delta_step=None, max_depth=9, max_leaves=None,\n",
      "              min_child_weight=1, missing=nan, monotone_constraints=None,\n",
      "              multi_strategy=None, n_estimators=200, n_jobs=-1,\n",
      "              num_parallel_tree=None, ...), 'forecast_frequency': 'daily', 'company': 'google', 'model_hyperparameters': {'n_estimators': 200, 'n_jobs': -1, 'max_depth': 9, 'eta': 0.3, 'booster': 'gbtree', 'objective': 'reg:squarederror', 'eval_metric': 'rmse', 'subsample': 1, 'colsample_bytree': 1, 'min_child_weight': 1, 'random_state': 2}, 'problem': 'classification'} \n",
      "\n",
      "(4917, 2) (4917, 1)\n",
      "xgboost\n"
     ]
    },
    {
     "name": "stderr",
     "output_type": "stream",
     "text": [
      "100%|██████████████████████████████████████████████████████████████████████████████████| 38/38 [00:03<00:00, 11.75it/s]\n"
     ]
    },
    {
     "name": "stdout",
     "output_type": "stream",
     "text": [
      "xgboost == {'unique_uuid': '22b34134-fbf9-11ee-878d-c0e434d84b22', 'train_end': datetime.datetime(2023, 12, 29, 0, 0), 'test_start': datetime.datetime(2024, 1, 2, 0, 0), 'test_end': datetime.datetime(2024, 2, 8, 0, 0), 'duration_training_history': 180, 'target_column': 'growth', 'train_features': ['close_lag_1', 'year', 'month', 'day', 'day_of_week', 'week_of_year'], 'path_to_result': '/diploma_info/datalake/', 'forecast_periods': 4, 'model_name': 'xgboost', 'model': XGBClassifier(base_score=None, booster='gbtree', callbacks=None,\n",
      "              colsample_bylevel=None, colsample_bynode=None, colsample_bytree=1,\n",
      "              device=None, early_stopping_rounds=None, enable_categorical=False,\n",
      "              eta=0.3, eval_metric='rmse', feature_types=None, gamma=None,\n",
      "              grow_policy=None, importance_type=None,\n",
      "              interaction_constraints=None, learning_rate=None, max_bin=None,\n",
      "              max_cat_threshold=None, max_cat_to_onehot=None,\n",
      "              max_delta_step=None, max_depth=9, max_leaves=None,\n",
      "              min_child_weight=1, missing=nan, monotone_constraints=None,\n",
      "              multi_strategy=None, n_estimators=200, n_jobs=-1,\n",
      "              num_parallel_tree=None, ...), 'forecast_frequency': 'daily', 'company': 'google', 'model_hyperparameters': {'n_estimators': 200, 'n_jobs': -1, 'max_depth': 9, 'eta': 0.3, 'booster': 'gbtree', 'objective': 'reg:squarederror', 'eval_metric': 'rmse', 'subsample': 1, 'colsample_bytree': 1, 'min_child_weight': 1, 'random_state': 2}, 'problem': 'classification'} \n",
      "\n",
      "(4917, 6) (4917, 1)\n",
      "xgboost\n"
     ]
    },
    {
     "name": "stderr",
     "output_type": "stream",
     "text": [
      "100%|██████████████████████████████████████████████████████████████████████████████████| 38/38 [00:03<00:00, 12.31it/s]\n"
     ]
    },
    {
     "name": "stdout",
     "output_type": "stream",
     "text": [
      "lightgbm == {'unique_uuid': '22b34135-fbf9-11ee-a02b-c0e434d84b22', 'train_end': datetime.datetime(2023, 12, 29, 0, 0), 'test_start': datetime.datetime(2024, 1, 2, 0, 0), 'test_end': datetime.datetime(2024, 2, 8, 0, 0), 'duration_training_history': 180, 'target_column': 'growth', 'train_features': ['close_lag_1', 'volume_lag_1'], 'path_to_result': '/diploma_info/datalake/', 'forecast_periods': 4, 'model_name': 'lightgbm', 'model': LGBMClassifier(eta=0.3, max_depth=7, metric='binary', n_estimators=10,\n",
      "               n_jobs=-1, objective='binary', random_state=2, verbosity=-1), 'forecast_frequency': 'daily', 'company': 'google', 'model_hyperparameters': {'n_estimators': 10, 'n_jobs': -1, 'max_depth': 7, 'eta': 0.3, 'random_state': 2, 'objective': 'binary', 'verbosity': -1, 'metric': 'binary'}, 'problem': 'classification'} \n",
      "\n",
      "(4917, 2) (4917, 1)\n",
      "lightgbm\n"
     ]
    },
    {
     "name": "stderr",
     "output_type": "stream",
     "text": [
      "100%|██████████████████████████████████████████████████████████████████████████████████| 38/38 [00:00<00:00, 49.63it/s]\n"
     ]
    },
    {
     "name": "stdout",
     "output_type": "stream",
     "text": [
      "lightgbm == {'unique_uuid': '22b34136-fbf9-11ee-b23d-c0e434d84b22', 'train_end': datetime.datetime(2023, 12, 29, 0, 0), 'test_start': datetime.datetime(2024, 1, 2, 0, 0), 'test_end': datetime.datetime(2024, 2, 8, 0, 0), 'duration_training_history': 180, 'target_column': 'growth', 'train_features': ['close_lag_1', 'year', 'month', 'day', 'day_of_week', 'week_of_year'], 'path_to_result': '/diploma_info/datalake/', 'forecast_periods': 4, 'model_name': 'lightgbm', 'model': LGBMClassifier(eta=0.3, max_depth=7, metric='binary', n_estimators=10,\n",
      "               n_jobs=-1, objective='binary', random_state=2, verbosity=-1), 'forecast_frequency': 'daily', 'company': 'google', 'model_hyperparameters': {'n_estimators': 10, 'n_jobs': -1, 'max_depth': 7, 'eta': 0.3, 'random_state': 2, 'objective': 'binary', 'verbosity': -1, 'metric': 'binary'}, 'problem': 'classification'} \n",
      "\n",
      "(4917, 6) (4917, 1)\n",
      "lightgbm\n"
     ]
    },
    {
     "name": "stderr",
     "output_type": "stream",
     "text": [
      "100%|██████████████████████████████████████████████████████████████████████████████████| 38/38 [00:00<00:00, 51.55it/s]\n"
     ]
    },
    {
     "name": "stdout",
     "output_type": "stream",
     "text": [
      "lightgbm == {'unique_uuid': '22b34137-fbf9-11ee-b0f3-c0e434d84b22', 'train_end': datetime.datetime(2023, 12, 29, 0, 0), 'test_start': datetime.datetime(2024, 1, 2, 0, 0), 'test_end': datetime.datetime(2024, 2, 8, 0, 0), 'duration_training_history': 180, 'target_column': 'growth', 'train_features': ['close_lag_1', 'volume_lag_1'], 'path_to_result': '/diploma_info/datalake/', 'forecast_periods': 4, 'model_name': 'lightgbm', 'model': LGBMClassifier(eta=0.3, max_depth=9, metric='binary', n_estimators=10,\n",
      "               n_jobs=-1, objective='binary', random_state=2, verbosity=-1), 'forecast_frequency': 'daily', 'company': 'google', 'model_hyperparameters': {'n_estimators': 10, 'n_jobs': -1, 'max_depth': 9, 'eta': 0.3, 'random_state': 2, 'objective': 'binary', 'verbosity': -1, 'metric': 'binary'}, 'problem': 'classification'} \n",
      "\n",
      "(4917, 2) (4917, 1)\n",
      "lightgbm\n"
     ]
    },
    {
     "name": "stderr",
     "output_type": "stream",
     "text": [
      "100%|██████████████████████████████████████████████████████████████████████████████████| 38/38 [00:00<00:00, 51.08it/s]\n"
     ]
    },
    {
     "name": "stdout",
     "output_type": "stream",
     "text": [
      "lightgbm == {'unique_uuid': '22b34138-fbf9-11ee-b3a8-c0e434d84b22', 'train_end': datetime.datetime(2023, 12, 29, 0, 0), 'test_start': datetime.datetime(2024, 1, 2, 0, 0), 'test_end': datetime.datetime(2024, 2, 8, 0, 0), 'duration_training_history': 180, 'target_column': 'growth', 'train_features': ['close_lag_1', 'year', 'month', 'day', 'day_of_week', 'week_of_year'], 'path_to_result': '/diploma_info/datalake/', 'forecast_periods': 4, 'model_name': 'lightgbm', 'model': LGBMClassifier(eta=0.3, max_depth=9, metric='binary', n_estimators=10,\n",
      "               n_jobs=-1, objective='binary', random_state=2, verbosity=-1), 'forecast_frequency': 'daily', 'company': 'google', 'model_hyperparameters': {'n_estimators': 10, 'n_jobs': -1, 'max_depth': 9, 'eta': 0.3, 'random_state': 2, 'objective': 'binary', 'verbosity': -1, 'metric': 'binary'}, 'problem': 'classification'} \n",
      "\n",
      "(4917, 6) (4917, 1)\n",
      "lightgbm\n"
     ]
    },
    {
     "name": "stderr",
     "output_type": "stream",
     "text": [
      "100%|██████████████████████████████████████████████████████████████████████████████████| 38/38 [00:00<00:00, 52.36it/s]\n"
     ]
    },
    {
     "name": "stdout",
     "output_type": "stream",
     "text": [
      "random_forest == {'unique_uuid': '22b34139-fbf9-11ee-a106-c0e434d84b22', 'train_end': datetime.datetime(2023, 12, 29, 0, 0), 'test_start': datetime.datetime(2024, 1, 2, 0, 0), 'test_end': datetime.datetime(2024, 2, 8, 0, 0), 'duration_training_history': 180, 'target_column': 'growth', 'train_features': ['close_lag_1', 'volume_lag_1'], 'path_to_result': '/diploma_info/datalake/', 'forecast_periods': 4, 'model_name': 'random_forest', 'model': RandomForestClassifier(max_depth=9, n_estimators=10, n_jobs=-1, random_state=2), 'forecast_frequency': 'daily', 'company': 'google', 'model_hyperparameters': {'n_estimators': 10, 'n_jobs': -1, 'random_state': 2, 'max_depth': 9}, 'problem': 'classification'} \n",
      "\n",
      "(4917, 2) (4917, 1)\n",
      "random_forest\n"
     ]
    },
    {
     "name": "stderr",
     "output_type": "stream",
     "text": [
      "100%|██████████████████████████████████████████████████████████████████████████████████| 38/38 [00:02<00:00, 17.13it/s]\n"
     ]
    },
    {
     "name": "stdout",
     "output_type": "stream",
     "text": [
      "random_forest == {'unique_uuid': '22b3413a-fbf9-11ee-8c18-c0e434d84b22', 'train_end': datetime.datetime(2023, 12, 29, 0, 0), 'test_start': datetime.datetime(2024, 1, 2, 0, 0), 'test_end': datetime.datetime(2024, 2, 8, 0, 0), 'duration_training_history': 180, 'target_column': 'growth', 'train_features': ['close_lag_1', 'year', 'month', 'day', 'day_of_week', 'week_of_year'], 'path_to_result': '/diploma_info/datalake/', 'forecast_periods': 4, 'model_name': 'random_forest', 'model': RandomForestClassifier(max_depth=9, n_estimators=10, n_jobs=-1, random_state=2), 'forecast_frequency': 'daily', 'company': 'google', 'model_hyperparameters': {'n_estimators': 10, 'n_jobs': -1, 'random_state': 2, 'max_depth': 9}, 'problem': 'classification'} \n",
      "\n",
      "(4917, 6) (4917, 1)\n",
      "random_forest\n"
     ]
    },
    {
     "name": "stderr",
     "output_type": "stream",
     "text": [
      "100%|██████████████████████████████████████████████████████████████████████████████████| 38/38 [00:02<00:00, 17.32it/s]\n"
     ]
    },
    {
     "name": "stdout",
     "output_type": "stream",
     "text": [
      "random_forest == {'unique_uuid': '22b3413b-fbf9-11ee-bc79-c0e434d84b22', 'train_end': datetime.datetime(2023, 12, 29, 0, 0), 'test_start': datetime.datetime(2024, 1, 2, 0, 0), 'test_end': datetime.datetime(2024, 2, 8, 0, 0), 'duration_training_history': 180, 'target_column': 'growth', 'train_features': ['close_lag_1', 'volume_lag_1'], 'path_to_result': '/diploma_info/datalake/', 'forecast_periods': 4, 'model_name': 'random_forest', 'model': RandomForestClassifier(max_depth=9, n_estimators=200, n_jobs=-1, random_state=2), 'forecast_frequency': 'daily', 'company': 'google', 'model_hyperparameters': {'n_estimators': 200, 'n_jobs': -1, 'random_state': 2, 'max_depth': 9}, 'problem': 'classification'} \n",
      "\n",
      "(4917, 2) (4917, 1)\n",
      "random_forest\n"
     ]
    },
    {
     "name": "stderr",
     "output_type": "stream",
     "text": [
      "100%|██████████████████████████████████████████████████████████████████████████████████| 38/38 [00:16<00:00,  2.28it/s]\n"
     ]
    },
    {
     "name": "stdout",
     "output_type": "stream",
     "text": [
      "random_forest == {'unique_uuid': '22b3413c-fbf9-11ee-9911-c0e434d84b22', 'train_end': datetime.datetime(2023, 12, 29, 0, 0), 'test_start': datetime.datetime(2024, 1, 2, 0, 0), 'test_end': datetime.datetime(2024, 2, 8, 0, 0), 'duration_training_history': 180, 'target_column': 'growth', 'train_features': ['close_lag_1', 'year', 'month', 'day', 'day_of_week', 'week_of_year'], 'path_to_result': '/diploma_info/datalake/', 'forecast_periods': 4, 'model_name': 'random_forest', 'model': RandomForestClassifier(max_depth=9, n_estimators=200, n_jobs=-1, random_state=2), 'forecast_frequency': 'daily', 'company': 'google', 'model_hyperparameters': {'n_estimators': 200, 'n_jobs': -1, 'random_state': 2, 'max_depth': 9}, 'problem': 'classification'} \n",
      "\n",
      "(4917, 6) (4917, 1)\n",
      "random_forest\n"
     ]
    },
    {
     "name": "stderr",
     "output_type": "stream",
     "text": [
      "100%|██████████████████████████████████████████████████████████████████████████████████| 38/38 [00:15<00:00,  2.53it/s]\n"
     ]
    },
    {
     "name": "stdout",
     "output_type": "stream",
     "text": [
      "knear_neighbors == {'unique_uuid': '22b3413d-fbf9-11ee-a287-c0e434d84b22', 'train_end': datetime.datetime(2023, 12, 29, 0, 0), 'test_start': datetime.datetime(2024, 1, 2, 0, 0), 'test_end': datetime.datetime(2024, 2, 8, 0, 0), 'duration_training_history': 180, 'target_column': 'growth', 'train_features': ['close_lag_1', 'volume_lag_1'], 'path_to_result': '/diploma_info/datalake/', 'forecast_periods': 4, 'model_name': 'knear_neighbors', 'model': KNeighborsClassifier(n_jobs=-1, n_neighbors=3), 'forecast_frequency': 'daily', 'company': 'google', 'model_hyperparameters': {'n_neighbors': 3, 'n_jobs': -1}, 'problem': 'classification'} \n",
      "\n",
      "(4917, 2) (4917, 1)\n",
      "knear_neighbors\n"
     ]
    },
    {
     "name": "stderr",
     "output_type": "stream",
     "text": [
      "100%|██████████████████████████████████████████████████████████████████████████████████| 38/38 [00:01<00:00, 35.10it/s]\n"
     ]
    },
    {
     "name": "stdout",
     "output_type": "stream",
     "text": [
      "knear_neighbors == {'unique_uuid': '22b3413e-fbf9-11ee-a439-c0e434d84b22', 'train_end': datetime.datetime(2023, 12, 29, 0, 0), 'test_start': datetime.datetime(2024, 1, 2, 0, 0), 'test_end': datetime.datetime(2024, 2, 8, 0, 0), 'duration_training_history': 180, 'target_column': 'growth', 'train_features': ['close_lag_1', 'year', 'month', 'day', 'day_of_week', 'week_of_year'], 'path_to_result': '/diploma_info/datalake/', 'forecast_periods': 4, 'model_name': 'knear_neighbors', 'model': KNeighborsClassifier(n_jobs=-1, n_neighbors=3), 'forecast_frequency': 'daily', 'company': 'google', 'model_hyperparameters': {'n_neighbors': 3, 'n_jobs': -1}, 'problem': 'classification'} \n",
      "\n",
      "(4917, 6) (4917, 1)\n",
      "knear_neighbors\n"
     ]
    },
    {
     "name": "stderr",
     "output_type": "stream",
     "text": [
      "100%|██████████████████████████████████████████████████████████████████████████████████| 38/38 [00:01<00:00, 32.33it/s]\n"
     ]
    },
    {
     "name": "stdout",
     "output_type": "stream",
     "text": [
      "knear_neighbors == {'unique_uuid': '22b3413f-fbf9-11ee-a2e6-c0e434d84b22', 'train_end': datetime.datetime(2023, 12, 29, 0, 0), 'test_start': datetime.datetime(2024, 1, 2, 0, 0), 'test_end': datetime.datetime(2024, 2, 8, 0, 0), 'duration_training_history': 180, 'target_column': 'growth', 'train_features': ['close_lag_1', 'volume_lag_1'], 'path_to_result': '/diploma_info/datalake/', 'forecast_periods': 4, 'model_name': 'knear_neighbors', 'model': KNeighborsClassifier(n_jobs=-1), 'forecast_frequency': 'daily', 'company': 'google', 'model_hyperparameters': {'n_neighbors': 5, 'n_jobs': -1}, 'problem': 'classification'} \n",
      "\n",
      "(4917, 2) (4917, 1)\n",
      "knear_neighbors\n"
     ]
    },
    {
     "name": "stderr",
     "output_type": "stream",
     "text": [
      "100%|██████████████████████████████████████████████████████████████████████████████████| 38/38 [00:01<00:00, 34.71it/s]\n"
     ]
    },
    {
     "name": "stdout",
     "output_type": "stream",
     "text": [
      "knear_neighbors == {'unique_uuid': '22b34140-fbf9-11ee-8674-c0e434d84b22', 'train_end': datetime.datetime(2023, 12, 29, 0, 0), 'test_start': datetime.datetime(2024, 1, 2, 0, 0), 'test_end': datetime.datetime(2024, 2, 8, 0, 0), 'duration_training_history': 180, 'target_column': 'growth', 'train_features': ['close_lag_1', 'year', 'month', 'day', 'day_of_week', 'week_of_year'], 'path_to_result': '/diploma_info/datalake/', 'forecast_periods': 4, 'model_name': 'knear_neighbors', 'model': KNeighborsClassifier(n_jobs=-1), 'forecast_frequency': 'daily', 'company': 'google', 'model_hyperparameters': {'n_neighbors': 5, 'n_jobs': -1}, 'problem': 'classification'} \n",
      "\n",
      "(4917, 6) (4917, 1)\n",
      "knear_neighbors\n"
     ]
    },
    {
     "name": "stderr",
     "output_type": "stream",
     "text": [
      "100%|██████████████████████████████████████████████████████████████████████████████████| 38/38 [00:01<00:00, 34.96it/s]\n"
     ]
    },
    {
     "name": "stdout",
     "output_type": "stream",
     "text": [
      "xgboost == {'unique_uuid': '22b34141-fbf9-11ee-9e8e-c0e434d84b22', 'train_end': datetime.datetime(2023, 12, 29, 0, 0), 'test_start': datetime.datetime(2024, 1, 2, 0, 0), 'test_end': datetime.datetime(2024, 2, 8, 0, 0), 'duration_training_history': 240, 'target_column': 'growth', 'train_features': ['close_lag_1', 'volume_lag_1'], 'path_to_result': '/diploma_info/datalake/', 'forecast_periods': 4, 'model_name': 'xgboost', 'model': XGBClassifier(base_score=None, booster='gbtree', callbacks=None,\n",
      "              colsample_bylevel=None, colsample_bynode=None, colsample_bytree=1,\n",
      "              device=None, early_stopping_rounds=None, enable_categorical=False,\n",
      "              eta=0.3, eval_metric='rmse', feature_types=None, gamma=None,\n",
      "              grow_policy=None, importance_type=None,\n",
      "              interaction_constraints=None, learning_rate=None, max_bin=None,\n",
      "              max_cat_threshold=None, max_cat_to_onehot=None,\n",
      "              max_delta_step=None, max_depth=7, max_leaves=None,\n",
      "              min_child_weight=1, missing=nan, monotone_constraints=None,\n",
      "              multi_strategy=None, n_estimators=10, n_jobs=-1,\n",
      "              num_parallel_tree=None, ...), 'forecast_frequency': 'daily', 'company': 'google', 'model_hyperparameters': {'n_estimators': 10, 'n_jobs': -1, 'max_depth': 7, 'eta': 0.3, 'booster': 'gbtree', 'objective': 'reg:squarederror', 'eval_metric': 'rmse', 'subsample': 1, 'colsample_bytree': 1, 'min_child_weight': 1, 'random_state': 2}, 'problem': 'classification'} \n",
      "\n",
      "(4917, 2) (4917, 1)\n",
      "xgboost\n"
     ]
    },
    {
     "name": "stderr",
     "output_type": "stream",
     "text": [
      "100%|██████████████████████████████████████████████████████████████████████████████████| 38/38 [00:00<00:00, 45.16it/s]\n"
     ]
    },
    {
     "name": "stdout",
     "output_type": "stream",
     "text": [
      "xgboost == {'unique_uuid': '22b34142-fbf9-11ee-aa69-c0e434d84b22', 'train_end': datetime.datetime(2023, 12, 29, 0, 0), 'test_start': datetime.datetime(2024, 1, 2, 0, 0), 'test_end': datetime.datetime(2024, 2, 8, 0, 0), 'duration_training_history': 240, 'target_column': 'growth', 'train_features': ['close_lag_1', 'year', 'month', 'day', 'day_of_week', 'week_of_year'], 'path_to_result': '/diploma_info/datalake/', 'forecast_periods': 4, 'model_name': 'xgboost', 'model': XGBClassifier(base_score=None, booster='gbtree', callbacks=None,\n",
      "              colsample_bylevel=None, colsample_bynode=None, colsample_bytree=1,\n",
      "              device=None, early_stopping_rounds=None, enable_categorical=False,\n",
      "              eta=0.3, eval_metric='rmse', feature_types=None, gamma=None,\n",
      "              grow_policy=None, importance_type=None,\n",
      "              interaction_constraints=None, learning_rate=None, max_bin=None,\n",
      "              max_cat_threshold=None, max_cat_to_onehot=None,\n",
      "              max_delta_step=None, max_depth=7, max_leaves=None,\n",
      "              min_child_weight=1, missing=nan, monotone_constraints=None,\n",
      "              multi_strategy=None, n_estimators=10, n_jobs=-1,\n",
      "              num_parallel_tree=None, ...), 'forecast_frequency': 'daily', 'company': 'google', 'model_hyperparameters': {'n_estimators': 10, 'n_jobs': -1, 'max_depth': 7, 'eta': 0.3, 'booster': 'gbtree', 'objective': 'reg:squarederror', 'eval_metric': 'rmse', 'subsample': 1, 'colsample_bytree': 1, 'min_child_weight': 1, 'random_state': 2}, 'problem': 'classification'} \n",
      "\n",
      "(4917, 6) (4917, 1)\n",
      "xgboost\n"
     ]
    },
    {
     "name": "stderr",
     "output_type": "stream",
     "text": [
      "100%|██████████████████████████████████████████████████████████████████████████████████| 38/38 [00:00<00:00, 41.00it/s]\n"
     ]
    },
    {
     "name": "stdout",
     "output_type": "stream",
     "text": [
      "xgboost == {'unique_uuid': '22b34143-fbf9-11ee-a909-c0e434d84b22', 'train_end': datetime.datetime(2023, 12, 29, 0, 0), 'test_start': datetime.datetime(2024, 1, 2, 0, 0), 'test_end': datetime.datetime(2024, 2, 8, 0, 0), 'duration_training_history': 240, 'target_column': 'growth', 'train_features': ['close_lag_1', 'volume_lag_1'], 'path_to_result': '/diploma_info/datalake/', 'forecast_periods': 4, 'model_name': 'xgboost', 'model': XGBClassifier(base_score=None, booster='gbtree', callbacks=None,\n",
      "              colsample_bylevel=None, colsample_bynode=None, colsample_bytree=1,\n",
      "              device=None, early_stopping_rounds=None, enable_categorical=False,\n",
      "              eta=0.3, eval_metric='rmse', feature_types=None, gamma=None,\n",
      "              grow_policy=None, importance_type=None,\n",
      "              interaction_constraints=None, learning_rate=None, max_bin=None,\n",
      "              max_cat_threshold=None, max_cat_to_onehot=None,\n",
      "              max_delta_step=None, max_depth=7, max_leaves=None,\n",
      "              min_child_weight=1, missing=nan, monotone_constraints=None,\n",
      "              multi_strategy=None, n_estimators=200, n_jobs=-1,\n",
      "              num_parallel_tree=None, ...), 'forecast_frequency': 'daily', 'company': 'google', 'model_hyperparameters': {'n_estimators': 200, 'n_jobs': -1, 'max_depth': 7, 'eta': 0.3, 'booster': 'gbtree', 'objective': 'reg:squarederror', 'eval_metric': 'rmse', 'subsample': 1, 'colsample_bytree': 1, 'min_child_weight': 1, 'random_state': 2}, 'problem': 'classification'} \n",
      "\n",
      "(4917, 2) (4917, 1)\n",
      "xgboost\n"
     ]
    },
    {
     "name": "stderr",
     "output_type": "stream",
     "text": [
      "100%|██████████████████████████████████████████████████████████████████████████████████| 38/38 [00:03<00:00, 11.15it/s]\n"
     ]
    },
    {
     "name": "stdout",
     "output_type": "stream",
     "text": [
      "xgboost == {'unique_uuid': '22b34144-fbf9-11ee-a37b-c0e434d84b22', 'train_end': datetime.datetime(2023, 12, 29, 0, 0), 'test_start': datetime.datetime(2024, 1, 2, 0, 0), 'test_end': datetime.datetime(2024, 2, 8, 0, 0), 'duration_training_history': 240, 'target_column': 'growth', 'train_features': ['close_lag_1', 'year', 'month', 'day', 'day_of_week', 'week_of_year'], 'path_to_result': '/diploma_info/datalake/', 'forecast_periods': 4, 'model_name': 'xgboost', 'model': XGBClassifier(base_score=None, booster='gbtree', callbacks=None,\n",
      "              colsample_bylevel=None, colsample_bynode=None, colsample_bytree=1,\n",
      "              device=None, early_stopping_rounds=None, enable_categorical=False,\n",
      "              eta=0.3, eval_metric='rmse', feature_types=None, gamma=None,\n",
      "              grow_policy=None, importance_type=None,\n",
      "              interaction_constraints=None, learning_rate=None, max_bin=None,\n",
      "              max_cat_threshold=None, max_cat_to_onehot=None,\n",
      "              max_delta_step=None, max_depth=7, max_leaves=None,\n",
      "              min_child_weight=1, missing=nan, monotone_constraints=None,\n",
      "              multi_strategy=None, n_estimators=200, n_jobs=-1,\n",
      "              num_parallel_tree=None, ...), 'forecast_frequency': 'daily', 'company': 'google', 'model_hyperparameters': {'n_estimators': 200, 'n_jobs': -1, 'max_depth': 7, 'eta': 0.3, 'booster': 'gbtree', 'objective': 'reg:squarederror', 'eval_metric': 'rmse', 'subsample': 1, 'colsample_bytree': 1, 'min_child_weight': 1, 'random_state': 2}, 'problem': 'classification'} \n",
      "\n",
      "(4917, 6) (4917, 1)\n",
      "xgboost\n"
     ]
    },
    {
     "name": "stderr",
     "output_type": "stream",
     "text": [
      "100%|██████████████████████████████████████████████████████████████████████████████████| 38/38 [00:03<00:00, 11.32it/s]\n"
     ]
    },
    {
     "name": "stdout",
     "output_type": "stream",
     "text": [
      "xgboost == {'unique_uuid': '22b34145-fbf9-11ee-b2e4-c0e434d84b22', 'train_end': datetime.datetime(2023, 12, 29, 0, 0), 'test_start': datetime.datetime(2024, 1, 2, 0, 0), 'test_end': datetime.datetime(2024, 2, 8, 0, 0), 'duration_training_history': 240, 'target_column': 'growth', 'train_features': ['close_lag_1', 'volume_lag_1'], 'path_to_result': '/diploma_info/datalake/', 'forecast_periods': 4, 'model_name': 'xgboost', 'model': XGBClassifier(base_score=None, booster='gbtree', callbacks=None,\n",
      "              colsample_bylevel=None, colsample_bynode=None, colsample_bytree=1,\n",
      "              device=None, early_stopping_rounds=None, enable_categorical=False,\n",
      "              eta=0.3, eval_metric='rmse', feature_types=None, gamma=None,\n",
      "              grow_policy=None, importance_type=None,\n",
      "              interaction_constraints=None, learning_rate=None, max_bin=None,\n",
      "              max_cat_threshold=None, max_cat_to_onehot=None,\n",
      "              max_delta_step=None, max_depth=9, max_leaves=None,\n",
      "              min_child_weight=1, missing=nan, monotone_constraints=None,\n",
      "              multi_strategy=None, n_estimators=10, n_jobs=-1,\n",
      "              num_parallel_tree=None, ...), 'forecast_frequency': 'daily', 'company': 'google', 'model_hyperparameters': {'n_estimators': 10, 'n_jobs': -1, 'max_depth': 9, 'eta': 0.3, 'booster': 'gbtree', 'objective': 'reg:squarederror', 'eval_metric': 'rmse', 'subsample': 1, 'colsample_bytree': 1, 'min_child_weight': 1, 'random_state': 2}, 'problem': 'classification'} \n",
      "\n",
      "(4917, 2) (4917, 1)\n",
      "xgboost\n"
     ]
    },
    {
     "name": "stderr",
     "output_type": "stream",
     "text": [
      "100%|██████████████████████████████████████████████████████████████████████████████████| 38/38 [00:01<00:00, 34.94it/s]\n"
     ]
    },
    {
     "name": "stdout",
     "output_type": "stream",
     "text": [
      "xgboost == {'unique_uuid': '22b34146-fbf9-11ee-a7b2-c0e434d84b22', 'train_end': datetime.datetime(2023, 12, 29, 0, 0), 'test_start': datetime.datetime(2024, 1, 2, 0, 0), 'test_end': datetime.datetime(2024, 2, 8, 0, 0), 'duration_training_history': 240, 'target_column': 'growth', 'train_features': ['close_lag_1', 'year', 'month', 'day', 'day_of_week', 'week_of_year'], 'path_to_result': '/diploma_info/datalake/', 'forecast_periods': 4, 'model_name': 'xgboost', 'model': XGBClassifier(base_score=None, booster='gbtree', callbacks=None,\n",
      "              colsample_bylevel=None, colsample_bynode=None, colsample_bytree=1,\n",
      "              device=None, early_stopping_rounds=None, enable_categorical=False,\n",
      "              eta=0.3, eval_metric='rmse', feature_types=None, gamma=None,\n",
      "              grow_policy=None, importance_type=None,\n",
      "              interaction_constraints=None, learning_rate=None, max_bin=None,\n",
      "              max_cat_threshold=None, max_cat_to_onehot=None,\n",
      "              max_delta_step=None, max_depth=9, max_leaves=None,\n",
      "              min_child_weight=1, missing=nan, monotone_constraints=None,\n",
      "              multi_strategy=None, n_estimators=10, n_jobs=-1,\n",
      "              num_parallel_tree=None, ...), 'forecast_frequency': 'daily', 'company': 'google', 'model_hyperparameters': {'n_estimators': 10, 'n_jobs': -1, 'max_depth': 9, 'eta': 0.3, 'booster': 'gbtree', 'objective': 'reg:squarederror', 'eval_metric': 'rmse', 'subsample': 1, 'colsample_bytree': 1, 'min_child_weight': 1, 'random_state': 2}, 'problem': 'classification'} \n",
      "\n",
      "(4917, 6) (4917, 1)\n",
      "xgboost\n"
     ]
    },
    {
     "name": "stderr",
     "output_type": "stream",
     "text": [
      "100%|██████████████████████████████████████████████████████████████████████████████████| 38/38 [00:01<00:00, 31.44it/s]\n"
     ]
    },
    {
     "name": "stdout",
     "output_type": "stream",
     "text": [
      "xgboost == {'unique_uuid': '22b34147-fbf9-11ee-b441-c0e434d84b22', 'train_end': datetime.datetime(2023, 12, 29, 0, 0), 'test_start': datetime.datetime(2024, 1, 2, 0, 0), 'test_end': datetime.datetime(2024, 2, 8, 0, 0), 'duration_training_history': 240, 'target_column': 'growth', 'train_features': ['close_lag_1', 'volume_lag_1'], 'path_to_result': '/diploma_info/datalake/', 'forecast_periods': 4, 'model_name': 'xgboost', 'model': XGBClassifier(base_score=None, booster='gbtree', callbacks=None,\n",
      "              colsample_bylevel=None, colsample_bynode=None, colsample_bytree=1,\n",
      "              device=None, early_stopping_rounds=None, enable_categorical=False,\n",
      "              eta=0.3, eval_metric='rmse', feature_types=None, gamma=None,\n",
      "              grow_policy=None, importance_type=None,\n",
      "              interaction_constraints=None, learning_rate=None, max_bin=None,\n",
      "              max_cat_threshold=None, max_cat_to_onehot=None,\n",
      "              max_delta_step=None, max_depth=9, max_leaves=None,\n",
      "              min_child_weight=1, missing=nan, monotone_constraints=None,\n",
      "              multi_strategy=None, n_estimators=200, n_jobs=-1,\n",
      "              num_parallel_tree=None, ...), 'forecast_frequency': 'daily', 'company': 'google', 'model_hyperparameters': {'n_estimators': 200, 'n_jobs': -1, 'max_depth': 9, 'eta': 0.3, 'booster': 'gbtree', 'objective': 'reg:squarederror', 'eval_metric': 'rmse', 'subsample': 1, 'colsample_bytree': 1, 'min_child_weight': 1, 'random_state': 2}, 'problem': 'classification'} \n",
      "\n",
      "(4917, 2) (4917, 1)\n",
      "xgboost\n"
     ]
    },
    {
     "name": "stderr",
     "output_type": "stream",
     "text": [
      "100%|██████████████████████████████████████████████████████████████████████████████████| 38/38 [00:03<00:00, 10.33it/s]\n"
     ]
    },
    {
     "name": "stdout",
     "output_type": "stream",
     "text": [
      "xgboost == {'unique_uuid': '22b34148-fbf9-11ee-bd69-c0e434d84b22', 'train_end': datetime.datetime(2023, 12, 29, 0, 0), 'test_start': datetime.datetime(2024, 1, 2, 0, 0), 'test_end': datetime.datetime(2024, 2, 8, 0, 0), 'duration_training_history': 240, 'target_column': 'growth', 'train_features': ['close_lag_1', 'year', 'month', 'day', 'day_of_week', 'week_of_year'], 'path_to_result': '/diploma_info/datalake/', 'forecast_periods': 4, 'model_name': 'xgboost', 'model': XGBClassifier(base_score=None, booster='gbtree', callbacks=None,\n",
      "              colsample_bylevel=None, colsample_bynode=None, colsample_bytree=1,\n",
      "              device=None, early_stopping_rounds=None, enable_categorical=False,\n",
      "              eta=0.3, eval_metric='rmse', feature_types=None, gamma=None,\n",
      "              grow_policy=None, importance_type=None,\n",
      "              interaction_constraints=None, learning_rate=None, max_bin=None,\n",
      "              max_cat_threshold=None, max_cat_to_onehot=None,\n",
      "              max_delta_step=None, max_depth=9, max_leaves=None,\n",
      "              min_child_weight=1, missing=nan, monotone_constraints=None,\n",
      "              multi_strategy=None, n_estimators=200, n_jobs=-1,\n",
      "              num_parallel_tree=None, ...), 'forecast_frequency': 'daily', 'company': 'google', 'model_hyperparameters': {'n_estimators': 200, 'n_jobs': -1, 'max_depth': 9, 'eta': 0.3, 'booster': 'gbtree', 'objective': 'reg:squarederror', 'eval_metric': 'rmse', 'subsample': 1, 'colsample_bytree': 1, 'min_child_weight': 1, 'random_state': 2}, 'problem': 'classification'} \n",
      "\n",
      "(4917, 6) (4917, 1)\n",
      "xgboost\n"
     ]
    },
    {
     "name": "stderr",
     "output_type": "stream",
     "text": [
      "100%|██████████████████████████████████████████████████████████████████████████████████| 38/38 [00:03<00:00, 11.59it/s]\n"
     ]
    },
    {
     "name": "stdout",
     "output_type": "stream",
     "text": [
      "lightgbm == {'unique_uuid': '22b34149-fbf9-11ee-b915-c0e434d84b22', 'train_end': datetime.datetime(2023, 12, 29, 0, 0), 'test_start': datetime.datetime(2024, 1, 2, 0, 0), 'test_end': datetime.datetime(2024, 2, 8, 0, 0), 'duration_training_history': 240, 'target_column': 'growth', 'train_features': ['close_lag_1', 'volume_lag_1'], 'path_to_result': '/diploma_info/datalake/', 'forecast_periods': 4, 'model_name': 'lightgbm', 'model': LGBMClassifier(eta=0.3, max_depth=7, metric='binary', n_estimators=10,\n",
      "               n_jobs=-1, objective='binary', random_state=2, verbosity=-1), 'forecast_frequency': 'daily', 'company': 'google', 'model_hyperparameters': {'n_estimators': 10, 'n_jobs': -1, 'max_depth': 7, 'eta': 0.3, 'random_state': 2, 'objective': 'binary', 'verbosity': -1, 'metric': 'binary'}, 'problem': 'classification'} \n",
      "\n",
      "(4917, 2) (4917, 1)\n",
      "lightgbm\n"
     ]
    },
    {
     "name": "stderr",
     "output_type": "stream",
     "text": [
      "100%|██████████████████████████████████████████████████████████████████████████████████| 38/38 [00:00<00:00, 51.06it/s]\n"
     ]
    },
    {
     "name": "stdout",
     "output_type": "stream",
     "text": [
      "lightgbm == {'unique_uuid': '22b3414a-fbf9-11ee-9644-c0e434d84b22', 'train_end': datetime.datetime(2023, 12, 29, 0, 0), 'test_start': datetime.datetime(2024, 1, 2, 0, 0), 'test_end': datetime.datetime(2024, 2, 8, 0, 0), 'duration_training_history': 240, 'target_column': 'growth', 'train_features': ['close_lag_1', 'year', 'month', 'day', 'day_of_week', 'week_of_year'], 'path_to_result': '/diploma_info/datalake/', 'forecast_periods': 4, 'model_name': 'lightgbm', 'model': LGBMClassifier(eta=0.3, max_depth=7, metric='binary', n_estimators=10,\n",
      "               n_jobs=-1, objective='binary', random_state=2, verbosity=-1), 'forecast_frequency': 'daily', 'company': 'google', 'model_hyperparameters': {'n_estimators': 10, 'n_jobs': -1, 'max_depth': 7, 'eta': 0.3, 'random_state': 2, 'objective': 'binary', 'verbosity': -1, 'metric': 'binary'}, 'problem': 'classification'} \n",
      "\n",
      "(4917, 6) (4917, 1)\n",
      "lightgbm\n"
     ]
    },
    {
     "name": "stderr",
     "output_type": "stream",
     "text": [
      "100%|██████████████████████████████████████████████████████████████████████████████████| 38/38 [00:00<00:00, 52.50it/s]\n"
     ]
    },
    {
     "name": "stdout",
     "output_type": "stream",
     "text": [
      "lightgbm == {'unique_uuid': '22b3414b-fbf9-11ee-a07f-c0e434d84b22', 'train_end': datetime.datetime(2023, 12, 29, 0, 0), 'test_start': datetime.datetime(2024, 1, 2, 0, 0), 'test_end': datetime.datetime(2024, 2, 8, 0, 0), 'duration_training_history': 240, 'target_column': 'growth', 'train_features': ['close_lag_1', 'volume_lag_1'], 'path_to_result': '/diploma_info/datalake/', 'forecast_periods': 4, 'model_name': 'lightgbm', 'model': LGBMClassifier(eta=0.3, max_depth=9, metric='binary', n_estimators=10,\n",
      "               n_jobs=-1, objective='binary', random_state=2, verbosity=-1), 'forecast_frequency': 'daily', 'company': 'google', 'model_hyperparameters': {'n_estimators': 10, 'n_jobs': -1, 'max_depth': 9, 'eta': 0.3, 'random_state': 2, 'objective': 'binary', 'verbosity': -1, 'metric': 'binary'}, 'problem': 'classification'} \n",
      "\n",
      "(4917, 2) (4917, 1)\n",
      "lightgbm\n"
     ]
    },
    {
     "name": "stderr",
     "output_type": "stream",
     "text": [
      "100%|██████████████████████████████████████████████████████████████████████████████████| 38/38 [00:00<00:00, 51.67it/s]\n"
     ]
    },
    {
     "name": "stdout",
     "output_type": "stream",
     "text": [
      "lightgbm == {'unique_uuid': '22b3414c-fbf9-11ee-a43e-c0e434d84b22', 'train_end': datetime.datetime(2023, 12, 29, 0, 0), 'test_start': datetime.datetime(2024, 1, 2, 0, 0), 'test_end': datetime.datetime(2024, 2, 8, 0, 0), 'duration_training_history': 240, 'target_column': 'growth', 'train_features': ['close_lag_1', 'year', 'month', 'day', 'day_of_week', 'week_of_year'], 'path_to_result': '/diploma_info/datalake/', 'forecast_periods': 4, 'model_name': 'lightgbm', 'model': LGBMClassifier(eta=0.3, max_depth=9, metric='binary', n_estimators=10,\n",
      "               n_jobs=-1, objective='binary', random_state=2, verbosity=-1), 'forecast_frequency': 'daily', 'company': 'google', 'model_hyperparameters': {'n_estimators': 10, 'n_jobs': -1, 'max_depth': 9, 'eta': 0.3, 'random_state': 2, 'objective': 'binary', 'verbosity': -1, 'metric': 'binary'}, 'problem': 'classification'} \n",
      "\n",
      "(4917, 6) (4917, 1)\n",
      "lightgbm\n"
     ]
    },
    {
     "name": "stderr",
     "output_type": "stream",
     "text": [
      "100%|██████████████████████████████████████████████████████████████████████████████████| 38/38 [00:00<00:00, 52.65it/s]\n"
     ]
    },
    {
     "name": "stdout",
     "output_type": "stream",
     "text": [
      "random_forest == {'unique_uuid': '22b3414d-fbf9-11ee-aed4-c0e434d84b22', 'train_end': datetime.datetime(2023, 12, 29, 0, 0), 'test_start': datetime.datetime(2024, 1, 2, 0, 0), 'test_end': datetime.datetime(2024, 2, 8, 0, 0), 'duration_training_history': 240, 'target_column': 'growth', 'train_features': ['close_lag_1', 'volume_lag_1'], 'path_to_result': '/diploma_info/datalake/', 'forecast_periods': 4, 'model_name': 'random_forest', 'model': RandomForestClassifier(max_depth=9, n_estimators=10, n_jobs=-1, random_state=2), 'forecast_frequency': 'daily', 'company': 'google', 'model_hyperparameters': {'n_estimators': 10, 'n_jobs': -1, 'random_state': 2, 'max_depth': 9}, 'problem': 'classification'} \n",
      "\n",
      "(4917, 2) (4917, 1)\n",
      "random_forest\n"
     ]
    },
    {
     "name": "stderr",
     "output_type": "stream",
     "text": [
      "100%|██████████████████████████████████████████████████████████████████████████████████| 38/38 [00:02<00:00, 17.16it/s]\n"
     ]
    },
    {
     "name": "stdout",
     "output_type": "stream",
     "text": [
      "random_forest == {'unique_uuid': '22b3414e-fbf9-11ee-bb00-c0e434d84b22', 'train_end': datetime.datetime(2023, 12, 29, 0, 0), 'test_start': datetime.datetime(2024, 1, 2, 0, 0), 'test_end': datetime.datetime(2024, 2, 8, 0, 0), 'duration_training_history': 240, 'target_column': 'growth', 'train_features': ['close_lag_1', 'year', 'month', 'day', 'day_of_week', 'week_of_year'], 'path_to_result': '/diploma_info/datalake/', 'forecast_periods': 4, 'model_name': 'random_forest', 'model': RandomForestClassifier(max_depth=9, n_estimators=10, n_jobs=-1, random_state=2), 'forecast_frequency': 'daily', 'company': 'google', 'model_hyperparameters': {'n_estimators': 10, 'n_jobs': -1, 'random_state': 2, 'max_depth': 9}, 'problem': 'classification'} \n",
      "\n",
      "(4917, 6) (4917, 1)\n",
      "random_forest\n"
     ]
    },
    {
     "name": "stderr",
     "output_type": "stream",
     "text": [
      "100%|██████████████████████████████████████████████████████████████████████████████████| 38/38 [00:02<00:00, 17.21it/s]\n"
     ]
    },
    {
     "name": "stdout",
     "output_type": "stream",
     "text": [
      "random_forest == {'unique_uuid': '22b3414f-fbf9-11ee-aa42-c0e434d84b22', 'train_end': datetime.datetime(2023, 12, 29, 0, 0), 'test_start': datetime.datetime(2024, 1, 2, 0, 0), 'test_end': datetime.datetime(2024, 2, 8, 0, 0), 'duration_training_history': 240, 'target_column': 'growth', 'train_features': ['close_lag_1', 'volume_lag_1'], 'path_to_result': '/diploma_info/datalake/', 'forecast_periods': 4, 'model_name': 'random_forest', 'model': RandomForestClassifier(max_depth=9, n_estimators=200, n_jobs=-1, random_state=2), 'forecast_frequency': 'daily', 'company': 'google', 'model_hyperparameters': {'n_estimators': 200, 'n_jobs': -1, 'random_state': 2, 'max_depth': 9}, 'problem': 'classification'} \n",
      "\n",
      "(4917, 2) (4917, 1)\n",
      "random_forest\n"
     ]
    },
    {
     "name": "stderr",
     "output_type": "stream",
     "text": [
      "100%|██████████████████████████████████████████████████████████████████████████████████| 38/38 [00:14<00:00,  2.71it/s]\n"
     ]
    },
    {
     "name": "stdout",
     "output_type": "stream",
     "text": [
      "random_forest == {'unique_uuid': '22b34150-fbf9-11ee-8d61-c0e434d84b22', 'train_end': datetime.datetime(2023, 12, 29, 0, 0), 'test_start': datetime.datetime(2024, 1, 2, 0, 0), 'test_end': datetime.datetime(2024, 2, 8, 0, 0), 'duration_training_history': 240, 'target_column': 'growth', 'train_features': ['close_lag_1', 'year', 'month', 'day', 'day_of_week', 'week_of_year'], 'path_to_result': '/diploma_info/datalake/', 'forecast_periods': 4, 'model_name': 'random_forest', 'model': RandomForestClassifier(max_depth=9, n_estimators=200, n_jobs=-1, random_state=2), 'forecast_frequency': 'daily', 'company': 'google', 'model_hyperparameters': {'n_estimators': 200, 'n_jobs': -1, 'random_state': 2, 'max_depth': 9}, 'problem': 'classification'} \n",
      "\n",
      "(4917, 6) (4917, 1)\n",
      "random_forest\n"
     ]
    },
    {
     "name": "stderr",
     "output_type": "stream",
     "text": [
      "100%|██████████████████████████████████████████████████████████████████████████████████| 38/38 [00:14<00:00,  2.70it/s]\n"
     ]
    },
    {
     "name": "stdout",
     "output_type": "stream",
     "text": [
      "knear_neighbors == {'unique_uuid': '22b34151-fbf9-11ee-b3d5-c0e434d84b22', 'train_end': datetime.datetime(2023, 12, 29, 0, 0), 'test_start': datetime.datetime(2024, 1, 2, 0, 0), 'test_end': datetime.datetime(2024, 2, 8, 0, 0), 'duration_training_history': 240, 'target_column': 'growth', 'train_features': ['close_lag_1', 'volume_lag_1'], 'path_to_result': '/diploma_info/datalake/', 'forecast_periods': 4, 'model_name': 'knear_neighbors', 'model': KNeighborsClassifier(n_jobs=-1, n_neighbors=3), 'forecast_frequency': 'daily', 'company': 'google', 'model_hyperparameters': {'n_neighbors': 3, 'n_jobs': -1}, 'problem': 'classification'} \n",
      "\n",
      "(4917, 2) (4917, 1)\n",
      "knear_neighbors\n"
     ]
    },
    {
     "name": "stderr",
     "output_type": "stream",
     "text": [
      "100%|██████████████████████████████████████████████████████████████████████████████████| 38/38 [00:01<00:00, 34.08it/s]\n"
     ]
    },
    {
     "name": "stdout",
     "output_type": "stream",
     "text": [
      "knear_neighbors == {'unique_uuid': '22b34152-fbf9-11ee-817b-c0e434d84b22', 'train_end': datetime.datetime(2023, 12, 29, 0, 0), 'test_start': datetime.datetime(2024, 1, 2, 0, 0), 'test_end': datetime.datetime(2024, 2, 8, 0, 0), 'duration_training_history': 240, 'target_column': 'growth', 'train_features': ['close_lag_1', 'year', 'month', 'day', 'day_of_week', 'week_of_year'], 'path_to_result': '/diploma_info/datalake/', 'forecast_periods': 4, 'model_name': 'knear_neighbors', 'model': KNeighborsClassifier(n_jobs=-1, n_neighbors=3), 'forecast_frequency': 'daily', 'company': 'google', 'model_hyperparameters': {'n_neighbors': 3, 'n_jobs': -1}, 'problem': 'classification'} \n",
      "\n",
      "(4917, 6) (4917, 1)\n",
      "knear_neighbors\n"
     ]
    },
    {
     "name": "stderr",
     "output_type": "stream",
     "text": [
      "100%|██████████████████████████████████████████████████████████████████████████████████| 38/38 [00:01<00:00, 34.87it/s]\n"
     ]
    },
    {
     "name": "stdout",
     "output_type": "stream",
     "text": [
      "knear_neighbors == {'unique_uuid': '22b34153-fbf9-11ee-9611-c0e434d84b22', 'train_end': datetime.datetime(2023, 12, 29, 0, 0), 'test_start': datetime.datetime(2024, 1, 2, 0, 0), 'test_end': datetime.datetime(2024, 2, 8, 0, 0), 'duration_training_history': 240, 'target_column': 'growth', 'train_features': ['close_lag_1', 'volume_lag_1'], 'path_to_result': '/diploma_info/datalake/', 'forecast_periods': 4, 'model_name': 'knear_neighbors', 'model': KNeighborsClassifier(n_jobs=-1), 'forecast_frequency': 'daily', 'company': 'google', 'model_hyperparameters': {'n_neighbors': 5, 'n_jobs': -1}, 'problem': 'classification'} \n",
      "\n",
      "(4917, 2) (4917, 1)\n",
      "knear_neighbors\n"
     ]
    },
    {
     "name": "stderr",
     "output_type": "stream",
     "text": [
      "100%|██████████████████████████████████████████████████████████████████████████████████| 38/38 [00:01<00:00, 33.76it/s]\n"
     ]
    },
    {
     "name": "stdout",
     "output_type": "stream",
     "text": [
      "knear_neighbors == {'unique_uuid': '22b34154-fbf9-11ee-939b-c0e434d84b22', 'train_end': datetime.datetime(2023, 12, 29, 0, 0), 'test_start': datetime.datetime(2024, 1, 2, 0, 0), 'test_end': datetime.datetime(2024, 2, 8, 0, 0), 'duration_training_history': 240, 'target_column': 'growth', 'train_features': ['close_lag_1', 'year', 'month', 'day', 'day_of_week', 'week_of_year'], 'path_to_result': '/diploma_info/datalake/', 'forecast_periods': 4, 'model_name': 'knear_neighbors', 'model': KNeighborsClassifier(n_jobs=-1), 'forecast_frequency': 'daily', 'company': 'google', 'model_hyperparameters': {'n_neighbors': 5, 'n_jobs': -1}, 'problem': 'classification'} \n",
      "\n",
      "(4917, 6) (4917, 1)\n",
      "knear_neighbors\n"
     ]
    },
    {
     "name": "stderr",
     "output_type": "stream",
     "text": [
      "100%|██████████████████████████████████████████████████████████████████████████████████| 38/38 [00:01<00:00, 32.77it/s]\n"
     ]
    },
    {
     "name": "stdout",
     "output_type": "stream",
     "text": [
      "company: META\t period: daily\t train ends: 2023-12-29 00:00:00\t test starts: 2024-01-02 00:00:00\n",
      "_research_task_uuid = acb0bb45-fbf9-11ee-86f4-c0e434d84b22\n",
      "\n",
      "count_configs 60 \n",
      "\n",
      "xgboost == {'unique_uuid': 'acb0bb46-fbf9-11ee-a366-c0e434d84b22', 'train_end': datetime.datetime(2023, 12, 29, 0, 0), 'test_start': datetime.datetime(2024, 1, 2, 0, 0), 'test_end': datetime.datetime(2024, 2, 8, 0, 0), 'duration_training_history': 90, 'target_column': 'growth', 'train_features': ['close_lag_1', 'volume_lag_1'], 'path_to_result': '/diploma_info/datalake/', 'forecast_periods': 4, 'model_name': 'xgboost', 'model': XGBClassifier(base_score=None, booster='gbtree', callbacks=None,\n",
      "              colsample_bylevel=None, colsample_bynode=None, colsample_bytree=1,\n",
      "              device=None, early_stopping_rounds=None, enable_categorical=False,\n",
      "              eta=0.3, eval_metric='rmse', feature_types=None, gamma=None,\n",
      "              grow_policy=None, importance_type=None,\n",
      "              interaction_constraints=None, learning_rate=None, max_bin=None,\n",
      "              max_cat_threshold=None, max_cat_to_onehot=None,\n",
      "              max_delta_step=None, max_depth=7, max_leaves=None,\n",
      "              min_child_weight=1, missing=nan, monotone_constraints=None,\n",
      "              multi_strategy=None, n_estimators=5000, n_jobs=-1,\n",
      "              num_parallel_tree=None, ...), 'forecast_frequency': 'daily', 'company': 'meta', 'model_hyperparameters': {'n_estimators': 5000, 'n_jobs': -1, 'max_depth': 7, 'eta': 0.3, 'booster': 'gbtree', 'objective': 'reg:squarederror', 'eval_metric': 'rmse', 'subsample': 1, 'colsample_bytree': 1, 'min_child_weight': 1, 'random_state': 2}, 'problem': 'classification'} \n",
      "\n",
      "(2965, 2) (2965, 1)\n",
      "xgboost\n"
     ]
    },
    {
     "name": "stderr",
     "output_type": "stream",
     "text": [
      "100%|██████████████████████████████████████████████████████████████████████████████████| 38/38 [00:32<00:00,  1.17it/s]\n"
     ]
    },
    {
     "name": "stdout",
     "output_type": "stream",
     "text": [
      "xgboost == {'unique_uuid': 'acb0bb47-fbf9-11ee-a952-c0e434d84b22', 'train_end': datetime.datetime(2023, 12, 29, 0, 0), 'test_start': datetime.datetime(2024, 1, 2, 0, 0), 'test_end': datetime.datetime(2024, 2, 8, 0, 0), 'duration_training_history': 90, 'target_column': 'growth', 'train_features': ['close_lag_1', 'close_max_3_days', 'close_min_3_days', 'close_mean_3_days'], 'path_to_result': '/diploma_info/datalake/', 'forecast_periods': 4, 'model_name': 'xgboost', 'model': XGBClassifier(base_score=None, booster='gbtree', callbacks=None,\n",
      "              colsample_bylevel=None, colsample_bynode=None, colsample_bytree=1,\n",
      "              device=None, early_stopping_rounds=None, enable_categorical=False,\n",
      "              eta=0.3, eval_metric='rmse', feature_types=None, gamma=None,\n",
      "              grow_policy=None, importance_type=None,\n",
      "              interaction_constraints=None, learning_rate=None, max_bin=None,\n",
      "              max_cat_threshold=None, max_cat_to_onehot=None,\n",
      "              max_delta_step=None, max_depth=7, max_leaves=None,\n",
      "              min_child_weight=1, missing=nan, monotone_constraints=None,\n",
      "              multi_strategy=None, n_estimators=5000, n_jobs=-1,\n",
      "              num_parallel_tree=None, ...), 'forecast_frequency': 'daily', 'company': 'meta', 'model_hyperparameters': {'n_estimators': 5000, 'n_jobs': -1, 'max_depth': 7, 'eta': 0.3, 'booster': 'gbtree', 'objective': 'reg:squarederror', 'eval_metric': 'rmse', 'subsample': 1, 'colsample_bytree': 1, 'min_child_weight': 1, 'random_state': 2}, 'problem': 'classification'} \n",
      "\n",
      "(2965, 4) (2965, 1)\n",
      "xgboost\n"
     ]
    },
    {
     "name": "stderr",
     "output_type": "stream",
     "text": [
      "100%|██████████████████████████████████████████████████████████████████████████████████| 38/38 [00:35<00:00,  1.06it/s]\n"
     ]
    },
    {
     "name": "stdout",
     "output_type": "stream",
     "text": [
      "xgboost == {'unique_uuid': 'acb0bb48-fbf9-11ee-9885-c0e434d84b22', 'train_end': datetime.datetime(2023, 12, 29, 0, 0), 'test_start': datetime.datetime(2024, 1, 2, 0, 0), 'test_end': datetime.datetime(2024, 2, 8, 0, 0), 'duration_training_history': 90, 'target_column': 'growth', 'train_features': ['close_lag_1', 'year', 'month', 'day', 'day_of_week', 'week_of_year'], 'path_to_result': '/diploma_info/datalake/', 'forecast_periods': 4, 'model_name': 'xgboost', 'model': XGBClassifier(base_score=None, booster='gbtree', callbacks=None,\n",
      "              colsample_bylevel=None, colsample_bynode=None, colsample_bytree=1,\n",
      "              device=None, early_stopping_rounds=None, enable_categorical=False,\n",
      "              eta=0.3, eval_metric='rmse', feature_types=None, gamma=None,\n",
      "              grow_policy=None, importance_type=None,\n",
      "              interaction_constraints=None, learning_rate=None, max_bin=None,\n",
      "              max_cat_threshold=None, max_cat_to_onehot=None,\n",
      "              max_delta_step=None, max_depth=7, max_leaves=None,\n",
      "              min_child_weight=1, missing=nan, monotone_constraints=None,\n",
      "              multi_strategy=None, n_estimators=5000, n_jobs=-1,\n",
      "              num_parallel_tree=None, ...), 'forecast_frequency': 'daily', 'company': 'meta', 'model_hyperparameters': {'n_estimators': 5000, 'n_jobs': -1, 'max_depth': 7, 'eta': 0.3, 'booster': 'gbtree', 'objective': 'reg:squarederror', 'eval_metric': 'rmse', 'subsample': 1, 'colsample_bytree': 1, 'min_child_weight': 1, 'random_state': 2}, 'problem': 'classification'} \n",
      "\n",
      "(2965, 6) (2965, 1)\n",
      "xgboost\n"
     ]
    },
    {
     "name": "stderr",
     "output_type": "stream",
     "text": [
      "100%|██████████████████████████████████████████████████████████████████████████████████| 38/38 [00:37<00:00,  1.02it/s]\n"
     ]
    },
    {
     "name": "stdout",
     "output_type": "stream",
     "text": [
      "lightgbm == {'unique_uuid': 'acb0bb49-fbf9-11ee-8930-c0e434d84b22', 'train_end': datetime.datetime(2023, 12, 29, 0, 0), 'test_start': datetime.datetime(2024, 1, 2, 0, 0), 'test_end': datetime.datetime(2024, 2, 8, 0, 0), 'duration_training_history': 90, 'target_column': 'growth', 'train_features': ['close_lag_1', 'volume_lag_1'], 'path_to_result': '/diploma_info/datalake/', 'forecast_periods': 4, 'model_name': 'lightgbm', 'model': LGBMClassifier(eta=0.3, max_depth=7, metric='binary', n_estimators=5000,\n",
      "               n_jobs=-1, objective='binary', random_state=2, verbosity=-1), 'forecast_frequency': 'daily', 'company': 'meta', 'model_hyperparameters': {'n_estimators': 5000, 'n_jobs': -1, 'max_depth': 7, 'eta': 0.3, 'random_state': 2, 'objective': 'binary', 'verbosity': -1, 'metric': 'binary'}, 'problem': 'classification'} \n",
      "\n",
      "(2965, 2) (2965, 1)\n",
      "lightgbm\n"
     ]
    },
    {
     "name": "stderr",
     "output_type": "stream",
     "text": [
      "100%|██████████████████████████████████████████████████████████████████████████████████| 38/38 [00:14<00:00,  2.62it/s]\n"
     ]
    },
    {
     "name": "stdout",
     "output_type": "stream",
     "text": [
      "lightgbm == {'unique_uuid': 'acb0bb4a-fbf9-11ee-9a47-c0e434d84b22', 'train_end': datetime.datetime(2023, 12, 29, 0, 0), 'test_start': datetime.datetime(2024, 1, 2, 0, 0), 'test_end': datetime.datetime(2024, 2, 8, 0, 0), 'duration_training_history': 90, 'target_column': 'growth', 'train_features': ['close_lag_1', 'close_max_3_days', 'close_min_3_days', 'close_mean_3_days'], 'path_to_result': '/diploma_info/datalake/', 'forecast_periods': 4, 'model_name': 'lightgbm', 'model': LGBMClassifier(eta=0.3, max_depth=7, metric='binary', n_estimators=5000,\n",
      "               n_jobs=-1, objective='binary', random_state=2, verbosity=-1), 'forecast_frequency': 'daily', 'company': 'meta', 'model_hyperparameters': {'n_estimators': 5000, 'n_jobs': -1, 'max_depth': 7, 'eta': 0.3, 'random_state': 2, 'objective': 'binary', 'verbosity': -1, 'metric': 'binary'}, 'problem': 'classification'} \n",
      "\n",
      "(2965, 4) (2965, 1)\n",
      "lightgbm\n"
     ]
    },
    {
     "name": "stderr",
     "output_type": "stream",
     "text": [
      "100%|██████████████████████████████████████████████████████████████████████████████████| 38/38 [00:15<00:00,  2.50it/s]\n"
     ]
    },
    {
     "name": "stdout",
     "output_type": "stream",
     "text": [
      "lightgbm == {'unique_uuid': 'acb0bb4b-fbf9-11ee-8363-c0e434d84b22', 'train_end': datetime.datetime(2023, 12, 29, 0, 0), 'test_start': datetime.datetime(2024, 1, 2, 0, 0), 'test_end': datetime.datetime(2024, 2, 8, 0, 0), 'duration_training_history': 90, 'target_column': 'growth', 'train_features': ['close_lag_1', 'year', 'month', 'day', 'day_of_week', 'week_of_year'], 'path_to_result': '/diploma_info/datalake/', 'forecast_periods': 4, 'model_name': 'lightgbm', 'model': LGBMClassifier(eta=0.3, max_depth=7, metric='binary', n_estimators=5000,\n",
      "               n_jobs=-1, objective='binary', random_state=2, verbosity=-1), 'forecast_frequency': 'daily', 'company': 'meta', 'model_hyperparameters': {'n_estimators': 5000, 'n_jobs': -1, 'max_depth': 7, 'eta': 0.3, 'random_state': 2, 'objective': 'binary', 'verbosity': -1, 'metric': 'binary'}, 'problem': 'classification'} \n",
      "\n",
      "(2965, 6) (2965, 1)\n",
      "lightgbm\n"
     ]
    },
    {
     "name": "stderr",
     "output_type": "stream",
     "text": [
      "100%|██████████████████████████████████████████████████████████████████████████████████| 38/38 [00:16<00:00,  2.36it/s]\n"
     ]
    },
    {
     "name": "stdout",
     "output_type": "stream",
     "text": [
      "lightgbm == {'unique_uuid': 'acb0bb4c-fbf9-11ee-ab60-c0e434d84b22', 'train_end': datetime.datetime(2023, 12, 29, 0, 0), 'test_start': datetime.datetime(2024, 1, 2, 0, 0), 'test_end': datetime.datetime(2024, 2, 8, 0, 0), 'duration_training_history': 90, 'target_column': 'growth', 'train_features': ['close_lag_1', 'volume_lag_1'], 'path_to_result': '/diploma_info/datalake/', 'forecast_periods': 4, 'model_name': 'lightgbm', 'model': LGBMClassifier(eta=0.3, max_depth=9, metric='binary', n_estimators=5000,\n",
      "               n_jobs=-1, objective='binary', random_state=2, verbosity=-1), 'forecast_frequency': 'daily', 'company': 'meta', 'model_hyperparameters': {'n_estimators': 5000, 'n_jobs': -1, 'max_depth': 9, 'eta': 0.3, 'random_state': 2, 'objective': 'binary', 'verbosity': -1, 'metric': 'binary'}, 'problem': 'classification'} \n",
      "\n",
      "(2965, 2) (2965, 1)\n",
      "lightgbm\n"
     ]
    },
    {
     "name": "stderr",
     "output_type": "stream",
     "text": [
      "100%|██████████████████████████████████████████████████████████████████████████████████| 38/38 [00:15<00:00,  2.48it/s]\n"
     ]
    },
    {
     "name": "stdout",
     "output_type": "stream",
     "text": [
      "lightgbm == {'unique_uuid': 'acb0bb4d-fbf9-11ee-bd48-c0e434d84b22', 'train_end': datetime.datetime(2023, 12, 29, 0, 0), 'test_start': datetime.datetime(2024, 1, 2, 0, 0), 'test_end': datetime.datetime(2024, 2, 8, 0, 0), 'duration_training_history': 90, 'target_column': 'growth', 'train_features': ['close_lag_1', 'close_max_3_days', 'close_min_3_days', 'close_mean_3_days'], 'path_to_result': '/diploma_info/datalake/', 'forecast_periods': 4, 'model_name': 'lightgbm', 'model': LGBMClassifier(eta=0.3, max_depth=9, metric='binary', n_estimators=5000,\n",
      "               n_jobs=-1, objective='binary', random_state=2, verbosity=-1), 'forecast_frequency': 'daily', 'company': 'meta', 'model_hyperparameters': {'n_estimators': 5000, 'n_jobs': -1, 'max_depth': 9, 'eta': 0.3, 'random_state': 2, 'objective': 'binary', 'verbosity': -1, 'metric': 'binary'}, 'problem': 'classification'} \n",
      "\n",
      "(2965, 4) (2965, 1)\n",
      "lightgbm\n"
     ]
    },
    {
     "name": "stderr",
     "output_type": "stream",
     "text": [
      "100%|██████████████████████████████████████████████████████████████████████████████████| 38/38 [00:14<00:00,  2.63it/s]\n"
     ]
    },
    {
     "name": "stdout",
     "output_type": "stream",
     "text": [
      "lightgbm == {'unique_uuid': 'acb0bb4e-fbf9-11ee-80f0-c0e434d84b22', 'train_end': datetime.datetime(2023, 12, 29, 0, 0), 'test_start': datetime.datetime(2024, 1, 2, 0, 0), 'test_end': datetime.datetime(2024, 2, 8, 0, 0), 'duration_training_history': 90, 'target_column': 'growth', 'train_features': ['close_lag_1', 'year', 'month', 'day', 'day_of_week', 'week_of_year'], 'path_to_result': '/diploma_info/datalake/', 'forecast_periods': 4, 'model_name': 'lightgbm', 'model': LGBMClassifier(eta=0.3, max_depth=9, metric='binary', n_estimators=5000,\n",
      "               n_jobs=-1, objective='binary', random_state=2, verbosity=-1), 'forecast_frequency': 'daily', 'company': 'meta', 'model_hyperparameters': {'n_estimators': 5000, 'n_jobs': -1, 'max_depth': 9, 'eta': 0.3, 'random_state': 2, 'objective': 'binary', 'verbosity': -1, 'metric': 'binary'}, 'problem': 'classification'} \n",
      "\n",
      "(2965, 6) (2965, 1)\n",
      "lightgbm\n"
     ]
    },
    {
     "name": "stderr",
     "output_type": "stream",
     "text": [
      "100%|██████████████████████████████████████████████████████████████████████████████████| 38/38 [00:13<00:00,  2.76it/s]\n"
     ]
    },
    {
     "name": "stdout",
     "output_type": "stream",
     "text": [
      "random_forest == {'unique_uuid': 'acb0bb4f-fbf9-11ee-b22b-c0e434d84b22', 'train_end': datetime.datetime(2023, 12, 29, 0, 0), 'test_start': datetime.datetime(2024, 1, 2, 0, 0), 'test_end': datetime.datetime(2024, 2, 8, 0, 0), 'duration_training_history': 90, 'target_column': 'growth', 'train_features': ['close_lag_1', 'volume_lag_1'], 'path_to_result': '/diploma_info/datalake/', 'forecast_periods': 4, 'model_name': 'random_forest', 'model': RandomForestClassifier(max_depth=9, n_estimators=10, n_jobs=-1, random_state=2), 'forecast_frequency': 'daily', 'company': 'meta', 'model_hyperparameters': {'n_estimators': 10, 'n_jobs': -1, 'random_state': 2, 'max_depth': 9}, 'problem': 'classification'} \n",
      "\n",
      "(2965, 2) (2965, 1)\n",
      "random_forest\n"
     ]
    },
    {
     "name": "stderr",
     "output_type": "stream",
     "text": [
      "100%|██████████████████████████████████████████████████████████████████████████████████| 38/38 [00:02<00:00, 16.69it/s]\n"
     ]
    },
    {
     "name": "stdout",
     "output_type": "stream",
     "text": [
      "random_forest == {'unique_uuid': 'acb0bb50-fbf9-11ee-ae20-c0e434d84b22', 'train_end': datetime.datetime(2023, 12, 29, 0, 0), 'test_start': datetime.datetime(2024, 1, 2, 0, 0), 'test_end': datetime.datetime(2024, 2, 8, 0, 0), 'duration_training_history': 90, 'target_column': 'growth', 'train_features': ['close_lag_1', 'close_max_3_days', 'close_min_3_days', 'close_mean_3_days'], 'path_to_result': '/diploma_info/datalake/', 'forecast_periods': 4, 'model_name': 'random_forest', 'model': RandomForestClassifier(max_depth=9, n_estimators=10, n_jobs=-1, random_state=2), 'forecast_frequency': 'daily', 'company': 'meta', 'model_hyperparameters': {'n_estimators': 10, 'n_jobs': -1, 'random_state': 2, 'max_depth': 9}, 'problem': 'classification'} \n",
      "\n",
      "(2965, 4) (2965, 1)\n",
      "random_forest\n"
     ]
    },
    {
     "name": "stderr",
     "output_type": "stream",
     "text": [
      "100%|██████████████████████████████████████████████████████████████████████████████████| 38/38 [00:02<00:00, 16.59it/s]\n"
     ]
    },
    {
     "name": "stdout",
     "output_type": "stream",
     "text": [
      "random_forest == {'unique_uuid': 'acb0bb51-fbf9-11ee-a2fa-c0e434d84b22', 'train_end': datetime.datetime(2023, 12, 29, 0, 0), 'test_start': datetime.datetime(2024, 1, 2, 0, 0), 'test_end': datetime.datetime(2024, 2, 8, 0, 0), 'duration_training_history': 90, 'target_column': 'growth', 'train_features': ['close_lag_1', 'year', 'month', 'day', 'day_of_week', 'week_of_year'], 'path_to_result': '/diploma_info/datalake/', 'forecast_periods': 4, 'model_name': 'random_forest', 'model': RandomForestClassifier(max_depth=9, n_estimators=10, n_jobs=-1, random_state=2), 'forecast_frequency': 'daily', 'company': 'meta', 'model_hyperparameters': {'n_estimators': 10, 'n_jobs': -1, 'random_state': 2, 'max_depth': 9}, 'problem': 'classification'} \n",
      "\n",
      "(2965, 6) (2965, 1)\n",
      "random_forest\n"
     ]
    },
    {
     "name": "stderr",
     "output_type": "stream",
     "text": [
      "100%|██████████████████████████████████████████████████████████████████████████████████| 38/38 [00:02<00:00, 17.19it/s]\n"
     ]
    },
    {
     "name": "stdout",
     "output_type": "stream",
     "text": [
      "knear_neighbors == {'unique_uuid': 'acb0bb52-fbf9-11ee-9fb8-c0e434d84b22', 'train_end': datetime.datetime(2023, 12, 29, 0, 0), 'test_start': datetime.datetime(2024, 1, 2, 0, 0), 'test_end': datetime.datetime(2024, 2, 8, 0, 0), 'duration_training_history': 90, 'target_column': 'growth', 'train_features': ['close_lag_1', 'volume_lag_1'], 'path_to_result': '/diploma_info/datalake/', 'forecast_periods': 4, 'model_name': 'knear_neighbors', 'model': KNeighborsClassifier(n_jobs=-1, n_neighbors=9), 'forecast_frequency': 'daily', 'company': 'meta', 'model_hyperparameters': {'n_neighbors': 9, 'n_jobs': -1}, 'problem': 'classification'} \n",
      "\n",
      "(2965, 2) (2965, 1)\n",
      "knear_neighbors\n"
     ]
    },
    {
     "name": "stderr",
     "output_type": "stream",
     "text": [
      "100%|██████████████████████████████████████████████████████████████████████████████████| 38/38 [00:01<00:00, 34.54it/s]\n"
     ]
    },
    {
     "name": "stdout",
     "output_type": "stream",
     "text": [
      "knear_neighbors == {'unique_uuid': 'acb0bb53-fbf9-11ee-847c-c0e434d84b22', 'train_end': datetime.datetime(2023, 12, 29, 0, 0), 'test_start': datetime.datetime(2024, 1, 2, 0, 0), 'test_end': datetime.datetime(2024, 2, 8, 0, 0), 'duration_training_history': 90, 'target_column': 'growth', 'train_features': ['close_lag_1', 'close_max_3_days', 'close_min_3_days', 'close_mean_3_days'], 'path_to_result': '/diploma_info/datalake/', 'forecast_periods': 4, 'model_name': 'knear_neighbors', 'model': KNeighborsClassifier(n_jobs=-1, n_neighbors=9), 'forecast_frequency': 'daily', 'company': 'meta', 'model_hyperparameters': {'n_neighbors': 9, 'n_jobs': -1}, 'problem': 'classification'} \n",
      "\n",
      "(2965, 4) (2965, 1)\n",
      "knear_neighbors\n"
     ]
    },
    {
     "name": "stderr",
     "output_type": "stream",
     "text": [
      "100%|██████████████████████████████████████████████████████████████████████████████████| 38/38 [00:01<00:00, 33.20it/s]\n"
     ]
    },
    {
     "name": "stdout",
     "output_type": "stream",
     "text": [
      "knear_neighbors == {'unique_uuid': 'acb0bb54-fbf9-11ee-baeb-c0e434d84b22', 'train_end': datetime.datetime(2023, 12, 29, 0, 0), 'test_start': datetime.datetime(2024, 1, 2, 0, 0), 'test_end': datetime.datetime(2024, 2, 8, 0, 0), 'duration_training_history': 90, 'target_column': 'growth', 'train_features': ['close_lag_1', 'year', 'month', 'day', 'day_of_week', 'week_of_year'], 'path_to_result': '/diploma_info/datalake/', 'forecast_periods': 4, 'model_name': 'knear_neighbors', 'model': KNeighborsClassifier(n_jobs=-1, n_neighbors=9), 'forecast_frequency': 'daily', 'company': 'meta', 'model_hyperparameters': {'n_neighbors': 9, 'n_jobs': -1}, 'problem': 'classification'} \n",
      "\n",
      "(2965, 6) (2965, 1)\n",
      "knear_neighbors\n"
     ]
    },
    {
     "name": "stderr",
     "output_type": "stream",
     "text": [
      "100%|██████████████████████████████████████████████████████████████████████████████████| 38/38 [00:01<00:00, 35.43it/s]\n"
     ]
    },
    {
     "name": "stdout",
     "output_type": "stream",
     "text": [
      "xgboost == {'unique_uuid': 'acb0bb55-fbf9-11ee-8d47-c0e434d84b22', 'train_end': datetime.datetime(2023, 12, 29, 0, 0), 'test_start': datetime.datetime(2024, 1, 2, 0, 0), 'test_end': datetime.datetime(2024, 2, 8, 0, 0), 'duration_training_history': 120, 'target_column': 'growth', 'train_features': ['close_lag_1', 'volume_lag_1'], 'path_to_result': '/diploma_info/datalake/', 'forecast_periods': 4, 'model_name': 'xgboost', 'model': XGBClassifier(base_score=None, booster='gbtree', callbacks=None,\n",
      "              colsample_bylevel=None, colsample_bynode=None, colsample_bytree=1,\n",
      "              device=None, early_stopping_rounds=None, enable_categorical=False,\n",
      "              eta=0.3, eval_metric='rmse', feature_types=None, gamma=None,\n",
      "              grow_policy=None, importance_type=None,\n",
      "              interaction_constraints=None, learning_rate=None, max_bin=None,\n",
      "              max_cat_threshold=None, max_cat_to_onehot=None,\n",
      "              max_delta_step=None, max_depth=7, max_leaves=None,\n",
      "              min_child_weight=1, missing=nan, monotone_constraints=None,\n",
      "              multi_strategy=None, n_estimators=5000, n_jobs=-1,\n",
      "              num_parallel_tree=None, ...), 'forecast_frequency': 'daily', 'company': 'meta', 'model_hyperparameters': {'n_estimators': 5000, 'n_jobs': -1, 'max_depth': 7, 'eta': 0.3, 'booster': 'gbtree', 'objective': 'reg:squarederror', 'eval_metric': 'rmse', 'subsample': 1, 'colsample_bytree': 1, 'min_child_weight': 1, 'random_state': 2}, 'problem': 'classification'} \n",
      "\n",
      "(2965, 2) (2965, 1)\n",
      "xgboost\n"
     ]
    },
    {
     "name": "stderr",
     "output_type": "stream",
     "text": [
      "100%|██████████████████████████████████████████████████████████████████████████████████| 38/38 [00:31<00:00,  1.20it/s]\n"
     ]
    },
    {
     "name": "stdout",
     "output_type": "stream",
     "text": [
      "xgboost == {'unique_uuid': 'acb0bb56-fbf9-11ee-9c72-c0e434d84b22', 'train_end': datetime.datetime(2023, 12, 29, 0, 0), 'test_start': datetime.datetime(2024, 1, 2, 0, 0), 'test_end': datetime.datetime(2024, 2, 8, 0, 0), 'duration_training_history': 120, 'target_column': 'growth', 'train_features': ['close_lag_1', 'close_max_3_days', 'close_min_3_days', 'close_mean_3_days'], 'path_to_result': '/diploma_info/datalake/', 'forecast_periods': 4, 'model_name': 'xgboost', 'model': XGBClassifier(base_score=None, booster='gbtree', callbacks=None,\n",
      "              colsample_bylevel=None, colsample_bynode=None, colsample_bytree=1,\n",
      "              device=None, early_stopping_rounds=None, enable_categorical=False,\n",
      "              eta=0.3, eval_metric='rmse', feature_types=None, gamma=None,\n",
      "              grow_policy=None, importance_type=None,\n",
      "              interaction_constraints=None, learning_rate=None, max_bin=None,\n",
      "              max_cat_threshold=None, max_cat_to_onehot=None,\n",
      "              max_delta_step=None, max_depth=7, max_leaves=None,\n",
      "              min_child_weight=1, missing=nan, monotone_constraints=None,\n",
      "              multi_strategy=None, n_estimators=5000, n_jobs=-1,\n",
      "              num_parallel_tree=None, ...), 'forecast_frequency': 'daily', 'company': 'meta', 'model_hyperparameters': {'n_estimators': 5000, 'n_jobs': -1, 'max_depth': 7, 'eta': 0.3, 'booster': 'gbtree', 'objective': 'reg:squarederror', 'eval_metric': 'rmse', 'subsample': 1, 'colsample_bytree': 1, 'min_child_weight': 1, 'random_state': 2}, 'problem': 'classification'} \n",
      "\n",
      "(2965, 4) (2965, 1)\n",
      "xgboost\n"
     ]
    },
    {
     "name": "stderr",
     "output_type": "stream",
     "text": [
      "100%|██████████████████████████████████████████████████████████████████████████████████| 38/38 [00:34<00:00,  1.10it/s]\n"
     ]
    },
    {
     "name": "stdout",
     "output_type": "stream",
     "text": [
      "xgboost == {'unique_uuid': 'acb0bb57-fbf9-11ee-9aef-c0e434d84b22', 'train_end': datetime.datetime(2023, 12, 29, 0, 0), 'test_start': datetime.datetime(2024, 1, 2, 0, 0), 'test_end': datetime.datetime(2024, 2, 8, 0, 0), 'duration_training_history': 120, 'target_column': 'growth', 'train_features': ['close_lag_1', 'year', 'month', 'day', 'day_of_week', 'week_of_year'], 'path_to_result': '/diploma_info/datalake/', 'forecast_periods': 4, 'model_name': 'xgboost', 'model': XGBClassifier(base_score=None, booster='gbtree', callbacks=None,\n",
      "              colsample_bylevel=None, colsample_bynode=None, colsample_bytree=1,\n",
      "              device=None, early_stopping_rounds=None, enable_categorical=False,\n",
      "              eta=0.3, eval_metric='rmse', feature_types=None, gamma=None,\n",
      "              grow_policy=None, importance_type=None,\n",
      "              interaction_constraints=None, learning_rate=None, max_bin=None,\n",
      "              max_cat_threshold=None, max_cat_to_onehot=None,\n",
      "              max_delta_step=None, max_depth=7, max_leaves=None,\n",
      "              min_child_weight=1, missing=nan, monotone_constraints=None,\n",
      "              multi_strategy=None, n_estimators=5000, n_jobs=-1,\n",
      "              num_parallel_tree=None, ...), 'forecast_frequency': 'daily', 'company': 'meta', 'model_hyperparameters': {'n_estimators': 5000, 'n_jobs': -1, 'max_depth': 7, 'eta': 0.3, 'booster': 'gbtree', 'objective': 'reg:squarederror', 'eval_metric': 'rmse', 'subsample': 1, 'colsample_bytree': 1, 'min_child_weight': 1, 'random_state': 2}, 'problem': 'classification'} \n",
      "\n",
      "(2965, 6) (2965, 1)\n",
      "xgboost\n"
     ]
    },
    {
     "name": "stderr",
     "output_type": "stream",
     "text": [
      "100%|██████████████████████████████████████████████████████████████████████████████████| 38/38 [00:36<00:00,  1.03it/s]\n"
     ]
    },
    {
     "name": "stdout",
     "output_type": "stream",
     "text": [
      "lightgbm == {'unique_uuid': 'acb0bb58-fbf9-11ee-9344-c0e434d84b22', 'train_end': datetime.datetime(2023, 12, 29, 0, 0), 'test_start': datetime.datetime(2024, 1, 2, 0, 0), 'test_end': datetime.datetime(2024, 2, 8, 0, 0), 'duration_training_history': 120, 'target_column': 'growth', 'train_features': ['close_lag_1', 'volume_lag_1'], 'path_to_result': '/diploma_info/datalake/', 'forecast_periods': 4, 'model_name': 'lightgbm', 'model': LGBMClassifier(eta=0.3, max_depth=7, metric='binary', n_estimators=5000,\n",
      "               n_jobs=-1, objective='binary', random_state=2, verbosity=-1), 'forecast_frequency': 'daily', 'company': 'meta', 'model_hyperparameters': {'n_estimators': 5000, 'n_jobs': -1, 'max_depth': 7, 'eta': 0.3, 'random_state': 2, 'objective': 'binary', 'verbosity': -1, 'metric': 'binary'}, 'problem': 'classification'} \n",
      "\n",
      "(2965, 2) (2965, 1)\n",
      "lightgbm\n"
     ]
    },
    {
     "name": "stderr",
     "output_type": "stream",
     "text": [
      "100%|██████████████████████████████████████████████████████████████████████████████████| 38/38 [00:17<00:00,  2.21it/s]\n"
     ]
    },
    {
     "name": "stdout",
     "output_type": "stream",
     "text": [
      "lightgbm == {'unique_uuid': 'acb0bb59-fbf9-11ee-872d-c0e434d84b22', 'train_end': datetime.datetime(2023, 12, 29, 0, 0), 'test_start': datetime.datetime(2024, 1, 2, 0, 0), 'test_end': datetime.datetime(2024, 2, 8, 0, 0), 'duration_training_history': 120, 'target_column': 'growth', 'train_features': ['close_lag_1', 'close_max_3_days', 'close_min_3_days', 'close_mean_3_days'], 'path_to_result': '/diploma_info/datalake/', 'forecast_periods': 4, 'model_name': 'lightgbm', 'model': LGBMClassifier(eta=0.3, max_depth=7, metric='binary', n_estimators=5000,\n",
      "               n_jobs=-1, objective='binary', random_state=2, verbosity=-1), 'forecast_frequency': 'daily', 'company': 'meta', 'model_hyperparameters': {'n_estimators': 5000, 'n_jobs': -1, 'max_depth': 7, 'eta': 0.3, 'random_state': 2, 'objective': 'binary', 'verbosity': -1, 'metric': 'binary'}, 'problem': 'classification'} \n",
      "\n",
      "(2965, 4) (2965, 1)\n",
      "lightgbm\n"
     ]
    },
    {
     "name": "stderr",
     "output_type": "stream",
     "text": [
      "100%|██████████████████████████████████████████████████████████████████████████████████| 38/38 [00:17<00:00,  2.18it/s]\n"
     ]
    },
    {
     "name": "stdout",
     "output_type": "stream",
     "text": [
      "lightgbm == {'unique_uuid': 'acb0bb5a-fbf9-11ee-8cb1-c0e434d84b22', 'train_end': datetime.datetime(2023, 12, 29, 0, 0), 'test_start': datetime.datetime(2024, 1, 2, 0, 0), 'test_end': datetime.datetime(2024, 2, 8, 0, 0), 'duration_training_history': 120, 'target_column': 'growth', 'train_features': ['close_lag_1', 'year', 'month', 'day', 'day_of_week', 'week_of_year'], 'path_to_result': '/diploma_info/datalake/', 'forecast_periods': 4, 'model_name': 'lightgbm', 'model': LGBMClassifier(eta=0.3, max_depth=7, metric='binary', n_estimators=5000,\n",
      "               n_jobs=-1, objective='binary', random_state=2, verbosity=-1), 'forecast_frequency': 'daily', 'company': 'meta', 'model_hyperparameters': {'n_estimators': 5000, 'n_jobs': -1, 'max_depth': 7, 'eta': 0.3, 'random_state': 2, 'objective': 'binary', 'verbosity': -1, 'metric': 'binary'}, 'problem': 'classification'} \n",
      "\n",
      "(2965, 6) (2965, 1)\n",
      "lightgbm\n"
     ]
    },
    {
     "name": "stderr",
     "output_type": "stream",
     "text": [
      "100%|██████████████████████████████████████████████████████████████████████████████████| 38/38 [00:17<00:00,  2.16it/s]\n"
     ]
    },
    {
     "name": "stdout",
     "output_type": "stream",
     "text": [
      "lightgbm == {'unique_uuid': 'acb0bb5b-fbf9-11ee-b6cd-c0e434d84b22', 'train_end': datetime.datetime(2023, 12, 29, 0, 0), 'test_start': datetime.datetime(2024, 1, 2, 0, 0), 'test_end': datetime.datetime(2024, 2, 8, 0, 0), 'duration_training_history': 120, 'target_column': 'growth', 'train_features': ['close_lag_1', 'volume_lag_1'], 'path_to_result': '/diploma_info/datalake/', 'forecast_periods': 4, 'model_name': 'lightgbm', 'model': LGBMClassifier(eta=0.3, max_depth=9, metric='binary', n_estimators=5000,\n",
      "               n_jobs=-1, objective='binary', random_state=2, verbosity=-1), 'forecast_frequency': 'daily', 'company': 'meta', 'model_hyperparameters': {'n_estimators': 5000, 'n_jobs': -1, 'max_depth': 9, 'eta': 0.3, 'random_state': 2, 'objective': 'binary', 'verbosity': -1, 'metric': 'binary'}, 'problem': 'classification'} \n",
      "\n",
      "(2965, 2) (2965, 1)\n",
      "lightgbm\n"
     ]
    },
    {
     "name": "stderr",
     "output_type": "stream",
     "text": [
      "100%|██████████████████████████████████████████████████████████████████████████████████| 38/38 [00:16<00:00,  2.26it/s]\n"
     ]
    },
    {
     "name": "stdout",
     "output_type": "stream",
     "text": [
      "lightgbm == {'unique_uuid': 'acb0bb5c-fbf9-11ee-9948-c0e434d84b22', 'train_end': datetime.datetime(2023, 12, 29, 0, 0), 'test_start': datetime.datetime(2024, 1, 2, 0, 0), 'test_end': datetime.datetime(2024, 2, 8, 0, 0), 'duration_training_history': 120, 'target_column': 'growth', 'train_features': ['close_lag_1', 'close_max_3_days', 'close_min_3_days', 'close_mean_3_days'], 'path_to_result': '/diploma_info/datalake/', 'forecast_periods': 4, 'model_name': 'lightgbm', 'model': LGBMClassifier(eta=0.3, max_depth=9, metric='binary', n_estimators=5000,\n",
      "               n_jobs=-1, objective='binary', random_state=2, verbosity=-1), 'forecast_frequency': 'daily', 'company': 'meta', 'model_hyperparameters': {'n_estimators': 5000, 'n_jobs': -1, 'max_depth': 9, 'eta': 0.3, 'random_state': 2, 'objective': 'binary', 'verbosity': -1, 'metric': 'binary'}, 'problem': 'classification'} \n",
      "\n",
      "(2965, 4) (2965, 1)\n",
      "lightgbm\n"
     ]
    },
    {
     "name": "stderr",
     "output_type": "stream",
     "text": [
      "100%|██████████████████████████████████████████████████████████████████████████████████| 38/38 [00:17<00:00,  2.16it/s]\n"
     ]
    },
    {
     "name": "stdout",
     "output_type": "stream",
     "text": [
      "lightgbm == {'unique_uuid': 'acb0bb5d-fbf9-11ee-b545-c0e434d84b22', 'train_end': datetime.datetime(2023, 12, 29, 0, 0), 'test_start': datetime.datetime(2024, 1, 2, 0, 0), 'test_end': datetime.datetime(2024, 2, 8, 0, 0), 'duration_training_history': 120, 'target_column': 'growth', 'train_features': ['close_lag_1', 'year', 'month', 'day', 'day_of_week', 'week_of_year'], 'path_to_result': '/diploma_info/datalake/', 'forecast_periods': 4, 'model_name': 'lightgbm', 'model': LGBMClassifier(eta=0.3, max_depth=9, metric='binary', n_estimators=5000,\n",
      "               n_jobs=-1, objective='binary', random_state=2, verbosity=-1), 'forecast_frequency': 'daily', 'company': 'meta', 'model_hyperparameters': {'n_estimators': 5000, 'n_jobs': -1, 'max_depth': 9, 'eta': 0.3, 'random_state': 2, 'objective': 'binary', 'verbosity': -1, 'metric': 'binary'}, 'problem': 'classification'} \n",
      "\n",
      "(2965, 6) (2965, 1)\n",
      "lightgbm\n"
     ]
    },
    {
     "name": "stderr",
     "output_type": "stream",
     "text": [
      "100%|██████████████████████████████████████████████████████████████████████████████████| 38/38 [00:17<00:00,  2.16it/s]\n"
     ]
    },
    {
     "name": "stdout",
     "output_type": "stream",
     "text": [
      "random_forest == {'unique_uuid': 'acb0bb5e-fbf9-11ee-993d-c0e434d84b22', 'train_end': datetime.datetime(2023, 12, 29, 0, 0), 'test_start': datetime.datetime(2024, 1, 2, 0, 0), 'test_end': datetime.datetime(2024, 2, 8, 0, 0), 'duration_training_history': 120, 'target_column': 'growth', 'train_features': ['close_lag_1', 'volume_lag_1'], 'path_to_result': '/diploma_info/datalake/', 'forecast_periods': 4, 'model_name': 'random_forest', 'model': RandomForestClassifier(max_depth=9, n_estimators=10, n_jobs=-1, random_state=2), 'forecast_frequency': 'daily', 'company': 'meta', 'model_hyperparameters': {'n_estimators': 10, 'n_jobs': -1, 'random_state': 2, 'max_depth': 9}, 'problem': 'classification'} \n",
      "\n",
      "(2965, 2) (2965, 1)\n",
      "random_forest\n"
     ]
    },
    {
     "name": "stderr",
     "output_type": "stream",
     "text": [
      "100%|██████████████████████████████████████████████████████████████████████████████████| 38/38 [00:02<00:00, 17.06it/s]\n"
     ]
    },
    {
     "name": "stdout",
     "output_type": "stream",
     "text": [
      "random_forest == {'unique_uuid': 'acb0bb5f-fbf9-11ee-ae70-c0e434d84b22', 'train_end': datetime.datetime(2023, 12, 29, 0, 0), 'test_start': datetime.datetime(2024, 1, 2, 0, 0), 'test_end': datetime.datetime(2024, 2, 8, 0, 0), 'duration_training_history': 120, 'target_column': 'growth', 'train_features': ['close_lag_1', 'close_max_3_days', 'close_min_3_days', 'close_mean_3_days'], 'path_to_result': '/diploma_info/datalake/', 'forecast_periods': 4, 'model_name': 'random_forest', 'model': RandomForestClassifier(max_depth=9, n_estimators=10, n_jobs=-1, random_state=2), 'forecast_frequency': 'daily', 'company': 'meta', 'model_hyperparameters': {'n_estimators': 10, 'n_jobs': -1, 'random_state': 2, 'max_depth': 9}, 'problem': 'classification'} \n",
      "\n",
      "(2965, 4) (2965, 1)\n",
      "random_forest\n"
     ]
    },
    {
     "name": "stderr",
     "output_type": "stream",
     "text": [
      "100%|██████████████████████████████████████████████████████████████████████████████████| 38/38 [00:02<00:00, 16.43it/s]\n"
     ]
    },
    {
     "name": "stdout",
     "output_type": "stream",
     "text": [
      "random_forest == {'unique_uuid': 'acb0bb60-fbf9-11ee-bcc5-c0e434d84b22', 'train_end': datetime.datetime(2023, 12, 29, 0, 0), 'test_start': datetime.datetime(2024, 1, 2, 0, 0), 'test_end': datetime.datetime(2024, 2, 8, 0, 0), 'duration_training_history': 120, 'target_column': 'growth', 'train_features': ['close_lag_1', 'year', 'month', 'day', 'day_of_week', 'week_of_year'], 'path_to_result': '/diploma_info/datalake/', 'forecast_periods': 4, 'model_name': 'random_forest', 'model': RandomForestClassifier(max_depth=9, n_estimators=10, n_jobs=-1, random_state=2), 'forecast_frequency': 'daily', 'company': 'meta', 'model_hyperparameters': {'n_estimators': 10, 'n_jobs': -1, 'random_state': 2, 'max_depth': 9}, 'problem': 'classification'} \n",
      "\n",
      "(2965, 6) (2965, 1)\n",
      "random_forest\n"
     ]
    },
    {
     "name": "stderr",
     "output_type": "stream",
     "text": [
      "100%|██████████████████████████████████████████████████████████████████████████████████| 38/38 [00:02<00:00, 17.36it/s]\n"
     ]
    },
    {
     "name": "stdout",
     "output_type": "stream",
     "text": [
      "knear_neighbors == {'unique_uuid': 'acb0bb61-fbf9-11ee-9503-c0e434d84b22', 'train_end': datetime.datetime(2023, 12, 29, 0, 0), 'test_start': datetime.datetime(2024, 1, 2, 0, 0), 'test_end': datetime.datetime(2024, 2, 8, 0, 0), 'duration_training_history': 120, 'target_column': 'growth', 'train_features': ['close_lag_1', 'volume_lag_1'], 'path_to_result': '/diploma_info/datalake/', 'forecast_periods': 4, 'model_name': 'knear_neighbors', 'model': KNeighborsClassifier(n_jobs=-1, n_neighbors=9), 'forecast_frequency': 'daily', 'company': 'meta', 'model_hyperparameters': {'n_neighbors': 9, 'n_jobs': -1}, 'problem': 'classification'} \n",
      "\n",
      "(2965, 2) (2965, 1)\n",
      "knear_neighbors\n"
     ]
    },
    {
     "name": "stderr",
     "output_type": "stream",
     "text": [
      "100%|██████████████████████████████████████████████████████████████████████████████████| 38/38 [00:01<00:00, 34.55it/s]\n"
     ]
    },
    {
     "name": "stdout",
     "output_type": "stream",
     "text": [
      "knear_neighbors == {'unique_uuid': 'acb0bb62-fbf9-11ee-85b5-c0e434d84b22', 'train_end': datetime.datetime(2023, 12, 29, 0, 0), 'test_start': datetime.datetime(2024, 1, 2, 0, 0), 'test_end': datetime.datetime(2024, 2, 8, 0, 0), 'duration_training_history': 120, 'target_column': 'growth', 'train_features': ['close_lag_1', 'close_max_3_days', 'close_min_3_days', 'close_mean_3_days'], 'path_to_result': '/diploma_info/datalake/', 'forecast_periods': 4, 'model_name': 'knear_neighbors', 'model': KNeighborsClassifier(n_jobs=-1, n_neighbors=9), 'forecast_frequency': 'daily', 'company': 'meta', 'model_hyperparameters': {'n_neighbors': 9, 'n_jobs': -1}, 'problem': 'classification'} \n",
      "\n",
      "(2965, 4) (2965, 1)\n",
      "knear_neighbors\n"
     ]
    },
    {
     "name": "stderr",
     "output_type": "stream",
     "text": [
      "100%|██████████████████████████████████████████████████████████████████████████████████| 38/38 [00:01<00:00, 32.77it/s]\n"
     ]
    },
    {
     "name": "stdout",
     "output_type": "stream",
     "text": [
      "knear_neighbors == {'unique_uuid': 'acb0bb63-fbf9-11ee-ab3c-c0e434d84b22', 'train_end': datetime.datetime(2023, 12, 29, 0, 0), 'test_start': datetime.datetime(2024, 1, 2, 0, 0), 'test_end': datetime.datetime(2024, 2, 8, 0, 0), 'duration_training_history': 120, 'target_column': 'growth', 'train_features': ['close_lag_1', 'year', 'month', 'day', 'day_of_week', 'week_of_year'], 'path_to_result': '/diploma_info/datalake/', 'forecast_periods': 4, 'model_name': 'knear_neighbors', 'model': KNeighborsClassifier(n_jobs=-1, n_neighbors=9), 'forecast_frequency': 'daily', 'company': 'meta', 'model_hyperparameters': {'n_neighbors': 9, 'n_jobs': -1}, 'problem': 'classification'} \n",
      "\n",
      "(2965, 6) (2965, 1)\n",
      "knear_neighbors\n"
     ]
    },
    {
     "name": "stderr",
     "output_type": "stream",
     "text": [
      "100%|██████████████████████████████████████████████████████████████████████████████████| 38/38 [00:01<00:00, 35.32it/s]\n"
     ]
    },
    {
     "name": "stdout",
     "output_type": "stream",
     "text": [
      "xgboost == {'unique_uuid': 'acb0bb64-fbf9-11ee-9cb5-c0e434d84b22', 'train_end': datetime.datetime(2023, 12, 29, 0, 0), 'test_start': datetime.datetime(2024, 1, 2, 0, 0), 'test_end': datetime.datetime(2024, 2, 8, 0, 0), 'duration_training_history': 180, 'target_column': 'growth', 'train_features': ['close_lag_1', 'volume_lag_1'], 'path_to_result': '/diploma_info/datalake/', 'forecast_periods': 4, 'model_name': 'xgboost', 'model': XGBClassifier(base_score=None, booster='gbtree', callbacks=None,\n",
      "              colsample_bylevel=None, colsample_bynode=None, colsample_bytree=1,\n",
      "              device=None, early_stopping_rounds=None, enable_categorical=False,\n",
      "              eta=0.3, eval_metric='rmse', feature_types=None, gamma=None,\n",
      "              grow_policy=None, importance_type=None,\n",
      "              interaction_constraints=None, learning_rate=None, max_bin=None,\n",
      "              max_cat_threshold=None, max_cat_to_onehot=None,\n",
      "              max_delta_step=None, max_depth=7, max_leaves=None,\n",
      "              min_child_weight=1, missing=nan, monotone_constraints=None,\n",
      "              multi_strategy=None, n_estimators=5000, n_jobs=-1,\n",
      "              num_parallel_tree=None, ...), 'forecast_frequency': 'daily', 'company': 'meta', 'model_hyperparameters': {'n_estimators': 5000, 'n_jobs': -1, 'max_depth': 7, 'eta': 0.3, 'booster': 'gbtree', 'objective': 'reg:squarederror', 'eval_metric': 'rmse', 'subsample': 1, 'colsample_bytree': 1, 'min_child_weight': 1, 'random_state': 2}, 'problem': 'classification'} \n",
      "\n",
      "(2965, 2) (2965, 1)\n",
      "xgboost\n"
     ]
    },
    {
     "name": "stderr",
     "output_type": "stream",
     "text": [
      "100%|██████████████████████████████████████████████████████████████████████████████████| 38/38 [00:32<00:00,  1.16it/s]\n"
     ]
    },
    {
     "name": "stdout",
     "output_type": "stream",
     "text": [
      "xgboost == {'unique_uuid': 'acb0bb65-fbf9-11ee-9442-c0e434d84b22', 'train_end': datetime.datetime(2023, 12, 29, 0, 0), 'test_start': datetime.datetime(2024, 1, 2, 0, 0), 'test_end': datetime.datetime(2024, 2, 8, 0, 0), 'duration_training_history': 180, 'target_column': 'growth', 'train_features': ['close_lag_1', 'close_max_3_days', 'close_min_3_days', 'close_mean_3_days'], 'path_to_result': '/diploma_info/datalake/', 'forecast_periods': 4, 'model_name': 'xgboost', 'model': XGBClassifier(base_score=None, booster='gbtree', callbacks=None,\n",
      "              colsample_bylevel=None, colsample_bynode=None, colsample_bytree=1,\n",
      "              device=None, early_stopping_rounds=None, enable_categorical=False,\n",
      "              eta=0.3, eval_metric='rmse', feature_types=None, gamma=None,\n",
      "              grow_policy=None, importance_type=None,\n",
      "              interaction_constraints=None, learning_rate=None, max_bin=None,\n",
      "              max_cat_threshold=None, max_cat_to_onehot=None,\n",
      "              max_delta_step=None, max_depth=7, max_leaves=None,\n",
      "              min_child_weight=1, missing=nan, monotone_constraints=None,\n",
      "              multi_strategy=None, n_estimators=5000, n_jobs=-1,\n",
      "              num_parallel_tree=None, ...), 'forecast_frequency': 'daily', 'company': 'meta', 'model_hyperparameters': {'n_estimators': 5000, 'n_jobs': -1, 'max_depth': 7, 'eta': 0.3, 'booster': 'gbtree', 'objective': 'reg:squarederror', 'eval_metric': 'rmse', 'subsample': 1, 'colsample_bytree': 1, 'min_child_weight': 1, 'random_state': 2}, 'problem': 'classification'} \n",
      "\n",
      "(2965, 4) (2965, 1)\n",
      "xgboost\n"
     ]
    },
    {
     "name": "stderr",
     "output_type": "stream",
     "text": [
      "100%|██████████████████████████████████████████████████████████████████████████████████| 38/38 [00:36<00:00,  1.05it/s]\n"
     ]
    },
    {
     "name": "stdout",
     "output_type": "stream",
     "text": [
      "xgboost == {'unique_uuid': 'acb0bb66-fbf9-11ee-acd3-c0e434d84b22', 'train_end': datetime.datetime(2023, 12, 29, 0, 0), 'test_start': datetime.datetime(2024, 1, 2, 0, 0), 'test_end': datetime.datetime(2024, 2, 8, 0, 0), 'duration_training_history': 180, 'target_column': 'growth', 'train_features': ['close_lag_1', 'year', 'month', 'day', 'day_of_week', 'week_of_year'], 'path_to_result': '/diploma_info/datalake/', 'forecast_periods': 4, 'model_name': 'xgboost', 'model': XGBClassifier(base_score=None, booster='gbtree', callbacks=None,\n",
      "              colsample_bylevel=None, colsample_bynode=None, colsample_bytree=1,\n",
      "              device=None, early_stopping_rounds=None, enable_categorical=False,\n",
      "              eta=0.3, eval_metric='rmse', feature_types=None, gamma=None,\n",
      "              grow_policy=None, importance_type=None,\n",
      "              interaction_constraints=None, learning_rate=None, max_bin=None,\n",
      "              max_cat_threshold=None, max_cat_to_onehot=None,\n",
      "              max_delta_step=None, max_depth=7, max_leaves=None,\n",
      "              min_child_weight=1, missing=nan, monotone_constraints=None,\n",
      "              multi_strategy=None, n_estimators=5000, n_jobs=-1,\n",
      "              num_parallel_tree=None, ...), 'forecast_frequency': 'daily', 'company': 'meta', 'model_hyperparameters': {'n_estimators': 5000, 'n_jobs': -1, 'max_depth': 7, 'eta': 0.3, 'booster': 'gbtree', 'objective': 'reg:squarederror', 'eval_metric': 'rmse', 'subsample': 1, 'colsample_bytree': 1, 'min_child_weight': 1, 'random_state': 2}, 'problem': 'classification'} \n",
      "\n",
      "(2965, 6) (2965, 1)\n",
      "xgboost\n"
     ]
    },
    {
     "name": "stderr",
     "output_type": "stream",
     "text": [
      "100%|██████████████████████████████████████████████████████████████████████████████████| 38/38 [00:37<00:00,  1.00it/s]\n"
     ]
    },
    {
     "name": "stdout",
     "output_type": "stream",
     "text": [
      "lightgbm == {'unique_uuid': 'acb0bb67-fbf9-11ee-9b4b-c0e434d84b22', 'train_end': datetime.datetime(2023, 12, 29, 0, 0), 'test_start': datetime.datetime(2024, 1, 2, 0, 0), 'test_end': datetime.datetime(2024, 2, 8, 0, 0), 'duration_training_history': 180, 'target_column': 'growth', 'train_features': ['close_lag_1', 'volume_lag_1'], 'path_to_result': '/diploma_info/datalake/', 'forecast_periods': 4, 'model_name': 'lightgbm', 'model': LGBMClassifier(eta=0.3, max_depth=7, metric='binary', n_estimators=5000,\n",
      "               n_jobs=-1, objective='binary', random_state=2, verbosity=-1), 'forecast_frequency': 'daily', 'company': 'meta', 'model_hyperparameters': {'n_estimators': 5000, 'n_jobs': -1, 'max_depth': 7, 'eta': 0.3, 'random_state': 2, 'objective': 'binary', 'verbosity': -1, 'metric': 'binary'}, 'problem': 'classification'} \n",
      "\n",
      "(2965, 2) (2965, 1)\n",
      "lightgbm\n"
     ]
    },
    {
     "name": "stderr",
     "output_type": "stream",
     "text": [
      "100%|██████████████████████████████████████████████████████████████████████████████████| 38/38 [00:25<00:00,  1.51it/s]\n"
     ]
    },
    {
     "name": "stdout",
     "output_type": "stream",
     "text": [
      "lightgbm == {'unique_uuid': 'acb0bb68-fbf9-11ee-8c86-c0e434d84b22', 'train_end': datetime.datetime(2023, 12, 29, 0, 0), 'test_start': datetime.datetime(2024, 1, 2, 0, 0), 'test_end': datetime.datetime(2024, 2, 8, 0, 0), 'duration_training_history': 180, 'target_column': 'growth', 'train_features': ['close_lag_1', 'close_max_3_days', 'close_min_3_days', 'close_mean_3_days'], 'path_to_result': '/diploma_info/datalake/', 'forecast_periods': 4, 'model_name': 'lightgbm', 'model': LGBMClassifier(eta=0.3, max_depth=7, metric='binary', n_estimators=5000,\n",
      "               n_jobs=-1, objective='binary', random_state=2, verbosity=-1), 'forecast_frequency': 'daily', 'company': 'meta', 'model_hyperparameters': {'n_estimators': 5000, 'n_jobs': -1, 'max_depth': 7, 'eta': 0.3, 'random_state': 2, 'objective': 'binary', 'verbosity': -1, 'metric': 'binary'}, 'problem': 'classification'} \n",
      "\n",
      "(2965, 4) (2965, 1)\n",
      "lightgbm\n"
     ]
    },
    {
     "name": "stderr",
     "output_type": "stream",
     "text": [
      "100%|██████████████████████████████████████████████████████████████████████████████████| 38/38 [00:24<00:00,  1.55it/s]\n"
     ]
    },
    {
     "name": "stdout",
     "output_type": "stream",
     "text": [
      "lightgbm == {'unique_uuid': 'acb0bb69-fbf9-11ee-ab8e-c0e434d84b22', 'train_end': datetime.datetime(2023, 12, 29, 0, 0), 'test_start': datetime.datetime(2024, 1, 2, 0, 0), 'test_end': datetime.datetime(2024, 2, 8, 0, 0), 'duration_training_history': 180, 'target_column': 'growth', 'train_features': ['close_lag_1', 'year', 'month', 'day', 'day_of_week', 'week_of_year'], 'path_to_result': '/diploma_info/datalake/', 'forecast_periods': 4, 'model_name': 'lightgbm', 'model': LGBMClassifier(eta=0.3, max_depth=7, metric='binary', n_estimators=5000,\n",
      "               n_jobs=-1, objective='binary', random_state=2, verbosity=-1), 'forecast_frequency': 'daily', 'company': 'meta', 'model_hyperparameters': {'n_estimators': 5000, 'n_jobs': -1, 'max_depth': 7, 'eta': 0.3, 'random_state': 2, 'objective': 'binary', 'verbosity': -1, 'metric': 'binary'}, 'problem': 'classification'} \n",
      "\n",
      "(2965, 6) (2965, 1)\n",
      "lightgbm\n"
     ]
    },
    {
     "name": "stderr",
     "output_type": "stream",
     "text": [
      "100%|██████████████████████████████████████████████████████████████████████████████████| 38/38 [00:22<00:00,  1.66it/s]\n"
     ]
    },
    {
     "name": "stdout",
     "output_type": "stream",
     "text": [
      "lightgbm == {'unique_uuid': 'acb0bb6a-fbf9-11ee-bf19-c0e434d84b22', 'train_end': datetime.datetime(2023, 12, 29, 0, 0), 'test_start': datetime.datetime(2024, 1, 2, 0, 0), 'test_end': datetime.datetime(2024, 2, 8, 0, 0), 'duration_training_history': 180, 'target_column': 'growth', 'train_features': ['close_lag_1', 'volume_lag_1'], 'path_to_result': '/diploma_info/datalake/', 'forecast_periods': 4, 'model_name': 'lightgbm', 'model': LGBMClassifier(eta=0.3, max_depth=9, metric='binary', n_estimators=5000,\n",
      "               n_jobs=-1, objective='binary', random_state=2, verbosity=-1), 'forecast_frequency': 'daily', 'company': 'meta', 'model_hyperparameters': {'n_estimators': 5000, 'n_jobs': -1, 'max_depth': 9, 'eta': 0.3, 'random_state': 2, 'objective': 'binary', 'verbosity': -1, 'metric': 'binary'}, 'problem': 'classification'} \n",
      "\n",
      "(2965, 2) (2965, 1)\n",
      "lightgbm\n"
     ]
    },
    {
     "name": "stderr",
     "output_type": "stream",
     "text": [
      "100%|██████████████████████████████████████████████████████████████████████████████████| 38/38 [00:23<00:00,  1.65it/s]\n"
     ]
    },
    {
     "name": "stdout",
     "output_type": "stream",
     "text": [
      "lightgbm == {'unique_uuid': 'acb0bb6b-fbf9-11ee-b384-c0e434d84b22', 'train_end': datetime.datetime(2023, 12, 29, 0, 0), 'test_start': datetime.datetime(2024, 1, 2, 0, 0), 'test_end': datetime.datetime(2024, 2, 8, 0, 0), 'duration_training_history': 180, 'target_column': 'growth', 'train_features': ['close_lag_1', 'close_max_3_days', 'close_min_3_days', 'close_mean_3_days'], 'path_to_result': '/diploma_info/datalake/', 'forecast_periods': 4, 'model_name': 'lightgbm', 'model': LGBMClassifier(eta=0.3, max_depth=9, metric='binary', n_estimators=5000,\n",
      "               n_jobs=-1, objective='binary', random_state=2, verbosity=-1), 'forecast_frequency': 'daily', 'company': 'meta', 'model_hyperparameters': {'n_estimators': 5000, 'n_jobs': -1, 'max_depth': 9, 'eta': 0.3, 'random_state': 2, 'objective': 'binary', 'verbosity': -1, 'metric': 'binary'}, 'problem': 'classification'} \n",
      "\n",
      "(2965, 4) (2965, 1)\n",
      "lightgbm\n"
     ]
    },
    {
     "name": "stderr",
     "output_type": "stream",
     "text": [
      "100%|██████████████████████████████████████████████████████████████████████████████████| 38/38 [00:23<00:00,  1.59it/s]\n"
     ]
    },
    {
     "name": "stdout",
     "output_type": "stream",
     "text": [
      "lightgbm == {'unique_uuid': 'acb0bb6c-fbf9-11ee-a844-c0e434d84b22', 'train_end': datetime.datetime(2023, 12, 29, 0, 0), 'test_start': datetime.datetime(2024, 1, 2, 0, 0), 'test_end': datetime.datetime(2024, 2, 8, 0, 0), 'duration_training_history': 180, 'target_column': 'growth', 'train_features': ['close_lag_1', 'year', 'month', 'day', 'day_of_week', 'week_of_year'], 'path_to_result': '/diploma_info/datalake/', 'forecast_periods': 4, 'model_name': 'lightgbm', 'model': LGBMClassifier(eta=0.3, max_depth=9, metric='binary', n_estimators=5000,\n",
      "               n_jobs=-1, objective='binary', random_state=2, verbosity=-1), 'forecast_frequency': 'daily', 'company': 'meta', 'model_hyperparameters': {'n_estimators': 5000, 'n_jobs': -1, 'max_depth': 9, 'eta': 0.3, 'random_state': 2, 'objective': 'binary', 'verbosity': -1, 'metric': 'binary'}, 'problem': 'classification'} \n",
      "\n",
      "(2965, 6) (2965, 1)\n",
      "lightgbm\n"
     ]
    },
    {
     "name": "stderr",
     "output_type": "stream",
     "text": [
      "100%|██████████████████████████████████████████████████████████████████████████████████| 38/38 [00:23<00:00,  1.65it/s]\n"
     ]
    },
    {
     "name": "stdout",
     "output_type": "stream",
     "text": [
      "random_forest == {'unique_uuid': 'acb0bb6d-fbf9-11ee-9129-c0e434d84b22', 'train_end': datetime.datetime(2023, 12, 29, 0, 0), 'test_start': datetime.datetime(2024, 1, 2, 0, 0), 'test_end': datetime.datetime(2024, 2, 8, 0, 0), 'duration_training_history': 180, 'target_column': 'growth', 'train_features': ['close_lag_1', 'volume_lag_1'], 'path_to_result': '/diploma_info/datalake/', 'forecast_periods': 4, 'model_name': 'random_forest', 'model': RandomForestClassifier(max_depth=9, n_estimators=10, n_jobs=-1, random_state=2), 'forecast_frequency': 'daily', 'company': 'meta', 'model_hyperparameters': {'n_estimators': 10, 'n_jobs': -1, 'random_state': 2, 'max_depth': 9}, 'problem': 'classification'} \n",
      "\n",
      "(2965, 2) (2965, 1)\n",
      "random_forest\n"
     ]
    },
    {
     "name": "stderr",
     "output_type": "stream",
     "text": [
      "100%|██████████████████████████████████████████████████████████████████████████████████| 38/38 [00:02<00:00, 16.93it/s]\n"
     ]
    },
    {
     "name": "stdout",
     "output_type": "stream",
     "text": [
      "random_forest == {'unique_uuid': 'acb0bb6e-fbf9-11ee-9b1e-c0e434d84b22', 'train_end': datetime.datetime(2023, 12, 29, 0, 0), 'test_start': datetime.datetime(2024, 1, 2, 0, 0), 'test_end': datetime.datetime(2024, 2, 8, 0, 0), 'duration_training_history': 180, 'target_column': 'growth', 'train_features': ['close_lag_1', 'close_max_3_days', 'close_min_3_days', 'close_mean_3_days'], 'path_to_result': '/diploma_info/datalake/', 'forecast_periods': 4, 'model_name': 'random_forest', 'model': RandomForestClassifier(max_depth=9, n_estimators=10, n_jobs=-1, random_state=2), 'forecast_frequency': 'daily', 'company': 'meta', 'model_hyperparameters': {'n_estimators': 10, 'n_jobs': -1, 'random_state': 2, 'max_depth': 9}, 'problem': 'classification'} \n",
      "\n",
      "(2965, 4) (2965, 1)\n",
      "random_forest\n"
     ]
    },
    {
     "name": "stderr",
     "output_type": "stream",
     "text": [
      "100%|██████████████████████████████████████████████████████████████████████████████████| 38/38 [00:02<00:00, 16.80it/s]\n"
     ]
    },
    {
     "name": "stdout",
     "output_type": "stream",
     "text": [
      "random_forest == {'unique_uuid': 'acb0bb6f-fbf9-11ee-a7e6-c0e434d84b22', 'train_end': datetime.datetime(2023, 12, 29, 0, 0), 'test_start': datetime.datetime(2024, 1, 2, 0, 0), 'test_end': datetime.datetime(2024, 2, 8, 0, 0), 'duration_training_history': 180, 'target_column': 'growth', 'train_features': ['close_lag_1', 'year', 'month', 'day', 'day_of_week', 'week_of_year'], 'path_to_result': '/diploma_info/datalake/', 'forecast_periods': 4, 'model_name': 'random_forest', 'model': RandomForestClassifier(max_depth=9, n_estimators=10, n_jobs=-1, random_state=2), 'forecast_frequency': 'daily', 'company': 'meta', 'model_hyperparameters': {'n_estimators': 10, 'n_jobs': -1, 'random_state': 2, 'max_depth': 9}, 'problem': 'classification'} \n",
      "\n",
      "(2965, 6) (2965, 1)\n",
      "random_forest\n"
     ]
    },
    {
     "name": "stderr",
     "output_type": "stream",
     "text": [
      "100%|██████████████████████████████████████████████████████████████████████████████████| 38/38 [00:02<00:00, 16.55it/s]\n"
     ]
    },
    {
     "name": "stdout",
     "output_type": "stream",
     "text": [
      "knear_neighbors == {'unique_uuid': 'acb0bb70-fbf9-11ee-b051-c0e434d84b22', 'train_end': datetime.datetime(2023, 12, 29, 0, 0), 'test_start': datetime.datetime(2024, 1, 2, 0, 0), 'test_end': datetime.datetime(2024, 2, 8, 0, 0), 'duration_training_history': 180, 'target_column': 'growth', 'train_features': ['close_lag_1', 'volume_lag_1'], 'path_to_result': '/diploma_info/datalake/', 'forecast_periods': 4, 'model_name': 'knear_neighbors', 'model': KNeighborsClassifier(n_jobs=-1, n_neighbors=9), 'forecast_frequency': 'daily', 'company': 'meta', 'model_hyperparameters': {'n_neighbors': 9, 'n_jobs': -1}, 'problem': 'classification'} \n",
      "\n",
      "(2965, 2) (2965, 1)\n",
      "knear_neighbors\n"
     ]
    },
    {
     "name": "stderr",
     "output_type": "stream",
     "text": [
      "100%|██████████████████████████████████████████████████████████████████████████████████| 38/38 [00:01<00:00, 37.26it/s]\n"
     ]
    },
    {
     "name": "stdout",
     "output_type": "stream",
     "text": [
      "knear_neighbors == {'unique_uuid': 'acb0bb71-fbf9-11ee-b071-c0e434d84b22', 'train_end': datetime.datetime(2023, 12, 29, 0, 0), 'test_start': datetime.datetime(2024, 1, 2, 0, 0), 'test_end': datetime.datetime(2024, 2, 8, 0, 0), 'duration_training_history': 180, 'target_column': 'growth', 'train_features': ['close_lag_1', 'close_max_3_days', 'close_min_3_days', 'close_mean_3_days'], 'path_to_result': '/diploma_info/datalake/', 'forecast_periods': 4, 'model_name': 'knear_neighbors', 'model': KNeighborsClassifier(n_jobs=-1, n_neighbors=9), 'forecast_frequency': 'daily', 'company': 'meta', 'model_hyperparameters': {'n_neighbors': 9, 'n_jobs': -1}, 'problem': 'classification'} \n",
      "\n",
      "(2965, 4) (2965, 1)\n",
      "knear_neighbors\n"
     ]
    },
    {
     "name": "stderr",
     "output_type": "stream",
     "text": [
      "100%|██████████████████████████████████████████████████████████████████████████████████| 38/38 [00:01<00:00, 34.63it/s]\n"
     ]
    },
    {
     "name": "stdout",
     "output_type": "stream",
     "text": [
      "knear_neighbors == {'unique_uuid': 'acb0bb72-fbf9-11ee-bd24-c0e434d84b22', 'train_end': datetime.datetime(2023, 12, 29, 0, 0), 'test_start': datetime.datetime(2024, 1, 2, 0, 0), 'test_end': datetime.datetime(2024, 2, 8, 0, 0), 'duration_training_history': 180, 'target_column': 'growth', 'train_features': ['close_lag_1', 'year', 'month', 'day', 'day_of_week', 'week_of_year'], 'path_to_result': '/diploma_info/datalake/', 'forecast_periods': 4, 'model_name': 'knear_neighbors', 'model': KNeighborsClassifier(n_jobs=-1, n_neighbors=9), 'forecast_frequency': 'daily', 'company': 'meta', 'model_hyperparameters': {'n_neighbors': 9, 'n_jobs': -1}, 'problem': 'classification'} \n",
      "\n",
      "(2965, 6) (2965, 1)\n",
      "knear_neighbors\n"
     ]
    },
    {
     "name": "stderr",
     "output_type": "stream",
     "text": [
      "100%|██████████████████████████████████████████████████████████████████████████████████| 38/38 [00:00<00:00, 38.02it/s]\n"
     ]
    },
    {
     "name": "stdout",
     "output_type": "stream",
     "text": [
      "xgboost == {'unique_uuid': 'acb0bb73-fbf9-11ee-b79b-c0e434d84b22', 'train_end': datetime.datetime(2023, 12, 29, 0, 0), 'test_start': datetime.datetime(2024, 1, 2, 0, 0), 'test_end': datetime.datetime(2024, 2, 8, 0, 0), 'duration_training_history': 240, 'target_column': 'growth', 'train_features': ['close_lag_1', 'volume_lag_1'], 'path_to_result': '/diploma_info/datalake/', 'forecast_periods': 4, 'model_name': 'xgboost', 'model': XGBClassifier(base_score=None, booster='gbtree', callbacks=None,\n",
      "              colsample_bylevel=None, colsample_bynode=None, colsample_bytree=1,\n",
      "              device=None, early_stopping_rounds=None, enable_categorical=False,\n",
      "              eta=0.3, eval_metric='rmse', feature_types=None, gamma=None,\n",
      "              grow_policy=None, importance_type=None,\n",
      "              interaction_constraints=None, learning_rate=None, max_bin=None,\n",
      "              max_cat_threshold=None, max_cat_to_onehot=None,\n",
      "              max_delta_step=None, max_depth=7, max_leaves=None,\n",
      "              min_child_weight=1, missing=nan, monotone_constraints=None,\n",
      "              multi_strategy=None, n_estimators=5000, n_jobs=-1,\n",
      "              num_parallel_tree=None, ...), 'forecast_frequency': 'daily', 'company': 'meta', 'model_hyperparameters': {'n_estimators': 5000, 'n_jobs': -1, 'max_depth': 7, 'eta': 0.3, 'booster': 'gbtree', 'objective': 'reg:squarederror', 'eval_metric': 'rmse', 'subsample': 1, 'colsample_bytree': 1, 'min_child_weight': 1, 'random_state': 2}, 'problem': 'classification'} \n",
      "\n",
      "(2965, 2) (2965, 1)\n",
      "xgboost\n"
     ]
    },
    {
     "name": "stderr",
     "output_type": "stream",
     "text": [
      "100%|██████████████████████████████████████████████████████████████████████████████████| 38/38 [00:34<00:00,  1.09it/s]\n"
     ]
    },
    {
     "name": "stdout",
     "output_type": "stream",
     "text": [
      "xgboost == {'unique_uuid': 'acb0bb74-fbf9-11ee-b477-c0e434d84b22', 'train_end': datetime.datetime(2023, 12, 29, 0, 0), 'test_start': datetime.datetime(2024, 1, 2, 0, 0), 'test_end': datetime.datetime(2024, 2, 8, 0, 0), 'duration_training_history': 240, 'target_column': 'growth', 'train_features': ['close_lag_1', 'close_max_3_days', 'close_min_3_days', 'close_mean_3_days'], 'path_to_result': '/diploma_info/datalake/', 'forecast_periods': 4, 'model_name': 'xgboost', 'model': XGBClassifier(base_score=None, booster='gbtree', callbacks=None,\n",
      "              colsample_bylevel=None, colsample_bynode=None, colsample_bytree=1,\n",
      "              device=None, early_stopping_rounds=None, enable_categorical=False,\n",
      "              eta=0.3, eval_metric='rmse', feature_types=None, gamma=None,\n",
      "              grow_policy=None, importance_type=None,\n",
      "              interaction_constraints=None, learning_rate=None, max_bin=None,\n",
      "              max_cat_threshold=None, max_cat_to_onehot=None,\n",
      "              max_delta_step=None, max_depth=7, max_leaves=None,\n",
      "              min_child_weight=1, missing=nan, monotone_constraints=None,\n",
      "              multi_strategy=None, n_estimators=5000, n_jobs=-1,\n",
      "              num_parallel_tree=None, ...), 'forecast_frequency': 'daily', 'company': 'meta', 'model_hyperparameters': {'n_estimators': 5000, 'n_jobs': -1, 'max_depth': 7, 'eta': 0.3, 'booster': 'gbtree', 'objective': 'reg:squarederror', 'eval_metric': 'rmse', 'subsample': 1, 'colsample_bytree': 1, 'min_child_weight': 1, 'random_state': 2}, 'problem': 'classification'} \n",
      "\n",
      "(2965, 4) (2965, 1)\n",
      "xgboost\n"
     ]
    },
    {
     "name": "stderr",
     "output_type": "stream",
     "text": [
      "100%|██████████████████████████████████████████████████████████████████████████████████| 38/38 [00:36<00:00,  1.03it/s]\n"
     ]
    },
    {
     "name": "stdout",
     "output_type": "stream",
     "text": [
      "xgboost == {'unique_uuid': 'acb0bb75-fbf9-11ee-ab92-c0e434d84b22', 'train_end': datetime.datetime(2023, 12, 29, 0, 0), 'test_start': datetime.datetime(2024, 1, 2, 0, 0), 'test_end': datetime.datetime(2024, 2, 8, 0, 0), 'duration_training_history': 240, 'target_column': 'growth', 'train_features': ['close_lag_1', 'year', 'month', 'day', 'day_of_week', 'week_of_year'], 'path_to_result': '/diploma_info/datalake/', 'forecast_periods': 4, 'model_name': 'xgboost', 'model': XGBClassifier(base_score=None, booster='gbtree', callbacks=None,\n",
      "              colsample_bylevel=None, colsample_bynode=None, colsample_bytree=1,\n",
      "              device=None, early_stopping_rounds=None, enable_categorical=False,\n",
      "              eta=0.3, eval_metric='rmse', feature_types=None, gamma=None,\n",
      "              grow_policy=None, importance_type=None,\n",
      "              interaction_constraints=None, learning_rate=None, max_bin=None,\n",
      "              max_cat_threshold=None, max_cat_to_onehot=None,\n",
      "              max_delta_step=None, max_depth=7, max_leaves=None,\n",
      "              min_child_weight=1, missing=nan, monotone_constraints=None,\n",
      "              multi_strategy=None, n_estimators=5000, n_jobs=-1,\n",
      "              num_parallel_tree=None, ...), 'forecast_frequency': 'daily', 'company': 'meta', 'model_hyperparameters': {'n_estimators': 5000, 'n_jobs': -1, 'max_depth': 7, 'eta': 0.3, 'booster': 'gbtree', 'objective': 'reg:squarederror', 'eval_metric': 'rmse', 'subsample': 1, 'colsample_bytree': 1, 'min_child_weight': 1, 'random_state': 2}, 'problem': 'classification'} \n",
      "\n",
      "(2965, 6) (2965, 1)\n",
      "xgboost\n"
     ]
    },
    {
     "name": "stderr",
     "output_type": "stream",
     "text": [
      "100%|██████████████████████████████████████████████████████████████████████████████████| 38/38 [00:38<00:00,  1.01s/it]\n"
     ]
    },
    {
     "name": "stdout",
     "output_type": "stream",
     "text": [
      "lightgbm == {'unique_uuid': 'acb0bb76-fbf9-11ee-b912-c0e434d84b22', 'train_end': datetime.datetime(2023, 12, 29, 0, 0), 'test_start': datetime.datetime(2024, 1, 2, 0, 0), 'test_end': datetime.datetime(2024, 2, 8, 0, 0), 'duration_training_history': 240, 'target_column': 'growth', 'train_features': ['close_lag_1', 'volume_lag_1'], 'path_to_result': '/diploma_info/datalake/', 'forecast_periods': 4, 'model_name': 'lightgbm', 'model': LGBMClassifier(eta=0.3, max_depth=7, metric='binary', n_estimators=5000,\n",
      "               n_jobs=-1, objective='binary', random_state=2, verbosity=-1), 'forecast_frequency': 'daily', 'company': 'meta', 'model_hyperparameters': {'n_estimators': 5000, 'n_jobs': -1, 'max_depth': 7, 'eta': 0.3, 'random_state': 2, 'objective': 'binary', 'verbosity': -1, 'metric': 'binary'}, 'problem': 'classification'} \n",
      "\n",
      "(2965, 2) (2965, 1)\n",
      "lightgbm\n"
     ]
    },
    {
     "name": "stderr",
     "output_type": "stream",
     "text": [
      "100%|██████████████████████████████████████████████████████████████████████████████████| 38/38 [00:26<00:00,  1.45it/s]\n"
     ]
    },
    {
     "name": "stdout",
     "output_type": "stream",
     "text": [
      "lightgbm == {'unique_uuid': 'acb0bb77-fbf9-11ee-a7db-c0e434d84b22', 'train_end': datetime.datetime(2023, 12, 29, 0, 0), 'test_start': datetime.datetime(2024, 1, 2, 0, 0), 'test_end': datetime.datetime(2024, 2, 8, 0, 0), 'duration_training_history': 240, 'target_column': 'growth', 'train_features': ['close_lag_1', 'close_max_3_days', 'close_min_3_days', 'close_mean_3_days'], 'path_to_result': '/diploma_info/datalake/', 'forecast_periods': 4, 'model_name': 'lightgbm', 'model': LGBMClassifier(eta=0.3, max_depth=7, metric='binary', n_estimators=5000,\n",
      "               n_jobs=-1, objective='binary', random_state=2, verbosity=-1), 'forecast_frequency': 'daily', 'company': 'meta', 'model_hyperparameters': {'n_estimators': 5000, 'n_jobs': -1, 'max_depth': 7, 'eta': 0.3, 'random_state': 2, 'objective': 'binary', 'verbosity': -1, 'metric': 'binary'}, 'problem': 'classification'} \n",
      "\n",
      "(2965, 4) (2965, 1)\n",
      "lightgbm\n"
     ]
    },
    {
     "name": "stderr",
     "output_type": "stream",
     "text": [
      "100%|██████████████████████████████████████████████████████████████████████████████████| 38/38 [00:27<00:00,  1.36it/s]\n"
     ]
    },
    {
     "name": "stdout",
     "output_type": "stream",
     "text": [
      "lightgbm == {'unique_uuid': 'acb0bb78-fbf9-11ee-98ac-c0e434d84b22', 'train_end': datetime.datetime(2023, 12, 29, 0, 0), 'test_start': datetime.datetime(2024, 1, 2, 0, 0), 'test_end': datetime.datetime(2024, 2, 8, 0, 0), 'duration_training_history': 240, 'target_column': 'growth', 'train_features': ['close_lag_1', 'year', 'month', 'day', 'day_of_week', 'week_of_year'], 'path_to_result': '/diploma_info/datalake/', 'forecast_periods': 4, 'model_name': 'lightgbm', 'model': LGBMClassifier(eta=0.3, max_depth=7, metric='binary', n_estimators=5000,\n",
      "               n_jobs=-1, objective='binary', random_state=2, verbosity=-1), 'forecast_frequency': 'daily', 'company': 'meta', 'model_hyperparameters': {'n_estimators': 5000, 'n_jobs': -1, 'max_depth': 7, 'eta': 0.3, 'random_state': 2, 'objective': 'binary', 'verbosity': -1, 'metric': 'binary'}, 'problem': 'classification'} \n",
      "\n",
      "(2965, 6) (2965, 1)\n",
      "lightgbm\n"
     ]
    },
    {
     "name": "stderr",
     "output_type": "stream",
     "text": [
      "100%|██████████████████████████████████████████████████████████████████████████████████| 38/38 [00:25<00:00,  1.47it/s]\n"
     ]
    },
    {
     "name": "stdout",
     "output_type": "stream",
     "text": [
      "lightgbm == {'unique_uuid': 'acb0bb79-fbf9-11ee-ae17-c0e434d84b22', 'train_end': datetime.datetime(2023, 12, 29, 0, 0), 'test_start': datetime.datetime(2024, 1, 2, 0, 0), 'test_end': datetime.datetime(2024, 2, 8, 0, 0), 'duration_training_history': 240, 'target_column': 'growth', 'train_features': ['close_lag_1', 'volume_lag_1'], 'path_to_result': '/diploma_info/datalake/', 'forecast_periods': 4, 'model_name': 'lightgbm', 'model': LGBMClassifier(eta=0.3, max_depth=9, metric='binary', n_estimators=5000,\n",
      "               n_jobs=-1, objective='binary', random_state=2, verbosity=-1), 'forecast_frequency': 'daily', 'company': 'meta', 'model_hyperparameters': {'n_estimators': 5000, 'n_jobs': -1, 'max_depth': 9, 'eta': 0.3, 'random_state': 2, 'objective': 'binary', 'verbosity': -1, 'metric': 'binary'}, 'problem': 'classification'} \n",
      "\n",
      "(2965, 2) (2965, 1)\n",
      "lightgbm\n"
     ]
    },
    {
     "name": "stderr",
     "output_type": "stream",
     "text": [
      "100%|██████████████████████████████████████████████████████████████████████████████████| 38/38 [00:26<00:00,  1.43it/s]\n"
     ]
    },
    {
     "name": "stdout",
     "output_type": "stream",
     "text": [
      "lightgbm == {'unique_uuid': 'acb0bb7a-fbf9-11ee-b1da-c0e434d84b22', 'train_end': datetime.datetime(2023, 12, 29, 0, 0), 'test_start': datetime.datetime(2024, 1, 2, 0, 0), 'test_end': datetime.datetime(2024, 2, 8, 0, 0), 'duration_training_history': 240, 'target_column': 'growth', 'train_features': ['close_lag_1', 'close_max_3_days', 'close_min_3_days', 'close_mean_3_days'], 'path_to_result': '/diploma_info/datalake/', 'forecast_periods': 4, 'model_name': 'lightgbm', 'model': LGBMClassifier(eta=0.3, max_depth=9, metric='binary', n_estimators=5000,\n",
      "               n_jobs=-1, objective='binary', random_state=2, verbosity=-1), 'forecast_frequency': 'daily', 'company': 'meta', 'model_hyperparameters': {'n_estimators': 5000, 'n_jobs': -1, 'max_depth': 9, 'eta': 0.3, 'random_state': 2, 'objective': 'binary', 'verbosity': -1, 'metric': 'binary'}, 'problem': 'classification'} \n",
      "\n",
      "(2965, 4) (2965, 1)\n",
      "lightgbm\n"
     ]
    },
    {
     "name": "stderr",
     "output_type": "stream",
     "text": [
      "100%|██████████████████████████████████████████████████████████████████████████████████| 38/38 [00:27<00:00,  1.37it/s]\n"
     ]
    },
    {
     "name": "stdout",
     "output_type": "stream",
     "text": [
      "lightgbm == {'unique_uuid': 'acb0bb7b-fbf9-11ee-950a-c0e434d84b22', 'train_end': datetime.datetime(2023, 12, 29, 0, 0), 'test_start': datetime.datetime(2024, 1, 2, 0, 0), 'test_end': datetime.datetime(2024, 2, 8, 0, 0), 'duration_training_history': 240, 'target_column': 'growth', 'train_features': ['close_lag_1', 'year', 'month', 'day', 'day_of_week', 'week_of_year'], 'path_to_result': '/diploma_info/datalake/', 'forecast_periods': 4, 'model_name': 'lightgbm', 'model': LGBMClassifier(eta=0.3, max_depth=9, metric='binary', n_estimators=5000,\n",
      "               n_jobs=-1, objective='binary', random_state=2, verbosity=-1), 'forecast_frequency': 'daily', 'company': 'meta', 'model_hyperparameters': {'n_estimators': 5000, 'n_jobs': -1, 'max_depth': 9, 'eta': 0.3, 'random_state': 2, 'objective': 'binary', 'verbosity': -1, 'metric': 'binary'}, 'problem': 'classification'} \n",
      "\n",
      "(2965, 6) (2965, 1)\n",
      "lightgbm\n"
     ]
    },
    {
     "name": "stderr",
     "output_type": "stream",
     "text": [
      "100%|██████████████████████████████████████████████████████████████████████████████████| 38/38 [00:26<00:00,  1.45it/s]\n"
     ]
    },
    {
     "name": "stdout",
     "output_type": "stream",
     "text": [
      "random_forest == {'unique_uuid': 'acb0bb7c-fbf9-11ee-953f-c0e434d84b22', 'train_end': datetime.datetime(2023, 12, 29, 0, 0), 'test_start': datetime.datetime(2024, 1, 2, 0, 0), 'test_end': datetime.datetime(2024, 2, 8, 0, 0), 'duration_training_history': 240, 'target_column': 'growth', 'train_features': ['close_lag_1', 'volume_lag_1'], 'path_to_result': '/diploma_info/datalake/', 'forecast_periods': 4, 'model_name': 'random_forest', 'model': RandomForestClassifier(max_depth=9, n_estimators=10, n_jobs=-1, random_state=2), 'forecast_frequency': 'daily', 'company': 'meta', 'model_hyperparameters': {'n_estimators': 10, 'n_jobs': -1, 'random_state': 2, 'max_depth': 9}, 'problem': 'classification'} \n",
      "\n",
      "(2965, 2) (2965, 1)\n",
      "random_forest\n"
     ]
    },
    {
     "name": "stderr",
     "output_type": "stream",
     "text": [
      "100%|██████████████████████████████████████████████████████████████████████████████████| 38/38 [00:02<00:00, 14.45it/s]\n"
     ]
    },
    {
     "name": "stdout",
     "output_type": "stream",
     "text": [
      "random_forest == {'unique_uuid': 'acb0bb7d-fbf9-11ee-ac29-c0e434d84b22', 'train_end': datetime.datetime(2023, 12, 29, 0, 0), 'test_start': datetime.datetime(2024, 1, 2, 0, 0), 'test_end': datetime.datetime(2024, 2, 8, 0, 0), 'duration_training_history': 240, 'target_column': 'growth', 'train_features': ['close_lag_1', 'close_max_3_days', 'close_min_3_days', 'close_mean_3_days'], 'path_to_result': '/diploma_info/datalake/', 'forecast_periods': 4, 'model_name': 'random_forest', 'model': RandomForestClassifier(max_depth=9, n_estimators=10, n_jobs=-1, random_state=2), 'forecast_frequency': 'daily', 'company': 'meta', 'model_hyperparameters': {'n_estimators': 10, 'n_jobs': -1, 'random_state': 2, 'max_depth': 9}, 'problem': 'classification'} \n",
      "\n",
      "(2965, 4) (2965, 1)\n",
      "random_forest\n"
     ]
    },
    {
     "name": "stderr",
     "output_type": "stream",
     "text": [
      "100%|██████████████████████████████████████████████████████████████████████████████████| 38/38 [00:02<00:00, 15.61it/s]\n"
     ]
    },
    {
     "name": "stdout",
     "output_type": "stream",
     "text": [
      "random_forest == {'unique_uuid': 'acb0bb7e-fbf9-11ee-9aa9-c0e434d84b22', 'train_end': datetime.datetime(2023, 12, 29, 0, 0), 'test_start': datetime.datetime(2024, 1, 2, 0, 0), 'test_end': datetime.datetime(2024, 2, 8, 0, 0), 'duration_training_history': 240, 'target_column': 'growth', 'train_features': ['close_lag_1', 'year', 'month', 'day', 'day_of_week', 'week_of_year'], 'path_to_result': '/diploma_info/datalake/', 'forecast_periods': 4, 'model_name': 'random_forest', 'model': RandomForestClassifier(max_depth=9, n_estimators=10, n_jobs=-1, random_state=2), 'forecast_frequency': 'daily', 'company': 'meta', 'model_hyperparameters': {'n_estimators': 10, 'n_jobs': -1, 'random_state': 2, 'max_depth': 9}, 'problem': 'classification'} \n",
      "\n",
      "(2965, 6) (2965, 1)\n",
      "random_forest\n"
     ]
    },
    {
     "name": "stderr",
     "output_type": "stream",
     "text": [
      "100%|██████████████████████████████████████████████████████████████████████████████████| 38/38 [00:02<00:00, 15.58it/s]\n"
     ]
    },
    {
     "name": "stdout",
     "output_type": "stream",
     "text": [
      "knear_neighbors == {'unique_uuid': 'acb0bb7f-fbf9-11ee-bb8f-c0e434d84b22', 'train_end': datetime.datetime(2023, 12, 29, 0, 0), 'test_start': datetime.datetime(2024, 1, 2, 0, 0), 'test_end': datetime.datetime(2024, 2, 8, 0, 0), 'duration_training_history': 240, 'target_column': 'growth', 'train_features': ['close_lag_1', 'volume_lag_1'], 'path_to_result': '/diploma_info/datalake/', 'forecast_periods': 4, 'model_name': 'knear_neighbors', 'model': KNeighborsClassifier(n_jobs=-1, n_neighbors=9), 'forecast_frequency': 'daily', 'company': 'meta', 'model_hyperparameters': {'n_neighbors': 9, 'n_jobs': -1}, 'problem': 'classification'} \n",
      "\n",
      "(2965, 2) (2965, 1)\n",
      "knear_neighbors\n"
     ]
    },
    {
     "name": "stderr",
     "output_type": "stream",
     "text": [
      "100%|██████████████████████████████████████████████████████████████████████████████████| 38/38 [00:01<00:00, 33.95it/s]\n"
     ]
    },
    {
     "name": "stdout",
     "output_type": "stream",
     "text": [
      "knear_neighbors == {'unique_uuid': 'acb0bb80-fbf9-11ee-8cc0-c0e434d84b22', 'train_end': datetime.datetime(2023, 12, 29, 0, 0), 'test_start': datetime.datetime(2024, 1, 2, 0, 0), 'test_end': datetime.datetime(2024, 2, 8, 0, 0), 'duration_training_history': 240, 'target_column': 'growth', 'train_features': ['close_lag_1', 'close_max_3_days', 'close_min_3_days', 'close_mean_3_days'], 'path_to_result': '/diploma_info/datalake/', 'forecast_periods': 4, 'model_name': 'knear_neighbors', 'model': KNeighborsClassifier(n_jobs=-1, n_neighbors=9), 'forecast_frequency': 'daily', 'company': 'meta', 'model_hyperparameters': {'n_neighbors': 9, 'n_jobs': -1}, 'problem': 'classification'} \n",
      "\n",
      "(2965, 4) (2965, 1)\n",
      "knear_neighbors\n"
     ]
    },
    {
     "name": "stderr",
     "output_type": "stream",
     "text": [
      "100%|██████████████████████████████████████████████████████████████████████████████████| 38/38 [00:01<00:00, 30.61it/s]\n"
     ]
    },
    {
     "name": "stdout",
     "output_type": "stream",
     "text": [
      "knear_neighbors == {'unique_uuid': 'acb0bb81-fbf9-11ee-9311-c0e434d84b22', 'train_end': datetime.datetime(2023, 12, 29, 0, 0), 'test_start': datetime.datetime(2024, 1, 2, 0, 0), 'test_end': datetime.datetime(2024, 2, 8, 0, 0), 'duration_training_history': 240, 'target_column': 'growth', 'train_features': ['close_lag_1', 'year', 'month', 'day', 'day_of_week', 'week_of_year'], 'path_to_result': '/diploma_info/datalake/', 'forecast_periods': 4, 'model_name': 'knear_neighbors', 'model': KNeighborsClassifier(n_jobs=-1, n_neighbors=9), 'forecast_frequency': 'daily', 'company': 'meta', 'model_hyperparameters': {'n_neighbors': 9, 'n_jobs': -1}, 'problem': 'classification'} \n",
      "\n",
      "(2965, 6) (2965, 1)\n",
      "knear_neighbors\n"
     ]
    },
    {
     "name": "stderr",
     "output_type": "stream",
     "text": [
      "100%|██████████████████████████████████████████████████████████████████████████████████| 38/38 [00:01<00:00, 35.56it/s]\n"
     ]
    },
    {
     "name": "stdout",
     "output_type": "stream",
     "text": [
      "company: NETFLIX\t period: daily\t train ends: 2023-12-29 00:00:00\t test starts: 2024-01-02 00:00:00\n",
      "_research_task_uuid = ec469e6f-fbfb-11ee-bf59-c0e434d84b22\n",
      "\n",
      "count_configs 48 \n",
      "\n",
      "xgboost == {'unique_uuid': 'ec469e70-fbfb-11ee-bd5d-c0e434d84b22', 'train_end': datetime.datetime(2023, 12, 29, 0, 0), 'test_start': datetime.datetime(2024, 1, 2, 0, 0), 'test_end': datetime.datetime(2024, 2, 8, 0, 0), 'duration_training_history': 90, 'target_column': 'growth', 'train_features': ['close_lag_1', 'close_max_3_days', 'close_min_3_days', 'close_mean_3_days'], 'path_to_result': '/diploma_info/datalake/', 'forecast_periods': 4, 'model_name': 'xgboost', 'model': XGBClassifier(base_score=None, booster='gbtree', callbacks=None,\n",
      "              colsample_bylevel=None, colsample_bynode=None, colsample_bytree=1,\n",
      "              device=None, early_stopping_rounds=None, enable_categorical=False,\n",
      "              eta=0.3, eval_metric='rmse', feature_types=None, gamma=None,\n",
      "              grow_policy=None, importance_type=None,\n",
      "              interaction_constraints=None, learning_rate=None, max_bin=None,\n",
      "              max_cat_threshold=None, max_cat_to_onehot=None,\n",
      "              max_delta_step=None, max_depth=9, max_leaves=None,\n",
      "              min_child_weight=1, missing=nan, monotone_constraints=None,\n",
      "              multi_strategy=None, n_estimators=200, n_jobs=-1,\n",
      "              num_parallel_tree=None, ...), 'forecast_frequency': 'daily', 'company': 'netflix', 'model_hyperparameters': {'n_estimators': 200, 'n_jobs': -1, 'max_depth': 9, 'eta': 0.3, 'booster': 'gbtree', 'objective': 'reg:squarederror', 'eval_metric': 'rmse', 'subsample': 1, 'colsample_bytree': 1, 'min_child_weight': 1, 'random_state': 2}, 'problem': 'classification'} \n",
      "\n",
      "(5481, 4) (5481, 1)\n",
      "xgboost\n"
     ]
    },
    {
     "name": "stderr",
     "output_type": "stream",
     "text": [
      "100%|██████████████████████████████████████████████████████████████████████████████████| 38/38 [00:02<00:00, 14.39it/s]\n"
     ]
    },
    {
     "name": "stdout",
     "output_type": "stream",
     "text": [
      "xgboost == {'unique_uuid': 'ec469e71-fbfb-11ee-a02a-c0e434d84b22', 'train_end': datetime.datetime(2023, 12, 29, 0, 0), 'test_start': datetime.datetime(2024, 1, 2, 0, 0), 'test_end': datetime.datetime(2024, 2, 8, 0, 0), 'duration_training_history': 90, 'target_column': 'growth', 'train_features': ['close_lag_1', 'year', 'month', 'day', 'day_of_week', 'week_of_year'], 'path_to_result': '/diploma_info/datalake/', 'forecast_periods': 4, 'model_name': 'xgboost', 'model': XGBClassifier(base_score=None, booster='gbtree', callbacks=None,\n",
      "              colsample_bylevel=None, colsample_bynode=None, colsample_bytree=1,\n",
      "              device=None, early_stopping_rounds=None, enable_categorical=False,\n",
      "              eta=0.3, eval_metric='rmse', feature_types=None, gamma=None,\n",
      "              grow_policy=None, importance_type=None,\n",
      "              interaction_constraints=None, learning_rate=None, max_bin=None,\n",
      "              max_cat_threshold=None, max_cat_to_onehot=None,\n",
      "              max_delta_step=None, max_depth=9, max_leaves=None,\n",
      "              min_child_weight=1, missing=nan, monotone_constraints=None,\n",
      "              multi_strategy=None, n_estimators=200, n_jobs=-1,\n",
      "              num_parallel_tree=None, ...), 'forecast_frequency': 'daily', 'company': 'netflix', 'model_hyperparameters': {'n_estimators': 200, 'n_jobs': -1, 'max_depth': 9, 'eta': 0.3, 'booster': 'gbtree', 'objective': 'reg:squarederror', 'eval_metric': 'rmse', 'subsample': 1, 'colsample_bytree': 1, 'min_child_weight': 1, 'random_state': 2}, 'problem': 'classification'} \n",
      "\n",
      "(5481, 6) (5481, 1)\n",
      "xgboost\n"
     ]
    },
    {
     "name": "stderr",
     "output_type": "stream",
     "text": [
      "100%|██████████████████████████████████████████████████████████████████████████████████| 38/38 [00:02<00:00, 14.63it/s]\n"
     ]
    },
    {
     "name": "stdout",
     "output_type": "stream",
     "text": [
      "lightgbm == {'unique_uuid': 'ec469e72-fbfb-11ee-875f-c0e434d84b22', 'train_end': datetime.datetime(2023, 12, 29, 0, 0), 'test_start': datetime.datetime(2024, 1, 2, 0, 0), 'test_end': datetime.datetime(2024, 2, 8, 0, 0), 'duration_training_history': 90, 'target_column': 'growth', 'train_features': ['close_lag_1', 'close_max_3_days', 'close_min_3_days', 'close_mean_3_days'], 'path_to_result': '/diploma_info/datalake/', 'forecast_periods': 4, 'model_name': 'lightgbm', 'model': LGBMClassifier(eta=0.3, max_depth=9, metric='binary', n_estimators=10,\n",
      "               n_jobs=-1, objective='binary', random_state=2, verbosity=-1), 'forecast_frequency': 'daily', 'company': 'netflix', 'model_hyperparameters': {'n_estimators': 10, 'n_jobs': -1, 'max_depth': 9, 'eta': 0.3, 'random_state': 2, 'objective': 'binary', 'verbosity': -1, 'metric': 'binary'}, 'problem': 'classification'} \n",
      "\n",
      "(5481, 4) (5481, 1)\n",
      "lightgbm\n"
     ]
    },
    {
     "name": "stderr",
     "output_type": "stream",
     "text": [
      "100%|██████████████████████████████████████████████████████████████████████████████████| 38/38 [00:00<00:00, 45.72it/s]\n"
     ]
    },
    {
     "name": "stdout",
     "output_type": "stream",
     "text": [
      "lightgbm == {'unique_uuid': 'ec469e73-fbfb-11ee-920f-c0e434d84b22', 'train_end': datetime.datetime(2023, 12, 29, 0, 0), 'test_start': datetime.datetime(2024, 1, 2, 0, 0), 'test_end': datetime.datetime(2024, 2, 8, 0, 0), 'duration_training_history': 90, 'target_column': 'growth', 'train_features': ['close_lag_1', 'year', 'month', 'day', 'day_of_week', 'week_of_year'], 'path_to_result': '/diploma_info/datalake/', 'forecast_periods': 4, 'model_name': 'lightgbm', 'model': LGBMClassifier(eta=0.3, max_depth=9, metric='binary', n_estimators=10,\n",
      "               n_jobs=-1, objective='binary', random_state=2, verbosity=-1), 'forecast_frequency': 'daily', 'company': 'netflix', 'model_hyperparameters': {'n_estimators': 10, 'n_jobs': -1, 'max_depth': 9, 'eta': 0.3, 'random_state': 2, 'objective': 'binary', 'verbosity': -1, 'metric': 'binary'}, 'problem': 'classification'} \n",
      "\n",
      "(5481, 6) (5481, 1)\n",
      "lightgbm\n"
     ]
    },
    {
     "name": "stderr",
     "output_type": "stream",
     "text": [
      "100%|██████████████████████████████████████████████████████████████████████████████████| 38/38 [00:00<00:00, 53.90it/s]\n"
     ]
    },
    {
     "name": "stdout",
     "output_type": "stream",
     "text": [
      "lightgbm == {'unique_uuid': 'ec469e74-fbfb-11ee-b252-c0e434d84b22', 'train_end': datetime.datetime(2023, 12, 29, 0, 0), 'test_start': datetime.datetime(2024, 1, 2, 0, 0), 'test_end': datetime.datetime(2024, 2, 8, 0, 0), 'duration_training_history': 90, 'target_column': 'growth', 'train_features': ['close_lag_1', 'close_max_3_days', 'close_min_3_days', 'close_mean_3_days'], 'path_to_result': '/diploma_info/datalake/', 'forecast_periods': 4, 'model_name': 'lightgbm', 'model': LGBMClassifier(eta=0.3, max_depth=9, metric='binary', n_estimators=5000,\n",
      "               n_jobs=-1, objective='binary', random_state=2, verbosity=-1), 'forecast_frequency': 'daily', 'company': 'netflix', 'model_hyperparameters': {'n_estimators': 5000, 'n_jobs': -1, 'max_depth': 9, 'eta': 0.3, 'random_state': 2, 'objective': 'binary', 'verbosity': -1, 'metric': 'binary'}, 'problem': 'classification'} \n",
      "\n",
      "(5481, 4) (5481, 1)\n",
      "lightgbm\n"
     ]
    },
    {
     "name": "stderr",
     "output_type": "stream",
     "text": [
      "100%|██████████████████████████████████████████████████████████████████████████████████| 38/38 [00:13<00:00,  2.76it/s]\n"
     ]
    },
    {
     "name": "stdout",
     "output_type": "stream",
     "text": [
      "lightgbm == {'unique_uuid': 'ec469e75-fbfb-11ee-babc-c0e434d84b22', 'train_end': datetime.datetime(2023, 12, 29, 0, 0), 'test_start': datetime.datetime(2024, 1, 2, 0, 0), 'test_end': datetime.datetime(2024, 2, 8, 0, 0), 'duration_training_history': 90, 'target_column': 'growth', 'train_features': ['close_lag_1', 'year', 'month', 'day', 'day_of_week', 'week_of_year'], 'path_to_result': '/diploma_info/datalake/', 'forecast_periods': 4, 'model_name': 'lightgbm', 'model': LGBMClassifier(eta=0.3, max_depth=9, metric='binary', n_estimators=5000,\n",
      "               n_jobs=-1, objective='binary', random_state=2, verbosity=-1), 'forecast_frequency': 'daily', 'company': 'netflix', 'model_hyperparameters': {'n_estimators': 5000, 'n_jobs': -1, 'max_depth': 9, 'eta': 0.3, 'random_state': 2, 'objective': 'binary', 'verbosity': -1, 'metric': 'binary'}, 'problem': 'classification'} \n",
      "\n",
      "(5481, 6) (5481, 1)\n",
      "lightgbm\n"
     ]
    },
    {
     "name": "stderr",
     "output_type": "stream",
     "text": [
      "100%|██████████████████████████████████████████████████████████████████████████████████| 38/38 [00:13<00:00,  2.77it/s]\n"
     ]
    },
    {
     "name": "stdout",
     "output_type": "stream",
     "text": [
      "random_forest == {'unique_uuid': 'ec469e76-fbfb-11ee-9616-c0e434d84b22', 'train_end': datetime.datetime(2023, 12, 29, 0, 0), 'test_start': datetime.datetime(2024, 1, 2, 0, 0), 'test_end': datetime.datetime(2024, 2, 8, 0, 0), 'duration_training_history': 90, 'target_column': 'growth', 'train_features': ['close_lag_1', 'close_max_3_days', 'close_min_3_days', 'close_mean_3_days'], 'path_to_result': '/diploma_info/datalake/', 'forecast_periods': 4, 'model_name': 'random_forest', 'model': RandomForestClassifier(max_depth=7, n_estimators=10, n_jobs=-1, random_state=2), 'forecast_frequency': 'daily', 'company': 'netflix', 'model_hyperparameters': {'n_estimators': 10, 'n_jobs': -1, 'random_state': 2, 'max_depth': 7}, 'problem': 'classification'} \n",
      "\n",
      "(5481, 4) (5481, 1)\n",
      "random_forest\n"
     ]
    },
    {
     "name": "stderr",
     "output_type": "stream",
     "text": [
      "100%|██████████████████████████████████████████████████████████████████████████████████| 38/38 [00:02<00:00, 16.08it/s]\n"
     ]
    },
    {
     "name": "stdout",
     "output_type": "stream",
     "text": [
      "random_forest == {'unique_uuid': 'ec469e77-fbfb-11ee-ae3c-c0e434d84b22', 'train_end': datetime.datetime(2023, 12, 29, 0, 0), 'test_start': datetime.datetime(2024, 1, 2, 0, 0), 'test_end': datetime.datetime(2024, 2, 8, 0, 0), 'duration_training_history': 90, 'target_column': 'growth', 'train_features': ['close_lag_1', 'year', 'month', 'day', 'day_of_week', 'week_of_year'], 'path_to_result': '/diploma_info/datalake/', 'forecast_periods': 4, 'model_name': 'random_forest', 'model': RandomForestClassifier(max_depth=7, n_estimators=10, n_jobs=-1, random_state=2), 'forecast_frequency': 'daily', 'company': 'netflix', 'model_hyperparameters': {'n_estimators': 10, 'n_jobs': -1, 'random_state': 2, 'max_depth': 7}, 'problem': 'classification'} \n",
      "\n",
      "(5481, 6) (5481, 1)\n",
      "random_forest\n"
     ]
    },
    {
     "name": "stderr",
     "output_type": "stream",
     "text": [
      "100%|██████████████████████████████████████████████████████████████████████████████████| 38/38 [00:02<00:00, 17.38it/s]\n"
     ]
    },
    {
     "name": "stdout",
     "output_type": "stream",
     "text": [
      "knear_neighbors == {'unique_uuid': 'ec469e78-fbfb-11ee-9d91-c0e434d84b22', 'train_end': datetime.datetime(2023, 12, 29, 0, 0), 'test_start': datetime.datetime(2024, 1, 2, 0, 0), 'test_end': datetime.datetime(2024, 2, 8, 0, 0), 'duration_training_history': 90, 'target_column': 'growth', 'train_features': ['close_lag_1', 'close_max_3_days', 'close_min_3_days', 'close_mean_3_days'], 'path_to_result': '/diploma_info/datalake/', 'forecast_periods': 4, 'model_name': 'knear_neighbors', 'model': KNeighborsClassifier(n_jobs=-1, n_neighbors=3), 'forecast_frequency': 'daily', 'company': 'netflix', 'model_hyperparameters': {'n_neighbors': 3, 'n_jobs': -1}, 'problem': 'classification'} \n",
      "\n",
      "(5481, 4) (5481, 1)\n",
      "knear_neighbors\n"
     ]
    },
    {
     "name": "stderr",
     "output_type": "stream",
     "text": [
      "100%|██████████████████████████████████████████████████████████████████████████████████| 38/38 [00:01<00:00, 33.48it/s]\n"
     ]
    },
    {
     "name": "stdout",
     "output_type": "stream",
     "text": [
      "knear_neighbors == {'unique_uuid': 'ec469e79-fbfb-11ee-888a-c0e434d84b22', 'train_end': datetime.datetime(2023, 12, 29, 0, 0), 'test_start': datetime.datetime(2024, 1, 2, 0, 0), 'test_end': datetime.datetime(2024, 2, 8, 0, 0), 'duration_training_history': 90, 'target_column': 'growth', 'train_features': ['close_lag_1', 'year', 'month', 'day', 'day_of_week', 'week_of_year'], 'path_to_result': '/diploma_info/datalake/', 'forecast_periods': 4, 'model_name': 'knear_neighbors', 'model': KNeighborsClassifier(n_jobs=-1, n_neighbors=3), 'forecast_frequency': 'daily', 'company': 'netflix', 'model_hyperparameters': {'n_neighbors': 3, 'n_jobs': -1}, 'problem': 'classification'} \n",
      "\n",
      "(5481, 6) (5481, 1)\n",
      "knear_neighbors\n"
     ]
    },
    {
     "name": "stderr",
     "output_type": "stream",
     "text": [
      "100%|██████████████████████████████████████████████████████████████████████████████████| 38/38 [00:01<00:00, 34.61it/s]\n"
     ]
    },
    {
     "name": "stdout",
     "output_type": "stream",
     "text": [
      "knear_neighbors == {'unique_uuid': 'ec469e7a-fbfb-11ee-9c0e-c0e434d84b22', 'train_end': datetime.datetime(2023, 12, 29, 0, 0), 'test_start': datetime.datetime(2024, 1, 2, 0, 0), 'test_end': datetime.datetime(2024, 2, 8, 0, 0), 'duration_training_history': 90, 'target_column': 'growth', 'train_features': ['close_lag_1', 'close_max_3_days', 'close_min_3_days', 'close_mean_3_days'], 'path_to_result': '/diploma_info/datalake/', 'forecast_periods': 4, 'model_name': 'knear_neighbors', 'model': KNeighborsClassifier(n_jobs=-1, n_neighbors=50), 'forecast_frequency': 'daily', 'company': 'netflix', 'model_hyperparameters': {'n_neighbors': 50, 'n_jobs': -1}, 'problem': 'classification'} \n",
      "\n",
      "(5481, 4) (5481, 1)\n",
      "knear_neighbors\n"
     ]
    },
    {
     "name": "stderr",
     "output_type": "stream",
     "text": [
      "100%|█████████████████████████████████████████████████████████████████████████████████| 38/38 [00:00<00:00, 107.59it/s]\n"
     ]
    },
    {
     "name": "stdout",
     "output_type": "stream",
     "text": [
      "Expected n_neighbors <= n_samples_fit, but n_neighbors = 50, n_samples_fit = 49, n_samples = 5\n",
      "Expected n_neighbors <= n_samples_fit, but n_neighbors = 50, n_samples_fit = 48, n_samples = 4\n",
      "Expected n_neighbors <= n_samples_fit, but n_neighbors = 50, n_samples_fit = 48, n_samples = 3\n",
      "Expected n_neighbors <= n_samples_fit, but n_neighbors = 50, n_samples_fit = 48, n_samples = 3\n",
      "Expected n_neighbors <= n_samples_fit, but n_neighbors = 50, n_samples_fit = 47, n_samples = 3\n",
      "Expected n_neighbors <= n_samples_fit, but n_neighbors = 50, n_samples_fit = 46, n_samples = 3\n",
      "Expected n_neighbors <= n_samples_fit, but n_neighbors = 50, n_samples_fit = 45, n_samples = 4\n",
      "Expected n_neighbors <= n_samples_fit, but n_neighbors = 50, n_samples_fit = 44, n_samples = 5\n",
      "Expected n_neighbors <= n_samples_fit, but n_neighbors = 50, n_samples_fit = 43, n_samples = 4\n",
      "Expected n_neighbors <= n_samples_fit, but n_neighbors = 50, n_samples_fit = 43, n_samples = 3\n",
      "Expected n_neighbors <= n_samples_fit, but n_neighbors = 50, n_samples_fit = 43, n_samples = 3\n",
      "Expected n_neighbors <= n_samples_fit, but n_neighbors = 50, n_samples_fit = 42, n_samples = 3\n",
      "Expected n_neighbors <= n_samples_fit, but n_neighbors = 50, n_samples_fit = 41, n_samples = 3\n",
      "Expected n_neighbors <= n_samples_fit, but n_neighbors = 50, n_samples_fit = 40, n_samples = 4\n",
      "Expected n_neighbors <= n_samples_fit, but n_neighbors = 50, n_samples_fit = 39, n_samples = 5\n",
      "Expected n_neighbors <= n_samples_fit, but n_neighbors = 50, n_samples_fit = 38, n_samples = 4\n",
      "Expected n_neighbors <= n_samples_fit, but n_neighbors = 50, n_samples_fit = 38, n_samples = 3\n",
      "Expected n_neighbors <= n_samples_fit, but n_neighbors = 50, n_samples_fit = 38, n_samples = 3\n",
      "knear_neighbors == {'unique_uuid': 'ec469e7b-fbfb-11ee-ab7c-c0e434d84b22', 'train_end': datetime.datetime(2023, 12, 29, 0, 0), 'test_start': datetime.datetime(2024, 1, 2, 0, 0), 'test_end': datetime.datetime(2024, 2, 8, 0, 0), 'duration_training_history': 90, 'target_column': 'growth', 'train_features': ['close_lag_1', 'year', 'month', 'day', 'day_of_week', 'week_of_year'], 'path_to_result': '/diploma_info/datalake/', 'forecast_periods': 4, 'model_name': 'knear_neighbors', 'model': KNeighborsClassifier(n_jobs=-1, n_neighbors=50), 'forecast_frequency': 'daily', 'company': 'netflix', 'model_hyperparameters': {'n_neighbors': 50, 'n_jobs': -1}, 'problem': 'classification'} \n",
      "\n",
      "(5481, 6) (5481, 1)\n",
      "knear_neighbors\n"
     ]
    },
    {
     "name": "stderr",
     "output_type": "stream",
     "text": [
      "100%|█████████████████████████████████████████████████████████████████████████████████| 38/38 [00:00<00:00, 138.67it/s]\n"
     ]
    },
    {
     "name": "stdout",
     "output_type": "stream",
     "text": [
      "Expected n_neighbors <= n_samples_fit, but n_neighbors = 50, n_samples_fit = 49, n_samples = 5\n",
      "Expected n_neighbors <= n_samples_fit, but n_neighbors = 50, n_samples_fit = 48, n_samples = 4\n",
      "Expected n_neighbors <= n_samples_fit, but n_neighbors = 50, n_samples_fit = 48, n_samples = 3\n",
      "Expected n_neighbors <= n_samples_fit, but n_neighbors = 50, n_samples_fit = 48, n_samples = 3\n",
      "Expected n_neighbors <= n_samples_fit, but n_neighbors = 50, n_samples_fit = 47, n_samples = 3\n",
      "Expected n_neighbors <= n_samples_fit, but n_neighbors = 50, n_samples_fit = 46, n_samples = 3\n",
      "Expected n_neighbors <= n_samples_fit, but n_neighbors = 50, n_samples_fit = 45, n_samples = 4\n",
      "Expected n_neighbors <= n_samples_fit, but n_neighbors = 50, n_samples_fit = 44, n_samples = 5\n",
      "Expected n_neighbors <= n_samples_fit, but n_neighbors = 50, n_samples_fit = 43, n_samples = 4\n",
      "Expected n_neighbors <= n_samples_fit, but n_neighbors = 50, n_samples_fit = 43, n_samples = 3\n",
      "Expected n_neighbors <= n_samples_fit, but n_neighbors = 50, n_samples_fit = 43, n_samples = 3\n",
      "Expected n_neighbors <= n_samples_fit, but n_neighbors = 50, n_samples_fit = 42, n_samples = 3\n",
      "Expected n_neighbors <= n_samples_fit, but n_neighbors = 50, n_samples_fit = 41, n_samples = 3\n",
      "Expected n_neighbors <= n_samples_fit, but n_neighbors = 50, n_samples_fit = 40, n_samples = 4\n",
      "Expected n_neighbors <= n_samples_fit, but n_neighbors = 50, n_samples_fit = 39, n_samples = 5\n",
      "Expected n_neighbors <= n_samples_fit, but n_neighbors = 50, n_samples_fit = 38, n_samples = 4\n",
      "Expected n_neighbors <= n_samples_fit, but n_neighbors = 50, n_samples_fit = 38, n_samples = 3\n",
      "Expected n_neighbors <= n_samples_fit, but n_neighbors = 50, n_samples_fit = 38, n_samples = 3\n",
      "xgboost == {'unique_uuid': 'ec469e7c-fbfb-11ee-ad36-c0e434d84b22', 'train_end': datetime.datetime(2023, 12, 29, 0, 0), 'test_start': datetime.datetime(2024, 1, 2, 0, 0), 'test_end': datetime.datetime(2024, 2, 8, 0, 0), 'duration_training_history': 120, 'target_column': 'growth', 'train_features': ['close_lag_1', 'close_max_3_days', 'close_min_3_days', 'close_mean_3_days'], 'path_to_result': '/diploma_info/datalake/', 'forecast_periods': 4, 'model_name': 'xgboost', 'model': XGBClassifier(base_score=None, booster='gbtree', callbacks=None,\n",
      "              colsample_bylevel=None, colsample_bynode=None, colsample_bytree=1,\n",
      "              device=None, early_stopping_rounds=None, enable_categorical=False,\n",
      "              eta=0.3, eval_metric='rmse', feature_types=None, gamma=None,\n",
      "              grow_policy=None, importance_type=None,\n",
      "              interaction_constraints=None, learning_rate=None, max_bin=None,\n",
      "              max_cat_threshold=None, max_cat_to_onehot=None,\n",
      "              max_delta_step=None, max_depth=9, max_leaves=None,\n",
      "              min_child_weight=1, missing=nan, monotone_constraints=None,\n",
      "              multi_strategy=None, n_estimators=200, n_jobs=-1,\n",
      "              num_parallel_tree=None, ...), 'forecast_frequency': 'daily', 'company': 'netflix', 'model_hyperparameters': {'n_estimators': 200, 'n_jobs': -1, 'max_depth': 9, 'eta': 0.3, 'booster': 'gbtree', 'objective': 'reg:squarederror', 'eval_metric': 'rmse', 'subsample': 1, 'colsample_bytree': 1, 'min_child_weight': 1, 'random_state': 2}, 'problem': 'classification'} \n",
      "\n",
      "(5481, 4) (5481, 1)\n",
      "xgboost\n"
     ]
    },
    {
     "name": "stderr",
     "output_type": "stream",
     "text": [
      "100%|██████████████████████████████████████████████████████████████████████████████████| 38/38 [00:02<00:00, 14.25it/s]\n"
     ]
    },
    {
     "name": "stdout",
     "output_type": "stream",
     "text": [
      "xgboost == {'unique_uuid': 'ec469e7d-fbfb-11ee-a9c6-c0e434d84b22', 'train_end': datetime.datetime(2023, 12, 29, 0, 0), 'test_start': datetime.datetime(2024, 1, 2, 0, 0), 'test_end': datetime.datetime(2024, 2, 8, 0, 0), 'duration_training_history': 120, 'target_column': 'growth', 'train_features': ['close_lag_1', 'year', 'month', 'day', 'day_of_week', 'week_of_year'], 'path_to_result': '/diploma_info/datalake/', 'forecast_periods': 4, 'model_name': 'xgboost', 'model': XGBClassifier(base_score=None, booster='gbtree', callbacks=None,\n",
      "              colsample_bylevel=None, colsample_bynode=None, colsample_bytree=1,\n",
      "              device=None, early_stopping_rounds=None, enable_categorical=False,\n",
      "              eta=0.3, eval_metric='rmse', feature_types=None, gamma=None,\n",
      "              grow_policy=None, importance_type=None,\n",
      "              interaction_constraints=None, learning_rate=None, max_bin=None,\n",
      "              max_cat_threshold=None, max_cat_to_onehot=None,\n",
      "              max_delta_step=None, max_depth=9, max_leaves=None,\n",
      "              min_child_weight=1, missing=nan, monotone_constraints=None,\n",
      "              multi_strategy=None, n_estimators=200, n_jobs=-1,\n",
      "              num_parallel_tree=None, ...), 'forecast_frequency': 'daily', 'company': 'netflix', 'model_hyperparameters': {'n_estimators': 200, 'n_jobs': -1, 'max_depth': 9, 'eta': 0.3, 'booster': 'gbtree', 'objective': 'reg:squarederror', 'eval_metric': 'rmse', 'subsample': 1, 'colsample_bytree': 1, 'min_child_weight': 1, 'random_state': 2}, 'problem': 'classification'} \n",
      "\n",
      "(5481, 6) (5481, 1)\n",
      "xgboost\n"
     ]
    },
    {
     "name": "stderr",
     "output_type": "stream",
     "text": [
      "100%|██████████████████████████████████████████████████████████████████████████████████| 38/38 [00:02<00:00, 14.15it/s]\n"
     ]
    },
    {
     "name": "stdout",
     "output_type": "stream",
     "text": [
      "lightgbm == {'unique_uuid': 'ec469e7e-fbfb-11ee-a35c-c0e434d84b22', 'train_end': datetime.datetime(2023, 12, 29, 0, 0), 'test_start': datetime.datetime(2024, 1, 2, 0, 0), 'test_end': datetime.datetime(2024, 2, 8, 0, 0), 'duration_training_history': 120, 'target_column': 'growth', 'train_features': ['close_lag_1', 'close_max_3_days', 'close_min_3_days', 'close_mean_3_days'], 'path_to_result': '/diploma_info/datalake/', 'forecast_periods': 4, 'model_name': 'lightgbm', 'model': LGBMClassifier(eta=0.3, max_depth=9, metric='binary', n_estimators=10,\n",
      "               n_jobs=-1, objective='binary', random_state=2, verbosity=-1), 'forecast_frequency': 'daily', 'company': 'netflix', 'model_hyperparameters': {'n_estimators': 10, 'n_jobs': -1, 'max_depth': 9, 'eta': 0.3, 'random_state': 2, 'objective': 'binary', 'verbosity': -1, 'metric': 'binary'}, 'problem': 'classification'} \n",
      "\n",
      "(5481, 4) (5481, 1)\n",
      "lightgbm\n"
     ]
    },
    {
     "name": "stderr",
     "output_type": "stream",
     "text": [
      "100%|██████████████████████████████████████████████████████████████████████████████████| 38/38 [00:00<00:00, 48.47it/s]\n"
     ]
    },
    {
     "name": "stdout",
     "output_type": "stream",
     "text": [
      "lightgbm == {'unique_uuid': 'ec469e7f-fbfb-11ee-b879-c0e434d84b22', 'train_end': datetime.datetime(2023, 12, 29, 0, 0), 'test_start': datetime.datetime(2024, 1, 2, 0, 0), 'test_end': datetime.datetime(2024, 2, 8, 0, 0), 'duration_training_history': 120, 'target_column': 'growth', 'train_features': ['close_lag_1', 'year', 'month', 'day', 'day_of_week', 'week_of_year'], 'path_to_result': '/diploma_info/datalake/', 'forecast_periods': 4, 'model_name': 'lightgbm', 'model': LGBMClassifier(eta=0.3, max_depth=9, metric='binary', n_estimators=10,\n",
      "               n_jobs=-1, objective='binary', random_state=2, verbosity=-1), 'forecast_frequency': 'daily', 'company': 'netflix', 'model_hyperparameters': {'n_estimators': 10, 'n_jobs': -1, 'max_depth': 9, 'eta': 0.3, 'random_state': 2, 'objective': 'binary', 'verbosity': -1, 'metric': 'binary'}, 'problem': 'classification'} \n",
      "\n",
      "(5481, 6) (5481, 1)\n",
      "lightgbm\n"
     ]
    },
    {
     "name": "stderr",
     "output_type": "stream",
     "text": [
      "100%|██████████████████████████████████████████████████████████████████████████████████| 38/38 [00:00<00:00, 56.43it/s]\n"
     ]
    },
    {
     "name": "stdout",
     "output_type": "stream",
     "text": [
      "lightgbm == {'unique_uuid': 'ec469e80-fbfb-11ee-9fda-c0e434d84b22', 'train_end': datetime.datetime(2023, 12, 29, 0, 0), 'test_start': datetime.datetime(2024, 1, 2, 0, 0), 'test_end': datetime.datetime(2024, 2, 8, 0, 0), 'duration_training_history': 120, 'target_column': 'growth', 'train_features': ['close_lag_1', 'close_max_3_days', 'close_min_3_days', 'close_mean_3_days'], 'path_to_result': '/diploma_info/datalake/', 'forecast_periods': 4, 'model_name': 'lightgbm', 'model': LGBMClassifier(eta=0.3, max_depth=9, metric='binary', n_estimators=5000,\n",
      "               n_jobs=-1, objective='binary', random_state=2, verbosity=-1), 'forecast_frequency': 'daily', 'company': 'netflix', 'model_hyperparameters': {'n_estimators': 5000, 'n_jobs': -1, 'max_depth': 9, 'eta': 0.3, 'random_state': 2, 'objective': 'binary', 'verbosity': -1, 'metric': 'binary'}, 'problem': 'classification'} \n",
      "\n",
      "(5481, 4) (5481, 1)\n",
      "lightgbm\n"
     ]
    },
    {
     "name": "stderr",
     "output_type": "stream",
     "text": [
      "100%|██████████████████████████████████████████████████████████████████████████████████| 38/38 [00:18<00:00,  2.11it/s]\n"
     ]
    },
    {
     "name": "stdout",
     "output_type": "stream",
     "text": [
      "lightgbm == {'unique_uuid': 'ec469e81-fbfb-11ee-828e-c0e434d84b22', 'train_end': datetime.datetime(2023, 12, 29, 0, 0), 'test_start': datetime.datetime(2024, 1, 2, 0, 0), 'test_end': datetime.datetime(2024, 2, 8, 0, 0), 'duration_training_history': 120, 'target_column': 'growth', 'train_features': ['close_lag_1', 'year', 'month', 'day', 'day_of_week', 'week_of_year'], 'path_to_result': '/diploma_info/datalake/', 'forecast_periods': 4, 'model_name': 'lightgbm', 'model': LGBMClassifier(eta=0.3, max_depth=9, metric='binary', n_estimators=5000,\n",
      "               n_jobs=-1, objective='binary', random_state=2, verbosity=-1), 'forecast_frequency': 'daily', 'company': 'netflix', 'model_hyperparameters': {'n_estimators': 5000, 'n_jobs': -1, 'max_depth': 9, 'eta': 0.3, 'random_state': 2, 'objective': 'binary', 'verbosity': -1, 'metric': 'binary'}, 'problem': 'classification'} \n",
      "\n",
      "(5481, 6) (5481, 1)\n",
      "lightgbm\n"
     ]
    },
    {
     "name": "stderr",
     "output_type": "stream",
     "text": [
      "100%|██████████████████████████████████████████████████████████████████████████████████| 38/38 [00:18<00:00,  2.02it/s]\n"
     ]
    },
    {
     "name": "stdout",
     "output_type": "stream",
     "text": [
      "random_forest == {'unique_uuid': 'ec469e82-fbfb-11ee-8115-c0e434d84b22', 'train_end': datetime.datetime(2023, 12, 29, 0, 0), 'test_start': datetime.datetime(2024, 1, 2, 0, 0), 'test_end': datetime.datetime(2024, 2, 8, 0, 0), 'duration_training_history': 120, 'target_column': 'growth', 'train_features': ['close_lag_1', 'close_max_3_days', 'close_min_3_days', 'close_mean_3_days'], 'path_to_result': '/diploma_info/datalake/', 'forecast_periods': 4, 'model_name': 'random_forest', 'model': RandomForestClassifier(max_depth=7, n_estimators=10, n_jobs=-1, random_state=2), 'forecast_frequency': 'daily', 'company': 'netflix', 'model_hyperparameters': {'n_estimators': 10, 'n_jobs': -1, 'random_state': 2, 'max_depth': 7}, 'problem': 'classification'} \n",
      "\n",
      "(5481, 4) (5481, 1)\n",
      "random_forest\n"
     ]
    },
    {
     "name": "stderr",
     "output_type": "stream",
     "text": [
      "100%|██████████████████████████████████████████████████████████████████████████████████| 38/38 [00:02<00:00, 16.33it/s]\n"
     ]
    },
    {
     "name": "stdout",
     "output_type": "stream",
     "text": [
      "random_forest == {'unique_uuid': 'ec469e83-fbfb-11ee-8de2-c0e434d84b22', 'train_end': datetime.datetime(2023, 12, 29, 0, 0), 'test_start': datetime.datetime(2024, 1, 2, 0, 0), 'test_end': datetime.datetime(2024, 2, 8, 0, 0), 'duration_training_history': 120, 'target_column': 'growth', 'train_features': ['close_lag_1', 'year', 'month', 'day', 'day_of_week', 'week_of_year'], 'path_to_result': '/diploma_info/datalake/', 'forecast_periods': 4, 'model_name': 'random_forest', 'model': RandomForestClassifier(max_depth=7, n_estimators=10, n_jobs=-1, random_state=2), 'forecast_frequency': 'daily', 'company': 'netflix', 'model_hyperparameters': {'n_estimators': 10, 'n_jobs': -1, 'random_state': 2, 'max_depth': 7}, 'problem': 'classification'} \n",
      "\n",
      "(5481, 6) (5481, 1)\n",
      "random_forest\n"
     ]
    },
    {
     "name": "stderr",
     "output_type": "stream",
     "text": [
      "100%|██████████████████████████████████████████████████████████████████████████████████| 38/38 [00:02<00:00, 17.01it/s]\n"
     ]
    },
    {
     "name": "stdout",
     "output_type": "stream",
     "text": [
      "knear_neighbors == {'unique_uuid': 'ec469e84-fbfb-11ee-beec-c0e434d84b22', 'train_end': datetime.datetime(2023, 12, 29, 0, 0), 'test_start': datetime.datetime(2024, 1, 2, 0, 0), 'test_end': datetime.datetime(2024, 2, 8, 0, 0), 'duration_training_history': 120, 'target_column': 'growth', 'train_features': ['close_lag_1', 'close_max_3_days', 'close_min_3_days', 'close_mean_3_days'], 'path_to_result': '/diploma_info/datalake/', 'forecast_periods': 4, 'model_name': 'knear_neighbors', 'model': KNeighborsClassifier(n_jobs=-1, n_neighbors=3), 'forecast_frequency': 'daily', 'company': 'netflix', 'model_hyperparameters': {'n_neighbors': 3, 'n_jobs': -1}, 'problem': 'classification'} \n",
      "\n",
      "(5481, 4) (5481, 1)\n",
      "knear_neighbors\n"
     ]
    },
    {
     "name": "stderr",
     "output_type": "stream",
     "text": [
      "100%|██████████████████████████████████████████████████████████████████████████████████| 38/38 [00:01<00:00, 34.60it/s]\n"
     ]
    },
    {
     "name": "stdout",
     "output_type": "stream",
     "text": [
      "knear_neighbors == {'unique_uuid': 'ec469e85-fbfb-11ee-8df2-c0e434d84b22', 'train_end': datetime.datetime(2023, 12, 29, 0, 0), 'test_start': datetime.datetime(2024, 1, 2, 0, 0), 'test_end': datetime.datetime(2024, 2, 8, 0, 0), 'duration_training_history': 120, 'target_column': 'growth', 'train_features': ['close_lag_1', 'year', 'month', 'day', 'day_of_week', 'week_of_year'], 'path_to_result': '/diploma_info/datalake/', 'forecast_periods': 4, 'model_name': 'knear_neighbors', 'model': KNeighborsClassifier(n_jobs=-1, n_neighbors=3), 'forecast_frequency': 'daily', 'company': 'netflix', 'model_hyperparameters': {'n_neighbors': 3, 'n_jobs': -1}, 'problem': 'classification'} \n",
      "\n",
      "(5481, 6) (5481, 1)\n",
      "knear_neighbors\n"
     ]
    },
    {
     "name": "stderr",
     "output_type": "stream",
     "text": [
      "100%|██████████████████████████████████████████████████████████████████████████████████| 38/38 [00:01<00:00, 35.13it/s]\n"
     ]
    },
    {
     "name": "stdout",
     "output_type": "stream",
     "text": [
      "knear_neighbors == {'unique_uuid': 'ec469e86-fbfb-11ee-ad80-c0e434d84b22', 'train_end': datetime.datetime(2023, 12, 29, 0, 0), 'test_start': datetime.datetime(2024, 1, 2, 0, 0), 'test_end': datetime.datetime(2024, 2, 8, 0, 0), 'duration_training_history': 120, 'target_column': 'growth', 'train_features': ['close_lag_1', 'close_max_3_days', 'close_min_3_days', 'close_mean_3_days'], 'path_to_result': '/diploma_info/datalake/', 'forecast_periods': 4, 'model_name': 'knear_neighbors', 'model': KNeighborsClassifier(n_jobs=-1, n_neighbors=50), 'forecast_frequency': 'daily', 'company': 'netflix', 'model_hyperparameters': {'n_neighbors': 50, 'n_jobs': -1}, 'problem': 'classification'} \n",
      "\n",
      "(5481, 4) (5481, 1)\n",
      "knear_neighbors\n"
     ]
    },
    {
     "name": "stderr",
     "output_type": "stream",
     "text": [
      "100%|██████████████████████████████████████████████████████████████████████████████████| 38/38 [00:00<00:00, 81.70it/s]\n"
     ]
    },
    {
     "name": "stdout",
     "output_type": "stream",
     "text": [
      "knear_neighbors == {'unique_uuid': 'ec469e87-fbfb-11ee-82f2-c0e434d84b22', 'train_end': datetime.datetime(2023, 12, 29, 0, 0), 'test_start': datetime.datetime(2024, 1, 2, 0, 0), 'test_end': datetime.datetime(2024, 2, 8, 0, 0), 'duration_training_history': 120, 'target_column': 'growth', 'train_features': ['close_lag_1', 'year', 'month', 'day', 'day_of_week', 'week_of_year'], 'path_to_result': '/diploma_info/datalake/', 'forecast_periods': 4, 'model_name': 'knear_neighbors', 'model': KNeighborsClassifier(n_jobs=-1, n_neighbors=50), 'forecast_frequency': 'daily', 'company': 'netflix', 'model_hyperparameters': {'n_neighbors': 50, 'n_jobs': -1}, 'problem': 'classification'} \n",
      "\n",
      "(5481, 6) (5481, 1)\n",
      "knear_neighbors\n"
     ]
    },
    {
     "name": "stderr",
     "output_type": "stream",
     "text": [
      "100%|██████████████████████████████████████████████████████████████████████████████████| 38/38 [00:00<00:00, 98.59it/s]\n"
     ]
    },
    {
     "name": "stdout",
     "output_type": "stream",
     "text": [
      "xgboost == {'unique_uuid': 'ec469e88-fbfb-11ee-8440-c0e434d84b22', 'train_end': datetime.datetime(2023, 12, 29, 0, 0), 'test_start': datetime.datetime(2024, 1, 2, 0, 0), 'test_end': datetime.datetime(2024, 2, 8, 0, 0), 'duration_training_history': 180, 'target_column': 'growth', 'train_features': ['close_lag_1', 'close_max_3_days', 'close_min_3_days', 'close_mean_3_days'], 'path_to_result': '/diploma_info/datalake/', 'forecast_periods': 4, 'model_name': 'xgboost', 'model': XGBClassifier(base_score=None, booster='gbtree', callbacks=None,\n",
      "              colsample_bylevel=None, colsample_bynode=None, colsample_bytree=1,\n",
      "              device=None, early_stopping_rounds=None, enable_categorical=False,\n",
      "              eta=0.3, eval_metric='rmse', feature_types=None, gamma=None,\n",
      "              grow_policy=None, importance_type=None,\n",
      "              interaction_constraints=None, learning_rate=None, max_bin=None,\n",
      "              max_cat_threshold=None, max_cat_to_onehot=None,\n",
      "              max_delta_step=None, max_depth=9, max_leaves=None,\n",
      "              min_child_weight=1, missing=nan, monotone_constraints=None,\n",
      "              multi_strategy=None, n_estimators=200, n_jobs=-1,\n",
      "              num_parallel_tree=None, ...), 'forecast_frequency': 'daily', 'company': 'netflix', 'model_hyperparameters': {'n_estimators': 200, 'n_jobs': -1, 'max_depth': 9, 'eta': 0.3, 'booster': 'gbtree', 'objective': 'reg:squarederror', 'eval_metric': 'rmse', 'subsample': 1, 'colsample_bytree': 1, 'min_child_weight': 1, 'random_state': 2}, 'problem': 'classification'} \n",
      "\n",
      "(5481, 4) (5481, 1)\n",
      "xgboost\n"
     ]
    },
    {
     "name": "stderr",
     "output_type": "stream",
     "text": [
      "100%|██████████████████████████████████████████████████████████████████████████████████| 38/38 [00:03<00:00, 12.27it/s]\n"
     ]
    },
    {
     "name": "stdout",
     "output_type": "stream",
     "text": [
      "xgboost == {'unique_uuid': 'ec469e89-fbfb-11ee-8f2a-c0e434d84b22', 'train_end': datetime.datetime(2023, 12, 29, 0, 0), 'test_start': datetime.datetime(2024, 1, 2, 0, 0), 'test_end': datetime.datetime(2024, 2, 8, 0, 0), 'duration_training_history': 180, 'target_column': 'growth', 'train_features': ['close_lag_1', 'year', 'month', 'day', 'day_of_week', 'week_of_year'], 'path_to_result': '/diploma_info/datalake/', 'forecast_periods': 4, 'model_name': 'xgboost', 'model': XGBClassifier(base_score=None, booster='gbtree', callbacks=None,\n",
      "              colsample_bylevel=None, colsample_bynode=None, colsample_bytree=1,\n",
      "              device=None, early_stopping_rounds=None, enable_categorical=False,\n",
      "              eta=0.3, eval_metric='rmse', feature_types=None, gamma=None,\n",
      "              grow_policy=None, importance_type=None,\n",
      "              interaction_constraints=None, learning_rate=None, max_bin=None,\n",
      "              max_cat_threshold=None, max_cat_to_onehot=None,\n",
      "              max_delta_step=None, max_depth=9, max_leaves=None,\n",
      "              min_child_weight=1, missing=nan, monotone_constraints=None,\n",
      "              multi_strategy=None, n_estimators=200, n_jobs=-1,\n",
      "              num_parallel_tree=None, ...), 'forecast_frequency': 'daily', 'company': 'netflix', 'model_hyperparameters': {'n_estimators': 200, 'n_jobs': -1, 'max_depth': 9, 'eta': 0.3, 'booster': 'gbtree', 'objective': 'reg:squarederror', 'eval_metric': 'rmse', 'subsample': 1, 'colsample_bytree': 1, 'min_child_weight': 1, 'random_state': 2}, 'problem': 'classification'} \n",
      "\n",
      "(5481, 6) (5481, 1)\n",
      "xgboost\n"
     ]
    },
    {
     "name": "stderr",
     "output_type": "stream",
     "text": [
      "100%|██████████████████████████████████████████████████████████████████████████████████| 38/38 [00:02<00:00, 13.45it/s]\n"
     ]
    },
    {
     "name": "stdout",
     "output_type": "stream",
     "text": [
      "lightgbm == {'unique_uuid': 'ec469e8a-fbfb-11ee-a14f-c0e434d84b22', 'train_end': datetime.datetime(2023, 12, 29, 0, 0), 'test_start': datetime.datetime(2024, 1, 2, 0, 0), 'test_end': datetime.datetime(2024, 2, 8, 0, 0), 'duration_training_history': 180, 'target_column': 'growth', 'train_features': ['close_lag_1', 'close_max_3_days', 'close_min_3_days', 'close_mean_3_days'], 'path_to_result': '/diploma_info/datalake/', 'forecast_periods': 4, 'model_name': 'lightgbm', 'model': LGBMClassifier(eta=0.3, max_depth=9, metric='binary', n_estimators=10,\n",
      "               n_jobs=-1, objective='binary', random_state=2, verbosity=-1), 'forecast_frequency': 'daily', 'company': 'netflix', 'model_hyperparameters': {'n_estimators': 10, 'n_jobs': -1, 'max_depth': 9, 'eta': 0.3, 'random_state': 2, 'objective': 'binary', 'verbosity': -1, 'metric': 'binary'}, 'problem': 'classification'} \n",
      "\n",
      "(5481, 4) (5481, 1)\n",
      "lightgbm\n"
     ]
    },
    {
     "name": "stderr",
     "output_type": "stream",
     "text": [
      "100%|██████████████████████████████████████████████████████████████████████████████████| 38/38 [00:00<00:00, 47.14it/s]\n"
     ]
    },
    {
     "name": "stdout",
     "output_type": "stream",
     "text": [
      "lightgbm == {'unique_uuid': 'ec469e8b-fbfb-11ee-b6ae-c0e434d84b22', 'train_end': datetime.datetime(2023, 12, 29, 0, 0), 'test_start': datetime.datetime(2024, 1, 2, 0, 0), 'test_end': datetime.datetime(2024, 2, 8, 0, 0), 'duration_training_history': 180, 'target_column': 'growth', 'train_features': ['close_lag_1', 'year', 'month', 'day', 'day_of_week', 'week_of_year'], 'path_to_result': '/diploma_info/datalake/', 'forecast_periods': 4, 'model_name': 'lightgbm', 'model': LGBMClassifier(eta=0.3, max_depth=9, metric='binary', n_estimators=10,\n",
      "               n_jobs=-1, objective='binary', random_state=2, verbosity=-1), 'forecast_frequency': 'daily', 'company': 'netflix', 'model_hyperparameters': {'n_estimators': 10, 'n_jobs': -1, 'max_depth': 9, 'eta': 0.3, 'random_state': 2, 'objective': 'binary', 'verbosity': -1, 'metric': 'binary'}, 'problem': 'classification'} \n",
      "\n",
      "(5481, 6) (5481, 1)\n",
      "lightgbm\n"
     ]
    },
    {
     "name": "stderr",
     "output_type": "stream",
     "text": [
      "100%|██████████████████████████████████████████████████████████████████████████████████| 38/38 [00:00<00:00, 55.45it/s]\n"
     ]
    },
    {
     "name": "stdout",
     "output_type": "stream",
     "text": [
      "lightgbm == {'unique_uuid': 'ec469e8c-fbfb-11ee-9141-c0e434d84b22', 'train_end': datetime.datetime(2023, 12, 29, 0, 0), 'test_start': datetime.datetime(2024, 1, 2, 0, 0), 'test_end': datetime.datetime(2024, 2, 8, 0, 0), 'duration_training_history': 180, 'target_column': 'growth', 'train_features': ['close_lag_1', 'close_max_3_days', 'close_min_3_days', 'close_mean_3_days'], 'path_to_result': '/diploma_info/datalake/', 'forecast_periods': 4, 'model_name': 'lightgbm', 'model': LGBMClassifier(eta=0.3, max_depth=9, metric='binary', n_estimators=5000,\n",
      "               n_jobs=-1, objective='binary', random_state=2, verbosity=-1), 'forecast_frequency': 'daily', 'company': 'netflix', 'model_hyperparameters': {'n_estimators': 5000, 'n_jobs': -1, 'max_depth': 9, 'eta': 0.3, 'random_state': 2, 'objective': 'binary', 'verbosity': -1, 'metric': 'binary'}, 'problem': 'classification'} \n",
      "\n",
      "(5481, 4) (5481, 1)\n",
      "lightgbm\n"
     ]
    },
    {
     "name": "stderr",
     "output_type": "stream",
     "text": [
      "100%|██████████████████████████████████████████████████████████████████████████████████| 38/38 [00:23<00:00,  1.62it/s]\n"
     ]
    },
    {
     "name": "stdout",
     "output_type": "stream",
     "text": [
      "lightgbm == {'unique_uuid': 'ec469e8d-fbfb-11ee-96e8-c0e434d84b22', 'train_end': datetime.datetime(2023, 12, 29, 0, 0), 'test_start': datetime.datetime(2024, 1, 2, 0, 0), 'test_end': datetime.datetime(2024, 2, 8, 0, 0), 'duration_training_history': 180, 'target_column': 'growth', 'train_features': ['close_lag_1', 'year', 'month', 'day', 'day_of_week', 'week_of_year'], 'path_to_result': '/diploma_info/datalake/', 'forecast_periods': 4, 'model_name': 'lightgbm', 'model': LGBMClassifier(eta=0.3, max_depth=9, metric='binary', n_estimators=5000,\n",
      "               n_jobs=-1, objective='binary', random_state=2, verbosity=-1), 'forecast_frequency': 'daily', 'company': 'netflix', 'model_hyperparameters': {'n_estimators': 5000, 'n_jobs': -1, 'max_depth': 9, 'eta': 0.3, 'random_state': 2, 'objective': 'binary', 'verbosity': -1, 'metric': 'binary'}, 'problem': 'classification'} \n",
      "\n",
      "(5481, 6) (5481, 1)\n",
      "lightgbm\n"
     ]
    },
    {
     "name": "stderr",
     "output_type": "stream",
     "text": [
      "100%|██████████████████████████████████████████████████████████████████████████████████| 38/38 [00:21<00:00,  1.74it/s]\n"
     ]
    },
    {
     "name": "stdout",
     "output_type": "stream",
     "text": [
      "random_forest == {'unique_uuid': 'ec469e8e-fbfb-11ee-8a39-c0e434d84b22', 'train_end': datetime.datetime(2023, 12, 29, 0, 0), 'test_start': datetime.datetime(2024, 1, 2, 0, 0), 'test_end': datetime.datetime(2024, 2, 8, 0, 0), 'duration_training_history': 180, 'target_column': 'growth', 'train_features': ['close_lag_1', 'close_max_3_days', 'close_min_3_days', 'close_mean_3_days'], 'path_to_result': '/diploma_info/datalake/', 'forecast_periods': 4, 'model_name': 'random_forest', 'model': RandomForestClassifier(max_depth=7, n_estimators=10, n_jobs=-1, random_state=2), 'forecast_frequency': 'daily', 'company': 'netflix', 'model_hyperparameters': {'n_estimators': 10, 'n_jobs': -1, 'random_state': 2, 'max_depth': 7}, 'problem': 'classification'} \n",
      "\n",
      "(5481, 4) (5481, 1)\n",
      "random_forest\n"
     ]
    },
    {
     "name": "stderr",
     "output_type": "stream",
     "text": [
      "100%|██████████████████████████████████████████████████████████████████████████████████| 38/38 [00:02<00:00, 16.79it/s]\n"
     ]
    },
    {
     "name": "stdout",
     "output_type": "stream",
     "text": [
      "random_forest == {'unique_uuid': 'ec469e8f-fbfb-11ee-8225-c0e434d84b22', 'train_end': datetime.datetime(2023, 12, 29, 0, 0), 'test_start': datetime.datetime(2024, 1, 2, 0, 0), 'test_end': datetime.datetime(2024, 2, 8, 0, 0), 'duration_training_history': 180, 'target_column': 'growth', 'train_features': ['close_lag_1', 'year', 'month', 'day', 'day_of_week', 'week_of_year'], 'path_to_result': '/diploma_info/datalake/', 'forecast_periods': 4, 'model_name': 'random_forest', 'model': RandomForestClassifier(max_depth=7, n_estimators=10, n_jobs=-1, random_state=2), 'forecast_frequency': 'daily', 'company': 'netflix', 'model_hyperparameters': {'n_estimators': 10, 'n_jobs': -1, 'random_state': 2, 'max_depth': 7}, 'problem': 'classification'} \n",
      "\n",
      "(5481, 6) (5481, 1)\n",
      "random_forest\n"
     ]
    },
    {
     "name": "stderr",
     "output_type": "stream",
     "text": [
      "100%|██████████████████████████████████████████████████████████████████████████████████| 38/38 [00:02<00:00, 16.35it/s]\n"
     ]
    },
    {
     "name": "stdout",
     "output_type": "stream",
     "text": [
      "knear_neighbors == {'unique_uuid': 'ec469e90-fbfb-11ee-a9dc-c0e434d84b22', 'train_end': datetime.datetime(2023, 12, 29, 0, 0), 'test_start': datetime.datetime(2024, 1, 2, 0, 0), 'test_end': datetime.datetime(2024, 2, 8, 0, 0), 'duration_training_history': 180, 'target_column': 'growth', 'train_features': ['close_lag_1', 'close_max_3_days', 'close_min_3_days', 'close_mean_3_days'], 'path_to_result': '/diploma_info/datalake/', 'forecast_periods': 4, 'model_name': 'knear_neighbors', 'model': KNeighborsClassifier(n_jobs=-1, n_neighbors=3), 'forecast_frequency': 'daily', 'company': 'netflix', 'model_hyperparameters': {'n_neighbors': 3, 'n_jobs': -1}, 'problem': 'classification'} \n",
      "\n",
      "(5481, 4) (5481, 1)\n",
      "knear_neighbors\n"
     ]
    },
    {
     "name": "stderr",
     "output_type": "stream",
     "text": [
      "100%|██████████████████████████████████████████████████████████████████████████████████| 38/38 [00:01<00:00, 33.30it/s]\n"
     ]
    },
    {
     "name": "stdout",
     "output_type": "stream",
     "text": [
      "knear_neighbors == {'unique_uuid': 'ec469e91-fbfb-11ee-b094-c0e434d84b22', 'train_end': datetime.datetime(2023, 12, 29, 0, 0), 'test_start': datetime.datetime(2024, 1, 2, 0, 0), 'test_end': datetime.datetime(2024, 2, 8, 0, 0), 'duration_training_history': 180, 'target_column': 'growth', 'train_features': ['close_lag_1', 'year', 'month', 'day', 'day_of_week', 'week_of_year'], 'path_to_result': '/diploma_info/datalake/', 'forecast_periods': 4, 'model_name': 'knear_neighbors', 'model': KNeighborsClassifier(n_jobs=-1, n_neighbors=3), 'forecast_frequency': 'daily', 'company': 'netflix', 'model_hyperparameters': {'n_neighbors': 3, 'n_jobs': -1}, 'problem': 'classification'} \n",
      "\n",
      "(5481, 6) (5481, 1)\n",
      "knear_neighbors\n"
     ]
    },
    {
     "name": "stderr",
     "output_type": "stream",
     "text": [
      "100%|██████████████████████████████████████████████████████████████████████████████████| 38/38 [00:01<00:00, 35.86it/s]\n"
     ]
    },
    {
     "name": "stdout",
     "output_type": "stream",
     "text": [
      "knear_neighbors == {'unique_uuid': 'ec469e92-fbfb-11ee-8793-c0e434d84b22', 'train_end': datetime.datetime(2023, 12, 29, 0, 0), 'test_start': datetime.datetime(2024, 1, 2, 0, 0), 'test_end': datetime.datetime(2024, 2, 8, 0, 0), 'duration_training_history': 180, 'target_column': 'growth', 'train_features': ['close_lag_1', 'close_max_3_days', 'close_min_3_days', 'close_mean_3_days'], 'path_to_result': '/diploma_info/datalake/', 'forecast_periods': 4, 'model_name': 'knear_neighbors', 'model': KNeighborsClassifier(n_jobs=-1, n_neighbors=50), 'forecast_frequency': 'daily', 'company': 'netflix', 'model_hyperparameters': {'n_neighbors': 50, 'n_jobs': -1}, 'problem': 'classification'} \n",
      "\n",
      "(5481, 4) (5481, 1)\n",
      "knear_neighbors\n"
     ]
    },
    {
     "name": "stderr",
     "output_type": "stream",
     "text": [
      "100%|██████████████████████████████████████████████████████████████████████████████████| 38/38 [00:01<00:00, 34.97it/s]\n"
     ]
    },
    {
     "name": "stdout",
     "output_type": "stream",
     "text": [
      "knear_neighbors == {'unique_uuid': 'ec469e93-fbfb-11ee-9271-c0e434d84b22', 'train_end': datetime.datetime(2023, 12, 29, 0, 0), 'test_start': datetime.datetime(2024, 1, 2, 0, 0), 'test_end': datetime.datetime(2024, 2, 8, 0, 0), 'duration_training_history': 180, 'target_column': 'growth', 'train_features': ['close_lag_1', 'year', 'month', 'day', 'day_of_week', 'week_of_year'], 'path_to_result': '/diploma_info/datalake/', 'forecast_periods': 4, 'model_name': 'knear_neighbors', 'model': KNeighborsClassifier(n_jobs=-1, n_neighbors=50), 'forecast_frequency': 'daily', 'company': 'netflix', 'model_hyperparameters': {'n_neighbors': 50, 'n_jobs': -1}, 'problem': 'classification'} \n",
      "\n",
      "(5481, 6) (5481, 1)\n",
      "knear_neighbors\n"
     ]
    },
    {
     "name": "stderr",
     "output_type": "stream",
     "text": [
      "100%|██████████████████████████████████████████████████████████████████████████████████| 38/38 [00:01<00:00, 35.76it/s]\n"
     ]
    },
    {
     "name": "stdout",
     "output_type": "stream",
     "text": [
      "xgboost == {'unique_uuid': 'ec469e94-fbfb-11ee-8903-c0e434d84b22', 'train_end': datetime.datetime(2023, 12, 29, 0, 0), 'test_start': datetime.datetime(2024, 1, 2, 0, 0), 'test_end': datetime.datetime(2024, 2, 8, 0, 0), 'duration_training_history': 240, 'target_column': 'growth', 'train_features': ['close_lag_1', 'close_max_3_days', 'close_min_3_days', 'close_mean_3_days'], 'path_to_result': '/diploma_info/datalake/', 'forecast_periods': 4, 'model_name': 'xgboost', 'model': XGBClassifier(base_score=None, booster='gbtree', callbacks=None,\n",
      "              colsample_bylevel=None, colsample_bynode=None, colsample_bytree=1,\n",
      "              device=None, early_stopping_rounds=None, enable_categorical=False,\n",
      "              eta=0.3, eval_metric='rmse', feature_types=None, gamma=None,\n",
      "              grow_policy=None, importance_type=None,\n",
      "              interaction_constraints=None, learning_rate=None, max_bin=None,\n",
      "              max_cat_threshold=None, max_cat_to_onehot=None,\n",
      "              max_delta_step=None, max_depth=9, max_leaves=None,\n",
      "              min_child_weight=1, missing=nan, monotone_constraints=None,\n",
      "              multi_strategy=None, n_estimators=200, n_jobs=-1,\n",
      "              num_parallel_tree=None, ...), 'forecast_frequency': 'daily', 'company': 'netflix', 'model_hyperparameters': {'n_estimators': 200, 'n_jobs': -1, 'max_depth': 9, 'eta': 0.3, 'booster': 'gbtree', 'objective': 'reg:squarederror', 'eval_metric': 'rmse', 'subsample': 1, 'colsample_bytree': 1, 'min_child_weight': 1, 'random_state': 2}, 'problem': 'classification'} \n",
      "\n",
      "(5481, 4) (5481, 1)\n",
      "xgboost\n"
     ]
    },
    {
     "name": "stderr",
     "output_type": "stream",
     "text": [
      "100%|██████████████████████████████████████████████████████████████████████████████████| 38/38 [00:03<00:00, 10.97it/s]\n"
     ]
    },
    {
     "name": "stdout",
     "output_type": "stream",
     "text": [
      "xgboost == {'unique_uuid': 'ec469e95-fbfb-11ee-b75b-c0e434d84b22', 'train_end': datetime.datetime(2023, 12, 29, 0, 0), 'test_start': datetime.datetime(2024, 1, 2, 0, 0), 'test_end': datetime.datetime(2024, 2, 8, 0, 0), 'duration_training_history': 240, 'target_column': 'growth', 'train_features': ['close_lag_1', 'year', 'month', 'day', 'day_of_week', 'week_of_year'], 'path_to_result': '/diploma_info/datalake/', 'forecast_periods': 4, 'model_name': 'xgboost', 'model': XGBClassifier(base_score=None, booster='gbtree', callbacks=None,\n",
      "              colsample_bylevel=None, colsample_bynode=None, colsample_bytree=1,\n",
      "              device=None, early_stopping_rounds=None, enable_categorical=False,\n",
      "              eta=0.3, eval_metric='rmse', feature_types=None, gamma=None,\n",
      "              grow_policy=None, importance_type=None,\n",
      "              interaction_constraints=None, learning_rate=None, max_bin=None,\n",
      "              max_cat_threshold=None, max_cat_to_onehot=None,\n",
      "              max_delta_step=None, max_depth=9, max_leaves=None,\n",
      "              min_child_weight=1, missing=nan, monotone_constraints=None,\n",
      "              multi_strategy=None, n_estimators=200, n_jobs=-1,\n",
      "              num_parallel_tree=None, ...), 'forecast_frequency': 'daily', 'company': 'netflix', 'model_hyperparameters': {'n_estimators': 200, 'n_jobs': -1, 'max_depth': 9, 'eta': 0.3, 'booster': 'gbtree', 'objective': 'reg:squarederror', 'eval_metric': 'rmse', 'subsample': 1, 'colsample_bytree': 1, 'min_child_weight': 1, 'random_state': 2}, 'problem': 'classification'} \n",
      "\n",
      "(5481, 6) (5481, 1)\n",
      "xgboost\n"
     ]
    },
    {
     "name": "stderr",
     "output_type": "stream",
     "text": [
      "100%|██████████████████████████████████████████████████████████████████████████████████| 38/38 [00:02<00:00, 12.86it/s]\n"
     ]
    },
    {
     "name": "stdout",
     "output_type": "stream",
     "text": [
      "lightgbm == {'unique_uuid': 'ec469e96-fbfb-11ee-b20a-c0e434d84b22', 'train_end': datetime.datetime(2023, 12, 29, 0, 0), 'test_start': datetime.datetime(2024, 1, 2, 0, 0), 'test_end': datetime.datetime(2024, 2, 8, 0, 0), 'duration_training_history': 240, 'target_column': 'growth', 'train_features': ['close_lag_1', 'close_max_3_days', 'close_min_3_days', 'close_mean_3_days'], 'path_to_result': '/diploma_info/datalake/', 'forecast_periods': 4, 'model_name': 'lightgbm', 'model': LGBMClassifier(eta=0.3, max_depth=9, metric='binary', n_estimators=10,\n",
      "               n_jobs=-1, objective='binary', random_state=2, verbosity=-1), 'forecast_frequency': 'daily', 'company': 'netflix', 'model_hyperparameters': {'n_estimators': 10, 'n_jobs': -1, 'max_depth': 9, 'eta': 0.3, 'random_state': 2, 'objective': 'binary', 'verbosity': -1, 'metric': 'binary'}, 'problem': 'classification'} \n",
      "\n",
      "(5481, 4) (5481, 1)\n",
      "lightgbm\n"
     ]
    },
    {
     "name": "stderr",
     "output_type": "stream",
     "text": [
      "100%|██████████████████████████████████████████████████████████████████████████████████| 38/38 [00:00<00:00, 47.12it/s]\n"
     ]
    },
    {
     "name": "stdout",
     "output_type": "stream",
     "text": [
      "lightgbm == {'unique_uuid': 'ec469e97-fbfb-11ee-a35f-c0e434d84b22', 'train_end': datetime.datetime(2023, 12, 29, 0, 0), 'test_start': datetime.datetime(2024, 1, 2, 0, 0), 'test_end': datetime.datetime(2024, 2, 8, 0, 0), 'duration_training_history': 240, 'target_column': 'growth', 'train_features': ['close_lag_1', 'year', 'month', 'day', 'day_of_week', 'week_of_year'], 'path_to_result': '/diploma_info/datalake/', 'forecast_periods': 4, 'model_name': 'lightgbm', 'model': LGBMClassifier(eta=0.3, max_depth=9, metric='binary', n_estimators=10,\n",
      "               n_jobs=-1, objective='binary', random_state=2, verbosity=-1), 'forecast_frequency': 'daily', 'company': 'netflix', 'model_hyperparameters': {'n_estimators': 10, 'n_jobs': -1, 'max_depth': 9, 'eta': 0.3, 'random_state': 2, 'objective': 'binary', 'verbosity': -1, 'metric': 'binary'}, 'problem': 'classification'} \n",
      "\n",
      "(5481, 6) (5481, 1)\n",
      "lightgbm\n"
     ]
    },
    {
     "name": "stderr",
     "output_type": "stream",
     "text": [
      "100%|██████████████████████████████████████████████████████████████████████████████████| 38/38 [00:00<00:00, 55.79it/s]\n"
     ]
    },
    {
     "name": "stdout",
     "output_type": "stream",
     "text": [
      "lightgbm == {'unique_uuid': 'ec469e98-fbfb-11ee-ae31-c0e434d84b22', 'train_end': datetime.datetime(2023, 12, 29, 0, 0), 'test_start': datetime.datetime(2024, 1, 2, 0, 0), 'test_end': datetime.datetime(2024, 2, 8, 0, 0), 'duration_training_history': 240, 'target_column': 'growth', 'train_features': ['close_lag_1', 'close_max_3_days', 'close_min_3_days', 'close_mean_3_days'], 'path_to_result': '/diploma_info/datalake/', 'forecast_periods': 4, 'model_name': 'lightgbm', 'model': LGBMClassifier(eta=0.3, max_depth=9, metric='binary', n_estimators=5000,\n",
      "               n_jobs=-1, objective='binary', random_state=2, verbosity=-1), 'forecast_frequency': 'daily', 'company': 'netflix', 'model_hyperparameters': {'n_estimators': 5000, 'n_jobs': -1, 'max_depth': 9, 'eta': 0.3, 'random_state': 2, 'objective': 'binary', 'verbosity': -1, 'metric': 'binary'}, 'problem': 'classification'} \n",
      "\n",
      "(5481, 4) (5481, 1)\n",
      "lightgbm\n"
     ]
    },
    {
     "name": "stderr",
     "output_type": "stream",
     "text": [
      "100%|██████████████████████████████████████████████████████████████████████████████████| 38/38 [00:27<00:00,  1.37it/s]\n"
     ]
    },
    {
     "name": "stdout",
     "output_type": "stream",
     "text": [
      "lightgbm == {'unique_uuid': 'ec469e99-fbfb-11ee-a2be-c0e434d84b22', 'train_end': datetime.datetime(2023, 12, 29, 0, 0), 'test_start': datetime.datetime(2024, 1, 2, 0, 0), 'test_end': datetime.datetime(2024, 2, 8, 0, 0), 'duration_training_history': 240, 'target_column': 'growth', 'train_features': ['close_lag_1', 'year', 'month', 'day', 'day_of_week', 'week_of_year'], 'path_to_result': '/diploma_info/datalake/', 'forecast_periods': 4, 'model_name': 'lightgbm', 'model': LGBMClassifier(eta=0.3, max_depth=9, metric='binary', n_estimators=5000,\n",
      "               n_jobs=-1, objective='binary', random_state=2, verbosity=-1), 'forecast_frequency': 'daily', 'company': 'netflix', 'model_hyperparameters': {'n_estimators': 5000, 'n_jobs': -1, 'max_depth': 9, 'eta': 0.3, 'random_state': 2, 'objective': 'binary', 'verbosity': -1, 'metric': 'binary'}, 'problem': 'classification'} \n",
      "\n",
      "(5481, 6) (5481, 1)\n",
      "lightgbm\n"
     ]
    },
    {
     "name": "stderr",
     "output_type": "stream",
     "text": [
      "100%|██████████████████████████████████████████████████████████████████████████████████| 38/38 [00:25<00:00,  1.50it/s]\n"
     ]
    },
    {
     "name": "stdout",
     "output_type": "stream",
     "text": [
      "random_forest == {'unique_uuid': 'ec469e9a-fbfb-11ee-9b7d-c0e434d84b22', 'train_end': datetime.datetime(2023, 12, 29, 0, 0), 'test_start': datetime.datetime(2024, 1, 2, 0, 0), 'test_end': datetime.datetime(2024, 2, 8, 0, 0), 'duration_training_history': 240, 'target_column': 'growth', 'train_features': ['close_lag_1', 'close_max_3_days', 'close_min_3_days', 'close_mean_3_days'], 'path_to_result': '/diploma_info/datalake/', 'forecast_periods': 4, 'model_name': 'random_forest', 'model': RandomForestClassifier(max_depth=7, n_estimators=10, n_jobs=-1, random_state=2), 'forecast_frequency': 'daily', 'company': 'netflix', 'model_hyperparameters': {'n_estimators': 10, 'n_jobs': -1, 'random_state': 2, 'max_depth': 7}, 'problem': 'classification'} \n",
      "\n",
      "(5481, 4) (5481, 1)\n",
      "random_forest\n"
     ]
    },
    {
     "name": "stderr",
     "output_type": "stream",
     "text": [
      "100%|██████████████████████████████████████████████████████████████████████████████████| 38/38 [00:02<00:00, 16.42it/s]\n"
     ]
    },
    {
     "name": "stdout",
     "output_type": "stream",
     "text": [
      "random_forest == {'unique_uuid': 'ec469e9b-fbfb-11ee-aa9a-c0e434d84b22', 'train_end': datetime.datetime(2023, 12, 29, 0, 0), 'test_start': datetime.datetime(2024, 1, 2, 0, 0), 'test_end': datetime.datetime(2024, 2, 8, 0, 0), 'duration_training_history': 240, 'target_column': 'growth', 'train_features': ['close_lag_1', 'year', 'month', 'day', 'day_of_week', 'week_of_year'], 'path_to_result': '/diploma_info/datalake/', 'forecast_periods': 4, 'model_name': 'random_forest', 'model': RandomForestClassifier(max_depth=7, n_estimators=10, n_jobs=-1, random_state=2), 'forecast_frequency': 'daily', 'company': 'netflix', 'model_hyperparameters': {'n_estimators': 10, 'n_jobs': -1, 'random_state': 2, 'max_depth': 7}, 'problem': 'classification'} \n",
      "\n",
      "(5481, 6) (5481, 1)\n",
      "random_forest\n"
     ]
    },
    {
     "name": "stderr",
     "output_type": "stream",
     "text": [
      "100%|██████████████████████████████████████████████████████████████████████████████████| 38/38 [00:02<00:00, 16.75it/s]\n"
     ]
    },
    {
     "name": "stdout",
     "output_type": "stream",
     "text": [
      "knear_neighbors == {'unique_uuid': 'ec469e9c-fbfb-11ee-8487-c0e434d84b22', 'train_end': datetime.datetime(2023, 12, 29, 0, 0), 'test_start': datetime.datetime(2024, 1, 2, 0, 0), 'test_end': datetime.datetime(2024, 2, 8, 0, 0), 'duration_training_history': 240, 'target_column': 'growth', 'train_features': ['close_lag_1', 'close_max_3_days', 'close_min_3_days', 'close_mean_3_days'], 'path_to_result': '/diploma_info/datalake/', 'forecast_periods': 4, 'model_name': 'knear_neighbors', 'model': KNeighborsClassifier(n_jobs=-1, n_neighbors=3), 'forecast_frequency': 'daily', 'company': 'netflix', 'model_hyperparameters': {'n_neighbors': 3, 'n_jobs': -1}, 'problem': 'classification'} \n",
      "\n",
      "(5481, 4) (5481, 1)\n",
      "knear_neighbors\n"
     ]
    },
    {
     "name": "stderr",
     "output_type": "stream",
     "text": [
      "100%|██████████████████████████████████████████████████████████████████████████████████| 38/38 [00:01<00:00, 32.62it/s]\n"
     ]
    },
    {
     "name": "stdout",
     "output_type": "stream",
     "text": [
      "knear_neighbors == {'unique_uuid': 'ec469e9d-fbfb-11ee-a5cb-c0e434d84b22', 'train_end': datetime.datetime(2023, 12, 29, 0, 0), 'test_start': datetime.datetime(2024, 1, 2, 0, 0), 'test_end': datetime.datetime(2024, 2, 8, 0, 0), 'duration_training_history': 240, 'target_column': 'growth', 'train_features': ['close_lag_1', 'year', 'month', 'day', 'day_of_week', 'week_of_year'], 'path_to_result': '/diploma_info/datalake/', 'forecast_periods': 4, 'model_name': 'knear_neighbors', 'model': KNeighborsClassifier(n_jobs=-1, n_neighbors=3), 'forecast_frequency': 'daily', 'company': 'netflix', 'model_hyperparameters': {'n_neighbors': 3, 'n_jobs': -1}, 'problem': 'classification'} \n",
      "\n",
      "(5481, 6) (5481, 1)\n",
      "knear_neighbors\n"
     ]
    },
    {
     "name": "stderr",
     "output_type": "stream",
     "text": [
      "100%|██████████████████████████████████████████████████████████████████████████████████| 38/38 [00:01<00:00, 35.13it/s]\n"
     ]
    },
    {
     "name": "stdout",
     "output_type": "stream",
     "text": [
      "knear_neighbors == {'unique_uuid': 'ec469e9e-fbfb-11ee-b18a-c0e434d84b22', 'train_end': datetime.datetime(2023, 12, 29, 0, 0), 'test_start': datetime.datetime(2024, 1, 2, 0, 0), 'test_end': datetime.datetime(2024, 2, 8, 0, 0), 'duration_training_history': 240, 'target_column': 'growth', 'train_features': ['close_lag_1', 'close_max_3_days', 'close_min_3_days', 'close_mean_3_days'], 'path_to_result': '/diploma_info/datalake/', 'forecast_periods': 4, 'model_name': 'knear_neighbors', 'model': KNeighborsClassifier(n_jobs=-1, n_neighbors=50), 'forecast_frequency': 'daily', 'company': 'netflix', 'model_hyperparameters': {'n_neighbors': 50, 'n_jobs': -1}, 'problem': 'classification'} \n",
      "\n",
      "(5481, 4) (5481, 1)\n",
      "knear_neighbors\n"
     ]
    },
    {
     "name": "stderr",
     "output_type": "stream",
     "text": [
      "100%|██████████████████████████████████████████████████████████████████████████████████| 38/38 [00:01<00:00, 34.45it/s]\n"
     ]
    },
    {
     "name": "stdout",
     "output_type": "stream",
     "text": [
      "knear_neighbors == {'unique_uuid': 'ec469e9f-fbfb-11ee-b69d-c0e434d84b22', 'train_end': datetime.datetime(2023, 12, 29, 0, 0), 'test_start': datetime.datetime(2024, 1, 2, 0, 0), 'test_end': datetime.datetime(2024, 2, 8, 0, 0), 'duration_training_history': 240, 'target_column': 'growth', 'train_features': ['close_lag_1', 'year', 'month', 'day', 'day_of_week', 'week_of_year'], 'path_to_result': '/diploma_info/datalake/', 'forecast_periods': 4, 'model_name': 'knear_neighbors', 'model': KNeighborsClassifier(n_jobs=-1, n_neighbors=50), 'forecast_frequency': 'daily', 'company': 'netflix', 'model_hyperparameters': {'n_neighbors': 50, 'n_jobs': -1}, 'problem': 'classification'} \n",
      "\n",
      "(5481, 6) (5481, 1)\n",
      "knear_neighbors\n"
     ]
    },
    {
     "name": "stderr",
     "output_type": "stream",
     "text": [
      "100%|██████████████████████████████████████████████████████████████████████████████████| 38/38 [00:01<00:00, 35.76it/s]\n"
     ]
    }
   ],
   "source": [
    "# companies = [\"NETFLIX\"]\n",
    "companies = [\"AMAZON\", \"APPLE\", \"GOOGLE\", \"META\", \"NETFLIX\"]\n",
    "time_period = [\"daily\"]\n",
    "# time_period = [\"daily\", \"weekly\", \"monthly\"]\n",
    "\n",
    "problem = 'classification'\n",
    "models_list = ['XGBoost', 'LightGBM', 'Random_Forest', 'KNear_Neighbors']\n",
    "# models_list = ['XGBoost', 'LightGBM', 'Random_Forest', 'KNear_Neighbors', 'LOGistic_REGression']\n",
    "# models_list = ['Prophet']\n",
    "models_dict = dict([(\"\".join(re.findall('([A-Z])', k)).lower(), k.lower()) for k in models_list])\n",
    "\n",
    "forecast_steps = 4        # means that forecast will be made on {n} futute periods \n",
    " \n",
    "\n",
    "for company, period in list(itertools.product(companies, time_period)):\n",
    "    \n",
    "    full_set, train_end, test_start, test_end, train_features_set = init(company, period)\n",
    "    print(f'company: {company}\\t period: {period}\\t train ends: {train_end}\\t test starts: {test_start}')\n",
    "    \n",
    "    _research_task_uuid = str(uuid.uuid1())\n",
    "    print(f'_research_task_uuid = {_research_task_uuid}\\n')\n",
    "    \n",
    "    configs = define_parameters(company.lower(), period.lower(), train_end, test_start, test_end, train_features_set, forecast_steps, models_dict, problem)\n",
    "    print(f'count_configs {len(configs)} \\n')\n",
    "    \n",
    "    for _ in configs:\n",
    "        print(_['model_name'], '==', _, '\\n')\n",
    "        \n",
    "        run_wfv(full_set, _, _research_task_uuid, forecast_steps, company, models_dict, problem)"
   ]
  },
  {
   "cell_type": "markdown",
   "id": "fdf350a9",
   "metadata": {},
   "source": [
    "## View results"
   ]
  },
  {
   "cell_type": "code",
   "execution_count": 24,
   "id": "d1cc9fb1",
   "metadata": {},
   "outputs": [],
   "source": [
    "# df_preds['true_val'] = df.growth\n",
    "# df_preds "
   ]
  },
  {
   "cell_type": "code",
   "execution_count": 25,
   "id": "754ad290",
   "metadata": {
    "code_folding": []
   },
   "outputs": [],
   "source": [
    "# df_preds[(df_preds['true_val'] - df_preds['xgb_10_3_d-1'])==0]\n",
    "\n",
    "# df_errors = pd.DataFrame()\n",
    "\n",
    "\n",
    "# for d in [0, 1, 2, 3]:\n",
    "#     for n in [k for k in df_preds.columns if f'd-{d}' in k]:\n",
    "#         acc = round(abs(df_preds[(df_preds['true_val'] - df_preds[n])==0].shape[0]/df_preds.shape[0] - 1), 2) * 100\n",
    "        \n",
    "# #         print(n, acc)\n",
    "#         df_errors.loc[d, n.split(\"_d\")[0]] = acc\n",
    "        \n",
    "#     print(df_errors.iloc[:, :2])"
   ]
  },
  {
   "cell_type": "code",
   "execution_count": 26,
   "id": "39d4f3bd",
   "metadata": {},
   "outputs": [],
   "source": [
    "# df_errors[[k for k in df_errors.columns if 'lin' in k]]"
   ]
  },
  {
   "cell_type": "code",
   "execution_count": null,
   "id": "832db5ed",
   "metadata": {},
   "outputs": [],
   "source": []
  }
 ],
 "metadata": {
  "kernelspec": {
   "display_name": "Python 3 (ipykernel)",
   "language": "python",
   "name": "python3"
  },
  "language_info": {
   "codemirror_mode": {
    "name": "ipython",
    "version": 3
   },
   "file_extension": ".py",
   "mimetype": "text/x-python",
   "name": "python",
   "nbconvert_exporter": "python",
   "pygments_lexer": "ipython3",
   "version": "3.11.7"
  },
  "varInspector": {
   "cols": {
    "lenName": 16,
    "lenType": 16,
    "lenVar": 40
   },
   "kernels_config": {
    "python": {
     "delete_cmd_postfix": "",
     "delete_cmd_prefix": "del ",
     "library": "var_list.py",
     "varRefreshCmd": "print(var_dic_list())"
    },
    "r": {
     "delete_cmd_postfix": ") ",
     "delete_cmd_prefix": "rm(",
     "library": "var_list.r",
     "varRefreshCmd": "cat(var_dic_list()) "
    }
   },
   "types_to_exclude": [
    "module",
    "function",
    "builtin_function_or_method",
    "instance",
    "_Feature"
   ],
   "window_display": false
  }
 },
 "nbformat": 4,
 "nbformat_minor": 5
}
