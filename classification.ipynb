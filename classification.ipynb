{
 "cells": [
  {
   "cell_type": "code",
   "execution_count": 1,
   "id": "bc5c74dc",
   "metadata": {},
   "outputs": [
    {
     "data": {
      "text/html": [
       "<style>.container { width:90% !important; }</style>"
      ],
      "text/plain": [
       "<IPython.core.display.HTML object>"
      ]
     },
     "metadata": {},
     "output_type": "display_data"
    }
   ],
   "source": [
    "from IPython.display import display, HTML\n",
    "display(HTML(\"<style>.container { width:90% !important; }</style>\"))\n",
    "\n",
    "from pylab import rcParams\n",
    "rcParams['figure.figsize'] = 12,8"
   ]
  },
  {
   "cell_type": "code",
   "execution_count": 2,
   "id": "3d57b9af",
   "metadata": {},
   "outputs": [],
   "source": [
    "import matplotlib.pyplot as plt\n",
    "import seaborn as sns\n",
    "\n",
    "\n",
    "import pandas as pd\n",
    "import numpy as np\n",
    "\n",
    "from datetime import datetime, timedelta\n",
    "\n",
    "import re\n",
    "\n",
    "import os\n",
    "from glob import glob\n",
    "from tqdm import tqdm\n",
    "\n",
    "import yaml\n",
    "from yaml import dump\n",
    "import uuid\n",
    "import itertools"
   ]
  },
  {
   "cell_type": "code",
   "execution_count": 3,
   "id": "194a5fc2",
   "metadata": {},
   "outputs": [],
   "source": [
    "import xgboost\n",
    "from xgboost import XGBClassifier\n",
    "\n",
    "from sklearn.ensemble import RandomForestClassifier\n",
    "from sklearn.linear_model import SGDClassifier, LogisticRegression\n",
    "from sklearn.neighbors import KNeighborsClassifier\n",
    "\n",
    "from lightgbm import LGBMClassifier"
   ]
  },
  {
   "cell_type": "code",
   "execution_count": 4,
   "id": "6627bb13",
   "metadata": {},
   "outputs": [],
   "source": [
    "import plotly.graph_objects as go\n",
    "import plotly.express as px\n",
    "from plotly.subplots import make_subplots"
   ]
  },
  {
   "cell_type": "code",
   "execution_count": 5,
   "id": "2392ee5b",
   "metadata": {},
   "outputs": [],
   "source": [
    "import warnings\n",
    "warnings.simplefilter(action=\"ignore\")"
   ]
  },
  {
   "cell_type": "markdown",
   "id": "8d4043eb",
   "metadata": {
    "heading_collapsed": true
   },
   "source": [
    "## Initialization"
   ]
  },
  {
   "cell_type": "code",
   "execution_count": 6,
   "id": "18b7df95",
   "metadata": {
    "hidden": true
   },
   "outputs": [],
   "source": [
    "# companies = [\"AMAZON\", \"APPLE\", \"GOOGLE\", \"META\", \"NETFLIX\"]\n",
    "# time_period = [\"daily\", \"weekly\", \"monthly\"]\n",
    "\n",
    "# path = f\"/diploma_info/datalake/raw_data/{companies[2]}_{time_period[2]}.csv\""
   ]
  },
  {
   "cell_type": "code",
   "execution_count": 7,
   "id": "e717a7fa",
   "metadata": {
    "hidden": true
   },
   "outputs": [],
   "source": [
    "# date_parse = lambda dates: pd.to_datetime(dates)\n",
    "\n",
    "# df = pd.read_csv(\n",
    "#     path,\n",
    "#     parse_dates=[\"Date\"],\n",
    "#     date_parser=date_parse,\n",
    "#     index_col=[\"Date\"],\n",
    "# )"
   ]
  },
  {
   "cell_type": "code",
   "execution_count": 8,
   "id": "4002d9dc",
   "metadata": {
    "hidden": true
   },
   "outputs": [],
   "source": [
    "# growth = [0]\n",
    "# diff_value = [0]\n",
    "\n",
    "\n",
    "# for k in range(1, df.shape[0]):\n",
    "#     diff_value.append(df.iloc[k][\"Close\"] - df.iloc[k-1][\"Close\"])\n",
    "#     if diff_value[-1] > 0:\n",
    "#         growth.append(1)\n",
    "#     else:\n",
    "#         growth.append(0)"
   ]
  },
  {
   "cell_type": "code",
   "execution_count": 9,
   "id": "2fa657f5",
   "metadata": {
    "hidden": true
   },
   "outputs": [],
   "source": [
    "# df['diff_value'] = diff_value\n",
    "# df['growth'] = growth"
   ]
  },
  {
   "cell_type": "markdown",
   "id": "6b896891",
   "metadata": {
    "heading_collapsed": true
   },
   "source": [
    "## EDA"
   ]
  },
  {
   "cell_type": "code",
   "execution_count": 10,
   "id": "63f41236",
   "metadata": {
    "hidden": true
   },
   "outputs": [],
   "source": [
    "# df.shape[0]-df.growth.sum(), df.growth.sum()"
   ]
  },
  {
   "cell_type": "code",
   "execution_count": 11,
   "id": "a9b20356",
   "metadata": {
    "hidden": true
   },
   "outputs": [],
   "source": [
    "# start = datetime(2023, 12, 1, 0)\n",
    "# end = datetime(2024, 1, 31, 23)\n",
    "\n",
    "\n",
    "# fig = make_subplots(specs=[[{\"secondary_y\": True}]])\n",
    "# text = {\"date\": df.index.date,\n",
    "#         \"open\": df.Open,\n",
    "#         \"high\": df.High,\n",
    "#         \"low\": df.Low,\n",
    "#         \"close\": df.Close,\n",
    "#        }\n",
    "\n",
    "\n",
    "# fig.add_trace(go.Scatter(x=df.index.date,\n",
    "#                          y=df.Close,\n",
    "#                          name='Google',\n",
    "#                          text=round(df.Open, 5),\n",
    "#                          line_color='#000000',\n",
    "#                          hovertemplate=\"Date: %{x}<br>Open: %{text}<br>Close: %{y}\"\n",
    "#                         ),\n",
    "#                secondary_y=False\n",
    "#              )\n",
    "\n",
    "# colors = ['red' if df.iloc[k].growth == 0 else 'green' for k in range(df.shape[0])]\n",
    "\n",
    "# fig.add_trace(go.Bar(x=df.index.date,\n",
    "#                      y=df.diff_value,\n",
    "#                      name='Growth_or_Fall',\n",
    "#                      marker_color=colors,\n",
    "#                      ),\n",
    "#                secondary_y=True\n",
    "#              )\n",
    "\n",
    "\n",
    "# fig.update_layout(title=f'Electricity_consumption', \n",
    "#                   xaxis_tickangle=-45,\n",
    "#                   width=1500,\n",
    "#                   height=800\n",
    "#                  )\n",
    "\n",
    "# fig.update_layout(hovermode=\"x\")\n",
    "# fig.update_xaxes(rangeslider_visible=True)\n",
    "# fig.update_yaxes(title_text=\"Close price value\", secondary_y=False)\n",
    "# fig.update_yaxes(title_text=\"Change\", secondary_y=True)\n",
    "\n",
    "\n",
    "# # fig.write_html()\n",
    "\n",
    "# fig.show()"
   ]
  },
  {
   "cell_type": "code",
   "execution_count": null,
   "id": "265e9dd0",
   "metadata": {
    "hidden": true
   },
   "outputs": [],
   "source": []
  },
  {
   "cell_type": "code",
   "execution_count": null,
   "id": "99137685",
   "metadata": {
    "hidden": true
   },
   "outputs": [],
   "source": []
  },
  {
   "cell_type": "markdown",
   "id": "908c4f54",
   "metadata": {},
   "source": [
    "## Forecasting"
   ]
  },
  {
   "cell_type": "markdown",
   "id": "5172d8a5",
   "metadata": {},
   "source": [
    "#### initialize all required valiables, prepare datasets"
   ]
  },
  {
   "cell_type": "code",
   "execution_count": 12,
   "id": "042f2e61",
   "metadata": {},
   "outputs": [],
   "source": [
    "def init(company, period):\n",
    "\n",
    "    train_end = datetime(2023, 12, 31)\n",
    "    test_start = datetime(2024, 1, 1)\n",
    "    test_end = datetime(2024, 2, 8)\n",
    "    \n",
    "    train_features_set = [\n",
    "        ['open', 'volume_lag_1', 'usa_inflation_%', '1_USD_to_EUR_lag_1', '1_EUR_to_USD_lag_1', '1_UAH_to_USD_lag_1', '1_USD_to_UAH_lag_1', '1_EUR_to_UAH_lag_1', '1_UAH_to_EUR_lag_1'],\n",
    "        ['open', 'close_max_3_days', 'close_min_3_days', 'close_mean_3_days', '1_USD_to_EUR_lag_1', '1_EUR_to_USD_lag_1', '1_UAH_to_USD_lag_1', '1_USD_to_UAH_lag_1', '1_EUR_to_UAH_lag_1', '1_UAH_to_EUR_lag_1'],\n",
    "        ['open', 'year', 'month', 'day', 'day_of_week', 'week_of_year', '1_USD_to_EUR_lag_1', '1_EUR_to_USD_lag_1', '1_UAH_to_USD_lag_1', '1_USD_to_UAH_lag_1', '1_EUR_to_UAH_lag_1', '1_UAH_to_EUR_lag_1']\n",
    "    ]\n",
    "\n",
    "    \n",
    "    date_parse = lambda dates: pd.to_datetime(dates)\n",
    "    path = f\"/diploma_info/datalake/processed_data/{company}_{period}.csv\"\n",
    "    \n",
    "    full_set = pd.read_csv(\n",
    "        path,\n",
    "        parse_dates=[\"date\"],\n",
    "        date_parser=date_parse,\n",
    "        index_col=[\"date\"],\n",
    "    )\n",
    "#     full_set.index.name = 'date'\n",
    "#     full_set.columns = [c.lower() for c in full_set.columns]\n",
    "    \n",
    "#     full_set = create_target_value(full_set)\n",
    "#     full_set = create_new_features(full_set, test_end)\n",
    "\n",
    "    full_set['growth_lag_7'] = full_set['growth'].shift(7).bfill()\n",
    "\n",
    "    full_set = full_set.fillna(0)\n",
    "    \n",
    "    # create _mixed values\n",
    "#     full_set['close_mixed'] = full_set['close']\n",
    "#     full_set.loc[test_start:, 'close_mixed'] = full_set.loc[test_start:, 'close_lag_1']\n",
    "#     full_set['volume_mixed'] = full_set['volume']\n",
    "#     full_set.loc[test_start:, 'volume_mixed'] = full_set.loc[test_start:, 'volume_lag_1']\n",
    "    \n",
    "    \n",
    "    test_start = datetime(full_set.loc[test_start:].index[0].year, full_set.loc[test_start:].index[0].month, full_set.loc[test_start:].index[0].day)\n",
    "    train_end = datetime(full_set.loc[:train_end].index[-1].year, full_set.loc[:train_end].index[-1].month, full_set.loc[:train_end].index[-1].day)\n",
    "    \n",
    "    \n",
    "    return full_set, train_end, test_start, test_end, train_features_set"
   ]
  },
  {
   "cell_type": "code",
   "execution_count": 13,
   "id": "d41c580a",
   "metadata": {
    "code_folding": [
     0
    ]
   },
   "outputs": [],
   "source": [
    "def create_target_value(df):\n",
    "\n",
    "    growth = [0]\n",
    "    diff_value = [0]\n",
    "\n",
    "\n",
    "    for k in range(1, df.shape[0]):\n",
    "        diff_value.append(df.iloc[k][\"close\"] - df.iloc[k-1][\"close\"])\n",
    "        if diff_value[-1] > 0:\n",
    "            growth.append(1)\n",
    "        else:\n",
    "            growth.append(0)\n",
    "\n",
    "    df['diff_value'] = diff_value\n",
    "    df['growth'] = growth\n",
    "    \n",
    "    return df"
   ]
  },
  {
   "cell_type": "code",
   "execution_count": 14,
   "id": "0b4fbfae",
   "metadata": {
    "code_folding": [
     0
    ]
   },
   "outputs": [],
   "source": [
    "def create_new_features(df, test_end):\n",
    "    \n",
    "    df['year'] = df.index.year\n",
    "    df['month'] = df.index.month\n",
    "    df['day'] = df.index.day\n",
    "    df['day_of_week'] = df.index.weekday\n",
    "    df['week_of_year'] = (df.index.isocalendar()['week']).astype('int')\n",
    "    df['close_lag_1'] = df['close'].shift(1).bfill()\n",
    "    df['volume_lag_1'] = df['volume'].shift(1).bfill()\n",
    "\n",
    "    for window in [3, 5, 7]:\n",
    "        close_agg = pd.DataFrame(round(df['close'].rolling(window=window, closed='left').agg(\n",
    "            ('max', 'min', 'mean')\n",
    "        )))\n",
    "        close_agg.columns = [f'close_max_{window}_days', f'close_min_{window}_days', f'close_mean_{window}_days']\n",
    "        day_mean = close_agg.reset_index()[['date', f'close_max_{window}_days', f'close_min_{window}_days', f'close_mean_{window}_days']]\n",
    "\n",
    "        df = df.reset_index().merge(day_mean, on='date').set_index(\"date\")\n",
    "        df = df.loc[:test_end.strftime(\"%Y%m%d\"),]\n",
    "    \n",
    "    return df"
   ]
  },
  {
   "cell_type": "code",
   "execution_count": 15,
   "id": "c42b5f2c",
   "metadata": {
    "code_folding": [
     0,
     31,
     69,
     104
    ]
   },
   "outputs": [],
   "source": [
    "def models_hyperparameter_random_forest(company):\n",
    "\n",
    "    depth_list = []\n",
    "    n_estimators_list = []\n",
    "    \n",
    "    if company == 'amazon':\n",
    "        depth_list = [7]\n",
    "        n_estimators_list = [5000]\n",
    "    elif company == 'apple' or company == 'netflix':\n",
    "        depth_list = [7]\n",
    "        n_estimators_list = [10]\n",
    "    elif company == 'meta':\n",
    "        depth_list = [9]\n",
    "        n_estimators_list = [10]\n",
    "    elif company == 'google':\n",
    "        depth_list = [9]\n",
    "        n_estimators_list = [10, 200]\n",
    "    \n",
    "    hyperparameters_for_model = []\n",
    "    \n",
    "    for depth, n_estimators in itertools.product(depth_list, n_estimators_list):\n",
    "        hyperparameters_for_model.append({\n",
    "                        'n_estimators': n_estimators,\n",
    "                        'n_jobs': -1,\n",
    "                        'random_state': 2,\n",
    "                        'max_depth': depth,\n",
    "            })\n",
    "\n",
    "    return hyperparameters_for_model\n",
    "\n",
    "\n",
    "def models_hyperparameter_xgboost(company):\n",
    "\n",
    "    depth_list = []\n",
    "    n_estimators_list = []\n",
    "    \n",
    "    if company == 'apple' or company == 'google':\n",
    "        depth_list = [7, 9]\n",
    "        n_estimators_list = [10, 200]\n",
    "    elif company == 'amazon':\n",
    "        depth_list = [7]\n",
    "        n_estimators_list = [10]\n",
    "    elif company == 'meta':\n",
    "        depth_list = [7]\n",
    "        n_estimators_list = [5000]\n",
    "    elif company == 'netflix':\n",
    "        depth_list = [9]\n",
    "        n_estimators_list = [200]\n",
    "    \n",
    "    hyperparameters_for_model = []\n",
    "    \n",
    "    for depth, n_estimators in itertools.product(depth_list, n_estimators_list):\n",
    "        hyperparameters_for_model.append({\n",
    "                    'n_estimators': n_estimators,\n",
    "                    'n_jobs': -1,\n",
    "                    'max_depth': depth,\n",
    "                    'eta': 0.3,\n",
    "                    'booster': 'gbtree',\n",
    "                    'objective': 'reg:squarederror',\n",
    "                    'eval_metric': 'rmse',\n",
    "                    'subsample': 1,\n",
    "                    'colsample_bytree': 1,\n",
    "                    'min_child_weight': 1,\n",
    "                    'random_state': 2,\n",
    "            })\n",
    "        \n",
    "    return hyperparameters_for_model\n",
    "\n",
    "\n",
    "def models_hyperparameter_lgbm(company):\n",
    "\n",
    "    depth_list = []\n",
    "    n_estimators_list = []\n",
    "    \n",
    "    if company == 'apple' or company == 'meta':\n",
    "        depth_list = [7, 9]\n",
    "        n_estimators_list = [5000]\n",
    "    elif company == 'amazon':\n",
    "        depth_list = [7]\n",
    "        n_estimators_list = [200]\n",
    "    elif company == 'google':\n",
    "        depth_list = [7, 9]\n",
    "        n_estimators_list = [10]\n",
    "    elif company == 'netflix':\n",
    "        depth_list = [9]\n",
    "        n_estimators_list = [10, 5000]\n",
    "    \n",
    "    hyperparameters_for_model = []\n",
    "    \n",
    "    for depth, n_estimators in itertools.product(depth_list, n_estimators_list):\n",
    "        hyperparameters_for_model.append({\n",
    "                    'n_estimators': n_estimators,\n",
    "                    'n_jobs': -1,\n",
    "                    'max_depth': depth,\n",
    "                    'eta': 0.3,\n",
    "                    'random_state': 2,\n",
    "                    'objective': 'binary',\n",
    "                    'verbosity': -1,\n",
    "                    'metric': 'binary', \n",
    "            })\n",
    "\n",
    "    return hyperparameters_for_model\n",
    "\n",
    "\n",
    "def models_hyperparameter_knn(company):\n",
    "\n",
    "    n_neighbors_list = []\n",
    "    \n",
    "    if company == 'apple'or company == 'netflix':\n",
    "        n_neighbors_list = [3, 50]\n",
    "    elif company == 'amazon':\n",
    "        n_neighbors_list = [50]\n",
    "    elif company == 'meta':\n",
    "        n_neighbors_list = [9]\n",
    "    elif company == 'google':\n",
    "        n_neighbors_list = [3, 5]\n",
    "    \n",
    "    hyperparameters_for_model = []\n",
    "    \n",
    "    for n_neighbors in n_neighbors_list:\n",
    "        hyperparameters_for_model.append({\n",
    "                        'n_neighbors': n_neighbors,\n",
    "                        'n_jobs': -1\n",
    "            })\n",
    "\n",
    "    return hyperparameters_for_model\n",
    "\n",
    "\n",
    "def models_hyperparameter_log(company):\n",
    "\n",
    "    n_estimators_list = [10]\n",
    "    \n",
    "    hyperparameters_for_model = []\n",
    "    \n",
    "    for n_estimators in n_estimators_list:\n",
    "        hyperparameters_for_model.append({\n",
    "                        'max_iter': n_estimators,\n",
    "                        'n_jobs': -1,\n",
    "                        'random_state': 2,\n",
    "                        'solver': 'liblinear'\n",
    "            })\n",
    "\n",
    "    return hyperparameters_for_model"
   ]
  },
  {
   "cell_type": "code",
   "execution_count": 16,
   "id": "01393351",
   "metadata": {
    "code_folding": []
   },
   "outputs": [],
   "source": [
    "def define_parameters(company, period, train_end, test_start, test_end, train_features_set, forecast_steps, models_dict, problem):\n",
    "    \n",
    "    list_of_configs = []\n",
    "    \n",
    "    model = None\n",
    "    \n",
    "#     for duration in [90, 120, 180, 240]:\n",
    "    for train_start in [datetime(2015, 1, 1), datetime(2020, 1, 1), datetime(2023, 1, 1)]:\n",
    "        for md in models_dict.values():\n",
    "            if md == 'random_forest':\n",
    "                hyperparameters_for_model = models_hyperparameter_random_forest(company)\n",
    "            elif md == 'xgboost':\n",
    "                hyperparameters_for_model = models_hyperparameter_xgboost(company)\n",
    "            elif md == 'lightgbm':\n",
    "                hyperparameters_for_model = models_hyperparameter_lgbm(company)\n",
    "            elif md == 'knear_neighbors':\n",
    "                hyperparameters_for_model = models_hyperparameter_knn(company)\n",
    "            elif md == 'logistic_regression':\n",
    "                hyperparameters_for_model = models_hyperparameter_log(company)\n",
    "            else:\n",
    "                print('Unknown model')\n",
    "                return\n",
    "\n",
    "            for hp in hyperparameters_for_model:\n",
    "\n",
    "                if md == 'random_forest':\n",
    "                    model = RandomForestClassifier(**hp)\n",
    "                elif md == 'xgboost':\n",
    "                    model = XGBClassifier(**hp)\n",
    "                elif md == 'lightgbm':\n",
    "                    model = LGBMClassifier(**hp)\n",
    "                elif md == 'knear_neighbors':\n",
    "                    model = KNeighborsClassifier(**hp)\n",
    "                elif md == 'logistic_regression':\n",
    "                    model = LogisticRegression(**hp)\n",
    "                else:\n",
    "                    print('Unknown model')\n",
    "\n",
    "                for train_features in train_features_set:\n",
    "    #                 'volume_lag_1', 'close_max_3_days', 'month'\n",
    "\n",
    "#                     if company == 'apple' or company == 'google':\n",
    "#                         if 'volume_lag_1' not in train_features and 'month' not in train_features:\n",
    "#                             continue\n",
    "#                     elif company == 'amazon':\n",
    "#                         if 'volume_lag_1' not in train_features and 'close_max_3_days' not in train_features:\n",
    "#                             continue                    \n",
    "#     #                 elif company == 'meta':\n",
    "#     #                     pass \n",
    "#     #                 if not ('volume_lag_1' in train_features or 'month' in train_features): continue                    \n",
    "#                     elif company == 'netflix':\n",
    "#                         if 'close_max_3_days' not in train_features and 'month' not in train_features:\n",
    "#                             continue\n",
    "\n",
    "                    config = {\n",
    "                        'unique_uuid': str(uuid.uuid1()),\n",
    "                        'train_start': train_start,\n",
    "                        'train_end': train_end,\n",
    "                        'test_start': test_start,\n",
    "                        'test_end': test_end,\n",
    "#                         'duration_training_history': duration,\n",
    "                        'target_column': 'growth',\n",
    "                        'train_features': train_features,\n",
    "                        'path_to_result': f'/diploma_info/datalake/',\n",
    "                        'forecast_periods': forecast_steps,\n",
    "        #                 'hour_mean_value': 5,\n",
    "                        'model_name': md,\n",
    "                        'model': model,\n",
    "                        'forecast_frequency': period,\n",
    "                        'company': company,\n",
    "                        'model_hyperparameters': hp,\n",
    "                        'problem': problem\n",
    "                    }\n",
    "\n",
    "                    list_of_configs.append(config.copy())\n",
    "    \n",
    "    return list_of_configs"
   ]
  },
  {
   "cell_type": "markdown",
   "id": "4de80c2e",
   "metadata": {},
   "source": [
    "#### functions used in wfv service"
   ]
  },
  {
   "cell_type": "code",
   "execution_count": 17,
   "id": "4016f075",
   "metadata": {
    "code_folding": []
   },
   "outputs": [],
   "source": [
    "def data(day, X_full_set, y_full_set, train_start, config, forecast_steps):\n",
    "\n",
    "    X_train = X_full_set.loc[train_start:config[\"train_end\"]]\n",
    "    X_test = X_full_set.loc[config[\"test_start\"]+timedelta(days=day):\n",
    "                    config[\"test_start\"]+timedelta(days=day+forecast_steps)]\n",
    "    y_train = y_full_set.loc[train_start:config[\"train_end\"]]\n",
    "    y_test = y_full_set.loc[config[\"test_start\"]+timedelta(days=day):\n",
    "                    config[\"test_start\"]+timedelta(days=day+forecast_steps)]\n",
    "    \n",
    "    return X_train, X_test, y_train, y_test"
   ]
  },
  {
   "cell_type": "code",
   "execution_count": 18,
   "id": "1e1c8fa3",
   "metadata": {
    "code_folding": []
   },
   "outputs": [],
   "source": [
    "def standardize_mean_values(day, df_test, df_train, full_set, config):\n",
    "    \n",
    "    agg_cols = [col for col in config['train_features'] if col.endswith('_lag_1')] + \\\n",
    "               ['diff_open_value', 'open-prev_close', 'diff_close_value', 'growth_open'] + \\\n",
    "               [col for col in config['train_features'] if \"close_m\" in col]\n",
    "    \n",
    "    for agg in agg_cols:\n",
    "        if agg in df_test.columns:\n",
    "            try:\n",
    "                num = df_test.loc[config[\"test_start\"]+timedelta(days=day), agg]\n",
    "\n",
    "            except KeyError as e:\n",
    "                num = df_train[agg].iloc[-1]\n",
    "\n",
    "            finally:\n",
    "\n",
    "                _df = df_test.loc[config[\"test_start\"]+timedelta(days=day):, agg]\n",
    "                _df = _df.replace(_df.values, num)\n",
    "\n",
    "#                 print(df_test.loc[config[\"test_start\"]+timedelta(days=day):, agg], _df.values.ravel())\n",
    "\n",
    "                df_test.loc[config[\"test_start\"]:, agg] = _df.values.ravel()\n",
    "    \n",
    "    if 'open' in config['train_features']:\n",
    "        \n",
    "        idx_1 = df_test.iloc[1].name\n",
    "        df_test.loc[idx_1, 'open'] = full_set.loc[idx_1, 'new_open']\n",
    "        \n",
    "        for n in range(df_test.loc[idx_1+timedelta(days=1):].shape[0]):\n",
    "            \n",
    "            _date = df_test.loc[idx_1+timedelta(days=1):].iloc[n].name\n",
    "            df_test.loc[_date, 'open'] = full_set.loc[df_test.iloc[1+n].name, 'open'] + full_set.loc[idx_1-timedelta(days=5):idx_1, 'diff_open_value_mean_3_days'].mean()\n",
    "        \n",
    "    \n",
    "    \n",
    "    return df_test"
   ]
  },
  {
   "cell_type": "code",
   "execution_count": 19,
   "id": "7bc649df",
   "metadata": {},
   "outputs": [],
   "source": [
    "def add_predictions(day, model_name, df_preds, y_pred_df, y_test, config):\n",
    "    \n",
    "    dates = y_test.index\n",
    "    \n",
    "    for date in dates:\n",
    "        step_day = int((date-(config[\"test_start\"]+timedelta(days=day))).days)\n",
    "        df_preds.loc[date.strftime(\"%Y-%m-%d\"), f'd-{step_day}'] = y_pred_df.loc[date.strftime(\"%Y-%m-%d\"), 0]\n",
    "    \n",
    "    return df_preds"
   ]
  },
  {
   "cell_type": "code",
   "execution_count": 20,
   "id": "cf71e08e",
   "metadata": {
    "code_folding": [
     15,
     20
    ]
   },
   "outputs": [],
   "source": [
    "def estimations(day, df_stats, y_pred_df, y_test, config):\n",
    "    \n",
    "    dates = y_test.index\n",
    "    \n",
    "    for date in dates:\n",
    "        step_day = int((date-(config[\"test_start\"]+timedelta(days=day))).days)\n",
    "\n",
    "        try:\n",
    "            pred = y_pred_df.loc[date].values[0]\n",
    "            real = y_test.loc[date].values[0]\n",
    "\n",
    "            err = pred-real\n",
    "\n",
    "            df_stats.loc[date, f'd-{step_day}' + '_is_true'] = 1 if (err == 0) else 0\n",
    "            \n",
    "        except ZeroDivisionError as e:\n",
    "            print(e)\n",
    "\n",
    "            df_stats.loc[date, f'd-{step_day}' + '_is_true'] = 0\n",
    "\n",
    "        except KeyError as e:\n",
    "            print(e)\n",
    "\n",
    "            df_stats.loc[date, f'd-{step_day}' + '_is_true'] = 0\n",
    "    \n",
    "    return df_stats"
   ]
  },
  {
   "cell_type": "code",
   "execution_count": 21,
   "id": "664c8058",
   "metadata": {},
   "outputs": [],
   "source": [
    "def write_predictions(forecast_steps, df_preds, config, research_task_uuid, problem):\n",
    "    \n",
    "    for step in range(forecast_steps+1):\n",
    "        try:\n",
    "            pred = df_preds.loc[:, [f'd-{step}']].dropna().sort_index()\n",
    "            pred.index.name = 'date_time'\n",
    "\n",
    "            path_to_files = os.path.join(config['path_to_result'], \"forecast\", problem,\n",
    "                                         config['company'], config['forecast_frequency'], config['model_name'], \n",
    "                                         f\"research_task_{research_task_uuid}\", \n",
    "                                         f\"{config['model_name']}_{config['unique_uuid']}\")\n",
    "            if not os.path.isdir(path_to_files):\n",
    "                os.makedirs(path_to_files)\n",
    "                \n",
    "            file_name = os.path.join(path_to_files, \n",
    "                    f\"forecast_d-{step}_{config['model_name']}.csv\")\n",
    "\n",
    "            pd.DataFrame(pred).to_csv(file_name)\n",
    "\n",
    "        except KeyError:\n",
    "            pass"
   ]
  },
  {
   "cell_type": "markdown",
   "id": "a41fc750",
   "metadata": {},
   "source": [
    "### wfv service"
   ]
  },
  {
   "cell_type": "markdown",
   "id": "25651890",
   "metadata": {},
   "source": [
    "#### *add train_features grid (day_means, date_features, lag_features etc.)\n",
    "\n",
    "#### *add checking LightGBM, Random_Forest, Linear_Classifier etc. \n",
    "\n",
    "#### *add lag_features (? check whats better: those or \"mean\"s) \n",
    "\n",
    "#### *am I able to add some factors like inflation/company's profit etc."
   ]
  },
  {
   "cell_type": "code",
   "execution_count": 22,
   "id": "c32598ef",
   "metadata": {
    "code_folding": [],
    "scrolled": true
   },
   "outputs": [],
   "source": [
    "def run_wfv(full_set: pd.DataFrame, config: dict, research_task_uuid: str, forecast_steps: int, company: str, models_dict: dict, problem: str):\n",
    "    \n",
    "    X_full_set = full_set.loc[:, config['train_features']]\n",
    "    y_full_set = full_set.loc[:, [config['target_column']]]\n",
    "    \n",
    "    if X_full_set.shape[0] != y_full_set.shape[0]:\n",
    "        common_index = list(set(X_full_set.index) & set(y_full_set.index))\n",
    "        common_index.sort()\n",
    "        X_full_set = X_full_set.loc[common_index, :]\n",
    "        y_full_set = y_full_set.loc[common_index, :]\n",
    "    print(X_full_set.shape, y_full_set.shape)\n",
    "    \n",
    "\n",
    "    df_preds = pd.DataFrame()\n",
    "    df_stats = pd.DataFrame()\n",
    "\n",
    "    count_days = (test_end - test_start).days + 1\n",
    "    \n",
    "    \n",
    "    model_name = config['model_name']\n",
    "    print(model_name)\n",
    "    \n",
    "    model = config['model']\n",
    "\n",
    "    unique_uuid = config['unique_uuid']\n",
    "    \n",
    "    if not os.path.isdir(config['path_to_result']):\n",
    "        os.makedirs(config['path_to_result'])\n",
    "\n",
    "    path_folder_result = os.path.join(config['path_to_result'], \"wf_result\", problem, config['company'], \n",
    "                                      config['forecast_frequency'], model_name,\n",
    "                                      f\"research_task_{research_task_uuid}\")\n",
    "    if not os.path.isdir(path_folder_result):\n",
    "        os.makedirs(path_folder_result)\n",
    "        \n",
    "        \n",
    "\n",
    "    for day in tqdm(range(count_days)):\n",
    "        \n",
    "        train_start = config.get('train_start', None)\n",
    "        if train_start is None:\n",
    "            if config.get('duration_training_history', None) is None:\n",
    "                train_start = X_full_set.index[0]\n",
    "                config['train_start'] = datetime(train_start.year, train_start.month, train_start.day)\n",
    "            else:\n",
    "                train_start = config['train_end'] + timedelta(days=day - config['duration_training_history'])\n",
    "\n",
    "        try:\n",
    "\n",
    "            X_train, X_test, y_train, y_test = data(day, X_full_set, y_full_set, train_start, config, forecast_steps)\n",
    "    #         print(X_train, y_train)\n",
    "            X_test = standardize_mean_values(day, X_test.copy(), X_train, full_set, config)\n",
    "    #             print(test_start+timedelta(days=day), 'x_test: ', X_test.head(2))\n",
    "\n",
    "            y_pred = model.fit(X_train, y_train).predict(X_test)\n",
    "\n",
    "    #             print(y_pred)\n",
    "\n",
    "            y_pred_df = pd.DataFrame(y_pred, index=y_test.index)\n",
    "            df_preds = add_predictions(day, model_name, df_preds, y_pred_df, y_test, config)\n",
    "\n",
    "            df_stats = estimations(day, df_stats, y_pred_df, y_test, config)\n",
    "        \n",
    "\n",
    "\n",
    "        except KeyError as e:\n",
    "            print(e)\n",
    "            continue\n",
    "            \n",
    "        except ValueError as e:\n",
    "            print(e)\n",
    "            continue\n",
    "\n",
    "\n",
    "    write_predictions(forecast_steps, df_preds, config, research_task_uuid, problem)\n",
    "\n",
    "\n",
    "    last_index = df_stats.index[-1]\n",
    "    df_stats.loc[last_index, 'model_hyperparameters'] = str(config['model_hyperparameters'])\n",
    "    df_stats.loc[last_index, 'train_features'] = str(config['train_features'])\n",
    "    \n",
    "    path_to_save_result_csv = os.path.join(path_folder_result, f'{model_name}_{unique_uuid}.csv')\n",
    "    df_stats.round(2).to_csv(path_to_save_result_csv, date_format='%Y-%m-%d %H:%M:%S')\n",
    "    \n",
    "    config_to_save = config.copy()\n",
    "    config_to_save.pop('model', None)\n",
    "    with open(os.path.join(path_folder_result, f'{model_name}_{unique_uuid}.yaml'), 'w') as outfile:\n",
    "        dump(config_to_save, outfile, default_flow_style=False)"
   ]
  },
  {
   "cell_type": "code",
   "execution_count": 23,
   "id": "b0650674",
   "metadata": {
    "scrolled": true
   },
   "outputs": [
    {
     "name": "stdout",
     "output_type": "stream",
     "text": [
      "company: AMAZON\t period: daily\t train ends: 2023-12-29 00:00:00\t test starts: 2024-01-02 00:00:00\n",
      "_research_task_uuid = 9b442dac-20b6-11ef-b43a-c0e434d84b22\n",
      "\n",
      "count_configs 36 \n",
      "\n",
      "xgboost == {'unique_uuid': '9b442dad-20b6-11ef-accb-c0e434d84b22', 'train_start': datetime.datetime(2015, 1, 1, 0, 0), 'train_end': datetime.datetime(2023, 12, 29, 0, 0), 'test_start': datetime.datetime(2024, 1, 2, 0, 0), 'test_end': datetime.datetime(2024, 2, 8, 0, 0), 'target_column': 'growth', 'train_features': ['open', 'volume_lag_1', 'usa_inflation_%', '1_USD_to_EUR_lag_1', '1_EUR_to_USD_lag_1', '1_UAH_to_USD_lag_1', '1_USD_to_UAH_lag_1', '1_EUR_to_UAH_lag_1', '1_UAH_to_EUR_lag_1'], 'path_to_result': '/diploma_info/datalake/', 'forecast_periods': 4, 'model_name': 'xgboost', 'model': XGBClassifier(base_score=None, booster='gbtree', callbacks=None,\n",
      "              colsample_bylevel=None, colsample_bynode=None, colsample_bytree=1,\n",
      "              device=None, early_stopping_rounds=None, enable_categorical=False,\n",
      "              eta=0.3, eval_metric='rmse', feature_types=None, gamma=None,\n",
      "              grow_policy=None, importance_type=None,\n",
      "              interaction_constraints=None, learning_rate=None, max_bin=None,\n",
      "              max_cat_threshold=None, max_cat_to_onehot=None,\n",
      "              max_delta_step=None, max_depth=7, max_leaves=None,\n",
      "              min_child_weight=1, missing=nan, monotone_constraints=None,\n",
      "              multi_strategy=None, n_estimators=10, n_jobs=-1,\n",
      "              num_parallel_tree=None, ...), 'forecast_frequency': 'daily', 'company': 'amazon', 'model_hyperparameters': {'n_estimators': 10, 'n_jobs': -1, 'max_depth': 7, 'eta': 0.3, 'booster': 'gbtree', 'objective': 'reg:squarederror', 'eval_metric': 'rmse', 'subsample': 1, 'colsample_bytree': 1, 'min_child_weight': 1, 'random_state': 2}, 'problem': 'classification'} \n",
      "\n",
      "(2368, 9) (2368, 1)\n",
      "xgboost\n"
     ]
    },
    {
     "name": "stderr",
     "output_type": "stream",
     "text": [
      "100%|██████████████████████████████████████████████████████████████████████████████████| 38/38 [00:02<00:00, 14.21it/s]\n"
     ]
    },
    {
     "name": "stdout",
     "output_type": "stream",
     "text": [
      "xgboost == {'unique_uuid': '9b442dae-20b6-11ef-a4da-c0e434d84b22', 'train_start': datetime.datetime(2015, 1, 1, 0, 0), 'train_end': datetime.datetime(2023, 12, 29, 0, 0), 'test_start': datetime.datetime(2024, 1, 2, 0, 0), 'test_end': datetime.datetime(2024, 2, 8, 0, 0), 'target_column': 'growth', 'train_features': ['open', 'close_max_3_days', 'close_min_3_days', 'close_mean_3_days', '1_USD_to_EUR_lag_1', '1_EUR_to_USD_lag_1', '1_UAH_to_USD_lag_1', '1_USD_to_UAH_lag_1', '1_EUR_to_UAH_lag_1', '1_UAH_to_EUR_lag_1'], 'path_to_result': '/diploma_info/datalake/', 'forecast_periods': 4, 'model_name': 'xgboost', 'model': XGBClassifier(base_score=None, booster='gbtree', callbacks=None,\n",
      "              colsample_bylevel=None, colsample_bynode=None, colsample_bytree=1,\n",
      "              device=None, early_stopping_rounds=None, enable_categorical=False,\n",
      "              eta=0.3, eval_metric='rmse', feature_types=None, gamma=None,\n",
      "              grow_policy=None, importance_type=None,\n",
      "              interaction_constraints=None, learning_rate=None, max_bin=None,\n",
      "              max_cat_threshold=None, max_cat_to_onehot=None,\n",
      "              max_delta_step=None, max_depth=7, max_leaves=None,\n",
      "              min_child_weight=1, missing=nan, monotone_constraints=None,\n",
      "              multi_strategy=None, n_estimators=10, n_jobs=-1,\n",
      "              num_parallel_tree=None, ...), 'forecast_frequency': 'daily', 'company': 'amazon', 'model_hyperparameters': {'n_estimators': 10, 'n_jobs': -1, 'max_depth': 7, 'eta': 0.3, 'booster': 'gbtree', 'objective': 'reg:squarederror', 'eval_metric': 'rmse', 'subsample': 1, 'colsample_bytree': 1, 'min_child_weight': 1, 'random_state': 2}, 'problem': 'classification'} \n",
      "\n",
      "(2368, 10) (2368, 1)\n",
      "xgboost\n"
     ]
    },
    {
     "name": "stderr",
     "output_type": "stream",
     "text": [
      "100%|██████████████████████████████████████████████████████████████████████████████████| 38/38 [00:01<00:00, 22.44it/s]\n"
     ]
    },
    {
     "name": "stdout",
     "output_type": "stream",
     "text": [
      "xgboost == {'unique_uuid': '9b442daf-20b6-11ef-9a1c-c0e434d84b22', 'train_start': datetime.datetime(2015, 1, 1, 0, 0), 'train_end': datetime.datetime(2023, 12, 29, 0, 0), 'test_start': datetime.datetime(2024, 1, 2, 0, 0), 'test_end': datetime.datetime(2024, 2, 8, 0, 0), 'target_column': 'growth', 'train_features': ['open', 'year', 'month', 'day', 'day_of_week', 'week_of_year', '1_USD_to_EUR_lag_1', '1_EUR_to_USD_lag_1', '1_UAH_to_USD_lag_1', '1_USD_to_UAH_lag_1', '1_EUR_to_UAH_lag_1', '1_UAH_to_EUR_lag_1'], 'path_to_result': '/diploma_info/datalake/', 'forecast_periods': 4, 'model_name': 'xgboost', 'model': XGBClassifier(base_score=None, booster='gbtree', callbacks=None,\n",
      "              colsample_bylevel=None, colsample_bynode=None, colsample_bytree=1,\n",
      "              device=None, early_stopping_rounds=None, enable_categorical=False,\n",
      "              eta=0.3, eval_metric='rmse', feature_types=None, gamma=None,\n",
      "              grow_policy=None, importance_type=None,\n",
      "              interaction_constraints=None, learning_rate=None, max_bin=None,\n",
      "              max_cat_threshold=None, max_cat_to_onehot=None,\n",
      "              max_delta_step=None, max_depth=7, max_leaves=None,\n",
      "              min_child_weight=1, missing=nan, monotone_constraints=None,\n",
      "              multi_strategy=None, n_estimators=10, n_jobs=-1,\n",
      "              num_parallel_tree=None, ...), 'forecast_frequency': 'daily', 'company': 'amazon', 'model_hyperparameters': {'n_estimators': 10, 'n_jobs': -1, 'max_depth': 7, 'eta': 0.3, 'booster': 'gbtree', 'objective': 'reg:squarederror', 'eval_metric': 'rmse', 'subsample': 1, 'colsample_bytree': 1, 'min_child_weight': 1, 'random_state': 2}, 'problem': 'classification'} \n",
      "\n",
      "(2368, 12) (2368, 1)\n",
      "xgboost\n"
     ]
    },
    {
     "name": "stderr",
     "output_type": "stream",
     "text": [
      "100%|██████████████████████████████████████████████████████████████████████████████████| 38/38 [00:01<00:00, 25.11it/s]\n"
     ]
    },
    {
     "name": "stdout",
     "output_type": "stream",
     "text": [
      "lightgbm == {'unique_uuid': '9b442db0-20b6-11ef-b7af-c0e434d84b22', 'train_start': datetime.datetime(2015, 1, 1, 0, 0), 'train_end': datetime.datetime(2023, 12, 29, 0, 0), 'test_start': datetime.datetime(2024, 1, 2, 0, 0), 'test_end': datetime.datetime(2024, 2, 8, 0, 0), 'target_column': 'growth', 'train_features': ['open', 'volume_lag_1', 'usa_inflation_%', '1_USD_to_EUR_lag_1', '1_EUR_to_USD_lag_1', '1_UAH_to_USD_lag_1', '1_USD_to_UAH_lag_1', '1_EUR_to_UAH_lag_1', '1_UAH_to_EUR_lag_1'], 'path_to_result': '/diploma_info/datalake/', 'forecast_periods': 4, 'model_name': 'lightgbm', 'model': LGBMClassifier(eta=0.3, max_depth=7, metric='binary', n_estimators=200,\n",
      "               n_jobs=-1, objective='binary', random_state=2, verbosity=-1), 'forecast_frequency': 'daily', 'company': 'amazon', 'model_hyperparameters': {'n_estimators': 200, 'n_jobs': -1, 'max_depth': 7, 'eta': 0.3, 'random_state': 2, 'objective': 'binary', 'verbosity': -1, 'metric': 'binary'}, 'problem': 'classification'} \n",
      "\n",
      "(2368, 9) (2368, 1)\n",
      "lightgbm\n"
     ]
    },
    {
     "name": "stderr",
     "output_type": "stream",
     "text": [
      "100%|██████████████████████████████████████████████████████████████████████████████████| 38/38 [00:03<00:00, 12.35it/s]\n"
     ]
    },
    {
     "name": "stdout",
     "output_type": "stream",
     "text": [
      "lightgbm == {'unique_uuid': '9b442db1-20b6-11ef-bd08-c0e434d84b22', 'train_start': datetime.datetime(2015, 1, 1, 0, 0), 'train_end': datetime.datetime(2023, 12, 29, 0, 0), 'test_start': datetime.datetime(2024, 1, 2, 0, 0), 'test_end': datetime.datetime(2024, 2, 8, 0, 0), 'target_column': 'growth', 'train_features': ['open', 'close_max_3_days', 'close_min_3_days', 'close_mean_3_days', '1_USD_to_EUR_lag_1', '1_EUR_to_USD_lag_1', '1_UAH_to_USD_lag_1', '1_USD_to_UAH_lag_1', '1_EUR_to_UAH_lag_1', '1_UAH_to_EUR_lag_1'], 'path_to_result': '/diploma_info/datalake/', 'forecast_periods': 4, 'model_name': 'lightgbm', 'model': LGBMClassifier(eta=0.3, max_depth=7, metric='binary', n_estimators=200,\n",
      "               n_jobs=-1, objective='binary', random_state=2, verbosity=-1), 'forecast_frequency': 'daily', 'company': 'amazon', 'model_hyperparameters': {'n_estimators': 200, 'n_jobs': -1, 'max_depth': 7, 'eta': 0.3, 'random_state': 2, 'objective': 'binary', 'verbosity': -1, 'metric': 'binary'}, 'problem': 'classification'} \n",
      "\n",
      "(2368, 10) (2368, 1)\n",
      "lightgbm\n"
     ]
    },
    {
     "name": "stderr",
     "output_type": "stream",
     "text": [
      "100%|██████████████████████████████████████████████████████████████████████████████████| 38/38 [00:03<00:00, 12.50it/s]\n"
     ]
    },
    {
     "name": "stdout",
     "output_type": "stream",
     "text": [
      "lightgbm == {'unique_uuid': '9b442db2-20b6-11ef-8d83-c0e434d84b22', 'train_start': datetime.datetime(2015, 1, 1, 0, 0), 'train_end': datetime.datetime(2023, 12, 29, 0, 0), 'test_start': datetime.datetime(2024, 1, 2, 0, 0), 'test_end': datetime.datetime(2024, 2, 8, 0, 0), 'target_column': 'growth', 'train_features': ['open', 'year', 'month', 'day', 'day_of_week', 'week_of_year', '1_USD_to_EUR_lag_1', '1_EUR_to_USD_lag_1', '1_UAH_to_USD_lag_1', '1_USD_to_UAH_lag_1', '1_EUR_to_UAH_lag_1', '1_UAH_to_EUR_lag_1'], 'path_to_result': '/diploma_info/datalake/', 'forecast_periods': 4, 'model_name': 'lightgbm', 'model': LGBMClassifier(eta=0.3, max_depth=7, metric='binary', n_estimators=200,\n",
      "               n_jobs=-1, objective='binary', random_state=2, verbosity=-1), 'forecast_frequency': 'daily', 'company': 'amazon', 'model_hyperparameters': {'n_estimators': 200, 'n_jobs': -1, 'max_depth': 7, 'eta': 0.3, 'random_state': 2, 'objective': 'binary', 'verbosity': -1, 'metric': 'binary'}, 'problem': 'classification'} \n",
      "\n",
      "(2368, 12) (2368, 1)\n",
      "lightgbm\n"
     ]
    },
    {
     "name": "stderr",
     "output_type": "stream",
     "text": [
      "100%|██████████████████████████████████████████████████████████████████████████████████| 38/38 [00:03<00:00, 11.44it/s]\n"
     ]
    },
    {
     "name": "stdout",
     "output_type": "stream",
     "text": [
      "random_forest == {'unique_uuid': '9b442db3-20b6-11ef-b661-c0e434d84b22', 'train_start': datetime.datetime(2015, 1, 1, 0, 0), 'train_end': datetime.datetime(2023, 12, 29, 0, 0), 'test_start': datetime.datetime(2024, 1, 2, 0, 0), 'test_end': datetime.datetime(2024, 2, 8, 0, 0), 'target_column': 'growth', 'train_features': ['open', 'volume_lag_1', 'usa_inflation_%', '1_USD_to_EUR_lag_1', '1_EUR_to_USD_lag_1', '1_UAH_to_USD_lag_1', '1_USD_to_UAH_lag_1', '1_EUR_to_UAH_lag_1', '1_UAH_to_EUR_lag_1'], 'path_to_result': '/diploma_info/datalake/', 'forecast_periods': 4, 'model_name': 'random_forest', 'model': RandomForestClassifier(max_depth=7, n_estimators=5000, n_jobs=-1,\n",
      "                       random_state=2), 'forecast_frequency': 'daily', 'company': 'amazon', 'model_hyperparameters': {'n_estimators': 5000, 'n_jobs': -1, 'random_state': 2, 'max_depth': 7}, 'problem': 'classification'} \n",
      "\n",
      "(2368, 9) (2368, 1)\n",
      "random_forest\n"
     ]
    },
    {
     "name": "stderr",
     "output_type": "stream",
     "text": [
      "100%|██████████████████████████████████████████████████████████████████████████████████| 38/38 [06:54<00:00, 10.91s/it]\n"
     ]
    },
    {
     "name": "stdout",
     "output_type": "stream",
     "text": [
      "random_forest == {'unique_uuid': '9b442db4-20b6-11ef-9b7b-c0e434d84b22', 'train_start': datetime.datetime(2015, 1, 1, 0, 0), 'train_end': datetime.datetime(2023, 12, 29, 0, 0), 'test_start': datetime.datetime(2024, 1, 2, 0, 0), 'test_end': datetime.datetime(2024, 2, 8, 0, 0), 'target_column': 'growth', 'train_features': ['open', 'close_max_3_days', 'close_min_3_days', 'close_mean_3_days', '1_USD_to_EUR_lag_1', '1_EUR_to_USD_lag_1', '1_UAH_to_USD_lag_1', '1_USD_to_UAH_lag_1', '1_EUR_to_UAH_lag_1', '1_UAH_to_EUR_lag_1'], 'path_to_result': '/diploma_info/datalake/', 'forecast_periods': 4, 'model_name': 'random_forest', 'model': RandomForestClassifier(max_depth=7, n_estimators=5000, n_jobs=-1,\n",
      "                       random_state=2), 'forecast_frequency': 'daily', 'company': 'amazon', 'model_hyperparameters': {'n_estimators': 5000, 'n_jobs': -1, 'random_state': 2, 'max_depth': 7}, 'problem': 'classification'} \n",
      "\n",
      "(2368, 10) (2368, 1)\n",
      "random_forest\n"
     ]
    },
    {
     "name": "stderr",
     "output_type": "stream",
     "text": [
      "100%|██████████████████████████████████████████████████████████████████████████████████| 38/38 [06:32<00:00, 10.34s/it]\n"
     ]
    },
    {
     "name": "stdout",
     "output_type": "stream",
     "text": [
      "random_forest == {'unique_uuid': '9b442db5-20b6-11ef-87ad-c0e434d84b22', 'train_start': datetime.datetime(2015, 1, 1, 0, 0), 'train_end': datetime.datetime(2023, 12, 29, 0, 0), 'test_start': datetime.datetime(2024, 1, 2, 0, 0), 'test_end': datetime.datetime(2024, 2, 8, 0, 0), 'target_column': 'growth', 'train_features': ['open', 'year', 'month', 'day', 'day_of_week', 'week_of_year', '1_USD_to_EUR_lag_1', '1_EUR_to_USD_lag_1', '1_UAH_to_USD_lag_1', '1_USD_to_UAH_lag_1', '1_EUR_to_UAH_lag_1', '1_UAH_to_EUR_lag_1'], 'path_to_result': '/diploma_info/datalake/', 'forecast_periods': 4, 'model_name': 'random_forest', 'model': RandomForestClassifier(max_depth=7, n_estimators=5000, n_jobs=-1,\n",
      "                       random_state=2), 'forecast_frequency': 'daily', 'company': 'amazon', 'model_hyperparameters': {'n_estimators': 5000, 'n_jobs': -1, 'random_state': 2, 'max_depth': 7}, 'problem': 'classification'} \n",
      "\n",
      "(2368, 12) (2368, 1)\n",
      "random_forest\n"
     ]
    },
    {
     "name": "stderr",
     "output_type": "stream",
     "text": [
      "100%|██████████████████████████████████████████████████████████████████████████████████| 38/38 [06:14<00:00,  9.85s/it]\n"
     ]
    },
    {
     "name": "stdout",
     "output_type": "stream",
     "text": [
      "knear_neighbors == {'unique_uuid': '9b442db6-20b6-11ef-8c98-c0e434d84b22', 'train_start': datetime.datetime(2015, 1, 1, 0, 0), 'train_end': datetime.datetime(2023, 12, 29, 0, 0), 'test_start': datetime.datetime(2024, 1, 2, 0, 0), 'test_end': datetime.datetime(2024, 2, 8, 0, 0), 'target_column': 'growth', 'train_features': ['open', 'volume_lag_1', 'usa_inflation_%', '1_USD_to_EUR_lag_1', '1_EUR_to_USD_lag_1', '1_UAH_to_USD_lag_1', '1_USD_to_UAH_lag_1', '1_EUR_to_UAH_lag_1', '1_UAH_to_EUR_lag_1'], 'path_to_result': '/diploma_info/datalake/', 'forecast_periods': 4, 'model_name': 'knear_neighbors', 'model': KNeighborsClassifier(n_jobs=-1, n_neighbors=50), 'forecast_frequency': 'daily', 'company': 'amazon', 'model_hyperparameters': {'n_neighbors': 50, 'n_jobs': -1}, 'problem': 'classification'} \n",
      "\n",
      "(2368, 9) (2368, 1)\n",
      "knear_neighbors\n"
     ]
    },
    {
     "name": "stderr",
     "output_type": "stream",
     "text": [
      "100%|██████████████████████████████████████████████████████████████████████████████████| 38/38 [00:01<00:00, 27.06it/s]\n"
     ]
    },
    {
     "name": "stdout",
     "output_type": "stream",
     "text": [
      "knear_neighbors == {'unique_uuid': '9b442db7-20b6-11ef-b187-c0e434d84b22', 'train_start': datetime.datetime(2015, 1, 1, 0, 0), 'train_end': datetime.datetime(2023, 12, 29, 0, 0), 'test_start': datetime.datetime(2024, 1, 2, 0, 0), 'test_end': datetime.datetime(2024, 2, 8, 0, 0), 'target_column': 'growth', 'train_features': ['open', 'close_max_3_days', 'close_min_3_days', 'close_mean_3_days', '1_USD_to_EUR_lag_1', '1_EUR_to_USD_lag_1', '1_UAH_to_USD_lag_1', '1_USD_to_UAH_lag_1', '1_EUR_to_UAH_lag_1', '1_UAH_to_EUR_lag_1'], 'path_to_result': '/diploma_info/datalake/', 'forecast_periods': 4, 'model_name': 'knear_neighbors', 'model': KNeighborsClassifier(n_jobs=-1, n_neighbors=50), 'forecast_frequency': 'daily', 'company': 'amazon', 'model_hyperparameters': {'n_neighbors': 50, 'n_jobs': -1}, 'problem': 'classification'} \n",
      "\n",
      "(2368, 10) (2368, 1)\n",
      "knear_neighbors\n"
     ]
    },
    {
     "name": "stderr",
     "output_type": "stream",
     "text": [
      "100%|██████████████████████████████████████████████████████████████████████████████████| 38/38 [00:01<00:00, 24.50it/s]\n"
     ]
    },
    {
     "name": "stdout",
     "output_type": "stream",
     "text": [
      "knear_neighbors == {'unique_uuid': '9b442db8-20b6-11ef-83c2-c0e434d84b22', 'train_start': datetime.datetime(2015, 1, 1, 0, 0), 'train_end': datetime.datetime(2023, 12, 29, 0, 0), 'test_start': datetime.datetime(2024, 1, 2, 0, 0), 'test_end': datetime.datetime(2024, 2, 8, 0, 0), 'target_column': 'growth', 'train_features': ['open', 'year', 'month', 'day', 'day_of_week', 'week_of_year', '1_USD_to_EUR_lag_1', '1_EUR_to_USD_lag_1', '1_UAH_to_USD_lag_1', '1_USD_to_UAH_lag_1', '1_EUR_to_UAH_lag_1', '1_UAH_to_EUR_lag_1'], 'path_to_result': '/diploma_info/datalake/', 'forecast_periods': 4, 'model_name': 'knear_neighbors', 'model': KNeighborsClassifier(n_jobs=-1, n_neighbors=50), 'forecast_frequency': 'daily', 'company': 'amazon', 'model_hyperparameters': {'n_neighbors': 50, 'n_jobs': -1}, 'problem': 'classification'} \n",
      "\n",
      "(2368, 12) (2368, 1)\n",
      "knear_neighbors\n"
     ]
    },
    {
     "name": "stderr",
     "output_type": "stream",
     "text": [
      "100%|██████████████████████████████████████████████████████████████████████████████████| 38/38 [00:01<00:00, 26.10it/s]\n"
     ]
    },
    {
     "name": "stdout",
     "output_type": "stream",
     "text": [
      "xgboost == {'unique_uuid': '9b442db9-20b6-11ef-84a3-c0e434d84b22', 'train_start': datetime.datetime(2020, 1, 1, 0, 0), 'train_end': datetime.datetime(2023, 12, 29, 0, 0), 'test_start': datetime.datetime(2024, 1, 2, 0, 0), 'test_end': datetime.datetime(2024, 2, 8, 0, 0), 'target_column': 'growth', 'train_features': ['open', 'volume_lag_1', 'usa_inflation_%', '1_USD_to_EUR_lag_1', '1_EUR_to_USD_lag_1', '1_UAH_to_USD_lag_1', '1_USD_to_UAH_lag_1', '1_EUR_to_UAH_lag_1', '1_UAH_to_EUR_lag_1'], 'path_to_result': '/diploma_info/datalake/', 'forecast_periods': 4, 'model_name': 'xgboost', 'model': XGBClassifier(base_score=None, booster='gbtree', callbacks=None,\n",
      "              colsample_bylevel=None, colsample_bynode=None, colsample_bytree=1,\n",
      "              device=None, early_stopping_rounds=None, enable_categorical=False,\n",
      "              eta=0.3, eval_metric='rmse', feature_types=None, gamma=None,\n",
      "              grow_policy=None, importance_type=None,\n",
      "              interaction_constraints=None, learning_rate=None, max_bin=None,\n",
      "              max_cat_threshold=None, max_cat_to_onehot=None,\n",
      "              max_delta_step=None, max_depth=7, max_leaves=None,\n",
      "              min_child_weight=1, missing=nan, monotone_constraints=None,\n",
      "              multi_strategy=None, n_estimators=10, n_jobs=-1,\n",
      "              num_parallel_tree=None, ...), 'forecast_frequency': 'daily', 'company': 'amazon', 'model_hyperparameters': {'n_estimators': 10, 'n_jobs': -1, 'max_depth': 7, 'eta': 0.3, 'booster': 'gbtree', 'objective': 'reg:squarederror', 'eval_metric': 'rmse', 'subsample': 1, 'colsample_bytree': 1, 'min_child_weight': 1, 'random_state': 2}, 'problem': 'classification'} \n",
      "\n",
      "(2368, 9) (2368, 1)\n",
      "xgboost\n"
     ]
    },
    {
     "name": "stderr",
     "output_type": "stream",
     "text": [
      "100%|██████████████████████████████████████████████████████████████████████████████████| 38/38 [00:01<00:00, 26.37it/s]\n"
     ]
    },
    {
     "name": "stdout",
     "output_type": "stream",
     "text": [
      "xgboost == {'unique_uuid': '9b442dba-20b6-11ef-8ddd-c0e434d84b22', 'train_start': datetime.datetime(2020, 1, 1, 0, 0), 'train_end': datetime.datetime(2023, 12, 29, 0, 0), 'test_start': datetime.datetime(2024, 1, 2, 0, 0), 'test_end': datetime.datetime(2024, 2, 8, 0, 0), 'target_column': 'growth', 'train_features': ['open', 'close_max_3_days', 'close_min_3_days', 'close_mean_3_days', '1_USD_to_EUR_lag_1', '1_EUR_to_USD_lag_1', '1_UAH_to_USD_lag_1', '1_USD_to_UAH_lag_1', '1_EUR_to_UAH_lag_1', '1_UAH_to_EUR_lag_1'], 'path_to_result': '/diploma_info/datalake/', 'forecast_periods': 4, 'model_name': 'xgboost', 'model': XGBClassifier(base_score=None, booster='gbtree', callbacks=None,\n",
      "              colsample_bylevel=None, colsample_bynode=None, colsample_bytree=1,\n",
      "              device=None, early_stopping_rounds=None, enable_categorical=False,\n",
      "              eta=0.3, eval_metric='rmse', feature_types=None, gamma=None,\n",
      "              grow_policy=None, importance_type=None,\n",
      "              interaction_constraints=None, learning_rate=None, max_bin=None,\n",
      "              max_cat_threshold=None, max_cat_to_onehot=None,\n",
      "              max_delta_step=None, max_depth=7, max_leaves=None,\n",
      "              min_child_weight=1, missing=nan, monotone_constraints=None,\n",
      "              multi_strategy=None, n_estimators=10, n_jobs=-1,\n",
      "              num_parallel_tree=None, ...), 'forecast_frequency': 'daily', 'company': 'amazon', 'model_hyperparameters': {'n_estimators': 10, 'n_jobs': -1, 'max_depth': 7, 'eta': 0.3, 'booster': 'gbtree', 'objective': 'reg:squarederror', 'eval_metric': 'rmse', 'subsample': 1, 'colsample_bytree': 1, 'min_child_weight': 1, 'random_state': 2}, 'problem': 'classification'} \n",
      "\n",
      "(2368, 10) (2368, 1)\n",
      "xgboost\n"
     ]
    },
    {
     "name": "stderr",
     "output_type": "stream",
     "text": [
      "100%|██████████████████████████████████████████████████████████████████████████████████| 38/38 [00:01<00:00, 24.78it/s]\n"
     ]
    },
    {
     "name": "stdout",
     "output_type": "stream",
     "text": [
      "xgboost == {'unique_uuid': '9b442dbb-20b6-11ef-9fab-c0e434d84b22', 'train_start': datetime.datetime(2020, 1, 1, 0, 0), 'train_end': datetime.datetime(2023, 12, 29, 0, 0), 'test_start': datetime.datetime(2024, 1, 2, 0, 0), 'test_end': datetime.datetime(2024, 2, 8, 0, 0), 'target_column': 'growth', 'train_features': ['open', 'year', 'month', 'day', 'day_of_week', 'week_of_year', '1_USD_to_EUR_lag_1', '1_EUR_to_USD_lag_1', '1_UAH_to_USD_lag_1', '1_USD_to_UAH_lag_1', '1_EUR_to_UAH_lag_1', '1_UAH_to_EUR_lag_1'], 'path_to_result': '/diploma_info/datalake/', 'forecast_periods': 4, 'model_name': 'xgboost', 'model': XGBClassifier(base_score=None, booster='gbtree', callbacks=None,\n",
      "              colsample_bylevel=None, colsample_bynode=None, colsample_bytree=1,\n",
      "              device=None, early_stopping_rounds=None, enable_categorical=False,\n",
      "              eta=0.3, eval_metric='rmse', feature_types=None, gamma=None,\n",
      "              grow_policy=None, importance_type=None,\n",
      "              interaction_constraints=None, learning_rate=None, max_bin=None,\n",
      "              max_cat_threshold=None, max_cat_to_onehot=None,\n",
      "              max_delta_step=None, max_depth=7, max_leaves=None,\n",
      "              min_child_weight=1, missing=nan, monotone_constraints=None,\n",
      "              multi_strategy=None, n_estimators=10, n_jobs=-1,\n",
      "              num_parallel_tree=None, ...), 'forecast_frequency': 'daily', 'company': 'amazon', 'model_hyperparameters': {'n_estimators': 10, 'n_jobs': -1, 'max_depth': 7, 'eta': 0.3, 'booster': 'gbtree', 'objective': 'reg:squarederror', 'eval_metric': 'rmse', 'subsample': 1, 'colsample_bytree': 1, 'min_child_weight': 1, 'random_state': 2}, 'problem': 'classification'} \n",
      "\n",
      "(2368, 12) (2368, 1)\n",
      "xgboost\n"
     ]
    },
    {
     "name": "stderr",
     "output_type": "stream",
     "text": [
      "100%|██████████████████████████████████████████████████████████████████████████████████| 38/38 [00:01<00:00, 26.18it/s]\n"
     ]
    },
    {
     "name": "stdout",
     "output_type": "stream",
     "text": [
      "lightgbm == {'unique_uuid': '9b442dbc-20b6-11ef-bad1-c0e434d84b22', 'train_start': datetime.datetime(2020, 1, 1, 0, 0), 'train_end': datetime.datetime(2023, 12, 29, 0, 0), 'test_start': datetime.datetime(2024, 1, 2, 0, 0), 'test_end': datetime.datetime(2024, 2, 8, 0, 0), 'target_column': 'growth', 'train_features': ['open', 'volume_lag_1', 'usa_inflation_%', '1_USD_to_EUR_lag_1', '1_EUR_to_USD_lag_1', '1_UAH_to_USD_lag_1', '1_USD_to_UAH_lag_1', '1_EUR_to_UAH_lag_1', '1_UAH_to_EUR_lag_1'], 'path_to_result': '/diploma_info/datalake/', 'forecast_periods': 4, 'model_name': 'lightgbm', 'model': LGBMClassifier(eta=0.3, max_depth=7, metric='binary', n_estimators=200,\n",
      "               n_jobs=-1, objective='binary', random_state=2, verbosity=-1), 'forecast_frequency': 'daily', 'company': 'amazon', 'model_hyperparameters': {'n_estimators': 200, 'n_jobs': -1, 'max_depth': 7, 'eta': 0.3, 'random_state': 2, 'objective': 'binary', 'verbosity': -1, 'metric': 'binary'}, 'problem': 'classification'} \n",
      "\n",
      "(2368, 9) (2368, 1)\n",
      "lightgbm\n"
     ]
    },
    {
     "name": "stderr",
     "output_type": "stream",
     "text": [
      "100%|██████████████████████████████████████████████████████████████████████████████████| 38/38 [00:02<00:00, 14.27it/s]\n"
     ]
    },
    {
     "name": "stdout",
     "output_type": "stream",
     "text": [
      "lightgbm == {'unique_uuid': '9b442dbd-20b6-11ef-aa60-c0e434d84b22', 'train_start': datetime.datetime(2020, 1, 1, 0, 0), 'train_end': datetime.datetime(2023, 12, 29, 0, 0), 'test_start': datetime.datetime(2024, 1, 2, 0, 0), 'test_end': datetime.datetime(2024, 2, 8, 0, 0), 'target_column': 'growth', 'train_features': ['open', 'close_max_3_days', 'close_min_3_days', 'close_mean_3_days', '1_USD_to_EUR_lag_1', '1_EUR_to_USD_lag_1', '1_UAH_to_USD_lag_1', '1_USD_to_UAH_lag_1', '1_EUR_to_UAH_lag_1', '1_UAH_to_EUR_lag_1'], 'path_to_result': '/diploma_info/datalake/', 'forecast_periods': 4, 'model_name': 'lightgbm', 'model': LGBMClassifier(eta=0.3, max_depth=7, metric='binary', n_estimators=200,\n",
      "               n_jobs=-1, objective='binary', random_state=2, verbosity=-1), 'forecast_frequency': 'daily', 'company': 'amazon', 'model_hyperparameters': {'n_estimators': 200, 'n_jobs': -1, 'max_depth': 7, 'eta': 0.3, 'random_state': 2, 'objective': 'binary', 'verbosity': -1, 'metric': 'binary'}, 'problem': 'classification'} \n",
      "\n",
      "(2368, 10) (2368, 1)\n",
      "lightgbm\n"
     ]
    },
    {
     "name": "stderr",
     "output_type": "stream",
     "text": [
      "100%|██████████████████████████████████████████████████████████████████████████████████| 38/38 [00:02<00:00, 13.87it/s]\n"
     ]
    },
    {
     "name": "stdout",
     "output_type": "stream",
     "text": [
      "lightgbm == {'unique_uuid': '9b442dbe-20b6-11ef-88cb-c0e434d84b22', 'train_start': datetime.datetime(2020, 1, 1, 0, 0), 'train_end': datetime.datetime(2023, 12, 29, 0, 0), 'test_start': datetime.datetime(2024, 1, 2, 0, 0), 'test_end': datetime.datetime(2024, 2, 8, 0, 0), 'target_column': 'growth', 'train_features': ['open', 'year', 'month', 'day', 'day_of_week', 'week_of_year', '1_USD_to_EUR_lag_1', '1_EUR_to_USD_lag_1', '1_UAH_to_USD_lag_1', '1_USD_to_UAH_lag_1', '1_EUR_to_UAH_lag_1', '1_UAH_to_EUR_lag_1'], 'path_to_result': '/diploma_info/datalake/', 'forecast_periods': 4, 'model_name': 'lightgbm', 'model': LGBMClassifier(eta=0.3, max_depth=7, metric='binary', n_estimators=200,\n",
      "               n_jobs=-1, objective='binary', random_state=2, verbosity=-1), 'forecast_frequency': 'daily', 'company': 'amazon', 'model_hyperparameters': {'n_estimators': 200, 'n_jobs': -1, 'max_depth': 7, 'eta': 0.3, 'random_state': 2, 'objective': 'binary', 'verbosity': -1, 'metric': 'binary'}, 'problem': 'classification'} \n",
      "\n",
      "(2368, 12) (2368, 1)\n",
      "lightgbm\n"
     ]
    },
    {
     "name": "stderr",
     "output_type": "stream",
     "text": [
      "100%|██████████████████████████████████████████████████████████████████████████████████| 38/38 [00:02<00:00, 13.59it/s]\n"
     ]
    },
    {
     "name": "stdout",
     "output_type": "stream",
     "text": [
      "random_forest == {'unique_uuid': '9b442dbf-20b6-11ef-add2-c0e434d84b22', 'train_start': datetime.datetime(2020, 1, 1, 0, 0), 'train_end': datetime.datetime(2023, 12, 29, 0, 0), 'test_start': datetime.datetime(2024, 1, 2, 0, 0), 'test_end': datetime.datetime(2024, 2, 8, 0, 0), 'target_column': 'growth', 'train_features': ['open', 'volume_lag_1', 'usa_inflation_%', '1_USD_to_EUR_lag_1', '1_EUR_to_USD_lag_1', '1_UAH_to_USD_lag_1', '1_USD_to_UAH_lag_1', '1_EUR_to_UAH_lag_1', '1_UAH_to_EUR_lag_1'], 'path_to_result': '/diploma_info/datalake/', 'forecast_periods': 4, 'model_name': 'random_forest', 'model': RandomForestClassifier(max_depth=7, n_estimators=5000, n_jobs=-1,\n",
      "                       random_state=2), 'forecast_frequency': 'daily', 'company': 'amazon', 'model_hyperparameters': {'n_estimators': 5000, 'n_jobs': -1, 'random_state': 2, 'max_depth': 7}, 'problem': 'classification'} \n",
      "\n",
      "(2368, 9) (2368, 1)\n",
      "random_forest\n"
     ]
    },
    {
     "name": "stderr",
     "output_type": "stream",
     "text": [
      "100%|██████████████████████████████████████████████████████████████████████████████████| 38/38 [05:34<00:00,  8.79s/it]\n"
     ]
    },
    {
     "name": "stdout",
     "output_type": "stream",
     "text": [
      "random_forest == {'unique_uuid': '9b442dc0-20b6-11ef-adb7-c0e434d84b22', 'train_start': datetime.datetime(2020, 1, 1, 0, 0), 'train_end': datetime.datetime(2023, 12, 29, 0, 0), 'test_start': datetime.datetime(2024, 1, 2, 0, 0), 'test_end': datetime.datetime(2024, 2, 8, 0, 0), 'target_column': 'growth', 'train_features': ['open', 'close_max_3_days', 'close_min_3_days', 'close_mean_3_days', '1_USD_to_EUR_lag_1', '1_EUR_to_USD_lag_1', '1_UAH_to_USD_lag_1', '1_USD_to_UAH_lag_1', '1_EUR_to_UAH_lag_1', '1_UAH_to_EUR_lag_1'], 'path_to_result': '/diploma_info/datalake/', 'forecast_periods': 4, 'model_name': 'random_forest', 'model': RandomForestClassifier(max_depth=7, n_estimators=5000, n_jobs=-1,\n",
      "                       random_state=2), 'forecast_frequency': 'daily', 'company': 'amazon', 'model_hyperparameters': {'n_estimators': 5000, 'n_jobs': -1, 'random_state': 2, 'max_depth': 7}, 'problem': 'classification'} \n",
      "\n",
      "(2368, 10) (2368, 1)\n",
      "random_forest\n"
     ]
    },
    {
     "name": "stderr",
     "output_type": "stream",
     "text": [
      "100%|██████████████████████████████████████████████████████████████████████████████████| 38/38 [05:31<00:00,  8.71s/it]\n"
     ]
    },
    {
     "name": "stdout",
     "output_type": "stream",
     "text": [
      "random_forest == {'unique_uuid': '9b442dc1-20b6-11ef-8075-c0e434d84b22', 'train_start': datetime.datetime(2020, 1, 1, 0, 0), 'train_end': datetime.datetime(2023, 12, 29, 0, 0), 'test_start': datetime.datetime(2024, 1, 2, 0, 0), 'test_end': datetime.datetime(2024, 2, 8, 0, 0), 'target_column': 'growth', 'train_features': ['open', 'year', 'month', 'day', 'day_of_week', 'week_of_year', '1_USD_to_EUR_lag_1', '1_EUR_to_USD_lag_1', '1_UAH_to_USD_lag_1', '1_USD_to_UAH_lag_1', '1_EUR_to_UAH_lag_1', '1_UAH_to_EUR_lag_1'], 'path_to_result': '/diploma_info/datalake/', 'forecast_periods': 4, 'model_name': 'random_forest', 'model': RandomForestClassifier(max_depth=7, n_estimators=5000, n_jobs=-1,\n",
      "                       random_state=2), 'forecast_frequency': 'daily', 'company': 'amazon', 'model_hyperparameters': {'n_estimators': 5000, 'n_jobs': -1, 'random_state': 2, 'max_depth': 7}, 'problem': 'classification'} \n",
      "\n",
      "(2368, 12) (2368, 1)\n",
      "random_forest\n"
     ]
    },
    {
     "name": "stderr",
     "output_type": "stream",
     "text": [
      "100%|██████████████████████████████████████████████████████████████████████████████████| 38/38 [05:26<00:00,  8.59s/it]\n"
     ]
    },
    {
     "name": "stdout",
     "output_type": "stream",
     "text": [
      "knear_neighbors == {'unique_uuid': '9b442dc2-20b6-11ef-b23e-c0e434d84b22', 'train_start': datetime.datetime(2020, 1, 1, 0, 0), 'train_end': datetime.datetime(2023, 12, 29, 0, 0), 'test_start': datetime.datetime(2024, 1, 2, 0, 0), 'test_end': datetime.datetime(2024, 2, 8, 0, 0), 'target_column': 'growth', 'train_features': ['open', 'volume_lag_1', 'usa_inflation_%', '1_USD_to_EUR_lag_1', '1_EUR_to_USD_lag_1', '1_UAH_to_USD_lag_1', '1_USD_to_UAH_lag_1', '1_EUR_to_UAH_lag_1', '1_UAH_to_EUR_lag_1'], 'path_to_result': '/diploma_info/datalake/', 'forecast_periods': 4, 'model_name': 'knear_neighbors', 'model': KNeighborsClassifier(n_jobs=-1, n_neighbors=50), 'forecast_frequency': 'daily', 'company': 'amazon', 'model_hyperparameters': {'n_neighbors': 50, 'n_jobs': -1}, 'problem': 'classification'} \n",
      "\n",
      "(2368, 9) (2368, 1)\n",
      "knear_neighbors\n"
     ]
    },
    {
     "name": "stderr",
     "output_type": "stream",
     "text": [
      "100%|██████████████████████████████████████████████████████████████████████████████████| 38/38 [00:01<00:00, 28.81it/s]\n"
     ]
    },
    {
     "name": "stdout",
     "output_type": "stream",
     "text": [
      "knear_neighbors == {'unique_uuid': '9b442dc3-20b6-11ef-a69e-c0e434d84b22', 'train_start': datetime.datetime(2020, 1, 1, 0, 0), 'train_end': datetime.datetime(2023, 12, 29, 0, 0), 'test_start': datetime.datetime(2024, 1, 2, 0, 0), 'test_end': datetime.datetime(2024, 2, 8, 0, 0), 'target_column': 'growth', 'train_features': ['open', 'close_max_3_days', 'close_min_3_days', 'close_mean_3_days', '1_USD_to_EUR_lag_1', '1_EUR_to_USD_lag_1', '1_UAH_to_USD_lag_1', '1_USD_to_UAH_lag_1', '1_EUR_to_UAH_lag_1', '1_UAH_to_EUR_lag_1'], 'path_to_result': '/diploma_info/datalake/', 'forecast_periods': 4, 'model_name': 'knear_neighbors', 'model': KNeighborsClassifier(n_jobs=-1, n_neighbors=50), 'forecast_frequency': 'daily', 'company': 'amazon', 'model_hyperparameters': {'n_neighbors': 50, 'n_jobs': -1}, 'problem': 'classification'} \n",
      "\n",
      "(2368, 10) (2368, 1)\n",
      "knear_neighbors\n"
     ]
    },
    {
     "name": "stderr",
     "output_type": "stream",
     "text": [
      "100%|██████████████████████████████████████████████████████████████████████████████████| 38/38 [00:01<00:00, 27.64it/s]\n"
     ]
    },
    {
     "name": "stdout",
     "output_type": "stream",
     "text": [
      "knear_neighbors == {'unique_uuid': '9b442dc4-20b6-11ef-9696-c0e434d84b22', 'train_start': datetime.datetime(2020, 1, 1, 0, 0), 'train_end': datetime.datetime(2023, 12, 29, 0, 0), 'test_start': datetime.datetime(2024, 1, 2, 0, 0), 'test_end': datetime.datetime(2024, 2, 8, 0, 0), 'target_column': 'growth', 'train_features': ['open', 'year', 'month', 'day', 'day_of_week', 'week_of_year', '1_USD_to_EUR_lag_1', '1_EUR_to_USD_lag_1', '1_UAH_to_USD_lag_1', '1_USD_to_UAH_lag_1', '1_EUR_to_UAH_lag_1', '1_UAH_to_EUR_lag_1'], 'path_to_result': '/diploma_info/datalake/', 'forecast_periods': 4, 'model_name': 'knear_neighbors', 'model': KNeighborsClassifier(n_jobs=-1, n_neighbors=50), 'forecast_frequency': 'daily', 'company': 'amazon', 'model_hyperparameters': {'n_neighbors': 50, 'n_jobs': -1}, 'problem': 'classification'} \n",
      "\n",
      "(2368, 12) (2368, 1)\n",
      "knear_neighbors\n"
     ]
    },
    {
     "name": "stderr",
     "output_type": "stream",
     "text": [
      "100%|██████████████████████████████████████████████████████████████████████████████████| 38/38 [00:01<00:00, 29.69it/s]\n"
     ]
    },
    {
     "name": "stdout",
     "output_type": "stream",
     "text": [
      "xgboost == {'unique_uuid': '9b442dc5-20b6-11ef-8644-c0e434d84b22', 'train_start': datetime.datetime(2023, 1, 1, 0, 0), 'train_end': datetime.datetime(2023, 12, 29, 0, 0), 'test_start': datetime.datetime(2024, 1, 2, 0, 0), 'test_end': datetime.datetime(2024, 2, 8, 0, 0), 'target_column': 'growth', 'train_features': ['open', 'volume_lag_1', 'usa_inflation_%', '1_USD_to_EUR_lag_1', '1_EUR_to_USD_lag_1', '1_UAH_to_USD_lag_1', '1_USD_to_UAH_lag_1', '1_EUR_to_UAH_lag_1', '1_UAH_to_EUR_lag_1'], 'path_to_result': '/diploma_info/datalake/', 'forecast_periods': 4, 'model_name': 'xgboost', 'model': XGBClassifier(base_score=None, booster='gbtree', callbacks=None,\n",
      "              colsample_bylevel=None, colsample_bynode=None, colsample_bytree=1,\n",
      "              device=None, early_stopping_rounds=None, enable_categorical=False,\n",
      "              eta=0.3, eval_metric='rmse', feature_types=None, gamma=None,\n",
      "              grow_policy=None, importance_type=None,\n",
      "              interaction_constraints=None, learning_rate=None, max_bin=None,\n",
      "              max_cat_threshold=None, max_cat_to_onehot=None,\n",
      "              max_delta_step=None, max_depth=7, max_leaves=None,\n",
      "              min_child_weight=1, missing=nan, monotone_constraints=None,\n",
      "              multi_strategy=None, n_estimators=10, n_jobs=-1,\n",
      "              num_parallel_tree=None, ...), 'forecast_frequency': 'daily', 'company': 'amazon', 'model_hyperparameters': {'n_estimators': 10, 'n_jobs': -1, 'max_depth': 7, 'eta': 0.3, 'booster': 'gbtree', 'objective': 'reg:squarederror', 'eval_metric': 'rmse', 'subsample': 1, 'colsample_bytree': 1, 'min_child_weight': 1, 'random_state': 2}, 'problem': 'classification'} \n",
      "\n",
      "(2368, 9) (2368, 1)\n",
      "xgboost\n"
     ]
    },
    {
     "name": "stderr",
     "output_type": "stream",
     "text": [
      "100%|██████████████████████████████████████████████████████████████████████████████████| 38/38 [00:01<00:00, 29.76it/s]\n"
     ]
    },
    {
     "name": "stdout",
     "output_type": "stream",
     "text": [
      "xgboost == {'unique_uuid': '9b442dc6-20b6-11ef-b304-c0e434d84b22', 'train_start': datetime.datetime(2023, 1, 1, 0, 0), 'train_end': datetime.datetime(2023, 12, 29, 0, 0), 'test_start': datetime.datetime(2024, 1, 2, 0, 0), 'test_end': datetime.datetime(2024, 2, 8, 0, 0), 'target_column': 'growth', 'train_features': ['open', 'close_max_3_days', 'close_min_3_days', 'close_mean_3_days', '1_USD_to_EUR_lag_1', '1_EUR_to_USD_lag_1', '1_UAH_to_USD_lag_1', '1_USD_to_UAH_lag_1', '1_EUR_to_UAH_lag_1', '1_UAH_to_EUR_lag_1'], 'path_to_result': '/diploma_info/datalake/', 'forecast_periods': 4, 'model_name': 'xgboost', 'model': XGBClassifier(base_score=None, booster='gbtree', callbacks=None,\n",
      "              colsample_bylevel=None, colsample_bynode=None, colsample_bytree=1,\n",
      "              device=None, early_stopping_rounds=None, enable_categorical=False,\n",
      "              eta=0.3, eval_metric='rmse', feature_types=None, gamma=None,\n",
      "              grow_policy=None, importance_type=None,\n",
      "              interaction_constraints=None, learning_rate=None, max_bin=None,\n",
      "              max_cat_threshold=None, max_cat_to_onehot=None,\n",
      "              max_delta_step=None, max_depth=7, max_leaves=None,\n",
      "              min_child_weight=1, missing=nan, monotone_constraints=None,\n",
      "              multi_strategy=None, n_estimators=10, n_jobs=-1,\n",
      "              num_parallel_tree=None, ...), 'forecast_frequency': 'daily', 'company': 'amazon', 'model_hyperparameters': {'n_estimators': 10, 'n_jobs': -1, 'max_depth': 7, 'eta': 0.3, 'booster': 'gbtree', 'objective': 'reg:squarederror', 'eval_metric': 'rmse', 'subsample': 1, 'colsample_bytree': 1, 'min_child_weight': 1, 'random_state': 2}, 'problem': 'classification'} \n",
      "\n",
      "(2368, 10) (2368, 1)\n",
      "xgboost\n"
     ]
    },
    {
     "name": "stderr",
     "output_type": "stream",
     "text": [
      "100%|██████████████████████████████████████████████████████████████████████████████████| 38/38 [00:01<00:00, 30.28it/s]\n"
     ]
    },
    {
     "name": "stdout",
     "output_type": "stream",
     "text": [
      "xgboost == {'unique_uuid': '9b442dc7-20b6-11ef-8083-c0e434d84b22', 'train_start': datetime.datetime(2023, 1, 1, 0, 0), 'train_end': datetime.datetime(2023, 12, 29, 0, 0), 'test_start': datetime.datetime(2024, 1, 2, 0, 0), 'test_end': datetime.datetime(2024, 2, 8, 0, 0), 'target_column': 'growth', 'train_features': ['open', 'year', 'month', 'day', 'day_of_week', 'week_of_year', '1_USD_to_EUR_lag_1', '1_EUR_to_USD_lag_1', '1_UAH_to_USD_lag_1', '1_USD_to_UAH_lag_1', '1_EUR_to_UAH_lag_1', '1_UAH_to_EUR_lag_1'], 'path_to_result': '/diploma_info/datalake/', 'forecast_periods': 4, 'model_name': 'xgboost', 'model': XGBClassifier(base_score=None, booster='gbtree', callbacks=None,\n",
      "              colsample_bylevel=None, colsample_bynode=None, colsample_bytree=1,\n",
      "              device=None, early_stopping_rounds=None, enable_categorical=False,\n",
      "              eta=0.3, eval_metric='rmse', feature_types=None, gamma=None,\n",
      "              grow_policy=None, importance_type=None,\n",
      "              interaction_constraints=None, learning_rate=None, max_bin=None,\n",
      "              max_cat_threshold=None, max_cat_to_onehot=None,\n",
      "              max_delta_step=None, max_depth=7, max_leaves=None,\n",
      "              min_child_weight=1, missing=nan, monotone_constraints=None,\n",
      "              multi_strategy=None, n_estimators=10, n_jobs=-1,\n",
      "              num_parallel_tree=None, ...), 'forecast_frequency': 'daily', 'company': 'amazon', 'model_hyperparameters': {'n_estimators': 10, 'n_jobs': -1, 'max_depth': 7, 'eta': 0.3, 'booster': 'gbtree', 'objective': 'reg:squarederror', 'eval_metric': 'rmse', 'subsample': 1, 'colsample_bytree': 1, 'min_child_weight': 1, 'random_state': 2}, 'problem': 'classification'} \n",
      "\n",
      "(2368, 12) (2368, 1)\n",
      "xgboost\n"
     ]
    },
    {
     "name": "stderr",
     "output_type": "stream",
     "text": [
      "100%|██████████████████████████████████████████████████████████████████████████████████| 38/38 [00:01<00:00, 30.67it/s]\n"
     ]
    },
    {
     "name": "stdout",
     "output_type": "stream",
     "text": [
      "lightgbm == {'unique_uuid': '9b442dc8-20b6-11ef-878c-c0e434d84b22', 'train_start': datetime.datetime(2023, 1, 1, 0, 0), 'train_end': datetime.datetime(2023, 12, 29, 0, 0), 'test_start': datetime.datetime(2024, 1, 2, 0, 0), 'test_end': datetime.datetime(2024, 2, 8, 0, 0), 'target_column': 'growth', 'train_features': ['open', 'volume_lag_1', 'usa_inflation_%', '1_USD_to_EUR_lag_1', '1_EUR_to_USD_lag_1', '1_UAH_to_USD_lag_1', '1_USD_to_UAH_lag_1', '1_EUR_to_UAH_lag_1', '1_UAH_to_EUR_lag_1'], 'path_to_result': '/diploma_info/datalake/', 'forecast_periods': 4, 'model_name': 'lightgbm', 'model': LGBMClassifier(eta=0.3, max_depth=7, metric='binary', n_estimators=200,\n",
      "               n_jobs=-1, objective='binary', random_state=2, verbosity=-1), 'forecast_frequency': 'daily', 'company': 'amazon', 'model_hyperparameters': {'n_estimators': 200, 'n_jobs': -1, 'max_depth': 7, 'eta': 0.3, 'random_state': 2, 'objective': 'binary', 'verbosity': -1, 'metric': 'binary'}, 'problem': 'classification'} \n",
      "\n",
      "(2368, 9) (2368, 1)\n",
      "lightgbm\n"
     ]
    },
    {
     "name": "stderr",
     "output_type": "stream",
     "text": [
      "100%|██████████████████████████████████████████████████████████████████████████████████| 38/38 [00:02<00:00, 17.24it/s]\n"
     ]
    },
    {
     "name": "stdout",
     "output_type": "stream",
     "text": [
      "lightgbm == {'unique_uuid': '9b442dc9-20b6-11ef-8e47-c0e434d84b22', 'train_start': datetime.datetime(2023, 1, 1, 0, 0), 'train_end': datetime.datetime(2023, 12, 29, 0, 0), 'test_start': datetime.datetime(2024, 1, 2, 0, 0), 'test_end': datetime.datetime(2024, 2, 8, 0, 0), 'target_column': 'growth', 'train_features': ['open', 'close_max_3_days', 'close_min_3_days', 'close_mean_3_days', '1_USD_to_EUR_lag_1', '1_EUR_to_USD_lag_1', '1_UAH_to_USD_lag_1', '1_USD_to_UAH_lag_1', '1_EUR_to_UAH_lag_1', '1_UAH_to_EUR_lag_1'], 'path_to_result': '/diploma_info/datalake/', 'forecast_periods': 4, 'model_name': 'lightgbm', 'model': LGBMClassifier(eta=0.3, max_depth=7, metric='binary', n_estimators=200,\n",
      "               n_jobs=-1, objective='binary', random_state=2, verbosity=-1), 'forecast_frequency': 'daily', 'company': 'amazon', 'model_hyperparameters': {'n_estimators': 200, 'n_jobs': -1, 'max_depth': 7, 'eta': 0.3, 'random_state': 2, 'objective': 'binary', 'verbosity': -1, 'metric': 'binary'}, 'problem': 'classification'} \n",
      "\n",
      "(2368, 10) (2368, 1)\n",
      "lightgbm\n"
     ]
    },
    {
     "name": "stderr",
     "output_type": "stream",
     "text": [
      "100%|██████████████████████████████████████████████████████████████████████████████████| 38/38 [00:01<00:00, 20.95it/s]\n"
     ]
    },
    {
     "name": "stdout",
     "output_type": "stream",
     "text": [
      "lightgbm == {'unique_uuid': '9b442dca-20b6-11ef-9b38-c0e434d84b22', 'train_start': datetime.datetime(2023, 1, 1, 0, 0), 'train_end': datetime.datetime(2023, 12, 29, 0, 0), 'test_start': datetime.datetime(2024, 1, 2, 0, 0), 'test_end': datetime.datetime(2024, 2, 8, 0, 0), 'target_column': 'growth', 'train_features': ['open', 'year', 'month', 'day', 'day_of_week', 'week_of_year', '1_USD_to_EUR_lag_1', '1_EUR_to_USD_lag_1', '1_UAH_to_USD_lag_1', '1_USD_to_UAH_lag_1', '1_EUR_to_UAH_lag_1', '1_UAH_to_EUR_lag_1'], 'path_to_result': '/diploma_info/datalake/', 'forecast_periods': 4, 'model_name': 'lightgbm', 'model': LGBMClassifier(eta=0.3, max_depth=7, metric='binary', n_estimators=200,\n",
      "               n_jobs=-1, objective='binary', random_state=2, verbosity=-1), 'forecast_frequency': 'daily', 'company': 'amazon', 'model_hyperparameters': {'n_estimators': 200, 'n_jobs': -1, 'max_depth': 7, 'eta': 0.3, 'random_state': 2, 'objective': 'binary', 'verbosity': -1, 'metric': 'binary'}, 'problem': 'classification'} \n",
      "\n",
      "(2368, 12) (2368, 1)\n",
      "lightgbm\n"
     ]
    },
    {
     "name": "stderr",
     "output_type": "stream",
     "text": [
      "100%|██████████████████████████████████████████████████████████████████████████████████| 38/38 [00:01<00:00, 21.26it/s]\n"
     ]
    },
    {
     "name": "stdout",
     "output_type": "stream",
     "text": [
      "random_forest == {'unique_uuid': '9b442dcb-20b6-11ef-9bd6-c0e434d84b22', 'train_start': datetime.datetime(2023, 1, 1, 0, 0), 'train_end': datetime.datetime(2023, 12, 29, 0, 0), 'test_start': datetime.datetime(2024, 1, 2, 0, 0), 'test_end': datetime.datetime(2024, 2, 8, 0, 0), 'target_column': 'growth', 'train_features': ['open', 'volume_lag_1', 'usa_inflation_%', '1_USD_to_EUR_lag_1', '1_EUR_to_USD_lag_1', '1_UAH_to_USD_lag_1', '1_USD_to_UAH_lag_1', '1_EUR_to_UAH_lag_1', '1_UAH_to_EUR_lag_1'], 'path_to_result': '/diploma_info/datalake/', 'forecast_periods': 4, 'model_name': 'random_forest', 'model': RandomForestClassifier(max_depth=7, n_estimators=5000, n_jobs=-1,\n",
      "                       random_state=2), 'forecast_frequency': 'daily', 'company': 'amazon', 'model_hyperparameters': {'n_estimators': 5000, 'n_jobs': -1, 'random_state': 2, 'max_depth': 7}, 'problem': 'classification'} \n",
      "\n",
      "(2368, 9) (2368, 1)\n",
      "random_forest\n"
     ]
    },
    {
     "name": "stderr",
     "output_type": "stream",
     "text": [
      "100%|██████████████████████████████████████████████████████████████████████████████████| 38/38 [04:36<00:00,  7.26s/it]\n"
     ]
    },
    {
     "name": "stdout",
     "output_type": "stream",
     "text": [
      "random_forest == {'unique_uuid': '9b442dcc-20b6-11ef-b077-c0e434d84b22', 'train_start': datetime.datetime(2023, 1, 1, 0, 0), 'train_end': datetime.datetime(2023, 12, 29, 0, 0), 'test_start': datetime.datetime(2024, 1, 2, 0, 0), 'test_end': datetime.datetime(2024, 2, 8, 0, 0), 'target_column': 'growth', 'train_features': ['open', 'close_max_3_days', 'close_min_3_days', 'close_mean_3_days', '1_USD_to_EUR_lag_1', '1_EUR_to_USD_lag_1', '1_UAH_to_USD_lag_1', '1_USD_to_UAH_lag_1', '1_EUR_to_UAH_lag_1', '1_UAH_to_EUR_lag_1'], 'path_to_result': '/diploma_info/datalake/', 'forecast_periods': 4, 'model_name': 'random_forest', 'model': RandomForestClassifier(max_depth=7, n_estimators=5000, n_jobs=-1,\n",
      "                       random_state=2), 'forecast_frequency': 'daily', 'company': 'amazon', 'model_hyperparameters': {'n_estimators': 5000, 'n_jobs': -1, 'random_state': 2, 'max_depth': 7}, 'problem': 'classification'} \n",
      "\n",
      "(2368, 10) (2368, 1)\n",
      "random_forest\n"
     ]
    },
    {
     "name": "stderr",
     "output_type": "stream",
     "text": [
      "100%|██████████████████████████████████████████████████████████████████████████████████| 38/38 [04:30<00:00,  7.11s/it]\n"
     ]
    },
    {
     "name": "stdout",
     "output_type": "stream",
     "text": [
      "random_forest == {'unique_uuid': '9b442dcd-20b6-11ef-aac8-c0e434d84b22', 'train_start': datetime.datetime(2023, 1, 1, 0, 0), 'train_end': datetime.datetime(2023, 12, 29, 0, 0), 'test_start': datetime.datetime(2024, 1, 2, 0, 0), 'test_end': datetime.datetime(2024, 2, 8, 0, 0), 'target_column': 'growth', 'train_features': ['open', 'year', 'month', 'day', 'day_of_week', 'week_of_year', '1_USD_to_EUR_lag_1', '1_EUR_to_USD_lag_1', '1_UAH_to_USD_lag_1', '1_USD_to_UAH_lag_1', '1_EUR_to_UAH_lag_1', '1_UAH_to_EUR_lag_1'], 'path_to_result': '/diploma_info/datalake/', 'forecast_periods': 4, 'model_name': 'random_forest', 'model': RandomForestClassifier(max_depth=7, n_estimators=5000, n_jobs=-1,\n",
      "                       random_state=2), 'forecast_frequency': 'daily', 'company': 'amazon', 'model_hyperparameters': {'n_estimators': 5000, 'n_jobs': -1, 'random_state': 2, 'max_depth': 7}, 'problem': 'classification'} \n",
      "\n",
      "(2368, 12) (2368, 1)\n",
      "random_forest\n"
     ]
    },
    {
     "name": "stderr",
     "output_type": "stream",
     "text": [
      "100%|██████████████████████████████████████████████████████████████████████████████████| 38/38 [04:33<00:00,  7.20s/it]\n"
     ]
    },
    {
     "name": "stdout",
     "output_type": "stream",
     "text": [
      "knear_neighbors == {'unique_uuid': '9b442dce-20b6-11ef-b210-c0e434d84b22', 'train_start': datetime.datetime(2023, 1, 1, 0, 0), 'train_end': datetime.datetime(2023, 12, 29, 0, 0), 'test_start': datetime.datetime(2024, 1, 2, 0, 0), 'test_end': datetime.datetime(2024, 2, 8, 0, 0), 'target_column': 'growth', 'train_features': ['open', 'volume_lag_1', 'usa_inflation_%', '1_USD_to_EUR_lag_1', '1_EUR_to_USD_lag_1', '1_UAH_to_USD_lag_1', '1_USD_to_UAH_lag_1', '1_EUR_to_UAH_lag_1', '1_UAH_to_EUR_lag_1'], 'path_to_result': '/diploma_info/datalake/', 'forecast_periods': 4, 'model_name': 'knear_neighbors', 'model': KNeighborsClassifier(n_jobs=-1, n_neighbors=50), 'forecast_frequency': 'daily', 'company': 'amazon', 'model_hyperparameters': {'n_neighbors': 50, 'n_jobs': -1}, 'problem': 'classification'} \n",
      "\n",
      "(2368, 9) (2368, 1)\n",
      "knear_neighbors\n"
     ]
    },
    {
     "name": "stderr",
     "output_type": "stream",
     "text": [
      "100%|██████████████████████████████████████████████████████████████████████████████████| 38/38 [00:01<00:00, 30.47it/s]\n"
     ]
    },
    {
     "name": "stdout",
     "output_type": "stream",
     "text": [
      "knear_neighbors == {'unique_uuid': '9b442dcf-20b6-11ef-b97b-c0e434d84b22', 'train_start': datetime.datetime(2023, 1, 1, 0, 0), 'train_end': datetime.datetime(2023, 12, 29, 0, 0), 'test_start': datetime.datetime(2024, 1, 2, 0, 0), 'test_end': datetime.datetime(2024, 2, 8, 0, 0), 'target_column': 'growth', 'train_features': ['open', 'close_max_3_days', 'close_min_3_days', 'close_mean_3_days', '1_USD_to_EUR_lag_1', '1_EUR_to_USD_lag_1', '1_UAH_to_USD_lag_1', '1_USD_to_UAH_lag_1', '1_EUR_to_UAH_lag_1', '1_UAH_to_EUR_lag_1'], 'path_to_result': '/diploma_info/datalake/', 'forecast_periods': 4, 'model_name': 'knear_neighbors', 'model': KNeighborsClassifier(n_jobs=-1, n_neighbors=50), 'forecast_frequency': 'daily', 'company': 'amazon', 'model_hyperparameters': {'n_neighbors': 50, 'n_jobs': -1}, 'problem': 'classification'} \n",
      "\n",
      "(2368, 10) (2368, 1)\n",
      "knear_neighbors\n"
     ]
    },
    {
     "name": "stderr",
     "output_type": "stream",
     "text": [
      "100%|██████████████████████████████████████████████████████████████████████████████████| 38/38 [00:01<00:00, 29.31it/s]\n"
     ]
    },
    {
     "name": "stdout",
     "output_type": "stream",
     "text": [
      "knear_neighbors == {'unique_uuid': '9b442dd0-20b6-11ef-b916-c0e434d84b22', 'train_start': datetime.datetime(2023, 1, 1, 0, 0), 'train_end': datetime.datetime(2023, 12, 29, 0, 0), 'test_start': datetime.datetime(2024, 1, 2, 0, 0), 'test_end': datetime.datetime(2024, 2, 8, 0, 0), 'target_column': 'growth', 'train_features': ['open', 'year', 'month', 'day', 'day_of_week', 'week_of_year', '1_USD_to_EUR_lag_1', '1_EUR_to_USD_lag_1', '1_UAH_to_USD_lag_1', '1_USD_to_UAH_lag_1', '1_EUR_to_UAH_lag_1', '1_UAH_to_EUR_lag_1'], 'path_to_result': '/diploma_info/datalake/', 'forecast_periods': 4, 'model_name': 'knear_neighbors', 'model': KNeighborsClassifier(n_jobs=-1, n_neighbors=50), 'forecast_frequency': 'daily', 'company': 'amazon', 'model_hyperparameters': {'n_neighbors': 50, 'n_jobs': -1}, 'problem': 'classification'} \n",
      "\n",
      "(2368, 12) (2368, 1)\n",
      "knear_neighbors\n"
     ]
    },
    {
     "name": "stderr",
     "output_type": "stream",
     "text": [
      "100%|██████████████████████████████████████████████████████████████████████████████████| 38/38 [00:01<00:00, 31.59it/s]\n"
     ]
    },
    {
     "name": "stdout",
     "output_type": "stream",
     "text": [
      "company: APPLE\t period: daily\t train ends: 2023-12-29 00:00:00\t test starts: 2024-01-02 00:00:00\n",
      "_research_task_uuid = b1fe5a72-20bd-11ef-91ef-c0e434d84b22\n",
      "\n",
      "count_configs 81 \n",
      "\n",
      "xgboost == {'unique_uuid': 'b1fe5a73-20bd-11ef-9e16-c0e434d84b22', 'train_start': datetime.datetime(2015, 1, 1, 0, 0), 'train_end': datetime.datetime(2023, 12, 29, 0, 0), 'test_start': datetime.datetime(2024, 1, 2, 0, 0), 'test_end': datetime.datetime(2024, 2, 8, 0, 0), 'target_column': 'growth', 'train_features': ['open', 'volume_lag_1', 'usa_inflation_%', '1_USD_to_EUR_lag_1', '1_EUR_to_USD_lag_1', '1_UAH_to_USD_lag_1', '1_USD_to_UAH_lag_1', '1_EUR_to_UAH_lag_1', '1_UAH_to_EUR_lag_1'], 'path_to_result': '/diploma_info/datalake/', 'forecast_periods': 4, 'model_name': 'xgboost', 'model': XGBClassifier(base_score=None, booster='gbtree', callbacks=None,\n",
      "              colsample_bylevel=None, colsample_bynode=None, colsample_bytree=1,\n",
      "              device=None, early_stopping_rounds=None, enable_categorical=False,\n",
      "              eta=0.3, eval_metric='rmse', feature_types=None, gamma=None,\n",
      "              grow_policy=None, importance_type=None,\n",
      "              interaction_constraints=None, learning_rate=None, max_bin=None,\n",
      "              max_cat_threshold=None, max_cat_to_onehot=None,\n",
      "              max_delta_step=None, max_depth=7, max_leaves=None,\n",
      "              min_child_weight=1, missing=nan, monotone_constraints=None,\n",
      "              multi_strategy=None, n_estimators=10, n_jobs=-1,\n",
      "              num_parallel_tree=None, ...), 'forecast_frequency': 'daily', 'company': 'apple', 'model_hyperparameters': {'n_estimators': 10, 'n_jobs': -1, 'max_depth': 7, 'eta': 0.3, 'booster': 'gbtree', 'objective': 'reg:squarederror', 'eval_metric': 'rmse', 'subsample': 1, 'colsample_bytree': 1, 'min_child_weight': 1, 'random_state': 2}, 'problem': 'classification'} \n",
      "\n",
      "(2368, 9) (2368, 1)\n",
      "xgboost\n"
     ]
    },
    {
     "name": "stderr",
     "output_type": "stream",
     "text": [
      "100%|██████████████████████████████████████████████████████████████████████████████████| 38/38 [00:01<00:00, 23.23it/s]\n"
     ]
    },
    {
     "name": "stdout",
     "output_type": "stream",
     "text": [
      "xgboost == {'unique_uuid': 'b1fe5a74-20bd-11ef-9902-c0e434d84b22', 'train_start': datetime.datetime(2015, 1, 1, 0, 0), 'train_end': datetime.datetime(2023, 12, 29, 0, 0), 'test_start': datetime.datetime(2024, 1, 2, 0, 0), 'test_end': datetime.datetime(2024, 2, 8, 0, 0), 'target_column': 'growth', 'train_features': ['open', 'close_max_3_days', 'close_min_3_days', 'close_mean_3_days', '1_USD_to_EUR_lag_1', '1_EUR_to_USD_lag_1', '1_UAH_to_USD_lag_1', '1_USD_to_UAH_lag_1', '1_EUR_to_UAH_lag_1', '1_UAH_to_EUR_lag_1'], 'path_to_result': '/diploma_info/datalake/', 'forecast_periods': 4, 'model_name': 'xgboost', 'model': XGBClassifier(base_score=None, booster='gbtree', callbacks=None,\n",
      "              colsample_bylevel=None, colsample_bynode=None, colsample_bytree=1,\n",
      "              device=None, early_stopping_rounds=None, enable_categorical=False,\n",
      "              eta=0.3, eval_metric='rmse', feature_types=None, gamma=None,\n",
      "              grow_policy=None, importance_type=None,\n",
      "              interaction_constraints=None, learning_rate=None, max_bin=None,\n",
      "              max_cat_threshold=None, max_cat_to_onehot=None,\n",
      "              max_delta_step=None, max_depth=7, max_leaves=None,\n",
      "              min_child_weight=1, missing=nan, monotone_constraints=None,\n",
      "              multi_strategy=None, n_estimators=10, n_jobs=-1,\n",
      "              num_parallel_tree=None, ...), 'forecast_frequency': 'daily', 'company': 'apple', 'model_hyperparameters': {'n_estimators': 10, 'n_jobs': -1, 'max_depth': 7, 'eta': 0.3, 'booster': 'gbtree', 'objective': 'reg:squarederror', 'eval_metric': 'rmse', 'subsample': 1, 'colsample_bytree': 1, 'min_child_weight': 1, 'random_state': 2}, 'problem': 'classification'} \n",
      "\n",
      "(2368, 10) (2368, 1)\n",
      "xgboost\n"
     ]
    },
    {
     "name": "stderr",
     "output_type": "stream",
     "text": [
      "100%|██████████████████████████████████████████████████████████████████████████████████| 38/38 [00:02<00:00, 18.18it/s]\n"
     ]
    },
    {
     "name": "stdout",
     "output_type": "stream",
     "text": [
      "xgboost == {'unique_uuid': 'b1fe5a75-20bd-11ef-90c9-c0e434d84b22', 'train_start': datetime.datetime(2015, 1, 1, 0, 0), 'train_end': datetime.datetime(2023, 12, 29, 0, 0), 'test_start': datetime.datetime(2024, 1, 2, 0, 0), 'test_end': datetime.datetime(2024, 2, 8, 0, 0), 'target_column': 'growth', 'train_features': ['open', 'year', 'month', 'day', 'day_of_week', 'week_of_year', '1_USD_to_EUR_lag_1', '1_EUR_to_USD_lag_1', '1_UAH_to_USD_lag_1', '1_USD_to_UAH_lag_1', '1_EUR_to_UAH_lag_1', '1_UAH_to_EUR_lag_1'], 'path_to_result': '/diploma_info/datalake/', 'forecast_periods': 4, 'model_name': 'xgboost', 'model': XGBClassifier(base_score=None, booster='gbtree', callbacks=None,\n",
      "              colsample_bylevel=None, colsample_bynode=None, colsample_bytree=1,\n",
      "              device=None, early_stopping_rounds=None, enable_categorical=False,\n",
      "              eta=0.3, eval_metric='rmse', feature_types=None, gamma=None,\n",
      "              grow_policy=None, importance_type=None,\n",
      "              interaction_constraints=None, learning_rate=None, max_bin=None,\n",
      "              max_cat_threshold=None, max_cat_to_onehot=None,\n",
      "              max_delta_step=None, max_depth=7, max_leaves=None,\n",
      "              min_child_weight=1, missing=nan, monotone_constraints=None,\n",
      "              multi_strategy=None, n_estimators=10, n_jobs=-1,\n",
      "              num_parallel_tree=None, ...), 'forecast_frequency': 'daily', 'company': 'apple', 'model_hyperparameters': {'n_estimators': 10, 'n_jobs': -1, 'max_depth': 7, 'eta': 0.3, 'booster': 'gbtree', 'objective': 'reg:squarederror', 'eval_metric': 'rmse', 'subsample': 1, 'colsample_bytree': 1, 'min_child_weight': 1, 'random_state': 2}, 'problem': 'classification'} \n",
      "\n",
      "(2368, 12) (2368, 1)\n",
      "xgboost\n"
     ]
    },
    {
     "name": "stderr",
     "output_type": "stream",
     "text": [
      "100%|██████████████████████████████████████████████████████████████████████████████████| 38/38 [00:01<00:00, 19.10it/s]\n"
     ]
    },
    {
     "name": "stdout",
     "output_type": "stream",
     "text": [
      "xgboost == {'unique_uuid': 'b1fe5a76-20bd-11ef-8166-c0e434d84b22', 'train_start': datetime.datetime(2015, 1, 1, 0, 0), 'train_end': datetime.datetime(2023, 12, 29, 0, 0), 'test_start': datetime.datetime(2024, 1, 2, 0, 0), 'test_end': datetime.datetime(2024, 2, 8, 0, 0), 'target_column': 'growth', 'train_features': ['open', 'volume_lag_1', 'usa_inflation_%', '1_USD_to_EUR_lag_1', '1_EUR_to_USD_lag_1', '1_UAH_to_USD_lag_1', '1_USD_to_UAH_lag_1', '1_EUR_to_UAH_lag_1', '1_UAH_to_EUR_lag_1'], 'path_to_result': '/diploma_info/datalake/', 'forecast_periods': 4, 'model_name': 'xgboost', 'model': XGBClassifier(base_score=None, booster='gbtree', callbacks=None,\n",
      "              colsample_bylevel=None, colsample_bynode=None, colsample_bytree=1,\n",
      "              device=None, early_stopping_rounds=None, enable_categorical=False,\n",
      "              eta=0.3, eval_metric='rmse', feature_types=None, gamma=None,\n",
      "              grow_policy=None, importance_type=None,\n",
      "              interaction_constraints=None, learning_rate=None, max_bin=None,\n",
      "              max_cat_threshold=None, max_cat_to_onehot=None,\n",
      "              max_delta_step=None, max_depth=7, max_leaves=None,\n",
      "              min_child_weight=1, missing=nan, monotone_constraints=None,\n",
      "              multi_strategy=None, n_estimators=200, n_jobs=-1,\n",
      "              num_parallel_tree=None, ...), 'forecast_frequency': 'daily', 'company': 'apple', 'model_hyperparameters': {'n_estimators': 200, 'n_jobs': -1, 'max_depth': 7, 'eta': 0.3, 'booster': 'gbtree', 'objective': 'reg:squarederror', 'eval_metric': 'rmse', 'subsample': 1, 'colsample_bytree': 1, 'min_child_weight': 1, 'random_state': 2}, 'problem': 'classification'} \n",
      "\n",
      "(2368, 9) (2368, 1)\n",
      "xgboost\n"
     ]
    },
    {
     "name": "stderr",
     "output_type": "stream",
     "text": [
      "100%|██████████████████████████████████████████████████████████████████████████████████| 38/38 [00:12<00:00,  3.04it/s]\n"
     ]
    },
    {
     "name": "stdout",
     "output_type": "stream",
     "text": [
      "xgboost == {'unique_uuid': 'b1fe5a77-20bd-11ef-84b7-c0e434d84b22', 'train_start': datetime.datetime(2015, 1, 1, 0, 0), 'train_end': datetime.datetime(2023, 12, 29, 0, 0), 'test_start': datetime.datetime(2024, 1, 2, 0, 0), 'test_end': datetime.datetime(2024, 2, 8, 0, 0), 'target_column': 'growth', 'train_features': ['open', 'close_max_3_days', 'close_min_3_days', 'close_mean_3_days', '1_USD_to_EUR_lag_1', '1_EUR_to_USD_lag_1', '1_UAH_to_USD_lag_1', '1_USD_to_UAH_lag_1', '1_EUR_to_UAH_lag_1', '1_UAH_to_EUR_lag_1'], 'path_to_result': '/diploma_info/datalake/', 'forecast_periods': 4, 'model_name': 'xgboost', 'model': XGBClassifier(base_score=None, booster='gbtree', callbacks=None,\n",
      "              colsample_bylevel=None, colsample_bynode=None, colsample_bytree=1,\n",
      "              device=None, early_stopping_rounds=None, enable_categorical=False,\n",
      "              eta=0.3, eval_metric='rmse', feature_types=None, gamma=None,\n",
      "              grow_policy=None, importance_type=None,\n",
      "              interaction_constraints=None, learning_rate=None, max_bin=None,\n",
      "              max_cat_threshold=None, max_cat_to_onehot=None,\n",
      "              max_delta_step=None, max_depth=7, max_leaves=None,\n",
      "              min_child_weight=1, missing=nan, monotone_constraints=None,\n",
      "              multi_strategy=None, n_estimators=200, n_jobs=-1,\n",
      "              num_parallel_tree=None, ...), 'forecast_frequency': 'daily', 'company': 'apple', 'model_hyperparameters': {'n_estimators': 200, 'n_jobs': -1, 'max_depth': 7, 'eta': 0.3, 'booster': 'gbtree', 'objective': 'reg:squarederror', 'eval_metric': 'rmse', 'subsample': 1, 'colsample_bytree': 1, 'min_child_weight': 1, 'random_state': 2}, 'problem': 'classification'} \n",
      "\n",
      "(2368, 10) (2368, 1)\n",
      "xgboost\n"
     ]
    },
    {
     "name": "stderr",
     "output_type": "stream",
     "text": [
      "100%|██████████████████████████████████████████████████████████████████████████████████| 38/38 [00:11<00:00,  3.24it/s]\n"
     ]
    },
    {
     "name": "stdout",
     "output_type": "stream",
     "text": [
      "xgboost == {'unique_uuid': 'b1fe5a78-20bd-11ef-bd38-c0e434d84b22', 'train_start': datetime.datetime(2015, 1, 1, 0, 0), 'train_end': datetime.datetime(2023, 12, 29, 0, 0), 'test_start': datetime.datetime(2024, 1, 2, 0, 0), 'test_end': datetime.datetime(2024, 2, 8, 0, 0), 'target_column': 'growth', 'train_features': ['open', 'year', 'month', 'day', 'day_of_week', 'week_of_year', '1_USD_to_EUR_lag_1', '1_EUR_to_USD_lag_1', '1_UAH_to_USD_lag_1', '1_USD_to_UAH_lag_1', '1_EUR_to_UAH_lag_1', '1_UAH_to_EUR_lag_1'], 'path_to_result': '/diploma_info/datalake/', 'forecast_periods': 4, 'model_name': 'xgboost', 'model': XGBClassifier(base_score=None, booster='gbtree', callbacks=None,\n",
      "              colsample_bylevel=None, colsample_bynode=None, colsample_bytree=1,\n",
      "              device=None, early_stopping_rounds=None, enable_categorical=False,\n",
      "              eta=0.3, eval_metric='rmse', feature_types=None, gamma=None,\n",
      "              grow_policy=None, importance_type=None,\n",
      "              interaction_constraints=None, learning_rate=None, max_bin=None,\n",
      "              max_cat_threshold=None, max_cat_to_onehot=None,\n",
      "              max_delta_step=None, max_depth=7, max_leaves=None,\n",
      "              min_child_weight=1, missing=nan, monotone_constraints=None,\n",
      "              multi_strategy=None, n_estimators=200, n_jobs=-1,\n",
      "              num_parallel_tree=None, ...), 'forecast_frequency': 'daily', 'company': 'apple', 'model_hyperparameters': {'n_estimators': 200, 'n_jobs': -1, 'max_depth': 7, 'eta': 0.3, 'booster': 'gbtree', 'objective': 'reg:squarederror', 'eval_metric': 'rmse', 'subsample': 1, 'colsample_bytree': 1, 'min_child_weight': 1, 'random_state': 2}, 'problem': 'classification'} \n",
      "\n",
      "(2368, 12) (2368, 1)\n",
      "xgboost\n"
     ]
    },
    {
     "name": "stderr",
     "output_type": "stream",
     "text": [
      "100%|██████████████████████████████████████████████████████████████████████████████████| 38/38 [00:12<00:00,  3.03it/s]\n"
     ]
    },
    {
     "name": "stdout",
     "output_type": "stream",
     "text": [
      "xgboost == {'unique_uuid': 'b1fe5a79-20bd-11ef-b311-c0e434d84b22', 'train_start': datetime.datetime(2015, 1, 1, 0, 0), 'train_end': datetime.datetime(2023, 12, 29, 0, 0), 'test_start': datetime.datetime(2024, 1, 2, 0, 0), 'test_end': datetime.datetime(2024, 2, 8, 0, 0), 'target_column': 'growth', 'train_features': ['open', 'volume_lag_1', 'usa_inflation_%', '1_USD_to_EUR_lag_1', '1_EUR_to_USD_lag_1', '1_UAH_to_USD_lag_1', '1_USD_to_UAH_lag_1', '1_EUR_to_UAH_lag_1', '1_UAH_to_EUR_lag_1'], 'path_to_result': '/diploma_info/datalake/', 'forecast_periods': 4, 'model_name': 'xgboost', 'model': XGBClassifier(base_score=None, booster='gbtree', callbacks=None,\n",
      "              colsample_bylevel=None, colsample_bynode=None, colsample_bytree=1,\n",
      "              device=None, early_stopping_rounds=None, enable_categorical=False,\n",
      "              eta=0.3, eval_metric='rmse', feature_types=None, gamma=None,\n",
      "              grow_policy=None, importance_type=None,\n",
      "              interaction_constraints=None, learning_rate=None, max_bin=None,\n",
      "              max_cat_threshold=None, max_cat_to_onehot=None,\n",
      "              max_delta_step=None, max_depth=9, max_leaves=None,\n",
      "              min_child_weight=1, missing=nan, monotone_constraints=None,\n",
      "              multi_strategy=None, n_estimators=10, n_jobs=-1,\n",
      "              num_parallel_tree=None, ...), 'forecast_frequency': 'daily', 'company': 'apple', 'model_hyperparameters': {'n_estimators': 10, 'n_jobs': -1, 'max_depth': 9, 'eta': 0.3, 'booster': 'gbtree', 'objective': 'reg:squarederror', 'eval_metric': 'rmse', 'subsample': 1, 'colsample_bytree': 1, 'min_child_weight': 1, 'random_state': 2}, 'problem': 'classification'} \n",
      "\n",
      "(2368, 9) (2368, 1)\n",
      "xgboost\n"
     ]
    },
    {
     "name": "stderr",
     "output_type": "stream",
     "text": [
      "100%|██████████████████████████████████████████████████████████████████████████████████| 38/38 [00:02<00:00, 16.06it/s]\n"
     ]
    },
    {
     "name": "stdout",
     "output_type": "stream",
     "text": [
      "xgboost == {'unique_uuid': 'b1fe5a7a-20bd-11ef-8a87-c0e434d84b22', 'train_start': datetime.datetime(2015, 1, 1, 0, 0), 'train_end': datetime.datetime(2023, 12, 29, 0, 0), 'test_start': datetime.datetime(2024, 1, 2, 0, 0), 'test_end': datetime.datetime(2024, 2, 8, 0, 0), 'target_column': 'growth', 'train_features': ['open', 'close_max_3_days', 'close_min_3_days', 'close_mean_3_days', '1_USD_to_EUR_lag_1', '1_EUR_to_USD_lag_1', '1_UAH_to_USD_lag_1', '1_USD_to_UAH_lag_1', '1_EUR_to_UAH_lag_1', '1_UAH_to_EUR_lag_1'], 'path_to_result': '/diploma_info/datalake/', 'forecast_periods': 4, 'model_name': 'xgboost', 'model': XGBClassifier(base_score=None, booster='gbtree', callbacks=None,\n",
      "              colsample_bylevel=None, colsample_bynode=None, colsample_bytree=1,\n",
      "              device=None, early_stopping_rounds=None, enable_categorical=False,\n",
      "              eta=0.3, eval_metric='rmse', feature_types=None, gamma=None,\n",
      "              grow_policy=None, importance_type=None,\n",
      "              interaction_constraints=None, learning_rate=None, max_bin=None,\n",
      "              max_cat_threshold=None, max_cat_to_onehot=None,\n",
      "              max_delta_step=None, max_depth=9, max_leaves=None,\n",
      "              min_child_weight=1, missing=nan, monotone_constraints=None,\n",
      "              multi_strategy=None, n_estimators=10, n_jobs=-1,\n",
      "              num_parallel_tree=None, ...), 'forecast_frequency': 'daily', 'company': 'apple', 'model_hyperparameters': {'n_estimators': 10, 'n_jobs': -1, 'max_depth': 9, 'eta': 0.3, 'booster': 'gbtree', 'objective': 'reg:squarederror', 'eval_metric': 'rmse', 'subsample': 1, 'colsample_bytree': 1, 'min_child_weight': 1, 'random_state': 2}, 'problem': 'classification'} \n",
      "\n",
      "(2368, 10) (2368, 1)\n",
      "xgboost\n"
     ]
    },
    {
     "name": "stderr",
     "output_type": "stream",
     "text": [
      "100%|██████████████████████████████████████████████████████████████████████████████████| 38/38 [00:02<00:00, 17.38it/s]\n"
     ]
    },
    {
     "name": "stdout",
     "output_type": "stream",
     "text": [
      "xgboost == {'unique_uuid': 'b1fe5a7b-20bd-11ef-9aba-c0e434d84b22', 'train_start': datetime.datetime(2015, 1, 1, 0, 0), 'train_end': datetime.datetime(2023, 12, 29, 0, 0), 'test_start': datetime.datetime(2024, 1, 2, 0, 0), 'test_end': datetime.datetime(2024, 2, 8, 0, 0), 'target_column': 'growth', 'train_features': ['open', 'year', 'month', 'day', 'day_of_week', 'week_of_year', '1_USD_to_EUR_lag_1', '1_EUR_to_USD_lag_1', '1_UAH_to_USD_lag_1', '1_USD_to_UAH_lag_1', '1_EUR_to_UAH_lag_1', '1_UAH_to_EUR_lag_1'], 'path_to_result': '/diploma_info/datalake/', 'forecast_periods': 4, 'model_name': 'xgboost', 'model': XGBClassifier(base_score=None, booster='gbtree', callbacks=None,\n",
      "              colsample_bylevel=None, colsample_bynode=None, colsample_bytree=1,\n",
      "              device=None, early_stopping_rounds=None, enable_categorical=False,\n",
      "              eta=0.3, eval_metric='rmse', feature_types=None, gamma=None,\n",
      "              grow_policy=None, importance_type=None,\n",
      "              interaction_constraints=None, learning_rate=None, max_bin=None,\n",
      "              max_cat_threshold=None, max_cat_to_onehot=None,\n",
      "              max_delta_step=None, max_depth=9, max_leaves=None,\n",
      "              min_child_weight=1, missing=nan, monotone_constraints=None,\n",
      "              multi_strategy=None, n_estimators=10, n_jobs=-1,\n",
      "              num_parallel_tree=None, ...), 'forecast_frequency': 'daily', 'company': 'apple', 'model_hyperparameters': {'n_estimators': 10, 'n_jobs': -1, 'max_depth': 9, 'eta': 0.3, 'booster': 'gbtree', 'objective': 'reg:squarederror', 'eval_metric': 'rmse', 'subsample': 1, 'colsample_bytree': 1, 'min_child_weight': 1, 'random_state': 2}, 'problem': 'classification'} \n",
      "\n",
      "(2368, 12) (2368, 1)\n",
      "xgboost\n"
     ]
    },
    {
     "name": "stderr",
     "output_type": "stream",
     "text": [
      "100%|██████████████████████████████████████████████████████████████████████████████████| 38/38 [00:02<00:00, 15.86it/s]\n"
     ]
    },
    {
     "name": "stdout",
     "output_type": "stream",
     "text": [
      "xgboost == {'unique_uuid': 'b1fe5a7c-20bd-11ef-a826-c0e434d84b22', 'train_start': datetime.datetime(2015, 1, 1, 0, 0), 'train_end': datetime.datetime(2023, 12, 29, 0, 0), 'test_start': datetime.datetime(2024, 1, 2, 0, 0), 'test_end': datetime.datetime(2024, 2, 8, 0, 0), 'target_column': 'growth', 'train_features': ['open', 'volume_lag_1', 'usa_inflation_%', '1_USD_to_EUR_lag_1', '1_EUR_to_USD_lag_1', '1_UAH_to_USD_lag_1', '1_USD_to_UAH_lag_1', '1_EUR_to_UAH_lag_1', '1_UAH_to_EUR_lag_1'], 'path_to_result': '/diploma_info/datalake/', 'forecast_periods': 4, 'model_name': 'xgboost', 'model': XGBClassifier(base_score=None, booster='gbtree', callbacks=None,\n",
      "              colsample_bylevel=None, colsample_bynode=None, colsample_bytree=1,\n",
      "              device=None, early_stopping_rounds=None, enable_categorical=False,\n",
      "              eta=0.3, eval_metric='rmse', feature_types=None, gamma=None,\n",
      "              grow_policy=None, importance_type=None,\n",
      "              interaction_constraints=None, learning_rate=None, max_bin=None,\n",
      "              max_cat_threshold=None, max_cat_to_onehot=None,\n",
      "              max_delta_step=None, max_depth=9, max_leaves=None,\n",
      "              min_child_weight=1, missing=nan, monotone_constraints=None,\n",
      "              multi_strategy=None, n_estimators=200, n_jobs=-1,\n",
      "              num_parallel_tree=None, ...), 'forecast_frequency': 'daily', 'company': 'apple', 'model_hyperparameters': {'n_estimators': 200, 'n_jobs': -1, 'max_depth': 9, 'eta': 0.3, 'booster': 'gbtree', 'objective': 'reg:squarederror', 'eval_metric': 'rmse', 'subsample': 1, 'colsample_bytree': 1, 'min_child_weight': 1, 'random_state': 2}, 'problem': 'classification'} \n",
      "\n",
      "(2368, 9) (2368, 1)\n",
      "xgboost\n"
     ]
    },
    {
     "name": "stderr",
     "output_type": "stream",
     "text": [
      "100%|██████████████████████████████████████████████████████████████████████████████████| 38/38 [00:20<00:00,  1.82it/s]\n"
     ]
    },
    {
     "name": "stdout",
     "output_type": "stream",
     "text": [
      "xgboost == {'unique_uuid': 'b1fe5a7d-20bd-11ef-af37-c0e434d84b22', 'train_start': datetime.datetime(2015, 1, 1, 0, 0), 'train_end': datetime.datetime(2023, 12, 29, 0, 0), 'test_start': datetime.datetime(2024, 1, 2, 0, 0), 'test_end': datetime.datetime(2024, 2, 8, 0, 0), 'target_column': 'growth', 'train_features': ['open', 'close_max_3_days', 'close_min_3_days', 'close_mean_3_days', '1_USD_to_EUR_lag_1', '1_EUR_to_USD_lag_1', '1_UAH_to_USD_lag_1', '1_USD_to_UAH_lag_1', '1_EUR_to_UAH_lag_1', '1_UAH_to_EUR_lag_1'], 'path_to_result': '/diploma_info/datalake/', 'forecast_periods': 4, 'model_name': 'xgboost', 'model': XGBClassifier(base_score=None, booster='gbtree', callbacks=None,\n",
      "              colsample_bylevel=None, colsample_bynode=None, colsample_bytree=1,\n",
      "              device=None, early_stopping_rounds=None, enable_categorical=False,\n",
      "              eta=0.3, eval_metric='rmse', feature_types=None, gamma=None,\n",
      "              grow_policy=None, importance_type=None,\n",
      "              interaction_constraints=None, learning_rate=None, max_bin=None,\n",
      "              max_cat_threshold=None, max_cat_to_onehot=None,\n",
      "              max_delta_step=None, max_depth=9, max_leaves=None,\n",
      "              min_child_weight=1, missing=nan, monotone_constraints=None,\n",
      "              multi_strategy=None, n_estimators=200, n_jobs=-1,\n",
      "              num_parallel_tree=None, ...), 'forecast_frequency': 'daily', 'company': 'apple', 'model_hyperparameters': {'n_estimators': 200, 'n_jobs': -1, 'max_depth': 9, 'eta': 0.3, 'booster': 'gbtree', 'objective': 'reg:squarederror', 'eval_metric': 'rmse', 'subsample': 1, 'colsample_bytree': 1, 'min_child_weight': 1, 'random_state': 2}, 'problem': 'classification'} \n",
      "\n",
      "(2368, 10) (2368, 1)\n",
      "xgboost\n"
     ]
    },
    {
     "name": "stderr",
     "output_type": "stream",
     "text": [
      "100%|██████████████████████████████████████████████████████████████████████████████████| 38/38 [00:20<00:00,  1.89it/s]\n"
     ]
    },
    {
     "name": "stdout",
     "output_type": "stream",
     "text": [
      "xgboost == {'unique_uuid': 'b1fe5a7e-20bd-11ef-a14f-c0e434d84b22', 'train_start': datetime.datetime(2015, 1, 1, 0, 0), 'train_end': datetime.datetime(2023, 12, 29, 0, 0), 'test_start': datetime.datetime(2024, 1, 2, 0, 0), 'test_end': datetime.datetime(2024, 2, 8, 0, 0), 'target_column': 'growth', 'train_features': ['open', 'year', 'month', 'day', 'day_of_week', 'week_of_year', '1_USD_to_EUR_lag_1', '1_EUR_to_USD_lag_1', '1_UAH_to_USD_lag_1', '1_USD_to_UAH_lag_1', '1_EUR_to_UAH_lag_1', '1_UAH_to_EUR_lag_1'], 'path_to_result': '/diploma_info/datalake/', 'forecast_periods': 4, 'model_name': 'xgboost', 'model': XGBClassifier(base_score=None, booster='gbtree', callbacks=None,\n",
      "              colsample_bylevel=None, colsample_bynode=None, colsample_bytree=1,\n",
      "              device=None, early_stopping_rounds=None, enable_categorical=False,\n",
      "              eta=0.3, eval_metric='rmse', feature_types=None, gamma=None,\n",
      "              grow_policy=None, importance_type=None,\n",
      "              interaction_constraints=None, learning_rate=None, max_bin=None,\n",
      "              max_cat_threshold=None, max_cat_to_onehot=None,\n",
      "              max_delta_step=None, max_depth=9, max_leaves=None,\n",
      "              min_child_weight=1, missing=nan, monotone_constraints=None,\n",
      "              multi_strategy=None, n_estimators=200, n_jobs=-1,\n",
      "              num_parallel_tree=None, ...), 'forecast_frequency': 'daily', 'company': 'apple', 'model_hyperparameters': {'n_estimators': 200, 'n_jobs': -1, 'max_depth': 9, 'eta': 0.3, 'booster': 'gbtree', 'objective': 'reg:squarederror', 'eval_metric': 'rmse', 'subsample': 1, 'colsample_bytree': 1, 'min_child_weight': 1, 'random_state': 2}, 'problem': 'classification'} \n",
      "\n",
      "(2368, 12) (2368, 1)\n",
      "xgboost\n"
     ]
    },
    {
     "name": "stderr",
     "output_type": "stream",
     "text": [
      "100%|██████████████████████████████████████████████████████████████████████████████████| 38/38 [00:22<00:00,  1.66it/s]\n"
     ]
    },
    {
     "name": "stdout",
     "output_type": "stream",
     "text": [
      "lightgbm == {'unique_uuid': 'b1fe5a7f-20bd-11ef-98c9-c0e434d84b22', 'train_start': datetime.datetime(2015, 1, 1, 0, 0), 'train_end': datetime.datetime(2023, 12, 29, 0, 0), 'test_start': datetime.datetime(2024, 1, 2, 0, 0), 'test_end': datetime.datetime(2024, 2, 8, 0, 0), 'target_column': 'growth', 'train_features': ['open', 'volume_lag_1', 'usa_inflation_%', '1_USD_to_EUR_lag_1', '1_EUR_to_USD_lag_1', '1_UAH_to_USD_lag_1', '1_USD_to_UAH_lag_1', '1_EUR_to_UAH_lag_1', '1_UAH_to_EUR_lag_1'], 'path_to_result': '/diploma_info/datalake/', 'forecast_periods': 4, 'model_name': 'lightgbm', 'model': LGBMClassifier(eta=0.3, max_depth=7, metric='binary', n_estimators=5000,\n",
      "               n_jobs=-1, objective='binary', random_state=2, verbosity=-1), 'forecast_frequency': 'daily', 'company': 'apple', 'model_hyperparameters': {'n_estimators': 5000, 'n_jobs': -1, 'max_depth': 7, 'eta': 0.3, 'random_state': 2, 'objective': 'binary', 'verbosity': -1, 'metric': 'binary'}, 'problem': 'classification'} \n",
      "\n",
      "(2368, 9) (2368, 1)\n",
      "lightgbm\n"
     ]
    },
    {
     "name": "stderr",
     "output_type": "stream",
     "text": [
      "100%|██████████████████████████████████████████████████████████████████████████████████| 38/38 [01:07<00:00,  1.76s/it]\n"
     ]
    },
    {
     "name": "stdout",
     "output_type": "stream",
     "text": [
      "lightgbm == {'unique_uuid': 'b1fe5a80-20bd-11ef-895d-c0e434d84b22', 'train_start': datetime.datetime(2015, 1, 1, 0, 0), 'train_end': datetime.datetime(2023, 12, 29, 0, 0), 'test_start': datetime.datetime(2024, 1, 2, 0, 0), 'test_end': datetime.datetime(2024, 2, 8, 0, 0), 'target_column': 'growth', 'train_features': ['open', 'close_max_3_days', 'close_min_3_days', 'close_mean_3_days', '1_USD_to_EUR_lag_1', '1_EUR_to_USD_lag_1', '1_UAH_to_USD_lag_1', '1_USD_to_UAH_lag_1', '1_EUR_to_UAH_lag_1', '1_UAH_to_EUR_lag_1'], 'path_to_result': '/diploma_info/datalake/', 'forecast_periods': 4, 'model_name': 'lightgbm', 'model': LGBMClassifier(eta=0.3, max_depth=7, metric='binary', n_estimators=5000,\n",
      "               n_jobs=-1, objective='binary', random_state=2, verbosity=-1), 'forecast_frequency': 'daily', 'company': 'apple', 'model_hyperparameters': {'n_estimators': 5000, 'n_jobs': -1, 'max_depth': 7, 'eta': 0.3, 'random_state': 2, 'objective': 'binary', 'verbosity': -1, 'metric': 'binary'}, 'problem': 'classification'} \n",
      "\n",
      "(2368, 10) (2368, 1)\n",
      "lightgbm\n"
     ]
    },
    {
     "name": "stderr",
     "output_type": "stream",
     "text": [
      "100%|██████████████████████████████████████████████████████████████████████████████████| 38/38 [01:07<00:00,  1.77s/it]\n"
     ]
    },
    {
     "name": "stdout",
     "output_type": "stream",
     "text": [
      "lightgbm == {'unique_uuid': 'b1fe5a81-20bd-11ef-9a15-c0e434d84b22', 'train_start': datetime.datetime(2015, 1, 1, 0, 0), 'train_end': datetime.datetime(2023, 12, 29, 0, 0), 'test_start': datetime.datetime(2024, 1, 2, 0, 0), 'test_end': datetime.datetime(2024, 2, 8, 0, 0), 'target_column': 'growth', 'train_features': ['open', 'year', 'month', 'day', 'day_of_week', 'week_of_year', '1_USD_to_EUR_lag_1', '1_EUR_to_USD_lag_1', '1_UAH_to_USD_lag_1', '1_USD_to_UAH_lag_1', '1_EUR_to_UAH_lag_1', '1_UAH_to_EUR_lag_1'], 'path_to_result': '/diploma_info/datalake/', 'forecast_periods': 4, 'model_name': 'lightgbm', 'model': LGBMClassifier(eta=0.3, max_depth=7, metric='binary', n_estimators=5000,\n",
      "               n_jobs=-1, objective='binary', random_state=2, verbosity=-1), 'forecast_frequency': 'daily', 'company': 'apple', 'model_hyperparameters': {'n_estimators': 5000, 'n_jobs': -1, 'max_depth': 7, 'eta': 0.3, 'random_state': 2, 'objective': 'binary', 'verbosity': -1, 'metric': 'binary'}, 'problem': 'classification'} \n",
      "\n",
      "(2368, 12) (2368, 1)\n",
      "lightgbm\n"
     ]
    },
    {
     "name": "stderr",
     "output_type": "stream",
     "text": [
      "100%|██████████████████████████████████████████████████████████████████████████████████| 38/38 [01:13<00:00,  1.93s/it]\n"
     ]
    },
    {
     "name": "stdout",
     "output_type": "stream",
     "text": [
      "lightgbm == {'unique_uuid': 'b1fe5a82-20bd-11ef-b0fc-c0e434d84b22', 'train_start': datetime.datetime(2015, 1, 1, 0, 0), 'train_end': datetime.datetime(2023, 12, 29, 0, 0), 'test_start': datetime.datetime(2024, 1, 2, 0, 0), 'test_end': datetime.datetime(2024, 2, 8, 0, 0), 'target_column': 'growth', 'train_features': ['open', 'volume_lag_1', 'usa_inflation_%', '1_USD_to_EUR_lag_1', '1_EUR_to_USD_lag_1', '1_UAH_to_USD_lag_1', '1_USD_to_UAH_lag_1', '1_EUR_to_UAH_lag_1', '1_UAH_to_EUR_lag_1'], 'path_to_result': '/diploma_info/datalake/', 'forecast_periods': 4, 'model_name': 'lightgbm', 'model': LGBMClassifier(eta=0.3, max_depth=9, metric='binary', n_estimators=5000,\n",
      "               n_jobs=-1, objective='binary', random_state=2, verbosity=-1), 'forecast_frequency': 'daily', 'company': 'apple', 'model_hyperparameters': {'n_estimators': 5000, 'n_jobs': -1, 'max_depth': 9, 'eta': 0.3, 'random_state': 2, 'objective': 'binary', 'verbosity': -1, 'metric': 'binary'}, 'problem': 'classification'} \n",
      "\n",
      "(2368, 9) (2368, 1)\n",
      "lightgbm\n"
     ]
    },
    {
     "name": "stderr",
     "output_type": "stream",
     "text": [
      "100%|██████████████████████████████████████████████████████████████████████████████████| 38/38 [01:23<00:00,  2.19s/it]\n"
     ]
    },
    {
     "name": "stdout",
     "output_type": "stream",
     "text": [
      "lightgbm == {'unique_uuid': 'b1fe5a83-20bd-11ef-974c-c0e434d84b22', 'train_start': datetime.datetime(2015, 1, 1, 0, 0), 'train_end': datetime.datetime(2023, 12, 29, 0, 0), 'test_start': datetime.datetime(2024, 1, 2, 0, 0), 'test_end': datetime.datetime(2024, 2, 8, 0, 0), 'target_column': 'growth', 'train_features': ['open', 'close_max_3_days', 'close_min_3_days', 'close_mean_3_days', '1_USD_to_EUR_lag_1', '1_EUR_to_USD_lag_1', '1_UAH_to_USD_lag_1', '1_USD_to_UAH_lag_1', '1_EUR_to_UAH_lag_1', '1_UAH_to_EUR_lag_1'], 'path_to_result': '/diploma_info/datalake/', 'forecast_periods': 4, 'model_name': 'lightgbm', 'model': LGBMClassifier(eta=0.3, max_depth=9, metric='binary', n_estimators=5000,\n",
      "               n_jobs=-1, objective='binary', random_state=2, verbosity=-1), 'forecast_frequency': 'daily', 'company': 'apple', 'model_hyperparameters': {'n_estimators': 5000, 'n_jobs': -1, 'max_depth': 9, 'eta': 0.3, 'random_state': 2, 'objective': 'binary', 'verbosity': -1, 'metric': 'binary'}, 'problem': 'classification'} \n",
      "\n",
      "(2368, 10) (2368, 1)\n",
      "lightgbm\n"
     ]
    },
    {
     "name": "stderr",
     "output_type": "stream",
     "text": [
      "100%|██████████████████████████████████████████████████████████████████████████████████| 38/38 [01:20<00:00,  2.13s/it]\n"
     ]
    },
    {
     "name": "stdout",
     "output_type": "stream",
     "text": [
      "lightgbm == {'unique_uuid': 'b1fe5a84-20bd-11ef-a20d-c0e434d84b22', 'train_start': datetime.datetime(2015, 1, 1, 0, 0), 'train_end': datetime.datetime(2023, 12, 29, 0, 0), 'test_start': datetime.datetime(2024, 1, 2, 0, 0), 'test_end': datetime.datetime(2024, 2, 8, 0, 0), 'target_column': 'growth', 'train_features': ['open', 'year', 'month', 'day', 'day_of_week', 'week_of_year', '1_USD_to_EUR_lag_1', '1_EUR_to_USD_lag_1', '1_UAH_to_USD_lag_1', '1_USD_to_UAH_lag_1', '1_EUR_to_UAH_lag_1', '1_UAH_to_EUR_lag_1'], 'path_to_result': '/diploma_info/datalake/', 'forecast_periods': 4, 'model_name': 'lightgbm', 'model': LGBMClassifier(eta=0.3, max_depth=9, metric='binary', n_estimators=5000,\n",
      "               n_jobs=-1, objective='binary', random_state=2, verbosity=-1), 'forecast_frequency': 'daily', 'company': 'apple', 'model_hyperparameters': {'n_estimators': 5000, 'n_jobs': -1, 'max_depth': 9, 'eta': 0.3, 'random_state': 2, 'objective': 'binary', 'verbosity': -1, 'metric': 'binary'}, 'problem': 'classification'} \n",
      "\n",
      "(2368, 12) (2368, 1)\n",
      "lightgbm\n"
     ]
    },
    {
     "name": "stderr",
     "output_type": "stream",
     "text": [
      "100%|██████████████████████████████████████████████████████████████████████████████████| 38/38 [01:29<00:00,  2.34s/it]\n"
     ]
    },
    {
     "name": "stdout",
     "output_type": "stream",
     "text": [
      "random_forest == {'unique_uuid': 'b1fe5a85-20bd-11ef-bbb1-c0e434d84b22', 'train_start': datetime.datetime(2015, 1, 1, 0, 0), 'train_end': datetime.datetime(2023, 12, 29, 0, 0), 'test_start': datetime.datetime(2024, 1, 2, 0, 0), 'test_end': datetime.datetime(2024, 2, 8, 0, 0), 'target_column': 'growth', 'train_features': ['open', 'volume_lag_1', 'usa_inflation_%', '1_USD_to_EUR_lag_1', '1_EUR_to_USD_lag_1', '1_UAH_to_USD_lag_1', '1_USD_to_UAH_lag_1', '1_EUR_to_UAH_lag_1', '1_UAH_to_EUR_lag_1'], 'path_to_result': '/diploma_info/datalake/', 'forecast_periods': 4, 'model_name': 'random_forest', 'model': RandomForestClassifier(max_depth=7, n_estimators=10, n_jobs=-1, random_state=2), 'forecast_frequency': 'daily', 'company': 'apple', 'model_hyperparameters': {'n_estimators': 10, 'n_jobs': -1, 'random_state': 2, 'max_depth': 7}, 'problem': 'classification'} \n",
      "\n",
      "(2368, 9) (2368, 1)\n",
      "random_forest\n"
     ]
    },
    {
     "name": "stderr",
     "output_type": "stream",
     "text": [
      "100%|██████████████████████████████████████████████████████████████████████████████████| 38/38 [00:02<00:00, 13.05it/s]\n"
     ]
    },
    {
     "name": "stdout",
     "output_type": "stream",
     "text": [
      "random_forest == {'unique_uuid': 'b1fe5a86-20bd-11ef-906a-c0e434d84b22', 'train_start': datetime.datetime(2015, 1, 1, 0, 0), 'train_end': datetime.datetime(2023, 12, 29, 0, 0), 'test_start': datetime.datetime(2024, 1, 2, 0, 0), 'test_end': datetime.datetime(2024, 2, 8, 0, 0), 'target_column': 'growth', 'train_features': ['open', 'close_max_3_days', 'close_min_3_days', 'close_mean_3_days', '1_USD_to_EUR_lag_1', '1_EUR_to_USD_lag_1', '1_UAH_to_USD_lag_1', '1_USD_to_UAH_lag_1', '1_EUR_to_UAH_lag_1', '1_UAH_to_EUR_lag_1'], 'path_to_result': '/diploma_info/datalake/', 'forecast_periods': 4, 'model_name': 'random_forest', 'model': RandomForestClassifier(max_depth=7, n_estimators=10, n_jobs=-1, random_state=2), 'forecast_frequency': 'daily', 'company': 'apple', 'model_hyperparameters': {'n_estimators': 10, 'n_jobs': -1, 'random_state': 2, 'max_depth': 7}, 'problem': 'classification'} \n",
      "\n",
      "(2368, 10) (2368, 1)\n",
      "random_forest\n"
     ]
    },
    {
     "name": "stderr",
     "output_type": "stream",
     "text": [
      "100%|██████████████████████████████████████████████████████████████████████████████████| 38/38 [00:02<00:00, 13.56it/s]\n"
     ]
    },
    {
     "name": "stdout",
     "output_type": "stream",
     "text": [
      "random_forest == {'unique_uuid': 'b1fe5a87-20bd-11ef-8233-c0e434d84b22', 'train_start': datetime.datetime(2015, 1, 1, 0, 0), 'train_end': datetime.datetime(2023, 12, 29, 0, 0), 'test_start': datetime.datetime(2024, 1, 2, 0, 0), 'test_end': datetime.datetime(2024, 2, 8, 0, 0), 'target_column': 'growth', 'train_features': ['open', 'year', 'month', 'day', 'day_of_week', 'week_of_year', '1_USD_to_EUR_lag_1', '1_EUR_to_USD_lag_1', '1_UAH_to_USD_lag_1', '1_USD_to_UAH_lag_1', '1_EUR_to_UAH_lag_1', '1_UAH_to_EUR_lag_1'], 'path_to_result': '/diploma_info/datalake/', 'forecast_periods': 4, 'model_name': 'random_forest', 'model': RandomForestClassifier(max_depth=7, n_estimators=10, n_jobs=-1, random_state=2), 'forecast_frequency': 'daily', 'company': 'apple', 'model_hyperparameters': {'n_estimators': 10, 'n_jobs': -1, 'random_state': 2, 'max_depth': 7}, 'problem': 'classification'} \n",
      "\n",
      "(2368, 12) (2368, 1)\n",
      "random_forest\n"
     ]
    },
    {
     "name": "stderr",
     "output_type": "stream",
     "text": [
      "100%|██████████████████████████████████████████████████████████████████████████████████| 38/38 [00:02<00:00, 15.11it/s]\n"
     ]
    },
    {
     "name": "stdout",
     "output_type": "stream",
     "text": [
      "knear_neighbors == {'unique_uuid': 'b1fe5a88-20bd-11ef-b22c-c0e434d84b22', 'train_start': datetime.datetime(2015, 1, 1, 0, 0), 'train_end': datetime.datetime(2023, 12, 29, 0, 0), 'test_start': datetime.datetime(2024, 1, 2, 0, 0), 'test_end': datetime.datetime(2024, 2, 8, 0, 0), 'target_column': 'growth', 'train_features': ['open', 'volume_lag_1', 'usa_inflation_%', '1_USD_to_EUR_lag_1', '1_EUR_to_USD_lag_1', '1_UAH_to_USD_lag_1', '1_USD_to_UAH_lag_1', '1_EUR_to_UAH_lag_1', '1_UAH_to_EUR_lag_1'], 'path_to_result': '/diploma_info/datalake/', 'forecast_periods': 4, 'model_name': 'knear_neighbors', 'model': KNeighborsClassifier(n_jobs=-1, n_neighbors=3), 'forecast_frequency': 'daily', 'company': 'apple', 'model_hyperparameters': {'n_neighbors': 3, 'n_jobs': -1}, 'problem': 'classification'} \n",
      "\n",
      "(2368, 9) (2368, 1)\n",
      "knear_neighbors\n"
     ]
    },
    {
     "name": "stderr",
     "output_type": "stream",
     "text": [
      "100%|██████████████████████████████████████████████████████████████████████████████████| 38/38 [00:01<00:00, 27.27it/s]\n"
     ]
    },
    {
     "name": "stdout",
     "output_type": "stream",
     "text": [
      "knear_neighbors == {'unique_uuid': 'b1fe5a89-20bd-11ef-ae26-c0e434d84b22', 'train_start': datetime.datetime(2015, 1, 1, 0, 0), 'train_end': datetime.datetime(2023, 12, 29, 0, 0), 'test_start': datetime.datetime(2024, 1, 2, 0, 0), 'test_end': datetime.datetime(2024, 2, 8, 0, 0), 'target_column': 'growth', 'train_features': ['open', 'close_max_3_days', 'close_min_3_days', 'close_mean_3_days', '1_USD_to_EUR_lag_1', '1_EUR_to_USD_lag_1', '1_UAH_to_USD_lag_1', '1_USD_to_UAH_lag_1', '1_EUR_to_UAH_lag_1', '1_UAH_to_EUR_lag_1'], 'path_to_result': '/diploma_info/datalake/', 'forecast_periods': 4, 'model_name': 'knear_neighbors', 'model': KNeighborsClassifier(n_jobs=-1, n_neighbors=3), 'forecast_frequency': 'daily', 'company': 'apple', 'model_hyperparameters': {'n_neighbors': 3, 'n_jobs': -1}, 'problem': 'classification'} \n",
      "\n",
      "(2368, 10) (2368, 1)\n",
      "knear_neighbors\n"
     ]
    },
    {
     "name": "stderr",
     "output_type": "stream",
     "text": [
      "100%|██████████████████████████████████████████████████████████████████████████████████| 38/38 [00:01<00:00, 26.02it/s]\n"
     ]
    },
    {
     "name": "stdout",
     "output_type": "stream",
     "text": [
      "knear_neighbors == {'unique_uuid': 'b1fe5a8a-20bd-11ef-b4d0-c0e434d84b22', 'train_start': datetime.datetime(2015, 1, 1, 0, 0), 'train_end': datetime.datetime(2023, 12, 29, 0, 0), 'test_start': datetime.datetime(2024, 1, 2, 0, 0), 'test_end': datetime.datetime(2024, 2, 8, 0, 0), 'target_column': 'growth', 'train_features': ['open', 'year', 'month', 'day', 'day_of_week', 'week_of_year', '1_USD_to_EUR_lag_1', '1_EUR_to_USD_lag_1', '1_UAH_to_USD_lag_1', '1_USD_to_UAH_lag_1', '1_EUR_to_UAH_lag_1', '1_UAH_to_EUR_lag_1'], 'path_to_result': '/diploma_info/datalake/', 'forecast_periods': 4, 'model_name': 'knear_neighbors', 'model': KNeighborsClassifier(n_jobs=-1, n_neighbors=3), 'forecast_frequency': 'daily', 'company': 'apple', 'model_hyperparameters': {'n_neighbors': 3, 'n_jobs': -1}, 'problem': 'classification'} \n",
      "\n",
      "(2368, 12) (2368, 1)\n",
      "knear_neighbors\n"
     ]
    },
    {
     "name": "stderr",
     "output_type": "stream",
     "text": [
      "100%|██████████████████████████████████████████████████████████████████████████████████| 38/38 [00:01<00:00, 26.21it/s]\n"
     ]
    },
    {
     "name": "stdout",
     "output_type": "stream",
     "text": [
      "knear_neighbors == {'unique_uuid': 'b1fe5a8b-20bd-11ef-ad00-c0e434d84b22', 'train_start': datetime.datetime(2015, 1, 1, 0, 0), 'train_end': datetime.datetime(2023, 12, 29, 0, 0), 'test_start': datetime.datetime(2024, 1, 2, 0, 0), 'test_end': datetime.datetime(2024, 2, 8, 0, 0), 'target_column': 'growth', 'train_features': ['open', 'volume_lag_1', 'usa_inflation_%', '1_USD_to_EUR_lag_1', '1_EUR_to_USD_lag_1', '1_UAH_to_USD_lag_1', '1_USD_to_UAH_lag_1', '1_EUR_to_UAH_lag_1', '1_UAH_to_EUR_lag_1'], 'path_to_result': '/diploma_info/datalake/', 'forecast_periods': 4, 'model_name': 'knear_neighbors', 'model': KNeighborsClassifier(n_jobs=-1, n_neighbors=50), 'forecast_frequency': 'daily', 'company': 'apple', 'model_hyperparameters': {'n_neighbors': 50, 'n_jobs': -1}, 'problem': 'classification'} \n",
      "\n",
      "(2368, 9) (2368, 1)\n",
      "knear_neighbors\n"
     ]
    },
    {
     "name": "stderr",
     "output_type": "stream",
     "text": [
      "100%|██████████████████████████████████████████████████████████████████████████████████| 38/38 [00:01<00:00, 26.46it/s]\n"
     ]
    },
    {
     "name": "stdout",
     "output_type": "stream",
     "text": [
      "knear_neighbors == {'unique_uuid': 'b1fe5a8c-20bd-11ef-bd6f-c0e434d84b22', 'train_start': datetime.datetime(2015, 1, 1, 0, 0), 'train_end': datetime.datetime(2023, 12, 29, 0, 0), 'test_start': datetime.datetime(2024, 1, 2, 0, 0), 'test_end': datetime.datetime(2024, 2, 8, 0, 0), 'target_column': 'growth', 'train_features': ['open', 'close_max_3_days', 'close_min_3_days', 'close_mean_3_days', '1_USD_to_EUR_lag_1', '1_EUR_to_USD_lag_1', '1_UAH_to_USD_lag_1', '1_USD_to_UAH_lag_1', '1_EUR_to_UAH_lag_1', '1_UAH_to_EUR_lag_1'], 'path_to_result': '/diploma_info/datalake/', 'forecast_periods': 4, 'model_name': 'knear_neighbors', 'model': KNeighborsClassifier(n_jobs=-1, n_neighbors=50), 'forecast_frequency': 'daily', 'company': 'apple', 'model_hyperparameters': {'n_neighbors': 50, 'n_jobs': -1}, 'problem': 'classification'} \n",
      "\n",
      "(2368, 10) (2368, 1)\n",
      "knear_neighbors\n"
     ]
    },
    {
     "name": "stderr",
     "output_type": "stream",
     "text": [
      "100%|██████████████████████████████████████████████████████████████████████████████████| 38/38 [00:01<00:00, 25.83it/s]\n"
     ]
    },
    {
     "name": "stdout",
     "output_type": "stream",
     "text": [
      "knear_neighbors == {'unique_uuid': 'b1fe5a8d-20bd-11ef-b938-c0e434d84b22', 'train_start': datetime.datetime(2015, 1, 1, 0, 0), 'train_end': datetime.datetime(2023, 12, 29, 0, 0), 'test_start': datetime.datetime(2024, 1, 2, 0, 0), 'test_end': datetime.datetime(2024, 2, 8, 0, 0), 'target_column': 'growth', 'train_features': ['open', 'year', 'month', 'day', 'day_of_week', 'week_of_year', '1_USD_to_EUR_lag_1', '1_EUR_to_USD_lag_1', '1_UAH_to_USD_lag_1', '1_USD_to_UAH_lag_1', '1_EUR_to_UAH_lag_1', '1_UAH_to_EUR_lag_1'], 'path_to_result': '/diploma_info/datalake/', 'forecast_periods': 4, 'model_name': 'knear_neighbors', 'model': KNeighborsClassifier(n_jobs=-1, n_neighbors=50), 'forecast_frequency': 'daily', 'company': 'apple', 'model_hyperparameters': {'n_neighbors': 50, 'n_jobs': -1}, 'problem': 'classification'} \n",
      "\n",
      "(2368, 12) (2368, 1)\n",
      "knear_neighbors\n"
     ]
    },
    {
     "name": "stderr",
     "output_type": "stream",
     "text": [
      "100%|██████████████████████████████████████████████████████████████████████████████████| 38/38 [00:01<00:00, 25.67it/s]\n"
     ]
    },
    {
     "name": "stdout",
     "output_type": "stream",
     "text": [
      "xgboost == {'unique_uuid': 'b1fe5a8e-20bd-11ef-8a14-c0e434d84b22', 'train_start': datetime.datetime(2020, 1, 1, 0, 0), 'train_end': datetime.datetime(2023, 12, 29, 0, 0), 'test_start': datetime.datetime(2024, 1, 2, 0, 0), 'test_end': datetime.datetime(2024, 2, 8, 0, 0), 'target_column': 'growth', 'train_features': ['open', 'volume_lag_1', 'usa_inflation_%', '1_USD_to_EUR_lag_1', '1_EUR_to_USD_lag_1', '1_UAH_to_USD_lag_1', '1_USD_to_UAH_lag_1', '1_EUR_to_UAH_lag_1', '1_UAH_to_EUR_lag_1'], 'path_to_result': '/diploma_info/datalake/', 'forecast_periods': 4, 'model_name': 'xgboost', 'model': XGBClassifier(base_score=None, booster='gbtree', callbacks=None,\n",
      "              colsample_bylevel=None, colsample_bynode=None, colsample_bytree=1,\n",
      "              device=None, early_stopping_rounds=None, enable_categorical=False,\n",
      "              eta=0.3, eval_metric='rmse', feature_types=None, gamma=None,\n",
      "              grow_policy=None, importance_type=None,\n",
      "              interaction_constraints=None, learning_rate=None, max_bin=None,\n",
      "              max_cat_threshold=None, max_cat_to_onehot=None,\n",
      "              max_delta_step=None, max_depth=7, max_leaves=None,\n",
      "              min_child_weight=1, missing=nan, monotone_constraints=None,\n",
      "              multi_strategy=None, n_estimators=10, n_jobs=-1,\n",
      "              num_parallel_tree=None, ...), 'forecast_frequency': 'daily', 'company': 'apple', 'model_hyperparameters': {'n_estimators': 10, 'n_jobs': -1, 'max_depth': 7, 'eta': 0.3, 'booster': 'gbtree', 'objective': 'reg:squarederror', 'eval_metric': 'rmse', 'subsample': 1, 'colsample_bytree': 1, 'min_child_weight': 1, 'random_state': 2}, 'problem': 'classification'} \n",
      "\n",
      "(2368, 9) (2368, 1)\n",
      "xgboost\n"
     ]
    },
    {
     "name": "stderr",
     "output_type": "stream",
     "text": [
      "100%|██████████████████████████████████████████████████████████████████████████████████| 38/38 [00:01<00:00, 26.25it/s]\n"
     ]
    },
    {
     "name": "stdout",
     "output_type": "stream",
     "text": [
      "xgboost == {'unique_uuid': 'b1fe5a8f-20bd-11ef-a27c-c0e434d84b22', 'train_start': datetime.datetime(2020, 1, 1, 0, 0), 'train_end': datetime.datetime(2023, 12, 29, 0, 0), 'test_start': datetime.datetime(2024, 1, 2, 0, 0), 'test_end': datetime.datetime(2024, 2, 8, 0, 0), 'target_column': 'growth', 'train_features': ['open', 'close_max_3_days', 'close_min_3_days', 'close_mean_3_days', '1_USD_to_EUR_lag_1', '1_EUR_to_USD_lag_1', '1_UAH_to_USD_lag_1', '1_USD_to_UAH_lag_1', '1_EUR_to_UAH_lag_1', '1_UAH_to_EUR_lag_1'], 'path_to_result': '/diploma_info/datalake/', 'forecast_periods': 4, 'model_name': 'xgboost', 'model': XGBClassifier(base_score=None, booster='gbtree', callbacks=None,\n",
      "              colsample_bylevel=None, colsample_bynode=None, colsample_bytree=1,\n",
      "              device=None, early_stopping_rounds=None, enable_categorical=False,\n",
      "              eta=0.3, eval_metric='rmse', feature_types=None, gamma=None,\n",
      "              grow_policy=None, importance_type=None,\n",
      "              interaction_constraints=None, learning_rate=None, max_bin=None,\n",
      "              max_cat_threshold=None, max_cat_to_onehot=None,\n",
      "              max_delta_step=None, max_depth=7, max_leaves=None,\n",
      "              min_child_weight=1, missing=nan, monotone_constraints=None,\n",
      "              multi_strategy=None, n_estimators=10, n_jobs=-1,\n",
      "              num_parallel_tree=None, ...), 'forecast_frequency': 'daily', 'company': 'apple', 'model_hyperparameters': {'n_estimators': 10, 'n_jobs': -1, 'max_depth': 7, 'eta': 0.3, 'booster': 'gbtree', 'objective': 'reg:squarederror', 'eval_metric': 'rmse', 'subsample': 1, 'colsample_bytree': 1, 'min_child_weight': 1, 'random_state': 2}, 'problem': 'classification'} \n",
      "\n",
      "(2368, 10) (2368, 1)\n",
      "xgboost\n"
     ]
    },
    {
     "name": "stderr",
     "output_type": "stream",
     "text": [
      "100%|██████████████████████████████████████████████████████████████████████████████████| 38/38 [00:01<00:00, 25.74it/s]\n"
     ]
    },
    {
     "name": "stdout",
     "output_type": "stream",
     "text": [
      "xgboost == {'unique_uuid': 'b1fe5a90-20bd-11ef-b1de-c0e434d84b22', 'train_start': datetime.datetime(2020, 1, 1, 0, 0), 'train_end': datetime.datetime(2023, 12, 29, 0, 0), 'test_start': datetime.datetime(2024, 1, 2, 0, 0), 'test_end': datetime.datetime(2024, 2, 8, 0, 0), 'target_column': 'growth', 'train_features': ['open', 'year', 'month', 'day', 'day_of_week', 'week_of_year', '1_USD_to_EUR_lag_1', '1_EUR_to_USD_lag_1', '1_UAH_to_USD_lag_1', '1_USD_to_UAH_lag_1', '1_EUR_to_UAH_lag_1', '1_UAH_to_EUR_lag_1'], 'path_to_result': '/diploma_info/datalake/', 'forecast_periods': 4, 'model_name': 'xgboost', 'model': XGBClassifier(base_score=None, booster='gbtree', callbacks=None,\n",
      "              colsample_bylevel=None, colsample_bynode=None, colsample_bytree=1,\n",
      "              device=None, early_stopping_rounds=None, enable_categorical=False,\n",
      "              eta=0.3, eval_metric='rmse', feature_types=None, gamma=None,\n",
      "              grow_policy=None, importance_type=None,\n",
      "              interaction_constraints=None, learning_rate=None, max_bin=None,\n",
      "              max_cat_threshold=None, max_cat_to_onehot=None,\n",
      "              max_delta_step=None, max_depth=7, max_leaves=None,\n",
      "              min_child_weight=1, missing=nan, monotone_constraints=None,\n",
      "              multi_strategy=None, n_estimators=10, n_jobs=-1,\n",
      "              num_parallel_tree=None, ...), 'forecast_frequency': 'daily', 'company': 'apple', 'model_hyperparameters': {'n_estimators': 10, 'n_jobs': -1, 'max_depth': 7, 'eta': 0.3, 'booster': 'gbtree', 'objective': 'reg:squarederror', 'eval_metric': 'rmse', 'subsample': 1, 'colsample_bytree': 1, 'min_child_weight': 1, 'random_state': 2}, 'problem': 'classification'} \n",
      "\n",
      "(2368, 12) (2368, 1)\n",
      "xgboost\n"
     ]
    },
    {
     "name": "stderr",
     "output_type": "stream",
     "text": [
      "100%|██████████████████████████████████████████████████████████████████████████████████| 38/38 [00:01<00:00, 25.18it/s]\n"
     ]
    },
    {
     "name": "stdout",
     "output_type": "stream",
     "text": [
      "xgboost == {'unique_uuid': 'b1fe5a91-20bd-11ef-ba7b-c0e434d84b22', 'train_start': datetime.datetime(2020, 1, 1, 0, 0), 'train_end': datetime.datetime(2023, 12, 29, 0, 0), 'test_start': datetime.datetime(2024, 1, 2, 0, 0), 'test_end': datetime.datetime(2024, 2, 8, 0, 0), 'target_column': 'growth', 'train_features': ['open', 'volume_lag_1', 'usa_inflation_%', '1_USD_to_EUR_lag_1', '1_EUR_to_USD_lag_1', '1_UAH_to_USD_lag_1', '1_USD_to_UAH_lag_1', '1_EUR_to_UAH_lag_1', '1_UAH_to_EUR_lag_1'], 'path_to_result': '/diploma_info/datalake/', 'forecast_periods': 4, 'model_name': 'xgboost', 'model': XGBClassifier(base_score=None, booster='gbtree', callbacks=None,\n",
      "              colsample_bylevel=None, colsample_bynode=None, colsample_bytree=1,\n",
      "              device=None, early_stopping_rounds=None, enable_categorical=False,\n",
      "              eta=0.3, eval_metric='rmse', feature_types=None, gamma=None,\n",
      "              grow_policy=None, importance_type=None,\n",
      "              interaction_constraints=None, learning_rate=None, max_bin=None,\n",
      "              max_cat_threshold=None, max_cat_to_onehot=None,\n",
      "              max_delta_step=None, max_depth=7, max_leaves=None,\n",
      "              min_child_weight=1, missing=nan, monotone_constraints=None,\n",
      "              multi_strategy=None, n_estimators=200, n_jobs=-1,\n",
      "              num_parallel_tree=None, ...), 'forecast_frequency': 'daily', 'company': 'apple', 'model_hyperparameters': {'n_estimators': 200, 'n_jobs': -1, 'max_depth': 7, 'eta': 0.3, 'booster': 'gbtree', 'objective': 'reg:squarederror', 'eval_metric': 'rmse', 'subsample': 1, 'colsample_bytree': 1, 'min_child_weight': 1, 'random_state': 2}, 'problem': 'classification'} \n",
      "\n",
      "(2368, 9) (2368, 1)\n",
      "xgboost\n"
     ]
    },
    {
     "name": "stderr",
     "output_type": "stream",
     "text": [
      "100%|██████████████████████████████████████████████████████████████████████████████████| 38/38 [00:09<00:00,  3.82it/s]\n"
     ]
    },
    {
     "name": "stdout",
     "output_type": "stream",
     "text": [
      "xgboost == {'unique_uuid': 'b1fe5a92-20bd-11ef-8928-c0e434d84b22', 'train_start': datetime.datetime(2020, 1, 1, 0, 0), 'train_end': datetime.datetime(2023, 12, 29, 0, 0), 'test_start': datetime.datetime(2024, 1, 2, 0, 0), 'test_end': datetime.datetime(2024, 2, 8, 0, 0), 'target_column': 'growth', 'train_features': ['open', 'close_max_3_days', 'close_min_3_days', 'close_mean_3_days', '1_USD_to_EUR_lag_1', '1_EUR_to_USD_lag_1', '1_UAH_to_USD_lag_1', '1_USD_to_UAH_lag_1', '1_EUR_to_UAH_lag_1', '1_UAH_to_EUR_lag_1'], 'path_to_result': '/diploma_info/datalake/', 'forecast_periods': 4, 'model_name': 'xgboost', 'model': XGBClassifier(base_score=None, booster='gbtree', callbacks=None,\n",
      "              colsample_bylevel=None, colsample_bynode=None, colsample_bytree=1,\n",
      "              device=None, early_stopping_rounds=None, enable_categorical=False,\n",
      "              eta=0.3, eval_metric='rmse', feature_types=None, gamma=None,\n",
      "              grow_policy=None, importance_type=None,\n",
      "              interaction_constraints=None, learning_rate=None, max_bin=None,\n",
      "              max_cat_threshold=None, max_cat_to_onehot=None,\n",
      "              max_delta_step=None, max_depth=7, max_leaves=None,\n",
      "              min_child_weight=1, missing=nan, monotone_constraints=None,\n",
      "              multi_strategy=None, n_estimators=200, n_jobs=-1,\n",
      "              num_parallel_tree=None, ...), 'forecast_frequency': 'daily', 'company': 'apple', 'model_hyperparameters': {'n_estimators': 200, 'n_jobs': -1, 'max_depth': 7, 'eta': 0.3, 'booster': 'gbtree', 'objective': 'reg:squarederror', 'eval_metric': 'rmse', 'subsample': 1, 'colsample_bytree': 1, 'min_child_weight': 1, 'random_state': 2}, 'problem': 'classification'} \n",
      "\n",
      "(2368, 10) (2368, 1)\n",
      "xgboost\n"
     ]
    },
    {
     "name": "stderr",
     "output_type": "stream",
     "text": [
      "100%|██████████████████████████████████████████████████████████████████████████████████| 38/38 [00:10<00:00,  3.77it/s]\n"
     ]
    },
    {
     "name": "stdout",
     "output_type": "stream",
     "text": [
      "xgboost == {'unique_uuid': 'b1fe5a93-20bd-11ef-8732-c0e434d84b22', 'train_start': datetime.datetime(2020, 1, 1, 0, 0), 'train_end': datetime.datetime(2023, 12, 29, 0, 0), 'test_start': datetime.datetime(2024, 1, 2, 0, 0), 'test_end': datetime.datetime(2024, 2, 8, 0, 0), 'target_column': 'growth', 'train_features': ['open', 'year', 'month', 'day', 'day_of_week', 'week_of_year', '1_USD_to_EUR_lag_1', '1_EUR_to_USD_lag_1', '1_UAH_to_USD_lag_1', '1_USD_to_UAH_lag_1', '1_EUR_to_UAH_lag_1', '1_UAH_to_EUR_lag_1'], 'path_to_result': '/diploma_info/datalake/', 'forecast_periods': 4, 'model_name': 'xgboost', 'model': XGBClassifier(base_score=None, booster='gbtree', callbacks=None,\n",
      "              colsample_bylevel=None, colsample_bynode=None, colsample_bytree=1,\n",
      "              device=None, early_stopping_rounds=None, enable_categorical=False,\n",
      "              eta=0.3, eval_metric='rmse', feature_types=None, gamma=None,\n",
      "              grow_policy=None, importance_type=None,\n",
      "              interaction_constraints=None, learning_rate=None, max_bin=None,\n",
      "              max_cat_threshold=None, max_cat_to_onehot=None,\n",
      "              max_delta_step=None, max_depth=7, max_leaves=None,\n",
      "              min_child_weight=1, missing=nan, monotone_constraints=None,\n",
      "              multi_strategy=None, n_estimators=200, n_jobs=-1,\n",
      "              num_parallel_tree=None, ...), 'forecast_frequency': 'daily', 'company': 'apple', 'model_hyperparameters': {'n_estimators': 200, 'n_jobs': -1, 'max_depth': 7, 'eta': 0.3, 'booster': 'gbtree', 'objective': 'reg:squarederror', 'eval_metric': 'rmse', 'subsample': 1, 'colsample_bytree': 1, 'min_child_weight': 1, 'random_state': 2}, 'problem': 'classification'} \n",
      "\n",
      "(2368, 12) (2368, 1)\n",
      "xgboost\n"
     ]
    },
    {
     "name": "stderr",
     "output_type": "stream",
     "text": [
      "100%|██████████████████████████████████████████████████████████████████████████████████| 38/38 [00:10<00:00,  3.58it/s]\n"
     ]
    },
    {
     "name": "stdout",
     "output_type": "stream",
     "text": [
      "xgboost == {'unique_uuid': 'b1fe5a94-20bd-11ef-a405-c0e434d84b22', 'train_start': datetime.datetime(2020, 1, 1, 0, 0), 'train_end': datetime.datetime(2023, 12, 29, 0, 0), 'test_start': datetime.datetime(2024, 1, 2, 0, 0), 'test_end': datetime.datetime(2024, 2, 8, 0, 0), 'target_column': 'growth', 'train_features': ['open', 'volume_lag_1', 'usa_inflation_%', '1_USD_to_EUR_lag_1', '1_EUR_to_USD_lag_1', '1_UAH_to_USD_lag_1', '1_USD_to_UAH_lag_1', '1_EUR_to_UAH_lag_1', '1_UAH_to_EUR_lag_1'], 'path_to_result': '/diploma_info/datalake/', 'forecast_periods': 4, 'model_name': 'xgboost', 'model': XGBClassifier(base_score=None, booster='gbtree', callbacks=None,\n",
      "              colsample_bylevel=None, colsample_bynode=None, colsample_bytree=1,\n",
      "              device=None, early_stopping_rounds=None, enable_categorical=False,\n",
      "              eta=0.3, eval_metric='rmse', feature_types=None, gamma=None,\n",
      "              grow_policy=None, importance_type=None,\n",
      "              interaction_constraints=None, learning_rate=None, max_bin=None,\n",
      "              max_cat_threshold=None, max_cat_to_onehot=None,\n",
      "              max_delta_step=None, max_depth=9, max_leaves=None,\n",
      "              min_child_weight=1, missing=nan, monotone_constraints=None,\n",
      "              multi_strategy=None, n_estimators=10, n_jobs=-1,\n",
      "              num_parallel_tree=None, ...), 'forecast_frequency': 'daily', 'company': 'apple', 'model_hyperparameters': {'n_estimators': 10, 'n_jobs': -1, 'max_depth': 9, 'eta': 0.3, 'booster': 'gbtree', 'objective': 'reg:squarederror', 'eval_metric': 'rmse', 'subsample': 1, 'colsample_bytree': 1, 'min_child_weight': 1, 'random_state': 2}, 'problem': 'classification'} \n",
      "\n",
      "(2368, 9) (2368, 1)\n",
      "xgboost\n"
     ]
    },
    {
     "name": "stderr",
     "output_type": "stream",
     "text": [
      "100%|██████████████████████████████████████████████████████████████████████████████████| 38/38 [00:02<00:00, 18.53it/s]\n"
     ]
    },
    {
     "name": "stdout",
     "output_type": "stream",
     "text": [
      "xgboost == {'unique_uuid': 'b1fe5a95-20bd-11ef-be8b-c0e434d84b22', 'train_start': datetime.datetime(2020, 1, 1, 0, 0), 'train_end': datetime.datetime(2023, 12, 29, 0, 0), 'test_start': datetime.datetime(2024, 1, 2, 0, 0), 'test_end': datetime.datetime(2024, 2, 8, 0, 0), 'target_column': 'growth', 'train_features': ['open', 'close_max_3_days', 'close_min_3_days', 'close_mean_3_days', '1_USD_to_EUR_lag_1', '1_EUR_to_USD_lag_1', '1_UAH_to_USD_lag_1', '1_USD_to_UAH_lag_1', '1_EUR_to_UAH_lag_1', '1_UAH_to_EUR_lag_1'], 'path_to_result': '/diploma_info/datalake/', 'forecast_periods': 4, 'model_name': 'xgboost', 'model': XGBClassifier(base_score=None, booster='gbtree', callbacks=None,\n",
      "              colsample_bylevel=None, colsample_bynode=None, colsample_bytree=1,\n",
      "              device=None, early_stopping_rounds=None, enable_categorical=False,\n",
      "              eta=0.3, eval_metric='rmse', feature_types=None, gamma=None,\n",
      "              grow_policy=None, importance_type=None,\n",
      "              interaction_constraints=None, learning_rate=None, max_bin=None,\n",
      "              max_cat_threshold=None, max_cat_to_onehot=None,\n",
      "              max_delta_step=None, max_depth=9, max_leaves=None,\n",
      "              min_child_weight=1, missing=nan, monotone_constraints=None,\n",
      "              multi_strategy=None, n_estimators=10, n_jobs=-1,\n",
      "              num_parallel_tree=None, ...), 'forecast_frequency': 'daily', 'company': 'apple', 'model_hyperparameters': {'n_estimators': 10, 'n_jobs': -1, 'max_depth': 9, 'eta': 0.3, 'booster': 'gbtree', 'objective': 'reg:squarederror', 'eval_metric': 'rmse', 'subsample': 1, 'colsample_bytree': 1, 'min_child_weight': 1, 'random_state': 2}, 'problem': 'classification'} \n",
      "\n",
      "(2368, 10) (2368, 1)\n",
      "xgboost\n"
     ]
    },
    {
     "name": "stderr",
     "output_type": "stream",
     "text": [
      "100%|██████████████████████████████████████████████████████████████████████████████████| 38/38 [00:01<00:00, 20.44it/s]\n"
     ]
    },
    {
     "name": "stdout",
     "output_type": "stream",
     "text": [
      "xgboost == {'unique_uuid': 'b1fe5a96-20bd-11ef-b4a0-c0e434d84b22', 'train_start': datetime.datetime(2020, 1, 1, 0, 0), 'train_end': datetime.datetime(2023, 12, 29, 0, 0), 'test_start': datetime.datetime(2024, 1, 2, 0, 0), 'test_end': datetime.datetime(2024, 2, 8, 0, 0), 'target_column': 'growth', 'train_features': ['open', 'year', 'month', 'day', 'day_of_week', 'week_of_year', '1_USD_to_EUR_lag_1', '1_EUR_to_USD_lag_1', '1_UAH_to_USD_lag_1', '1_USD_to_UAH_lag_1', '1_EUR_to_UAH_lag_1', '1_UAH_to_EUR_lag_1'], 'path_to_result': '/diploma_info/datalake/', 'forecast_periods': 4, 'model_name': 'xgboost', 'model': XGBClassifier(base_score=None, booster='gbtree', callbacks=None,\n",
      "              colsample_bylevel=None, colsample_bynode=None, colsample_bytree=1,\n",
      "              device=None, early_stopping_rounds=None, enable_categorical=False,\n",
      "              eta=0.3, eval_metric='rmse', feature_types=None, gamma=None,\n",
      "              grow_policy=None, importance_type=None,\n",
      "              interaction_constraints=None, learning_rate=None, max_bin=None,\n",
      "              max_cat_threshold=None, max_cat_to_onehot=None,\n",
      "              max_delta_step=None, max_depth=9, max_leaves=None,\n",
      "              min_child_weight=1, missing=nan, monotone_constraints=None,\n",
      "              multi_strategy=None, n_estimators=10, n_jobs=-1,\n",
      "              num_parallel_tree=None, ...), 'forecast_frequency': 'daily', 'company': 'apple', 'model_hyperparameters': {'n_estimators': 10, 'n_jobs': -1, 'max_depth': 9, 'eta': 0.3, 'booster': 'gbtree', 'objective': 'reg:squarederror', 'eval_metric': 'rmse', 'subsample': 1, 'colsample_bytree': 1, 'min_child_weight': 1, 'random_state': 2}, 'problem': 'classification'} \n",
      "\n",
      "(2368, 12) (2368, 1)\n",
      "xgboost\n"
     ]
    },
    {
     "name": "stderr",
     "output_type": "stream",
     "text": [
      "100%|██████████████████████████████████████████████████████████████████████████████████| 38/38 [00:02<00:00, 16.06it/s]\n"
     ]
    },
    {
     "name": "stdout",
     "output_type": "stream",
     "text": [
      "xgboost == {'unique_uuid': 'b1fe5a97-20bd-11ef-86fe-c0e434d84b22', 'train_start': datetime.datetime(2020, 1, 1, 0, 0), 'train_end': datetime.datetime(2023, 12, 29, 0, 0), 'test_start': datetime.datetime(2024, 1, 2, 0, 0), 'test_end': datetime.datetime(2024, 2, 8, 0, 0), 'target_column': 'growth', 'train_features': ['open', 'volume_lag_1', 'usa_inflation_%', '1_USD_to_EUR_lag_1', '1_EUR_to_USD_lag_1', '1_UAH_to_USD_lag_1', '1_USD_to_UAH_lag_1', '1_EUR_to_UAH_lag_1', '1_UAH_to_EUR_lag_1'], 'path_to_result': '/diploma_info/datalake/', 'forecast_periods': 4, 'model_name': 'xgboost', 'model': XGBClassifier(base_score=None, booster='gbtree', callbacks=None,\n",
      "              colsample_bylevel=None, colsample_bynode=None, colsample_bytree=1,\n",
      "              device=None, early_stopping_rounds=None, enable_categorical=False,\n",
      "              eta=0.3, eval_metric='rmse', feature_types=None, gamma=None,\n",
      "              grow_policy=None, importance_type=None,\n",
      "              interaction_constraints=None, learning_rate=None, max_bin=None,\n",
      "              max_cat_threshold=None, max_cat_to_onehot=None,\n",
      "              max_delta_step=None, max_depth=9, max_leaves=None,\n",
      "              min_child_weight=1, missing=nan, monotone_constraints=None,\n",
      "              multi_strategy=None, n_estimators=200, n_jobs=-1,\n",
      "              num_parallel_tree=None, ...), 'forecast_frequency': 'daily', 'company': 'apple', 'model_hyperparameters': {'n_estimators': 200, 'n_jobs': -1, 'max_depth': 9, 'eta': 0.3, 'booster': 'gbtree', 'objective': 'reg:squarederror', 'eval_metric': 'rmse', 'subsample': 1, 'colsample_bytree': 1, 'min_child_weight': 1, 'random_state': 2}, 'problem': 'classification'} \n",
      "\n",
      "(2368, 9) (2368, 1)\n",
      "xgboost\n"
     ]
    },
    {
     "name": "stderr",
     "output_type": "stream",
     "text": [
      "100%|██████████████████████████████████████████████████████████████████████████████████| 38/38 [00:14<00:00,  2.63it/s]\n"
     ]
    },
    {
     "name": "stdout",
     "output_type": "stream",
     "text": [
      "xgboost == {'unique_uuid': 'b1fe5a98-20bd-11ef-8f8a-c0e434d84b22', 'train_start': datetime.datetime(2020, 1, 1, 0, 0), 'train_end': datetime.datetime(2023, 12, 29, 0, 0), 'test_start': datetime.datetime(2024, 1, 2, 0, 0), 'test_end': datetime.datetime(2024, 2, 8, 0, 0), 'target_column': 'growth', 'train_features': ['open', 'close_max_3_days', 'close_min_3_days', 'close_mean_3_days', '1_USD_to_EUR_lag_1', '1_EUR_to_USD_lag_1', '1_UAH_to_USD_lag_1', '1_USD_to_UAH_lag_1', '1_EUR_to_UAH_lag_1', '1_UAH_to_EUR_lag_1'], 'path_to_result': '/diploma_info/datalake/', 'forecast_periods': 4, 'model_name': 'xgboost', 'model': XGBClassifier(base_score=None, booster='gbtree', callbacks=None,\n",
      "              colsample_bylevel=None, colsample_bynode=None, colsample_bytree=1,\n",
      "              device=None, early_stopping_rounds=None, enable_categorical=False,\n",
      "              eta=0.3, eval_metric='rmse', feature_types=None, gamma=None,\n",
      "              grow_policy=None, importance_type=None,\n",
      "              interaction_constraints=None, learning_rate=None, max_bin=None,\n",
      "              max_cat_threshold=None, max_cat_to_onehot=None,\n",
      "              max_delta_step=None, max_depth=9, max_leaves=None,\n",
      "              min_child_weight=1, missing=nan, monotone_constraints=None,\n",
      "              multi_strategy=None, n_estimators=200, n_jobs=-1,\n",
      "              num_parallel_tree=None, ...), 'forecast_frequency': 'daily', 'company': 'apple', 'model_hyperparameters': {'n_estimators': 200, 'n_jobs': -1, 'max_depth': 9, 'eta': 0.3, 'booster': 'gbtree', 'objective': 'reg:squarederror', 'eval_metric': 'rmse', 'subsample': 1, 'colsample_bytree': 1, 'min_child_weight': 1, 'random_state': 2}, 'problem': 'classification'} \n",
      "\n",
      "(2368, 10) (2368, 1)\n",
      "xgboost\n"
     ]
    },
    {
     "name": "stderr",
     "output_type": "stream",
     "text": [
      "100%|██████████████████████████████████████████████████████████████████████████████████| 38/38 [00:14<00:00,  2.64it/s]\n"
     ]
    },
    {
     "name": "stdout",
     "output_type": "stream",
     "text": [
      "xgboost == {'unique_uuid': 'b1fe5a99-20bd-11ef-afb1-c0e434d84b22', 'train_start': datetime.datetime(2020, 1, 1, 0, 0), 'train_end': datetime.datetime(2023, 12, 29, 0, 0), 'test_start': datetime.datetime(2024, 1, 2, 0, 0), 'test_end': datetime.datetime(2024, 2, 8, 0, 0), 'target_column': 'growth', 'train_features': ['open', 'year', 'month', 'day', 'day_of_week', 'week_of_year', '1_USD_to_EUR_lag_1', '1_EUR_to_USD_lag_1', '1_UAH_to_USD_lag_1', '1_USD_to_UAH_lag_1', '1_EUR_to_UAH_lag_1', '1_UAH_to_EUR_lag_1'], 'path_to_result': '/diploma_info/datalake/', 'forecast_periods': 4, 'model_name': 'xgboost', 'model': XGBClassifier(base_score=None, booster='gbtree', callbacks=None,\n",
      "              colsample_bylevel=None, colsample_bynode=None, colsample_bytree=1,\n",
      "              device=None, early_stopping_rounds=None, enable_categorical=False,\n",
      "              eta=0.3, eval_metric='rmse', feature_types=None, gamma=None,\n",
      "              grow_policy=None, importance_type=None,\n",
      "              interaction_constraints=None, learning_rate=None, max_bin=None,\n",
      "              max_cat_threshold=None, max_cat_to_onehot=None,\n",
      "              max_delta_step=None, max_depth=9, max_leaves=None,\n",
      "              min_child_weight=1, missing=nan, monotone_constraints=None,\n",
      "              multi_strategy=None, n_estimators=200, n_jobs=-1,\n",
      "              num_parallel_tree=None, ...), 'forecast_frequency': 'daily', 'company': 'apple', 'model_hyperparameters': {'n_estimators': 200, 'n_jobs': -1, 'max_depth': 9, 'eta': 0.3, 'booster': 'gbtree', 'objective': 'reg:squarederror', 'eval_metric': 'rmse', 'subsample': 1, 'colsample_bytree': 1, 'min_child_weight': 1, 'random_state': 2}, 'problem': 'classification'} \n",
      "\n",
      "(2368, 12) (2368, 1)\n",
      "xgboost\n"
     ]
    },
    {
     "name": "stderr",
     "output_type": "stream",
     "text": [
      "100%|██████████████████████████████████████████████████████████████████████████████████| 38/38 [00:13<00:00,  2.79it/s]\n"
     ]
    },
    {
     "name": "stdout",
     "output_type": "stream",
     "text": [
      "lightgbm == {'unique_uuid': 'b1fe5a9a-20bd-11ef-9817-c0e434d84b22', 'train_start': datetime.datetime(2020, 1, 1, 0, 0), 'train_end': datetime.datetime(2023, 12, 29, 0, 0), 'test_start': datetime.datetime(2024, 1, 2, 0, 0), 'test_end': datetime.datetime(2024, 2, 8, 0, 0), 'target_column': 'growth', 'train_features': ['open', 'volume_lag_1', 'usa_inflation_%', '1_USD_to_EUR_lag_1', '1_EUR_to_USD_lag_1', '1_UAH_to_USD_lag_1', '1_USD_to_UAH_lag_1', '1_EUR_to_UAH_lag_1', '1_UAH_to_EUR_lag_1'], 'path_to_result': '/diploma_info/datalake/', 'forecast_periods': 4, 'model_name': 'lightgbm', 'model': LGBMClassifier(eta=0.3, max_depth=7, metric='binary', n_estimators=5000,\n",
      "               n_jobs=-1, objective='binary', random_state=2, verbosity=-1), 'forecast_frequency': 'daily', 'company': 'apple', 'model_hyperparameters': {'n_estimators': 5000, 'n_jobs': -1, 'max_depth': 7, 'eta': 0.3, 'random_state': 2, 'objective': 'binary', 'verbosity': -1, 'metric': 'binary'}, 'problem': 'classification'} \n",
      "\n",
      "(2368, 9) (2368, 1)\n",
      "lightgbm\n"
     ]
    },
    {
     "name": "stderr",
     "output_type": "stream",
     "text": [
      "100%|██████████████████████████████████████████████████████████████████████████████████| 38/38 [00:50<00:00,  1.34s/it]\n"
     ]
    },
    {
     "name": "stdout",
     "output_type": "stream",
     "text": [
      "lightgbm == {'unique_uuid': 'b1fe5a9b-20bd-11ef-bd88-c0e434d84b22', 'train_start': datetime.datetime(2020, 1, 1, 0, 0), 'train_end': datetime.datetime(2023, 12, 29, 0, 0), 'test_start': datetime.datetime(2024, 1, 2, 0, 0), 'test_end': datetime.datetime(2024, 2, 8, 0, 0), 'target_column': 'growth', 'train_features': ['open', 'close_max_3_days', 'close_min_3_days', 'close_mean_3_days', '1_USD_to_EUR_lag_1', '1_EUR_to_USD_lag_1', '1_UAH_to_USD_lag_1', '1_USD_to_UAH_lag_1', '1_EUR_to_UAH_lag_1', '1_UAH_to_EUR_lag_1'], 'path_to_result': '/diploma_info/datalake/', 'forecast_periods': 4, 'model_name': 'lightgbm', 'model': LGBMClassifier(eta=0.3, max_depth=7, metric='binary', n_estimators=5000,\n",
      "               n_jobs=-1, objective='binary', random_state=2, verbosity=-1), 'forecast_frequency': 'daily', 'company': 'apple', 'model_hyperparameters': {'n_estimators': 5000, 'n_jobs': -1, 'max_depth': 7, 'eta': 0.3, 'random_state': 2, 'objective': 'binary', 'verbosity': -1, 'metric': 'binary'}, 'problem': 'classification'} \n",
      "\n",
      "(2368, 10) (2368, 1)\n",
      "lightgbm\n"
     ]
    },
    {
     "name": "stderr",
     "output_type": "stream",
     "text": [
      "100%|██████████████████████████████████████████████████████████████████████████████████| 38/38 [00:50<00:00,  1.32s/it]\n"
     ]
    },
    {
     "name": "stdout",
     "output_type": "stream",
     "text": [
      "lightgbm == {'unique_uuid': 'b1fe5a9c-20bd-11ef-b3b4-c0e434d84b22', 'train_start': datetime.datetime(2020, 1, 1, 0, 0), 'train_end': datetime.datetime(2023, 12, 29, 0, 0), 'test_start': datetime.datetime(2024, 1, 2, 0, 0), 'test_end': datetime.datetime(2024, 2, 8, 0, 0), 'target_column': 'growth', 'train_features': ['open', 'year', 'month', 'day', 'day_of_week', 'week_of_year', '1_USD_to_EUR_lag_1', '1_EUR_to_USD_lag_1', '1_UAH_to_USD_lag_1', '1_USD_to_UAH_lag_1', '1_EUR_to_UAH_lag_1', '1_UAH_to_EUR_lag_1'], 'path_to_result': '/diploma_info/datalake/', 'forecast_periods': 4, 'model_name': 'lightgbm', 'model': LGBMClassifier(eta=0.3, max_depth=7, metric='binary', n_estimators=5000,\n",
      "               n_jobs=-1, objective='binary', random_state=2, verbosity=-1), 'forecast_frequency': 'daily', 'company': 'apple', 'model_hyperparameters': {'n_estimators': 5000, 'n_jobs': -1, 'max_depth': 7, 'eta': 0.3, 'random_state': 2, 'objective': 'binary', 'verbosity': -1, 'metric': 'binary'}, 'problem': 'classification'} \n",
      "\n",
      "(2368, 12) (2368, 1)\n",
      "lightgbm\n"
     ]
    },
    {
     "name": "stderr",
     "output_type": "stream",
     "text": [
      "100%|██████████████████████████████████████████████████████████████████████████████████| 38/38 [00:54<00:00,  1.43s/it]\n"
     ]
    },
    {
     "name": "stdout",
     "output_type": "stream",
     "text": [
      "lightgbm == {'unique_uuid': 'b1fe5a9d-20bd-11ef-abed-c0e434d84b22', 'train_start': datetime.datetime(2020, 1, 1, 0, 0), 'train_end': datetime.datetime(2023, 12, 29, 0, 0), 'test_start': datetime.datetime(2024, 1, 2, 0, 0), 'test_end': datetime.datetime(2024, 2, 8, 0, 0), 'target_column': 'growth', 'train_features': ['open', 'volume_lag_1', 'usa_inflation_%', '1_USD_to_EUR_lag_1', '1_EUR_to_USD_lag_1', '1_UAH_to_USD_lag_1', '1_USD_to_UAH_lag_1', '1_EUR_to_UAH_lag_1', '1_UAH_to_EUR_lag_1'], 'path_to_result': '/diploma_info/datalake/', 'forecast_periods': 4, 'model_name': 'lightgbm', 'model': LGBMClassifier(eta=0.3, max_depth=9, metric='binary', n_estimators=5000,\n",
      "               n_jobs=-1, objective='binary', random_state=2, verbosity=-1), 'forecast_frequency': 'daily', 'company': 'apple', 'model_hyperparameters': {'n_estimators': 5000, 'n_jobs': -1, 'max_depth': 9, 'eta': 0.3, 'random_state': 2, 'objective': 'binary', 'verbosity': -1, 'metric': 'binary'}, 'problem': 'classification'} \n",
      "\n",
      "(2368, 9) (2368, 1)\n",
      "lightgbm\n"
     ]
    },
    {
     "name": "stderr",
     "output_type": "stream",
     "text": [
      "100%|██████████████████████████████████████████████████████████████████████████████████| 38/38 [01:01<00:00,  1.63s/it]\n"
     ]
    },
    {
     "name": "stdout",
     "output_type": "stream",
     "text": [
      "lightgbm == {'unique_uuid': 'b1fe5a9e-20bd-11ef-a683-c0e434d84b22', 'train_start': datetime.datetime(2020, 1, 1, 0, 0), 'train_end': datetime.datetime(2023, 12, 29, 0, 0), 'test_start': datetime.datetime(2024, 1, 2, 0, 0), 'test_end': datetime.datetime(2024, 2, 8, 0, 0), 'target_column': 'growth', 'train_features': ['open', 'close_max_3_days', 'close_min_3_days', 'close_mean_3_days', '1_USD_to_EUR_lag_1', '1_EUR_to_USD_lag_1', '1_UAH_to_USD_lag_1', '1_USD_to_UAH_lag_1', '1_EUR_to_UAH_lag_1', '1_UAH_to_EUR_lag_1'], 'path_to_result': '/diploma_info/datalake/', 'forecast_periods': 4, 'model_name': 'lightgbm', 'model': LGBMClassifier(eta=0.3, max_depth=9, metric='binary', n_estimators=5000,\n",
      "               n_jobs=-1, objective='binary', random_state=2, verbosity=-1), 'forecast_frequency': 'daily', 'company': 'apple', 'model_hyperparameters': {'n_estimators': 5000, 'n_jobs': -1, 'max_depth': 9, 'eta': 0.3, 'random_state': 2, 'objective': 'binary', 'verbosity': -1, 'metric': 'binary'}, 'problem': 'classification'} \n",
      "\n",
      "(2368, 10) (2368, 1)\n",
      "lightgbm\n"
     ]
    },
    {
     "name": "stderr",
     "output_type": "stream",
     "text": [
      "100%|██████████████████████████████████████████████████████████████████████████████████| 38/38 [01:00<00:00,  1.59s/it]\n"
     ]
    },
    {
     "name": "stdout",
     "output_type": "stream",
     "text": [
      "lightgbm == {'unique_uuid': 'b1fe5a9f-20bd-11ef-a489-c0e434d84b22', 'train_start': datetime.datetime(2020, 1, 1, 0, 0), 'train_end': datetime.datetime(2023, 12, 29, 0, 0), 'test_start': datetime.datetime(2024, 1, 2, 0, 0), 'test_end': datetime.datetime(2024, 2, 8, 0, 0), 'target_column': 'growth', 'train_features': ['open', 'year', 'month', 'day', 'day_of_week', 'week_of_year', '1_USD_to_EUR_lag_1', '1_EUR_to_USD_lag_1', '1_UAH_to_USD_lag_1', '1_USD_to_UAH_lag_1', '1_EUR_to_UAH_lag_1', '1_UAH_to_EUR_lag_1'], 'path_to_result': '/diploma_info/datalake/', 'forecast_periods': 4, 'model_name': 'lightgbm', 'model': LGBMClassifier(eta=0.3, max_depth=9, metric='binary', n_estimators=5000,\n",
      "               n_jobs=-1, objective='binary', random_state=2, verbosity=-1), 'forecast_frequency': 'daily', 'company': 'apple', 'model_hyperparameters': {'n_estimators': 5000, 'n_jobs': -1, 'max_depth': 9, 'eta': 0.3, 'random_state': 2, 'objective': 'binary', 'verbosity': -1, 'metric': 'binary'}, 'problem': 'classification'} \n",
      "\n",
      "(2368, 12) (2368, 1)\n",
      "lightgbm\n"
     ]
    },
    {
     "name": "stderr",
     "output_type": "stream",
     "text": [
      "100%|██████████████████████████████████████████████████████████████████████████████████| 38/38 [01:05<00:00,  1.73s/it]\n"
     ]
    },
    {
     "name": "stdout",
     "output_type": "stream",
     "text": [
      "random_forest == {'unique_uuid': 'b1fe5aa0-20bd-11ef-bf48-c0e434d84b22', 'train_start': datetime.datetime(2020, 1, 1, 0, 0), 'train_end': datetime.datetime(2023, 12, 29, 0, 0), 'test_start': datetime.datetime(2024, 1, 2, 0, 0), 'test_end': datetime.datetime(2024, 2, 8, 0, 0), 'target_column': 'growth', 'train_features': ['open', 'volume_lag_1', 'usa_inflation_%', '1_USD_to_EUR_lag_1', '1_EUR_to_USD_lag_1', '1_UAH_to_USD_lag_1', '1_USD_to_UAH_lag_1', '1_EUR_to_UAH_lag_1', '1_UAH_to_EUR_lag_1'], 'path_to_result': '/diploma_info/datalake/', 'forecast_periods': 4, 'model_name': 'random_forest', 'model': RandomForestClassifier(max_depth=7, n_estimators=10, n_jobs=-1, random_state=2), 'forecast_frequency': 'daily', 'company': 'apple', 'model_hyperparameters': {'n_estimators': 10, 'n_jobs': -1, 'random_state': 2, 'max_depth': 7}, 'problem': 'classification'} \n",
      "\n",
      "(2368, 9) (2368, 1)\n",
      "random_forest\n"
     ]
    },
    {
     "name": "stderr",
     "output_type": "stream",
     "text": [
      "100%|██████████████████████████████████████████████████████████████████████████████████| 38/38 [00:02<00:00, 15.50it/s]\n"
     ]
    },
    {
     "name": "stdout",
     "output_type": "stream",
     "text": [
      "random_forest == {'unique_uuid': 'b1fe5aa1-20bd-11ef-8f57-c0e434d84b22', 'train_start': datetime.datetime(2020, 1, 1, 0, 0), 'train_end': datetime.datetime(2023, 12, 29, 0, 0), 'test_start': datetime.datetime(2024, 1, 2, 0, 0), 'test_end': datetime.datetime(2024, 2, 8, 0, 0), 'target_column': 'growth', 'train_features': ['open', 'close_max_3_days', 'close_min_3_days', 'close_mean_3_days', '1_USD_to_EUR_lag_1', '1_EUR_to_USD_lag_1', '1_UAH_to_USD_lag_1', '1_USD_to_UAH_lag_1', '1_EUR_to_UAH_lag_1', '1_UAH_to_EUR_lag_1'], 'path_to_result': '/diploma_info/datalake/', 'forecast_periods': 4, 'model_name': 'random_forest', 'model': RandomForestClassifier(max_depth=7, n_estimators=10, n_jobs=-1, random_state=2), 'forecast_frequency': 'daily', 'company': 'apple', 'model_hyperparameters': {'n_estimators': 10, 'n_jobs': -1, 'random_state': 2, 'max_depth': 7}, 'problem': 'classification'} \n",
      "\n",
      "(2368, 10) (2368, 1)\n",
      "random_forest\n"
     ]
    },
    {
     "name": "stderr",
     "output_type": "stream",
     "text": [
      "100%|██████████████████████████████████████████████████████████████████████████████████| 38/38 [00:02<00:00, 15.24it/s]\n"
     ]
    },
    {
     "name": "stdout",
     "output_type": "stream",
     "text": [
      "random_forest == {'unique_uuid': 'b1fe5aa2-20bd-11ef-a2a5-c0e434d84b22', 'train_start': datetime.datetime(2020, 1, 1, 0, 0), 'train_end': datetime.datetime(2023, 12, 29, 0, 0), 'test_start': datetime.datetime(2024, 1, 2, 0, 0), 'test_end': datetime.datetime(2024, 2, 8, 0, 0), 'target_column': 'growth', 'train_features': ['open', 'year', 'month', 'day', 'day_of_week', 'week_of_year', '1_USD_to_EUR_lag_1', '1_EUR_to_USD_lag_1', '1_UAH_to_USD_lag_1', '1_USD_to_UAH_lag_1', '1_EUR_to_UAH_lag_1', '1_UAH_to_EUR_lag_1'], 'path_to_result': '/diploma_info/datalake/', 'forecast_periods': 4, 'model_name': 'random_forest', 'model': RandomForestClassifier(max_depth=7, n_estimators=10, n_jobs=-1, random_state=2), 'forecast_frequency': 'daily', 'company': 'apple', 'model_hyperparameters': {'n_estimators': 10, 'n_jobs': -1, 'random_state': 2, 'max_depth': 7}, 'problem': 'classification'} \n",
      "\n",
      "(2368, 12) (2368, 1)\n",
      "random_forest\n"
     ]
    },
    {
     "name": "stderr",
     "output_type": "stream",
     "text": [
      "100%|██████████████████████████████████████████████████████████████████████████████████| 38/38 [00:02<00:00, 15.76it/s]\n"
     ]
    },
    {
     "name": "stdout",
     "output_type": "stream",
     "text": [
      "knear_neighbors == {'unique_uuid': 'b1fe5aa3-20bd-11ef-bbd5-c0e434d84b22', 'train_start': datetime.datetime(2020, 1, 1, 0, 0), 'train_end': datetime.datetime(2023, 12, 29, 0, 0), 'test_start': datetime.datetime(2024, 1, 2, 0, 0), 'test_end': datetime.datetime(2024, 2, 8, 0, 0), 'target_column': 'growth', 'train_features': ['open', 'volume_lag_1', 'usa_inflation_%', '1_USD_to_EUR_lag_1', '1_EUR_to_USD_lag_1', '1_UAH_to_USD_lag_1', '1_USD_to_UAH_lag_1', '1_EUR_to_UAH_lag_1', '1_UAH_to_EUR_lag_1'], 'path_to_result': '/diploma_info/datalake/', 'forecast_periods': 4, 'model_name': 'knear_neighbors', 'model': KNeighborsClassifier(n_jobs=-1, n_neighbors=3), 'forecast_frequency': 'daily', 'company': 'apple', 'model_hyperparameters': {'n_neighbors': 3, 'n_jobs': -1}, 'problem': 'classification'} \n",
      "\n",
      "(2368, 9) (2368, 1)\n",
      "knear_neighbors\n"
     ]
    },
    {
     "name": "stderr",
     "output_type": "stream",
     "text": [
      "100%|██████████████████████████████████████████████████████████████████████████████████| 38/38 [00:01<00:00, 29.00it/s]\n"
     ]
    },
    {
     "name": "stdout",
     "output_type": "stream",
     "text": [
      "knear_neighbors == {'unique_uuid': 'b1fe5aa4-20bd-11ef-bc84-c0e434d84b22', 'train_start': datetime.datetime(2020, 1, 1, 0, 0), 'train_end': datetime.datetime(2023, 12, 29, 0, 0), 'test_start': datetime.datetime(2024, 1, 2, 0, 0), 'test_end': datetime.datetime(2024, 2, 8, 0, 0), 'target_column': 'growth', 'train_features': ['open', 'close_max_3_days', 'close_min_3_days', 'close_mean_3_days', '1_USD_to_EUR_lag_1', '1_EUR_to_USD_lag_1', '1_UAH_to_USD_lag_1', '1_USD_to_UAH_lag_1', '1_EUR_to_UAH_lag_1', '1_UAH_to_EUR_lag_1'], 'path_to_result': '/diploma_info/datalake/', 'forecast_periods': 4, 'model_name': 'knear_neighbors', 'model': KNeighborsClassifier(n_jobs=-1, n_neighbors=3), 'forecast_frequency': 'daily', 'company': 'apple', 'model_hyperparameters': {'n_neighbors': 3, 'n_jobs': -1}, 'problem': 'classification'} \n",
      "\n",
      "(2368, 10) (2368, 1)\n",
      "knear_neighbors\n"
     ]
    },
    {
     "name": "stderr",
     "output_type": "stream",
     "text": [
      "100%|██████████████████████████████████████████████████████████████████████████████████| 38/38 [00:01<00:00, 27.92it/s]\n"
     ]
    },
    {
     "name": "stdout",
     "output_type": "stream",
     "text": [
      "knear_neighbors == {'unique_uuid': 'b1fe5aa5-20bd-11ef-8325-c0e434d84b22', 'train_start': datetime.datetime(2020, 1, 1, 0, 0), 'train_end': datetime.datetime(2023, 12, 29, 0, 0), 'test_start': datetime.datetime(2024, 1, 2, 0, 0), 'test_end': datetime.datetime(2024, 2, 8, 0, 0), 'target_column': 'growth', 'train_features': ['open', 'year', 'month', 'day', 'day_of_week', 'week_of_year', '1_USD_to_EUR_lag_1', '1_EUR_to_USD_lag_1', '1_UAH_to_USD_lag_1', '1_USD_to_UAH_lag_1', '1_EUR_to_UAH_lag_1', '1_UAH_to_EUR_lag_1'], 'path_to_result': '/diploma_info/datalake/', 'forecast_periods': 4, 'model_name': 'knear_neighbors', 'model': KNeighborsClassifier(n_jobs=-1, n_neighbors=3), 'forecast_frequency': 'daily', 'company': 'apple', 'model_hyperparameters': {'n_neighbors': 3, 'n_jobs': -1}, 'problem': 'classification'} \n",
      "\n",
      "(2368, 12) (2368, 1)\n",
      "knear_neighbors\n"
     ]
    },
    {
     "name": "stderr",
     "output_type": "stream",
     "text": [
      "100%|██████████████████████████████████████████████████████████████████████████████████| 38/38 [00:01<00:00, 28.91it/s]\n"
     ]
    },
    {
     "name": "stdout",
     "output_type": "stream",
     "text": [
      "knear_neighbors == {'unique_uuid': 'b1fe5aa6-20bd-11ef-9feb-c0e434d84b22', 'train_start': datetime.datetime(2020, 1, 1, 0, 0), 'train_end': datetime.datetime(2023, 12, 29, 0, 0), 'test_start': datetime.datetime(2024, 1, 2, 0, 0), 'test_end': datetime.datetime(2024, 2, 8, 0, 0), 'target_column': 'growth', 'train_features': ['open', 'volume_lag_1', 'usa_inflation_%', '1_USD_to_EUR_lag_1', '1_EUR_to_USD_lag_1', '1_UAH_to_USD_lag_1', '1_USD_to_UAH_lag_1', '1_EUR_to_UAH_lag_1', '1_UAH_to_EUR_lag_1'], 'path_to_result': '/diploma_info/datalake/', 'forecast_periods': 4, 'model_name': 'knear_neighbors', 'model': KNeighborsClassifier(n_jobs=-1, n_neighbors=50), 'forecast_frequency': 'daily', 'company': 'apple', 'model_hyperparameters': {'n_neighbors': 50, 'n_jobs': -1}, 'problem': 'classification'} \n",
      "\n",
      "(2368, 9) (2368, 1)\n",
      "knear_neighbors\n"
     ]
    },
    {
     "name": "stderr",
     "output_type": "stream",
     "text": [
      "100%|██████████████████████████████████████████████████████████████████████████████████| 38/38 [00:01<00:00, 29.03it/s]\n"
     ]
    },
    {
     "name": "stdout",
     "output_type": "stream",
     "text": [
      "knear_neighbors == {'unique_uuid': 'b1fe5aa7-20bd-11ef-b617-c0e434d84b22', 'train_start': datetime.datetime(2020, 1, 1, 0, 0), 'train_end': datetime.datetime(2023, 12, 29, 0, 0), 'test_start': datetime.datetime(2024, 1, 2, 0, 0), 'test_end': datetime.datetime(2024, 2, 8, 0, 0), 'target_column': 'growth', 'train_features': ['open', 'close_max_3_days', 'close_min_3_days', 'close_mean_3_days', '1_USD_to_EUR_lag_1', '1_EUR_to_USD_lag_1', '1_UAH_to_USD_lag_1', '1_USD_to_UAH_lag_1', '1_EUR_to_UAH_lag_1', '1_UAH_to_EUR_lag_1'], 'path_to_result': '/diploma_info/datalake/', 'forecast_periods': 4, 'model_name': 'knear_neighbors', 'model': KNeighborsClassifier(n_jobs=-1, n_neighbors=50), 'forecast_frequency': 'daily', 'company': 'apple', 'model_hyperparameters': {'n_neighbors': 50, 'n_jobs': -1}, 'problem': 'classification'} \n",
      "\n",
      "(2368, 10) (2368, 1)\n",
      "knear_neighbors\n"
     ]
    },
    {
     "name": "stderr",
     "output_type": "stream",
     "text": [
      "100%|██████████████████████████████████████████████████████████████████████████████████| 38/38 [00:01<00:00, 26.94it/s]\n"
     ]
    },
    {
     "name": "stdout",
     "output_type": "stream",
     "text": [
      "knear_neighbors == {'unique_uuid': 'b1fe5aa8-20bd-11ef-8b96-c0e434d84b22', 'train_start': datetime.datetime(2020, 1, 1, 0, 0), 'train_end': datetime.datetime(2023, 12, 29, 0, 0), 'test_start': datetime.datetime(2024, 1, 2, 0, 0), 'test_end': datetime.datetime(2024, 2, 8, 0, 0), 'target_column': 'growth', 'train_features': ['open', 'year', 'month', 'day', 'day_of_week', 'week_of_year', '1_USD_to_EUR_lag_1', '1_EUR_to_USD_lag_1', '1_UAH_to_USD_lag_1', '1_USD_to_UAH_lag_1', '1_EUR_to_UAH_lag_1', '1_UAH_to_EUR_lag_1'], 'path_to_result': '/diploma_info/datalake/', 'forecast_periods': 4, 'model_name': 'knear_neighbors', 'model': KNeighborsClassifier(n_jobs=-1, n_neighbors=50), 'forecast_frequency': 'daily', 'company': 'apple', 'model_hyperparameters': {'n_neighbors': 50, 'n_jobs': -1}, 'problem': 'classification'} \n",
      "\n",
      "(2368, 12) (2368, 1)\n",
      "knear_neighbors\n"
     ]
    },
    {
     "name": "stderr",
     "output_type": "stream",
     "text": [
      "100%|██████████████████████████████████████████████████████████████████████████████████| 38/38 [00:01<00:00, 29.80it/s]\n"
     ]
    },
    {
     "name": "stdout",
     "output_type": "stream",
     "text": [
      "xgboost == {'unique_uuid': 'b1fe5aa9-20bd-11ef-8ac3-c0e434d84b22', 'train_start': datetime.datetime(2023, 1, 1, 0, 0), 'train_end': datetime.datetime(2023, 12, 29, 0, 0), 'test_start': datetime.datetime(2024, 1, 2, 0, 0), 'test_end': datetime.datetime(2024, 2, 8, 0, 0), 'target_column': 'growth', 'train_features': ['open', 'volume_lag_1', 'usa_inflation_%', '1_USD_to_EUR_lag_1', '1_EUR_to_USD_lag_1', '1_UAH_to_USD_lag_1', '1_USD_to_UAH_lag_1', '1_EUR_to_UAH_lag_1', '1_UAH_to_EUR_lag_1'], 'path_to_result': '/diploma_info/datalake/', 'forecast_periods': 4, 'model_name': 'xgboost', 'model': XGBClassifier(base_score=None, booster='gbtree', callbacks=None,\n",
      "              colsample_bylevel=None, colsample_bynode=None, colsample_bytree=1,\n",
      "              device=None, early_stopping_rounds=None, enable_categorical=False,\n",
      "              eta=0.3, eval_metric='rmse', feature_types=None, gamma=None,\n",
      "              grow_policy=None, importance_type=None,\n",
      "              interaction_constraints=None, learning_rate=None, max_bin=None,\n",
      "              max_cat_threshold=None, max_cat_to_onehot=None,\n",
      "              max_delta_step=None, max_depth=7, max_leaves=None,\n",
      "              min_child_weight=1, missing=nan, monotone_constraints=None,\n",
      "              multi_strategy=None, n_estimators=10, n_jobs=-1,\n",
      "              num_parallel_tree=None, ...), 'forecast_frequency': 'daily', 'company': 'apple', 'model_hyperparameters': {'n_estimators': 10, 'n_jobs': -1, 'max_depth': 7, 'eta': 0.3, 'booster': 'gbtree', 'objective': 'reg:squarederror', 'eval_metric': 'rmse', 'subsample': 1, 'colsample_bytree': 1, 'min_child_weight': 1, 'random_state': 2}, 'problem': 'classification'} \n",
      "\n",
      "(2368, 9) (2368, 1)\n",
      "xgboost\n"
     ]
    },
    {
     "name": "stderr",
     "output_type": "stream",
     "text": [
      "100%|██████████████████████████████████████████████████████████████████████████████████| 38/38 [00:01<00:00, 30.74it/s]\n"
     ]
    },
    {
     "name": "stdout",
     "output_type": "stream",
     "text": [
      "xgboost == {'unique_uuid': 'b1fe5aaa-20bd-11ef-a575-c0e434d84b22', 'train_start': datetime.datetime(2023, 1, 1, 0, 0), 'train_end': datetime.datetime(2023, 12, 29, 0, 0), 'test_start': datetime.datetime(2024, 1, 2, 0, 0), 'test_end': datetime.datetime(2024, 2, 8, 0, 0), 'target_column': 'growth', 'train_features': ['open', 'close_max_3_days', 'close_min_3_days', 'close_mean_3_days', '1_USD_to_EUR_lag_1', '1_EUR_to_USD_lag_1', '1_UAH_to_USD_lag_1', '1_USD_to_UAH_lag_1', '1_EUR_to_UAH_lag_1', '1_UAH_to_EUR_lag_1'], 'path_to_result': '/diploma_info/datalake/', 'forecast_periods': 4, 'model_name': 'xgboost', 'model': XGBClassifier(base_score=None, booster='gbtree', callbacks=None,\n",
      "              colsample_bylevel=None, colsample_bynode=None, colsample_bytree=1,\n",
      "              device=None, early_stopping_rounds=None, enable_categorical=False,\n",
      "              eta=0.3, eval_metric='rmse', feature_types=None, gamma=None,\n",
      "              grow_policy=None, importance_type=None,\n",
      "              interaction_constraints=None, learning_rate=None, max_bin=None,\n",
      "              max_cat_threshold=None, max_cat_to_onehot=None,\n",
      "              max_delta_step=None, max_depth=7, max_leaves=None,\n",
      "              min_child_weight=1, missing=nan, monotone_constraints=None,\n",
      "              multi_strategy=None, n_estimators=10, n_jobs=-1,\n",
      "              num_parallel_tree=None, ...), 'forecast_frequency': 'daily', 'company': 'apple', 'model_hyperparameters': {'n_estimators': 10, 'n_jobs': -1, 'max_depth': 7, 'eta': 0.3, 'booster': 'gbtree', 'objective': 'reg:squarederror', 'eval_metric': 'rmse', 'subsample': 1, 'colsample_bytree': 1, 'min_child_weight': 1, 'random_state': 2}, 'problem': 'classification'} \n",
      "\n",
      "(2368, 10) (2368, 1)\n",
      "xgboost\n"
     ]
    },
    {
     "name": "stderr",
     "output_type": "stream",
     "text": [
      "100%|██████████████████████████████████████████████████████████████████████████████████| 38/38 [00:01<00:00, 28.04it/s]\n"
     ]
    },
    {
     "name": "stdout",
     "output_type": "stream",
     "text": [
      "xgboost == {'unique_uuid': 'b1fe5aab-20bd-11ef-8ae3-c0e434d84b22', 'train_start': datetime.datetime(2023, 1, 1, 0, 0), 'train_end': datetime.datetime(2023, 12, 29, 0, 0), 'test_start': datetime.datetime(2024, 1, 2, 0, 0), 'test_end': datetime.datetime(2024, 2, 8, 0, 0), 'target_column': 'growth', 'train_features': ['open', 'year', 'month', 'day', 'day_of_week', 'week_of_year', '1_USD_to_EUR_lag_1', '1_EUR_to_USD_lag_1', '1_UAH_to_USD_lag_1', '1_USD_to_UAH_lag_1', '1_EUR_to_UAH_lag_1', '1_UAH_to_EUR_lag_1'], 'path_to_result': '/diploma_info/datalake/', 'forecast_periods': 4, 'model_name': 'xgboost', 'model': XGBClassifier(base_score=None, booster='gbtree', callbacks=None,\n",
      "              colsample_bylevel=None, colsample_bynode=None, colsample_bytree=1,\n",
      "              device=None, early_stopping_rounds=None, enable_categorical=False,\n",
      "              eta=0.3, eval_metric='rmse', feature_types=None, gamma=None,\n",
      "              grow_policy=None, importance_type=None,\n",
      "              interaction_constraints=None, learning_rate=None, max_bin=None,\n",
      "              max_cat_threshold=None, max_cat_to_onehot=None,\n",
      "              max_delta_step=None, max_depth=7, max_leaves=None,\n",
      "              min_child_weight=1, missing=nan, monotone_constraints=None,\n",
      "              multi_strategy=None, n_estimators=10, n_jobs=-1,\n",
      "              num_parallel_tree=None, ...), 'forecast_frequency': 'daily', 'company': 'apple', 'model_hyperparameters': {'n_estimators': 10, 'n_jobs': -1, 'max_depth': 7, 'eta': 0.3, 'booster': 'gbtree', 'objective': 'reg:squarederror', 'eval_metric': 'rmse', 'subsample': 1, 'colsample_bytree': 1, 'min_child_weight': 1, 'random_state': 2}, 'problem': 'classification'} \n",
      "\n",
      "(2368, 12) (2368, 1)\n",
      "xgboost\n"
     ]
    },
    {
     "name": "stderr",
     "output_type": "stream",
     "text": [
      "100%|██████████████████████████████████████████████████████████████████████████████████| 38/38 [00:01<00:00, 28.01it/s]\n"
     ]
    },
    {
     "name": "stdout",
     "output_type": "stream",
     "text": [
      "xgboost == {'unique_uuid': 'b1fe5aac-20bd-11ef-9eaa-c0e434d84b22', 'train_start': datetime.datetime(2023, 1, 1, 0, 0), 'train_end': datetime.datetime(2023, 12, 29, 0, 0), 'test_start': datetime.datetime(2024, 1, 2, 0, 0), 'test_end': datetime.datetime(2024, 2, 8, 0, 0), 'target_column': 'growth', 'train_features': ['open', 'volume_lag_1', 'usa_inflation_%', '1_USD_to_EUR_lag_1', '1_EUR_to_USD_lag_1', '1_UAH_to_USD_lag_1', '1_USD_to_UAH_lag_1', '1_EUR_to_UAH_lag_1', '1_UAH_to_EUR_lag_1'], 'path_to_result': '/diploma_info/datalake/', 'forecast_periods': 4, 'model_name': 'xgboost', 'model': XGBClassifier(base_score=None, booster='gbtree', callbacks=None,\n",
      "              colsample_bylevel=None, colsample_bynode=None, colsample_bytree=1,\n",
      "              device=None, early_stopping_rounds=None, enable_categorical=False,\n",
      "              eta=0.3, eval_metric='rmse', feature_types=None, gamma=None,\n",
      "              grow_policy=None, importance_type=None,\n",
      "              interaction_constraints=None, learning_rate=None, max_bin=None,\n",
      "              max_cat_threshold=None, max_cat_to_onehot=None,\n",
      "              max_delta_step=None, max_depth=7, max_leaves=None,\n",
      "              min_child_weight=1, missing=nan, monotone_constraints=None,\n",
      "              multi_strategy=None, n_estimators=200, n_jobs=-1,\n",
      "              num_parallel_tree=None, ...), 'forecast_frequency': 'daily', 'company': 'apple', 'model_hyperparameters': {'n_estimators': 200, 'n_jobs': -1, 'max_depth': 7, 'eta': 0.3, 'booster': 'gbtree', 'objective': 'reg:squarederror', 'eval_metric': 'rmse', 'subsample': 1, 'colsample_bytree': 1, 'min_child_weight': 1, 'random_state': 2}, 'problem': 'classification'} \n",
      "\n",
      "(2368, 9) (2368, 1)\n",
      "xgboost\n"
     ]
    },
    {
     "name": "stderr",
     "output_type": "stream",
     "text": [
      "100%|██████████████████████████████████████████████████████████████████████████████████| 38/38 [00:04<00:00,  7.92it/s]\n"
     ]
    },
    {
     "name": "stdout",
     "output_type": "stream",
     "text": [
      "xgboost == {'unique_uuid': 'b1fe5aad-20bd-11ef-b891-c0e434d84b22', 'train_start': datetime.datetime(2023, 1, 1, 0, 0), 'train_end': datetime.datetime(2023, 12, 29, 0, 0), 'test_start': datetime.datetime(2024, 1, 2, 0, 0), 'test_end': datetime.datetime(2024, 2, 8, 0, 0), 'target_column': 'growth', 'train_features': ['open', 'close_max_3_days', 'close_min_3_days', 'close_mean_3_days', '1_USD_to_EUR_lag_1', '1_EUR_to_USD_lag_1', '1_UAH_to_USD_lag_1', '1_USD_to_UAH_lag_1', '1_EUR_to_UAH_lag_1', '1_UAH_to_EUR_lag_1'], 'path_to_result': '/diploma_info/datalake/', 'forecast_periods': 4, 'model_name': 'xgboost', 'model': XGBClassifier(base_score=None, booster='gbtree', callbacks=None,\n",
      "              colsample_bylevel=None, colsample_bynode=None, colsample_bytree=1,\n",
      "              device=None, early_stopping_rounds=None, enable_categorical=False,\n",
      "              eta=0.3, eval_metric='rmse', feature_types=None, gamma=None,\n",
      "              grow_policy=None, importance_type=None,\n",
      "              interaction_constraints=None, learning_rate=None, max_bin=None,\n",
      "              max_cat_threshold=None, max_cat_to_onehot=None,\n",
      "              max_delta_step=None, max_depth=7, max_leaves=None,\n",
      "              min_child_weight=1, missing=nan, monotone_constraints=None,\n",
      "              multi_strategy=None, n_estimators=200, n_jobs=-1,\n",
      "              num_parallel_tree=None, ...), 'forecast_frequency': 'daily', 'company': 'apple', 'model_hyperparameters': {'n_estimators': 200, 'n_jobs': -1, 'max_depth': 7, 'eta': 0.3, 'booster': 'gbtree', 'objective': 'reg:squarederror', 'eval_metric': 'rmse', 'subsample': 1, 'colsample_bytree': 1, 'min_child_weight': 1, 'random_state': 2}, 'problem': 'classification'} \n",
      "\n",
      "(2368, 10) (2368, 1)\n",
      "xgboost\n"
     ]
    },
    {
     "name": "stderr",
     "output_type": "stream",
     "text": [
      "100%|██████████████████████████████████████████████████████████████████████████████████| 38/38 [00:04<00:00,  7.61it/s]\n"
     ]
    },
    {
     "name": "stdout",
     "output_type": "stream",
     "text": [
      "xgboost == {'unique_uuid': 'b1fe5aae-20bd-11ef-aba3-c0e434d84b22', 'train_start': datetime.datetime(2023, 1, 1, 0, 0), 'train_end': datetime.datetime(2023, 12, 29, 0, 0), 'test_start': datetime.datetime(2024, 1, 2, 0, 0), 'test_end': datetime.datetime(2024, 2, 8, 0, 0), 'target_column': 'growth', 'train_features': ['open', 'year', 'month', 'day', 'day_of_week', 'week_of_year', '1_USD_to_EUR_lag_1', '1_EUR_to_USD_lag_1', '1_UAH_to_USD_lag_1', '1_USD_to_UAH_lag_1', '1_EUR_to_UAH_lag_1', '1_UAH_to_EUR_lag_1'], 'path_to_result': '/diploma_info/datalake/', 'forecast_periods': 4, 'model_name': 'xgboost', 'model': XGBClassifier(base_score=None, booster='gbtree', callbacks=None,\n",
      "              colsample_bylevel=None, colsample_bynode=None, colsample_bytree=1,\n",
      "              device=None, early_stopping_rounds=None, enable_categorical=False,\n",
      "              eta=0.3, eval_metric='rmse', feature_types=None, gamma=None,\n",
      "              grow_policy=None, importance_type=None,\n",
      "              interaction_constraints=None, learning_rate=None, max_bin=None,\n",
      "              max_cat_threshold=None, max_cat_to_onehot=None,\n",
      "              max_delta_step=None, max_depth=7, max_leaves=None,\n",
      "              min_child_weight=1, missing=nan, monotone_constraints=None,\n",
      "              multi_strategy=None, n_estimators=200, n_jobs=-1,\n",
      "              num_parallel_tree=None, ...), 'forecast_frequency': 'daily', 'company': 'apple', 'model_hyperparameters': {'n_estimators': 200, 'n_jobs': -1, 'max_depth': 7, 'eta': 0.3, 'booster': 'gbtree', 'objective': 'reg:squarederror', 'eval_metric': 'rmse', 'subsample': 1, 'colsample_bytree': 1, 'min_child_weight': 1, 'random_state': 2}, 'problem': 'classification'} \n",
      "\n",
      "(2368, 12) (2368, 1)\n",
      "xgboost\n"
     ]
    },
    {
     "name": "stderr",
     "output_type": "stream",
     "text": [
      "100%|██████████████████████████████████████████████████████████████████████████████████| 38/38 [00:04<00:00,  7.87it/s]\n"
     ]
    },
    {
     "name": "stdout",
     "output_type": "stream",
     "text": [
      "xgboost == {'unique_uuid': 'b1fe5aaf-20bd-11ef-8a8c-c0e434d84b22', 'train_start': datetime.datetime(2023, 1, 1, 0, 0), 'train_end': datetime.datetime(2023, 12, 29, 0, 0), 'test_start': datetime.datetime(2024, 1, 2, 0, 0), 'test_end': datetime.datetime(2024, 2, 8, 0, 0), 'target_column': 'growth', 'train_features': ['open', 'volume_lag_1', 'usa_inflation_%', '1_USD_to_EUR_lag_1', '1_EUR_to_USD_lag_1', '1_UAH_to_USD_lag_1', '1_USD_to_UAH_lag_1', '1_EUR_to_UAH_lag_1', '1_UAH_to_EUR_lag_1'], 'path_to_result': '/diploma_info/datalake/', 'forecast_periods': 4, 'model_name': 'xgboost', 'model': XGBClassifier(base_score=None, booster='gbtree', callbacks=None,\n",
      "              colsample_bylevel=None, colsample_bynode=None, colsample_bytree=1,\n",
      "              device=None, early_stopping_rounds=None, enable_categorical=False,\n",
      "              eta=0.3, eval_metric='rmse', feature_types=None, gamma=None,\n",
      "              grow_policy=None, importance_type=None,\n",
      "              interaction_constraints=None, learning_rate=None, max_bin=None,\n",
      "              max_cat_threshold=None, max_cat_to_onehot=None,\n",
      "              max_delta_step=None, max_depth=9, max_leaves=None,\n",
      "              min_child_weight=1, missing=nan, monotone_constraints=None,\n",
      "              multi_strategy=None, n_estimators=10, n_jobs=-1,\n",
      "              num_parallel_tree=None, ...), 'forecast_frequency': 'daily', 'company': 'apple', 'model_hyperparameters': {'n_estimators': 10, 'n_jobs': -1, 'max_depth': 9, 'eta': 0.3, 'booster': 'gbtree', 'objective': 'reg:squarederror', 'eval_metric': 'rmse', 'subsample': 1, 'colsample_bytree': 1, 'min_child_weight': 1, 'random_state': 2}, 'problem': 'classification'} \n",
      "\n",
      "(2368, 9) (2368, 1)\n",
      "xgboost\n"
     ]
    },
    {
     "name": "stderr",
     "output_type": "stream",
     "text": [
      "100%|██████████████████████████████████████████████████████████████████████████████████| 38/38 [00:01<00:00, 21.43it/s]\n"
     ]
    },
    {
     "name": "stdout",
     "output_type": "stream",
     "text": [
      "xgboost == {'unique_uuid': 'b1fe5ab0-20bd-11ef-b6c2-c0e434d84b22', 'train_start': datetime.datetime(2023, 1, 1, 0, 0), 'train_end': datetime.datetime(2023, 12, 29, 0, 0), 'test_start': datetime.datetime(2024, 1, 2, 0, 0), 'test_end': datetime.datetime(2024, 2, 8, 0, 0), 'target_column': 'growth', 'train_features': ['open', 'close_max_3_days', 'close_min_3_days', 'close_mean_3_days', '1_USD_to_EUR_lag_1', '1_EUR_to_USD_lag_1', '1_UAH_to_USD_lag_1', '1_USD_to_UAH_lag_1', '1_EUR_to_UAH_lag_1', '1_UAH_to_EUR_lag_1'], 'path_to_result': '/diploma_info/datalake/', 'forecast_periods': 4, 'model_name': 'xgboost', 'model': XGBClassifier(base_score=None, booster='gbtree', callbacks=None,\n",
      "              colsample_bylevel=None, colsample_bynode=None, colsample_bytree=1,\n",
      "              device=None, early_stopping_rounds=None, enable_categorical=False,\n",
      "              eta=0.3, eval_metric='rmse', feature_types=None, gamma=None,\n",
      "              grow_policy=None, importance_type=None,\n",
      "              interaction_constraints=None, learning_rate=None, max_bin=None,\n",
      "              max_cat_threshold=None, max_cat_to_onehot=None,\n",
      "              max_delta_step=None, max_depth=9, max_leaves=None,\n",
      "              min_child_weight=1, missing=nan, monotone_constraints=None,\n",
      "              multi_strategy=None, n_estimators=10, n_jobs=-1,\n",
      "              num_parallel_tree=None, ...), 'forecast_frequency': 'daily', 'company': 'apple', 'model_hyperparameters': {'n_estimators': 10, 'n_jobs': -1, 'max_depth': 9, 'eta': 0.3, 'booster': 'gbtree', 'objective': 'reg:squarederror', 'eval_metric': 'rmse', 'subsample': 1, 'colsample_bytree': 1, 'min_child_weight': 1, 'random_state': 2}, 'problem': 'classification'} \n",
      "\n",
      "(2368, 10) (2368, 1)\n",
      "xgboost\n"
     ]
    },
    {
     "name": "stderr",
     "output_type": "stream",
     "text": [
      "100%|██████████████████████████████████████████████████████████████████████████████████| 38/38 [00:01<00:00, 23.05it/s]\n"
     ]
    },
    {
     "name": "stdout",
     "output_type": "stream",
     "text": [
      "xgboost == {'unique_uuid': 'b1fe5ab1-20bd-11ef-8066-c0e434d84b22', 'train_start': datetime.datetime(2023, 1, 1, 0, 0), 'train_end': datetime.datetime(2023, 12, 29, 0, 0), 'test_start': datetime.datetime(2024, 1, 2, 0, 0), 'test_end': datetime.datetime(2024, 2, 8, 0, 0), 'target_column': 'growth', 'train_features': ['open', 'year', 'month', 'day', 'day_of_week', 'week_of_year', '1_USD_to_EUR_lag_1', '1_EUR_to_USD_lag_1', '1_UAH_to_USD_lag_1', '1_USD_to_UAH_lag_1', '1_EUR_to_UAH_lag_1', '1_UAH_to_EUR_lag_1'], 'path_to_result': '/diploma_info/datalake/', 'forecast_periods': 4, 'model_name': 'xgboost', 'model': XGBClassifier(base_score=None, booster='gbtree', callbacks=None,\n",
      "              colsample_bylevel=None, colsample_bynode=None, colsample_bytree=1,\n",
      "              device=None, early_stopping_rounds=None, enable_categorical=False,\n",
      "              eta=0.3, eval_metric='rmse', feature_types=None, gamma=None,\n",
      "              grow_policy=None, importance_type=None,\n",
      "              interaction_constraints=None, learning_rate=None, max_bin=None,\n",
      "              max_cat_threshold=None, max_cat_to_onehot=None,\n",
      "              max_delta_step=None, max_depth=9, max_leaves=None,\n",
      "              min_child_weight=1, missing=nan, monotone_constraints=None,\n",
      "              multi_strategy=None, n_estimators=10, n_jobs=-1,\n",
      "              num_parallel_tree=None, ...), 'forecast_frequency': 'daily', 'company': 'apple', 'model_hyperparameters': {'n_estimators': 10, 'n_jobs': -1, 'max_depth': 9, 'eta': 0.3, 'booster': 'gbtree', 'objective': 'reg:squarederror', 'eval_metric': 'rmse', 'subsample': 1, 'colsample_bytree': 1, 'min_child_weight': 1, 'random_state': 2}, 'problem': 'classification'} \n",
      "\n",
      "(2368, 12) (2368, 1)\n",
      "xgboost\n"
     ]
    },
    {
     "name": "stderr",
     "output_type": "stream",
     "text": [
      "100%|██████████████████████████████████████████████████████████████████████████████████| 38/38 [00:01<00:00, 26.04it/s]\n"
     ]
    },
    {
     "name": "stdout",
     "output_type": "stream",
     "text": [
      "xgboost == {'unique_uuid': 'b1fe5ab2-20bd-11ef-9c5c-c0e434d84b22', 'train_start': datetime.datetime(2023, 1, 1, 0, 0), 'train_end': datetime.datetime(2023, 12, 29, 0, 0), 'test_start': datetime.datetime(2024, 1, 2, 0, 0), 'test_end': datetime.datetime(2024, 2, 8, 0, 0), 'target_column': 'growth', 'train_features': ['open', 'volume_lag_1', 'usa_inflation_%', '1_USD_to_EUR_lag_1', '1_EUR_to_USD_lag_1', '1_UAH_to_USD_lag_1', '1_USD_to_UAH_lag_1', '1_EUR_to_UAH_lag_1', '1_UAH_to_EUR_lag_1'], 'path_to_result': '/diploma_info/datalake/', 'forecast_periods': 4, 'model_name': 'xgboost', 'model': XGBClassifier(base_score=None, booster='gbtree', callbacks=None,\n",
      "              colsample_bylevel=None, colsample_bynode=None, colsample_bytree=1,\n",
      "              device=None, early_stopping_rounds=None, enable_categorical=False,\n",
      "              eta=0.3, eval_metric='rmse', feature_types=None, gamma=None,\n",
      "              grow_policy=None, importance_type=None,\n",
      "              interaction_constraints=None, learning_rate=None, max_bin=None,\n",
      "              max_cat_threshold=None, max_cat_to_onehot=None,\n",
      "              max_delta_step=None, max_depth=9, max_leaves=None,\n",
      "              min_child_weight=1, missing=nan, monotone_constraints=None,\n",
      "              multi_strategy=None, n_estimators=200, n_jobs=-1,\n",
      "              num_parallel_tree=None, ...), 'forecast_frequency': 'daily', 'company': 'apple', 'model_hyperparameters': {'n_estimators': 200, 'n_jobs': -1, 'max_depth': 9, 'eta': 0.3, 'booster': 'gbtree', 'objective': 'reg:squarederror', 'eval_metric': 'rmse', 'subsample': 1, 'colsample_bytree': 1, 'min_child_weight': 1, 'random_state': 2}, 'problem': 'classification'} \n",
      "\n",
      "(2368, 9) (2368, 1)\n",
      "xgboost\n"
     ]
    },
    {
     "name": "stderr",
     "output_type": "stream",
     "text": [
      "100%|██████████████████████████████████████████████████████████████████████████████████| 38/38 [00:05<00:00,  7.32it/s]\n"
     ]
    },
    {
     "name": "stdout",
     "output_type": "stream",
     "text": [
      "xgboost == {'unique_uuid': 'b1fe5ab3-20bd-11ef-a3b7-c0e434d84b22', 'train_start': datetime.datetime(2023, 1, 1, 0, 0), 'train_end': datetime.datetime(2023, 12, 29, 0, 0), 'test_start': datetime.datetime(2024, 1, 2, 0, 0), 'test_end': datetime.datetime(2024, 2, 8, 0, 0), 'target_column': 'growth', 'train_features': ['open', 'close_max_3_days', 'close_min_3_days', 'close_mean_3_days', '1_USD_to_EUR_lag_1', '1_EUR_to_USD_lag_1', '1_UAH_to_USD_lag_1', '1_USD_to_UAH_lag_1', '1_EUR_to_UAH_lag_1', '1_UAH_to_EUR_lag_1'], 'path_to_result': '/diploma_info/datalake/', 'forecast_periods': 4, 'model_name': 'xgboost', 'model': XGBClassifier(base_score=None, booster='gbtree', callbacks=None,\n",
      "              colsample_bylevel=None, colsample_bynode=None, colsample_bytree=1,\n",
      "              device=None, early_stopping_rounds=None, enable_categorical=False,\n",
      "              eta=0.3, eval_metric='rmse', feature_types=None, gamma=None,\n",
      "              grow_policy=None, importance_type=None,\n",
      "              interaction_constraints=None, learning_rate=None, max_bin=None,\n",
      "              max_cat_threshold=None, max_cat_to_onehot=None,\n",
      "              max_delta_step=None, max_depth=9, max_leaves=None,\n",
      "              min_child_weight=1, missing=nan, monotone_constraints=None,\n",
      "              multi_strategy=None, n_estimators=200, n_jobs=-1,\n",
      "              num_parallel_tree=None, ...), 'forecast_frequency': 'daily', 'company': 'apple', 'model_hyperparameters': {'n_estimators': 200, 'n_jobs': -1, 'max_depth': 9, 'eta': 0.3, 'booster': 'gbtree', 'objective': 'reg:squarederror', 'eval_metric': 'rmse', 'subsample': 1, 'colsample_bytree': 1, 'min_child_weight': 1, 'random_state': 2}, 'problem': 'classification'} \n",
      "\n",
      "(2368, 10) (2368, 1)\n",
      "xgboost\n"
     ]
    },
    {
     "name": "stderr",
     "output_type": "stream",
     "text": [
      "100%|██████████████████████████████████████████████████████████████████████████████████| 38/38 [00:05<00:00,  7.23it/s]\n"
     ]
    },
    {
     "name": "stdout",
     "output_type": "stream",
     "text": [
      "xgboost == {'unique_uuid': 'b1fe5ab4-20bd-11ef-8639-c0e434d84b22', 'train_start': datetime.datetime(2023, 1, 1, 0, 0), 'train_end': datetime.datetime(2023, 12, 29, 0, 0), 'test_start': datetime.datetime(2024, 1, 2, 0, 0), 'test_end': datetime.datetime(2024, 2, 8, 0, 0), 'target_column': 'growth', 'train_features': ['open', 'year', 'month', 'day', 'day_of_week', 'week_of_year', '1_USD_to_EUR_lag_1', '1_EUR_to_USD_lag_1', '1_UAH_to_USD_lag_1', '1_USD_to_UAH_lag_1', '1_EUR_to_UAH_lag_1', '1_UAH_to_EUR_lag_1'], 'path_to_result': '/diploma_info/datalake/', 'forecast_periods': 4, 'model_name': 'xgboost', 'model': XGBClassifier(base_score=None, booster='gbtree', callbacks=None,\n",
      "              colsample_bylevel=None, colsample_bynode=None, colsample_bytree=1,\n",
      "              device=None, early_stopping_rounds=None, enable_categorical=False,\n",
      "              eta=0.3, eval_metric='rmse', feature_types=None, gamma=None,\n",
      "              grow_policy=None, importance_type=None,\n",
      "              interaction_constraints=None, learning_rate=None, max_bin=None,\n",
      "              max_cat_threshold=None, max_cat_to_onehot=None,\n",
      "              max_delta_step=None, max_depth=9, max_leaves=None,\n",
      "              min_child_weight=1, missing=nan, monotone_constraints=None,\n",
      "              multi_strategy=None, n_estimators=200, n_jobs=-1,\n",
      "              num_parallel_tree=None, ...), 'forecast_frequency': 'daily', 'company': 'apple', 'model_hyperparameters': {'n_estimators': 200, 'n_jobs': -1, 'max_depth': 9, 'eta': 0.3, 'booster': 'gbtree', 'objective': 'reg:squarederror', 'eval_metric': 'rmse', 'subsample': 1, 'colsample_bytree': 1, 'min_child_weight': 1, 'random_state': 2}, 'problem': 'classification'} \n",
      "\n",
      "(2368, 12) (2368, 1)\n",
      "xgboost\n"
     ]
    },
    {
     "name": "stderr",
     "output_type": "stream",
     "text": [
      "100%|██████████████████████████████████████████████████████████████████████████████████| 38/38 [00:04<00:00,  7.84it/s]\n"
     ]
    },
    {
     "name": "stdout",
     "output_type": "stream",
     "text": [
      "lightgbm == {'unique_uuid': 'b1fe5ab5-20bd-11ef-929c-c0e434d84b22', 'train_start': datetime.datetime(2023, 1, 1, 0, 0), 'train_end': datetime.datetime(2023, 12, 29, 0, 0), 'test_start': datetime.datetime(2024, 1, 2, 0, 0), 'test_end': datetime.datetime(2024, 2, 8, 0, 0), 'target_column': 'growth', 'train_features': ['open', 'volume_lag_1', 'usa_inflation_%', '1_USD_to_EUR_lag_1', '1_EUR_to_USD_lag_1', '1_UAH_to_USD_lag_1', '1_USD_to_UAH_lag_1', '1_EUR_to_UAH_lag_1', '1_UAH_to_EUR_lag_1'], 'path_to_result': '/diploma_info/datalake/', 'forecast_periods': 4, 'model_name': 'lightgbm', 'model': LGBMClassifier(eta=0.3, max_depth=7, metric='binary', n_estimators=5000,\n",
      "               n_jobs=-1, objective='binary', random_state=2, verbosity=-1), 'forecast_frequency': 'daily', 'company': 'apple', 'model_hyperparameters': {'n_estimators': 5000, 'n_jobs': -1, 'max_depth': 7, 'eta': 0.3, 'random_state': 2, 'objective': 'binary', 'verbosity': -1, 'metric': 'binary'}, 'problem': 'classification'} \n",
      "\n",
      "(2368, 9) (2368, 1)\n",
      "lightgbm\n"
     ]
    },
    {
     "name": "stderr",
     "output_type": "stream",
     "text": [
      "100%|██████████████████████████████████████████████████████████████████████████████████| 38/38 [00:24<00:00,  1.54it/s]\n"
     ]
    },
    {
     "name": "stdout",
     "output_type": "stream",
     "text": [
      "lightgbm == {'unique_uuid': 'b1fe5ab6-20bd-11ef-b38e-c0e434d84b22', 'train_start': datetime.datetime(2023, 1, 1, 0, 0), 'train_end': datetime.datetime(2023, 12, 29, 0, 0), 'test_start': datetime.datetime(2024, 1, 2, 0, 0), 'test_end': datetime.datetime(2024, 2, 8, 0, 0), 'target_column': 'growth', 'train_features': ['open', 'close_max_3_days', 'close_min_3_days', 'close_mean_3_days', '1_USD_to_EUR_lag_1', '1_EUR_to_USD_lag_1', '1_UAH_to_USD_lag_1', '1_USD_to_UAH_lag_1', '1_EUR_to_UAH_lag_1', '1_UAH_to_EUR_lag_1'], 'path_to_result': '/diploma_info/datalake/', 'forecast_periods': 4, 'model_name': 'lightgbm', 'model': LGBMClassifier(eta=0.3, max_depth=7, metric='binary', n_estimators=5000,\n",
      "               n_jobs=-1, objective='binary', random_state=2, verbosity=-1), 'forecast_frequency': 'daily', 'company': 'apple', 'model_hyperparameters': {'n_estimators': 5000, 'n_jobs': -1, 'max_depth': 7, 'eta': 0.3, 'random_state': 2, 'objective': 'binary', 'verbosity': -1, 'metric': 'binary'}, 'problem': 'classification'} \n",
      "\n",
      "(2368, 10) (2368, 1)\n",
      "lightgbm\n"
     ]
    },
    {
     "name": "stderr",
     "output_type": "stream",
     "text": [
      "100%|██████████████████████████████████████████████████████████████████████████████████| 38/38 [00:26<00:00,  1.45it/s]\n"
     ]
    },
    {
     "name": "stdout",
     "output_type": "stream",
     "text": [
      "lightgbm == {'unique_uuid': 'b1fe5ab7-20bd-11ef-8d67-c0e434d84b22', 'train_start': datetime.datetime(2023, 1, 1, 0, 0), 'train_end': datetime.datetime(2023, 12, 29, 0, 0), 'test_start': datetime.datetime(2024, 1, 2, 0, 0), 'test_end': datetime.datetime(2024, 2, 8, 0, 0), 'target_column': 'growth', 'train_features': ['open', 'year', 'month', 'day', 'day_of_week', 'week_of_year', '1_USD_to_EUR_lag_1', '1_EUR_to_USD_lag_1', '1_UAH_to_USD_lag_1', '1_USD_to_UAH_lag_1', '1_EUR_to_UAH_lag_1', '1_UAH_to_EUR_lag_1'], 'path_to_result': '/diploma_info/datalake/', 'forecast_periods': 4, 'model_name': 'lightgbm', 'model': LGBMClassifier(eta=0.3, max_depth=7, metric='binary', n_estimators=5000,\n",
      "               n_jobs=-1, objective='binary', random_state=2, verbosity=-1), 'forecast_frequency': 'daily', 'company': 'apple', 'model_hyperparameters': {'n_estimators': 5000, 'n_jobs': -1, 'max_depth': 7, 'eta': 0.3, 'random_state': 2, 'objective': 'binary', 'verbosity': -1, 'metric': 'binary'}, 'problem': 'classification'} \n",
      "\n",
      "(2368, 12) (2368, 1)\n",
      "lightgbm\n"
     ]
    },
    {
     "name": "stderr",
     "output_type": "stream",
     "text": [
      "100%|██████████████████████████████████████████████████████████████████████████████████| 38/38 [00:23<00:00,  1.59it/s]\n"
     ]
    },
    {
     "name": "stdout",
     "output_type": "stream",
     "text": [
      "lightgbm == {'unique_uuid': 'b1fe5ab8-20bd-11ef-9aa1-c0e434d84b22', 'train_start': datetime.datetime(2023, 1, 1, 0, 0), 'train_end': datetime.datetime(2023, 12, 29, 0, 0), 'test_start': datetime.datetime(2024, 1, 2, 0, 0), 'test_end': datetime.datetime(2024, 2, 8, 0, 0), 'target_column': 'growth', 'train_features': ['open', 'volume_lag_1', 'usa_inflation_%', '1_USD_to_EUR_lag_1', '1_EUR_to_USD_lag_1', '1_UAH_to_USD_lag_1', '1_USD_to_UAH_lag_1', '1_EUR_to_UAH_lag_1', '1_UAH_to_EUR_lag_1'], 'path_to_result': '/diploma_info/datalake/', 'forecast_periods': 4, 'model_name': 'lightgbm', 'model': LGBMClassifier(eta=0.3, max_depth=9, metric='binary', n_estimators=5000,\n",
      "               n_jobs=-1, objective='binary', random_state=2, verbosity=-1), 'forecast_frequency': 'daily', 'company': 'apple', 'model_hyperparameters': {'n_estimators': 5000, 'n_jobs': -1, 'max_depth': 9, 'eta': 0.3, 'random_state': 2, 'objective': 'binary', 'verbosity': -1, 'metric': 'binary'}, 'problem': 'classification'} \n",
      "\n",
      "(2368, 9) (2368, 1)\n",
      "lightgbm\n"
     ]
    },
    {
     "name": "stderr",
     "output_type": "stream",
     "text": [
      "100%|██████████████████████████████████████████████████████████████████████████████████| 38/38 [00:24<00:00,  1.52it/s]\n"
     ]
    },
    {
     "name": "stdout",
     "output_type": "stream",
     "text": [
      "lightgbm == {'unique_uuid': 'b1fe5ab9-20bd-11ef-aee0-c0e434d84b22', 'train_start': datetime.datetime(2023, 1, 1, 0, 0), 'train_end': datetime.datetime(2023, 12, 29, 0, 0), 'test_start': datetime.datetime(2024, 1, 2, 0, 0), 'test_end': datetime.datetime(2024, 2, 8, 0, 0), 'target_column': 'growth', 'train_features': ['open', 'close_max_3_days', 'close_min_3_days', 'close_mean_3_days', '1_USD_to_EUR_lag_1', '1_EUR_to_USD_lag_1', '1_UAH_to_USD_lag_1', '1_USD_to_UAH_lag_1', '1_EUR_to_UAH_lag_1', '1_UAH_to_EUR_lag_1'], 'path_to_result': '/diploma_info/datalake/', 'forecast_periods': 4, 'model_name': 'lightgbm', 'model': LGBMClassifier(eta=0.3, max_depth=9, metric='binary', n_estimators=5000,\n",
      "               n_jobs=-1, objective='binary', random_state=2, verbosity=-1), 'forecast_frequency': 'daily', 'company': 'apple', 'model_hyperparameters': {'n_estimators': 5000, 'n_jobs': -1, 'max_depth': 9, 'eta': 0.3, 'random_state': 2, 'objective': 'binary', 'verbosity': -1, 'metric': 'binary'}, 'problem': 'classification'} \n",
      "\n",
      "(2368, 10) (2368, 1)\n",
      "lightgbm\n"
     ]
    },
    {
     "name": "stderr",
     "output_type": "stream",
     "text": [
      "100%|██████████████████████████████████████████████████████████████████████████████████| 38/38 [00:28<00:00,  1.34it/s]\n"
     ]
    },
    {
     "name": "stdout",
     "output_type": "stream",
     "text": [
      "lightgbm == {'unique_uuid': 'b1fe5aba-20bd-11ef-927b-c0e434d84b22', 'train_start': datetime.datetime(2023, 1, 1, 0, 0), 'train_end': datetime.datetime(2023, 12, 29, 0, 0), 'test_start': datetime.datetime(2024, 1, 2, 0, 0), 'test_end': datetime.datetime(2024, 2, 8, 0, 0), 'target_column': 'growth', 'train_features': ['open', 'year', 'month', 'day', 'day_of_week', 'week_of_year', '1_USD_to_EUR_lag_1', '1_EUR_to_USD_lag_1', '1_UAH_to_USD_lag_1', '1_USD_to_UAH_lag_1', '1_EUR_to_UAH_lag_1', '1_UAH_to_EUR_lag_1'], 'path_to_result': '/diploma_info/datalake/', 'forecast_periods': 4, 'model_name': 'lightgbm', 'model': LGBMClassifier(eta=0.3, max_depth=9, metric='binary', n_estimators=5000,\n",
      "               n_jobs=-1, objective='binary', random_state=2, verbosity=-1), 'forecast_frequency': 'daily', 'company': 'apple', 'model_hyperparameters': {'n_estimators': 5000, 'n_jobs': -1, 'max_depth': 9, 'eta': 0.3, 'random_state': 2, 'objective': 'binary', 'verbosity': -1, 'metric': 'binary'}, 'problem': 'classification'} \n",
      "\n",
      "(2368, 12) (2368, 1)\n",
      "lightgbm\n"
     ]
    },
    {
     "name": "stderr",
     "output_type": "stream",
     "text": [
      "100%|██████████████████████████████████████████████████████████████████████████████████| 38/38 [00:26<00:00,  1.45it/s]\n"
     ]
    },
    {
     "name": "stdout",
     "output_type": "stream",
     "text": [
      "random_forest == {'unique_uuid': 'b1fe5abb-20bd-11ef-b188-c0e434d84b22', 'train_start': datetime.datetime(2023, 1, 1, 0, 0), 'train_end': datetime.datetime(2023, 12, 29, 0, 0), 'test_start': datetime.datetime(2024, 1, 2, 0, 0), 'test_end': datetime.datetime(2024, 2, 8, 0, 0), 'target_column': 'growth', 'train_features': ['open', 'volume_lag_1', 'usa_inflation_%', '1_USD_to_EUR_lag_1', '1_EUR_to_USD_lag_1', '1_UAH_to_USD_lag_1', '1_USD_to_UAH_lag_1', '1_EUR_to_UAH_lag_1', '1_UAH_to_EUR_lag_1'], 'path_to_result': '/diploma_info/datalake/', 'forecast_periods': 4, 'model_name': 'random_forest', 'model': RandomForestClassifier(max_depth=7, n_estimators=10, n_jobs=-1, random_state=2), 'forecast_frequency': 'daily', 'company': 'apple', 'model_hyperparameters': {'n_estimators': 10, 'n_jobs': -1, 'random_state': 2, 'max_depth': 7}, 'problem': 'classification'} \n",
      "\n",
      "(2368, 9) (2368, 1)\n",
      "random_forest\n"
     ]
    },
    {
     "name": "stderr",
     "output_type": "stream",
     "text": [
      "100%|██████████████████████████████████████████████████████████████████████████████████| 38/38 [00:02<00:00, 15.56it/s]\n"
     ]
    },
    {
     "name": "stdout",
     "output_type": "stream",
     "text": [
      "random_forest == {'unique_uuid': 'b1fe5abc-20bd-11ef-9106-c0e434d84b22', 'train_start': datetime.datetime(2023, 1, 1, 0, 0), 'train_end': datetime.datetime(2023, 12, 29, 0, 0), 'test_start': datetime.datetime(2024, 1, 2, 0, 0), 'test_end': datetime.datetime(2024, 2, 8, 0, 0), 'target_column': 'growth', 'train_features': ['open', 'close_max_3_days', 'close_min_3_days', 'close_mean_3_days', '1_USD_to_EUR_lag_1', '1_EUR_to_USD_lag_1', '1_UAH_to_USD_lag_1', '1_USD_to_UAH_lag_1', '1_EUR_to_UAH_lag_1', '1_UAH_to_EUR_lag_1'], 'path_to_result': '/diploma_info/datalake/', 'forecast_periods': 4, 'model_name': 'random_forest', 'model': RandomForestClassifier(max_depth=7, n_estimators=10, n_jobs=-1, random_state=2), 'forecast_frequency': 'daily', 'company': 'apple', 'model_hyperparameters': {'n_estimators': 10, 'n_jobs': -1, 'random_state': 2, 'max_depth': 7}, 'problem': 'classification'} \n",
      "\n",
      "(2368, 10) (2368, 1)\n",
      "random_forest\n"
     ]
    },
    {
     "name": "stderr",
     "output_type": "stream",
     "text": [
      "100%|██████████████████████████████████████████████████████████████████████████████████| 38/38 [00:02<00:00, 15.35it/s]\n"
     ]
    },
    {
     "name": "stdout",
     "output_type": "stream",
     "text": [
      "random_forest == {'unique_uuid': 'b1fe5abd-20bd-11ef-b354-c0e434d84b22', 'train_start': datetime.datetime(2023, 1, 1, 0, 0), 'train_end': datetime.datetime(2023, 12, 29, 0, 0), 'test_start': datetime.datetime(2024, 1, 2, 0, 0), 'test_end': datetime.datetime(2024, 2, 8, 0, 0), 'target_column': 'growth', 'train_features': ['open', 'year', 'month', 'day', 'day_of_week', 'week_of_year', '1_USD_to_EUR_lag_1', '1_EUR_to_USD_lag_1', '1_UAH_to_USD_lag_1', '1_USD_to_UAH_lag_1', '1_EUR_to_UAH_lag_1', '1_UAH_to_EUR_lag_1'], 'path_to_result': '/diploma_info/datalake/', 'forecast_periods': 4, 'model_name': 'random_forest', 'model': RandomForestClassifier(max_depth=7, n_estimators=10, n_jobs=-1, random_state=2), 'forecast_frequency': 'daily', 'company': 'apple', 'model_hyperparameters': {'n_estimators': 10, 'n_jobs': -1, 'random_state': 2, 'max_depth': 7}, 'problem': 'classification'} \n",
      "\n",
      "(2368, 12) (2368, 1)\n",
      "random_forest\n"
     ]
    },
    {
     "name": "stderr",
     "output_type": "stream",
     "text": [
      "100%|██████████████████████████████████████████████████████████████████████████████████| 38/38 [00:02<00:00, 16.17it/s]\n"
     ]
    },
    {
     "name": "stdout",
     "output_type": "stream",
     "text": [
      "knear_neighbors == {'unique_uuid': 'b1fe5abe-20bd-11ef-8691-c0e434d84b22', 'train_start': datetime.datetime(2023, 1, 1, 0, 0), 'train_end': datetime.datetime(2023, 12, 29, 0, 0), 'test_start': datetime.datetime(2024, 1, 2, 0, 0), 'test_end': datetime.datetime(2024, 2, 8, 0, 0), 'target_column': 'growth', 'train_features': ['open', 'volume_lag_1', 'usa_inflation_%', '1_USD_to_EUR_lag_1', '1_EUR_to_USD_lag_1', '1_UAH_to_USD_lag_1', '1_USD_to_UAH_lag_1', '1_EUR_to_UAH_lag_1', '1_UAH_to_EUR_lag_1'], 'path_to_result': '/diploma_info/datalake/', 'forecast_periods': 4, 'model_name': 'knear_neighbors', 'model': KNeighborsClassifier(n_jobs=-1, n_neighbors=3), 'forecast_frequency': 'daily', 'company': 'apple', 'model_hyperparameters': {'n_neighbors': 3, 'n_jobs': -1}, 'problem': 'classification'} \n",
      "\n",
      "(2368, 9) (2368, 1)\n",
      "knear_neighbors\n"
     ]
    },
    {
     "name": "stderr",
     "output_type": "stream",
     "text": [
      "100%|██████████████████████████████████████████████████████████████████████████████████| 38/38 [00:01<00:00, 30.17it/s]\n"
     ]
    },
    {
     "name": "stdout",
     "output_type": "stream",
     "text": [
      "knear_neighbors == {'unique_uuid': 'b1fe5abf-20bd-11ef-b208-c0e434d84b22', 'train_start': datetime.datetime(2023, 1, 1, 0, 0), 'train_end': datetime.datetime(2023, 12, 29, 0, 0), 'test_start': datetime.datetime(2024, 1, 2, 0, 0), 'test_end': datetime.datetime(2024, 2, 8, 0, 0), 'target_column': 'growth', 'train_features': ['open', 'close_max_3_days', 'close_min_3_days', 'close_mean_3_days', '1_USD_to_EUR_lag_1', '1_EUR_to_USD_lag_1', '1_UAH_to_USD_lag_1', '1_USD_to_UAH_lag_1', '1_EUR_to_UAH_lag_1', '1_UAH_to_EUR_lag_1'], 'path_to_result': '/diploma_info/datalake/', 'forecast_periods': 4, 'model_name': 'knear_neighbors', 'model': KNeighborsClassifier(n_jobs=-1, n_neighbors=3), 'forecast_frequency': 'daily', 'company': 'apple', 'model_hyperparameters': {'n_neighbors': 3, 'n_jobs': -1}, 'problem': 'classification'} \n",
      "\n",
      "(2368, 10) (2368, 1)\n",
      "knear_neighbors\n"
     ]
    },
    {
     "name": "stderr",
     "output_type": "stream",
     "text": [
      "100%|██████████████████████████████████████████████████████████████████████████████████| 38/38 [00:01<00:00, 27.54it/s]\n"
     ]
    },
    {
     "name": "stdout",
     "output_type": "stream",
     "text": [
      "knear_neighbors == {'unique_uuid': 'b1fe5ac0-20bd-11ef-becb-c0e434d84b22', 'train_start': datetime.datetime(2023, 1, 1, 0, 0), 'train_end': datetime.datetime(2023, 12, 29, 0, 0), 'test_start': datetime.datetime(2024, 1, 2, 0, 0), 'test_end': datetime.datetime(2024, 2, 8, 0, 0), 'target_column': 'growth', 'train_features': ['open', 'year', 'month', 'day', 'day_of_week', 'week_of_year', '1_USD_to_EUR_lag_1', '1_EUR_to_USD_lag_1', '1_UAH_to_USD_lag_1', '1_USD_to_UAH_lag_1', '1_EUR_to_UAH_lag_1', '1_UAH_to_EUR_lag_1'], 'path_to_result': '/diploma_info/datalake/', 'forecast_periods': 4, 'model_name': 'knear_neighbors', 'model': KNeighborsClassifier(n_jobs=-1, n_neighbors=3), 'forecast_frequency': 'daily', 'company': 'apple', 'model_hyperparameters': {'n_neighbors': 3, 'n_jobs': -1}, 'problem': 'classification'} \n",
      "\n",
      "(2368, 12) (2368, 1)\n",
      "knear_neighbors\n"
     ]
    },
    {
     "name": "stderr",
     "output_type": "stream",
     "text": [
      "100%|██████████████████████████████████████████████████████████████████████████████████| 38/38 [00:01<00:00, 30.20it/s]\n"
     ]
    },
    {
     "name": "stdout",
     "output_type": "stream",
     "text": [
      "knear_neighbors == {'unique_uuid': 'b1fe5ac1-20bd-11ef-a161-c0e434d84b22', 'train_start': datetime.datetime(2023, 1, 1, 0, 0), 'train_end': datetime.datetime(2023, 12, 29, 0, 0), 'test_start': datetime.datetime(2024, 1, 2, 0, 0), 'test_end': datetime.datetime(2024, 2, 8, 0, 0), 'target_column': 'growth', 'train_features': ['open', 'volume_lag_1', 'usa_inflation_%', '1_USD_to_EUR_lag_1', '1_EUR_to_USD_lag_1', '1_UAH_to_USD_lag_1', '1_USD_to_UAH_lag_1', '1_EUR_to_UAH_lag_1', '1_UAH_to_EUR_lag_1'], 'path_to_result': '/diploma_info/datalake/', 'forecast_periods': 4, 'model_name': 'knear_neighbors', 'model': KNeighborsClassifier(n_jobs=-1, n_neighbors=50), 'forecast_frequency': 'daily', 'company': 'apple', 'model_hyperparameters': {'n_neighbors': 50, 'n_jobs': -1}, 'problem': 'classification'} \n",
      "\n",
      "(2368, 9) (2368, 1)\n",
      "knear_neighbors\n"
     ]
    },
    {
     "name": "stderr",
     "output_type": "stream",
     "text": [
      "100%|██████████████████████████████████████████████████████████████████████████████████| 38/38 [00:01<00:00, 30.54it/s]\n"
     ]
    },
    {
     "name": "stdout",
     "output_type": "stream",
     "text": [
      "knear_neighbors == {'unique_uuid': 'b1fe5ac2-20bd-11ef-8e03-c0e434d84b22', 'train_start': datetime.datetime(2023, 1, 1, 0, 0), 'train_end': datetime.datetime(2023, 12, 29, 0, 0), 'test_start': datetime.datetime(2024, 1, 2, 0, 0), 'test_end': datetime.datetime(2024, 2, 8, 0, 0), 'target_column': 'growth', 'train_features': ['open', 'close_max_3_days', 'close_min_3_days', 'close_mean_3_days', '1_USD_to_EUR_lag_1', '1_EUR_to_USD_lag_1', '1_UAH_to_USD_lag_1', '1_USD_to_UAH_lag_1', '1_EUR_to_UAH_lag_1', '1_UAH_to_EUR_lag_1'], 'path_to_result': '/diploma_info/datalake/', 'forecast_periods': 4, 'model_name': 'knear_neighbors', 'model': KNeighborsClassifier(n_jobs=-1, n_neighbors=50), 'forecast_frequency': 'daily', 'company': 'apple', 'model_hyperparameters': {'n_neighbors': 50, 'n_jobs': -1}, 'problem': 'classification'} \n",
      "\n",
      "(2368, 10) (2368, 1)\n",
      "knear_neighbors\n"
     ]
    },
    {
     "name": "stderr",
     "output_type": "stream",
     "text": [
      "100%|██████████████████████████████████████████████████████████████████████████████████| 38/38 [00:01<00:00, 29.09it/s]\n"
     ]
    },
    {
     "name": "stdout",
     "output_type": "stream",
     "text": [
      "knear_neighbors == {'unique_uuid': 'b1fe5ac3-20bd-11ef-a581-c0e434d84b22', 'train_start': datetime.datetime(2023, 1, 1, 0, 0), 'train_end': datetime.datetime(2023, 12, 29, 0, 0), 'test_start': datetime.datetime(2024, 1, 2, 0, 0), 'test_end': datetime.datetime(2024, 2, 8, 0, 0), 'target_column': 'growth', 'train_features': ['open', 'year', 'month', 'day', 'day_of_week', 'week_of_year', '1_USD_to_EUR_lag_1', '1_EUR_to_USD_lag_1', '1_UAH_to_USD_lag_1', '1_USD_to_UAH_lag_1', '1_EUR_to_UAH_lag_1', '1_UAH_to_EUR_lag_1'], 'path_to_result': '/diploma_info/datalake/', 'forecast_periods': 4, 'model_name': 'knear_neighbors', 'model': KNeighborsClassifier(n_jobs=-1, n_neighbors=50), 'forecast_frequency': 'daily', 'company': 'apple', 'model_hyperparameters': {'n_neighbors': 50, 'n_jobs': -1}, 'problem': 'classification'} \n",
      "\n",
      "(2368, 12) (2368, 1)\n",
      "knear_neighbors\n"
     ]
    },
    {
     "name": "stderr",
     "output_type": "stream",
     "text": [
      "100%|██████████████████████████████████████████████████████████████████████████████████| 38/38 [00:01<00:00, 31.13it/s]\n"
     ]
    },
    {
     "name": "stdout",
     "output_type": "stream",
     "text": [
      "company: GOOGLE\t period: daily\t train ends: 2023-12-29 00:00:00\t test starts: 2024-01-02 00:00:00\n",
      "_research_task_uuid = 986e672e-20c0-11ef-a4b3-c0e434d84b22\n",
      "\n",
      "count_configs 90 \n",
      "\n",
      "xgboost == {'unique_uuid': '986e672f-20c0-11ef-b8a4-c0e434d84b22', 'train_start': datetime.datetime(2015, 1, 1, 0, 0), 'train_end': datetime.datetime(2023, 12, 29, 0, 0), 'test_start': datetime.datetime(2024, 1, 2, 0, 0), 'test_end': datetime.datetime(2024, 2, 8, 0, 0), 'target_column': 'growth', 'train_features': ['open', 'volume_lag_1', 'usa_inflation_%', '1_USD_to_EUR_lag_1', '1_EUR_to_USD_lag_1', '1_UAH_to_USD_lag_1', '1_USD_to_UAH_lag_1', '1_EUR_to_UAH_lag_1', '1_UAH_to_EUR_lag_1'], 'path_to_result': '/diploma_info/datalake/', 'forecast_periods': 4, 'model_name': 'xgboost', 'model': XGBClassifier(base_score=None, booster='gbtree', callbacks=None,\n",
      "              colsample_bylevel=None, colsample_bynode=None, colsample_bytree=1,\n",
      "              device=None, early_stopping_rounds=None, enable_categorical=False,\n",
      "              eta=0.3, eval_metric='rmse', feature_types=None, gamma=None,\n",
      "              grow_policy=None, importance_type=None,\n",
      "              interaction_constraints=None, learning_rate=None, max_bin=None,\n",
      "              max_cat_threshold=None, max_cat_to_onehot=None,\n",
      "              max_delta_step=None, max_depth=7, max_leaves=None,\n",
      "              min_child_weight=1, missing=nan, monotone_constraints=None,\n",
      "              multi_strategy=None, n_estimators=10, n_jobs=-1,\n",
      "              num_parallel_tree=None, ...), 'forecast_frequency': 'daily', 'company': 'google', 'model_hyperparameters': {'n_estimators': 10, 'n_jobs': -1, 'max_depth': 7, 'eta': 0.3, 'booster': 'gbtree', 'objective': 'reg:squarederror', 'eval_metric': 'rmse', 'subsample': 1, 'colsample_bytree': 1, 'min_child_weight': 1, 'random_state': 2}, 'problem': 'classification'} \n",
      "\n",
      "(2368, 9) (2368, 1)\n",
      "xgboost\n"
     ]
    },
    {
     "name": "stderr",
     "output_type": "stream",
     "text": [
      "100%|██████████████████████████████████████████████████████████████████████████████████| 38/38 [00:01<00:00, 21.67it/s]\n"
     ]
    },
    {
     "name": "stdout",
     "output_type": "stream",
     "text": [
      "xgboost == {'unique_uuid': '986e6730-20c0-11ef-903a-c0e434d84b22', 'train_start': datetime.datetime(2015, 1, 1, 0, 0), 'train_end': datetime.datetime(2023, 12, 29, 0, 0), 'test_start': datetime.datetime(2024, 1, 2, 0, 0), 'test_end': datetime.datetime(2024, 2, 8, 0, 0), 'target_column': 'growth', 'train_features': ['open', 'close_max_3_days', 'close_min_3_days', 'close_mean_3_days', '1_USD_to_EUR_lag_1', '1_EUR_to_USD_lag_1', '1_UAH_to_USD_lag_1', '1_USD_to_UAH_lag_1', '1_EUR_to_UAH_lag_1', '1_UAH_to_EUR_lag_1'], 'path_to_result': '/diploma_info/datalake/', 'forecast_periods': 4, 'model_name': 'xgboost', 'model': XGBClassifier(base_score=None, booster='gbtree', callbacks=None,\n",
      "              colsample_bylevel=None, colsample_bynode=None, colsample_bytree=1,\n",
      "              device=None, early_stopping_rounds=None, enable_categorical=False,\n",
      "              eta=0.3, eval_metric='rmse', feature_types=None, gamma=None,\n",
      "              grow_policy=None, importance_type=None,\n",
      "              interaction_constraints=None, learning_rate=None, max_bin=None,\n",
      "              max_cat_threshold=None, max_cat_to_onehot=None,\n",
      "              max_delta_step=None, max_depth=7, max_leaves=None,\n",
      "              min_child_weight=1, missing=nan, monotone_constraints=None,\n",
      "              multi_strategy=None, n_estimators=10, n_jobs=-1,\n",
      "              num_parallel_tree=None, ...), 'forecast_frequency': 'daily', 'company': 'google', 'model_hyperparameters': {'n_estimators': 10, 'n_jobs': -1, 'max_depth': 7, 'eta': 0.3, 'booster': 'gbtree', 'objective': 'reg:squarederror', 'eval_metric': 'rmse', 'subsample': 1, 'colsample_bytree': 1, 'min_child_weight': 1, 'random_state': 2}, 'problem': 'classification'} \n",
      "\n",
      "(2368, 10) (2368, 1)\n",
      "xgboost\n"
     ]
    },
    {
     "name": "stderr",
     "output_type": "stream",
     "text": [
      "100%|██████████████████████████████████████████████████████████████████████████████████| 38/38 [00:01<00:00, 22.26it/s]\n"
     ]
    },
    {
     "name": "stdout",
     "output_type": "stream",
     "text": [
      "xgboost == {'unique_uuid': '986e6731-20c0-11ef-8b2e-c0e434d84b22', 'train_start': datetime.datetime(2015, 1, 1, 0, 0), 'train_end': datetime.datetime(2023, 12, 29, 0, 0), 'test_start': datetime.datetime(2024, 1, 2, 0, 0), 'test_end': datetime.datetime(2024, 2, 8, 0, 0), 'target_column': 'growth', 'train_features': ['open', 'year', 'month', 'day', 'day_of_week', 'week_of_year', '1_USD_to_EUR_lag_1', '1_EUR_to_USD_lag_1', '1_UAH_to_USD_lag_1', '1_USD_to_UAH_lag_1', '1_EUR_to_UAH_lag_1', '1_UAH_to_EUR_lag_1'], 'path_to_result': '/diploma_info/datalake/', 'forecast_periods': 4, 'model_name': 'xgboost', 'model': XGBClassifier(base_score=None, booster='gbtree', callbacks=None,\n",
      "              colsample_bylevel=None, colsample_bynode=None, colsample_bytree=1,\n",
      "              device=None, early_stopping_rounds=None, enable_categorical=False,\n",
      "              eta=0.3, eval_metric='rmse', feature_types=None, gamma=None,\n",
      "              grow_policy=None, importance_type=None,\n",
      "              interaction_constraints=None, learning_rate=None, max_bin=None,\n",
      "              max_cat_threshold=None, max_cat_to_onehot=None,\n",
      "              max_delta_step=None, max_depth=7, max_leaves=None,\n",
      "              min_child_weight=1, missing=nan, monotone_constraints=None,\n",
      "              multi_strategy=None, n_estimators=10, n_jobs=-1,\n",
      "              num_parallel_tree=None, ...), 'forecast_frequency': 'daily', 'company': 'google', 'model_hyperparameters': {'n_estimators': 10, 'n_jobs': -1, 'max_depth': 7, 'eta': 0.3, 'booster': 'gbtree', 'objective': 'reg:squarederror', 'eval_metric': 'rmse', 'subsample': 1, 'colsample_bytree': 1, 'min_child_weight': 1, 'random_state': 2}, 'problem': 'classification'} \n",
      "\n",
      "(2368, 12) (2368, 1)\n",
      "xgboost\n"
     ]
    },
    {
     "name": "stderr",
     "output_type": "stream",
     "text": [
      "100%|██████████████████████████████████████████████████████████████████████████████████| 38/38 [00:01<00:00, 22.05it/s]\n"
     ]
    },
    {
     "name": "stdout",
     "output_type": "stream",
     "text": [
      "xgboost == {'unique_uuid': '986e6732-20c0-11ef-bed2-c0e434d84b22', 'train_start': datetime.datetime(2015, 1, 1, 0, 0), 'train_end': datetime.datetime(2023, 12, 29, 0, 0), 'test_start': datetime.datetime(2024, 1, 2, 0, 0), 'test_end': datetime.datetime(2024, 2, 8, 0, 0), 'target_column': 'growth', 'train_features': ['open', 'volume_lag_1', 'usa_inflation_%', '1_USD_to_EUR_lag_1', '1_EUR_to_USD_lag_1', '1_UAH_to_USD_lag_1', '1_USD_to_UAH_lag_1', '1_EUR_to_UAH_lag_1', '1_UAH_to_EUR_lag_1'], 'path_to_result': '/diploma_info/datalake/', 'forecast_periods': 4, 'model_name': 'xgboost', 'model': XGBClassifier(base_score=None, booster='gbtree', callbacks=None,\n",
      "              colsample_bylevel=None, colsample_bynode=None, colsample_bytree=1,\n",
      "              device=None, early_stopping_rounds=None, enable_categorical=False,\n",
      "              eta=0.3, eval_metric='rmse', feature_types=None, gamma=None,\n",
      "              grow_policy=None, importance_type=None,\n",
      "              interaction_constraints=None, learning_rate=None, max_bin=None,\n",
      "              max_cat_threshold=None, max_cat_to_onehot=None,\n",
      "              max_delta_step=None, max_depth=7, max_leaves=None,\n",
      "              min_child_weight=1, missing=nan, monotone_constraints=None,\n",
      "              multi_strategy=None, n_estimators=200, n_jobs=-1,\n",
      "              num_parallel_tree=None, ...), 'forecast_frequency': 'daily', 'company': 'google', 'model_hyperparameters': {'n_estimators': 200, 'n_jobs': -1, 'max_depth': 7, 'eta': 0.3, 'booster': 'gbtree', 'objective': 'reg:squarederror', 'eval_metric': 'rmse', 'subsample': 1, 'colsample_bytree': 1, 'min_child_weight': 1, 'random_state': 2}, 'problem': 'classification'} \n",
      "\n",
      "(2368, 9) (2368, 1)\n",
      "xgboost\n"
     ]
    },
    {
     "name": "stderr",
     "output_type": "stream",
     "text": [
      "100%|██████████████████████████████████████████████████████████████████████████████████| 38/38 [00:13<00:00,  2.86it/s]\n"
     ]
    },
    {
     "name": "stdout",
     "output_type": "stream",
     "text": [
      "xgboost == {'unique_uuid': '986e6733-20c0-11ef-bdac-c0e434d84b22', 'train_start': datetime.datetime(2015, 1, 1, 0, 0), 'train_end': datetime.datetime(2023, 12, 29, 0, 0), 'test_start': datetime.datetime(2024, 1, 2, 0, 0), 'test_end': datetime.datetime(2024, 2, 8, 0, 0), 'target_column': 'growth', 'train_features': ['open', 'close_max_3_days', 'close_min_3_days', 'close_mean_3_days', '1_USD_to_EUR_lag_1', '1_EUR_to_USD_lag_1', '1_UAH_to_USD_lag_1', '1_USD_to_UAH_lag_1', '1_EUR_to_UAH_lag_1', '1_UAH_to_EUR_lag_1'], 'path_to_result': '/diploma_info/datalake/', 'forecast_periods': 4, 'model_name': 'xgboost', 'model': XGBClassifier(base_score=None, booster='gbtree', callbacks=None,\n",
      "              colsample_bylevel=None, colsample_bynode=None, colsample_bytree=1,\n",
      "              device=None, early_stopping_rounds=None, enable_categorical=False,\n",
      "              eta=0.3, eval_metric='rmse', feature_types=None, gamma=None,\n",
      "              grow_policy=None, importance_type=None,\n",
      "              interaction_constraints=None, learning_rate=None, max_bin=None,\n",
      "              max_cat_threshold=None, max_cat_to_onehot=None,\n",
      "              max_delta_step=None, max_depth=7, max_leaves=None,\n",
      "              min_child_weight=1, missing=nan, monotone_constraints=None,\n",
      "              multi_strategy=None, n_estimators=200, n_jobs=-1,\n",
      "              num_parallel_tree=None, ...), 'forecast_frequency': 'daily', 'company': 'google', 'model_hyperparameters': {'n_estimators': 200, 'n_jobs': -1, 'max_depth': 7, 'eta': 0.3, 'booster': 'gbtree', 'objective': 'reg:squarederror', 'eval_metric': 'rmse', 'subsample': 1, 'colsample_bytree': 1, 'min_child_weight': 1, 'random_state': 2}, 'problem': 'classification'} \n",
      "\n",
      "(2368, 10) (2368, 1)\n",
      "xgboost\n"
     ]
    },
    {
     "name": "stderr",
     "output_type": "stream",
     "text": [
      "100%|██████████████████████████████████████████████████████████████████████████████████| 38/38 [00:12<00:00,  3.11it/s]\n"
     ]
    },
    {
     "name": "stdout",
     "output_type": "stream",
     "text": [
      "xgboost == {'unique_uuid': '986e6734-20c0-11ef-8ba5-c0e434d84b22', 'train_start': datetime.datetime(2015, 1, 1, 0, 0), 'train_end': datetime.datetime(2023, 12, 29, 0, 0), 'test_start': datetime.datetime(2024, 1, 2, 0, 0), 'test_end': datetime.datetime(2024, 2, 8, 0, 0), 'target_column': 'growth', 'train_features': ['open', 'year', 'month', 'day', 'day_of_week', 'week_of_year', '1_USD_to_EUR_lag_1', '1_EUR_to_USD_lag_1', '1_UAH_to_USD_lag_1', '1_USD_to_UAH_lag_1', '1_EUR_to_UAH_lag_1', '1_UAH_to_EUR_lag_1'], 'path_to_result': '/diploma_info/datalake/', 'forecast_periods': 4, 'model_name': 'xgboost', 'model': XGBClassifier(base_score=None, booster='gbtree', callbacks=None,\n",
      "              colsample_bylevel=None, colsample_bynode=None, colsample_bytree=1,\n",
      "              device=None, early_stopping_rounds=None, enable_categorical=False,\n",
      "              eta=0.3, eval_metric='rmse', feature_types=None, gamma=None,\n",
      "              grow_policy=None, importance_type=None,\n",
      "              interaction_constraints=None, learning_rate=None, max_bin=None,\n",
      "              max_cat_threshold=None, max_cat_to_onehot=None,\n",
      "              max_delta_step=None, max_depth=7, max_leaves=None,\n",
      "              min_child_weight=1, missing=nan, monotone_constraints=None,\n",
      "              multi_strategy=None, n_estimators=200, n_jobs=-1,\n",
      "              num_parallel_tree=None, ...), 'forecast_frequency': 'daily', 'company': 'google', 'model_hyperparameters': {'n_estimators': 200, 'n_jobs': -1, 'max_depth': 7, 'eta': 0.3, 'booster': 'gbtree', 'objective': 'reg:squarederror', 'eval_metric': 'rmse', 'subsample': 1, 'colsample_bytree': 1, 'min_child_weight': 1, 'random_state': 2}, 'problem': 'classification'} \n",
      "\n",
      "(2368, 12) (2368, 1)\n",
      "xgboost\n"
     ]
    },
    {
     "name": "stderr",
     "output_type": "stream",
     "text": [
      "100%|██████████████████████████████████████████████████████████████████████████████████| 38/38 [00:14<00:00,  2.54it/s]\n"
     ]
    },
    {
     "name": "stdout",
     "output_type": "stream",
     "text": [
      "xgboost == {'unique_uuid': '986e6735-20c0-11ef-a4aa-c0e434d84b22', 'train_start': datetime.datetime(2015, 1, 1, 0, 0), 'train_end': datetime.datetime(2023, 12, 29, 0, 0), 'test_start': datetime.datetime(2024, 1, 2, 0, 0), 'test_end': datetime.datetime(2024, 2, 8, 0, 0), 'target_column': 'growth', 'train_features': ['open', 'volume_lag_1', 'usa_inflation_%', '1_USD_to_EUR_lag_1', '1_EUR_to_USD_lag_1', '1_UAH_to_USD_lag_1', '1_USD_to_UAH_lag_1', '1_EUR_to_UAH_lag_1', '1_UAH_to_EUR_lag_1'], 'path_to_result': '/diploma_info/datalake/', 'forecast_periods': 4, 'model_name': 'xgboost', 'model': XGBClassifier(base_score=None, booster='gbtree', callbacks=None,\n",
      "              colsample_bylevel=None, colsample_bynode=None, colsample_bytree=1,\n",
      "              device=None, early_stopping_rounds=None, enable_categorical=False,\n",
      "              eta=0.3, eval_metric='rmse', feature_types=None, gamma=None,\n",
      "              grow_policy=None, importance_type=None,\n",
      "              interaction_constraints=None, learning_rate=None, max_bin=None,\n",
      "              max_cat_threshold=None, max_cat_to_onehot=None,\n",
      "              max_delta_step=None, max_depth=9, max_leaves=None,\n",
      "              min_child_weight=1, missing=nan, monotone_constraints=None,\n",
      "              multi_strategy=None, n_estimators=10, n_jobs=-1,\n",
      "              num_parallel_tree=None, ...), 'forecast_frequency': 'daily', 'company': 'google', 'model_hyperparameters': {'n_estimators': 10, 'n_jobs': -1, 'max_depth': 9, 'eta': 0.3, 'booster': 'gbtree', 'objective': 'reg:squarederror', 'eval_metric': 'rmse', 'subsample': 1, 'colsample_bytree': 1, 'min_child_weight': 1, 'random_state': 2}, 'problem': 'classification'} \n",
      "\n",
      "(2368, 9) (2368, 1)\n",
      "xgboost\n"
     ]
    },
    {
     "name": "stderr",
     "output_type": "stream",
     "text": [
      "100%|██████████████████████████████████████████████████████████████████████████████████| 38/38 [00:02<00:00, 14.84it/s]\n"
     ]
    },
    {
     "name": "stdout",
     "output_type": "stream",
     "text": [
      "xgboost == {'unique_uuid': '986e6736-20c0-11ef-88d5-c0e434d84b22', 'train_start': datetime.datetime(2015, 1, 1, 0, 0), 'train_end': datetime.datetime(2023, 12, 29, 0, 0), 'test_start': datetime.datetime(2024, 1, 2, 0, 0), 'test_end': datetime.datetime(2024, 2, 8, 0, 0), 'target_column': 'growth', 'train_features': ['open', 'close_max_3_days', 'close_min_3_days', 'close_mean_3_days', '1_USD_to_EUR_lag_1', '1_EUR_to_USD_lag_1', '1_UAH_to_USD_lag_1', '1_USD_to_UAH_lag_1', '1_EUR_to_UAH_lag_1', '1_UAH_to_EUR_lag_1'], 'path_to_result': '/diploma_info/datalake/', 'forecast_periods': 4, 'model_name': 'xgboost', 'model': XGBClassifier(base_score=None, booster='gbtree', callbacks=None,\n",
      "              colsample_bylevel=None, colsample_bynode=None, colsample_bytree=1,\n",
      "              device=None, early_stopping_rounds=None, enable_categorical=False,\n",
      "              eta=0.3, eval_metric='rmse', feature_types=None, gamma=None,\n",
      "              grow_policy=None, importance_type=None,\n",
      "              interaction_constraints=None, learning_rate=None, max_bin=None,\n",
      "              max_cat_threshold=None, max_cat_to_onehot=None,\n",
      "              max_delta_step=None, max_depth=9, max_leaves=None,\n",
      "              min_child_weight=1, missing=nan, monotone_constraints=None,\n",
      "              multi_strategy=None, n_estimators=10, n_jobs=-1,\n",
      "              num_parallel_tree=None, ...), 'forecast_frequency': 'daily', 'company': 'google', 'model_hyperparameters': {'n_estimators': 10, 'n_jobs': -1, 'max_depth': 9, 'eta': 0.3, 'booster': 'gbtree', 'objective': 'reg:squarederror', 'eval_metric': 'rmse', 'subsample': 1, 'colsample_bytree': 1, 'min_child_weight': 1, 'random_state': 2}, 'problem': 'classification'} \n",
      "\n",
      "(2368, 10) (2368, 1)\n",
      "xgboost\n"
     ]
    },
    {
     "name": "stderr",
     "output_type": "stream",
     "text": [
      "100%|██████████████████████████████████████████████████████████████████████████████████| 38/38 [00:02<00:00, 17.34it/s]\n"
     ]
    },
    {
     "name": "stdout",
     "output_type": "stream",
     "text": [
      "xgboost == {'unique_uuid': '986e6737-20c0-11ef-a695-c0e434d84b22', 'train_start': datetime.datetime(2015, 1, 1, 0, 0), 'train_end': datetime.datetime(2023, 12, 29, 0, 0), 'test_start': datetime.datetime(2024, 1, 2, 0, 0), 'test_end': datetime.datetime(2024, 2, 8, 0, 0), 'target_column': 'growth', 'train_features': ['open', 'year', 'month', 'day', 'day_of_week', 'week_of_year', '1_USD_to_EUR_lag_1', '1_EUR_to_USD_lag_1', '1_UAH_to_USD_lag_1', '1_USD_to_UAH_lag_1', '1_EUR_to_UAH_lag_1', '1_UAH_to_EUR_lag_1'], 'path_to_result': '/diploma_info/datalake/', 'forecast_periods': 4, 'model_name': 'xgboost', 'model': XGBClassifier(base_score=None, booster='gbtree', callbacks=None,\n",
      "              colsample_bylevel=None, colsample_bynode=None, colsample_bytree=1,\n",
      "              device=None, early_stopping_rounds=None, enable_categorical=False,\n",
      "              eta=0.3, eval_metric='rmse', feature_types=None, gamma=None,\n",
      "              grow_policy=None, importance_type=None,\n",
      "              interaction_constraints=None, learning_rate=None, max_bin=None,\n",
      "              max_cat_threshold=None, max_cat_to_onehot=None,\n",
      "              max_delta_step=None, max_depth=9, max_leaves=None,\n",
      "              min_child_weight=1, missing=nan, monotone_constraints=None,\n",
      "              multi_strategy=None, n_estimators=10, n_jobs=-1,\n",
      "              num_parallel_tree=None, ...), 'forecast_frequency': 'daily', 'company': 'google', 'model_hyperparameters': {'n_estimators': 10, 'n_jobs': -1, 'max_depth': 9, 'eta': 0.3, 'booster': 'gbtree', 'objective': 'reg:squarederror', 'eval_metric': 'rmse', 'subsample': 1, 'colsample_bytree': 1, 'min_child_weight': 1, 'random_state': 2}, 'problem': 'classification'} \n",
      "\n",
      "(2368, 12) (2368, 1)\n",
      "xgboost\n"
     ]
    },
    {
     "name": "stderr",
     "output_type": "stream",
     "text": [
      "100%|██████████████████████████████████████████████████████████████████████████████████| 38/38 [00:02<00:00, 14.87it/s]\n"
     ]
    },
    {
     "name": "stdout",
     "output_type": "stream",
     "text": [
      "xgboost == {'unique_uuid': '986e6738-20c0-11ef-9ffd-c0e434d84b22', 'train_start': datetime.datetime(2015, 1, 1, 0, 0), 'train_end': datetime.datetime(2023, 12, 29, 0, 0), 'test_start': datetime.datetime(2024, 1, 2, 0, 0), 'test_end': datetime.datetime(2024, 2, 8, 0, 0), 'target_column': 'growth', 'train_features': ['open', 'volume_lag_1', 'usa_inflation_%', '1_USD_to_EUR_lag_1', '1_EUR_to_USD_lag_1', '1_UAH_to_USD_lag_1', '1_USD_to_UAH_lag_1', '1_EUR_to_UAH_lag_1', '1_UAH_to_EUR_lag_1'], 'path_to_result': '/diploma_info/datalake/', 'forecast_periods': 4, 'model_name': 'xgboost', 'model': XGBClassifier(base_score=None, booster='gbtree', callbacks=None,\n",
      "              colsample_bylevel=None, colsample_bynode=None, colsample_bytree=1,\n",
      "              device=None, early_stopping_rounds=None, enable_categorical=False,\n",
      "              eta=0.3, eval_metric='rmse', feature_types=None, gamma=None,\n",
      "              grow_policy=None, importance_type=None,\n",
      "              interaction_constraints=None, learning_rate=None, max_bin=None,\n",
      "              max_cat_threshold=None, max_cat_to_onehot=None,\n",
      "              max_delta_step=None, max_depth=9, max_leaves=None,\n",
      "              min_child_weight=1, missing=nan, monotone_constraints=None,\n",
      "              multi_strategy=None, n_estimators=200, n_jobs=-1,\n",
      "              num_parallel_tree=None, ...), 'forecast_frequency': 'daily', 'company': 'google', 'model_hyperparameters': {'n_estimators': 200, 'n_jobs': -1, 'max_depth': 9, 'eta': 0.3, 'booster': 'gbtree', 'objective': 'reg:squarederror', 'eval_metric': 'rmse', 'subsample': 1, 'colsample_bytree': 1, 'min_child_weight': 1, 'random_state': 2}, 'problem': 'classification'} \n",
      "\n",
      "(2368, 9) (2368, 1)\n",
      "xgboost\n"
     ]
    },
    {
     "name": "stderr",
     "output_type": "stream",
     "text": [
      "100%|██████████████████████████████████████████████████████████████████████████████████| 38/38 [00:24<00:00,  1.53it/s]\n"
     ]
    },
    {
     "name": "stdout",
     "output_type": "stream",
     "text": [
      "xgboost == {'unique_uuid': '986e6739-20c0-11ef-aa66-c0e434d84b22', 'train_start': datetime.datetime(2015, 1, 1, 0, 0), 'train_end': datetime.datetime(2023, 12, 29, 0, 0), 'test_start': datetime.datetime(2024, 1, 2, 0, 0), 'test_end': datetime.datetime(2024, 2, 8, 0, 0), 'target_column': 'growth', 'train_features': ['open', 'close_max_3_days', 'close_min_3_days', 'close_mean_3_days', '1_USD_to_EUR_lag_1', '1_EUR_to_USD_lag_1', '1_UAH_to_USD_lag_1', '1_USD_to_UAH_lag_1', '1_EUR_to_UAH_lag_1', '1_UAH_to_EUR_lag_1'], 'path_to_result': '/diploma_info/datalake/', 'forecast_periods': 4, 'model_name': 'xgboost', 'model': XGBClassifier(base_score=None, booster='gbtree', callbacks=None,\n",
      "              colsample_bylevel=None, colsample_bynode=None, colsample_bytree=1,\n",
      "              device=None, early_stopping_rounds=None, enable_categorical=False,\n",
      "              eta=0.3, eval_metric='rmse', feature_types=None, gamma=None,\n",
      "              grow_policy=None, importance_type=None,\n",
      "              interaction_constraints=None, learning_rate=None, max_bin=None,\n",
      "              max_cat_threshold=None, max_cat_to_onehot=None,\n",
      "              max_delta_step=None, max_depth=9, max_leaves=None,\n",
      "              min_child_weight=1, missing=nan, monotone_constraints=None,\n",
      "              multi_strategy=None, n_estimators=200, n_jobs=-1,\n",
      "              num_parallel_tree=None, ...), 'forecast_frequency': 'daily', 'company': 'google', 'model_hyperparameters': {'n_estimators': 200, 'n_jobs': -1, 'max_depth': 9, 'eta': 0.3, 'booster': 'gbtree', 'objective': 'reg:squarederror', 'eval_metric': 'rmse', 'subsample': 1, 'colsample_bytree': 1, 'min_child_weight': 1, 'random_state': 2}, 'problem': 'classification'} \n",
      "\n",
      "(2368, 10) (2368, 1)\n",
      "xgboost\n"
     ]
    },
    {
     "name": "stderr",
     "output_type": "stream",
     "text": [
      "100%|██████████████████████████████████████████████████████████████████████████████████| 38/38 [00:19<00:00,  1.91it/s]\n"
     ]
    },
    {
     "name": "stdout",
     "output_type": "stream",
     "text": [
      "xgboost == {'unique_uuid': '986e673a-20c0-11ef-9686-c0e434d84b22', 'train_start': datetime.datetime(2015, 1, 1, 0, 0), 'train_end': datetime.datetime(2023, 12, 29, 0, 0), 'test_start': datetime.datetime(2024, 1, 2, 0, 0), 'test_end': datetime.datetime(2024, 2, 8, 0, 0), 'target_column': 'growth', 'train_features': ['open', 'year', 'month', 'day', 'day_of_week', 'week_of_year', '1_USD_to_EUR_lag_1', '1_EUR_to_USD_lag_1', '1_UAH_to_USD_lag_1', '1_USD_to_UAH_lag_1', '1_EUR_to_UAH_lag_1', '1_UAH_to_EUR_lag_1'], 'path_to_result': '/diploma_info/datalake/', 'forecast_periods': 4, 'model_name': 'xgboost', 'model': XGBClassifier(base_score=None, booster='gbtree', callbacks=None,\n",
      "              colsample_bylevel=None, colsample_bynode=None, colsample_bytree=1,\n",
      "              device=None, early_stopping_rounds=None, enable_categorical=False,\n",
      "              eta=0.3, eval_metric='rmse', feature_types=None, gamma=None,\n",
      "              grow_policy=None, importance_type=None,\n",
      "              interaction_constraints=None, learning_rate=None, max_bin=None,\n",
      "              max_cat_threshold=None, max_cat_to_onehot=None,\n",
      "              max_delta_step=None, max_depth=9, max_leaves=None,\n",
      "              min_child_weight=1, missing=nan, monotone_constraints=None,\n",
      "              multi_strategy=None, n_estimators=200, n_jobs=-1,\n",
      "              num_parallel_tree=None, ...), 'forecast_frequency': 'daily', 'company': 'google', 'model_hyperparameters': {'n_estimators': 200, 'n_jobs': -1, 'max_depth': 9, 'eta': 0.3, 'booster': 'gbtree', 'objective': 'reg:squarederror', 'eval_metric': 'rmse', 'subsample': 1, 'colsample_bytree': 1, 'min_child_weight': 1, 'random_state': 2}, 'problem': 'classification'} \n",
      "\n",
      "(2368, 12) (2368, 1)\n",
      "xgboost\n"
     ]
    },
    {
     "name": "stderr",
     "output_type": "stream",
     "text": [
      "100%|██████████████████████████████████████████████████████████████████████████████████| 38/38 [00:23<00:00,  1.60it/s]\n"
     ]
    },
    {
     "name": "stdout",
     "output_type": "stream",
     "text": [
      "lightgbm == {'unique_uuid': '986e673b-20c0-11ef-9d58-c0e434d84b22', 'train_start': datetime.datetime(2015, 1, 1, 0, 0), 'train_end': datetime.datetime(2023, 12, 29, 0, 0), 'test_start': datetime.datetime(2024, 1, 2, 0, 0), 'test_end': datetime.datetime(2024, 2, 8, 0, 0), 'target_column': 'growth', 'train_features': ['open', 'volume_lag_1', 'usa_inflation_%', '1_USD_to_EUR_lag_1', '1_EUR_to_USD_lag_1', '1_UAH_to_USD_lag_1', '1_USD_to_UAH_lag_1', '1_EUR_to_UAH_lag_1', '1_UAH_to_EUR_lag_1'], 'path_to_result': '/diploma_info/datalake/', 'forecast_periods': 4, 'model_name': 'lightgbm', 'model': LGBMClassifier(eta=0.3, max_depth=7, metric='binary', n_estimators=10,\n",
      "               n_jobs=-1, objective='binary', random_state=2, verbosity=-1), 'forecast_frequency': 'daily', 'company': 'google', 'model_hyperparameters': {'n_estimators': 10, 'n_jobs': -1, 'max_depth': 7, 'eta': 0.3, 'random_state': 2, 'objective': 'binary', 'verbosity': -1, 'metric': 'binary'}, 'problem': 'classification'} \n",
      "\n",
      "(2368, 9) (2368, 1)\n",
      "lightgbm\n"
     ]
    },
    {
     "name": "stderr",
     "output_type": "stream",
     "text": [
      "100%|██████████████████████████████████████████████████████████████████████████████████| 38/38 [00:01<00:00, 32.06it/s]\n"
     ]
    },
    {
     "name": "stdout",
     "output_type": "stream",
     "text": [
      "lightgbm == {'unique_uuid': '986e673c-20c0-11ef-b3c9-c0e434d84b22', 'train_start': datetime.datetime(2015, 1, 1, 0, 0), 'train_end': datetime.datetime(2023, 12, 29, 0, 0), 'test_start': datetime.datetime(2024, 1, 2, 0, 0), 'test_end': datetime.datetime(2024, 2, 8, 0, 0), 'target_column': 'growth', 'train_features': ['open', 'close_max_3_days', 'close_min_3_days', 'close_mean_3_days', '1_USD_to_EUR_lag_1', '1_EUR_to_USD_lag_1', '1_UAH_to_USD_lag_1', '1_USD_to_UAH_lag_1', '1_EUR_to_UAH_lag_1', '1_UAH_to_EUR_lag_1'], 'path_to_result': '/diploma_info/datalake/', 'forecast_periods': 4, 'model_name': 'lightgbm', 'model': LGBMClassifier(eta=0.3, max_depth=7, metric='binary', n_estimators=10,\n",
      "               n_jobs=-1, objective='binary', random_state=2, verbosity=-1), 'forecast_frequency': 'daily', 'company': 'google', 'model_hyperparameters': {'n_estimators': 10, 'n_jobs': -1, 'max_depth': 7, 'eta': 0.3, 'random_state': 2, 'objective': 'binary', 'verbosity': -1, 'metric': 'binary'}, 'problem': 'classification'} \n",
      "\n",
      "(2368, 10) (2368, 1)\n",
      "lightgbm\n"
     ]
    },
    {
     "name": "stderr",
     "output_type": "stream",
     "text": [
      "100%|██████████████████████████████████████████████████████████████████████████████████| 38/38 [00:01<00:00, 30.22it/s]\n"
     ]
    },
    {
     "name": "stdout",
     "output_type": "stream",
     "text": [
      "lightgbm == {'unique_uuid': '986e673d-20c0-11ef-adcf-c0e434d84b22', 'train_start': datetime.datetime(2015, 1, 1, 0, 0), 'train_end': datetime.datetime(2023, 12, 29, 0, 0), 'test_start': datetime.datetime(2024, 1, 2, 0, 0), 'test_end': datetime.datetime(2024, 2, 8, 0, 0), 'target_column': 'growth', 'train_features': ['open', 'year', 'month', 'day', 'day_of_week', 'week_of_year', '1_USD_to_EUR_lag_1', '1_EUR_to_USD_lag_1', '1_UAH_to_USD_lag_1', '1_USD_to_UAH_lag_1', '1_EUR_to_UAH_lag_1', '1_UAH_to_EUR_lag_1'], 'path_to_result': '/diploma_info/datalake/', 'forecast_periods': 4, 'model_name': 'lightgbm', 'model': LGBMClassifier(eta=0.3, max_depth=7, metric='binary', n_estimators=10,\n",
      "               n_jobs=-1, objective='binary', random_state=2, verbosity=-1), 'forecast_frequency': 'daily', 'company': 'google', 'model_hyperparameters': {'n_estimators': 10, 'n_jobs': -1, 'max_depth': 7, 'eta': 0.3, 'random_state': 2, 'objective': 'binary', 'verbosity': -1, 'metric': 'binary'}, 'problem': 'classification'} \n",
      "\n",
      "(2368, 12) (2368, 1)\n",
      "lightgbm\n"
     ]
    },
    {
     "name": "stderr",
     "output_type": "stream",
     "text": [
      "100%|██████████████████████████████████████████████████████████████████████████████████| 38/38 [00:01<00:00, 31.75it/s]\n"
     ]
    },
    {
     "name": "stdout",
     "output_type": "stream",
     "text": [
      "lightgbm == {'unique_uuid': '986e673e-20c0-11ef-b8ea-c0e434d84b22', 'train_start': datetime.datetime(2015, 1, 1, 0, 0), 'train_end': datetime.datetime(2023, 12, 29, 0, 0), 'test_start': datetime.datetime(2024, 1, 2, 0, 0), 'test_end': datetime.datetime(2024, 2, 8, 0, 0), 'target_column': 'growth', 'train_features': ['open', 'volume_lag_1', 'usa_inflation_%', '1_USD_to_EUR_lag_1', '1_EUR_to_USD_lag_1', '1_UAH_to_USD_lag_1', '1_USD_to_UAH_lag_1', '1_EUR_to_UAH_lag_1', '1_UAH_to_EUR_lag_1'], 'path_to_result': '/diploma_info/datalake/', 'forecast_periods': 4, 'model_name': 'lightgbm', 'model': LGBMClassifier(eta=0.3, max_depth=9, metric='binary', n_estimators=10,\n",
      "               n_jobs=-1, objective='binary', random_state=2, verbosity=-1), 'forecast_frequency': 'daily', 'company': 'google', 'model_hyperparameters': {'n_estimators': 10, 'n_jobs': -1, 'max_depth': 9, 'eta': 0.3, 'random_state': 2, 'objective': 'binary', 'verbosity': -1, 'metric': 'binary'}, 'problem': 'classification'} \n",
      "\n",
      "(2368, 9) (2368, 1)\n",
      "lightgbm\n"
     ]
    },
    {
     "name": "stderr",
     "output_type": "stream",
     "text": [
      "100%|██████████████████████████████████████████████████████████████████████████████████| 38/38 [00:01<00:00, 30.79it/s]\n"
     ]
    },
    {
     "name": "stdout",
     "output_type": "stream",
     "text": [
      "lightgbm == {'unique_uuid': '986e673f-20c0-11ef-babf-c0e434d84b22', 'train_start': datetime.datetime(2015, 1, 1, 0, 0), 'train_end': datetime.datetime(2023, 12, 29, 0, 0), 'test_start': datetime.datetime(2024, 1, 2, 0, 0), 'test_end': datetime.datetime(2024, 2, 8, 0, 0), 'target_column': 'growth', 'train_features': ['open', 'close_max_3_days', 'close_min_3_days', 'close_mean_3_days', '1_USD_to_EUR_lag_1', '1_EUR_to_USD_lag_1', '1_UAH_to_USD_lag_1', '1_USD_to_UAH_lag_1', '1_EUR_to_UAH_lag_1', '1_UAH_to_EUR_lag_1'], 'path_to_result': '/diploma_info/datalake/', 'forecast_periods': 4, 'model_name': 'lightgbm', 'model': LGBMClassifier(eta=0.3, max_depth=9, metric='binary', n_estimators=10,\n",
      "               n_jobs=-1, objective='binary', random_state=2, verbosity=-1), 'forecast_frequency': 'daily', 'company': 'google', 'model_hyperparameters': {'n_estimators': 10, 'n_jobs': -1, 'max_depth': 9, 'eta': 0.3, 'random_state': 2, 'objective': 'binary', 'verbosity': -1, 'metric': 'binary'}, 'problem': 'classification'} \n",
      "\n",
      "(2368, 10) (2368, 1)\n",
      "lightgbm\n"
     ]
    },
    {
     "name": "stderr",
     "output_type": "stream",
     "text": [
      "100%|██████████████████████████████████████████████████████████████████████████████████| 38/38 [00:01<00:00, 28.41it/s]\n"
     ]
    },
    {
     "name": "stdout",
     "output_type": "stream",
     "text": [
      "lightgbm == {'unique_uuid': '986e6740-20c0-11ef-8233-c0e434d84b22', 'train_start': datetime.datetime(2015, 1, 1, 0, 0), 'train_end': datetime.datetime(2023, 12, 29, 0, 0), 'test_start': datetime.datetime(2024, 1, 2, 0, 0), 'test_end': datetime.datetime(2024, 2, 8, 0, 0), 'target_column': 'growth', 'train_features': ['open', 'year', 'month', 'day', 'day_of_week', 'week_of_year', '1_USD_to_EUR_lag_1', '1_EUR_to_USD_lag_1', '1_UAH_to_USD_lag_1', '1_USD_to_UAH_lag_1', '1_EUR_to_UAH_lag_1', '1_UAH_to_EUR_lag_1'], 'path_to_result': '/diploma_info/datalake/', 'forecast_periods': 4, 'model_name': 'lightgbm', 'model': LGBMClassifier(eta=0.3, max_depth=9, metric='binary', n_estimators=10,\n",
      "               n_jobs=-1, objective='binary', random_state=2, verbosity=-1), 'forecast_frequency': 'daily', 'company': 'google', 'model_hyperparameters': {'n_estimators': 10, 'n_jobs': -1, 'max_depth': 9, 'eta': 0.3, 'random_state': 2, 'objective': 'binary', 'verbosity': -1, 'metric': 'binary'}, 'problem': 'classification'} \n",
      "\n",
      "(2368, 12) (2368, 1)\n",
      "lightgbm\n"
     ]
    },
    {
     "name": "stderr",
     "output_type": "stream",
     "text": [
      "100%|██████████████████████████████████████████████████████████████████████████████████| 38/38 [00:01<00:00, 29.83it/s]\n"
     ]
    },
    {
     "name": "stdout",
     "output_type": "stream",
     "text": [
      "random_forest == {'unique_uuid': '986e6741-20c0-11ef-879d-c0e434d84b22', 'train_start': datetime.datetime(2015, 1, 1, 0, 0), 'train_end': datetime.datetime(2023, 12, 29, 0, 0), 'test_start': datetime.datetime(2024, 1, 2, 0, 0), 'test_end': datetime.datetime(2024, 2, 8, 0, 0), 'target_column': 'growth', 'train_features': ['open', 'volume_lag_1', 'usa_inflation_%', '1_USD_to_EUR_lag_1', '1_EUR_to_USD_lag_1', '1_UAH_to_USD_lag_1', '1_USD_to_UAH_lag_1', '1_EUR_to_UAH_lag_1', '1_UAH_to_EUR_lag_1'], 'path_to_result': '/diploma_info/datalake/', 'forecast_periods': 4, 'model_name': 'random_forest', 'model': RandomForestClassifier(max_depth=9, n_estimators=10, n_jobs=-1, random_state=2), 'forecast_frequency': 'daily', 'company': 'google', 'model_hyperparameters': {'n_estimators': 10, 'n_jobs': -1, 'random_state': 2, 'max_depth': 9}, 'problem': 'classification'} \n",
      "\n",
      "(2368, 9) (2368, 1)\n",
      "random_forest\n"
     ]
    },
    {
     "name": "stderr",
     "output_type": "stream",
     "text": [
      "100%|██████████████████████████████████████████████████████████████████████████████████| 38/38 [00:02<00:00, 13.08it/s]\n"
     ]
    },
    {
     "name": "stdout",
     "output_type": "stream",
     "text": [
      "random_forest == {'unique_uuid': '986e6742-20c0-11ef-a74c-c0e434d84b22', 'train_start': datetime.datetime(2015, 1, 1, 0, 0), 'train_end': datetime.datetime(2023, 12, 29, 0, 0), 'test_start': datetime.datetime(2024, 1, 2, 0, 0), 'test_end': datetime.datetime(2024, 2, 8, 0, 0), 'target_column': 'growth', 'train_features': ['open', 'close_max_3_days', 'close_min_3_days', 'close_mean_3_days', '1_USD_to_EUR_lag_1', '1_EUR_to_USD_lag_1', '1_UAH_to_USD_lag_1', '1_USD_to_UAH_lag_1', '1_EUR_to_UAH_lag_1', '1_UAH_to_EUR_lag_1'], 'path_to_result': '/diploma_info/datalake/', 'forecast_periods': 4, 'model_name': 'random_forest', 'model': RandomForestClassifier(max_depth=9, n_estimators=10, n_jobs=-1, random_state=2), 'forecast_frequency': 'daily', 'company': 'google', 'model_hyperparameters': {'n_estimators': 10, 'n_jobs': -1, 'random_state': 2, 'max_depth': 9}, 'problem': 'classification'} \n",
      "\n",
      "(2368, 10) (2368, 1)\n",
      "random_forest\n"
     ]
    },
    {
     "name": "stderr",
     "output_type": "stream",
     "text": [
      "100%|██████████████████████████████████████████████████████████████████████████████████| 38/38 [00:02<00:00, 13.07it/s]\n"
     ]
    },
    {
     "name": "stdout",
     "output_type": "stream",
     "text": [
      "random_forest == {'unique_uuid': '986e6743-20c0-11ef-aa09-c0e434d84b22', 'train_start': datetime.datetime(2015, 1, 1, 0, 0), 'train_end': datetime.datetime(2023, 12, 29, 0, 0), 'test_start': datetime.datetime(2024, 1, 2, 0, 0), 'test_end': datetime.datetime(2024, 2, 8, 0, 0), 'target_column': 'growth', 'train_features': ['open', 'year', 'month', 'day', 'day_of_week', 'week_of_year', '1_USD_to_EUR_lag_1', '1_EUR_to_USD_lag_1', '1_UAH_to_USD_lag_1', '1_USD_to_UAH_lag_1', '1_EUR_to_UAH_lag_1', '1_UAH_to_EUR_lag_1'], 'path_to_result': '/diploma_info/datalake/', 'forecast_periods': 4, 'model_name': 'random_forest', 'model': RandomForestClassifier(max_depth=9, n_estimators=10, n_jobs=-1, random_state=2), 'forecast_frequency': 'daily', 'company': 'google', 'model_hyperparameters': {'n_estimators': 10, 'n_jobs': -1, 'random_state': 2, 'max_depth': 9}, 'problem': 'classification'} \n",
      "\n",
      "(2368, 12) (2368, 1)\n",
      "random_forest\n"
     ]
    },
    {
     "name": "stderr",
     "output_type": "stream",
     "text": [
      "100%|██████████████████████████████████████████████████████████████████████████████████| 38/38 [00:02<00:00, 13.81it/s]\n"
     ]
    },
    {
     "name": "stdout",
     "output_type": "stream",
     "text": [
      "random_forest == {'unique_uuid': '986e6744-20c0-11ef-b281-c0e434d84b22', 'train_start': datetime.datetime(2015, 1, 1, 0, 0), 'train_end': datetime.datetime(2023, 12, 29, 0, 0), 'test_start': datetime.datetime(2024, 1, 2, 0, 0), 'test_end': datetime.datetime(2024, 2, 8, 0, 0), 'target_column': 'growth', 'train_features': ['open', 'volume_lag_1', 'usa_inflation_%', '1_USD_to_EUR_lag_1', '1_EUR_to_USD_lag_1', '1_UAH_to_USD_lag_1', '1_USD_to_UAH_lag_1', '1_EUR_to_UAH_lag_1', '1_UAH_to_EUR_lag_1'], 'path_to_result': '/diploma_info/datalake/', 'forecast_periods': 4, 'model_name': 'random_forest', 'model': RandomForestClassifier(max_depth=9, n_estimators=200, n_jobs=-1, random_state=2), 'forecast_frequency': 'daily', 'company': 'google', 'model_hyperparameters': {'n_estimators': 200, 'n_jobs': -1, 'random_state': 2, 'max_depth': 9}, 'problem': 'classification'} \n",
      "\n",
      "(2368, 9) (2368, 1)\n",
      "random_forest\n"
     ]
    },
    {
     "name": "stderr",
     "output_type": "stream",
     "text": [
      "100%|██████████████████████████████████████████████████████████████████████████████████| 38/38 [00:19<00:00,  1.96it/s]\n"
     ]
    },
    {
     "name": "stdout",
     "output_type": "stream",
     "text": [
      "random_forest == {'unique_uuid': '986e6745-20c0-11ef-9386-c0e434d84b22', 'train_start': datetime.datetime(2015, 1, 1, 0, 0), 'train_end': datetime.datetime(2023, 12, 29, 0, 0), 'test_start': datetime.datetime(2024, 1, 2, 0, 0), 'test_end': datetime.datetime(2024, 2, 8, 0, 0), 'target_column': 'growth', 'train_features': ['open', 'close_max_3_days', 'close_min_3_days', 'close_mean_3_days', '1_USD_to_EUR_lag_1', '1_EUR_to_USD_lag_1', '1_UAH_to_USD_lag_1', '1_USD_to_UAH_lag_1', '1_EUR_to_UAH_lag_1', '1_UAH_to_EUR_lag_1'], 'path_to_result': '/diploma_info/datalake/', 'forecast_periods': 4, 'model_name': 'random_forest', 'model': RandomForestClassifier(max_depth=9, n_estimators=200, n_jobs=-1, random_state=2), 'forecast_frequency': 'daily', 'company': 'google', 'model_hyperparameters': {'n_estimators': 200, 'n_jobs': -1, 'random_state': 2, 'max_depth': 9}, 'problem': 'classification'} \n",
      "\n",
      "(2368, 10) (2368, 1)\n",
      "random_forest\n"
     ]
    },
    {
     "name": "stderr",
     "output_type": "stream",
     "text": [
      "100%|██████████████████████████████████████████████████████████████████████████████████| 38/38 [00:18<00:00,  2.04it/s]\n"
     ]
    },
    {
     "name": "stdout",
     "output_type": "stream",
     "text": [
      "random_forest == {'unique_uuid': '986e6746-20c0-11ef-a49e-c0e434d84b22', 'train_start': datetime.datetime(2015, 1, 1, 0, 0), 'train_end': datetime.datetime(2023, 12, 29, 0, 0), 'test_start': datetime.datetime(2024, 1, 2, 0, 0), 'test_end': datetime.datetime(2024, 2, 8, 0, 0), 'target_column': 'growth', 'train_features': ['open', 'year', 'month', 'day', 'day_of_week', 'week_of_year', '1_USD_to_EUR_lag_1', '1_EUR_to_USD_lag_1', '1_UAH_to_USD_lag_1', '1_USD_to_UAH_lag_1', '1_EUR_to_UAH_lag_1', '1_UAH_to_EUR_lag_1'], 'path_to_result': '/diploma_info/datalake/', 'forecast_periods': 4, 'model_name': 'random_forest', 'model': RandomForestClassifier(max_depth=9, n_estimators=200, n_jobs=-1, random_state=2), 'forecast_frequency': 'daily', 'company': 'google', 'model_hyperparameters': {'n_estimators': 200, 'n_jobs': -1, 'random_state': 2, 'max_depth': 9}, 'problem': 'classification'} \n",
      "\n",
      "(2368, 12) (2368, 1)\n",
      "random_forest\n"
     ]
    },
    {
     "name": "stderr",
     "output_type": "stream",
     "text": [
      "100%|██████████████████████████████████████████████████████████████████████████████████| 38/38 [00:18<00:00,  2.10it/s]\n"
     ]
    },
    {
     "name": "stdout",
     "output_type": "stream",
     "text": [
      "knear_neighbors == {'unique_uuid': '986e6747-20c0-11ef-b4c4-c0e434d84b22', 'train_start': datetime.datetime(2015, 1, 1, 0, 0), 'train_end': datetime.datetime(2023, 12, 29, 0, 0), 'test_start': datetime.datetime(2024, 1, 2, 0, 0), 'test_end': datetime.datetime(2024, 2, 8, 0, 0), 'target_column': 'growth', 'train_features': ['open', 'volume_lag_1', 'usa_inflation_%', '1_USD_to_EUR_lag_1', '1_EUR_to_USD_lag_1', '1_UAH_to_USD_lag_1', '1_USD_to_UAH_lag_1', '1_EUR_to_UAH_lag_1', '1_UAH_to_EUR_lag_1'], 'path_to_result': '/diploma_info/datalake/', 'forecast_periods': 4, 'model_name': 'knear_neighbors', 'model': KNeighborsClassifier(n_jobs=-1, n_neighbors=3), 'forecast_frequency': 'daily', 'company': 'google', 'model_hyperparameters': {'n_neighbors': 3, 'n_jobs': -1}, 'problem': 'classification'} \n",
      "\n",
      "(2368, 9) (2368, 1)\n",
      "knear_neighbors\n"
     ]
    },
    {
     "name": "stderr",
     "output_type": "stream",
     "text": [
      "100%|██████████████████████████████████████████████████████████████████████████████████| 38/38 [00:01<00:00, 27.46it/s]\n"
     ]
    },
    {
     "name": "stdout",
     "output_type": "stream",
     "text": [
      "knear_neighbors == {'unique_uuid': '986e6748-20c0-11ef-9dac-c0e434d84b22', 'train_start': datetime.datetime(2015, 1, 1, 0, 0), 'train_end': datetime.datetime(2023, 12, 29, 0, 0), 'test_start': datetime.datetime(2024, 1, 2, 0, 0), 'test_end': datetime.datetime(2024, 2, 8, 0, 0), 'target_column': 'growth', 'train_features': ['open', 'close_max_3_days', 'close_min_3_days', 'close_mean_3_days', '1_USD_to_EUR_lag_1', '1_EUR_to_USD_lag_1', '1_UAH_to_USD_lag_1', '1_USD_to_UAH_lag_1', '1_EUR_to_UAH_lag_1', '1_UAH_to_EUR_lag_1'], 'path_to_result': '/diploma_info/datalake/', 'forecast_periods': 4, 'model_name': 'knear_neighbors', 'model': KNeighborsClassifier(n_jobs=-1, n_neighbors=3), 'forecast_frequency': 'daily', 'company': 'google', 'model_hyperparameters': {'n_neighbors': 3, 'n_jobs': -1}, 'problem': 'classification'} \n",
      "\n",
      "(2368, 10) (2368, 1)\n",
      "knear_neighbors\n"
     ]
    },
    {
     "name": "stderr",
     "output_type": "stream",
     "text": [
      "100%|██████████████████████████████████████████████████████████████████████████████████| 38/38 [00:01<00:00, 25.91it/s]\n"
     ]
    },
    {
     "name": "stdout",
     "output_type": "stream",
     "text": [
      "knear_neighbors == {'unique_uuid': '986e6749-20c0-11ef-9041-c0e434d84b22', 'train_start': datetime.datetime(2015, 1, 1, 0, 0), 'train_end': datetime.datetime(2023, 12, 29, 0, 0), 'test_start': datetime.datetime(2024, 1, 2, 0, 0), 'test_end': datetime.datetime(2024, 2, 8, 0, 0), 'target_column': 'growth', 'train_features': ['open', 'year', 'month', 'day', 'day_of_week', 'week_of_year', '1_USD_to_EUR_lag_1', '1_EUR_to_USD_lag_1', '1_UAH_to_USD_lag_1', '1_USD_to_UAH_lag_1', '1_EUR_to_UAH_lag_1', '1_UAH_to_EUR_lag_1'], 'path_to_result': '/diploma_info/datalake/', 'forecast_periods': 4, 'model_name': 'knear_neighbors', 'model': KNeighborsClassifier(n_jobs=-1, n_neighbors=3), 'forecast_frequency': 'daily', 'company': 'google', 'model_hyperparameters': {'n_neighbors': 3, 'n_jobs': -1}, 'problem': 'classification'} \n",
      "\n",
      "(2368, 12) (2368, 1)\n",
      "knear_neighbors\n"
     ]
    },
    {
     "name": "stderr",
     "output_type": "stream",
     "text": [
      "100%|██████████████████████████████████████████████████████████████████████████████████| 38/38 [00:01<00:00, 26.76it/s]\n"
     ]
    },
    {
     "name": "stdout",
     "output_type": "stream",
     "text": [
      "knear_neighbors == {'unique_uuid': '986e674a-20c0-11ef-9a8c-c0e434d84b22', 'train_start': datetime.datetime(2015, 1, 1, 0, 0), 'train_end': datetime.datetime(2023, 12, 29, 0, 0), 'test_start': datetime.datetime(2024, 1, 2, 0, 0), 'test_end': datetime.datetime(2024, 2, 8, 0, 0), 'target_column': 'growth', 'train_features': ['open', 'volume_lag_1', 'usa_inflation_%', '1_USD_to_EUR_lag_1', '1_EUR_to_USD_lag_1', '1_UAH_to_USD_lag_1', '1_USD_to_UAH_lag_1', '1_EUR_to_UAH_lag_1', '1_UAH_to_EUR_lag_1'], 'path_to_result': '/diploma_info/datalake/', 'forecast_periods': 4, 'model_name': 'knear_neighbors', 'model': KNeighborsClassifier(n_jobs=-1), 'forecast_frequency': 'daily', 'company': 'google', 'model_hyperparameters': {'n_neighbors': 5, 'n_jobs': -1}, 'problem': 'classification'} \n",
      "\n",
      "(2368, 9) (2368, 1)\n",
      "knear_neighbors\n"
     ]
    },
    {
     "name": "stderr",
     "output_type": "stream",
     "text": [
      "100%|██████████████████████████████████████████████████████████████████████████████████| 38/38 [00:01<00:00, 27.22it/s]\n"
     ]
    },
    {
     "name": "stdout",
     "output_type": "stream",
     "text": [
      "knear_neighbors == {'unique_uuid': '986e674b-20c0-11ef-a11e-c0e434d84b22', 'train_start': datetime.datetime(2015, 1, 1, 0, 0), 'train_end': datetime.datetime(2023, 12, 29, 0, 0), 'test_start': datetime.datetime(2024, 1, 2, 0, 0), 'test_end': datetime.datetime(2024, 2, 8, 0, 0), 'target_column': 'growth', 'train_features': ['open', 'close_max_3_days', 'close_min_3_days', 'close_mean_3_days', '1_USD_to_EUR_lag_1', '1_EUR_to_USD_lag_1', '1_UAH_to_USD_lag_1', '1_USD_to_UAH_lag_1', '1_EUR_to_UAH_lag_1', '1_UAH_to_EUR_lag_1'], 'path_to_result': '/diploma_info/datalake/', 'forecast_periods': 4, 'model_name': 'knear_neighbors', 'model': KNeighborsClassifier(n_jobs=-1), 'forecast_frequency': 'daily', 'company': 'google', 'model_hyperparameters': {'n_neighbors': 5, 'n_jobs': -1}, 'problem': 'classification'} \n",
      "\n",
      "(2368, 10) (2368, 1)\n",
      "knear_neighbors\n"
     ]
    },
    {
     "name": "stderr",
     "output_type": "stream",
     "text": [
      "100%|██████████████████████████████████████████████████████████████████████████████████| 38/38 [00:01<00:00, 25.19it/s]\n"
     ]
    },
    {
     "name": "stdout",
     "output_type": "stream",
     "text": [
      "knear_neighbors == {'unique_uuid': '986e674c-20c0-11ef-bd72-c0e434d84b22', 'train_start': datetime.datetime(2015, 1, 1, 0, 0), 'train_end': datetime.datetime(2023, 12, 29, 0, 0), 'test_start': datetime.datetime(2024, 1, 2, 0, 0), 'test_end': datetime.datetime(2024, 2, 8, 0, 0), 'target_column': 'growth', 'train_features': ['open', 'year', 'month', 'day', 'day_of_week', 'week_of_year', '1_USD_to_EUR_lag_1', '1_EUR_to_USD_lag_1', '1_UAH_to_USD_lag_1', '1_USD_to_UAH_lag_1', '1_EUR_to_UAH_lag_1', '1_UAH_to_EUR_lag_1'], 'path_to_result': '/diploma_info/datalake/', 'forecast_periods': 4, 'model_name': 'knear_neighbors', 'model': KNeighborsClassifier(n_jobs=-1), 'forecast_frequency': 'daily', 'company': 'google', 'model_hyperparameters': {'n_neighbors': 5, 'n_jobs': -1}, 'problem': 'classification'} \n",
      "\n",
      "(2368, 12) (2368, 1)\n",
      "knear_neighbors\n"
     ]
    },
    {
     "name": "stderr",
     "output_type": "stream",
     "text": [
      "100%|██████████████████████████████████████████████████████████████████████████████████| 38/38 [00:01<00:00, 26.22it/s]\n"
     ]
    },
    {
     "name": "stdout",
     "output_type": "stream",
     "text": [
      "xgboost == {'unique_uuid': '986e674d-20c0-11ef-ab64-c0e434d84b22', 'train_start': datetime.datetime(2020, 1, 1, 0, 0), 'train_end': datetime.datetime(2023, 12, 29, 0, 0), 'test_start': datetime.datetime(2024, 1, 2, 0, 0), 'test_end': datetime.datetime(2024, 2, 8, 0, 0), 'target_column': 'growth', 'train_features': ['open', 'volume_lag_1', 'usa_inflation_%', '1_USD_to_EUR_lag_1', '1_EUR_to_USD_lag_1', '1_UAH_to_USD_lag_1', '1_USD_to_UAH_lag_1', '1_EUR_to_UAH_lag_1', '1_UAH_to_EUR_lag_1'], 'path_to_result': '/diploma_info/datalake/', 'forecast_periods': 4, 'model_name': 'xgboost', 'model': XGBClassifier(base_score=None, booster='gbtree', callbacks=None,\n",
      "              colsample_bylevel=None, colsample_bynode=None, colsample_bytree=1,\n",
      "              device=None, early_stopping_rounds=None, enable_categorical=False,\n",
      "              eta=0.3, eval_metric='rmse', feature_types=None, gamma=None,\n",
      "              grow_policy=None, importance_type=None,\n",
      "              interaction_constraints=None, learning_rate=None, max_bin=None,\n",
      "              max_cat_threshold=None, max_cat_to_onehot=None,\n",
      "              max_delta_step=None, max_depth=7, max_leaves=None,\n",
      "              min_child_weight=1, missing=nan, monotone_constraints=None,\n",
      "              multi_strategy=None, n_estimators=10, n_jobs=-1,\n",
      "              num_parallel_tree=None, ...), 'forecast_frequency': 'daily', 'company': 'google', 'model_hyperparameters': {'n_estimators': 10, 'n_jobs': -1, 'max_depth': 7, 'eta': 0.3, 'booster': 'gbtree', 'objective': 'reg:squarederror', 'eval_metric': 'rmse', 'subsample': 1, 'colsample_bytree': 1, 'min_child_weight': 1, 'random_state': 2}, 'problem': 'classification'} \n",
      "\n",
      "(2368, 9) (2368, 1)\n",
      "xgboost\n"
     ]
    },
    {
     "name": "stderr",
     "output_type": "stream",
     "text": [
      "100%|██████████████████████████████████████████████████████████████████████████████████| 38/38 [00:01<00:00, 26.17it/s]\n"
     ]
    },
    {
     "name": "stdout",
     "output_type": "stream",
     "text": [
      "xgboost == {'unique_uuid': '986e674e-20c0-11ef-94a7-c0e434d84b22', 'train_start': datetime.datetime(2020, 1, 1, 0, 0), 'train_end': datetime.datetime(2023, 12, 29, 0, 0), 'test_start': datetime.datetime(2024, 1, 2, 0, 0), 'test_end': datetime.datetime(2024, 2, 8, 0, 0), 'target_column': 'growth', 'train_features': ['open', 'close_max_3_days', 'close_min_3_days', 'close_mean_3_days', '1_USD_to_EUR_lag_1', '1_EUR_to_USD_lag_1', '1_UAH_to_USD_lag_1', '1_USD_to_UAH_lag_1', '1_EUR_to_UAH_lag_1', '1_UAH_to_EUR_lag_1'], 'path_to_result': '/diploma_info/datalake/', 'forecast_periods': 4, 'model_name': 'xgboost', 'model': XGBClassifier(base_score=None, booster='gbtree', callbacks=None,\n",
      "              colsample_bylevel=None, colsample_bynode=None, colsample_bytree=1,\n",
      "              device=None, early_stopping_rounds=None, enable_categorical=False,\n",
      "              eta=0.3, eval_metric='rmse', feature_types=None, gamma=None,\n",
      "              grow_policy=None, importance_type=None,\n",
      "              interaction_constraints=None, learning_rate=None, max_bin=None,\n",
      "              max_cat_threshold=None, max_cat_to_onehot=None,\n",
      "              max_delta_step=None, max_depth=7, max_leaves=None,\n",
      "              min_child_weight=1, missing=nan, monotone_constraints=None,\n",
      "              multi_strategy=None, n_estimators=10, n_jobs=-1,\n",
      "              num_parallel_tree=None, ...), 'forecast_frequency': 'daily', 'company': 'google', 'model_hyperparameters': {'n_estimators': 10, 'n_jobs': -1, 'max_depth': 7, 'eta': 0.3, 'booster': 'gbtree', 'objective': 'reg:squarederror', 'eval_metric': 'rmse', 'subsample': 1, 'colsample_bytree': 1, 'min_child_weight': 1, 'random_state': 2}, 'problem': 'classification'} \n",
      "\n",
      "(2368, 10) (2368, 1)\n",
      "xgboost\n"
     ]
    },
    {
     "name": "stderr",
     "output_type": "stream",
     "text": [
      "100%|██████████████████████████████████████████████████████████████████████████████████| 38/38 [00:01<00:00, 23.50it/s]\n"
     ]
    },
    {
     "name": "stdout",
     "output_type": "stream",
     "text": [
      "xgboost == {'unique_uuid': '986e674f-20c0-11ef-b313-c0e434d84b22', 'train_start': datetime.datetime(2020, 1, 1, 0, 0), 'train_end': datetime.datetime(2023, 12, 29, 0, 0), 'test_start': datetime.datetime(2024, 1, 2, 0, 0), 'test_end': datetime.datetime(2024, 2, 8, 0, 0), 'target_column': 'growth', 'train_features': ['open', 'year', 'month', 'day', 'day_of_week', 'week_of_year', '1_USD_to_EUR_lag_1', '1_EUR_to_USD_lag_1', '1_UAH_to_USD_lag_1', '1_USD_to_UAH_lag_1', '1_EUR_to_UAH_lag_1', '1_UAH_to_EUR_lag_1'], 'path_to_result': '/diploma_info/datalake/', 'forecast_periods': 4, 'model_name': 'xgboost', 'model': XGBClassifier(base_score=None, booster='gbtree', callbacks=None,\n",
      "              colsample_bylevel=None, colsample_bynode=None, colsample_bytree=1,\n",
      "              device=None, early_stopping_rounds=None, enable_categorical=False,\n",
      "              eta=0.3, eval_metric='rmse', feature_types=None, gamma=None,\n",
      "              grow_policy=None, importance_type=None,\n",
      "              interaction_constraints=None, learning_rate=None, max_bin=None,\n",
      "              max_cat_threshold=None, max_cat_to_onehot=None,\n",
      "              max_delta_step=None, max_depth=7, max_leaves=None,\n",
      "              min_child_weight=1, missing=nan, monotone_constraints=None,\n",
      "              multi_strategy=None, n_estimators=10, n_jobs=-1,\n",
      "              num_parallel_tree=None, ...), 'forecast_frequency': 'daily', 'company': 'google', 'model_hyperparameters': {'n_estimators': 10, 'n_jobs': -1, 'max_depth': 7, 'eta': 0.3, 'booster': 'gbtree', 'objective': 'reg:squarederror', 'eval_metric': 'rmse', 'subsample': 1, 'colsample_bytree': 1, 'min_child_weight': 1, 'random_state': 2}, 'problem': 'classification'} \n",
      "\n",
      "(2368, 12) (2368, 1)\n",
      "xgboost\n"
     ]
    },
    {
     "name": "stderr",
     "output_type": "stream",
     "text": [
      "100%|██████████████████████████████████████████████████████████████████████████████████| 38/38 [00:01<00:00, 24.90it/s]\n"
     ]
    },
    {
     "name": "stdout",
     "output_type": "stream",
     "text": [
      "xgboost == {'unique_uuid': '986e6750-20c0-11ef-8305-c0e434d84b22', 'train_start': datetime.datetime(2020, 1, 1, 0, 0), 'train_end': datetime.datetime(2023, 12, 29, 0, 0), 'test_start': datetime.datetime(2024, 1, 2, 0, 0), 'test_end': datetime.datetime(2024, 2, 8, 0, 0), 'target_column': 'growth', 'train_features': ['open', 'volume_lag_1', 'usa_inflation_%', '1_USD_to_EUR_lag_1', '1_EUR_to_USD_lag_1', '1_UAH_to_USD_lag_1', '1_USD_to_UAH_lag_1', '1_EUR_to_UAH_lag_1', '1_UAH_to_EUR_lag_1'], 'path_to_result': '/diploma_info/datalake/', 'forecast_periods': 4, 'model_name': 'xgboost', 'model': XGBClassifier(base_score=None, booster='gbtree', callbacks=None,\n",
      "              colsample_bylevel=None, colsample_bynode=None, colsample_bytree=1,\n",
      "              device=None, early_stopping_rounds=None, enable_categorical=False,\n",
      "              eta=0.3, eval_metric='rmse', feature_types=None, gamma=None,\n",
      "              grow_policy=None, importance_type=None,\n",
      "              interaction_constraints=None, learning_rate=None, max_bin=None,\n",
      "              max_cat_threshold=None, max_cat_to_onehot=None,\n",
      "              max_delta_step=None, max_depth=7, max_leaves=None,\n",
      "              min_child_weight=1, missing=nan, monotone_constraints=None,\n",
      "              multi_strategy=None, n_estimators=200, n_jobs=-1,\n",
      "              num_parallel_tree=None, ...), 'forecast_frequency': 'daily', 'company': 'google', 'model_hyperparameters': {'n_estimators': 200, 'n_jobs': -1, 'max_depth': 7, 'eta': 0.3, 'booster': 'gbtree', 'objective': 'reg:squarederror', 'eval_metric': 'rmse', 'subsample': 1, 'colsample_bytree': 1, 'min_child_weight': 1, 'random_state': 2}, 'problem': 'classification'} \n",
      "\n",
      "(2368, 9) (2368, 1)\n",
      "xgboost\n"
     ]
    },
    {
     "name": "stderr",
     "output_type": "stream",
     "text": [
      "100%|██████████████████████████████████████████████████████████████████████████████████| 38/38 [00:10<00:00,  3.70it/s]\n"
     ]
    },
    {
     "name": "stdout",
     "output_type": "stream",
     "text": [
      "xgboost == {'unique_uuid': '986e6751-20c0-11ef-819e-c0e434d84b22', 'train_start': datetime.datetime(2020, 1, 1, 0, 0), 'train_end': datetime.datetime(2023, 12, 29, 0, 0), 'test_start': datetime.datetime(2024, 1, 2, 0, 0), 'test_end': datetime.datetime(2024, 2, 8, 0, 0), 'target_column': 'growth', 'train_features': ['open', 'close_max_3_days', 'close_min_3_days', 'close_mean_3_days', '1_USD_to_EUR_lag_1', '1_EUR_to_USD_lag_1', '1_UAH_to_USD_lag_1', '1_USD_to_UAH_lag_1', '1_EUR_to_UAH_lag_1', '1_UAH_to_EUR_lag_1'], 'path_to_result': '/diploma_info/datalake/', 'forecast_periods': 4, 'model_name': 'xgboost', 'model': XGBClassifier(base_score=None, booster='gbtree', callbacks=None,\n",
      "              colsample_bylevel=None, colsample_bynode=None, colsample_bytree=1,\n",
      "              device=None, early_stopping_rounds=None, enable_categorical=False,\n",
      "              eta=0.3, eval_metric='rmse', feature_types=None, gamma=None,\n",
      "              grow_policy=None, importance_type=None,\n",
      "              interaction_constraints=None, learning_rate=None, max_bin=None,\n",
      "              max_cat_threshold=None, max_cat_to_onehot=None,\n",
      "              max_delta_step=None, max_depth=7, max_leaves=None,\n",
      "              min_child_weight=1, missing=nan, monotone_constraints=None,\n",
      "              multi_strategy=None, n_estimators=200, n_jobs=-1,\n",
      "              num_parallel_tree=None, ...), 'forecast_frequency': 'daily', 'company': 'google', 'model_hyperparameters': {'n_estimators': 200, 'n_jobs': -1, 'max_depth': 7, 'eta': 0.3, 'booster': 'gbtree', 'objective': 'reg:squarederror', 'eval_metric': 'rmse', 'subsample': 1, 'colsample_bytree': 1, 'min_child_weight': 1, 'random_state': 2}, 'problem': 'classification'} \n",
      "\n",
      "(2368, 10) (2368, 1)\n",
      "xgboost\n"
     ]
    },
    {
     "name": "stderr",
     "output_type": "stream",
     "text": [
      "100%|██████████████████████████████████████████████████████████████████████████████████| 38/38 [00:09<00:00,  3.86it/s]\n"
     ]
    },
    {
     "name": "stdout",
     "output_type": "stream",
     "text": [
      "xgboost == {'unique_uuid': '986e6752-20c0-11ef-9b4e-c0e434d84b22', 'train_start': datetime.datetime(2020, 1, 1, 0, 0), 'train_end': datetime.datetime(2023, 12, 29, 0, 0), 'test_start': datetime.datetime(2024, 1, 2, 0, 0), 'test_end': datetime.datetime(2024, 2, 8, 0, 0), 'target_column': 'growth', 'train_features': ['open', 'year', 'month', 'day', 'day_of_week', 'week_of_year', '1_USD_to_EUR_lag_1', '1_EUR_to_USD_lag_1', '1_UAH_to_USD_lag_1', '1_USD_to_UAH_lag_1', '1_EUR_to_UAH_lag_1', '1_UAH_to_EUR_lag_1'], 'path_to_result': '/diploma_info/datalake/', 'forecast_periods': 4, 'model_name': 'xgboost', 'model': XGBClassifier(base_score=None, booster='gbtree', callbacks=None,\n",
      "              colsample_bylevel=None, colsample_bynode=None, colsample_bytree=1,\n",
      "              device=None, early_stopping_rounds=None, enable_categorical=False,\n",
      "              eta=0.3, eval_metric='rmse', feature_types=None, gamma=None,\n",
      "              grow_policy=None, importance_type=None,\n",
      "              interaction_constraints=None, learning_rate=None, max_bin=None,\n",
      "              max_cat_threshold=None, max_cat_to_onehot=None,\n",
      "              max_delta_step=None, max_depth=7, max_leaves=None,\n",
      "              min_child_weight=1, missing=nan, monotone_constraints=None,\n",
      "              multi_strategy=None, n_estimators=200, n_jobs=-1,\n",
      "              num_parallel_tree=None, ...), 'forecast_frequency': 'daily', 'company': 'google', 'model_hyperparameters': {'n_estimators': 200, 'n_jobs': -1, 'max_depth': 7, 'eta': 0.3, 'booster': 'gbtree', 'objective': 'reg:squarederror', 'eval_metric': 'rmse', 'subsample': 1, 'colsample_bytree': 1, 'min_child_weight': 1, 'random_state': 2}, 'problem': 'classification'} \n",
      "\n",
      "(2368, 12) (2368, 1)\n",
      "xgboost\n"
     ]
    },
    {
     "name": "stderr",
     "output_type": "stream",
     "text": [
      "100%|██████████████████████████████████████████████████████████████████████████████████| 38/38 [00:10<00:00,  3.58it/s]\n"
     ]
    },
    {
     "name": "stdout",
     "output_type": "stream",
     "text": [
      "xgboost == {'unique_uuid': '986e6753-20c0-11ef-8ded-c0e434d84b22', 'train_start': datetime.datetime(2020, 1, 1, 0, 0), 'train_end': datetime.datetime(2023, 12, 29, 0, 0), 'test_start': datetime.datetime(2024, 1, 2, 0, 0), 'test_end': datetime.datetime(2024, 2, 8, 0, 0), 'target_column': 'growth', 'train_features': ['open', 'volume_lag_1', 'usa_inflation_%', '1_USD_to_EUR_lag_1', '1_EUR_to_USD_lag_1', '1_UAH_to_USD_lag_1', '1_USD_to_UAH_lag_1', '1_EUR_to_UAH_lag_1', '1_UAH_to_EUR_lag_1'], 'path_to_result': '/diploma_info/datalake/', 'forecast_periods': 4, 'model_name': 'xgboost', 'model': XGBClassifier(base_score=None, booster='gbtree', callbacks=None,\n",
      "              colsample_bylevel=None, colsample_bynode=None, colsample_bytree=1,\n",
      "              device=None, early_stopping_rounds=None, enable_categorical=False,\n",
      "              eta=0.3, eval_metric='rmse', feature_types=None, gamma=None,\n",
      "              grow_policy=None, importance_type=None,\n",
      "              interaction_constraints=None, learning_rate=None, max_bin=None,\n",
      "              max_cat_threshold=None, max_cat_to_onehot=None,\n",
      "              max_delta_step=None, max_depth=9, max_leaves=None,\n",
      "              min_child_weight=1, missing=nan, monotone_constraints=None,\n",
      "              multi_strategy=None, n_estimators=10, n_jobs=-1,\n",
      "              num_parallel_tree=None, ...), 'forecast_frequency': 'daily', 'company': 'google', 'model_hyperparameters': {'n_estimators': 10, 'n_jobs': -1, 'max_depth': 9, 'eta': 0.3, 'booster': 'gbtree', 'objective': 'reg:squarederror', 'eval_metric': 'rmse', 'subsample': 1, 'colsample_bytree': 1, 'min_child_weight': 1, 'random_state': 2}, 'problem': 'classification'} \n",
      "\n",
      "(2368, 9) (2368, 1)\n",
      "xgboost\n"
     ]
    },
    {
     "name": "stderr",
     "output_type": "stream",
     "text": [
      "100%|██████████████████████████████████████████████████████████████████████████████████| 38/38 [00:01<00:00, 19.79it/s]\n"
     ]
    },
    {
     "name": "stdout",
     "output_type": "stream",
     "text": [
      "xgboost == {'unique_uuid': '986e6754-20c0-11ef-9177-c0e434d84b22', 'train_start': datetime.datetime(2020, 1, 1, 0, 0), 'train_end': datetime.datetime(2023, 12, 29, 0, 0), 'test_start': datetime.datetime(2024, 1, 2, 0, 0), 'test_end': datetime.datetime(2024, 2, 8, 0, 0), 'target_column': 'growth', 'train_features': ['open', 'close_max_3_days', 'close_min_3_days', 'close_mean_3_days', '1_USD_to_EUR_lag_1', '1_EUR_to_USD_lag_1', '1_UAH_to_USD_lag_1', '1_USD_to_UAH_lag_1', '1_EUR_to_UAH_lag_1', '1_UAH_to_EUR_lag_1'], 'path_to_result': '/diploma_info/datalake/', 'forecast_periods': 4, 'model_name': 'xgboost', 'model': XGBClassifier(base_score=None, booster='gbtree', callbacks=None,\n",
      "              colsample_bylevel=None, colsample_bynode=None, colsample_bytree=1,\n",
      "              device=None, early_stopping_rounds=None, enable_categorical=False,\n",
      "              eta=0.3, eval_metric='rmse', feature_types=None, gamma=None,\n",
      "              grow_policy=None, importance_type=None,\n",
      "              interaction_constraints=None, learning_rate=None, max_bin=None,\n",
      "              max_cat_threshold=None, max_cat_to_onehot=None,\n",
      "              max_delta_step=None, max_depth=9, max_leaves=None,\n",
      "              min_child_weight=1, missing=nan, monotone_constraints=None,\n",
      "              multi_strategy=None, n_estimators=10, n_jobs=-1,\n",
      "              num_parallel_tree=None, ...), 'forecast_frequency': 'daily', 'company': 'google', 'model_hyperparameters': {'n_estimators': 10, 'n_jobs': -1, 'max_depth': 9, 'eta': 0.3, 'booster': 'gbtree', 'objective': 'reg:squarederror', 'eval_metric': 'rmse', 'subsample': 1, 'colsample_bytree': 1, 'min_child_weight': 1, 'random_state': 2}, 'problem': 'classification'} \n",
      "\n",
      "(2368, 10) (2368, 1)\n",
      "xgboost\n"
     ]
    },
    {
     "name": "stderr",
     "output_type": "stream",
     "text": [
      "100%|██████████████████████████████████████████████████████████████████████████████████| 38/38 [00:01<00:00, 20.82it/s]\n"
     ]
    },
    {
     "name": "stdout",
     "output_type": "stream",
     "text": [
      "xgboost == {'unique_uuid': '986e6755-20c0-11ef-8add-c0e434d84b22', 'train_start': datetime.datetime(2020, 1, 1, 0, 0), 'train_end': datetime.datetime(2023, 12, 29, 0, 0), 'test_start': datetime.datetime(2024, 1, 2, 0, 0), 'test_end': datetime.datetime(2024, 2, 8, 0, 0), 'target_column': 'growth', 'train_features': ['open', 'year', 'month', 'day', 'day_of_week', 'week_of_year', '1_USD_to_EUR_lag_1', '1_EUR_to_USD_lag_1', '1_UAH_to_USD_lag_1', '1_USD_to_UAH_lag_1', '1_EUR_to_UAH_lag_1', '1_UAH_to_EUR_lag_1'], 'path_to_result': '/diploma_info/datalake/', 'forecast_periods': 4, 'model_name': 'xgboost', 'model': XGBClassifier(base_score=None, booster='gbtree', callbacks=None,\n",
      "              colsample_bylevel=None, colsample_bynode=None, colsample_bytree=1,\n",
      "              device=None, early_stopping_rounds=None, enable_categorical=False,\n",
      "              eta=0.3, eval_metric='rmse', feature_types=None, gamma=None,\n",
      "              grow_policy=None, importance_type=None,\n",
      "              interaction_constraints=None, learning_rate=None, max_bin=None,\n",
      "              max_cat_threshold=None, max_cat_to_onehot=None,\n",
      "              max_delta_step=None, max_depth=9, max_leaves=None,\n",
      "              min_child_weight=1, missing=nan, monotone_constraints=None,\n",
      "              multi_strategy=None, n_estimators=10, n_jobs=-1,\n",
      "              num_parallel_tree=None, ...), 'forecast_frequency': 'daily', 'company': 'google', 'model_hyperparameters': {'n_estimators': 10, 'n_jobs': -1, 'max_depth': 9, 'eta': 0.3, 'booster': 'gbtree', 'objective': 'reg:squarederror', 'eval_metric': 'rmse', 'subsample': 1, 'colsample_bytree': 1, 'min_child_weight': 1, 'random_state': 2}, 'problem': 'classification'} \n",
      "\n",
      "(2368, 12) (2368, 1)\n",
      "xgboost\n"
     ]
    },
    {
     "name": "stderr",
     "output_type": "stream",
     "text": [
      "100%|██████████████████████████████████████████████████████████████████████████████████| 38/38 [00:02<00:00, 16.49it/s]\n"
     ]
    },
    {
     "name": "stdout",
     "output_type": "stream",
     "text": [
      "xgboost == {'unique_uuid': '986e6756-20c0-11ef-a646-c0e434d84b22', 'train_start': datetime.datetime(2020, 1, 1, 0, 0), 'train_end': datetime.datetime(2023, 12, 29, 0, 0), 'test_start': datetime.datetime(2024, 1, 2, 0, 0), 'test_end': datetime.datetime(2024, 2, 8, 0, 0), 'target_column': 'growth', 'train_features': ['open', 'volume_lag_1', 'usa_inflation_%', '1_USD_to_EUR_lag_1', '1_EUR_to_USD_lag_1', '1_UAH_to_USD_lag_1', '1_USD_to_UAH_lag_1', '1_EUR_to_UAH_lag_1', '1_UAH_to_EUR_lag_1'], 'path_to_result': '/diploma_info/datalake/', 'forecast_periods': 4, 'model_name': 'xgboost', 'model': XGBClassifier(base_score=None, booster='gbtree', callbacks=None,\n",
      "              colsample_bylevel=None, colsample_bynode=None, colsample_bytree=1,\n",
      "              device=None, early_stopping_rounds=None, enable_categorical=False,\n",
      "              eta=0.3, eval_metric='rmse', feature_types=None, gamma=None,\n",
      "              grow_policy=None, importance_type=None,\n",
      "              interaction_constraints=None, learning_rate=None, max_bin=None,\n",
      "              max_cat_threshold=None, max_cat_to_onehot=None,\n",
      "              max_delta_step=None, max_depth=9, max_leaves=None,\n",
      "              min_child_weight=1, missing=nan, monotone_constraints=None,\n",
      "              multi_strategy=None, n_estimators=200, n_jobs=-1,\n",
      "              num_parallel_tree=None, ...), 'forecast_frequency': 'daily', 'company': 'google', 'model_hyperparameters': {'n_estimators': 200, 'n_jobs': -1, 'max_depth': 9, 'eta': 0.3, 'booster': 'gbtree', 'objective': 'reg:squarederror', 'eval_metric': 'rmse', 'subsample': 1, 'colsample_bytree': 1, 'min_child_weight': 1, 'random_state': 2}, 'problem': 'classification'} \n",
      "\n",
      "(2368, 9) (2368, 1)\n",
      "xgboost\n"
     ]
    },
    {
     "name": "stderr",
     "output_type": "stream",
     "text": [
      "100%|██████████████████████████████████████████████████████████████████████████████████| 38/38 [00:13<00:00,  2.79it/s]\n"
     ]
    },
    {
     "name": "stdout",
     "output_type": "stream",
     "text": [
      "xgboost == {'unique_uuid': '986e6757-20c0-11ef-b6fa-c0e434d84b22', 'train_start': datetime.datetime(2020, 1, 1, 0, 0), 'train_end': datetime.datetime(2023, 12, 29, 0, 0), 'test_start': datetime.datetime(2024, 1, 2, 0, 0), 'test_end': datetime.datetime(2024, 2, 8, 0, 0), 'target_column': 'growth', 'train_features': ['open', 'close_max_3_days', 'close_min_3_days', 'close_mean_3_days', '1_USD_to_EUR_lag_1', '1_EUR_to_USD_lag_1', '1_UAH_to_USD_lag_1', '1_USD_to_UAH_lag_1', '1_EUR_to_UAH_lag_1', '1_UAH_to_EUR_lag_1'], 'path_to_result': '/diploma_info/datalake/', 'forecast_periods': 4, 'model_name': 'xgboost', 'model': XGBClassifier(base_score=None, booster='gbtree', callbacks=None,\n",
      "              colsample_bylevel=None, colsample_bynode=None, colsample_bytree=1,\n",
      "              device=None, early_stopping_rounds=None, enable_categorical=False,\n",
      "              eta=0.3, eval_metric='rmse', feature_types=None, gamma=None,\n",
      "              grow_policy=None, importance_type=None,\n",
      "              interaction_constraints=None, learning_rate=None, max_bin=None,\n",
      "              max_cat_threshold=None, max_cat_to_onehot=None,\n",
      "              max_delta_step=None, max_depth=9, max_leaves=None,\n",
      "              min_child_weight=1, missing=nan, monotone_constraints=None,\n",
      "              multi_strategy=None, n_estimators=200, n_jobs=-1,\n",
      "              num_parallel_tree=None, ...), 'forecast_frequency': 'daily', 'company': 'google', 'model_hyperparameters': {'n_estimators': 200, 'n_jobs': -1, 'max_depth': 9, 'eta': 0.3, 'booster': 'gbtree', 'objective': 'reg:squarederror', 'eval_metric': 'rmse', 'subsample': 1, 'colsample_bytree': 1, 'min_child_weight': 1, 'random_state': 2}, 'problem': 'classification'} \n",
      "\n",
      "(2368, 10) (2368, 1)\n",
      "xgboost\n"
     ]
    },
    {
     "name": "stderr",
     "output_type": "stream",
     "text": [
      "100%|██████████████████████████████████████████████████████████████████████████████████| 38/38 [00:14<00:00,  2.66it/s]\n"
     ]
    },
    {
     "name": "stdout",
     "output_type": "stream",
     "text": [
      "xgboost == {'unique_uuid': '986e6758-20c0-11ef-bf41-c0e434d84b22', 'train_start': datetime.datetime(2020, 1, 1, 0, 0), 'train_end': datetime.datetime(2023, 12, 29, 0, 0), 'test_start': datetime.datetime(2024, 1, 2, 0, 0), 'test_end': datetime.datetime(2024, 2, 8, 0, 0), 'target_column': 'growth', 'train_features': ['open', 'year', 'month', 'day', 'day_of_week', 'week_of_year', '1_USD_to_EUR_lag_1', '1_EUR_to_USD_lag_1', '1_UAH_to_USD_lag_1', '1_USD_to_UAH_lag_1', '1_EUR_to_UAH_lag_1', '1_UAH_to_EUR_lag_1'], 'path_to_result': '/diploma_info/datalake/', 'forecast_periods': 4, 'model_name': 'xgboost', 'model': XGBClassifier(base_score=None, booster='gbtree', callbacks=None,\n",
      "              colsample_bylevel=None, colsample_bynode=None, colsample_bytree=1,\n",
      "              device=None, early_stopping_rounds=None, enable_categorical=False,\n",
      "              eta=0.3, eval_metric='rmse', feature_types=None, gamma=None,\n",
      "              grow_policy=None, importance_type=None,\n",
      "              interaction_constraints=None, learning_rate=None, max_bin=None,\n",
      "              max_cat_threshold=None, max_cat_to_onehot=None,\n",
      "              max_delta_step=None, max_depth=9, max_leaves=None,\n",
      "              min_child_weight=1, missing=nan, monotone_constraints=None,\n",
      "              multi_strategy=None, n_estimators=200, n_jobs=-1,\n",
      "              num_parallel_tree=None, ...), 'forecast_frequency': 'daily', 'company': 'google', 'model_hyperparameters': {'n_estimators': 200, 'n_jobs': -1, 'max_depth': 9, 'eta': 0.3, 'booster': 'gbtree', 'objective': 'reg:squarederror', 'eval_metric': 'rmse', 'subsample': 1, 'colsample_bytree': 1, 'min_child_weight': 1, 'random_state': 2}, 'problem': 'classification'} \n",
      "\n",
      "(2368, 12) (2368, 1)\n",
      "xgboost\n"
     ]
    },
    {
     "name": "stderr",
     "output_type": "stream",
     "text": [
      "100%|██████████████████████████████████████████████████████████████████████████████████| 38/38 [00:12<00:00,  2.96it/s]\n"
     ]
    },
    {
     "name": "stdout",
     "output_type": "stream",
     "text": [
      "lightgbm == {'unique_uuid': '986e6759-20c0-11ef-ab46-c0e434d84b22', 'train_start': datetime.datetime(2020, 1, 1, 0, 0), 'train_end': datetime.datetime(2023, 12, 29, 0, 0), 'test_start': datetime.datetime(2024, 1, 2, 0, 0), 'test_end': datetime.datetime(2024, 2, 8, 0, 0), 'target_column': 'growth', 'train_features': ['open', 'volume_lag_1', 'usa_inflation_%', '1_USD_to_EUR_lag_1', '1_EUR_to_USD_lag_1', '1_UAH_to_USD_lag_1', '1_USD_to_UAH_lag_1', '1_EUR_to_UAH_lag_1', '1_UAH_to_EUR_lag_1'], 'path_to_result': '/diploma_info/datalake/', 'forecast_periods': 4, 'model_name': 'lightgbm', 'model': LGBMClassifier(eta=0.3, max_depth=7, metric='binary', n_estimators=10,\n",
      "               n_jobs=-1, objective='binary', random_state=2, verbosity=-1), 'forecast_frequency': 'daily', 'company': 'google', 'model_hyperparameters': {'n_estimators': 10, 'n_jobs': -1, 'max_depth': 7, 'eta': 0.3, 'random_state': 2, 'objective': 'binary', 'verbosity': -1, 'metric': 'binary'}, 'problem': 'classification'} \n",
      "\n",
      "(2368, 9) (2368, 1)\n",
      "lightgbm\n"
     ]
    },
    {
     "name": "stderr",
     "output_type": "stream",
     "text": [
      "100%|██████████████████████████████████████████████████████████████████████████████████| 38/38 [00:01<00:00, 31.98it/s]\n"
     ]
    },
    {
     "name": "stdout",
     "output_type": "stream",
     "text": [
      "lightgbm == {'unique_uuid': '986e675a-20c0-11ef-a77e-c0e434d84b22', 'train_start': datetime.datetime(2020, 1, 1, 0, 0), 'train_end': datetime.datetime(2023, 12, 29, 0, 0), 'test_start': datetime.datetime(2024, 1, 2, 0, 0), 'test_end': datetime.datetime(2024, 2, 8, 0, 0), 'target_column': 'growth', 'train_features': ['open', 'close_max_3_days', 'close_min_3_days', 'close_mean_3_days', '1_USD_to_EUR_lag_1', '1_EUR_to_USD_lag_1', '1_UAH_to_USD_lag_1', '1_USD_to_UAH_lag_1', '1_EUR_to_UAH_lag_1', '1_UAH_to_EUR_lag_1'], 'path_to_result': '/diploma_info/datalake/', 'forecast_periods': 4, 'model_name': 'lightgbm', 'model': LGBMClassifier(eta=0.3, max_depth=7, metric='binary', n_estimators=10,\n",
      "               n_jobs=-1, objective='binary', random_state=2, verbosity=-1), 'forecast_frequency': 'daily', 'company': 'google', 'model_hyperparameters': {'n_estimators': 10, 'n_jobs': -1, 'max_depth': 7, 'eta': 0.3, 'random_state': 2, 'objective': 'binary', 'verbosity': -1, 'metric': 'binary'}, 'problem': 'classification'} \n",
      "\n",
      "(2368, 10) (2368, 1)\n",
      "lightgbm\n"
     ]
    },
    {
     "name": "stderr",
     "output_type": "stream",
     "text": [
      "100%|██████████████████████████████████████████████████████████████████████████████████| 38/38 [00:01<00:00, 36.42it/s]\n"
     ]
    },
    {
     "name": "stdout",
     "output_type": "stream",
     "text": [
      "lightgbm == {'unique_uuid': '986e675b-20c0-11ef-a592-c0e434d84b22', 'train_start': datetime.datetime(2020, 1, 1, 0, 0), 'train_end': datetime.datetime(2023, 12, 29, 0, 0), 'test_start': datetime.datetime(2024, 1, 2, 0, 0), 'test_end': datetime.datetime(2024, 2, 8, 0, 0), 'target_column': 'growth', 'train_features': ['open', 'year', 'month', 'day', 'day_of_week', 'week_of_year', '1_USD_to_EUR_lag_1', '1_EUR_to_USD_lag_1', '1_UAH_to_USD_lag_1', '1_USD_to_UAH_lag_1', '1_EUR_to_UAH_lag_1', '1_UAH_to_EUR_lag_1'], 'path_to_result': '/diploma_info/datalake/', 'forecast_periods': 4, 'model_name': 'lightgbm', 'model': LGBMClassifier(eta=0.3, max_depth=7, metric='binary', n_estimators=10,\n",
      "               n_jobs=-1, objective='binary', random_state=2, verbosity=-1), 'forecast_frequency': 'daily', 'company': 'google', 'model_hyperparameters': {'n_estimators': 10, 'n_jobs': -1, 'max_depth': 7, 'eta': 0.3, 'random_state': 2, 'objective': 'binary', 'verbosity': -1, 'metric': 'binary'}, 'problem': 'classification'} \n",
      "\n",
      "(2368, 12) (2368, 1)\n",
      "lightgbm\n"
     ]
    },
    {
     "name": "stderr",
     "output_type": "stream",
     "text": [
      "100%|██████████████████████████████████████████████████████████████████████████████████| 38/38 [00:00<00:00, 40.47it/s]\n"
     ]
    },
    {
     "name": "stdout",
     "output_type": "stream",
     "text": [
      "lightgbm == {'unique_uuid': '986e675c-20c0-11ef-8922-c0e434d84b22', 'train_start': datetime.datetime(2020, 1, 1, 0, 0), 'train_end': datetime.datetime(2023, 12, 29, 0, 0), 'test_start': datetime.datetime(2024, 1, 2, 0, 0), 'test_end': datetime.datetime(2024, 2, 8, 0, 0), 'target_column': 'growth', 'train_features': ['open', 'volume_lag_1', 'usa_inflation_%', '1_USD_to_EUR_lag_1', '1_EUR_to_USD_lag_1', '1_UAH_to_USD_lag_1', '1_USD_to_UAH_lag_1', '1_EUR_to_UAH_lag_1', '1_UAH_to_EUR_lag_1'], 'path_to_result': '/diploma_info/datalake/', 'forecast_periods': 4, 'model_name': 'lightgbm', 'model': LGBMClassifier(eta=0.3, max_depth=9, metric='binary', n_estimators=10,\n",
      "               n_jobs=-1, objective='binary', random_state=2, verbosity=-1), 'forecast_frequency': 'daily', 'company': 'google', 'model_hyperparameters': {'n_estimators': 10, 'n_jobs': -1, 'max_depth': 9, 'eta': 0.3, 'random_state': 2, 'objective': 'binary', 'verbosity': -1, 'metric': 'binary'}, 'problem': 'classification'} \n",
      "\n",
      "(2368, 9) (2368, 1)\n",
      "lightgbm\n"
     ]
    },
    {
     "name": "stderr",
     "output_type": "stream",
     "text": [
      "100%|██████████████████████████████████████████████████████████████████████████████████| 38/38 [00:01<00:00, 32.23it/s]\n"
     ]
    },
    {
     "name": "stdout",
     "output_type": "stream",
     "text": [
      "lightgbm == {'unique_uuid': '986e675d-20c0-11ef-ae46-c0e434d84b22', 'train_start': datetime.datetime(2020, 1, 1, 0, 0), 'train_end': datetime.datetime(2023, 12, 29, 0, 0), 'test_start': datetime.datetime(2024, 1, 2, 0, 0), 'test_end': datetime.datetime(2024, 2, 8, 0, 0), 'target_column': 'growth', 'train_features': ['open', 'close_max_3_days', 'close_min_3_days', 'close_mean_3_days', '1_USD_to_EUR_lag_1', '1_EUR_to_USD_lag_1', '1_UAH_to_USD_lag_1', '1_USD_to_UAH_lag_1', '1_EUR_to_UAH_lag_1', '1_UAH_to_EUR_lag_1'], 'path_to_result': '/diploma_info/datalake/', 'forecast_periods': 4, 'model_name': 'lightgbm', 'model': LGBMClassifier(eta=0.3, max_depth=9, metric='binary', n_estimators=10,\n",
      "               n_jobs=-1, objective='binary', random_state=2, verbosity=-1), 'forecast_frequency': 'daily', 'company': 'google', 'model_hyperparameters': {'n_estimators': 10, 'n_jobs': -1, 'max_depth': 9, 'eta': 0.3, 'random_state': 2, 'objective': 'binary', 'verbosity': -1, 'metric': 'binary'}, 'problem': 'classification'} \n",
      "\n",
      "(2368, 10) (2368, 1)\n",
      "lightgbm\n"
     ]
    },
    {
     "name": "stderr",
     "output_type": "stream",
     "text": [
      "100%|██████████████████████████████████████████████████████████████████████████████████| 38/38 [00:01<00:00, 31.14it/s]\n"
     ]
    },
    {
     "name": "stdout",
     "output_type": "stream",
     "text": [
      "lightgbm == {'unique_uuid': '986e675e-20c0-11ef-b5c9-c0e434d84b22', 'train_start': datetime.datetime(2020, 1, 1, 0, 0), 'train_end': datetime.datetime(2023, 12, 29, 0, 0), 'test_start': datetime.datetime(2024, 1, 2, 0, 0), 'test_end': datetime.datetime(2024, 2, 8, 0, 0), 'target_column': 'growth', 'train_features': ['open', 'year', 'month', 'day', 'day_of_week', 'week_of_year', '1_USD_to_EUR_lag_1', '1_EUR_to_USD_lag_1', '1_UAH_to_USD_lag_1', '1_USD_to_UAH_lag_1', '1_EUR_to_UAH_lag_1', '1_UAH_to_EUR_lag_1'], 'path_to_result': '/diploma_info/datalake/', 'forecast_periods': 4, 'model_name': 'lightgbm', 'model': LGBMClassifier(eta=0.3, max_depth=9, metric='binary', n_estimators=10,\n",
      "               n_jobs=-1, objective='binary', random_state=2, verbosity=-1), 'forecast_frequency': 'daily', 'company': 'google', 'model_hyperparameters': {'n_estimators': 10, 'n_jobs': -1, 'max_depth': 9, 'eta': 0.3, 'random_state': 2, 'objective': 'binary', 'verbosity': -1, 'metric': 'binary'}, 'problem': 'classification'} \n",
      "\n",
      "(2368, 12) (2368, 1)\n",
      "lightgbm\n"
     ]
    },
    {
     "name": "stderr",
     "output_type": "stream",
     "text": [
      "100%|██████████████████████████████████████████████████████████████████████████████████| 38/38 [00:01<00:00, 36.52it/s]\n"
     ]
    },
    {
     "name": "stdout",
     "output_type": "stream",
     "text": [
      "random_forest == {'unique_uuid': '986e675f-20c0-11ef-b555-c0e434d84b22', 'train_start': datetime.datetime(2020, 1, 1, 0, 0), 'train_end': datetime.datetime(2023, 12, 29, 0, 0), 'test_start': datetime.datetime(2024, 1, 2, 0, 0), 'test_end': datetime.datetime(2024, 2, 8, 0, 0), 'target_column': 'growth', 'train_features': ['open', 'volume_lag_1', 'usa_inflation_%', '1_USD_to_EUR_lag_1', '1_EUR_to_USD_lag_1', '1_UAH_to_USD_lag_1', '1_USD_to_UAH_lag_1', '1_EUR_to_UAH_lag_1', '1_UAH_to_EUR_lag_1'], 'path_to_result': '/diploma_info/datalake/', 'forecast_periods': 4, 'model_name': 'random_forest', 'model': RandomForestClassifier(max_depth=9, n_estimators=10, n_jobs=-1, random_state=2), 'forecast_frequency': 'daily', 'company': 'google', 'model_hyperparameters': {'n_estimators': 10, 'n_jobs': -1, 'random_state': 2, 'max_depth': 9}, 'problem': 'classification'} \n",
      "\n",
      "(2368, 9) (2368, 1)\n",
      "random_forest\n"
     ]
    },
    {
     "name": "stderr",
     "output_type": "stream",
     "text": [
      "100%|██████████████████████████████████████████████████████████████████████████████████| 38/38 [00:02<00:00, 15.53it/s]\n"
     ]
    },
    {
     "name": "stdout",
     "output_type": "stream",
     "text": [
      "random_forest == {'unique_uuid': '986e6760-20c0-11ef-a127-c0e434d84b22', 'train_start': datetime.datetime(2020, 1, 1, 0, 0), 'train_end': datetime.datetime(2023, 12, 29, 0, 0), 'test_start': datetime.datetime(2024, 1, 2, 0, 0), 'test_end': datetime.datetime(2024, 2, 8, 0, 0), 'target_column': 'growth', 'train_features': ['open', 'close_max_3_days', 'close_min_3_days', 'close_mean_3_days', '1_USD_to_EUR_lag_1', '1_EUR_to_USD_lag_1', '1_UAH_to_USD_lag_1', '1_USD_to_UAH_lag_1', '1_EUR_to_UAH_lag_1', '1_UAH_to_EUR_lag_1'], 'path_to_result': '/diploma_info/datalake/', 'forecast_periods': 4, 'model_name': 'random_forest', 'model': RandomForestClassifier(max_depth=9, n_estimators=10, n_jobs=-1, random_state=2), 'forecast_frequency': 'daily', 'company': 'google', 'model_hyperparameters': {'n_estimators': 10, 'n_jobs': -1, 'random_state': 2, 'max_depth': 9}, 'problem': 'classification'} \n",
      "\n",
      "(2368, 10) (2368, 1)\n",
      "random_forest\n"
     ]
    },
    {
     "name": "stderr",
     "output_type": "stream",
     "text": [
      "100%|██████████████████████████████████████████████████████████████████████████████████| 38/38 [00:02<00:00, 15.25it/s]\n"
     ]
    },
    {
     "name": "stdout",
     "output_type": "stream",
     "text": [
      "random_forest == {'unique_uuid': '986e6761-20c0-11ef-b815-c0e434d84b22', 'train_start': datetime.datetime(2020, 1, 1, 0, 0), 'train_end': datetime.datetime(2023, 12, 29, 0, 0), 'test_start': datetime.datetime(2024, 1, 2, 0, 0), 'test_end': datetime.datetime(2024, 2, 8, 0, 0), 'target_column': 'growth', 'train_features': ['open', 'year', 'month', 'day', 'day_of_week', 'week_of_year', '1_USD_to_EUR_lag_1', '1_EUR_to_USD_lag_1', '1_UAH_to_USD_lag_1', '1_USD_to_UAH_lag_1', '1_EUR_to_UAH_lag_1', '1_UAH_to_EUR_lag_1'], 'path_to_result': '/diploma_info/datalake/', 'forecast_periods': 4, 'model_name': 'random_forest', 'model': RandomForestClassifier(max_depth=9, n_estimators=10, n_jobs=-1, random_state=2), 'forecast_frequency': 'daily', 'company': 'google', 'model_hyperparameters': {'n_estimators': 10, 'n_jobs': -1, 'random_state': 2, 'max_depth': 9}, 'problem': 'classification'} \n",
      "\n",
      "(2368, 12) (2368, 1)\n",
      "random_forest\n"
     ]
    },
    {
     "name": "stderr",
     "output_type": "stream",
     "text": [
      "100%|██████████████████████████████████████████████████████████████████████████████████| 38/38 [00:02<00:00, 15.92it/s]\n"
     ]
    },
    {
     "name": "stdout",
     "output_type": "stream",
     "text": [
      "random_forest == {'unique_uuid': '986e6762-20c0-11ef-804d-c0e434d84b22', 'train_start': datetime.datetime(2020, 1, 1, 0, 0), 'train_end': datetime.datetime(2023, 12, 29, 0, 0), 'test_start': datetime.datetime(2024, 1, 2, 0, 0), 'test_end': datetime.datetime(2024, 2, 8, 0, 0), 'target_column': 'growth', 'train_features': ['open', 'volume_lag_1', 'usa_inflation_%', '1_USD_to_EUR_lag_1', '1_EUR_to_USD_lag_1', '1_UAH_to_USD_lag_1', '1_USD_to_UAH_lag_1', '1_EUR_to_UAH_lag_1', '1_UAH_to_EUR_lag_1'], 'path_to_result': '/diploma_info/datalake/', 'forecast_periods': 4, 'model_name': 'random_forest', 'model': RandomForestClassifier(max_depth=9, n_estimators=200, n_jobs=-1, random_state=2), 'forecast_frequency': 'daily', 'company': 'google', 'model_hyperparameters': {'n_estimators': 200, 'n_jobs': -1, 'random_state': 2, 'max_depth': 9}, 'problem': 'classification'} \n",
      "\n",
      "(2368, 9) (2368, 1)\n",
      "random_forest\n"
     ]
    },
    {
     "name": "stderr",
     "output_type": "stream",
     "text": [
      "100%|██████████████████████████████████████████████████████████████████████████████████| 38/38 [00:15<00:00,  2.40it/s]\n"
     ]
    },
    {
     "name": "stdout",
     "output_type": "stream",
     "text": [
      "random_forest == {'unique_uuid': '986e6763-20c0-11ef-83e4-c0e434d84b22', 'train_start': datetime.datetime(2020, 1, 1, 0, 0), 'train_end': datetime.datetime(2023, 12, 29, 0, 0), 'test_start': datetime.datetime(2024, 1, 2, 0, 0), 'test_end': datetime.datetime(2024, 2, 8, 0, 0), 'target_column': 'growth', 'train_features': ['open', 'close_max_3_days', 'close_min_3_days', 'close_mean_3_days', '1_USD_to_EUR_lag_1', '1_EUR_to_USD_lag_1', '1_UAH_to_USD_lag_1', '1_USD_to_UAH_lag_1', '1_EUR_to_UAH_lag_1', '1_UAH_to_EUR_lag_1'], 'path_to_result': '/diploma_info/datalake/', 'forecast_periods': 4, 'model_name': 'random_forest', 'model': RandomForestClassifier(max_depth=9, n_estimators=200, n_jobs=-1, random_state=2), 'forecast_frequency': 'daily', 'company': 'google', 'model_hyperparameters': {'n_estimators': 200, 'n_jobs': -1, 'random_state': 2, 'max_depth': 9}, 'problem': 'classification'} \n",
      "\n",
      "(2368, 10) (2368, 1)\n",
      "random_forest\n"
     ]
    },
    {
     "name": "stderr",
     "output_type": "stream",
     "text": [
      "100%|██████████████████████████████████████████████████████████████████████████████████| 38/38 [00:15<00:00,  2.38it/s]\n"
     ]
    },
    {
     "name": "stdout",
     "output_type": "stream",
     "text": [
      "random_forest == {'unique_uuid': '986e6764-20c0-11ef-850e-c0e434d84b22', 'train_start': datetime.datetime(2020, 1, 1, 0, 0), 'train_end': datetime.datetime(2023, 12, 29, 0, 0), 'test_start': datetime.datetime(2024, 1, 2, 0, 0), 'test_end': datetime.datetime(2024, 2, 8, 0, 0), 'target_column': 'growth', 'train_features': ['open', 'year', 'month', 'day', 'day_of_week', 'week_of_year', '1_USD_to_EUR_lag_1', '1_EUR_to_USD_lag_1', '1_UAH_to_USD_lag_1', '1_USD_to_UAH_lag_1', '1_EUR_to_UAH_lag_1', '1_UAH_to_EUR_lag_1'], 'path_to_result': '/diploma_info/datalake/', 'forecast_periods': 4, 'model_name': 'random_forest', 'model': RandomForestClassifier(max_depth=9, n_estimators=200, n_jobs=-1, random_state=2), 'forecast_frequency': 'daily', 'company': 'google', 'model_hyperparameters': {'n_estimators': 200, 'n_jobs': -1, 'random_state': 2, 'max_depth': 9}, 'problem': 'classification'} \n",
      "\n",
      "(2368, 12) (2368, 1)\n",
      "random_forest\n"
     ]
    },
    {
     "name": "stderr",
     "output_type": "stream",
     "text": [
      "100%|██████████████████████████████████████████████████████████████████████████████████| 38/38 [00:15<00:00,  2.51it/s]\n"
     ]
    },
    {
     "name": "stdout",
     "output_type": "stream",
     "text": [
      "knear_neighbors == {'unique_uuid': '986e6765-20c0-11ef-9920-c0e434d84b22', 'train_start': datetime.datetime(2020, 1, 1, 0, 0), 'train_end': datetime.datetime(2023, 12, 29, 0, 0), 'test_start': datetime.datetime(2024, 1, 2, 0, 0), 'test_end': datetime.datetime(2024, 2, 8, 0, 0), 'target_column': 'growth', 'train_features': ['open', 'volume_lag_1', 'usa_inflation_%', '1_USD_to_EUR_lag_1', '1_EUR_to_USD_lag_1', '1_UAH_to_USD_lag_1', '1_USD_to_UAH_lag_1', '1_EUR_to_UAH_lag_1', '1_UAH_to_EUR_lag_1'], 'path_to_result': '/diploma_info/datalake/', 'forecast_periods': 4, 'model_name': 'knear_neighbors', 'model': KNeighborsClassifier(n_jobs=-1, n_neighbors=3), 'forecast_frequency': 'daily', 'company': 'google', 'model_hyperparameters': {'n_neighbors': 3, 'n_jobs': -1}, 'problem': 'classification'} \n",
      "\n",
      "(2368, 9) (2368, 1)\n",
      "knear_neighbors\n"
     ]
    },
    {
     "name": "stderr",
     "output_type": "stream",
     "text": [
      "100%|██████████████████████████████████████████████████████████████████████████████████| 38/38 [00:01<00:00, 28.89it/s]\n"
     ]
    },
    {
     "name": "stdout",
     "output_type": "stream",
     "text": [
      "knear_neighbors == {'unique_uuid': '986e6766-20c0-11ef-84e8-c0e434d84b22', 'train_start': datetime.datetime(2020, 1, 1, 0, 0), 'train_end': datetime.datetime(2023, 12, 29, 0, 0), 'test_start': datetime.datetime(2024, 1, 2, 0, 0), 'test_end': datetime.datetime(2024, 2, 8, 0, 0), 'target_column': 'growth', 'train_features': ['open', 'close_max_3_days', 'close_min_3_days', 'close_mean_3_days', '1_USD_to_EUR_lag_1', '1_EUR_to_USD_lag_1', '1_UAH_to_USD_lag_1', '1_USD_to_UAH_lag_1', '1_EUR_to_UAH_lag_1', '1_UAH_to_EUR_lag_1'], 'path_to_result': '/diploma_info/datalake/', 'forecast_periods': 4, 'model_name': 'knear_neighbors', 'model': KNeighborsClassifier(n_jobs=-1, n_neighbors=3), 'forecast_frequency': 'daily', 'company': 'google', 'model_hyperparameters': {'n_neighbors': 3, 'n_jobs': -1}, 'problem': 'classification'} \n",
      "\n",
      "(2368, 10) (2368, 1)\n",
      "knear_neighbors\n"
     ]
    },
    {
     "name": "stderr",
     "output_type": "stream",
     "text": [
      "100%|██████████████████████████████████████████████████████████████████████████████████| 38/38 [00:01<00:00, 27.31it/s]\n"
     ]
    },
    {
     "name": "stdout",
     "output_type": "stream",
     "text": [
      "knear_neighbors == {'unique_uuid': '986e6767-20c0-11ef-af4d-c0e434d84b22', 'train_start': datetime.datetime(2020, 1, 1, 0, 0), 'train_end': datetime.datetime(2023, 12, 29, 0, 0), 'test_start': datetime.datetime(2024, 1, 2, 0, 0), 'test_end': datetime.datetime(2024, 2, 8, 0, 0), 'target_column': 'growth', 'train_features': ['open', 'year', 'month', 'day', 'day_of_week', 'week_of_year', '1_USD_to_EUR_lag_1', '1_EUR_to_USD_lag_1', '1_UAH_to_USD_lag_1', '1_USD_to_UAH_lag_1', '1_EUR_to_UAH_lag_1', '1_UAH_to_EUR_lag_1'], 'path_to_result': '/diploma_info/datalake/', 'forecast_periods': 4, 'model_name': 'knear_neighbors', 'model': KNeighborsClassifier(n_jobs=-1, n_neighbors=3), 'forecast_frequency': 'daily', 'company': 'google', 'model_hyperparameters': {'n_neighbors': 3, 'n_jobs': -1}, 'problem': 'classification'} \n",
      "\n",
      "(2368, 12) (2368, 1)\n",
      "knear_neighbors\n"
     ]
    },
    {
     "name": "stderr",
     "output_type": "stream",
     "text": [
      "100%|██████████████████████████████████████████████████████████████████████████████████| 38/38 [00:01<00:00, 29.19it/s]\n"
     ]
    },
    {
     "name": "stdout",
     "output_type": "stream",
     "text": [
      "knear_neighbors == {'unique_uuid': '986e6768-20c0-11ef-b5c6-c0e434d84b22', 'train_start': datetime.datetime(2020, 1, 1, 0, 0), 'train_end': datetime.datetime(2023, 12, 29, 0, 0), 'test_start': datetime.datetime(2024, 1, 2, 0, 0), 'test_end': datetime.datetime(2024, 2, 8, 0, 0), 'target_column': 'growth', 'train_features': ['open', 'volume_lag_1', 'usa_inflation_%', '1_USD_to_EUR_lag_1', '1_EUR_to_USD_lag_1', '1_UAH_to_USD_lag_1', '1_USD_to_UAH_lag_1', '1_EUR_to_UAH_lag_1', '1_UAH_to_EUR_lag_1'], 'path_to_result': '/diploma_info/datalake/', 'forecast_periods': 4, 'model_name': 'knear_neighbors', 'model': KNeighborsClassifier(n_jobs=-1), 'forecast_frequency': 'daily', 'company': 'google', 'model_hyperparameters': {'n_neighbors': 5, 'n_jobs': -1}, 'problem': 'classification'} \n",
      "\n",
      "(2368, 9) (2368, 1)\n",
      "knear_neighbors\n"
     ]
    },
    {
     "name": "stderr",
     "output_type": "stream",
     "text": [
      "100%|██████████████████████████████████████████████████████████████████████████████████| 38/38 [00:01<00:00, 29.55it/s]\n"
     ]
    },
    {
     "name": "stdout",
     "output_type": "stream",
     "text": [
      "knear_neighbors == {'unique_uuid': '986e6769-20c0-11ef-b7bb-c0e434d84b22', 'train_start': datetime.datetime(2020, 1, 1, 0, 0), 'train_end': datetime.datetime(2023, 12, 29, 0, 0), 'test_start': datetime.datetime(2024, 1, 2, 0, 0), 'test_end': datetime.datetime(2024, 2, 8, 0, 0), 'target_column': 'growth', 'train_features': ['open', 'close_max_3_days', 'close_min_3_days', 'close_mean_3_days', '1_USD_to_EUR_lag_1', '1_EUR_to_USD_lag_1', '1_UAH_to_USD_lag_1', '1_USD_to_UAH_lag_1', '1_EUR_to_UAH_lag_1', '1_UAH_to_EUR_lag_1'], 'path_to_result': '/diploma_info/datalake/', 'forecast_periods': 4, 'model_name': 'knear_neighbors', 'model': KNeighborsClassifier(n_jobs=-1), 'forecast_frequency': 'daily', 'company': 'google', 'model_hyperparameters': {'n_neighbors': 5, 'n_jobs': -1}, 'problem': 'classification'} \n",
      "\n",
      "(2368, 10) (2368, 1)\n",
      "knear_neighbors\n"
     ]
    },
    {
     "name": "stderr",
     "output_type": "stream",
     "text": [
      "100%|██████████████████████████████████████████████████████████████████████████████████| 38/38 [00:01<00:00, 27.77it/s]\n"
     ]
    },
    {
     "name": "stdout",
     "output_type": "stream",
     "text": [
      "knear_neighbors == {'unique_uuid': '986e676a-20c0-11ef-961d-c0e434d84b22', 'train_start': datetime.datetime(2020, 1, 1, 0, 0), 'train_end': datetime.datetime(2023, 12, 29, 0, 0), 'test_start': datetime.datetime(2024, 1, 2, 0, 0), 'test_end': datetime.datetime(2024, 2, 8, 0, 0), 'target_column': 'growth', 'train_features': ['open', 'year', 'month', 'day', 'day_of_week', 'week_of_year', '1_USD_to_EUR_lag_1', '1_EUR_to_USD_lag_1', '1_UAH_to_USD_lag_1', '1_USD_to_UAH_lag_1', '1_EUR_to_UAH_lag_1', '1_UAH_to_EUR_lag_1'], 'path_to_result': '/diploma_info/datalake/', 'forecast_periods': 4, 'model_name': 'knear_neighbors', 'model': KNeighborsClassifier(n_jobs=-1), 'forecast_frequency': 'daily', 'company': 'google', 'model_hyperparameters': {'n_neighbors': 5, 'n_jobs': -1}, 'problem': 'classification'} \n",
      "\n",
      "(2368, 12) (2368, 1)\n",
      "knear_neighbors\n"
     ]
    },
    {
     "name": "stderr",
     "output_type": "stream",
     "text": [
      "100%|██████████████████████████████████████████████████████████████████████████████████| 38/38 [00:01<00:00, 29.49it/s]\n"
     ]
    },
    {
     "name": "stdout",
     "output_type": "stream",
     "text": [
      "xgboost == {'unique_uuid': '986e676b-20c0-11ef-84d7-c0e434d84b22', 'train_start': datetime.datetime(2023, 1, 1, 0, 0), 'train_end': datetime.datetime(2023, 12, 29, 0, 0), 'test_start': datetime.datetime(2024, 1, 2, 0, 0), 'test_end': datetime.datetime(2024, 2, 8, 0, 0), 'target_column': 'growth', 'train_features': ['open', 'volume_lag_1', 'usa_inflation_%', '1_USD_to_EUR_lag_1', '1_EUR_to_USD_lag_1', '1_UAH_to_USD_lag_1', '1_USD_to_UAH_lag_1', '1_EUR_to_UAH_lag_1', '1_UAH_to_EUR_lag_1'], 'path_to_result': '/diploma_info/datalake/', 'forecast_periods': 4, 'model_name': 'xgboost', 'model': XGBClassifier(base_score=None, booster='gbtree', callbacks=None,\n",
      "              colsample_bylevel=None, colsample_bynode=None, colsample_bytree=1,\n",
      "              device=None, early_stopping_rounds=None, enable_categorical=False,\n",
      "              eta=0.3, eval_metric='rmse', feature_types=None, gamma=None,\n",
      "              grow_policy=None, importance_type=None,\n",
      "              interaction_constraints=None, learning_rate=None, max_bin=None,\n",
      "              max_cat_threshold=None, max_cat_to_onehot=None,\n",
      "              max_delta_step=None, max_depth=7, max_leaves=None,\n",
      "              min_child_weight=1, missing=nan, monotone_constraints=None,\n",
      "              multi_strategy=None, n_estimators=10, n_jobs=-1,\n",
      "              num_parallel_tree=None, ...), 'forecast_frequency': 'daily', 'company': 'google', 'model_hyperparameters': {'n_estimators': 10, 'n_jobs': -1, 'max_depth': 7, 'eta': 0.3, 'booster': 'gbtree', 'objective': 'reg:squarederror', 'eval_metric': 'rmse', 'subsample': 1, 'colsample_bytree': 1, 'min_child_weight': 1, 'random_state': 2}, 'problem': 'classification'} \n",
      "\n",
      "(2368, 9) (2368, 1)\n",
      "xgboost\n"
     ]
    },
    {
     "name": "stderr",
     "output_type": "stream",
     "text": [
      "100%|██████████████████████████████████████████████████████████████████████████████████| 38/38 [00:01<00:00, 33.40it/s]\n"
     ]
    },
    {
     "name": "stdout",
     "output_type": "stream",
     "text": [
      "xgboost == {'unique_uuid': '986e676c-20c0-11ef-a9c9-c0e434d84b22', 'train_start': datetime.datetime(2023, 1, 1, 0, 0), 'train_end': datetime.datetime(2023, 12, 29, 0, 0), 'test_start': datetime.datetime(2024, 1, 2, 0, 0), 'test_end': datetime.datetime(2024, 2, 8, 0, 0), 'target_column': 'growth', 'train_features': ['open', 'close_max_3_days', 'close_min_3_days', 'close_mean_3_days', '1_USD_to_EUR_lag_1', '1_EUR_to_USD_lag_1', '1_UAH_to_USD_lag_1', '1_USD_to_UAH_lag_1', '1_EUR_to_UAH_lag_1', '1_UAH_to_EUR_lag_1'], 'path_to_result': '/diploma_info/datalake/', 'forecast_periods': 4, 'model_name': 'xgboost', 'model': XGBClassifier(base_score=None, booster='gbtree', callbacks=None,\n",
      "              colsample_bylevel=None, colsample_bynode=None, colsample_bytree=1,\n",
      "              device=None, early_stopping_rounds=None, enable_categorical=False,\n",
      "              eta=0.3, eval_metric='rmse', feature_types=None, gamma=None,\n",
      "              grow_policy=None, importance_type=None,\n",
      "              interaction_constraints=None, learning_rate=None, max_bin=None,\n",
      "              max_cat_threshold=None, max_cat_to_onehot=None,\n",
      "              max_delta_step=None, max_depth=7, max_leaves=None,\n",
      "              min_child_weight=1, missing=nan, monotone_constraints=None,\n",
      "              multi_strategy=None, n_estimators=10, n_jobs=-1,\n",
      "              num_parallel_tree=None, ...), 'forecast_frequency': 'daily', 'company': 'google', 'model_hyperparameters': {'n_estimators': 10, 'n_jobs': -1, 'max_depth': 7, 'eta': 0.3, 'booster': 'gbtree', 'objective': 'reg:squarederror', 'eval_metric': 'rmse', 'subsample': 1, 'colsample_bytree': 1, 'min_child_weight': 1, 'random_state': 2}, 'problem': 'classification'} \n",
      "\n",
      "(2368, 10) (2368, 1)\n",
      "xgboost\n"
     ]
    },
    {
     "name": "stderr",
     "output_type": "stream",
     "text": [
      "100%|██████████████████████████████████████████████████████████████████████████████████| 38/38 [00:01<00:00, 30.03it/s]\n"
     ]
    },
    {
     "name": "stdout",
     "output_type": "stream",
     "text": [
      "xgboost == {'unique_uuid': '986e676d-20c0-11ef-acda-c0e434d84b22', 'train_start': datetime.datetime(2023, 1, 1, 0, 0), 'train_end': datetime.datetime(2023, 12, 29, 0, 0), 'test_start': datetime.datetime(2024, 1, 2, 0, 0), 'test_end': datetime.datetime(2024, 2, 8, 0, 0), 'target_column': 'growth', 'train_features': ['open', 'year', 'month', 'day', 'day_of_week', 'week_of_year', '1_USD_to_EUR_lag_1', '1_EUR_to_USD_lag_1', '1_UAH_to_USD_lag_1', '1_USD_to_UAH_lag_1', '1_EUR_to_UAH_lag_1', '1_UAH_to_EUR_lag_1'], 'path_to_result': '/diploma_info/datalake/', 'forecast_periods': 4, 'model_name': 'xgboost', 'model': XGBClassifier(base_score=None, booster='gbtree', callbacks=None,\n",
      "              colsample_bylevel=None, colsample_bynode=None, colsample_bytree=1,\n",
      "              device=None, early_stopping_rounds=None, enable_categorical=False,\n",
      "              eta=0.3, eval_metric='rmse', feature_types=None, gamma=None,\n",
      "              grow_policy=None, importance_type=None,\n",
      "              interaction_constraints=None, learning_rate=None, max_bin=None,\n",
      "              max_cat_threshold=None, max_cat_to_onehot=None,\n",
      "              max_delta_step=None, max_depth=7, max_leaves=None,\n",
      "              min_child_weight=1, missing=nan, monotone_constraints=None,\n",
      "              multi_strategy=None, n_estimators=10, n_jobs=-1,\n",
      "              num_parallel_tree=None, ...), 'forecast_frequency': 'daily', 'company': 'google', 'model_hyperparameters': {'n_estimators': 10, 'n_jobs': -1, 'max_depth': 7, 'eta': 0.3, 'booster': 'gbtree', 'objective': 'reg:squarederror', 'eval_metric': 'rmse', 'subsample': 1, 'colsample_bytree': 1, 'min_child_weight': 1, 'random_state': 2}, 'problem': 'classification'} \n",
      "\n",
      "(2368, 12) (2368, 1)\n",
      "xgboost\n"
     ]
    },
    {
     "name": "stderr",
     "output_type": "stream",
     "text": [
      "100%|██████████████████████████████████████████████████████████████████████████████████| 38/38 [00:01<00:00, 29.88it/s]\n"
     ]
    },
    {
     "name": "stdout",
     "output_type": "stream",
     "text": [
      "xgboost == {'unique_uuid': '986e676e-20c0-11ef-826a-c0e434d84b22', 'train_start': datetime.datetime(2023, 1, 1, 0, 0), 'train_end': datetime.datetime(2023, 12, 29, 0, 0), 'test_start': datetime.datetime(2024, 1, 2, 0, 0), 'test_end': datetime.datetime(2024, 2, 8, 0, 0), 'target_column': 'growth', 'train_features': ['open', 'volume_lag_1', 'usa_inflation_%', '1_USD_to_EUR_lag_1', '1_EUR_to_USD_lag_1', '1_UAH_to_USD_lag_1', '1_USD_to_UAH_lag_1', '1_EUR_to_UAH_lag_1', '1_UAH_to_EUR_lag_1'], 'path_to_result': '/diploma_info/datalake/', 'forecast_periods': 4, 'model_name': 'xgboost', 'model': XGBClassifier(base_score=None, booster='gbtree', callbacks=None,\n",
      "              colsample_bylevel=None, colsample_bynode=None, colsample_bytree=1,\n",
      "              device=None, early_stopping_rounds=None, enable_categorical=False,\n",
      "              eta=0.3, eval_metric='rmse', feature_types=None, gamma=None,\n",
      "              grow_policy=None, importance_type=None,\n",
      "              interaction_constraints=None, learning_rate=None, max_bin=None,\n",
      "              max_cat_threshold=None, max_cat_to_onehot=None,\n",
      "              max_delta_step=None, max_depth=7, max_leaves=None,\n",
      "              min_child_weight=1, missing=nan, monotone_constraints=None,\n",
      "              multi_strategy=None, n_estimators=200, n_jobs=-1,\n",
      "              num_parallel_tree=None, ...), 'forecast_frequency': 'daily', 'company': 'google', 'model_hyperparameters': {'n_estimators': 200, 'n_jobs': -1, 'max_depth': 7, 'eta': 0.3, 'booster': 'gbtree', 'objective': 'reg:squarederror', 'eval_metric': 'rmse', 'subsample': 1, 'colsample_bytree': 1, 'min_child_weight': 1, 'random_state': 2}, 'problem': 'classification'} \n",
      "\n",
      "(2368, 9) (2368, 1)\n",
      "xgboost\n"
     ]
    },
    {
     "name": "stderr",
     "output_type": "stream",
     "text": [
      "100%|██████████████████████████████████████████████████████████████████████████████████| 38/38 [00:04<00:00,  8.34it/s]\n"
     ]
    },
    {
     "name": "stdout",
     "output_type": "stream",
     "text": [
      "xgboost == {'unique_uuid': '986e676f-20c0-11ef-af20-c0e434d84b22', 'train_start': datetime.datetime(2023, 1, 1, 0, 0), 'train_end': datetime.datetime(2023, 12, 29, 0, 0), 'test_start': datetime.datetime(2024, 1, 2, 0, 0), 'test_end': datetime.datetime(2024, 2, 8, 0, 0), 'target_column': 'growth', 'train_features': ['open', 'close_max_3_days', 'close_min_3_days', 'close_mean_3_days', '1_USD_to_EUR_lag_1', '1_EUR_to_USD_lag_1', '1_UAH_to_USD_lag_1', '1_USD_to_UAH_lag_1', '1_EUR_to_UAH_lag_1', '1_UAH_to_EUR_lag_1'], 'path_to_result': '/diploma_info/datalake/', 'forecast_periods': 4, 'model_name': 'xgboost', 'model': XGBClassifier(base_score=None, booster='gbtree', callbacks=None,\n",
      "              colsample_bylevel=None, colsample_bynode=None, colsample_bytree=1,\n",
      "              device=None, early_stopping_rounds=None, enable_categorical=False,\n",
      "              eta=0.3, eval_metric='rmse', feature_types=None, gamma=None,\n",
      "              grow_policy=None, importance_type=None,\n",
      "              interaction_constraints=None, learning_rate=None, max_bin=None,\n",
      "              max_cat_threshold=None, max_cat_to_onehot=None,\n",
      "              max_delta_step=None, max_depth=7, max_leaves=None,\n",
      "              min_child_weight=1, missing=nan, monotone_constraints=None,\n",
      "              multi_strategy=None, n_estimators=200, n_jobs=-1,\n",
      "              num_parallel_tree=None, ...), 'forecast_frequency': 'daily', 'company': 'google', 'model_hyperparameters': {'n_estimators': 200, 'n_jobs': -1, 'max_depth': 7, 'eta': 0.3, 'booster': 'gbtree', 'objective': 'reg:squarederror', 'eval_metric': 'rmse', 'subsample': 1, 'colsample_bytree': 1, 'min_child_weight': 1, 'random_state': 2}, 'problem': 'classification'} \n",
      "\n",
      "(2368, 10) (2368, 1)\n",
      "xgboost\n"
     ]
    },
    {
     "name": "stderr",
     "output_type": "stream",
     "text": [
      "100%|██████████████████████████████████████████████████████████████████████████████████| 38/38 [00:04<00:00,  8.12it/s]\n"
     ]
    },
    {
     "name": "stdout",
     "output_type": "stream",
     "text": [
      "xgboost == {'unique_uuid': '986e6770-20c0-11ef-9792-c0e434d84b22', 'train_start': datetime.datetime(2023, 1, 1, 0, 0), 'train_end': datetime.datetime(2023, 12, 29, 0, 0), 'test_start': datetime.datetime(2024, 1, 2, 0, 0), 'test_end': datetime.datetime(2024, 2, 8, 0, 0), 'target_column': 'growth', 'train_features': ['open', 'year', 'month', 'day', 'day_of_week', 'week_of_year', '1_USD_to_EUR_lag_1', '1_EUR_to_USD_lag_1', '1_UAH_to_USD_lag_1', '1_USD_to_UAH_lag_1', '1_EUR_to_UAH_lag_1', '1_UAH_to_EUR_lag_1'], 'path_to_result': '/diploma_info/datalake/', 'forecast_periods': 4, 'model_name': 'xgboost', 'model': XGBClassifier(base_score=None, booster='gbtree', callbacks=None,\n",
      "              colsample_bylevel=None, colsample_bynode=None, colsample_bytree=1,\n",
      "              device=None, early_stopping_rounds=None, enable_categorical=False,\n",
      "              eta=0.3, eval_metric='rmse', feature_types=None, gamma=None,\n",
      "              grow_policy=None, importance_type=None,\n",
      "              interaction_constraints=None, learning_rate=None, max_bin=None,\n",
      "              max_cat_threshold=None, max_cat_to_onehot=None,\n",
      "              max_delta_step=None, max_depth=7, max_leaves=None,\n",
      "              min_child_weight=1, missing=nan, monotone_constraints=None,\n",
      "              multi_strategy=None, n_estimators=200, n_jobs=-1,\n",
      "              num_parallel_tree=None, ...), 'forecast_frequency': 'daily', 'company': 'google', 'model_hyperparameters': {'n_estimators': 200, 'n_jobs': -1, 'max_depth': 7, 'eta': 0.3, 'booster': 'gbtree', 'objective': 'reg:squarederror', 'eval_metric': 'rmse', 'subsample': 1, 'colsample_bytree': 1, 'min_child_weight': 1, 'random_state': 2}, 'problem': 'classification'} \n",
      "\n",
      "(2368, 12) (2368, 1)\n",
      "xgboost\n"
     ]
    },
    {
     "name": "stderr",
     "output_type": "stream",
     "text": [
      "100%|██████████████████████████████████████████████████████████████████████████████████| 38/38 [00:04<00:00,  8.29it/s]\n"
     ]
    },
    {
     "name": "stdout",
     "output_type": "stream",
     "text": [
      "xgboost == {'unique_uuid': '986e6771-20c0-11ef-96ad-c0e434d84b22', 'train_start': datetime.datetime(2023, 1, 1, 0, 0), 'train_end': datetime.datetime(2023, 12, 29, 0, 0), 'test_start': datetime.datetime(2024, 1, 2, 0, 0), 'test_end': datetime.datetime(2024, 2, 8, 0, 0), 'target_column': 'growth', 'train_features': ['open', 'volume_lag_1', 'usa_inflation_%', '1_USD_to_EUR_lag_1', '1_EUR_to_USD_lag_1', '1_UAH_to_USD_lag_1', '1_USD_to_UAH_lag_1', '1_EUR_to_UAH_lag_1', '1_UAH_to_EUR_lag_1'], 'path_to_result': '/diploma_info/datalake/', 'forecast_periods': 4, 'model_name': 'xgboost', 'model': XGBClassifier(base_score=None, booster='gbtree', callbacks=None,\n",
      "              colsample_bylevel=None, colsample_bynode=None, colsample_bytree=1,\n",
      "              device=None, early_stopping_rounds=None, enable_categorical=False,\n",
      "              eta=0.3, eval_metric='rmse', feature_types=None, gamma=None,\n",
      "              grow_policy=None, importance_type=None,\n",
      "              interaction_constraints=None, learning_rate=None, max_bin=None,\n",
      "              max_cat_threshold=None, max_cat_to_onehot=None,\n",
      "              max_delta_step=None, max_depth=9, max_leaves=None,\n",
      "              min_child_weight=1, missing=nan, monotone_constraints=None,\n",
      "              multi_strategy=None, n_estimators=10, n_jobs=-1,\n",
      "              num_parallel_tree=None, ...), 'forecast_frequency': 'daily', 'company': 'google', 'model_hyperparameters': {'n_estimators': 10, 'n_jobs': -1, 'max_depth': 9, 'eta': 0.3, 'booster': 'gbtree', 'objective': 'reg:squarederror', 'eval_metric': 'rmse', 'subsample': 1, 'colsample_bytree': 1, 'min_child_weight': 1, 'random_state': 2}, 'problem': 'classification'} \n",
      "\n",
      "(2368, 9) (2368, 1)\n",
      "xgboost\n"
     ]
    },
    {
     "name": "stderr",
     "output_type": "stream",
     "text": [
      "100%|██████████████████████████████████████████████████████████████████████████████████| 38/38 [00:01<00:00, 24.71it/s]\n"
     ]
    },
    {
     "name": "stdout",
     "output_type": "stream",
     "text": [
      "xgboost == {'unique_uuid': '986e6772-20c0-11ef-929e-c0e434d84b22', 'train_start': datetime.datetime(2023, 1, 1, 0, 0), 'train_end': datetime.datetime(2023, 12, 29, 0, 0), 'test_start': datetime.datetime(2024, 1, 2, 0, 0), 'test_end': datetime.datetime(2024, 2, 8, 0, 0), 'target_column': 'growth', 'train_features': ['open', 'close_max_3_days', 'close_min_3_days', 'close_mean_3_days', '1_USD_to_EUR_lag_1', '1_EUR_to_USD_lag_1', '1_UAH_to_USD_lag_1', '1_USD_to_UAH_lag_1', '1_EUR_to_UAH_lag_1', '1_UAH_to_EUR_lag_1'], 'path_to_result': '/diploma_info/datalake/', 'forecast_periods': 4, 'model_name': 'xgboost', 'model': XGBClassifier(base_score=None, booster='gbtree', callbacks=None,\n",
      "              colsample_bylevel=None, colsample_bynode=None, colsample_bytree=1,\n",
      "              device=None, early_stopping_rounds=None, enable_categorical=False,\n",
      "              eta=0.3, eval_metric='rmse', feature_types=None, gamma=None,\n",
      "              grow_policy=None, importance_type=None,\n",
      "              interaction_constraints=None, learning_rate=None, max_bin=None,\n",
      "              max_cat_threshold=None, max_cat_to_onehot=None,\n",
      "              max_delta_step=None, max_depth=9, max_leaves=None,\n",
      "              min_child_weight=1, missing=nan, monotone_constraints=None,\n",
      "              multi_strategy=None, n_estimators=10, n_jobs=-1,\n",
      "              num_parallel_tree=None, ...), 'forecast_frequency': 'daily', 'company': 'google', 'model_hyperparameters': {'n_estimators': 10, 'n_jobs': -1, 'max_depth': 9, 'eta': 0.3, 'booster': 'gbtree', 'objective': 'reg:squarederror', 'eval_metric': 'rmse', 'subsample': 1, 'colsample_bytree': 1, 'min_child_weight': 1, 'random_state': 2}, 'problem': 'classification'} \n",
      "\n",
      "(2368, 10) (2368, 1)\n",
      "xgboost\n"
     ]
    },
    {
     "name": "stderr",
     "output_type": "stream",
     "text": [
      "100%|██████████████████████████████████████████████████████████████████████████████████| 38/38 [00:01<00:00, 26.91it/s]\n"
     ]
    },
    {
     "name": "stdout",
     "output_type": "stream",
     "text": [
      "xgboost == {'unique_uuid': '986e6773-20c0-11ef-8860-c0e434d84b22', 'train_start': datetime.datetime(2023, 1, 1, 0, 0), 'train_end': datetime.datetime(2023, 12, 29, 0, 0), 'test_start': datetime.datetime(2024, 1, 2, 0, 0), 'test_end': datetime.datetime(2024, 2, 8, 0, 0), 'target_column': 'growth', 'train_features': ['open', 'year', 'month', 'day', 'day_of_week', 'week_of_year', '1_USD_to_EUR_lag_1', '1_EUR_to_USD_lag_1', '1_UAH_to_USD_lag_1', '1_USD_to_UAH_lag_1', '1_EUR_to_UAH_lag_1', '1_UAH_to_EUR_lag_1'], 'path_to_result': '/diploma_info/datalake/', 'forecast_periods': 4, 'model_name': 'xgboost', 'model': XGBClassifier(base_score=None, booster='gbtree', callbacks=None,\n",
      "              colsample_bylevel=None, colsample_bynode=None, colsample_bytree=1,\n",
      "              device=None, early_stopping_rounds=None, enable_categorical=False,\n",
      "              eta=0.3, eval_metric='rmse', feature_types=None, gamma=None,\n",
      "              grow_policy=None, importance_type=None,\n",
      "              interaction_constraints=None, learning_rate=None, max_bin=None,\n",
      "              max_cat_threshold=None, max_cat_to_onehot=None,\n",
      "              max_delta_step=None, max_depth=9, max_leaves=None,\n",
      "              min_child_weight=1, missing=nan, monotone_constraints=None,\n",
      "              multi_strategy=None, n_estimators=10, n_jobs=-1,\n",
      "              num_parallel_tree=None, ...), 'forecast_frequency': 'daily', 'company': 'google', 'model_hyperparameters': {'n_estimators': 10, 'n_jobs': -1, 'max_depth': 9, 'eta': 0.3, 'booster': 'gbtree', 'objective': 'reg:squarederror', 'eval_metric': 'rmse', 'subsample': 1, 'colsample_bytree': 1, 'min_child_weight': 1, 'random_state': 2}, 'problem': 'classification'} \n",
      "\n",
      "(2368, 12) (2368, 1)\n",
      "xgboost\n"
     ]
    },
    {
     "name": "stderr",
     "output_type": "stream",
     "text": [
      "100%|██████████████████████████████████████████████████████████████████████████████████| 38/38 [00:01<00:00, 26.61it/s]\n"
     ]
    },
    {
     "name": "stdout",
     "output_type": "stream",
     "text": [
      "xgboost == {'unique_uuid': '986e6774-20c0-11ef-ae50-c0e434d84b22', 'train_start': datetime.datetime(2023, 1, 1, 0, 0), 'train_end': datetime.datetime(2023, 12, 29, 0, 0), 'test_start': datetime.datetime(2024, 1, 2, 0, 0), 'test_end': datetime.datetime(2024, 2, 8, 0, 0), 'target_column': 'growth', 'train_features': ['open', 'volume_lag_1', 'usa_inflation_%', '1_USD_to_EUR_lag_1', '1_EUR_to_USD_lag_1', '1_UAH_to_USD_lag_1', '1_USD_to_UAH_lag_1', '1_EUR_to_UAH_lag_1', '1_UAH_to_EUR_lag_1'], 'path_to_result': '/diploma_info/datalake/', 'forecast_periods': 4, 'model_name': 'xgboost', 'model': XGBClassifier(base_score=None, booster='gbtree', callbacks=None,\n",
      "              colsample_bylevel=None, colsample_bynode=None, colsample_bytree=1,\n",
      "              device=None, early_stopping_rounds=None, enable_categorical=False,\n",
      "              eta=0.3, eval_metric='rmse', feature_types=None, gamma=None,\n",
      "              grow_policy=None, importance_type=None,\n",
      "              interaction_constraints=None, learning_rate=None, max_bin=None,\n",
      "              max_cat_threshold=None, max_cat_to_onehot=None,\n",
      "              max_delta_step=None, max_depth=9, max_leaves=None,\n",
      "              min_child_weight=1, missing=nan, monotone_constraints=None,\n",
      "              multi_strategy=None, n_estimators=200, n_jobs=-1,\n",
      "              num_parallel_tree=None, ...), 'forecast_frequency': 'daily', 'company': 'google', 'model_hyperparameters': {'n_estimators': 200, 'n_jobs': -1, 'max_depth': 9, 'eta': 0.3, 'booster': 'gbtree', 'objective': 'reg:squarederror', 'eval_metric': 'rmse', 'subsample': 1, 'colsample_bytree': 1, 'min_child_weight': 1, 'random_state': 2}, 'problem': 'classification'} \n",
      "\n",
      "(2368, 9) (2368, 1)\n",
      "xgboost\n"
     ]
    },
    {
     "name": "stderr",
     "output_type": "stream",
     "text": [
      "100%|██████████████████████████████████████████████████████████████████████████████████| 38/38 [00:04<00:00,  7.76it/s]\n"
     ]
    },
    {
     "name": "stdout",
     "output_type": "stream",
     "text": [
      "xgboost == {'unique_uuid': '986e6775-20c0-11ef-8a66-c0e434d84b22', 'train_start': datetime.datetime(2023, 1, 1, 0, 0), 'train_end': datetime.datetime(2023, 12, 29, 0, 0), 'test_start': datetime.datetime(2024, 1, 2, 0, 0), 'test_end': datetime.datetime(2024, 2, 8, 0, 0), 'target_column': 'growth', 'train_features': ['open', 'close_max_3_days', 'close_min_3_days', 'close_mean_3_days', '1_USD_to_EUR_lag_1', '1_EUR_to_USD_lag_1', '1_UAH_to_USD_lag_1', '1_USD_to_UAH_lag_1', '1_EUR_to_UAH_lag_1', '1_UAH_to_EUR_lag_1'], 'path_to_result': '/diploma_info/datalake/', 'forecast_periods': 4, 'model_name': 'xgboost', 'model': XGBClassifier(base_score=None, booster='gbtree', callbacks=None,\n",
      "              colsample_bylevel=None, colsample_bynode=None, colsample_bytree=1,\n",
      "              device=None, early_stopping_rounds=None, enable_categorical=False,\n",
      "              eta=0.3, eval_metric='rmse', feature_types=None, gamma=None,\n",
      "              grow_policy=None, importance_type=None,\n",
      "              interaction_constraints=None, learning_rate=None, max_bin=None,\n",
      "              max_cat_threshold=None, max_cat_to_onehot=None,\n",
      "              max_delta_step=None, max_depth=9, max_leaves=None,\n",
      "              min_child_weight=1, missing=nan, monotone_constraints=None,\n",
      "              multi_strategy=None, n_estimators=200, n_jobs=-1,\n",
      "              num_parallel_tree=None, ...), 'forecast_frequency': 'daily', 'company': 'google', 'model_hyperparameters': {'n_estimators': 200, 'n_jobs': -1, 'max_depth': 9, 'eta': 0.3, 'booster': 'gbtree', 'objective': 'reg:squarederror', 'eval_metric': 'rmse', 'subsample': 1, 'colsample_bytree': 1, 'min_child_weight': 1, 'random_state': 2}, 'problem': 'classification'} \n",
      "\n",
      "(2368, 10) (2368, 1)\n",
      "xgboost\n"
     ]
    },
    {
     "name": "stderr",
     "output_type": "stream",
     "text": [
      "100%|██████████████████████████████████████████████████████████████████████████████████| 38/38 [00:05<00:00,  7.43it/s]\n"
     ]
    },
    {
     "name": "stdout",
     "output_type": "stream",
     "text": [
      "xgboost == {'unique_uuid': '986e6776-20c0-11ef-9f1c-c0e434d84b22', 'train_start': datetime.datetime(2023, 1, 1, 0, 0), 'train_end': datetime.datetime(2023, 12, 29, 0, 0), 'test_start': datetime.datetime(2024, 1, 2, 0, 0), 'test_end': datetime.datetime(2024, 2, 8, 0, 0), 'target_column': 'growth', 'train_features': ['open', 'year', 'month', 'day', 'day_of_week', 'week_of_year', '1_USD_to_EUR_lag_1', '1_EUR_to_USD_lag_1', '1_UAH_to_USD_lag_1', '1_USD_to_UAH_lag_1', '1_EUR_to_UAH_lag_1', '1_UAH_to_EUR_lag_1'], 'path_to_result': '/diploma_info/datalake/', 'forecast_periods': 4, 'model_name': 'xgboost', 'model': XGBClassifier(base_score=None, booster='gbtree', callbacks=None,\n",
      "              colsample_bylevel=None, colsample_bynode=None, colsample_bytree=1,\n",
      "              device=None, early_stopping_rounds=None, enable_categorical=False,\n",
      "              eta=0.3, eval_metric='rmse', feature_types=None, gamma=None,\n",
      "              grow_policy=None, importance_type=None,\n",
      "              interaction_constraints=None, learning_rate=None, max_bin=None,\n",
      "              max_cat_threshold=None, max_cat_to_onehot=None,\n",
      "              max_delta_step=None, max_depth=9, max_leaves=None,\n",
      "              min_child_weight=1, missing=nan, monotone_constraints=None,\n",
      "              multi_strategy=None, n_estimators=200, n_jobs=-1,\n",
      "              num_parallel_tree=None, ...), 'forecast_frequency': 'daily', 'company': 'google', 'model_hyperparameters': {'n_estimators': 200, 'n_jobs': -1, 'max_depth': 9, 'eta': 0.3, 'booster': 'gbtree', 'objective': 'reg:squarederror', 'eval_metric': 'rmse', 'subsample': 1, 'colsample_bytree': 1, 'min_child_weight': 1, 'random_state': 2}, 'problem': 'classification'} \n",
      "\n",
      "(2368, 12) (2368, 1)\n",
      "xgboost\n"
     ]
    },
    {
     "name": "stderr",
     "output_type": "stream",
     "text": [
      "100%|██████████████████████████████████████████████████████████████████████████████████| 38/38 [00:04<00:00,  7.85it/s]\n"
     ]
    },
    {
     "name": "stdout",
     "output_type": "stream",
     "text": [
      "lightgbm == {'unique_uuid': '986e6777-20c0-11ef-bb0b-c0e434d84b22', 'train_start': datetime.datetime(2023, 1, 1, 0, 0), 'train_end': datetime.datetime(2023, 12, 29, 0, 0), 'test_start': datetime.datetime(2024, 1, 2, 0, 0), 'test_end': datetime.datetime(2024, 2, 8, 0, 0), 'target_column': 'growth', 'train_features': ['open', 'volume_lag_1', 'usa_inflation_%', '1_USD_to_EUR_lag_1', '1_EUR_to_USD_lag_1', '1_UAH_to_USD_lag_1', '1_USD_to_UAH_lag_1', '1_EUR_to_UAH_lag_1', '1_UAH_to_EUR_lag_1'], 'path_to_result': '/diploma_info/datalake/', 'forecast_periods': 4, 'model_name': 'lightgbm', 'model': LGBMClassifier(eta=0.3, max_depth=7, metric='binary', n_estimators=10,\n",
      "               n_jobs=-1, objective='binary', random_state=2, verbosity=-1), 'forecast_frequency': 'daily', 'company': 'google', 'model_hyperparameters': {'n_estimators': 10, 'n_jobs': -1, 'max_depth': 7, 'eta': 0.3, 'random_state': 2, 'objective': 'binary', 'verbosity': -1, 'metric': 'binary'}, 'problem': 'classification'} \n",
      "\n",
      "(2368, 9) (2368, 1)\n",
      "lightgbm\n"
     ]
    },
    {
     "name": "stderr",
     "output_type": "stream",
     "text": [
      "100%|██████████████████████████████████████████████████████████████████████████████████| 38/38 [00:00<00:00, 45.56it/s]\n"
     ]
    },
    {
     "name": "stdout",
     "output_type": "stream",
     "text": [
      "lightgbm == {'unique_uuid': '986e6778-20c0-11ef-a8f8-c0e434d84b22', 'train_start': datetime.datetime(2023, 1, 1, 0, 0), 'train_end': datetime.datetime(2023, 12, 29, 0, 0), 'test_start': datetime.datetime(2024, 1, 2, 0, 0), 'test_end': datetime.datetime(2024, 2, 8, 0, 0), 'target_column': 'growth', 'train_features': ['open', 'close_max_3_days', 'close_min_3_days', 'close_mean_3_days', '1_USD_to_EUR_lag_1', '1_EUR_to_USD_lag_1', '1_UAH_to_USD_lag_1', '1_USD_to_UAH_lag_1', '1_EUR_to_UAH_lag_1', '1_UAH_to_EUR_lag_1'], 'path_to_result': '/diploma_info/datalake/', 'forecast_periods': 4, 'model_name': 'lightgbm', 'model': LGBMClassifier(eta=0.3, max_depth=7, metric='binary', n_estimators=10,\n",
      "               n_jobs=-1, objective='binary', random_state=2, verbosity=-1), 'forecast_frequency': 'daily', 'company': 'google', 'model_hyperparameters': {'n_estimators': 10, 'n_jobs': -1, 'max_depth': 7, 'eta': 0.3, 'random_state': 2, 'objective': 'binary', 'verbosity': -1, 'metric': 'binary'}, 'problem': 'classification'} \n",
      "\n",
      "(2368, 10) (2368, 1)\n",
      "lightgbm\n"
     ]
    },
    {
     "name": "stderr",
     "output_type": "stream",
     "text": [
      "100%|██████████████████████████████████████████████████████████████████████████████████| 38/38 [00:00<00:00, 42.38it/s]\n"
     ]
    },
    {
     "name": "stdout",
     "output_type": "stream",
     "text": [
      "lightgbm == {'unique_uuid': '986e6779-20c0-11ef-b99b-c0e434d84b22', 'train_start': datetime.datetime(2023, 1, 1, 0, 0), 'train_end': datetime.datetime(2023, 12, 29, 0, 0), 'test_start': datetime.datetime(2024, 1, 2, 0, 0), 'test_end': datetime.datetime(2024, 2, 8, 0, 0), 'target_column': 'growth', 'train_features': ['open', 'year', 'month', 'day', 'day_of_week', 'week_of_year', '1_USD_to_EUR_lag_1', '1_EUR_to_USD_lag_1', '1_UAH_to_USD_lag_1', '1_USD_to_UAH_lag_1', '1_EUR_to_UAH_lag_1', '1_UAH_to_EUR_lag_1'], 'path_to_result': '/diploma_info/datalake/', 'forecast_periods': 4, 'model_name': 'lightgbm', 'model': LGBMClassifier(eta=0.3, max_depth=7, metric='binary', n_estimators=10,\n",
      "               n_jobs=-1, objective='binary', random_state=2, verbosity=-1), 'forecast_frequency': 'daily', 'company': 'google', 'model_hyperparameters': {'n_estimators': 10, 'n_jobs': -1, 'max_depth': 7, 'eta': 0.3, 'random_state': 2, 'objective': 'binary', 'verbosity': -1, 'metric': 'binary'}, 'problem': 'classification'} \n",
      "\n",
      "(2368, 12) (2368, 1)\n",
      "lightgbm\n"
     ]
    },
    {
     "name": "stderr",
     "output_type": "stream",
     "text": [
      "100%|██████████████████████████████████████████████████████████████████████████████████| 38/38 [00:00<00:00, 47.32it/s]\n"
     ]
    },
    {
     "name": "stdout",
     "output_type": "stream",
     "text": [
      "lightgbm == {'unique_uuid': '986e677a-20c0-11ef-807f-c0e434d84b22', 'train_start': datetime.datetime(2023, 1, 1, 0, 0), 'train_end': datetime.datetime(2023, 12, 29, 0, 0), 'test_start': datetime.datetime(2024, 1, 2, 0, 0), 'test_end': datetime.datetime(2024, 2, 8, 0, 0), 'target_column': 'growth', 'train_features': ['open', 'volume_lag_1', 'usa_inflation_%', '1_USD_to_EUR_lag_1', '1_EUR_to_USD_lag_1', '1_UAH_to_USD_lag_1', '1_USD_to_UAH_lag_1', '1_EUR_to_UAH_lag_1', '1_UAH_to_EUR_lag_1'], 'path_to_result': '/diploma_info/datalake/', 'forecast_periods': 4, 'model_name': 'lightgbm', 'model': LGBMClassifier(eta=0.3, max_depth=9, metric='binary', n_estimators=10,\n",
      "               n_jobs=-1, objective='binary', random_state=2, verbosity=-1), 'forecast_frequency': 'daily', 'company': 'google', 'model_hyperparameters': {'n_estimators': 10, 'n_jobs': -1, 'max_depth': 9, 'eta': 0.3, 'random_state': 2, 'objective': 'binary', 'verbosity': -1, 'metric': 'binary'}, 'problem': 'classification'} \n",
      "\n",
      "(2368, 9) (2368, 1)\n",
      "lightgbm\n"
     ]
    },
    {
     "name": "stderr",
     "output_type": "stream",
     "text": [
      "100%|██████████████████████████████████████████████████████████████████████████████████| 38/38 [00:00<00:00, 38.97it/s]\n"
     ]
    },
    {
     "name": "stdout",
     "output_type": "stream",
     "text": [
      "lightgbm == {'unique_uuid': '986e677b-20c0-11ef-9a2e-c0e434d84b22', 'train_start': datetime.datetime(2023, 1, 1, 0, 0), 'train_end': datetime.datetime(2023, 12, 29, 0, 0), 'test_start': datetime.datetime(2024, 1, 2, 0, 0), 'test_end': datetime.datetime(2024, 2, 8, 0, 0), 'target_column': 'growth', 'train_features': ['open', 'close_max_3_days', 'close_min_3_days', 'close_mean_3_days', '1_USD_to_EUR_lag_1', '1_EUR_to_USD_lag_1', '1_UAH_to_USD_lag_1', '1_USD_to_UAH_lag_1', '1_EUR_to_UAH_lag_1', '1_UAH_to_EUR_lag_1'], 'path_to_result': '/diploma_info/datalake/', 'forecast_periods': 4, 'model_name': 'lightgbm', 'model': LGBMClassifier(eta=0.3, max_depth=9, metric='binary', n_estimators=10,\n",
      "               n_jobs=-1, objective='binary', random_state=2, verbosity=-1), 'forecast_frequency': 'daily', 'company': 'google', 'model_hyperparameters': {'n_estimators': 10, 'n_jobs': -1, 'max_depth': 9, 'eta': 0.3, 'random_state': 2, 'objective': 'binary', 'verbosity': -1, 'metric': 'binary'}, 'problem': 'classification'} \n",
      "\n",
      "(2368, 10) (2368, 1)\n",
      "lightgbm\n"
     ]
    },
    {
     "name": "stderr",
     "output_type": "stream",
     "text": [
      "100%|██████████████████████████████████████████████████████████████████████████████████| 38/38 [00:01<00:00, 36.85it/s]\n"
     ]
    },
    {
     "name": "stdout",
     "output_type": "stream",
     "text": [
      "lightgbm == {'unique_uuid': '986e677c-20c0-11ef-863f-c0e434d84b22', 'train_start': datetime.datetime(2023, 1, 1, 0, 0), 'train_end': datetime.datetime(2023, 12, 29, 0, 0), 'test_start': datetime.datetime(2024, 1, 2, 0, 0), 'test_end': datetime.datetime(2024, 2, 8, 0, 0), 'target_column': 'growth', 'train_features': ['open', 'year', 'month', 'day', 'day_of_week', 'week_of_year', '1_USD_to_EUR_lag_1', '1_EUR_to_USD_lag_1', '1_UAH_to_USD_lag_1', '1_USD_to_UAH_lag_1', '1_EUR_to_UAH_lag_1', '1_UAH_to_EUR_lag_1'], 'path_to_result': '/diploma_info/datalake/', 'forecast_periods': 4, 'model_name': 'lightgbm', 'model': LGBMClassifier(eta=0.3, max_depth=9, metric='binary', n_estimators=10,\n",
      "               n_jobs=-1, objective='binary', random_state=2, verbosity=-1), 'forecast_frequency': 'daily', 'company': 'google', 'model_hyperparameters': {'n_estimators': 10, 'n_jobs': -1, 'max_depth': 9, 'eta': 0.3, 'random_state': 2, 'objective': 'binary', 'verbosity': -1, 'metric': 'binary'}, 'problem': 'classification'} \n",
      "\n",
      "(2368, 12) (2368, 1)\n",
      "lightgbm\n"
     ]
    },
    {
     "name": "stderr",
     "output_type": "stream",
     "text": [
      "100%|██████████████████████████████████████████████████████████████████████████████████| 38/38 [00:00<00:00, 41.93it/s]\n"
     ]
    },
    {
     "name": "stdout",
     "output_type": "stream",
     "text": [
      "random_forest == {'unique_uuid': '986e677d-20c0-11ef-b730-c0e434d84b22', 'train_start': datetime.datetime(2023, 1, 1, 0, 0), 'train_end': datetime.datetime(2023, 12, 29, 0, 0), 'test_start': datetime.datetime(2024, 1, 2, 0, 0), 'test_end': datetime.datetime(2024, 2, 8, 0, 0), 'target_column': 'growth', 'train_features': ['open', 'volume_lag_1', 'usa_inflation_%', '1_USD_to_EUR_lag_1', '1_EUR_to_USD_lag_1', '1_UAH_to_USD_lag_1', '1_USD_to_UAH_lag_1', '1_EUR_to_UAH_lag_1', '1_UAH_to_EUR_lag_1'], 'path_to_result': '/diploma_info/datalake/', 'forecast_periods': 4, 'model_name': 'random_forest', 'model': RandomForestClassifier(max_depth=9, n_estimators=10, n_jobs=-1, random_state=2), 'forecast_frequency': 'daily', 'company': 'google', 'model_hyperparameters': {'n_estimators': 10, 'n_jobs': -1, 'random_state': 2, 'max_depth': 9}, 'problem': 'classification'} \n",
      "\n",
      "(2368, 9) (2368, 1)\n",
      "random_forest\n"
     ]
    },
    {
     "name": "stderr",
     "output_type": "stream",
     "text": [
      "100%|██████████████████████████████████████████████████████████████████████████████████| 38/38 [00:02<00:00, 16.18it/s]\n"
     ]
    },
    {
     "name": "stdout",
     "output_type": "stream",
     "text": [
      "random_forest == {'unique_uuid': '986e677e-20c0-11ef-9373-c0e434d84b22', 'train_start': datetime.datetime(2023, 1, 1, 0, 0), 'train_end': datetime.datetime(2023, 12, 29, 0, 0), 'test_start': datetime.datetime(2024, 1, 2, 0, 0), 'test_end': datetime.datetime(2024, 2, 8, 0, 0), 'target_column': 'growth', 'train_features': ['open', 'close_max_3_days', 'close_min_3_days', 'close_mean_3_days', '1_USD_to_EUR_lag_1', '1_EUR_to_USD_lag_1', '1_UAH_to_USD_lag_1', '1_USD_to_UAH_lag_1', '1_EUR_to_UAH_lag_1', '1_UAH_to_EUR_lag_1'], 'path_to_result': '/diploma_info/datalake/', 'forecast_periods': 4, 'model_name': 'random_forest', 'model': RandomForestClassifier(max_depth=9, n_estimators=10, n_jobs=-1, random_state=2), 'forecast_frequency': 'daily', 'company': 'google', 'model_hyperparameters': {'n_estimators': 10, 'n_jobs': -1, 'random_state': 2, 'max_depth': 9}, 'problem': 'classification'} \n",
      "\n",
      "(2368, 10) (2368, 1)\n",
      "random_forest\n"
     ]
    },
    {
     "name": "stderr",
     "output_type": "stream",
     "text": [
      "100%|██████████████████████████████████████████████████████████████████████████████████| 38/38 [00:02<00:00, 15.95it/s]\n"
     ]
    },
    {
     "name": "stdout",
     "output_type": "stream",
     "text": [
      "random_forest == {'unique_uuid': '986e677f-20c0-11ef-b403-c0e434d84b22', 'train_start': datetime.datetime(2023, 1, 1, 0, 0), 'train_end': datetime.datetime(2023, 12, 29, 0, 0), 'test_start': datetime.datetime(2024, 1, 2, 0, 0), 'test_end': datetime.datetime(2024, 2, 8, 0, 0), 'target_column': 'growth', 'train_features': ['open', 'year', 'month', 'day', 'day_of_week', 'week_of_year', '1_USD_to_EUR_lag_1', '1_EUR_to_USD_lag_1', '1_UAH_to_USD_lag_1', '1_USD_to_UAH_lag_1', '1_EUR_to_UAH_lag_1', '1_UAH_to_EUR_lag_1'], 'path_to_result': '/diploma_info/datalake/', 'forecast_periods': 4, 'model_name': 'random_forest', 'model': RandomForestClassifier(max_depth=9, n_estimators=10, n_jobs=-1, random_state=2), 'forecast_frequency': 'daily', 'company': 'google', 'model_hyperparameters': {'n_estimators': 10, 'n_jobs': -1, 'random_state': 2, 'max_depth': 9}, 'problem': 'classification'} \n",
      "\n",
      "(2368, 12) (2368, 1)\n",
      "random_forest\n"
     ]
    },
    {
     "name": "stderr",
     "output_type": "stream",
     "text": [
      "100%|██████████████████████████████████████████████████████████████████████████████████| 38/38 [00:02<00:00, 16.34it/s]\n"
     ]
    },
    {
     "name": "stdout",
     "output_type": "stream",
     "text": [
      "random_forest == {'unique_uuid': '986e6780-20c0-11ef-a3b0-c0e434d84b22', 'train_start': datetime.datetime(2023, 1, 1, 0, 0), 'train_end': datetime.datetime(2023, 12, 29, 0, 0), 'test_start': datetime.datetime(2024, 1, 2, 0, 0), 'test_end': datetime.datetime(2024, 2, 8, 0, 0), 'target_column': 'growth', 'train_features': ['open', 'volume_lag_1', 'usa_inflation_%', '1_USD_to_EUR_lag_1', '1_EUR_to_USD_lag_1', '1_UAH_to_USD_lag_1', '1_USD_to_UAH_lag_1', '1_EUR_to_UAH_lag_1', '1_UAH_to_EUR_lag_1'], 'path_to_result': '/diploma_info/datalake/', 'forecast_periods': 4, 'model_name': 'random_forest', 'model': RandomForestClassifier(max_depth=9, n_estimators=200, n_jobs=-1, random_state=2), 'forecast_frequency': 'daily', 'company': 'google', 'model_hyperparameters': {'n_estimators': 200, 'n_jobs': -1, 'random_state': 2, 'max_depth': 9}, 'problem': 'classification'} \n",
      "\n",
      "(2368, 9) (2368, 1)\n",
      "random_forest\n"
     ]
    },
    {
     "name": "stderr",
     "output_type": "stream",
     "text": [
      "100%|██████████████████████████████████████████████████████████████████████████████████| 38/38 [00:12<00:00,  3.03it/s]\n"
     ]
    },
    {
     "name": "stdout",
     "output_type": "stream",
     "text": [
      "random_forest == {'unique_uuid': '986e6781-20c0-11ef-b87a-c0e434d84b22', 'train_start': datetime.datetime(2023, 1, 1, 0, 0), 'train_end': datetime.datetime(2023, 12, 29, 0, 0), 'test_start': datetime.datetime(2024, 1, 2, 0, 0), 'test_end': datetime.datetime(2024, 2, 8, 0, 0), 'target_column': 'growth', 'train_features': ['open', 'close_max_3_days', 'close_min_3_days', 'close_mean_3_days', '1_USD_to_EUR_lag_1', '1_EUR_to_USD_lag_1', '1_UAH_to_USD_lag_1', '1_USD_to_UAH_lag_1', '1_EUR_to_UAH_lag_1', '1_UAH_to_EUR_lag_1'], 'path_to_result': '/diploma_info/datalake/', 'forecast_periods': 4, 'model_name': 'random_forest', 'model': RandomForestClassifier(max_depth=9, n_estimators=200, n_jobs=-1, random_state=2), 'forecast_frequency': 'daily', 'company': 'google', 'model_hyperparameters': {'n_estimators': 200, 'n_jobs': -1, 'random_state': 2, 'max_depth': 9}, 'problem': 'classification'} \n",
      "\n",
      "(2368, 10) (2368, 1)\n",
      "random_forest\n"
     ]
    },
    {
     "name": "stderr",
     "output_type": "stream",
     "text": [
      "100%|██████████████████████████████████████████████████████████████████████████████████| 38/38 [00:12<00:00,  2.99it/s]\n"
     ]
    },
    {
     "name": "stdout",
     "output_type": "stream",
     "text": [
      "random_forest == {'unique_uuid': '986e6782-20c0-11ef-a9fb-c0e434d84b22', 'train_start': datetime.datetime(2023, 1, 1, 0, 0), 'train_end': datetime.datetime(2023, 12, 29, 0, 0), 'test_start': datetime.datetime(2024, 1, 2, 0, 0), 'test_end': datetime.datetime(2024, 2, 8, 0, 0), 'target_column': 'growth', 'train_features': ['open', 'year', 'month', 'day', 'day_of_week', 'week_of_year', '1_USD_to_EUR_lag_1', '1_EUR_to_USD_lag_1', '1_UAH_to_USD_lag_1', '1_USD_to_UAH_lag_1', '1_EUR_to_UAH_lag_1', '1_UAH_to_EUR_lag_1'], 'path_to_result': '/diploma_info/datalake/', 'forecast_periods': 4, 'model_name': 'random_forest', 'model': RandomForestClassifier(max_depth=9, n_estimators=200, n_jobs=-1, random_state=2), 'forecast_frequency': 'daily', 'company': 'google', 'model_hyperparameters': {'n_estimators': 200, 'n_jobs': -1, 'random_state': 2, 'max_depth': 9}, 'problem': 'classification'} \n",
      "\n",
      "(2368, 12) (2368, 1)\n",
      "random_forest\n"
     ]
    },
    {
     "name": "stderr",
     "output_type": "stream",
     "text": [
      "100%|██████████████████████████████████████████████████████████████████████████████████| 38/38 [00:12<00:00,  3.09it/s]\n"
     ]
    },
    {
     "name": "stdout",
     "output_type": "stream",
     "text": [
      "knear_neighbors == {'unique_uuid': '986e6783-20c0-11ef-b20a-c0e434d84b22', 'train_start': datetime.datetime(2023, 1, 1, 0, 0), 'train_end': datetime.datetime(2023, 12, 29, 0, 0), 'test_start': datetime.datetime(2024, 1, 2, 0, 0), 'test_end': datetime.datetime(2024, 2, 8, 0, 0), 'target_column': 'growth', 'train_features': ['open', 'volume_lag_1', 'usa_inflation_%', '1_USD_to_EUR_lag_1', '1_EUR_to_USD_lag_1', '1_UAH_to_USD_lag_1', '1_USD_to_UAH_lag_1', '1_EUR_to_UAH_lag_1', '1_UAH_to_EUR_lag_1'], 'path_to_result': '/diploma_info/datalake/', 'forecast_periods': 4, 'model_name': 'knear_neighbors', 'model': KNeighborsClassifier(n_jobs=-1, n_neighbors=3), 'forecast_frequency': 'daily', 'company': 'google', 'model_hyperparameters': {'n_neighbors': 3, 'n_jobs': -1}, 'problem': 'classification'} \n",
      "\n",
      "(2368, 9) (2368, 1)\n",
      "knear_neighbors\n"
     ]
    },
    {
     "name": "stderr",
     "output_type": "stream",
     "text": [
      "100%|██████████████████████████████████████████████████████████████████████████████████| 38/38 [00:01<00:00, 31.34it/s]\n"
     ]
    },
    {
     "name": "stdout",
     "output_type": "stream",
     "text": [
      "knear_neighbors == {'unique_uuid': '986e6784-20c0-11ef-866e-c0e434d84b22', 'train_start': datetime.datetime(2023, 1, 1, 0, 0), 'train_end': datetime.datetime(2023, 12, 29, 0, 0), 'test_start': datetime.datetime(2024, 1, 2, 0, 0), 'test_end': datetime.datetime(2024, 2, 8, 0, 0), 'target_column': 'growth', 'train_features': ['open', 'close_max_3_days', 'close_min_3_days', 'close_mean_3_days', '1_USD_to_EUR_lag_1', '1_EUR_to_USD_lag_1', '1_UAH_to_USD_lag_1', '1_USD_to_UAH_lag_1', '1_EUR_to_UAH_lag_1', '1_UAH_to_EUR_lag_1'], 'path_to_result': '/diploma_info/datalake/', 'forecast_periods': 4, 'model_name': 'knear_neighbors', 'model': KNeighborsClassifier(n_jobs=-1, n_neighbors=3), 'forecast_frequency': 'daily', 'company': 'google', 'model_hyperparameters': {'n_neighbors': 3, 'n_jobs': -1}, 'problem': 'classification'} \n",
      "\n",
      "(2368, 10) (2368, 1)\n",
      "knear_neighbors\n"
     ]
    },
    {
     "name": "stderr",
     "output_type": "stream",
     "text": [
      "100%|██████████████████████████████████████████████████████████████████████████████████| 38/38 [00:02<00:00, 17.68it/s]\n"
     ]
    },
    {
     "name": "stdout",
     "output_type": "stream",
     "text": [
      "knear_neighbors == {'unique_uuid': '986e6785-20c0-11ef-a265-c0e434d84b22', 'train_start': datetime.datetime(2023, 1, 1, 0, 0), 'train_end': datetime.datetime(2023, 12, 29, 0, 0), 'test_start': datetime.datetime(2024, 1, 2, 0, 0), 'test_end': datetime.datetime(2024, 2, 8, 0, 0), 'target_column': 'growth', 'train_features': ['open', 'year', 'month', 'day', 'day_of_week', 'week_of_year', '1_USD_to_EUR_lag_1', '1_EUR_to_USD_lag_1', '1_UAH_to_USD_lag_1', '1_USD_to_UAH_lag_1', '1_EUR_to_UAH_lag_1', '1_UAH_to_EUR_lag_1'], 'path_to_result': '/diploma_info/datalake/', 'forecast_periods': 4, 'model_name': 'knear_neighbors', 'model': KNeighborsClassifier(n_jobs=-1, n_neighbors=3), 'forecast_frequency': 'daily', 'company': 'google', 'model_hyperparameters': {'n_neighbors': 3, 'n_jobs': -1}, 'problem': 'classification'} \n",
      "\n",
      "(2368, 12) (2368, 1)\n",
      "knear_neighbors\n"
     ]
    },
    {
     "name": "stderr",
     "output_type": "stream",
     "text": [
      "100%|██████████████████████████████████████████████████████████████████████████████████| 38/38 [00:01<00:00, 23.29it/s]\n"
     ]
    },
    {
     "name": "stdout",
     "output_type": "stream",
     "text": [
      "knear_neighbors == {'unique_uuid': '986e6786-20c0-11ef-8304-c0e434d84b22', 'train_start': datetime.datetime(2023, 1, 1, 0, 0), 'train_end': datetime.datetime(2023, 12, 29, 0, 0), 'test_start': datetime.datetime(2024, 1, 2, 0, 0), 'test_end': datetime.datetime(2024, 2, 8, 0, 0), 'target_column': 'growth', 'train_features': ['open', 'volume_lag_1', 'usa_inflation_%', '1_USD_to_EUR_lag_1', '1_EUR_to_USD_lag_1', '1_UAH_to_USD_lag_1', '1_USD_to_UAH_lag_1', '1_EUR_to_UAH_lag_1', '1_UAH_to_EUR_lag_1'], 'path_to_result': '/diploma_info/datalake/', 'forecast_periods': 4, 'model_name': 'knear_neighbors', 'model': KNeighborsClassifier(n_jobs=-1), 'forecast_frequency': 'daily', 'company': 'google', 'model_hyperparameters': {'n_neighbors': 5, 'n_jobs': -1}, 'problem': 'classification'} \n",
      "\n",
      "(2368, 9) (2368, 1)\n",
      "knear_neighbors\n"
     ]
    },
    {
     "name": "stderr",
     "output_type": "stream",
     "text": [
      "100%|██████████████████████████████████████████████████████████████████████████████████| 38/38 [00:01<00:00, 28.57it/s]\n"
     ]
    },
    {
     "name": "stdout",
     "output_type": "stream",
     "text": [
      "knear_neighbors == {'unique_uuid': '986e6787-20c0-11ef-b1b5-c0e434d84b22', 'train_start': datetime.datetime(2023, 1, 1, 0, 0), 'train_end': datetime.datetime(2023, 12, 29, 0, 0), 'test_start': datetime.datetime(2024, 1, 2, 0, 0), 'test_end': datetime.datetime(2024, 2, 8, 0, 0), 'target_column': 'growth', 'train_features': ['open', 'close_max_3_days', 'close_min_3_days', 'close_mean_3_days', '1_USD_to_EUR_lag_1', '1_EUR_to_USD_lag_1', '1_UAH_to_USD_lag_1', '1_USD_to_UAH_lag_1', '1_EUR_to_UAH_lag_1', '1_UAH_to_EUR_lag_1'], 'path_to_result': '/diploma_info/datalake/', 'forecast_periods': 4, 'model_name': 'knear_neighbors', 'model': KNeighborsClassifier(n_jobs=-1), 'forecast_frequency': 'daily', 'company': 'google', 'model_hyperparameters': {'n_neighbors': 5, 'n_jobs': -1}, 'problem': 'classification'} \n",
      "\n",
      "(2368, 10) (2368, 1)\n",
      "knear_neighbors\n"
     ]
    },
    {
     "name": "stderr",
     "output_type": "stream",
     "text": [
      "100%|██████████████████████████████████████████████████████████████████████████████████| 38/38 [00:01<00:00, 24.95it/s]\n"
     ]
    },
    {
     "name": "stdout",
     "output_type": "stream",
     "text": [
      "knear_neighbors == {'unique_uuid': '986e6788-20c0-11ef-8246-c0e434d84b22', 'train_start': datetime.datetime(2023, 1, 1, 0, 0), 'train_end': datetime.datetime(2023, 12, 29, 0, 0), 'test_start': datetime.datetime(2024, 1, 2, 0, 0), 'test_end': datetime.datetime(2024, 2, 8, 0, 0), 'target_column': 'growth', 'train_features': ['open', 'year', 'month', 'day', 'day_of_week', 'week_of_year', '1_USD_to_EUR_lag_1', '1_EUR_to_USD_lag_1', '1_UAH_to_USD_lag_1', '1_USD_to_UAH_lag_1', '1_EUR_to_UAH_lag_1', '1_UAH_to_EUR_lag_1'], 'path_to_result': '/diploma_info/datalake/', 'forecast_periods': 4, 'model_name': 'knear_neighbors', 'model': KNeighborsClassifier(n_jobs=-1), 'forecast_frequency': 'daily', 'company': 'google', 'model_hyperparameters': {'n_neighbors': 5, 'n_jobs': -1}, 'problem': 'classification'} \n",
      "\n",
      "(2368, 12) (2368, 1)\n",
      "knear_neighbors\n"
     ]
    },
    {
     "name": "stderr",
     "output_type": "stream",
     "text": [
      "100%|██████████████████████████████████████████████████████████████████████████████████| 38/38 [00:01<00:00, 27.59it/s]\n"
     ]
    },
    {
     "name": "stdout",
     "output_type": "stream",
     "text": [
      "company: META\t period: daily\t train ends: 2023-12-29 00:00:00\t test starts: 2024-01-02 00:00:00\n",
      "_research_task_uuid = a68ce647-20c1-11ef-81fa-c0e434d84b22\n",
      "\n",
      "count_configs 45 \n",
      "\n",
      "xgboost == {'unique_uuid': 'a68ce648-20c1-11ef-9f5e-c0e434d84b22', 'train_start': datetime.datetime(2015, 1, 1, 0, 0), 'train_end': datetime.datetime(2023, 12, 29, 0, 0), 'test_start': datetime.datetime(2024, 1, 2, 0, 0), 'test_end': datetime.datetime(2024, 2, 8, 0, 0), 'target_column': 'growth', 'train_features': ['open', 'volume_lag_1', 'usa_inflation_%', '1_USD_to_EUR_lag_1', '1_EUR_to_USD_lag_1', '1_UAH_to_USD_lag_1', '1_USD_to_UAH_lag_1', '1_EUR_to_UAH_lag_1', '1_UAH_to_EUR_lag_1'], 'path_to_result': '/diploma_info/datalake/', 'forecast_periods': 4, 'model_name': 'xgboost', 'model': XGBClassifier(base_score=None, booster='gbtree', callbacks=None,\n",
      "              colsample_bylevel=None, colsample_bynode=None, colsample_bytree=1,\n",
      "              device=None, early_stopping_rounds=None, enable_categorical=False,\n",
      "              eta=0.3, eval_metric='rmse', feature_types=None, gamma=None,\n",
      "              grow_policy=None, importance_type=None,\n",
      "              interaction_constraints=None, learning_rate=None, max_bin=None,\n",
      "              max_cat_threshold=None, max_cat_to_onehot=None,\n",
      "              max_delta_step=None, max_depth=7, max_leaves=None,\n",
      "              min_child_weight=1, missing=nan, monotone_constraints=None,\n",
      "              multi_strategy=None, n_estimators=5000, n_jobs=-1,\n",
      "              num_parallel_tree=None, ...), 'forecast_frequency': 'daily', 'company': 'meta', 'model_hyperparameters': {'n_estimators': 5000, 'n_jobs': -1, 'max_depth': 7, 'eta': 0.3, 'booster': 'gbtree', 'objective': 'reg:squarederror', 'eval_metric': 'rmse', 'subsample': 1, 'colsample_bytree': 1, 'min_child_weight': 1, 'random_state': 2}, 'problem': 'classification'} \n",
      "\n",
      "(2368, 9) (2368, 1)\n",
      "xgboost\n"
     ]
    },
    {
     "name": "stderr",
     "output_type": "stream",
     "text": [
      "100%|██████████████████████████████████████████████████████████████████████████████████| 38/38 [01:08<00:00,  1.82s/it]\n"
     ]
    },
    {
     "name": "stdout",
     "output_type": "stream",
     "text": [
      "xgboost == {'unique_uuid': 'a68ce649-20c1-11ef-9611-c0e434d84b22', 'train_start': datetime.datetime(2015, 1, 1, 0, 0), 'train_end': datetime.datetime(2023, 12, 29, 0, 0), 'test_start': datetime.datetime(2024, 1, 2, 0, 0), 'test_end': datetime.datetime(2024, 2, 8, 0, 0), 'target_column': 'growth', 'train_features': ['open', 'close_max_3_days', 'close_min_3_days', 'close_mean_3_days', '1_USD_to_EUR_lag_1', '1_EUR_to_USD_lag_1', '1_UAH_to_USD_lag_1', '1_USD_to_UAH_lag_1', '1_EUR_to_UAH_lag_1', '1_UAH_to_EUR_lag_1'], 'path_to_result': '/diploma_info/datalake/', 'forecast_periods': 4, 'model_name': 'xgboost', 'model': XGBClassifier(base_score=None, booster='gbtree', callbacks=None,\n",
      "              colsample_bylevel=None, colsample_bynode=None, colsample_bytree=1,\n",
      "              device=None, early_stopping_rounds=None, enable_categorical=False,\n",
      "              eta=0.3, eval_metric='rmse', feature_types=None, gamma=None,\n",
      "              grow_policy=None, importance_type=None,\n",
      "              interaction_constraints=None, learning_rate=None, max_bin=None,\n",
      "              max_cat_threshold=None, max_cat_to_onehot=None,\n",
      "              max_delta_step=None, max_depth=7, max_leaves=None,\n",
      "              min_child_weight=1, missing=nan, monotone_constraints=None,\n",
      "              multi_strategy=None, n_estimators=5000, n_jobs=-1,\n",
      "              num_parallel_tree=None, ...), 'forecast_frequency': 'daily', 'company': 'meta', 'model_hyperparameters': {'n_estimators': 5000, 'n_jobs': -1, 'max_depth': 7, 'eta': 0.3, 'booster': 'gbtree', 'objective': 'reg:squarederror', 'eval_metric': 'rmse', 'subsample': 1, 'colsample_bytree': 1, 'min_child_weight': 1, 'random_state': 2}, 'problem': 'classification'} \n",
      "\n",
      "(2368, 10) (2368, 1)\n",
      "xgboost\n"
     ]
    },
    {
     "name": "stderr",
     "output_type": "stream",
     "text": [
      "100%|██████████████████████████████████████████████████████████████████████████████████| 38/38 [01:11<00:00,  1.89s/it]\n"
     ]
    },
    {
     "name": "stdout",
     "output_type": "stream",
     "text": [
      "xgboost == {'unique_uuid': 'a68ce64a-20c1-11ef-9d23-c0e434d84b22', 'train_start': datetime.datetime(2015, 1, 1, 0, 0), 'train_end': datetime.datetime(2023, 12, 29, 0, 0), 'test_start': datetime.datetime(2024, 1, 2, 0, 0), 'test_end': datetime.datetime(2024, 2, 8, 0, 0), 'target_column': 'growth', 'train_features': ['open', 'year', 'month', 'day', 'day_of_week', 'week_of_year', '1_USD_to_EUR_lag_1', '1_EUR_to_USD_lag_1', '1_UAH_to_USD_lag_1', '1_USD_to_UAH_lag_1', '1_EUR_to_UAH_lag_1', '1_UAH_to_EUR_lag_1'], 'path_to_result': '/diploma_info/datalake/', 'forecast_periods': 4, 'model_name': 'xgboost', 'model': XGBClassifier(base_score=None, booster='gbtree', callbacks=None,\n",
      "              colsample_bylevel=None, colsample_bynode=None, colsample_bytree=1,\n",
      "              device=None, early_stopping_rounds=None, enable_categorical=False,\n",
      "              eta=0.3, eval_metric='rmse', feature_types=None, gamma=None,\n",
      "              grow_policy=None, importance_type=None,\n",
      "              interaction_constraints=None, learning_rate=None, max_bin=None,\n",
      "              max_cat_threshold=None, max_cat_to_onehot=None,\n",
      "              max_delta_step=None, max_depth=7, max_leaves=None,\n",
      "              min_child_weight=1, missing=nan, monotone_constraints=None,\n",
      "              multi_strategy=None, n_estimators=5000, n_jobs=-1,\n",
      "              num_parallel_tree=None, ...), 'forecast_frequency': 'daily', 'company': 'meta', 'model_hyperparameters': {'n_estimators': 5000, 'n_jobs': -1, 'max_depth': 7, 'eta': 0.3, 'booster': 'gbtree', 'objective': 'reg:squarederror', 'eval_metric': 'rmse', 'subsample': 1, 'colsample_bytree': 1, 'min_child_weight': 1, 'random_state': 2}, 'problem': 'classification'} \n",
      "\n",
      "(2368, 12) (2368, 1)\n",
      "xgboost\n"
     ]
    },
    {
     "name": "stderr",
     "output_type": "stream",
     "text": [
      "100%|██████████████████████████████████████████████████████████████████████████████████| 38/38 [01:07<00:00,  1.78s/it]\n"
     ]
    },
    {
     "name": "stdout",
     "output_type": "stream",
     "text": [
      "lightgbm == {'unique_uuid': 'a68ce64b-20c1-11ef-a983-c0e434d84b22', 'train_start': datetime.datetime(2015, 1, 1, 0, 0), 'train_end': datetime.datetime(2023, 12, 29, 0, 0), 'test_start': datetime.datetime(2024, 1, 2, 0, 0), 'test_end': datetime.datetime(2024, 2, 8, 0, 0), 'target_column': 'growth', 'train_features': ['open', 'volume_lag_1', 'usa_inflation_%', '1_USD_to_EUR_lag_1', '1_EUR_to_USD_lag_1', '1_UAH_to_USD_lag_1', '1_USD_to_UAH_lag_1', '1_EUR_to_UAH_lag_1', '1_UAH_to_EUR_lag_1'], 'path_to_result': '/diploma_info/datalake/', 'forecast_periods': 4, 'model_name': 'lightgbm', 'model': LGBMClassifier(eta=0.3, max_depth=7, metric='binary', n_estimators=5000,\n",
      "               n_jobs=-1, objective='binary', random_state=2, verbosity=-1), 'forecast_frequency': 'daily', 'company': 'meta', 'model_hyperparameters': {'n_estimators': 5000, 'n_jobs': -1, 'max_depth': 7, 'eta': 0.3, 'random_state': 2, 'objective': 'binary', 'verbosity': -1, 'metric': 'binary'}, 'problem': 'classification'} \n",
      "\n",
      "(2368, 9) (2368, 1)\n",
      "lightgbm\n"
     ]
    },
    {
     "name": "stderr",
     "output_type": "stream",
     "text": [
      "100%|██████████████████████████████████████████████████████████████████████████████████| 38/38 [01:05<00:00,  1.73s/it]\n"
     ]
    },
    {
     "name": "stdout",
     "output_type": "stream",
     "text": [
      "lightgbm == {'unique_uuid': 'a68ce64c-20c1-11ef-9796-c0e434d84b22', 'train_start': datetime.datetime(2015, 1, 1, 0, 0), 'train_end': datetime.datetime(2023, 12, 29, 0, 0), 'test_start': datetime.datetime(2024, 1, 2, 0, 0), 'test_end': datetime.datetime(2024, 2, 8, 0, 0), 'target_column': 'growth', 'train_features': ['open', 'close_max_3_days', 'close_min_3_days', 'close_mean_3_days', '1_USD_to_EUR_lag_1', '1_EUR_to_USD_lag_1', '1_UAH_to_USD_lag_1', '1_USD_to_UAH_lag_1', '1_EUR_to_UAH_lag_1', '1_UAH_to_EUR_lag_1'], 'path_to_result': '/diploma_info/datalake/', 'forecast_periods': 4, 'model_name': 'lightgbm', 'model': LGBMClassifier(eta=0.3, max_depth=7, metric='binary', n_estimators=5000,\n",
      "               n_jobs=-1, objective='binary', random_state=2, verbosity=-1), 'forecast_frequency': 'daily', 'company': 'meta', 'model_hyperparameters': {'n_estimators': 5000, 'n_jobs': -1, 'max_depth': 7, 'eta': 0.3, 'random_state': 2, 'objective': 'binary', 'verbosity': -1, 'metric': 'binary'}, 'problem': 'classification'} \n",
      "\n",
      "(2368, 10) (2368, 1)\n",
      "lightgbm\n"
     ]
    },
    {
     "name": "stderr",
     "output_type": "stream",
     "text": [
      "100%|██████████████████████████████████████████████████████████████████████████████████| 38/38 [01:02<00:00,  1.65s/it]\n"
     ]
    },
    {
     "name": "stdout",
     "output_type": "stream",
     "text": [
      "lightgbm == {'unique_uuid': 'a68ce64d-20c1-11ef-9302-c0e434d84b22', 'train_start': datetime.datetime(2015, 1, 1, 0, 0), 'train_end': datetime.datetime(2023, 12, 29, 0, 0), 'test_start': datetime.datetime(2024, 1, 2, 0, 0), 'test_end': datetime.datetime(2024, 2, 8, 0, 0), 'target_column': 'growth', 'train_features': ['open', 'year', 'month', 'day', 'day_of_week', 'week_of_year', '1_USD_to_EUR_lag_1', '1_EUR_to_USD_lag_1', '1_UAH_to_USD_lag_1', '1_USD_to_UAH_lag_1', '1_EUR_to_UAH_lag_1', '1_UAH_to_EUR_lag_1'], 'path_to_result': '/diploma_info/datalake/', 'forecast_periods': 4, 'model_name': 'lightgbm', 'model': LGBMClassifier(eta=0.3, max_depth=7, metric='binary', n_estimators=5000,\n",
      "               n_jobs=-1, objective='binary', random_state=2, verbosity=-1), 'forecast_frequency': 'daily', 'company': 'meta', 'model_hyperparameters': {'n_estimators': 5000, 'n_jobs': -1, 'max_depth': 7, 'eta': 0.3, 'random_state': 2, 'objective': 'binary', 'verbosity': -1, 'metric': 'binary'}, 'problem': 'classification'} \n",
      "\n",
      "(2368, 12) (2368, 1)\n",
      "lightgbm\n"
     ]
    },
    {
     "name": "stderr",
     "output_type": "stream",
     "text": [
      "100%|██████████████████████████████████████████████████████████████████████████████████| 38/38 [01:12<00:00,  1.92s/it]\n"
     ]
    },
    {
     "name": "stdout",
     "output_type": "stream",
     "text": [
      "lightgbm == {'unique_uuid': 'a68ce64e-20c1-11ef-b14f-c0e434d84b22', 'train_start': datetime.datetime(2015, 1, 1, 0, 0), 'train_end': datetime.datetime(2023, 12, 29, 0, 0), 'test_start': datetime.datetime(2024, 1, 2, 0, 0), 'test_end': datetime.datetime(2024, 2, 8, 0, 0), 'target_column': 'growth', 'train_features': ['open', 'volume_lag_1', 'usa_inflation_%', '1_USD_to_EUR_lag_1', '1_EUR_to_USD_lag_1', '1_UAH_to_USD_lag_1', '1_USD_to_UAH_lag_1', '1_EUR_to_UAH_lag_1', '1_UAH_to_EUR_lag_1'], 'path_to_result': '/diploma_info/datalake/', 'forecast_periods': 4, 'model_name': 'lightgbm', 'model': LGBMClassifier(eta=0.3, max_depth=9, metric='binary', n_estimators=5000,\n",
      "               n_jobs=-1, objective='binary', random_state=2, verbosity=-1), 'forecast_frequency': 'daily', 'company': 'meta', 'model_hyperparameters': {'n_estimators': 5000, 'n_jobs': -1, 'max_depth': 9, 'eta': 0.3, 'random_state': 2, 'objective': 'binary', 'verbosity': -1, 'metric': 'binary'}, 'problem': 'classification'} \n",
      "\n",
      "(2368, 9) (2368, 1)\n",
      "lightgbm\n"
     ]
    },
    {
     "name": "stderr",
     "output_type": "stream",
     "text": [
      "100%|██████████████████████████████████████████████████████████████████████████████████| 38/38 [01:20<00:00,  2.12s/it]\n"
     ]
    },
    {
     "name": "stdout",
     "output_type": "stream",
     "text": [
      "lightgbm == {'unique_uuid': 'a68ce64f-20c1-11ef-95e3-c0e434d84b22', 'train_start': datetime.datetime(2015, 1, 1, 0, 0), 'train_end': datetime.datetime(2023, 12, 29, 0, 0), 'test_start': datetime.datetime(2024, 1, 2, 0, 0), 'test_end': datetime.datetime(2024, 2, 8, 0, 0), 'target_column': 'growth', 'train_features': ['open', 'close_max_3_days', 'close_min_3_days', 'close_mean_3_days', '1_USD_to_EUR_lag_1', '1_EUR_to_USD_lag_1', '1_UAH_to_USD_lag_1', '1_USD_to_UAH_lag_1', '1_EUR_to_UAH_lag_1', '1_UAH_to_EUR_lag_1'], 'path_to_result': '/diploma_info/datalake/', 'forecast_periods': 4, 'model_name': 'lightgbm', 'model': LGBMClassifier(eta=0.3, max_depth=9, metric='binary', n_estimators=5000,\n",
      "               n_jobs=-1, objective='binary', random_state=2, verbosity=-1), 'forecast_frequency': 'daily', 'company': 'meta', 'model_hyperparameters': {'n_estimators': 5000, 'n_jobs': -1, 'max_depth': 9, 'eta': 0.3, 'random_state': 2, 'objective': 'binary', 'verbosity': -1, 'metric': 'binary'}, 'problem': 'classification'} \n",
      "\n",
      "(2368, 10) (2368, 1)\n",
      "lightgbm\n"
     ]
    },
    {
     "name": "stderr",
     "output_type": "stream",
     "text": [
      "100%|██████████████████████████████████████████████████████████████████████████████████| 38/38 [01:18<00:00,  2.07s/it]\n"
     ]
    },
    {
     "name": "stdout",
     "output_type": "stream",
     "text": [
      "lightgbm == {'unique_uuid': 'a68ce650-20c1-11ef-8081-c0e434d84b22', 'train_start': datetime.datetime(2015, 1, 1, 0, 0), 'train_end': datetime.datetime(2023, 12, 29, 0, 0), 'test_start': datetime.datetime(2024, 1, 2, 0, 0), 'test_end': datetime.datetime(2024, 2, 8, 0, 0), 'target_column': 'growth', 'train_features': ['open', 'year', 'month', 'day', 'day_of_week', 'week_of_year', '1_USD_to_EUR_lag_1', '1_EUR_to_USD_lag_1', '1_UAH_to_USD_lag_1', '1_USD_to_UAH_lag_1', '1_EUR_to_UAH_lag_1', '1_UAH_to_EUR_lag_1'], 'path_to_result': '/diploma_info/datalake/', 'forecast_periods': 4, 'model_name': 'lightgbm', 'model': LGBMClassifier(eta=0.3, max_depth=9, metric='binary', n_estimators=5000,\n",
      "               n_jobs=-1, objective='binary', random_state=2, verbosity=-1), 'forecast_frequency': 'daily', 'company': 'meta', 'model_hyperparameters': {'n_estimators': 5000, 'n_jobs': -1, 'max_depth': 9, 'eta': 0.3, 'random_state': 2, 'objective': 'binary', 'verbosity': -1, 'metric': 'binary'}, 'problem': 'classification'} \n",
      "\n",
      "(2368, 12) (2368, 1)\n",
      "lightgbm\n"
     ]
    },
    {
     "name": "stderr",
     "output_type": "stream",
     "text": [
      "100%|██████████████████████████████████████████████████████████████████████████████████| 38/38 [01:29<00:00,  2.35s/it]\n"
     ]
    },
    {
     "name": "stdout",
     "output_type": "stream",
     "text": [
      "random_forest == {'unique_uuid': 'a68ce651-20c1-11ef-b06e-c0e434d84b22', 'train_start': datetime.datetime(2015, 1, 1, 0, 0), 'train_end': datetime.datetime(2023, 12, 29, 0, 0), 'test_start': datetime.datetime(2024, 1, 2, 0, 0), 'test_end': datetime.datetime(2024, 2, 8, 0, 0), 'target_column': 'growth', 'train_features': ['open', 'volume_lag_1', 'usa_inflation_%', '1_USD_to_EUR_lag_1', '1_EUR_to_USD_lag_1', '1_UAH_to_USD_lag_1', '1_USD_to_UAH_lag_1', '1_EUR_to_UAH_lag_1', '1_UAH_to_EUR_lag_1'], 'path_to_result': '/diploma_info/datalake/', 'forecast_periods': 4, 'model_name': 'random_forest', 'model': RandomForestClassifier(max_depth=9, n_estimators=10, n_jobs=-1, random_state=2), 'forecast_frequency': 'daily', 'company': 'meta', 'model_hyperparameters': {'n_estimators': 10, 'n_jobs': -1, 'random_state': 2, 'max_depth': 9}, 'problem': 'classification'} \n",
      "\n",
      "(2368, 9) (2368, 1)\n",
      "random_forest\n"
     ]
    },
    {
     "name": "stderr",
     "output_type": "stream",
     "text": [
      "100%|██████████████████████████████████████████████████████████████████████████████████| 38/38 [00:02<00:00, 13.28it/s]\n"
     ]
    },
    {
     "name": "stdout",
     "output_type": "stream",
     "text": [
      "random_forest == {'unique_uuid': 'a68ce652-20c1-11ef-95ca-c0e434d84b22', 'train_start': datetime.datetime(2015, 1, 1, 0, 0), 'train_end': datetime.datetime(2023, 12, 29, 0, 0), 'test_start': datetime.datetime(2024, 1, 2, 0, 0), 'test_end': datetime.datetime(2024, 2, 8, 0, 0), 'target_column': 'growth', 'train_features': ['open', 'close_max_3_days', 'close_min_3_days', 'close_mean_3_days', '1_USD_to_EUR_lag_1', '1_EUR_to_USD_lag_1', '1_UAH_to_USD_lag_1', '1_USD_to_UAH_lag_1', '1_EUR_to_UAH_lag_1', '1_UAH_to_EUR_lag_1'], 'path_to_result': '/diploma_info/datalake/', 'forecast_periods': 4, 'model_name': 'random_forest', 'model': RandomForestClassifier(max_depth=9, n_estimators=10, n_jobs=-1, random_state=2), 'forecast_frequency': 'daily', 'company': 'meta', 'model_hyperparameters': {'n_estimators': 10, 'n_jobs': -1, 'random_state': 2, 'max_depth': 9}, 'problem': 'classification'} \n",
      "\n",
      "(2368, 10) (2368, 1)\n",
      "random_forest\n"
     ]
    },
    {
     "name": "stderr",
     "output_type": "stream",
     "text": [
      "100%|██████████████████████████████████████████████████████████████████████████████████| 38/38 [00:02<00:00, 13.37it/s]\n"
     ]
    },
    {
     "name": "stdout",
     "output_type": "stream",
     "text": [
      "random_forest == {'unique_uuid': 'a68ce653-20c1-11ef-b4ce-c0e434d84b22', 'train_start': datetime.datetime(2015, 1, 1, 0, 0), 'train_end': datetime.datetime(2023, 12, 29, 0, 0), 'test_start': datetime.datetime(2024, 1, 2, 0, 0), 'test_end': datetime.datetime(2024, 2, 8, 0, 0), 'target_column': 'growth', 'train_features': ['open', 'year', 'month', 'day', 'day_of_week', 'week_of_year', '1_USD_to_EUR_lag_1', '1_EUR_to_USD_lag_1', '1_UAH_to_USD_lag_1', '1_USD_to_UAH_lag_1', '1_EUR_to_UAH_lag_1', '1_UAH_to_EUR_lag_1'], 'path_to_result': '/diploma_info/datalake/', 'forecast_periods': 4, 'model_name': 'random_forest', 'model': RandomForestClassifier(max_depth=9, n_estimators=10, n_jobs=-1, random_state=2), 'forecast_frequency': 'daily', 'company': 'meta', 'model_hyperparameters': {'n_estimators': 10, 'n_jobs': -1, 'random_state': 2, 'max_depth': 9}, 'problem': 'classification'} \n",
      "\n",
      "(2368, 12) (2368, 1)\n",
      "random_forest\n"
     ]
    },
    {
     "name": "stderr",
     "output_type": "stream",
     "text": [
      "100%|██████████████████████████████████████████████████████████████████████████████████| 38/38 [00:02<00:00, 14.25it/s]\n"
     ]
    },
    {
     "name": "stdout",
     "output_type": "stream",
     "text": [
      "knear_neighbors == {'unique_uuid': 'a68ce654-20c1-11ef-b0f9-c0e434d84b22', 'train_start': datetime.datetime(2015, 1, 1, 0, 0), 'train_end': datetime.datetime(2023, 12, 29, 0, 0), 'test_start': datetime.datetime(2024, 1, 2, 0, 0), 'test_end': datetime.datetime(2024, 2, 8, 0, 0), 'target_column': 'growth', 'train_features': ['open', 'volume_lag_1', 'usa_inflation_%', '1_USD_to_EUR_lag_1', '1_EUR_to_USD_lag_1', '1_UAH_to_USD_lag_1', '1_USD_to_UAH_lag_1', '1_EUR_to_UAH_lag_1', '1_UAH_to_EUR_lag_1'], 'path_to_result': '/diploma_info/datalake/', 'forecast_periods': 4, 'model_name': 'knear_neighbors', 'model': KNeighborsClassifier(n_jobs=-1, n_neighbors=9), 'forecast_frequency': 'daily', 'company': 'meta', 'model_hyperparameters': {'n_neighbors': 9, 'n_jobs': -1}, 'problem': 'classification'} \n",
      "\n",
      "(2368, 9) (2368, 1)\n",
      "knear_neighbors\n"
     ]
    },
    {
     "name": "stderr",
     "output_type": "stream",
     "text": [
      "100%|██████████████████████████████████████████████████████████████████████████████████| 38/38 [00:01<00:00, 27.31it/s]\n"
     ]
    },
    {
     "name": "stdout",
     "output_type": "stream",
     "text": [
      "knear_neighbors == {'unique_uuid': 'a68ce655-20c1-11ef-b25f-c0e434d84b22', 'train_start': datetime.datetime(2015, 1, 1, 0, 0), 'train_end': datetime.datetime(2023, 12, 29, 0, 0), 'test_start': datetime.datetime(2024, 1, 2, 0, 0), 'test_end': datetime.datetime(2024, 2, 8, 0, 0), 'target_column': 'growth', 'train_features': ['open', 'close_max_3_days', 'close_min_3_days', 'close_mean_3_days', '1_USD_to_EUR_lag_1', '1_EUR_to_USD_lag_1', '1_UAH_to_USD_lag_1', '1_USD_to_UAH_lag_1', '1_EUR_to_UAH_lag_1', '1_UAH_to_EUR_lag_1'], 'path_to_result': '/diploma_info/datalake/', 'forecast_periods': 4, 'model_name': 'knear_neighbors', 'model': KNeighborsClassifier(n_jobs=-1, n_neighbors=9), 'forecast_frequency': 'daily', 'company': 'meta', 'model_hyperparameters': {'n_neighbors': 9, 'n_jobs': -1}, 'problem': 'classification'} \n",
      "\n",
      "(2368, 10) (2368, 1)\n",
      "knear_neighbors\n"
     ]
    },
    {
     "name": "stderr",
     "output_type": "stream",
     "text": [
      "100%|██████████████████████████████████████████████████████████████████████████████████| 38/38 [00:01<00:00, 25.73it/s]\n"
     ]
    },
    {
     "name": "stdout",
     "output_type": "stream",
     "text": [
      "knear_neighbors == {'unique_uuid': 'a68ce656-20c1-11ef-a2fb-c0e434d84b22', 'train_start': datetime.datetime(2015, 1, 1, 0, 0), 'train_end': datetime.datetime(2023, 12, 29, 0, 0), 'test_start': datetime.datetime(2024, 1, 2, 0, 0), 'test_end': datetime.datetime(2024, 2, 8, 0, 0), 'target_column': 'growth', 'train_features': ['open', 'year', 'month', 'day', 'day_of_week', 'week_of_year', '1_USD_to_EUR_lag_1', '1_EUR_to_USD_lag_1', '1_UAH_to_USD_lag_1', '1_USD_to_UAH_lag_1', '1_EUR_to_UAH_lag_1', '1_UAH_to_EUR_lag_1'], 'path_to_result': '/diploma_info/datalake/', 'forecast_periods': 4, 'model_name': 'knear_neighbors', 'model': KNeighborsClassifier(n_jobs=-1, n_neighbors=9), 'forecast_frequency': 'daily', 'company': 'meta', 'model_hyperparameters': {'n_neighbors': 9, 'n_jobs': -1}, 'problem': 'classification'} \n",
      "\n",
      "(2368, 12) (2368, 1)\n",
      "knear_neighbors\n"
     ]
    },
    {
     "name": "stderr",
     "output_type": "stream",
     "text": [
      "100%|██████████████████████████████████████████████████████████████████████████████████| 38/38 [00:01<00:00, 26.83it/s]\n"
     ]
    },
    {
     "name": "stdout",
     "output_type": "stream",
     "text": [
      "xgboost == {'unique_uuid': 'a68ce657-20c1-11ef-b74f-c0e434d84b22', 'train_start': datetime.datetime(2020, 1, 1, 0, 0), 'train_end': datetime.datetime(2023, 12, 29, 0, 0), 'test_start': datetime.datetime(2024, 1, 2, 0, 0), 'test_end': datetime.datetime(2024, 2, 8, 0, 0), 'target_column': 'growth', 'train_features': ['open', 'volume_lag_1', 'usa_inflation_%', '1_USD_to_EUR_lag_1', '1_EUR_to_USD_lag_1', '1_UAH_to_USD_lag_1', '1_USD_to_UAH_lag_1', '1_EUR_to_UAH_lag_1', '1_UAH_to_EUR_lag_1'], 'path_to_result': '/diploma_info/datalake/', 'forecast_periods': 4, 'model_name': 'xgboost', 'model': XGBClassifier(base_score=None, booster='gbtree', callbacks=None,\n",
      "              colsample_bylevel=None, colsample_bynode=None, colsample_bytree=1,\n",
      "              device=None, early_stopping_rounds=None, enable_categorical=False,\n",
      "              eta=0.3, eval_metric='rmse', feature_types=None, gamma=None,\n",
      "              grow_policy=None, importance_type=None,\n",
      "              interaction_constraints=None, learning_rate=None, max_bin=None,\n",
      "              max_cat_threshold=None, max_cat_to_onehot=None,\n",
      "              max_delta_step=None, max_depth=7, max_leaves=None,\n",
      "              min_child_weight=1, missing=nan, monotone_constraints=None,\n",
      "              multi_strategy=None, n_estimators=5000, n_jobs=-1,\n",
      "              num_parallel_tree=None, ...), 'forecast_frequency': 'daily', 'company': 'meta', 'model_hyperparameters': {'n_estimators': 5000, 'n_jobs': -1, 'max_depth': 7, 'eta': 0.3, 'booster': 'gbtree', 'objective': 'reg:squarederror', 'eval_metric': 'rmse', 'subsample': 1, 'colsample_bytree': 1, 'min_child_weight': 1, 'random_state': 2}, 'problem': 'classification'} \n",
      "\n",
      "(2368, 9) (2368, 1)\n",
      "xgboost\n"
     ]
    },
    {
     "name": "stderr",
     "output_type": "stream",
     "text": [
      "100%|██████████████████████████████████████████████████████████████████████████████████| 38/38 [00:49<00:00,  1.31s/it]\n"
     ]
    },
    {
     "name": "stdout",
     "output_type": "stream",
     "text": [
      "xgboost == {'unique_uuid': 'a68ce658-20c1-11ef-971a-c0e434d84b22', 'train_start': datetime.datetime(2020, 1, 1, 0, 0), 'train_end': datetime.datetime(2023, 12, 29, 0, 0), 'test_start': datetime.datetime(2024, 1, 2, 0, 0), 'test_end': datetime.datetime(2024, 2, 8, 0, 0), 'target_column': 'growth', 'train_features': ['open', 'close_max_3_days', 'close_min_3_days', 'close_mean_3_days', '1_USD_to_EUR_lag_1', '1_EUR_to_USD_lag_1', '1_UAH_to_USD_lag_1', '1_USD_to_UAH_lag_1', '1_EUR_to_UAH_lag_1', '1_UAH_to_EUR_lag_1'], 'path_to_result': '/diploma_info/datalake/', 'forecast_periods': 4, 'model_name': 'xgboost', 'model': XGBClassifier(base_score=None, booster='gbtree', callbacks=None,\n",
      "              colsample_bylevel=None, colsample_bynode=None, colsample_bytree=1,\n",
      "              device=None, early_stopping_rounds=None, enable_categorical=False,\n",
      "              eta=0.3, eval_metric='rmse', feature_types=None, gamma=None,\n",
      "              grow_policy=None, importance_type=None,\n",
      "              interaction_constraints=None, learning_rate=None, max_bin=None,\n",
      "              max_cat_threshold=None, max_cat_to_onehot=None,\n",
      "              max_delta_step=None, max_depth=7, max_leaves=None,\n",
      "              min_child_weight=1, missing=nan, monotone_constraints=None,\n",
      "              multi_strategy=None, n_estimators=5000, n_jobs=-1,\n",
      "              num_parallel_tree=None, ...), 'forecast_frequency': 'daily', 'company': 'meta', 'model_hyperparameters': {'n_estimators': 5000, 'n_jobs': -1, 'max_depth': 7, 'eta': 0.3, 'booster': 'gbtree', 'objective': 'reg:squarederror', 'eval_metric': 'rmse', 'subsample': 1, 'colsample_bytree': 1, 'min_child_weight': 1, 'random_state': 2}, 'problem': 'classification'} \n",
      "\n",
      "(2368, 10) (2368, 1)\n",
      "xgboost\n"
     ]
    },
    {
     "name": "stderr",
     "output_type": "stream",
     "text": [
      "100%|██████████████████████████████████████████████████████████████████████████████████| 38/38 [00:54<00:00,  1.44s/it]\n"
     ]
    },
    {
     "name": "stdout",
     "output_type": "stream",
     "text": [
      "xgboost == {'unique_uuid': 'a68ce659-20c1-11ef-a132-c0e434d84b22', 'train_start': datetime.datetime(2020, 1, 1, 0, 0), 'train_end': datetime.datetime(2023, 12, 29, 0, 0), 'test_start': datetime.datetime(2024, 1, 2, 0, 0), 'test_end': datetime.datetime(2024, 2, 8, 0, 0), 'target_column': 'growth', 'train_features': ['open', 'year', 'month', 'day', 'day_of_week', 'week_of_year', '1_USD_to_EUR_lag_1', '1_EUR_to_USD_lag_1', '1_UAH_to_USD_lag_1', '1_USD_to_UAH_lag_1', '1_EUR_to_UAH_lag_1', '1_UAH_to_EUR_lag_1'], 'path_to_result': '/diploma_info/datalake/', 'forecast_periods': 4, 'model_name': 'xgboost', 'model': XGBClassifier(base_score=None, booster='gbtree', callbacks=None,\n",
      "              colsample_bylevel=None, colsample_bynode=None, colsample_bytree=1,\n",
      "              device=None, early_stopping_rounds=None, enable_categorical=False,\n",
      "              eta=0.3, eval_metric='rmse', feature_types=None, gamma=None,\n",
      "              grow_policy=None, importance_type=None,\n",
      "              interaction_constraints=None, learning_rate=None, max_bin=None,\n",
      "              max_cat_threshold=None, max_cat_to_onehot=None,\n",
      "              max_delta_step=None, max_depth=7, max_leaves=None,\n",
      "              min_child_weight=1, missing=nan, monotone_constraints=None,\n",
      "              multi_strategy=None, n_estimators=5000, n_jobs=-1,\n",
      "              num_parallel_tree=None, ...), 'forecast_frequency': 'daily', 'company': 'meta', 'model_hyperparameters': {'n_estimators': 5000, 'n_jobs': -1, 'max_depth': 7, 'eta': 0.3, 'booster': 'gbtree', 'objective': 'reg:squarederror', 'eval_metric': 'rmse', 'subsample': 1, 'colsample_bytree': 1, 'min_child_weight': 1, 'random_state': 2}, 'problem': 'classification'} \n",
      "\n",
      "(2368, 12) (2368, 1)\n",
      "xgboost\n"
     ]
    },
    {
     "name": "stderr",
     "output_type": "stream",
     "text": [
      "100%|██████████████████████████████████████████████████████████████████████████████████| 38/38 [00:51<00:00,  1.37s/it]\n"
     ]
    },
    {
     "name": "stdout",
     "output_type": "stream",
     "text": [
      "lightgbm == {'unique_uuid': 'a68ce65a-20c1-11ef-9e1d-c0e434d84b22', 'train_start': datetime.datetime(2020, 1, 1, 0, 0), 'train_end': datetime.datetime(2023, 12, 29, 0, 0), 'test_start': datetime.datetime(2024, 1, 2, 0, 0), 'test_end': datetime.datetime(2024, 2, 8, 0, 0), 'target_column': 'growth', 'train_features': ['open', 'volume_lag_1', 'usa_inflation_%', '1_USD_to_EUR_lag_1', '1_EUR_to_USD_lag_1', '1_UAH_to_USD_lag_1', '1_USD_to_UAH_lag_1', '1_EUR_to_UAH_lag_1', '1_UAH_to_EUR_lag_1'], 'path_to_result': '/diploma_info/datalake/', 'forecast_periods': 4, 'model_name': 'lightgbm', 'model': LGBMClassifier(eta=0.3, max_depth=7, metric='binary', n_estimators=5000,\n",
      "               n_jobs=-1, objective='binary', random_state=2, verbosity=-1), 'forecast_frequency': 'daily', 'company': 'meta', 'model_hyperparameters': {'n_estimators': 5000, 'n_jobs': -1, 'max_depth': 7, 'eta': 0.3, 'random_state': 2, 'objective': 'binary', 'verbosity': -1, 'metric': 'binary'}, 'problem': 'classification'} \n",
      "\n",
      "(2368, 9) (2368, 1)\n",
      "lightgbm\n"
     ]
    },
    {
     "name": "stderr",
     "output_type": "stream",
     "text": [
      "100%|██████████████████████████████████████████████████████████████████████████████████| 38/38 [00:49<00:00,  1.31s/it]\n"
     ]
    },
    {
     "name": "stdout",
     "output_type": "stream",
     "text": [
      "lightgbm == {'unique_uuid': 'a68ce65b-20c1-11ef-9d36-c0e434d84b22', 'train_start': datetime.datetime(2020, 1, 1, 0, 0), 'train_end': datetime.datetime(2023, 12, 29, 0, 0), 'test_start': datetime.datetime(2024, 1, 2, 0, 0), 'test_end': datetime.datetime(2024, 2, 8, 0, 0), 'target_column': 'growth', 'train_features': ['open', 'close_max_3_days', 'close_min_3_days', 'close_mean_3_days', '1_USD_to_EUR_lag_1', '1_EUR_to_USD_lag_1', '1_UAH_to_USD_lag_1', '1_USD_to_UAH_lag_1', '1_EUR_to_UAH_lag_1', '1_UAH_to_EUR_lag_1'], 'path_to_result': '/diploma_info/datalake/', 'forecast_periods': 4, 'model_name': 'lightgbm', 'model': LGBMClassifier(eta=0.3, max_depth=7, metric='binary', n_estimators=5000,\n",
      "               n_jobs=-1, objective='binary', random_state=2, verbosity=-1), 'forecast_frequency': 'daily', 'company': 'meta', 'model_hyperparameters': {'n_estimators': 5000, 'n_jobs': -1, 'max_depth': 7, 'eta': 0.3, 'random_state': 2, 'objective': 'binary', 'verbosity': -1, 'metric': 'binary'}, 'problem': 'classification'} \n",
      "\n",
      "(2368, 10) (2368, 1)\n",
      "lightgbm\n"
     ]
    },
    {
     "name": "stderr",
     "output_type": "stream",
     "text": [
      "100%|██████████████████████████████████████████████████████████████████████████████████| 38/38 [00:48<00:00,  1.27s/it]\n"
     ]
    },
    {
     "name": "stdout",
     "output_type": "stream",
     "text": [
      "lightgbm == {'unique_uuid': 'a68ce65c-20c1-11ef-b6d9-c0e434d84b22', 'train_start': datetime.datetime(2020, 1, 1, 0, 0), 'train_end': datetime.datetime(2023, 12, 29, 0, 0), 'test_start': datetime.datetime(2024, 1, 2, 0, 0), 'test_end': datetime.datetime(2024, 2, 8, 0, 0), 'target_column': 'growth', 'train_features': ['open', 'year', 'month', 'day', 'day_of_week', 'week_of_year', '1_USD_to_EUR_lag_1', '1_EUR_to_USD_lag_1', '1_UAH_to_USD_lag_1', '1_USD_to_UAH_lag_1', '1_EUR_to_UAH_lag_1', '1_UAH_to_EUR_lag_1'], 'path_to_result': '/diploma_info/datalake/', 'forecast_periods': 4, 'model_name': 'lightgbm', 'model': LGBMClassifier(eta=0.3, max_depth=7, metric='binary', n_estimators=5000,\n",
      "               n_jobs=-1, objective='binary', random_state=2, verbosity=-1), 'forecast_frequency': 'daily', 'company': 'meta', 'model_hyperparameters': {'n_estimators': 5000, 'n_jobs': -1, 'max_depth': 7, 'eta': 0.3, 'random_state': 2, 'objective': 'binary', 'verbosity': -1, 'metric': 'binary'}, 'problem': 'classification'} \n",
      "\n",
      "(2368, 12) (2368, 1)\n",
      "lightgbm\n"
     ]
    },
    {
     "name": "stderr",
     "output_type": "stream",
     "text": [
      "100%|██████████████████████████████████████████████████████████████████████████████████| 38/38 [00:53<00:00,  1.41s/it]\n"
     ]
    },
    {
     "name": "stdout",
     "output_type": "stream",
     "text": [
      "lightgbm == {'unique_uuid': 'a68ce65d-20c1-11ef-94c0-c0e434d84b22', 'train_start': datetime.datetime(2020, 1, 1, 0, 0), 'train_end': datetime.datetime(2023, 12, 29, 0, 0), 'test_start': datetime.datetime(2024, 1, 2, 0, 0), 'test_end': datetime.datetime(2024, 2, 8, 0, 0), 'target_column': 'growth', 'train_features': ['open', 'volume_lag_1', 'usa_inflation_%', '1_USD_to_EUR_lag_1', '1_EUR_to_USD_lag_1', '1_UAH_to_USD_lag_1', '1_USD_to_UAH_lag_1', '1_EUR_to_UAH_lag_1', '1_UAH_to_EUR_lag_1'], 'path_to_result': '/diploma_info/datalake/', 'forecast_periods': 4, 'model_name': 'lightgbm', 'model': LGBMClassifier(eta=0.3, max_depth=9, metric='binary', n_estimators=5000,\n",
      "               n_jobs=-1, objective='binary', random_state=2, verbosity=-1), 'forecast_frequency': 'daily', 'company': 'meta', 'model_hyperparameters': {'n_estimators': 5000, 'n_jobs': -1, 'max_depth': 9, 'eta': 0.3, 'random_state': 2, 'objective': 'binary', 'verbosity': -1, 'metric': 'binary'}, 'problem': 'classification'} \n",
      "\n",
      "(2368, 9) (2368, 1)\n",
      "lightgbm\n"
     ]
    },
    {
     "name": "stderr",
     "output_type": "stream",
     "text": [
      "100%|██████████████████████████████████████████████████████████████████████████████████| 38/38 [01:00<00:00,  1.59s/it]\n"
     ]
    },
    {
     "name": "stdout",
     "output_type": "stream",
     "text": [
      "lightgbm == {'unique_uuid': 'a68ce65e-20c1-11ef-b1a0-c0e434d84b22', 'train_start': datetime.datetime(2020, 1, 1, 0, 0), 'train_end': datetime.datetime(2023, 12, 29, 0, 0), 'test_start': datetime.datetime(2024, 1, 2, 0, 0), 'test_end': datetime.datetime(2024, 2, 8, 0, 0), 'target_column': 'growth', 'train_features': ['open', 'close_max_3_days', 'close_min_3_days', 'close_mean_3_days', '1_USD_to_EUR_lag_1', '1_EUR_to_USD_lag_1', '1_UAH_to_USD_lag_1', '1_USD_to_UAH_lag_1', '1_EUR_to_UAH_lag_1', '1_UAH_to_EUR_lag_1'], 'path_to_result': '/diploma_info/datalake/', 'forecast_periods': 4, 'model_name': 'lightgbm', 'model': LGBMClassifier(eta=0.3, max_depth=9, metric='binary', n_estimators=5000,\n",
      "               n_jobs=-1, objective='binary', random_state=2, verbosity=-1), 'forecast_frequency': 'daily', 'company': 'meta', 'model_hyperparameters': {'n_estimators': 5000, 'n_jobs': -1, 'max_depth': 9, 'eta': 0.3, 'random_state': 2, 'objective': 'binary', 'verbosity': -1, 'metric': 'binary'}, 'problem': 'classification'} \n",
      "\n",
      "(2368, 10) (2368, 1)\n",
      "lightgbm\n"
     ]
    },
    {
     "name": "stderr",
     "output_type": "stream",
     "text": [
      "100%|██████████████████████████████████████████████████████████████████████████████████| 38/38 [00:58<00:00,  1.54s/it]\n"
     ]
    },
    {
     "name": "stdout",
     "output_type": "stream",
     "text": [
      "lightgbm == {'unique_uuid': 'a68ce65f-20c1-11ef-90de-c0e434d84b22', 'train_start': datetime.datetime(2020, 1, 1, 0, 0), 'train_end': datetime.datetime(2023, 12, 29, 0, 0), 'test_start': datetime.datetime(2024, 1, 2, 0, 0), 'test_end': datetime.datetime(2024, 2, 8, 0, 0), 'target_column': 'growth', 'train_features': ['open', 'year', 'month', 'day', 'day_of_week', 'week_of_year', '1_USD_to_EUR_lag_1', '1_EUR_to_USD_lag_1', '1_UAH_to_USD_lag_1', '1_USD_to_UAH_lag_1', '1_EUR_to_UAH_lag_1', '1_UAH_to_EUR_lag_1'], 'path_to_result': '/diploma_info/datalake/', 'forecast_periods': 4, 'model_name': 'lightgbm', 'model': LGBMClassifier(eta=0.3, max_depth=9, metric='binary', n_estimators=5000,\n",
      "               n_jobs=-1, objective='binary', random_state=2, verbosity=-1), 'forecast_frequency': 'daily', 'company': 'meta', 'model_hyperparameters': {'n_estimators': 5000, 'n_jobs': -1, 'max_depth': 9, 'eta': 0.3, 'random_state': 2, 'objective': 'binary', 'verbosity': -1, 'metric': 'binary'}, 'problem': 'classification'} \n",
      "\n",
      "(2368, 12) (2368, 1)\n",
      "lightgbm\n"
     ]
    },
    {
     "name": "stderr",
     "output_type": "stream",
     "text": [
      "100%|██████████████████████████████████████████████████████████████████████████████████| 38/38 [01:06<00:00,  1.74s/it]\n"
     ]
    },
    {
     "name": "stdout",
     "output_type": "stream",
     "text": [
      "random_forest == {'unique_uuid': 'a68ce660-20c1-11ef-b546-c0e434d84b22', 'train_start': datetime.datetime(2020, 1, 1, 0, 0), 'train_end': datetime.datetime(2023, 12, 29, 0, 0), 'test_start': datetime.datetime(2024, 1, 2, 0, 0), 'test_end': datetime.datetime(2024, 2, 8, 0, 0), 'target_column': 'growth', 'train_features': ['open', 'volume_lag_1', 'usa_inflation_%', '1_USD_to_EUR_lag_1', '1_EUR_to_USD_lag_1', '1_UAH_to_USD_lag_1', '1_USD_to_UAH_lag_1', '1_EUR_to_UAH_lag_1', '1_UAH_to_EUR_lag_1'], 'path_to_result': '/diploma_info/datalake/', 'forecast_periods': 4, 'model_name': 'random_forest', 'model': RandomForestClassifier(max_depth=9, n_estimators=10, n_jobs=-1, random_state=2), 'forecast_frequency': 'daily', 'company': 'meta', 'model_hyperparameters': {'n_estimators': 10, 'n_jobs': -1, 'random_state': 2, 'max_depth': 9}, 'problem': 'classification'} \n",
      "\n",
      "(2368, 9) (2368, 1)\n",
      "random_forest\n"
     ]
    },
    {
     "name": "stderr",
     "output_type": "stream",
     "text": [
      "100%|██████████████████████████████████████████████████████████████████████████████████| 38/38 [00:02<00:00, 14.96it/s]\n"
     ]
    },
    {
     "name": "stdout",
     "output_type": "stream",
     "text": [
      "random_forest == {'unique_uuid': 'a68ce661-20c1-11ef-8889-c0e434d84b22', 'train_start': datetime.datetime(2020, 1, 1, 0, 0), 'train_end': datetime.datetime(2023, 12, 29, 0, 0), 'test_start': datetime.datetime(2024, 1, 2, 0, 0), 'test_end': datetime.datetime(2024, 2, 8, 0, 0), 'target_column': 'growth', 'train_features': ['open', 'close_max_3_days', 'close_min_3_days', 'close_mean_3_days', '1_USD_to_EUR_lag_1', '1_EUR_to_USD_lag_1', '1_UAH_to_USD_lag_1', '1_USD_to_UAH_lag_1', '1_EUR_to_UAH_lag_1', '1_UAH_to_EUR_lag_1'], 'path_to_result': '/diploma_info/datalake/', 'forecast_periods': 4, 'model_name': 'random_forest', 'model': RandomForestClassifier(max_depth=9, n_estimators=10, n_jobs=-1, random_state=2), 'forecast_frequency': 'daily', 'company': 'meta', 'model_hyperparameters': {'n_estimators': 10, 'n_jobs': -1, 'random_state': 2, 'max_depth': 9}, 'problem': 'classification'} \n",
      "\n",
      "(2368, 10) (2368, 1)\n",
      "random_forest\n"
     ]
    },
    {
     "name": "stderr",
     "output_type": "stream",
     "text": [
      "100%|██████████████████████████████████████████████████████████████████████████████████| 38/38 [00:02<00:00, 15.07it/s]\n"
     ]
    },
    {
     "name": "stdout",
     "output_type": "stream",
     "text": [
      "random_forest == {'unique_uuid': 'a68ce662-20c1-11ef-86a5-c0e434d84b22', 'train_start': datetime.datetime(2020, 1, 1, 0, 0), 'train_end': datetime.datetime(2023, 12, 29, 0, 0), 'test_start': datetime.datetime(2024, 1, 2, 0, 0), 'test_end': datetime.datetime(2024, 2, 8, 0, 0), 'target_column': 'growth', 'train_features': ['open', 'year', 'month', 'day', 'day_of_week', 'week_of_year', '1_USD_to_EUR_lag_1', '1_EUR_to_USD_lag_1', '1_UAH_to_USD_lag_1', '1_USD_to_UAH_lag_1', '1_EUR_to_UAH_lag_1', '1_UAH_to_EUR_lag_1'], 'path_to_result': '/diploma_info/datalake/', 'forecast_periods': 4, 'model_name': 'random_forest', 'model': RandomForestClassifier(max_depth=9, n_estimators=10, n_jobs=-1, random_state=2), 'forecast_frequency': 'daily', 'company': 'meta', 'model_hyperparameters': {'n_estimators': 10, 'n_jobs': -1, 'random_state': 2, 'max_depth': 9}, 'problem': 'classification'} \n",
      "\n",
      "(2368, 12) (2368, 1)\n",
      "random_forest\n"
     ]
    },
    {
     "name": "stderr",
     "output_type": "stream",
     "text": [
      "100%|██████████████████████████████████████████████████████████████████████████████████| 38/38 [00:02<00:00, 16.35it/s]\n"
     ]
    },
    {
     "name": "stdout",
     "output_type": "stream",
     "text": [
      "knear_neighbors == {'unique_uuid': 'a68ce663-20c1-11ef-9b3f-c0e434d84b22', 'train_start': datetime.datetime(2020, 1, 1, 0, 0), 'train_end': datetime.datetime(2023, 12, 29, 0, 0), 'test_start': datetime.datetime(2024, 1, 2, 0, 0), 'test_end': datetime.datetime(2024, 2, 8, 0, 0), 'target_column': 'growth', 'train_features': ['open', 'volume_lag_1', 'usa_inflation_%', '1_USD_to_EUR_lag_1', '1_EUR_to_USD_lag_1', '1_UAH_to_USD_lag_1', '1_USD_to_UAH_lag_1', '1_EUR_to_UAH_lag_1', '1_UAH_to_EUR_lag_1'], 'path_to_result': '/diploma_info/datalake/', 'forecast_periods': 4, 'model_name': 'knear_neighbors', 'model': KNeighborsClassifier(n_jobs=-1, n_neighbors=9), 'forecast_frequency': 'daily', 'company': 'meta', 'model_hyperparameters': {'n_neighbors': 9, 'n_jobs': -1}, 'problem': 'classification'} \n",
      "\n",
      "(2368, 9) (2368, 1)\n",
      "knear_neighbors\n"
     ]
    },
    {
     "name": "stderr",
     "output_type": "stream",
     "text": [
      "100%|██████████████████████████████████████████████████████████████████████████████████| 38/38 [00:01<00:00, 29.00it/s]\n"
     ]
    },
    {
     "name": "stdout",
     "output_type": "stream",
     "text": [
      "knear_neighbors == {'unique_uuid': 'a68ce664-20c1-11ef-9a13-c0e434d84b22', 'train_start': datetime.datetime(2020, 1, 1, 0, 0), 'train_end': datetime.datetime(2023, 12, 29, 0, 0), 'test_start': datetime.datetime(2024, 1, 2, 0, 0), 'test_end': datetime.datetime(2024, 2, 8, 0, 0), 'target_column': 'growth', 'train_features': ['open', 'close_max_3_days', 'close_min_3_days', 'close_mean_3_days', '1_USD_to_EUR_lag_1', '1_EUR_to_USD_lag_1', '1_UAH_to_USD_lag_1', '1_USD_to_UAH_lag_1', '1_EUR_to_UAH_lag_1', '1_UAH_to_EUR_lag_1'], 'path_to_result': '/diploma_info/datalake/', 'forecast_periods': 4, 'model_name': 'knear_neighbors', 'model': KNeighborsClassifier(n_jobs=-1, n_neighbors=9), 'forecast_frequency': 'daily', 'company': 'meta', 'model_hyperparameters': {'n_neighbors': 9, 'n_jobs': -1}, 'problem': 'classification'} \n",
      "\n",
      "(2368, 10) (2368, 1)\n",
      "knear_neighbors\n"
     ]
    },
    {
     "name": "stderr",
     "output_type": "stream",
     "text": [
      "100%|██████████████████████████████████████████████████████████████████████████████████| 38/38 [00:01<00:00, 27.90it/s]\n"
     ]
    },
    {
     "name": "stdout",
     "output_type": "stream",
     "text": [
      "knear_neighbors == {'unique_uuid': 'a68ce665-20c1-11ef-a477-c0e434d84b22', 'train_start': datetime.datetime(2020, 1, 1, 0, 0), 'train_end': datetime.datetime(2023, 12, 29, 0, 0), 'test_start': datetime.datetime(2024, 1, 2, 0, 0), 'test_end': datetime.datetime(2024, 2, 8, 0, 0), 'target_column': 'growth', 'train_features': ['open', 'year', 'month', 'day', 'day_of_week', 'week_of_year', '1_USD_to_EUR_lag_1', '1_EUR_to_USD_lag_1', '1_UAH_to_USD_lag_1', '1_USD_to_UAH_lag_1', '1_EUR_to_UAH_lag_1', '1_UAH_to_EUR_lag_1'], 'path_to_result': '/diploma_info/datalake/', 'forecast_periods': 4, 'model_name': 'knear_neighbors', 'model': KNeighborsClassifier(n_jobs=-1, n_neighbors=9), 'forecast_frequency': 'daily', 'company': 'meta', 'model_hyperparameters': {'n_neighbors': 9, 'n_jobs': -1}, 'problem': 'classification'} \n",
      "\n",
      "(2368, 12) (2368, 1)\n",
      "knear_neighbors\n"
     ]
    },
    {
     "name": "stderr",
     "output_type": "stream",
     "text": [
      "100%|██████████████████████████████████████████████████████████████████████████████████| 38/38 [00:01<00:00, 30.24it/s]\n"
     ]
    },
    {
     "name": "stdout",
     "output_type": "stream",
     "text": [
      "xgboost == {'unique_uuid': 'a68ce666-20c1-11ef-bf1b-c0e434d84b22', 'train_start': datetime.datetime(2023, 1, 1, 0, 0), 'train_end': datetime.datetime(2023, 12, 29, 0, 0), 'test_start': datetime.datetime(2024, 1, 2, 0, 0), 'test_end': datetime.datetime(2024, 2, 8, 0, 0), 'target_column': 'growth', 'train_features': ['open', 'volume_lag_1', 'usa_inflation_%', '1_USD_to_EUR_lag_1', '1_EUR_to_USD_lag_1', '1_UAH_to_USD_lag_1', '1_USD_to_UAH_lag_1', '1_EUR_to_UAH_lag_1', '1_UAH_to_EUR_lag_1'], 'path_to_result': '/diploma_info/datalake/', 'forecast_periods': 4, 'model_name': 'xgboost', 'model': XGBClassifier(base_score=None, booster='gbtree', callbacks=None,\n",
      "              colsample_bylevel=None, colsample_bynode=None, colsample_bytree=1,\n",
      "              device=None, early_stopping_rounds=None, enable_categorical=False,\n",
      "              eta=0.3, eval_metric='rmse', feature_types=None, gamma=None,\n",
      "              grow_policy=None, importance_type=None,\n",
      "              interaction_constraints=None, learning_rate=None, max_bin=None,\n",
      "              max_cat_threshold=None, max_cat_to_onehot=None,\n",
      "              max_delta_step=None, max_depth=7, max_leaves=None,\n",
      "              min_child_weight=1, missing=nan, monotone_constraints=None,\n",
      "              multi_strategy=None, n_estimators=5000, n_jobs=-1,\n",
      "              num_parallel_tree=None, ...), 'forecast_frequency': 'daily', 'company': 'meta', 'model_hyperparameters': {'n_estimators': 5000, 'n_jobs': -1, 'max_depth': 7, 'eta': 0.3, 'booster': 'gbtree', 'objective': 'reg:squarederror', 'eval_metric': 'rmse', 'subsample': 1, 'colsample_bytree': 1, 'min_child_weight': 1, 'random_state': 2}, 'problem': 'classification'} \n",
      "\n",
      "(2368, 9) (2368, 1)\n",
      "xgboost\n"
     ]
    },
    {
     "name": "stderr",
     "output_type": "stream",
     "text": [
      "100%|██████████████████████████████████████████████████████████████████████████████████| 38/38 [00:42<00:00,  1.12s/it]\n"
     ]
    },
    {
     "name": "stdout",
     "output_type": "stream",
     "text": [
      "xgboost == {'unique_uuid': 'a68ce667-20c1-11ef-9308-c0e434d84b22', 'train_start': datetime.datetime(2023, 1, 1, 0, 0), 'train_end': datetime.datetime(2023, 12, 29, 0, 0), 'test_start': datetime.datetime(2024, 1, 2, 0, 0), 'test_end': datetime.datetime(2024, 2, 8, 0, 0), 'target_column': 'growth', 'train_features': ['open', 'close_max_3_days', 'close_min_3_days', 'close_mean_3_days', '1_USD_to_EUR_lag_1', '1_EUR_to_USD_lag_1', '1_UAH_to_USD_lag_1', '1_USD_to_UAH_lag_1', '1_EUR_to_UAH_lag_1', '1_UAH_to_EUR_lag_1'], 'path_to_result': '/diploma_info/datalake/', 'forecast_periods': 4, 'model_name': 'xgboost', 'model': XGBClassifier(base_score=None, booster='gbtree', callbacks=None,\n",
      "              colsample_bylevel=None, colsample_bynode=None, colsample_bytree=1,\n",
      "              device=None, early_stopping_rounds=None, enable_categorical=False,\n",
      "              eta=0.3, eval_metric='rmse', feature_types=None, gamma=None,\n",
      "              grow_policy=None, importance_type=None,\n",
      "              interaction_constraints=None, learning_rate=None, max_bin=None,\n",
      "              max_cat_threshold=None, max_cat_to_onehot=None,\n",
      "              max_delta_step=None, max_depth=7, max_leaves=None,\n",
      "              min_child_weight=1, missing=nan, monotone_constraints=None,\n",
      "              multi_strategy=None, n_estimators=5000, n_jobs=-1,\n",
      "              num_parallel_tree=None, ...), 'forecast_frequency': 'daily', 'company': 'meta', 'model_hyperparameters': {'n_estimators': 5000, 'n_jobs': -1, 'max_depth': 7, 'eta': 0.3, 'booster': 'gbtree', 'objective': 'reg:squarederror', 'eval_metric': 'rmse', 'subsample': 1, 'colsample_bytree': 1, 'min_child_weight': 1, 'random_state': 2}, 'problem': 'classification'} \n",
      "\n",
      "(2368, 10) (2368, 1)\n",
      "xgboost\n"
     ]
    },
    {
     "name": "stderr",
     "output_type": "stream",
     "text": [
      "100%|██████████████████████████████████████████████████████████████████████████████████| 38/38 [00:42<00:00,  1.12s/it]\n"
     ]
    },
    {
     "name": "stdout",
     "output_type": "stream",
     "text": [
      "xgboost == {'unique_uuid': 'a68ce668-20c1-11ef-b014-c0e434d84b22', 'train_start': datetime.datetime(2023, 1, 1, 0, 0), 'train_end': datetime.datetime(2023, 12, 29, 0, 0), 'test_start': datetime.datetime(2024, 1, 2, 0, 0), 'test_end': datetime.datetime(2024, 2, 8, 0, 0), 'target_column': 'growth', 'train_features': ['open', 'year', 'month', 'day', 'day_of_week', 'week_of_year', '1_USD_to_EUR_lag_1', '1_EUR_to_USD_lag_1', '1_UAH_to_USD_lag_1', '1_USD_to_UAH_lag_1', '1_EUR_to_UAH_lag_1', '1_UAH_to_EUR_lag_1'], 'path_to_result': '/diploma_info/datalake/', 'forecast_periods': 4, 'model_name': 'xgboost', 'model': XGBClassifier(base_score=None, booster='gbtree', callbacks=None,\n",
      "              colsample_bylevel=None, colsample_bynode=None, colsample_bytree=1,\n",
      "              device=None, early_stopping_rounds=None, enable_categorical=False,\n",
      "              eta=0.3, eval_metric='rmse', feature_types=None, gamma=None,\n",
      "              grow_policy=None, importance_type=None,\n",
      "              interaction_constraints=None, learning_rate=None, max_bin=None,\n",
      "              max_cat_threshold=None, max_cat_to_onehot=None,\n",
      "              max_delta_step=None, max_depth=7, max_leaves=None,\n",
      "              min_child_weight=1, missing=nan, monotone_constraints=None,\n",
      "              multi_strategy=None, n_estimators=5000, n_jobs=-1,\n",
      "              num_parallel_tree=None, ...), 'forecast_frequency': 'daily', 'company': 'meta', 'model_hyperparameters': {'n_estimators': 5000, 'n_jobs': -1, 'max_depth': 7, 'eta': 0.3, 'booster': 'gbtree', 'objective': 'reg:squarederror', 'eval_metric': 'rmse', 'subsample': 1, 'colsample_bytree': 1, 'min_child_weight': 1, 'random_state': 2}, 'problem': 'classification'} \n",
      "\n",
      "(2368, 12) (2368, 1)\n",
      "xgboost\n"
     ]
    },
    {
     "name": "stderr",
     "output_type": "stream",
     "text": [
      "100%|██████████████████████████████████████████████████████████████████████████████████| 38/38 [00:41<00:00,  1.09s/it]\n"
     ]
    },
    {
     "name": "stdout",
     "output_type": "stream",
     "text": [
      "lightgbm == {'unique_uuid': 'a68ce669-20c1-11ef-a4a6-c0e434d84b22', 'train_start': datetime.datetime(2023, 1, 1, 0, 0), 'train_end': datetime.datetime(2023, 12, 29, 0, 0), 'test_start': datetime.datetime(2024, 1, 2, 0, 0), 'test_end': datetime.datetime(2024, 2, 8, 0, 0), 'target_column': 'growth', 'train_features': ['open', 'volume_lag_1', 'usa_inflation_%', '1_USD_to_EUR_lag_1', '1_EUR_to_USD_lag_1', '1_UAH_to_USD_lag_1', '1_USD_to_UAH_lag_1', '1_EUR_to_UAH_lag_1', '1_UAH_to_EUR_lag_1'], 'path_to_result': '/diploma_info/datalake/', 'forecast_periods': 4, 'model_name': 'lightgbm', 'model': LGBMClassifier(eta=0.3, max_depth=7, metric='binary', n_estimators=5000,\n",
      "               n_jobs=-1, objective='binary', random_state=2, verbosity=-1), 'forecast_frequency': 'daily', 'company': 'meta', 'model_hyperparameters': {'n_estimators': 5000, 'n_jobs': -1, 'max_depth': 7, 'eta': 0.3, 'random_state': 2, 'objective': 'binary', 'verbosity': -1, 'metric': 'binary'}, 'problem': 'classification'} \n",
      "\n",
      "(2368, 9) (2368, 1)\n",
      "lightgbm\n"
     ]
    },
    {
     "name": "stderr",
     "output_type": "stream",
     "text": [
      "100%|██████████████████████████████████████████████████████████████████████████████████| 38/38 [00:24<00:00,  1.52it/s]\n"
     ]
    },
    {
     "name": "stdout",
     "output_type": "stream",
     "text": [
      "lightgbm == {'unique_uuid': 'a68ce66a-20c1-11ef-9df6-c0e434d84b22', 'train_start': datetime.datetime(2023, 1, 1, 0, 0), 'train_end': datetime.datetime(2023, 12, 29, 0, 0), 'test_start': datetime.datetime(2024, 1, 2, 0, 0), 'test_end': datetime.datetime(2024, 2, 8, 0, 0), 'target_column': 'growth', 'train_features': ['open', 'close_max_3_days', 'close_min_3_days', 'close_mean_3_days', '1_USD_to_EUR_lag_1', '1_EUR_to_USD_lag_1', '1_UAH_to_USD_lag_1', '1_USD_to_UAH_lag_1', '1_EUR_to_UAH_lag_1', '1_UAH_to_EUR_lag_1'], 'path_to_result': '/diploma_info/datalake/', 'forecast_periods': 4, 'model_name': 'lightgbm', 'model': LGBMClassifier(eta=0.3, max_depth=7, metric='binary', n_estimators=5000,\n",
      "               n_jobs=-1, objective='binary', random_state=2, verbosity=-1), 'forecast_frequency': 'daily', 'company': 'meta', 'model_hyperparameters': {'n_estimators': 5000, 'n_jobs': -1, 'max_depth': 7, 'eta': 0.3, 'random_state': 2, 'objective': 'binary', 'verbosity': -1, 'metric': 'binary'}, 'problem': 'classification'} \n",
      "\n",
      "(2368, 10) (2368, 1)\n",
      "lightgbm\n"
     ]
    },
    {
     "name": "stderr",
     "output_type": "stream",
     "text": [
      "100%|██████████████████████████████████████████████████████████████████████████████████| 38/38 [00:28<00:00,  1.35it/s]\n"
     ]
    },
    {
     "name": "stdout",
     "output_type": "stream",
     "text": [
      "lightgbm == {'unique_uuid': 'a68ce66b-20c1-11ef-83c7-c0e434d84b22', 'train_start': datetime.datetime(2023, 1, 1, 0, 0), 'train_end': datetime.datetime(2023, 12, 29, 0, 0), 'test_start': datetime.datetime(2024, 1, 2, 0, 0), 'test_end': datetime.datetime(2024, 2, 8, 0, 0), 'target_column': 'growth', 'train_features': ['open', 'year', 'month', 'day', 'day_of_week', 'week_of_year', '1_USD_to_EUR_lag_1', '1_EUR_to_USD_lag_1', '1_UAH_to_USD_lag_1', '1_USD_to_UAH_lag_1', '1_EUR_to_UAH_lag_1', '1_UAH_to_EUR_lag_1'], 'path_to_result': '/diploma_info/datalake/', 'forecast_periods': 4, 'model_name': 'lightgbm', 'model': LGBMClassifier(eta=0.3, max_depth=7, metric='binary', n_estimators=5000,\n",
      "               n_jobs=-1, objective='binary', random_state=2, verbosity=-1), 'forecast_frequency': 'daily', 'company': 'meta', 'model_hyperparameters': {'n_estimators': 5000, 'n_jobs': -1, 'max_depth': 7, 'eta': 0.3, 'random_state': 2, 'objective': 'binary', 'verbosity': -1, 'metric': 'binary'}, 'problem': 'classification'} \n",
      "\n",
      "(2368, 12) (2368, 1)\n",
      "lightgbm\n"
     ]
    },
    {
     "name": "stderr",
     "output_type": "stream",
     "text": [
      "100%|██████████████████████████████████████████████████████████████████████████████████| 38/38 [00:24<00:00,  1.57it/s]\n"
     ]
    },
    {
     "name": "stdout",
     "output_type": "stream",
     "text": [
      "lightgbm == {'unique_uuid': 'a68ce66c-20c1-11ef-94fe-c0e434d84b22', 'train_start': datetime.datetime(2023, 1, 1, 0, 0), 'train_end': datetime.datetime(2023, 12, 29, 0, 0), 'test_start': datetime.datetime(2024, 1, 2, 0, 0), 'test_end': datetime.datetime(2024, 2, 8, 0, 0), 'target_column': 'growth', 'train_features': ['open', 'volume_lag_1', 'usa_inflation_%', '1_USD_to_EUR_lag_1', '1_EUR_to_USD_lag_1', '1_UAH_to_USD_lag_1', '1_USD_to_UAH_lag_1', '1_EUR_to_UAH_lag_1', '1_UAH_to_EUR_lag_1'], 'path_to_result': '/diploma_info/datalake/', 'forecast_periods': 4, 'model_name': 'lightgbm', 'model': LGBMClassifier(eta=0.3, max_depth=9, metric='binary', n_estimators=5000,\n",
      "               n_jobs=-1, objective='binary', random_state=2, verbosity=-1), 'forecast_frequency': 'daily', 'company': 'meta', 'model_hyperparameters': {'n_estimators': 5000, 'n_jobs': -1, 'max_depth': 9, 'eta': 0.3, 'random_state': 2, 'objective': 'binary', 'verbosity': -1, 'metric': 'binary'}, 'problem': 'classification'} \n",
      "\n",
      "(2368, 9) (2368, 1)\n",
      "lightgbm\n"
     ]
    },
    {
     "name": "stderr",
     "output_type": "stream",
     "text": [
      "100%|██████████████████████████████████████████████████████████████████████████████████| 38/38 [00:25<00:00,  1.50it/s]\n"
     ]
    },
    {
     "name": "stdout",
     "output_type": "stream",
     "text": [
      "lightgbm == {'unique_uuid': 'a68ce66d-20c1-11ef-a2c1-c0e434d84b22', 'train_start': datetime.datetime(2023, 1, 1, 0, 0), 'train_end': datetime.datetime(2023, 12, 29, 0, 0), 'test_start': datetime.datetime(2024, 1, 2, 0, 0), 'test_end': datetime.datetime(2024, 2, 8, 0, 0), 'target_column': 'growth', 'train_features': ['open', 'close_max_3_days', 'close_min_3_days', 'close_mean_3_days', '1_USD_to_EUR_lag_1', '1_EUR_to_USD_lag_1', '1_UAH_to_USD_lag_1', '1_USD_to_UAH_lag_1', '1_EUR_to_UAH_lag_1', '1_UAH_to_EUR_lag_1'], 'path_to_result': '/diploma_info/datalake/', 'forecast_periods': 4, 'model_name': 'lightgbm', 'model': LGBMClassifier(eta=0.3, max_depth=9, metric='binary', n_estimators=5000,\n",
      "               n_jobs=-1, objective='binary', random_state=2, verbosity=-1), 'forecast_frequency': 'daily', 'company': 'meta', 'model_hyperparameters': {'n_estimators': 5000, 'n_jobs': -1, 'max_depth': 9, 'eta': 0.3, 'random_state': 2, 'objective': 'binary', 'verbosity': -1, 'metric': 'binary'}, 'problem': 'classification'} \n",
      "\n",
      "(2368, 10) (2368, 1)\n",
      "lightgbm\n"
     ]
    },
    {
     "name": "stderr",
     "output_type": "stream",
     "text": [
      "100%|██████████████████████████████████████████████████████████████████████████████████| 38/38 [00:29<00:00,  1.31it/s]\n"
     ]
    },
    {
     "name": "stdout",
     "output_type": "stream",
     "text": [
      "lightgbm == {'unique_uuid': 'a68ce66e-20c1-11ef-812e-c0e434d84b22', 'train_start': datetime.datetime(2023, 1, 1, 0, 0), 'train_end': datetime.datetime(2023, 12, 29, 0, 0), 'test_start': datetime.datetime(2024, 1, 2, 0, 0), 'test_end': datetime.datetime(2024, 2, 8, 0, 0), 'target_column': 'growth', 'train_features': ['open', 'year', 'month', 'day', 'day_of_week', 'week_of_year', '1_USD_to_EUR_lag_1', '1_EUR_to_USD_lag_1', '1_UAH_to_USD_lag_1', '1_USD_to_UAH_lag_1', '1_EUR_to_UAH_lag_1', '1_UAH_to_EUR_lag_1'], 'path_to_result': '/diploma_info/datalake/', 'forecast_periods': 4, 'model_name': 'lightgbm', 'model': LGBMClassifier(eta=0.3, max_depth=9, metric='binary', n_estimators=5000,\n",
      "               n_jobs=-1, objective='binary', random_state=2, verbosity=-1), 'forecast_frequency': 'daily', 'company': 'meta', 'model_hyperparameters': {'n_estimators': 5000, 'n_jobs': -1, 'max_depth': 9, 'eta': 0.3, 'random_state': 2, 'objective': 'binary', 'verbosity': -1, 'metric': 'binary'}, 'problem': 'classification'} \n",
      "\n",
      "(2368, 12) (2368, 1)\n",
      "lightgbm\n"
     ]
    },
    {
     "name": "stderr",
     "output_type": "stream",
     "text": [
      "100%|██████████████████████████████████████████████████████████████████████████████████| 38/38 [00:24<00:00,  1.53it/s]\n"
     ]
    },
    {
     "name": "stdout",
     "output_type": "stream",
     "text": [
      "random_forest == {'unique_uuid': 'a68ce66f-20c1-11ef-a73b-c0e434d84b22', 'train_start': datetime.datetime(2023, 1, 1, 0, 0), 'train_end': datetime.datetime(2023, 12, 29, 0, 0), 'test_start': datetime.datetime(2024, 1, 2, 0, 0), 'test_end': datetime.datetime(2024, 2, 8, 0, 0), 'target_column': 'growth', 'train_features': ['open', 'volume_lag_1', 'usa_inflation_%', '1_USD_to_EUR_lag_1', '1_EUR_to_USD_lag_1', '1_UAH_to_USD_lag_1', '1_USD_to_UAH_lag_1', '1_EUR_to_UAH_lag_1', '1_UAH_to_EUR_lag_1'], 'path_to_result': '/diploma_info/datalake/', 'forecast_periods': 4, 'model_name': 'random_forest', 'model': RandomForestClassifier(max_depth=9, n_estimators=10, n_jobs=-1, random_state=2), 'forecast_frequency': 'daily', 'company': 'meta', 'model_hyperparameters': {'n_estimators': 10, 'n_jobs': -1, 'random_state': 2, 'max_depth': 9}, 'problem': 'classification'} \n",
      "\n",
      "(2368, 9) (2368, 1)\n",
      "random_forest\n"
     ]
    },
    {
     "name": "stderr",
     "output_type": "stream",
     "text": [
      "100%|██████████████████████████████████████████████████████████████████████████████████| 38/38 [00:02<00:00, 15.60it/s]\n"
     ]
    },
    {
     "name": "stdout",
     "output_type": "stream",
     "text": [
      "random_forest == {'unique_uuid': 'a68ce670-20c1-11ef-926d-c0e434d84b22', 'train_start': datetime.datetime(2023, 1, 1, 0, 0), 'train_end': datetime.datetime(2023, 12, 29, 0, 0), 'test_start': datetime.datetime(2024, 1, 2, 0, 0), 'test_end': datetime.datetime(2024, 2, 8, 0, 0), 'target_column': 'growth', 'train_features': ['open', 'close_max_3_days', 'close_min_3_days', 'close_mean_3_days', '1_USD_to_EUR_lag_1', '1_EUR_to_USD_lag_1', '1_UAH_to_USD_lag_1', '1_USD_to_UAH_lag_1', '1_EUR_to_UAH_lag_1', '1_UAH_to_EUR_lag_1'], 'path_to_result': '/diploma_info/datalake/', 'forecast_periods': 4, 'model_name': 'random_forest', 'model': RandomForestClassifier(max_depth=9, n_estimators=10, n_jobs=-1, random_state=2), 'forecast_frequency': 'daily', 'company': 'meta', 'model_hyperparameters': {'n_estimators': 10, 'n_jobs': -1, 'random_state': 2, 'max_depth': 9}, 'problem': 'classification'} \n",
      "\n",
      "(2368, 10) (2368, 1)\n",
      "random_forest\n"
     ]
    },
    {
     "name": "stderr",
     "output_type": "stream",
     "text": [
      "100%|██████████████████████████████████████████████████████████████████████████████████| 38/38 [00:02<00:00, 15.41it/s]\n"
     ]
    },
    {
     "name": "stdout",
     "output_type": "stream",
     "text": [
      "random_forest == {'unique_uuid': 'a68ce671-20c1-11ef-a747-c0e434d84b22', 'train_start': datetime.datetime(2023, 1, 1, 0, 0), 'train_end': datetime.datetime(2023, 12, 29, 0, 0), 'test_start': datetime.datetime(2024, 1, 2, 0, 0), 'test_end': datetime.datetime(2024, 2, 8, 0, 0), 'target_column': 'growth', 'train_features': ['open', 'year', 'month', 'day', 'day_of_week', 'week_of_year', '1_USD_to_EUR_lag_1', '1_EUR_to_USD_lag_1', '1_UAH_to_USD_lag_1', '1_USD_to_UAH_lag_1', '1_EUR_to_UAH_lag_1', '1_UAH_to_EUR_lag_1'], 'path_to_result': '/diploma_info/datalake/', 'forecast_periods': 4, 'model_name': 'random_forest', 'model': RandomForestClassifier(max_depth=9, n_estimators=10, n_jobs=-1, random_state=2), 'forecast_frequency': 'daily', 'company': 'meta', 'model_hyperparameters': {'n_estimators': 10, 'n_jobs': -1, 'random_state': 2, 'max_depth': 9}, 'problem': 'classification'} \n",
      "\n",
      "(2368, 12) (2368, 1)\n",
      "random_forest\n"
     ]
    },
    {
     "name": "stderr",
     "output_type": "stream",
     "text": [
      "100%|██████████████████████████████████████████████████████████████████████████████████| 38/38 [00:02<00:00, 16.01it/s]\n"
     ]
    },
    {
     "name": "stdout",
     "output_type": "stream",
     "text": [
      "knear_neighbors == {'unique_uuid': 'a68ce672-20c1-11ef-b495-c0e434d84b22', 'train_start': datetime.datetime(2023, 1, 1, 0, 0), 'train_end': datetime.datetime(2023, 12, 29, 0, 0), 'test_start': datetime.datetime(2024, 1, 2, 0, 0), 'test_end': datetime.datetime(2024, 2, 8, 0, 0), 'target_column': 'growth', 'train_features': ['open', 'volume_lag_1', 'usa_inflation_%', '1_USD_to_EUR_lag_1', '1_EUR_to_USD_lag_1', '1_UAH_to_USD_lag_1', '1_USD_to_UAH_lag_1', '1_EUR_to_UAH_lag_1', '1_UAH_to_EUR_lag_1'], 'path_to_result': '/diploma_info/datalake/', 'forecast_periods': 4, 'model_name': 'knear_neighbors', 'model': KNeighborsClassifier(n_jobs=-1, n_neighbors=9), 'forecast_frequency': 'daily', 'company': 'meta', 'model_hyperparameters': {'n_neighbors': 9, 'n_jobs': -1}, 'problem': 'classification'} \n",
      "\n",
      "(2368, 9) (2368, 1)\n",
      "knear_neighbors\n"
     ]
    },
    {
     "name": "stderr",
     "output_type": "stream",
     "text": [
      "100%|██████████████████████████████████████████████████████████████████████████████████| 38/38 [00:01<00:00, 30.60it/s]\n"
     ]
    },
    {
     "name": "stdout",
     "output_type": "stream",
     "text": [
      "knear_neighbors == {'unique_uuid': 'a68ce673-20c1-11ef-bb45-c0e434d84b22', 'train_start': datetime.datetime(2023, 1, 1, 0, 0), 'train_end': datetime.datetime(2023, 12, 29, 0, 0), 'test_start': datetime.datetime(2024, 1, 2, 0, 0), 'test_end': datetime.datetime(2024, 2, 8, 0, 0), 'target_column': 'growth', 'train_features': ['open', 'close_max_3_days', 'close_min_3_days', 'close_mean_3_days', '1_USD_to_EUR_lag_1', '1_EUR_to_USD_lag_1', '1_UAH_to_USD_lag_1', '1_USD_to_UAH_lag_1', '1_EUR_to_UAH_lag_1', '1_UAH_to_EUR_lag_1'], 'path_to_result': '/diploma_info/datalake/', 'forecast_periods': 4, 'model_name': 'knear_neighbors', 'model': KNeighborsClassifier(n_jobs=-1, n_neighbors=9), 'forecast_frequency': 'daily', 'company': 'meta', 'model_hyperparameters': {'n_neighbors': 9, 'n_jobs': -1}, 'problem': 'classification'} \n",
      "\n",
      "(2368, 10) (2368, 1)\n",
      "knear_neighbors\n"
     ]
    },
    {
     "name": "stderr",
     "output_type": "stream",
     "text": [
      "100%|██████████████████████████████████████████████████████████████████████████████████| 38/38 [00:01<00:00, 29.08it/s]\n"
     ]
    },
    {
     "name": "stdout",
     "output_type": "stream",
     "text": [
      "knear_neighbors == {'unique_uuid': 'a68ce674-20c1-11ef-8b93-c0e434d84b22', 'train_start': datetime.datetime(2023, 1, 1, 0, 0), 'train_end': datetime.datetime(2023, 12, 29, 0, 0), 'test_start': datetime.datetime(2024, 1, 2, 0, 0), 'test_end': datetime.datetime(2024, 2, 8, 0, 0), 'target_column': 'growth', 'train_features': ['open', 'year', 'month', 'day', 'day_of_week', 'week_of_year', '1_USD_to_EUR_lag_1', '1_EUR_to_USD_lag_1', '1_UAH_to_USD_lag_1', '1_USD_to_UAH_lag_1', '1_EUR_to_UAH_lag_1', '1_UAH_to_EUR_lag_1'], 'path_to_result': '/diploma_info/datalake/', 'forecast_periods': 4, 'model_name': 'knear_neighbors', 'model': KNeighborsClassifier(n_jobs=-1, n_neighbors=9), 'forecast_frequency': 'daily', 'company': 'meta', 'model_hyperparameters': {'n_neighbors': 9, 'n_jobs': -1}, 'problem': 'classification'} \n",
      "\n",
      "(2368, 12) (2368, 1)\n",
      "knear_neighbors\n"
     ]
    },
    {
     "name": "stderr",
     "output_type": "stream",
     "text": [
      "100%|██████████████████████████████████████████████████████████████████████████████████| 38/38 [00:01<00:00, 31.79it/s]\n"
     ]
    },
    {
     "name": "stdout",
     "output_type": "stream",
     "text": [
      "company: NETFLIX\t period: daily\t train ends: 2023-12-29 00:00:00\t test starts: 2024-01-02 00:00:00\n",
      "_research_task_uuid = 134c9a1e-20c5-11ef-8672-c0e434d84b22\n",
      "\n",
      "count_configs 54 \n",
      "\n",
      "xgboost == {'unique_uuid': '134c9a1f-20c5-11ef-9c08-c0e434d84b22', 'train_start': datetime.datetime(2015, 1, 1, 0, 0), 'train_end': datetime.datetime(2023, 12, 29, 0, 0), 'test_start': datetime.datetime(2024, 1, 2, 0, 0), 'test_end': datetime.datetime(2024, 2, 8, 0, 0), 'target_column': 'growth', 'train_features': ['open', 'volume_lag_1', 'usa_inflation_%', '1_USD_to_EUR_lag_1', '1_EUR_to_USD_lag_1', '1_UAH_to_USD_lag_1', '1_USD_to_UAH_lag_1', '1_EUR_to_UAH_lag_1', '1_UAH_to_EUR_lag_1'], 'path_to_result': '/diploma_info/datalake/', 'forecast_periods': 4, 'model_name': 'xgboost', 'model': XGBClassifier(base_score=None, booster='gbtree', callbacks=None,\n",
      "              colsample_bylevel=None, colsample_bynode=None, colsample_bytree=1,\n",
      "              device=None, early_stopping_rounds=None, enable_categorical=False,\n",
      "              eta=0.3, eval_metric='rmse', feature_types=None, gamma=None,\n",
      "              grow_policy=None, importance_type=None,\n",
      "              interaction_constraints=None, learning_rate=None, max_bin=None,\n",
      "              max_cat_threshold=None, max_cat_to_onehot=None,\n",
      "              max_delta_step=None, max_depth=9, max_leaves=None,\n",
      "              min_child_weight=1, missing=nan, monotone_constraints=None,\n",
      "              multi_strategy=None, n_estimators=200, n_jobs=-1,\n",
      "              num_parallel_tree=None, ...), 'forecast_frequency': 'daily', 'company': 'netflix', 'model_hyperparameters': {'n_estimators': 200, 'n_jobs': -1, 'max_depth': 9, 'eta': 0.3, 'booster': 'gbtree', 'objective': 'reg:squarederror', 'eval_metric': 'rmse', 'subsample': 1, 'colsample_bytree': 1, 'min_child_weight': 1, 'random_state': 2}, 'problem': 'classification'} \n",
      "\n",
      "(2368, 9) (2368, 1)\n",
      "xgboost\n"
     ]
    },
    {
     "name": "stderr",
     "output_type": "stream",
     "text": [
      "100%|██████████████████████████████████████████████████████████████████████████████████| 38/38 [00:22<00:00,  1.66it/s]\n"
     ]
    },
    {
     "name": "stdout",
     "output_type": "stream",
     "text": [
      "xgboost == {'unique_uuid': '134c9a20-20c5-11ef-a111-c0e434d84b22', 'train_start': datetime.datetime(2015, 1, 1, 0, 0), 'train_end': datetime.datetime(2023, 12, 29, 0, 0), 'test_start': datetime.datetime(2024, 1, 2, 0, 0), 'test_end': datetime.datetime(2024, 2, 8, 0, 0), 'target_column': 'growth', 'train_features': ['open', 'close_max_3_days', 'close_min_3_days', 'close_mean_3_days', '1_USD_to_EUR_lag_1', '1_EUR_to_USD_lag_1', '1_UAH_to_USD_lag_1', '1_USD_to_UAH_lag_1', '1_EUR_to_UAH_lag_1', '1_UAH_to_EUR_lag_1'], 'path_to_result': '/diploma_info/datalake/', 'forecast_periods': 4, 'model_name': 'xgboost', 'model': XGBClassifier(base_score=None, booster='gbtree', callbacks=None,\n",
      "              colsample_bylevel=None, colsample_bynode=None, colsample_bytree=1,\n",
      "              device=None, early_stopping_rounds=None, enable_categorical=False,\n",
      "              eta=0.3, eval_metric='rmse', feature_types=None, gamma=None,\n",
      "              grow_policy=None, importance_type=None,\n",
      "              interaction_constraints=None, learning_rate=None, max_bin=None,\n",
      "              max_cat_threshold=None, max_cat_to_onehot=None,\n",
      "              max_delta_step=None, max_depth=9, max_leaves=None,\n",
      "              min_child_weight=1, missing=nan, monotone_constraints=None,\n",
      "              multi_strategy=None, n_estimators=200, n_jobs=-1,\n",
      "              num_parallel_tree=None, ...), 'forecast_frequency': 'daily', 'company': 'netflix', 'model_hyperparameters': {'n_estimators': 200, 'n_jobs': -1, 'max_depth': 9, 'eta': 0.3, 'booster': 'gbtree', 'objective': 'reg:squarederror', 'eval_metric': 'rmse', 'subsample': 1, 'colsample_bytree': 1, 'min_child_weight': 1, 'random_state': 2}, 'problem': 'classification'} \n",
      "\n",
      "(2368, 10) (2368, 1)\n",
      "xgboost\n"
     ]
    },
    {
     "name": "stderr",
     "output_type": "stream",
     "text": [
      "100%|██████████████████████████████████████████████████████████████████████████████████| 38/38 [00:21<00:00,  1.79it/s]\n"
     ]
    },
    {
     "name": "stdout",
     "output_type": "stream",
     "text": [
      "xgboost == {'unique_uuid': '134c9a21-20c5-11ef-af53-c0e434d84b22', 'train_start': datetime.datetime(2015, 1, 1, 0, 0), 'train_end': datetime.datetime(2023, 12, 29, 0, 0), 'test_start': datetime.datetime(2024, 1, 2, 0, 0), 'test_end': datetime.datetime(2024, 2, 8, 0, 0), 'target_column': 'growth', 'train_features': ['open', 'year', 'month', 'day', 'day_of_week', 'week_of_year', '1_USD_to_EUR_lag_1', '1_EUR_to_USD_lag_1', '1_UAH_to_USD_lag_1', '1_USD_to_UAH_lag_1', '1_EUR_to_UAH_lag_1', '1_UAH_to_EUR_lag_1'], 'path_to_result': '/diploma_info/datalake/', 'forecast_periods': 4, 'model_name': 'xgboost', 'model': XGBClassifier(base_score=None, booster='gbtree', callbacks=None,\n",
      "              colsample_bylevel=None, colsample_bynode=None, colsample_bytree=1,\n",
      "              device=None, early_stopping_rounds=None, enable_categorical=False,\n",
      "              eta=0.3, eval_metric='rmse', feature_types=None, gamma=None,\n",
      "              grow_policy=None, importance_type=None,\n",
      "              interaction_constraints=None, learning_rate=None, max_bin=None,\n",
      "              max_cat_threshold=None, max_cat_to_onehot=None,\n",
      "              max_delta_step=None, max_depth=9, max_leaves=None,\n",
      "              min_child_weight=1, missing=nan, monotone_constraints=None,\n",
      "              multi_strategy=None, n_estimators=200, n_jobs=-1,\n",
      "              num_parallel_tree=None, ...), 'forecast_frequency': 'daily', 'company': 'netflix', 'model_hyperparameters': {'n_estimators': 200, 'n_jobs': -1, 'max_depth': 9, 'eta': 0.3, 'booster': 'gbtree', 'objective': 'reg:squarederror', 'eval_metric': 'rmse', 'subsample': 1, 'colsample_bytree': 1, 'min_child_weight': 1, 'random_state': 2}, 'problem': 'classification'} \n",
      "\n",
      "(2368, 12) (2368, 1)\n",
      "xgboost\n"
     ]
    },
    {
     "name": "stderr",
     "output_type": "stream",
     "text": [
      "100%|██████████████████████████████████████████████████████████████████████████████████| 38/38 [00:23<00:00,  1.61it/s]\n"
     ]
    },
    {
     "name": "stdout",
     "output_type": "stream",
     "text": [
      "lightgbm == {'unique_uuid': '134c9a22-20c5-11ef-b6b4-c0e434d84b22', 'train_start': datetime.datetime(2015, 1, 1, 0, 0), 'train_end': datetime.datetime(2023, 12, 29, 0, 0), 'test_start': datetime.datetime(2024, 1, 2, 0, 0), 'test_end': datetime.datetime(2024, 2, 8, 0, 0), 'target_column': 'growth', 'train_features': ['open', 'volume_lag_1', 'usa_inflation_%', '1_USD_to_EUR_lag_1', '1_EUR_to_USD_lag_1', '1_UAH_to_USD_lag_1', '1_USD_to_UAH_lag_1', '1_EUR_to_UAH_lag_1', '1_UAH_to_EUR_lag_1'], 'path_to_result': '/diploma_info/datalake/', 'forecast_periods': 4, 'model_name': 'lightgbm', 'model': LGBMClassifier(eta=0.3, max_depth=9, metric='binary', n_estimators=10,\n",
      "               n_jobs=-1, objective='binary', random_state=2, verbosity=-1), 'forecast_frequency': 'daily', 'company': 'netflix', 'model_hyperparameters': {'n_estimators': 10, 'n_jobs': -1, 'max_depth': 9, 'eta': 0.3, 'random_state': 2, 'objective': 'binary', 'verbosity': -1, 'metric': 'binary'}, 'problem': 'classification'} \n",
      "\n",
      "(2368, 9) (2368, 1)\n",
      "lightgbm\n"
     ]
    },
    {
     "name": "stderr",
     "output_type": "stream",
     "text": [
      "100%|██████████████████████████████████████████████████████████████████████████████████| 38/38 [00:01<00:00, 34.40it/s]\n"
     ]
    },
    {
     "name": "stdout",
     "output_type": "stream",
     "text": [
      "lightgbm == {'unique_uuid': '134c9a23-20c5-11ef-9398-c0e434d84b22', 'train_start': datetime.datetime(2015, 1, 1, 0, 0), 'train_end': datetime.datetime(2023, 12, 29, 0, 0), 'test_start': datetime.datetime(2024, 1, 2, 0, 0), 'test_end': datetime.datetime(2024, 2, 8, 0, 0), 'target_column': 'growth', 'train_features': ['open', 'close_max_3_days', 'close_min_3_days', 'close_mean_3_days', '1_USD_to_EUR_lag_1', '1_EUR_to_USD_lag_1', '1_UAH_to_USD_lag_1', '1_USD_to_UAH_lag_1', '1_EUR_to_UAH_lag_1', '1_UAH_to_EUR_lag_1'], 'path_to_result': '/diploma_info/datalake/', 'forecast_periods': 4, 'model_name': 'lightgbm', 'model': LGBMClassifier(eta=0.3, max_depth=9, metric='binary', n_estimators=10,\n",
      "               n_jobs=-1, objective='binary', random_state=2, verbosity=-1), 'forecast_frequency': 'daily', 'company': 'netflix', 'model_hyperparameters': {'n_estimators': 10, 'n_jobs': -1, 'max_depth': 9, 'eta': 0.3, 'random_state': 2, 'objective': 'binary', 'verbosity': -1, 'metric': 'binary'}, 'problem': 'classification'} \n",
      "\n",
      "(2368, 10) (2368, 1)\n",
      "lightgbm\n"
     ]
    },
    {
     "name": "stderr",
     "output_type": "stream",
     "text": [
      "100%|██████████████████████████████████████████████████████████████████████████████████| 38/38 [00:01<00:00, 32.71it/s]\n"
     ]
    },
    {
     "name": "stdout",
     "output_type": "stream",
     "text": [
      "lightgbm == {'unique_uuid': '134c9a24-20c5-11ef-aaad-c0e434d84b22', 'train_start': datetime.datetime(2015, 1, 1, 0, 0), 'train_end': datetime.datetime(2023, 12, 29, 0, 0), 'test_start': datetime.datetime(2024, 1, 2, 0, 0), 'test_end': datetime.datetime(2024, 2, 8, 0, 0), 'target_column': 'growth', 'train_features': ['open', 'year', 'month', 'day', 'day_of_week', 'week_of_year', '1_USD_to_EUR_lag_1', '1_EUR_to_USD_lag_1', '1_UAH_to_USD_lag_1', '1_USD_to_UAH_lag_1', '1_EUR_to_UAH_lag_1', '1_UAH_to_EUR_lag_1'], 'path_to_result': '/diploma_info/datalake/', 'forecast_periods': 4, 'model_name': 'lightgbm', 'model': LGBMClassifier(eta=0.3, max_depth=9, metric='binary', n_estimators=10,\n",
      "               n_jobs=-1, objective='binary', random_state=2, verbosity=-1), 'forecast_frequency': 'daily', 'company': 'netflix', 'model_hyperparameters': {'n_estimators': 10, 'n_jobs': -1, 'max_depth': 9, 'eta': 0.3, 'random_state': 2, 'objective': 'binary', 'verbosity': -1, 'metric': 'binary'}, 'problem': 'classification'} \n",
      "\n",
      "(2368, 12) (2368, 1)\n",
      "lightgbm\n"
     ]
    },
    {
     "name": "stderr",
     "output_type": "stream",
     "text": [
      "100%|██████████████████████████████████████████████████████████████████████████████████| 38/38 [00:01<00:00, 32.13it/s]\n"
     ]
    },
    {
     "name": "stdout",
     "output_type": "stream",
     "text": [
      "lightgbm == {'unique_uuid': '134c9a25-20c5-11ef-b1bc-c0e434d84b22', 'train_start': datetime.datetime(2015, 1, 1, 0, 0), 'train_end': datetime.datetime(2023, 12, 29, 0, 0), 'test_start': datetime.datetime(2024, 1, 2, 0, 0), 'test_end': datetime.datetime(2024, 2, 8, 0, 0), 'target_column': 'growth', 'train_features': ['open', 'volume_lag_1', 'usa_inflation_%', '1_USD_to_EUR_lag_1', '1_EUR_to_USD_lag_1', '1_UAH_to_USD_lag_1', '1_USD_to_UAH_lag_1', '1_EUR_to_UAH_lag_1', '1_UAH_to_EUR_lag_1'], 'path_to_result': '/diploma_info/datalake/', 'forecast_periods': 4, 'model_name': 'lightgbm', 'model': LGBMClassifier(eta=0.3, max_depth=9, metric='binary', n_estimators=5000,\n",
      "               n_jobs=-1, objective='binary', random_state=2, verbosity=-1), 'forecast_frequency': 'daily', 'company': 'netflix', 'model_hyperparameters': {'n_estimators': 5000, 'n_jobs': -1, 'max_depth': 9, 'eta': 0.3, 'random_state': 2, 'objective': 'binary', 'verbosity': -1, 'metric': 'binary'}, 'problem': 'classification'} \n",
      "\n",
      "(2368, 9) (2368, 1)\n",
      "lightgbm\n"
     ]
    },
    {
     "name": "stderr",
     "output_type": "stream",
     "text": [
      "100%|██████████████████████████████████████████████████████████████████████████████████| 38/38 [01:21<00:00,  2.16s/it]\n"
     ]
    },
    {
     "name": "stdout",
     "output_type": "stream",
     "text": [
      "lightgbm == {'unique_uuid': '134c9a26-20c5-11ef-aec1-c0e434d84b22', 'train_start': datetime.datetime(2015, 1, 1, 0, 0), 'train_end': datetime.datetime(2023, 12, 29, 0, 0), 'test_start': datetime.datetime(2024, 1, 2, 0, 0), 'test_end': datetime.datetime(2024, 2, 8, 0, 0), 'target_column': 'growth', 'train_features': ['open', 'close_max_3_days', 'close_min_3_days', 'close_mean_3_days', '1_USD_to_EUR_lag_1', '1_EUR_to_USD_lag_1', '1_UAH_to_USD_lag_1', '1_USD_to_UAH_lag_1', '1_EUR_to_UAH_lag_1', '1_UAH_to_EUR_lag_1'], 'path_to_result': '/diploma_info/datalake/', 'forecast_periods': 4, 'model_name': 'lightgbm', 'model': LGBMClassifier(eta=0.3, max_depth=9, metric='binary', n_estimators=5000,\n",
      "               n_jobs=-1, objective='binary', random_state=2, verbosity=-1), 'forecast_frequency': 'daily', 'company': 'netflix', 'model_hyperparameters': {'n_estimators': 5000, 'n_jobs': -1, 'max_depth': 9, 'eta': 0.3, 'random_state': 2, 'objective': 'binary', 'verbosity': -1, 'metric': 'binary'}, 'problem': 'classification'} \n",
      "\n",
      "(2368, 10) (2368, 1)\n",
      "lightgbm\n"
     ]
    },
    {
     "name": "stderr",
     "output_type": "stream",
     "text": [
      "100%|██████████████████████████████████████████████████████████████████████████████████| 38/38 [01:16<00:00,  2.02s/it]\n"
     ]
    },
    {
     "name": "stdout",
     "output_type": "stream",
     "text": [
      "lightgbm == {'unique_uuid': '134c9a27-20c5-11ef-abe1-c0e434d84b22', 'train_start': datetime.datetime(2015, 1, 1, 0, 0), 'train_end': datetime.datetime(2023, 12, 29, 0, 0), 'test_start': datetime.datetime(2024, 1, 2, 0, 0), 'test_end': datetime.datetime(2024, 2, 8, 0, 0), 'target_column': 'growth', 'train_features': ['open', 'year', 'month', 'day', 'day_of_week', 'week_of_year', '1_USD_to_EUR_lag_1', '1_EUR_to_USD_lag_1', '1_UAH_to_USD_lag_1', '1_USD_to_UAH_lag_1', '1_EUR_to_UAH_lag_1', '1_UAH_to_EUR_lag_1'], 'path_to_result': '/diploma_info/datalake/', 'forecast_periods': 4, 'model_name': 'lightgbm', 'model': LGBMClassifier(eta=0.3, max_depth=9, metric='binary', n_estimators=5000,\n",
      "               n_jobs=-1, objective='binary', random_state=2, verbosity=-1), 'forecast_frequency': 'daily', 'company': 'netflix', 'model_hyperparameters': {'n_estimators': 5000, 'n_jobs': -1, 'max_depth': 9, 'eta': 0.3, 'random_state': 2, 'objective': 'binary', 'verbosity': -1, 'metric': 'binary'}, 'problem': 'classification'} \n",
      "\n",
      "(2368, 12) (2368, 1)\n",
      "lightgbm\n"
     ]
    },
    {
     "name": "stderr",
     "output_type": "stream",
     "text": [
      "100%|██████████████████████████████████████████████████████████████████████████████████| 38/38 [01:26<00:00,  2.27s/it]\n"
     ]
    },
    {
     "name": "stdout",
     "output_type": "stream",
     "text": [
      "random_forest == {'unique_uuid': '134c9a28-20c5-11ef-b5c7-c0e434d84b22', 'train_start': datetime.datetime(2015, 1, 1, 0, 0), 'train_end': datetime.datetime(2023, 12, 29, 0, 0), 'test_start': datetime.datetime(2024, 1, 2, 0, 0), 'test_end': datetime.datetime(2024, 2, 8, 0, 0), 'target_column': 'growth', 'train_features': ['open', 'volume_lag_1', 'usa_inflation_%', '1_USD_to_EUR_lag_1', '1_EUR_to_USD_lag_1', '1_UAH_to_USD_lag_1', '1_USD_to_UAH_lag_1', '1_EUR_to_UAH_lag_1', '1_UAH_to_EUR_lag_1'], 'path_to_result': '/diploma_info/datalake/', 'forecast_periods': 4, 'model_name': 'random_forest', 'model': RandomForestClassifier(max_depth=7, n_estimators=10, n_jobs=-1, random_state=2), 'forecast_frequency': 'daily', 'company': 'netflix', 'model_hyperparameters': {'n_estimators': 10, 'n_jobs': -1, 'random_state': 2, 'max_depth': 7}, 'problem': 'classification'} \n",
      "\n",
      "(2368, 9) (2368, 1)\n",
      "random_forest\n"
     ]
    },
    {
     "name": "stderr",
     "output_type": "stream",
     "text": [
      "100%|██████████████████████████████████████████████████████████████████████████████████| 38/38 [00:02<00:00, 13.59it/s]\n"
     ]
    },
    {
     "name": "stdout",
     "output_type": "stream",
     "text": [
      "random_forest == {'unique_uuid': '134c9a29-20c5-11ef-b607-c0e434d84b22', 'train_start': datetime.datetime(2015, 1, 1, 0, 0), 'train_end': datetime.datetime(2023, 12, 29, 0, 0), 'test_start': datetime.datetime(2024, 1, 2, 0, 0), 'test_end': datetime.datetime(2024, 2, 8, 0, 0), 'target_column': 'growth', 'train_features': ['open', 'close_max_3_days', 'close_min_3_days', 'close_mean_3_days', '1_USD_to_EUR_lag_1', '1_EUR_to_USD_lag_1', '1_UAH_to_USD_lag_1', '1_USD_to_UAH_lag_1', '1_EUR_to_UAH_lag_1', '1_UAH_to_EUR_lag_1'], 'path_to_result': '/diploma_info/datalake/', 'forecast_periods': 4, 'model_name': 'random_forest', 'model': RandomForestClassifier(max_depth=7, n_estimators=10, n_jobs=-1, random_state=2), 'forecast_frequency': 'daily', 'company': 'netflix', 'model_hyperparameters': {'n_estimators': 10, 'n_jobs': -1, 'random_state': 2, 'max_depth': 7}, 'problem': 'classification'} \n",
      "\n",
      "(2368, 10) (2368, 1)\n",
      "random_forest\n"
     ]
    },
    {
     "name": "stderr",
     "output_type": "stream",
     "text": [
      "100%|██████████████████████████████████████████████████████████████████████████████████| 38/38 [00:02<00:00, 13.31it/s]\n"
     ]
    },
    {
     "name": "stdout",
     "output_type": "stream",
     "text": [
      "random_forest == {'unique_uuid': '134c9a2a-20c5-11ef-861a-c0e434d84b22', 'train_start': datetime.datetime(2015, 1, 1, 0, 0), 'train_end': datetime.datetime(2023, 12, 29, 0, 0), 'test_start': datetime.datetime(2024, 1, 2, 0, 0), 'test_end': datetime.datetime(2024, 2, 8, 0, 0), 'target_column': 'growth', 'train_features': ['open', 'year', 'month', 'day', 'day_of_week', 'week_of_year', '1_USD_to_EUR_lag_1', '1_EUR_to_USD_lag_1', '1_UAH_to_USD_lag_1', '1_USD_to_UAH_lag_1', '1_EUR_to_UAH_lag_1', '1_UAH_to_EUR_lag_1'], 'path_to_result': '/diploma_info/datalake/', 'forecast_periods': 4, 'model_name': 'random_forest', 'model': RandomForestClassifier(max_depth=7, n_estimators=10, n_jobs=-1, random_state=2), 'forecast_frequency': 'daily', 'company': 'netflix', 'model_hyperparameters': {'n_estimators': 10, 'n_jobs': -1, 'random_state': 2, 'max_depth': 7}, 'problem': 'classification'} \n",
      "\n",
      "(2368, 12) (2368, 1)\n",
      "random_forest\n"
     ]
    },
    {
     "name": "stderr",
     "output_type": "stream",
     "text": [
      "100%|██████████████████████████████████████████████████████████████████████████████████| 38/38 [00:02<00:00, 14.89it/s]\n"
     ]
    },
    {
     "name": "stdout",
     "output_type": "stream",
     "text": [
      "knear_neighbors == {'unique_uuid': '134c9a2b-20c5-11ef-8721-c0e434d84b22', 'train_start': datetime.datetime(2015, 1, 1, 0, 0), 'train_end': datetime.datetime(2023, 12, 29, 0, 0), 'test_start': datetime.datetime(2024, 1, 2, 0, 0), 'test_end': datetime.datetime(2024, 2, 8, 0, 0), 'target_column': 'growth', 'train_features': ['open', 'volume_lag_1', 'usa_inflation_%', '1_USD_to_EUR_lag_1', '1_EUR_to_USD_lag_1', '1_UAH_to_USD_lag_1', '1_USD_to_UAH_lag_1', '1_EUR_to_UAH_lag_1', '1_UAH_to_EUR_lag_1'], 'path_to_result': '/diploma_info/datalake/', 'forecast_periods': 4, 'model_name': 'knear_neighbors', 'model': KNeighborsClassifier(n_jobs=-1, n_neighbors=3), 'forecast_frequency': 'daily', 'company': 'netflix', 'model_hyperparameters': {'n_neighbors': 3, 'n_jobs': -1}, 'problem': 'classification'} \n",
      "\n",
      "(2368, 9) (2368, 1)\n",
      "knear_neighbors\n"
     ]
    },
    {
     "name": "stderr",
     "output_type": "stream",
     "text": [
      "100%|██████████████████████████████████████████████████████████████████████████████████| 38/38 [00:01<00:00, 24.76it/s]\n"
     ]
    },
    {
     "name": "stdout",
     "output_type": "stream",
     "text": [
      "knear_neighbors == {'unique_uuid': '134c9a2c-20c5-11ef-bd64-c0e434d84b22', 'train_start': datetime.datetime(2015, 1, 1, 0, 0), 'train_end': datetime.datetime(2023, 12, 29, 0, 0), 'test_start': datetime.datetime(2024, 1, 2, 0, 0), 'test_end': datetime.datetime(2024, 2, 8, 0, 0), 'target_column': 'growth', 'train_features': ['open', 'close_max_3_days', 'close_min_3_days', 'close_mean_3_days', '1_USD_to_EUR_lag_1', '1_EUR_to_USD_lag_1', '1_UAH_to_USD_lag_1', '1_USD_to_UAH_lag_1', '1_EUR_to_UAH_lag_1', '1_UAH_to_EUR_lag_1'], 'path_to_result': '/diploma_info/datalake/', 'forecast_periods': 4, 'model_name': 'knear_neighbors', 'model': KNeighborsClassifier(n_jobs=-1, n_neighbors=3), 'forecast_frequency': 'daily', 'company': 'netflix', 'model_hyperparameters': {'n_neighbors': 3, 'n_jobs': -1}, 'problem': 'classification'} \n",
      "\n",
      "(2368, 10) (2368, 1)\n",
      "knear_neighbors\n"
     ]
    },
    {
     "name": "stderr",
     "output_type": "stream",
     "text": [
      "100%|██████████████████████████████████████████████████████████████████████████████████| 38/38 [00:01<00:00, 24.99it/s]\n"
     ]
    },
    {
     "name": "stdout",
     "output_type": "stream",
     "text": [
      "knear_neighbors == {'unique_uuid': '134c9a2d-20c5-11ef-a778-c0e434d84b22', 'train_start': datetime.datetime(2015, 1, 1, 0, 0), 'train_end': datetime.datetime(2023, 12, 29, 0, 0), 'test_start': datetime.datetime(2024, 1, 2, 0, 0), 'test_end': datetime.datetime(2024, 2, 8, 0, 0), 'target_column': 'growth', 'train_features': ['open', 'year', 'month', 'day', 'day_of_week', 'week_of_year', '1_USD_to_EUR_lag_1', '1_EUR_to_USD_lag_1', '1_UAH_to_USD_lag_1', '1_USD_to_UAH_lag_1', '1_EUR_to_UAH_lag_1', '1_UAH_to_EUR_lag_1'], 'path_to_result': '/diploma_info/datalake/', 'forecast_periods': 4, 'model_name': 'knear_neighbors', 'model': KNeighborsClassifier(n_jobs=-1, n_neighbors=3), 'forecast_frequency': 'daily', 'company': 'netflix', 'model_hyperparameters': {'n_neighbors': 3, 'n_jobs': -1}, 'problem': 'classification'} \n",
      "\n",
      "(2368, 12) (2368, 1)\n",
      "knear_neighbors\n"
     ]
    },
    {
     "name": "stderr",
     "output_type": "stream",
     "text": [
      "100%|██████████████████████████████████████████████████████████████████████████████████| 38/38 [00:01<00:00, 26.03it/s]\n"
     ]
    },
    {
     "name": "stdout",
     "output_type": "stream",
     "text": [
      "knear_neighbors == {'unique_uuid': '134c9a2e-20c5-11ef-a302-c0e434d84b22', 'train_start': datetime.datetime(2015, 1, 1, 0, 0), 'train_end': datetime.datetime(2023, 12, 29, 0, 0), 'test_start': datetime.datetime(2024, 1, 2, 0, 0), 'test_end': datetime.datetime(2024, 2, 8, 0, 0), 'target_column': 'growth', 'train_features': ['open', 'volume_lag_1', 'usa_inflation_%', '1_USD_to_EUR_lag_1', '1_EUR_to_USD_lag_1', '1_UAH_to_USD_lag_1', '1_USD_to_UAH_lag_1', '1_EUR_to_UAH_lag_1', '1_UAH_to_EUR_lag_1'], 'path_to_result': '/diploma_info/datalake/', 'forecast_periods': 4, 'model_name': 'knear_neighbors', 'model': KNeighborsClassifier(n_jobs=-1, n_neighbors=50), 'forecast_frequency': 'daily', 'company': 'netflix', 'model_hyperparameters': {'n_neighbors': 50, 'n_jobs': -1}, 'problem': 'classification'} \n",
      "\n",
      "(2368, 9) (2368, 1)\n",
      "knear_neighbors\n"
     ]
    },
    {
     "name": "stderr",
     "output_type": "stream",
     "text": [
      "100%|██████████████████████████████████████████████████████████████████████████████████| 38/38 [00:01<00:00, 27.20it/s]\n"
     ]
    },
    {
     "name": "stdout",
     "output_type": "stream",
     "text": [
      "knear_neighbors == {'unique_uuid': '134c9a2f-20c5-11ef-8eed-c0e434d84b22', 'train_start': datetime.datetime(2015, 1, 1, 0, 0), 'train_end': datetime.datetime(2023, 12, 29, 0, 0), 'test_start': datetime.datetime(2024, 1, 2, 0, 0), 'test_end': datetime.datetime(2024, 2, 8, 0, 0), 'target_column': 'growth', 'train_features': ['open', 'close_max_3_days', 'close_min_3_days', 'close_mean_3_days', '1_USD_to_EUR_lag_1', '1_EUR_to_USD_lag_1', '1_UAH_to_USD_lag_1', '1_USD_to_UAH_lag_1', '1_EUR_to_UAH_lag_1', '1_UAH_to_EUR_lag_1'], 'path_to_result': '/diploma_info/datalake/', 'forecast_periods': 4, 'model_name': 'knear_neighbors', 'model': KNeighborsClassifier(n_jobs=-1, n_neighbors=50), 'forecast_frequency': 'daily', 'company': 'netflix', 'model_hyperparameters': {'n_neighbors': 50, 'n_jobs': -1}, 'problem': 'classification'} \n",
      "\n",
      "(2368, 10) (2368, 1)\n",
      "knear_neighbors\n"
     ]
    },
    {
     "name": "stderr",
     "output_type": "stream",
     "text": [
      "100%|██████████████████████████████████████████████████████████████████████████████████| 38/38 [00:01<00:00, 26.14it/s]\n"
     ]
    },
    {
     "name": "stdout",
     "output_type": "stream",
     "text": [
      "knear_neighbors == {'unique_uuid': '134c9a30-20c5-11ef-8b45-c0e434d84b22', 'train_start': datetime.datetime(2015, 1, 1, 0, 0), 'train_end': datetime.datetime(2023, 12, 29, 0, 0), 'test_start': datetime.datetime(2024, 1, 2, 0, 0), 'test_end': datetime.datetime(2024, 2, 8, 0, 0), 'target_column': 'growth', 'train_features': ['open', 'year', 'month', 'day', 'day_of_week', 'week_of_year', '1_USD_to_EUR_lag_1', '1_EUR_to_USD_lag_1', '1_UAH_to_USD_lag_1', '1_USD_to_UAH_lag_1', '1_EUR_to_UAH_lag_1', '1_UAH_to_EUR_lag_1'], 'path_to_result': '/diploma_info/datalake/', 'forecast_periods': 4, 'model_name': 'knear_neighbors', 'model': KNeighborsClassifier(n_jobs=-1, n_neighbors=50), 'forecast_frequency': 'daily', 'company': 'netflix', 'model_hyperparameters': {'n_neighbors': 50, 'n_jobs': -1}, 'problem': 'classification'} \n",
      "\n",
      "(2368, 12) (2368, 1)\n",
      "knear_neighbors\n"
     ]
    },
    {
     "name": "stderr",
     "output_type": "stream",
     "text": [
      "100%|██████████████████████████████████████████████████████████████████████████████████| 38/38 [00:01<00:00, 25.88it/s]\n"
     ]
    },
    {
     "name": "stdout",
     "output_type": "stream",
     "text": [
      "xgboost == {'unique_uuid': '134c9a31-20c5-11ef-b390-c0e434d84b22', 'train_start': datetime.datetime(2020, 1, 1, 0, 0), 'train_end': datetime.datetime(2023, 12, 29, 0, 0), 'test_start': datetime.datetime(2024, 1, 2, 0, 0), 'test_end': datetime.datetime(2024, 2, 8, 0, 0), 'target_column': 'growth', 'train_features': ['open', 'volume_lag_1', 'usa_inflation_%', '1_USD_to_EUR_lag_1', '1_EUR_to_USD_lag_1', '1_UAH_to_USD_lag_1', '1_USD_to_UAH_lag_1', '1_EUR_to_UAH_lag_1', '1_UAH_to_EUR_lag_1'], 'path_to_result': '/diploma_info/datalake/', 'forecast_periods': 4, 'model_name': 'xgboost', 'model': XGBClassifier(base_score=None, booster='gbtree', callbacks=None,\n",
      "              colsample_bylevel=None, colsample_bynode=None, colsample_bytree=1,\n",
      "              device=None, early_stopping_rounds=None, enable_categorical=False,\n",
      "              eta=0.3, eval_metric='rmse', feature_types=None, gamma=None,\n",
      "              grow_policy=None, importance_type=None,\n",
      "              interaction_constraints=None, learning_rate=None, max_bin=None,\n",
      "              max_cat_threshold=None, max_cat_to_onehot=None,\n",
      "              max_delta_step=None, max_depth=9, max_leaves=None,\n",
      "              min_child_weight=1, missing=nan, monotone_constraints=None,\n",
      "              multi_strategy=None, n_estimators=200, n_jobs=-1,\n",
      "              num_parallel_tree=None, ...), 'forecast_frequency': 'daily', 'company': 'netflix', 'model_hyperparameters': {'n_estimators': 200, 'n_jobs': -1, 'max_depth': 9, 'eta': 0.3, 'booster': 'gbtree', 'objective': 'reg:squarederror', 'eval_metric': 'rmse', 'subsample': 1, 'colsample_bytree': 1, 'min_child_weight': 1, 'random_state': 2}, 'problem': 'classification'} \n",
      "\n",
      "(2368, 9) (2368, 1)\n",
      "xgboost\n"
     ]
    },
    {
     "name": "stderr",
     "output_type": "stream",
     "text": [
      "100%|██████████████████████████████████████████████████████████████████████████████████| 38/38 [00:13<00:00,  2.80it/s]\n"
     ]
    },
    {
     "name": "stdout",
     "output_type": "stream",
     "text": [
      "xgboost == {'unique_uuid': '134c9a32-20c5-11ef-b47c-c0e434d84b22', 'train_start': datetime.datetime(2020, 1, 1, 0, 0), 'train_end': datetime.datetime(2023, 12, 29, 0, 0), 'test_start': datetime.datetime(2024, 1, 2, 0, 0), 'test_end': datetime.datetime(2024, 2, 8, 0, 0), 'target_column': 'growth', 'train_features': ['open', 'close_max_3_days', 'close_min_3_days', 'close_mean_3_days', '1_USD_to_EUR_lag_1', '1_EUR_to_USD_lag_1', '1_UAH_to_USD_lag_1', '1_USD_to_UAH_lag_1', '1_EUR_to_UAH_lag_1', '1_UAH_to_EUR_lag_1'], 'path_to_result': '/diploma_info/datalake/', 'forecast_periods': 4, 'model_name': 'xgboost', 'model': XGBClassifier(base_score=None, booster='gbtree', callbacks=None,\n",
      "              colsample_bylevel=None, colsample_bynode=None, colsample_bytree=1,\n",
      "              device=None, early_stopping_rounds=None, enable_categorical=False,\n",
      "              eta=0.3, eval_metric='rmse', feature_types=None, gamma=None,\n",
      "              grow_policy=None, importance_type=None,\n",
      "              interaction_constraints=None, learning_rate=None, max_bin=None,\n",
      "              max_cat_threshold=None, max_cat_to_onehot=None,\n",
      "              max_delta_step=None, max_depth=9, max_leaves=None,\n",
      "              min_child_weight=1, missing=nan, monotone_constraints=None,\n",
      "              multi_strategy=None, n_estimators=200, n_jobs=-1,\n",
      "              num_parallel_tree=None, ...), 'forecast_frequency': 'daily', 'company': 'netflix', 'model_hyperparameters': {'n_estimators': 200, 'n_jobs': -1, 'max_depth': 9, 'eta': 0.3, 'booster': 'gbtree', 'objective': 'reg:squarederror', 'eval_metric': 'rmse', 'subsample': 1, 'colsample_bytree': 1, 'min_child_weight': 1, 'random_state': 2}, 'problem': 'classification'} \n",
      "\n",
      "(2368, 10) (2368, 1)\n",
      "xgboost\n"
     ]
    },
    {
     "name": "stderr",
     "output_type": "stream",
     "text": [
      "100%|██████████████████████████████████████████████████████████████████████████████████| 38/38 [00:15<00:00,  2.41it/s]\n"
     ]
    },
    {
     "name": "stdout",
     "output_type": "stream",
     "text": [
      "xgboost == {'unique_uuid': '134c9a33-20c5-11ef-82ec-c0e434d84b22', 'train_start': datetime.datetime(2020, 1, 1, 0, 0), 'train_end': datetime.datetime(2023, 12, 29, 0, 0), 'test_start': datetime.datetime(2024, 1, 2, 0, 0), 'test_end': datetime.datetime(2024, 2, 8, 0, 0), 'target_column': 'growth', 'train_features': ['open', 'year', 'month', 'day', 'day_of_week', 'week_of_year', '1_USD_to_EUR_lag_1', '1_EUR_to_USD_lag_1', '1_UAH_to_USD_lag_1', '1_USD_to_UAH_lag_1', '1_EUR_to_UAH_lag_1', '1_UAH_to_EUR_lag_1'], 'path_to_result': '/diploma_info/datalake/', 'forecast_periods': 4, 'model_name': 'xgboost', 'model': XGBClassifier(base_score=None, booster='gbtree', callbacks=None,\n",
      "              colsample_bylevel=None, colsample_bynode=None, colsample_bytree=1,\n",
      "              device=None, early_stopping_rounds=None, enable_categorical=False,\n",
      "              eta=0.3, eval_metric='rmse', feature_types=None, gamma=None,\n",
      "              grow_policy=None, importance_type=None,\n",
      "              interaction_constraints=None, learning_rate=None, max_bin=None,\n",
      "              max_cat_threshold=None, max_cat_to_onehot=None,\n",
      "              max_delta_step=None, max_depth=9, max_leaves=None,\n",
      "              min_child_weight=1, missing=nan, monotone_constraints=None,\n",
      "              multi_strategy=None, n_estimators=200, n_jobs=-1,\n",
      "              num_parallel_tree=None, ...), 'forecast_frequency': 'daily', 'company': 'netflix', 'model_hyperparameters': {'n_estimators': 200, 'n_jobs': -1, 'max_depth': 9, 'eta': 0.3, 'booster': 'gbtree', 'objective': 'reg:squarederror', 'eval_metric': 'rmse', 'subsample': 1, 'colsample_bytree': 1, 'min_child_weight': 1, 'random_state': 2}, 'problem': 'classification'} \n",
      "\n",
      "(2368, 12) (2368, 1)\n",
      "xgboost\n"
     ]
    },
    {
     "name": "stderr",
     "output_type": "stream",
     "text": [
      "100%|██████████████████████████████████████████████████████████████████████████████████| 38/38 [00:12<00:00,  3.03it/s]\n"
     ]
    },
    {
     "name": "stdout",
     "output_type": "stream",
     "text": [
      "lightgbm == {'unique_uuid': '134c9a34-20c5-11ef-8e99-c0e434d84b22', 'train_start': datetime.datetime(2020, 1, 1, 0, 0), 'train_end': datetime.datetime(2023, 12, 29, 0, 0), 'test_start': datetime.datetime(2024, 1, 2, 0, 0), 'test_end': datetime.datetime(2024, 2, 8, 0, 0), 'target_column': 'growth', 'train_features': ['open', 'volume_lag_1', 'usa_inflation_%', '1_USD_to_EUR_lag_1', '1_EUR_to_USD_lag_1', '1_UAH_to_USD_lag_1', '1_USD_to_UAH_lag_1', '1_EUR_to_UAH_lag_1', '1_UAH_to_EUR_lag_1'], 'path_to_result': '/diploma_info/datalake/', 'forecast_periods': 4, 'model_name': 'lightgbm', 'model': LGBMClassifier(eta=0.3, max_depth=9, metric='binary', n_estimators=10,\n",
      "               n_jobs=-1, objective='binary', random_state=2, verbosity=-1), 'forecast_frequency': 'daily', 'company': 'netflix', 'model_hyperparameters': {'n_estimators': 10, 'n_jobs': -1, 'max_depth': 9, 'eta': 0.3, 'random_state': 2, 'objective': 'binary', 'verbosity': -1, 'metric': 'binary'}, 'problem': 'classification'} \n",
      "\n",
      "(2368, 9) (2368, 1)\n",
      "lightgbm\n"
     ]
    },
    {
     "name": "stderr",
     "output_type": "stream",
     "text": [
      "100%|██████████████████████████████████████████████████████████████████████████████████| 38/38 [00:01<00:00, 37.57it/s]\n"
     ]
    },
    {
     "name": "stdout",
     "output_type": "stream",
     "text": [
      "lightgbm == {'unique_uuid': '134c9a35-20c5-11ef-a466-c0e434d84b22', 'train_start': datetime.datetime(2020, 1, 1, 0, 0), 'train_end': datetime.datetime(2023, 12, 29, 0, 0), 'test_start': datetime.datetime(2024, 1, 2, 0, 0), 'test_end': datetime.datetime(2024, 2, 8, 0, 0), 'target_column': 'growth', 'train_features': ['open', 'close_max_3_days', 'close_min_3_days', 'close_mean_3_days', '1_USD_to_EUR_lag_1', '1_EUR_to_USD_lag_1', '1_UAH_to_USD_lag_1', '1_USD_to_UAH_lag_1', '1_EUR_to_UAH_lag_1', '1_UAH_to_EUR_lag_1'], 'path_to_result': '/diploma_info/datalake/', 'forecast_periods': 4, 'model_name': 'lightgbm', 'model': LGBMClassifier(eta=0.3, max_depth=9, metric='binary', n_estimators=10,\n",
      "               n_jobs=-1, objective='binary', random_state=2, verbosity=-1), 'forecast_frequency': 'daily', 'company': 'netflix', 'model_hyperparameters': {'n_estimators': 10, 'n_jobs': -1, 'max_depth': 9, 'eta': 0.3, 'random_state': 2, 'objective': 'binary', 'verbosity': -1, 'metric': 'binary'}, 'problem': 'classification'} \n",
      "\n",
      "(2368, 10) (2368, 1)\n",
      "lightgbm\n"
     ]
    },
    {
     "name": "stderr",
     "output_type": "stream",
     "text": [
      "100%|██████████████████████████████████████████████████████████████████████████████████| 38/38 [00:01<00:00, 30.06it/s]\n"
     ]
    },
    {
     "name": "stdout",
     "output_type": "stream",
     "text": [
      "lightgbm == {'unique_uuid': '134c9a36-20c5-11ef-81a3-c0e434d84b22', 'train_start': datetime.datetime(2020, 1, 1, 0, 0), 'train_end': datetime.datetime(2023, 12, 29, 0, 0), 'test_start': datetime.datetime(2024, 1, 2, 0, 0), 'test_end': datetime.datetime(2024, 2, 8, 0, 0), 'target_column': 'growth', 'train_features': ['open', 'year', 'month', 'day', 'day_of_week', 'week_of_year', '1_USD_to_EUR_lag_1', '1_EUR_to_USD_lag_1', '1_UAH_to_USD_lag_1', '1_USD_to_UAH_lag_1', '1_EUR_to_UAH_lag_1', '1_UAH_to_EUR_lag_1'], 'path_to_result': '/diploma_info/datalake/', 'forecast_periods': 4, 'model_name': 'lightgbm', 'model': LGBMClassifier(eta=0.3, max_depth=9, metric='binary', n_estimators=10,\n",
      "               n_jobs=-1, objective='binary', random_state=2, verbosity=-1), 'forecast_frequency': 'daily', 'company': 'netflix', 'model_hyperparameters': {'n_estimators': 10, 'n_jobs': -1, 'max_depth': 9, 'eta': 0.3, 'random_state': 2, 'objective': 'binary', 'verbosity': -1, 'metric': 'binary'}, 'problem': 'classification'} \n",
      "\n",
      "(2368, 12) (2368, 1)\n",
      "lightgbm\n"
     ]
    },
    {
     "name": "stderr",
     "output_type": "stream",
     "text": [
      "100%|██████████████████████████████████████████████████████████████████████████████████| 38/38 [00:01<00:00, 33.23it/s]\n"
     ]
    },
    {
     "name": "stdout",
     "output_type": "stream",
     "text": [
      "lightgbm == {'unique_uuid': '134c9a37-20c5-11ef-8c4b-c0e434d84b22', 'train_start': datetime.datetime(2020, 1, 1, 0, 0), 'train_end': datetime.datetime(2023, 12, 29, 0, 0), 'test_start': datetime.datetime(2024, 1, 2, 0, 0), 'test_end': datetime.datetime(2024, 2, 8, 0, 0), 'target_column': 'growth', 'train_features': ['open', 'volume_lag_1', 'usa_inflation_%', '1_USD_to_EUR_lag_1', '1_EUR_to_USD_lag_1', '1_UAH_to_USD_lag_1', '1_USD_to_UAH_lag_1', '1_EUR_to_UAH_lag_1', '1_UAH_to_EUR_lag_1'], 'path_to_result': '/diploma_info/datalake/', 'forecast_periods': 4, 'model_name': 'lightgbm', 'model': LGBMClassifier(eta=0.3, max_depth=9, metric='binary', n_estimators=5000,\n",
      "               n_jobs=-1, objective='binary', random_state=2, verbosity=-1), 'forecast_frequency': 'daily', 'company': 'netflix', 'model_hyperparameters': {'n_estimators': 5000, 'n_jobs': -1, 'max_depth': 9, 'eta': 0.3, 'random_state': 2, 'objective': 'binary', 'verbosity': -1, 'metric': 'binary'}, 'problem': 'classification'} \n",
      "\n",
      "(2368, 9) (2368, 1)\n",
      "lightgbm\n"
     ]
    },
    {
     "name": "stderr",
     "output_type": "stream",
     "text": [
      "100%|██████████████████████████████████████████████████████████████████████████████████| 38/38 [00:59<00:00,  1.57s/it]\n"
     ]
    },
    {
     "name": "stdout",
     "output_type": "stream",
     "text": [
      "lightgbm == {'unique_uuid': '134c9a38-20c5-11ef-824b-c0e434d84b22', 'train_start': datetime.datetime(2020, 1, 1, 0, 0), 'train_end': datetime.datetime(2023, 12, 29, 0, 0), 'test_start': datetime.datetime(2024, 1, 2, 0, 0), 'test_end': datetime.datetime(2024, 2, 8, 0, 0), 'target_column': 'growth', 'train_features': ['open', 'close_max_3_days', 'close_min_3_days', 'close_mean_3_days', '1_USD_to_EUR_lag_1', '1_EUR_to_USD_lag_1', '1_UAH_to_USD_lag_1', '1_USD_to_UAH_lag_1', '1_EUR_to_UAH_lag_1', '1_UAH_to_EUR_lag_1'], 'path_to_result': '/diploma_info/datalake/', 'forecast_periods': 4, 'model_name': 'lightgbm', 'model': LGBMClassifier(eta=0.3, max_depth=9, metric='binary', n_estimators=5000,\n",
      "               n_jobs=-1, objective='binary', random_state=2, verbosity=-1), 'forecast_frequency': 'daily', 'company': 'netflix', 'model_hyperparameters': {'n_estimators': 5000, 'n_jobs': -1, 'max_depth': 9, 'eta': 0.3, 'random_state': 2, 'objective': 'binary', 'verbosity': -1, 'metric': 'binary'}, 'problem': 'classification'} \n",
      "\n",
      "(2368, 10) (2368, 1)\n",
      "lightgbm\n"
     ]
    },
    {
     "name": "stderr",
     "output_type": "stream",
     "text": [
      "100%|██████████████████████████████████████████████████████████████████████████████████| 38/38 [00:56<00:00,  1.50s/it]\n"
     ]
    },
    {
     "name": "stdout",
     "output_type": "stream",
     "text": [
      "lightgbm == {'unique_uuid': '134c9a39-20c5-11ef-8fe4-c0e434d84b22', 'train_start': datetime.datetime(2020, 1, 1, 0, 0), 'train_end': datetime.datetime(2023, 12, 29, 0, 0), 'test_start': datetime.datetime(2024, 1, 2, 0, 0), 'test_end': datetime.datetime(2024, 2, 8, 0, 0), 'target_column': 'growth', 'train_features': ['open', 'year', 'month', 'day', 'day_of_week', 'week_of_year', '1_USD_to_EUR_lag_1', '1_EUR_to_USD_lag_1', '1_UAH_to_USD_lag_1', '1_USD_to_UAH_lag_1', '1_EUR_to_UAH_lag_1', '1_UAH_to_EUR_lag_1'], 'path_to_result': '/diploma_info/datalake/', 'forecast_periods': 4, 'model_name': 'lightgbm', 'model': LGBMClassifier(eta=0.3, max_depth=9, metric='binary', n_estimators=5000,\n",
      "               n_jobs=-1, objective='binary', random_state=2, verbosity=-1), 'forecast_frequency': 'daily', 'company': 'netflix', 'model_hyperparameters': {'n_estimators': 5000, 'n_jobs': -1, 'max_depth': 9, 'eta': 0.3, 'random_state': 2, 'objective': 'binary', 'verbosity': -1, 'metric': 'binary'}, 'problem': 'classification'} \n",
      "\n",
      "(2368, 12) (2368, 1)\n",
      "lightgbm\n"
     ]
    },
    {
     "name": "stderr",
     "output_type": "stream",
     "text": [
      "100%|██████████████████████████████████████████████████████████████████████████████████| 38/38 [01:03<00:00,  1.67s/it]\n"
     ]
    },
    {
     "name": "stdout",
     "output_type": "stream",
     "text": [
      "random_forest == {'unique_uuid': '134c9a3a-20c5-11ef-8c09-c0e434d84b22', 'train_start': datetime.datetime(2020, 1, 1, 0, 0), 'train_end': datetime.datetime(2023, 12, 29, 0, 0), 'test_start': datetime.datetime(2024, 1, 2, 0, 0), 'test_end': datetime.datetime(2024, 2, 8, 0, 0), 'target_column': 'growth', 'train_features': ['open', 'volume_lag_1', 'usa_inflation_%', '1_USD_to_EUR_lag_1', '1_EUR_to_USD_lag_1', '1_UAH_to_USD_lag_1', '1_USD_to_UAH_lag_1', '1_EUR_to_UAH_lag_1', '1_UAH_to_EUR_lag_1'], 'path_to_result': '/diploma_info/datalake/', 'forecast_periods': 4, 'model_name': 'random_forest', 'model': RandomForestClassifier(max_depth=7, n_estimators=10, n_jobs=-1, random_state=2), 'forecast_frequency': 'daily', 'company': 'netflix', 'model_hyperparameters': {'n_estimators': 10, 'n_jobs': -1, 'random_state': 2, 'max_depth': 7}, 'problem': 'classification'} \n",
      "\n",
      "(2368, 9) (2368, 1)\n",
      "random_forest\n"
     ]
    },
    {
     "name": "stderr",
     "output_type": "stream",
     "text": [
      "100%|██████████████████████████████████████████████████████████████████████████████████| 38/38 [00:02<00:00, 15.79it/s]\n"
     ]
    },
    {
     "name": "stdout",
     "output_type": "stream",
     "text": [
      "random_forest == {'unique_uuid': '134c9a3b-20c5-11ef-a2f3-c0e434d84b22', 'train_start': datetime.datetime(2020, 1, 1, 0, 0), 'train_end': datetime.datetime(2023, 12, 29, 0, 0), 'test_start': datetime.datetime(2024, 1, 2, 0, 0), 'test_end': datetime.datetime(2024, 2, 8, 0, 0), 'target_column': 'growth', 'train_features': ['open', 'close_max_3_days', 'close_min_3_days', 'close_mean_3_days', '1_USD_to_EUR_lag_1', '1_EUR_to_USD_lag_1', '1_UAH_to_USD_lag_1', '1_USD_to_UAH_lag_1', '1_EUR_to_UAH_lag_1', '1_UAH_to_EUR_lag_1'], 'path_to_result': '/diploma_info/datalake/', 'forecast_periods': 4, 'model_name': 'random_forest', 'model': RandomForestClassifier(max_depth=7, n_estimators=10, n_jobs=-1, random_state=2), 'forecast_frequency': 'daily', 'company': 'netflix', 'model_hyperparameters': {'n_estimators': 10, 'n_jobs': -1, 'random_state': 2, 'max_depth': 7}, 'problem': 'classification'} \n",
      "\n",
      "(2368, 10) (2368, 1)\n",
      "random_forest\n"
     ]
    },
    {
     "name": "stderr",
     "output_type": "stream",
     "text": [
      "100%|██████████████████████████████████████████████████████████████████████████████████| 38/38 [00:02<00:00, 15.46it/s]\n"
     ]
    },
    {
     "name": "stdout",
     "output_type": "stream",
     "text": [
      "random_forest == {'unique_uuid': '134c9a3c-20c5-11ef-8f7f-c0e434d84b22', 'train_start': datetime.datetime(2020, 1, 1, 0, 0), 'train_end': datetime.datetime(2023, 12, 29, 0, 0), 'test_start': datetime.datetime(2024, 1, 2, 0, 0), 'test_end': datetime.datetime(2024, 2, 8, 0, 0), 'target_column': 'growth', 'train_features': ['open', 'year', 'month', 'day', 'day_of_week', 'week_of_year', '1_USD_to_EUR_lag_1', '1_EUR_to_USD_lag_1', '1_UAH_to_USD_lag_1', '1_USD_to_UAH_lag_1', '1_EUR_to_UAH_lag_1', '1_UAH_to_EUR_lag_1'], 'path_to_result': '/diploma_info/datalake/', 'forecast_periods': 4, 'model_name': 'random_forest', 'model': RandomForestClassifier(max_depth=7, n_estimators=10, n_jobs=-1, random_state=2), 'forecast_frequency': 'daily', 'company': 'netflix', 'model_hyperparameters': {'n_estimators': 10, 'n_jobs': -1, 'random_state': 2, 'max_depth': 7}, 'problem': 'classification'} \n",
      "\n",
      "(2368, 12) (2368, 1)\n",
      "random_forest\n"
     ]
    },
    {
     "name": "stderr",
     "output_type": "stream",
     "text": [
      "100%|██████████████████████████████████████████████████████████████████████████████████| 38/38 [00:02<00:00, 15.96it/s]\n"
     ]
    },
    {
     "name": "stdout",
     "output_type": "stream",
     "text": [
      "knear_neighbors == {'unique_uuid': '134c9a3d-20c5-11ef-b60a-c0e434d84b22', 'train_start': datetime.datetime(2020, 1, 1, 0, 0), 'train_end': datetime.datetime(2023, 12, 29, 0, 0), 'test_start': datetime.datetime(2024, 1, 2, 0, 0), 'test_end': datetime.datetime(2024, 2, 8, 0, 0), 'target_column': 'growth', 'train_features': ['open', 'volume_lag_1', 'usa_inflation_%', '1_USD_to_EUR_lag_1', '1_EUR_to_USD_lag_1', '1_UAH_to_USD_lag_1', '1_USD_to_UAH_lag_1', '1_EUR_to_UAH_lag_1', '1_UAH_to_EUR_lag_1'], 'path_to_result': '/diploma_info/datalake/', 'forecast_periods': 4, 'model_name': 'knear_neighbors', 'model': KNeighborsClassifier(n_jobs=-1, n_neighbors=3), 'forecast_frequency': 'daily', 'company': 'netflix', 'model_hyperparameters': {'n_neighbors': 3, 'n_jobs': -1}, 'problem': 'classification'} \n",
      "\n",
      "(2368, 9) (2368, 1)\n",
      "knear_neighbors\n"
     ]
    },
    {
     "name": "stderr",
     "output_type": "stream",
     "text": [
      "100%|██████████████████████████████████████████████████████████████████████████████████| 38/38 [00:01<00:00, 30.66it/s]\n"
     ]
    },
    {
     "name": "stdout",
     "output_type": "stream",
     "text": [
      "knear_neighbors == {'unique_uuid': '134c9a3e-20c5-11ef-a475-c0e434d84b22', 'train_start': datetime.datetime(2020, 1, 1, 0, 0), 'train_end': datetime.datetime(2023, 12, 29, 0, 0), 'test_start': datetime.datetime(2024, 1, 2, 0, 0), 'test_end': datetime.datetime(2024, 2, 8, 0, 0), 'target_column': 'growth', 'train_features': ['open', 'close_max_3_days', 'close_min_3_days', 'close_mean_3_days', '1_USD_to_EUR_lag_1', '1_EUR_to_USD_lag_1', '1_UAH_to_USD_lag_1', '1_USD_to_UAH_lag_1', '1_EUR_to_UAH_lag_1', '1_UAH_to_EUR_lag_1'], 'path_to_result': '/diploma_info/datalake/', 'forecast_periods': 4, 'model_name': 'knear_neighbors', 'model': KNeighborsClassifier(n_jobs=-1, n_neighbors=3), 'forecast_frequency': 'daily', 'company': 'netflix', 'model_hyperparameters': {'n_neighbors': 3, 'n_jobs': -1}, 'problem': 'classification'} \n",
      "\n",
      "(2368, 10) (2368, 1)\n",
      "knear_neighbors\n"
     ]
    },
    {
     "name": "stderr",
     "output_type": "stream",
     "text": [
      "100%|██████████████████████████████████████████████████████████████████████████████████| 38/38 [00:01<00:00, 28.61it/s]\n"
     ]
    },
    {
     "name": "stdout",
     "output_type": "stream",
     "text": [
      "knear_neighbors == {'unique_uuid': '134c9a3f-20c5-11ef-94d6-c0e434d84b22', 'train_start': datetime.datetime(2020, 1, 1, 0, 0), 'train_end': datetime.datetime(2023, 12, 29, 0, 0), 'test_start': datetime.datetime(2024, 1, 2, 0, 0), 'test_end': datetime.datetime(2024, 2, 8, 0, 0), 'target_column': 'growth', 'train_features': ['open', 'year', 'month', 'day', 'day_of_week', 'week_of_year', '1_USD_to_EUR_lag_1', '1_EUR_to_USD_lag_1', '1_UAH_to_USD_lag_1', '1_USD_to_UAH_lag_1', '1_EUR_to_UAH_lag_1', '1_UAH_to_EUR_lag_1'], 'path_to_result': '/diploma_info/datalake/', 'forecast_periods': 4, 'model_name': 'knear_neighbors', 'model': KNeighborsClassifier(n_jobs=-1, n_neighbors=3), 'forecast_frequency': 'daily', 'company': 'netflix', 'model_hyperparameters': {'n_neighbors': 3, 'n_jobs': -1}, 'problem': 'classification'} \n",
      "\n",
      "(2368, 12) (2368, 1)\n",
      "knear_neighbors\n"
     ]
    },
    {
     "name": "stderr",
     "output_type": "stream",
     "text": [
      "100%|██████████████████████████████████████████████████████████████████████████████████| 38/38 [00:01<00:00, 30.62it/s]\n"
     ]
    },
    {
     "name": "stdout",
     "output_type": "stream",
     "text": [
      "knear_neighbors == {'unique_uuid': '134c9a40-20c5-11ef-b2a7-c0e434d84b22', 'train_start': datetime.datetime(2020, 1, 1, 0, 0), 'train_end': datetime.datetime(2023, 12, 29, 0, 0), 'test_start': datetime.datetime(2024, 1, 2, 0, 0), 'test_end': datetime.datetime(2024, 2, 8, 0, 0), 'target_column': 'growth', 'train_features': ['open', 'volume_lag_1', 'usa_inflation_%', '1_USD_to_EUR_lag_1', '1_EUR_to_USD_lag_1', '1_UAH_to_USD_lag_1', '1_USD_to_UAH_lag_1', '1_EUR_to_UAH_lag_1', '1_UAH_to_EUR_lag_1'], 'path_to_result': '/diploma_info/datalake/', 'forecast_periods': 4, 'model_name': 'knear_neighbors', 'model': KNeighborsClassifier(n_jobs=-1, n_neighbors=50), 'forecast_frequency': 'daily', 'company': 'netflix', 'model_hyperparameters': {'n_neighbors': 50, 'n_jobs': -1}, 'problem': 'classification'} \n",
      "\n",
      "(2368, 9) (2368, 1)\n",
      "knear_neighbors\n"
     ]
    },
    {
     "name": "stderr",
     "output_type": "stream",
     "text": [
      "100%|██████████████████████████████████████████████████████████████████████████████████| 38/38 [00:01<00:00, 30.81it/s]\n"
     ]
    },
    {
     "name": "stdout",
     "output_type": "stream",
     "text": [
      "knear_neighbors == {'unique_uuid': '134c9a41-20c5-11ef-9366-c0e434d84b22', 'train_start': datetime.datetime(2020, 1, 1, 0, 0), 'train_end': datetime.datetime(2023, 12, 29, 0, 0), 'test_start': datetime.datetime(2024, 1, 2, 0, 0), 'test_end': datetime.datetime(2024, 2, 8, 0, 0), 'target_column': 'growth', 'train_features': ['open', 'close_max_3_days', 'close_min_3_days', 'close_mean_3_days', '1_USD_to_EUR_lag_1', '1_EUR_to_USD_lag_1', '1_UAH_to_USD_lag_1', '1_USD_to_UAH_lag_1', '1_EUR_to_UAH_lag_1', '1_UAH_to_EUR_lag_1'], 'path_to_result': '/diploma_info/datalake/', 'forecast_periods': 4, 'model_name': 'knear_neighbors', 'model': KNeighborsClassifier(n_jobs=-1, n_neighbors=50), 'forecast_frequency': 'daily', 'company': 'netflix', 'model_hyperparameters': {'n_neighbors': 50, 'n_jobs': -1}, 'problem': 'classification'} \n",
      "\n",
      "(2368, 10) (2368, 1)\n",
      "knear_neighbors\n"
     ]
    },
    {
     "name": "stderr",
     "output_type": "stream",
     "text": [
      "100%|██████████████████████████████████████████████████████████████████████████████████| 38/38 [00:01<00:00, 28.15it/s]\n"
     ]
    },
    {
     "name": "stdout",
     "output_type": "stream",
     "text": [
      "knear_neighbors == {'unique_uuid': '134c9a42-20c5-11ef-ad50-c0e434d84b22', 'train_start': datetime.datetime(2020, 1, 1, 0, 0), 'train_end': datetime.datetime(2023, 12, 29, 0, 0), 'test_start': datetime.datetime(2024, 1, 2, 0, 0), 'test_end': datetime.datetime(2024, 2, 8, 0, 0), 'target_column': 'growth', 'train_features': ['open', 'year', 'month', 'day', 'day_of_week', 'week_of_year', '1_USD_to_EUR_lag_1', '1_EUR_to_USD_lag_1', '1_UAH_to_USD_lag_1', '1_USD_to_UAH_lag_1', '1_EUR_to_UAH_lag_1', '1_UAH_to_EUR_lag_1'], 'path_to_result': '/diploma_info/datalake/', 'forecast_periods': 4, 'model_name': 'knear_neighbors', 'model': KNeighborsClassifier(n_jobs=-1, n_neighbors=50), 'forecast_frequency': 'daily', 'company': 'netflix', 'model_hyperparameters': {'n_neighbors': 50, 'n_jobs': -1}, 'problem': 'classification'} \n",
      "\n",
      "(2368, 12) (2368, 1)\n",
      "knear_neighbors\n"
     ]
    },
    {
     "name": "stderr",
     "output_type": "stream",
     "text": [
      "100%|██████████████████████████████████████████████████████████████████████████████████| 38/38 [00:01<00:00, 30.55it/s]\n"
     ]
    },
    {
     "name": "stdout",
     "output_type": "stream",
     "text": [
      "xgboost == {'unique_uuid': '134c9a43-20c5-11ef-a5e2-c0e434d84b22', 'train_start': datetime.datetime(2023, 1, 1, 0, 0), 'train_end': datetime.datetime(2023, 12, 29, 0, 0), 'test_start': datetime.datetime(2024, 1, 2, 0, 0), 'test_end': datetime.datetime(2024, 2, 8, 0, 0), 'target_column': 'growth', 'train_features': ['open', 'volume_lag_1', 'usa_inflation_%', '1_USD_to_EUR_lag_1', '1_EUR_to_USD_lag_1', '1_UAH_to_USD_lag_1', '1_USD_to_UAH_lag_1', '1_EUR_to_UAH_lag_1', '1_UAH_to_EUR_lag_1'], 'path_to_result': '/diploma_info/datalake/', 'forecast_periods': 4, 'model_name': 'xgboost', 'model': XGBClassifier(base_score=None, booster='gbtree', callbacks=None,\n",
      "              colsample_bylevel=None, colsample_bynode=None, colsample_bytree=1,\n",
      "              device=None, early_stopping_rounds=None, enable_categorical=False,\n",
      "              eta=0.3, eval_metric='rmse', feature_types=None, gamma=None,\n",
      "              grow_policy=None, importance_type=None,\n",
      "              interaction_constraints=None, learning_rate=None, max_bin=None,\n",
      "              max_cat_threshold=None, max_cat_to_onehot=None,\n",
      "              max_delta_step=None, max_depth=9, max_leaves=None,\n",
      "              min_child_weight=1, missing=nan, monotone_constraints=None,\n",
      "              multi_strategy=None, n_estimators=200, n_jobs=-1,\n",
      "              num_parallel_tree=None, ...), 'forecast_frequency': 'daily', 'company': 'netflix', 'model_hyperparameters': {'n_estimators': 200, 'n_jobs': -1, 'max_depth': 9, 'eta': 0.3, 'booster': 'gbtree', 'objective': 'reg:squarederror', 'eval_metric': 'rmse', 'subsample': 1, 'colsample_bytree': 1, 'min_child_weight': 1, 'random_state': 2}, 'problem': 'classification'} \n",
      "\n",
      "(2368, 9) (2368, 1)\n",
      "xgboost\n"
     ]
    },
    {
     "name": "stderr",
     "output_type": "stream",
     "text": [
      "100%|██████████████████████████████████████████████████████████████████████████████████| 38/38 [00:04<00:00,  8.42it/s]\n"
     ]
    },
    {
     "name": "stdout",
     "output_type": "stream",
     "text": [
      "xgboost == {'unique_uuid': '134c9a44-20c5-11ef-b619-c0e434d84b22', 'train_start': datetime.datetime(2023, 1, 1, 0, 0), 'train_end': datetime.datetime(2023, 12, 29, 0, 0), 'test_start': datetime.datetime(2024, 1, 2, 0, 0), 'test_end': datetime.datetime(2024, 2, 8, 0, 0), 'target_column': 'growth', 'train_features': ['open', 'close_max_3_days', 'close_min_3_days', 'close_mean_3_days', '1_USD_to_EUR_lag_1', '1_EUR_to_USD_lag_1', '1_UAH_to_USD_lag_1', '1_USD_to_UAH_lag_1', '1_EUR_to_UAH_lag_1', '1_UAH_to_EUR_lag_1'], 'path_to_result': '/diploma_info/datalake/', 'forecast_periods': 4, 'model_name': 'xgboost', 'model': XGBClassifier(base_score=None, booster='gbtree', callbacks=None,\n",
      "              colsample_bylevel=None, colsample_bynode=None, colsample_bytree=1,\n",
      "              device=None, early_stopping_rounds=None, enable_categorical=False,\n",
      "              eta=0.3, eval_metric='rmse', feature_types=None, gamma=None,\n",
      "              grow_policy=None, importance_type=None,\n",
      "              interaction_constraints=None, learning_rate=None, max_bin=None,\n",
      "              max_cat_threshold=None, max_cat_to_onehot=None,\n",
      "              max_delta_step=None, max_depth=9, max_leaves=None,\n",
      "              min_child_weight=1, missing=nan, monotone_constraints=None,\n",
      "              multi_strategy=None, n_estimators=200, n_jobs=-1,\n",
      "              num_parallel_tree=None, ...), 'forecast_frequency': 'daily', 'company': 'netflix', 'model_hyperparameters': {'n_estimators': 200, 'n_jobs': -1, 'max_depth': 9, 'eta': 0.3, 'booster': 'gbtree', 'objective': 'reg:squarederror', 'eval_metric': 'rmse', 'subsample': 1, 'colsample_bytree': 1, 'min_child_weight': 1, 'random_state': 2}, 'problem': 'classification'} \n",
      "\n",
      "(2368, 10) (2368, 1)\n",
      "xgboost\n"
     ]
    },
    {
     "name": "stderr",
     "output_type": "stream",
     "text": [
      "100%|██████████████████████████████████████████████████████████████████████████████████| 38/38 [00:05<00:00,  7.37it/s]\n"
     ]
    },
    {
     "name": "stdout",
     "output_type": "stream",
     "text": [
      "xgboost == {'unique_uuid': '134c9a45-20c5-11ef-a601-c0e434d84b22', 'train_start': datetime.datetime(2023, 1, 1, 0, 0), 'train_end': datetime.datetime(2023, 12, 29, 0, 0), 'test_start': datetime.datetime(2024, 1, 2, 0, 0), 'test_end': datetime.datetime(2024, 2, 8, 0, 0), 'target_column': 'growth', 'train_features': ['open', 'year', 'month', 'day', 'day_of_week', 'week_of_year', '1_USD_to_EUR_lag_1', '1_EUR_to_USD_lag_1', '1_UAH_to_USD_lag_1', '1_USD_to_UAH_lag_1', '1_EUR_to_UAH_lag_1', '1_UAH_to_EUR_lag_1'], 'path_to_result': '/diploma_info/datalake/', 'forecast_periods': 4, 'model_name': 'xgboost', 'model': XGBClassifier(base_score=None, booster='gbtree', callbacks=None,\n",
      "              colsample_bylevel=None, colsample_bynode=None, colsample_bytree=1,\n",
      "              device=None, early_stopping_rounds=None, enable_categorical=False,\n",
      "              eta=0.3, eval_metric='rmse', feature_types=None, gamma=None,\n",
      "              grow_policy=None, importance_type=None,\n",
      "              interaction_constraints=None, learning_rate=None, max_bin=None,\n",
      "              max_cat_threshold=None, max_cat_to_onehot=None,\n",
      "              max_delta_step=None, max_depth=9, max_leaves=None,\n",
      "              min_child_weight=1, missing=nan, monotone_constraints=None,\n",
      "              multi_strategy=None, n_estimators=200, n_jobs=-1,\n",
      "              num_parallel_tree=None, ...), 'forecast_frequency': 'daily', 'company': 'netflix', 'model_hyperparameters': {'n_estimators': 200, 'n_jobs': -1, 'max_depth': 9, 'eta': 0.3, 'booster': 'gbtree', 'objective': 'reg:squarederror', 'eval_metric': 'rmse', 'subsample': 1, 'colsample_bytree': 1, 'min_child_weight': 1, 'random_state': 2}, 'problem': 'classification'} \n",
      "\n",
      "(2368, 12) (2368, 1)\n",
      "xgboost\n"
     ]
    },
    {
     "name": "stderr",
     "output_type": "stream",
     "text": [
      "100%|██████████████████████████████████████████████████████████████████████████████████| 38/38 [00:04<00:00,  8.26it/s]\n"
     ]
    },
    {
     "name": "stdout",
     "output_type": "stream",
     "text": [
      "lightgbm == {'unique_uuid': '134c9a46-20c5-11ef-8b84-c0e434d84b22', 'train_start': datetime.datetime(2023, 1, 1, 0, 0), 'train_end': datetime.datetime(2023, 12, 29, 0, 0), 'test_start': datetime.datetime(2024, 1, 2, 0, 0), 'test_end': datetime.datetime(2024, 2, 8, 0, 0), 'target_column': 'growth', 'train_features': ['open', 'volume_lag_1', 'usa_inflation_%', '1_USD_to_EUR_lag_1', '1_EUR_to_USD_lag_1', '1_UAH_to_USD_lag_1', '1_USD_to_UAH_lag_1', '1_EUR_to_UAH_lag_1', '1_UAH_to_EUR_lag_1'], 'path_to_result': '/diploma_info/datalake/', 'forecast_periods': 4, 'model_name': 'lightgbm', 'model': LGBMClassifier(eta=0.3, max_depth=9, metric='binary', n_estimators=10,\n",
      "               n_jobs=-1, objective='binary', random_state=2, verbosity=-1), 'forecast_frequency': 'daily', 'company': 'netflix', 'model_hyperparameters': {'n_estimators': 10, 'n_jobs': -1, 'max_depth': 9, 'eta': 0.3, 'random_state': 2, 'objective': 'binary', 'verbosity': -1, 'metric': 'binary'}, 'problem': 'classification'} \n",
      "\n",
      "(2368, 9) (2368, 1)\n",
      "lightgbm\n"
     ]
    },
    {
     "name": "stderr",
     "output_type": "stream",
     "text": [
      "100%|██████████████████████████████████████████████████████████████████████████████████| 38/38 [00:00<00:00, 46.19it/s]\n"
     ]
    },
    {
     "name": "stdout",
     "output_type": "stream",
     "text": [
      "lightgbm == {'unique_uuid': '134c9a47-20c5-11ef-8812-c0e434d84b22', 'train_start': datetime.datetime(2023, 1, 1, 0, 0), 'train_end': datetime.datetime(2023, 12, 29, 0, 0), 'test_start': datetime.datetime(2024, 1, 2, 0, 0), 'test_end': datetime.datetime(2024, 2, 8, 0, 0), 'target_column': 'growth', 'train_features': ['open', 'close_max_3_days', 'close_min_3_days', 'close_mean_3_days', '1_USD_to_EUR_lag_1', '1_EUR_to_USD_lag_1', '1_UAH_to_USD_lag_1', '1_USD_to_UAH_lag_1', '1_EUR_to_UAH_lag_1', '1_UAH_to_EUR_lag_1'], 'path_to_result': '/diploma_info/datalake/', 'forecast_periods': 4, 'model_name': 'lightgbm', 'model': LGBMClassifier(eta=0.3, max_depth=9, metric='binary', n_estimators=10,\n",
      "               n_jobs=-1, objective='binary', random_state=2, verbosity=-1), 'forecast_frequency': 'daily', 'company': 'netflix', 'model_hyperparameters': {'n_estimators': 10, 'n_jobs': -1, 'max_depth': 9, 'eta': 0.3, 'random_state': 2, 'objective': 'binary', 'verbosity': -1, 'metric': 'binary'}, 'problem': 'classification'} \n",
      "\n",
      "(2368, 10) (2368, 1)\n",
      "lightgbm\n"
     ]
    },
    {
     "name": "stderr",
     "output_type": "stream",
     "text": [
      "100%|██████████████████████████████████████████████████████████████████████████████████| 38/38 [00:00<00:00, 42.67it/s]\n"
     ]
    },
    {
     "name": "stdout",
     "output_type": "stream",
     "text": [
      "lightgbm == {'unique_uuid': '134c9a48-20c5-11ef-b166-c0e434d84b22', 'train_start': datetime.datetime(2023, 1, 1, 0, 0), 'train_end': datetime.datetime(2023, 12, 29, 0, 0), 'test_start': datetime.datetime(2024, 1, 2, 0, 0), 'test_end': datetime.datetime(2024, 2, 8, 0, 0), 'target_column': 'growth', 'train_features': ['open', 'year', 'month', 'day', 'day_of_week', 'week_of_year', '1_USD_to_EUR_lag_1', '1_EUR_to_USD_lag_1', '1_UAH_to_USD_lag_1', '1_USD_to_UAH_lag_1', '1_EUR_to_UAH_lag_1', '1_UAH_to_EUR_lag_1'], 'path_to_result': '/diploma_info/datalake/', 'forecast_periods': 4, 'model_name': 'lightgbm', 'model': LGBMClassifier(eta=0.3, max_depth=9, metric='binary', n_estimators=10,\n",
      "               n_jobs=-1, objective='binary', random_state=2, verbosity=-1), 'forecast_frequency': 'daily', 'company': 'netflix', 'model_hyperparameters': {'n_estimators': 10, 'n_jobs': -1, 'max_depth': 9, 'eta': 0.3, 'random_state': 2, 'objective': 'binary', 'verbosity': -1, 'metric': 'binary'}, 'problem': 'classification'} \n",
      "\n",
      "(2368, 12) (2368, 1)\n",
      "lightgbm\n"
     ]
    },
    {
     "name": "stderr",
     "output_type": "stream",
     "text": [
      "100%|██████████████████████████████████████████████████████████████████████████████████| 38/38 [00:00<00:00, 47.69it/s]\n"
     ]
    },
    {
     "name": "stdout",
     "output_type": "stream",
     "text": [
      "lightgbm == {'unique_uuid': '134c9a49-20c5-11ef-911d-c0e434d84b22', 'train_start': datetime.datetime(2023, 1, 1, 0, 0), 'train_end': datetime.datetime(2023, 12, 29, 0, 0), 'test_start': datetime.datetime(2024, 1, 2, 0, 0), 'test_end': datetime.datetime(2024, 2, 8, 0, 0), 'target_column': 'growth', 'train_features': ['open', 'volume_lag_1', 'usa_inflation_%', '1_USD_to_EUR_lag_1', '1_EUR_to_USD_lag_1', '1_UAH_to_USD_lag_1', '1_USD_to_UAH_lag_1', '1_EUR_to_UAH_lag_1', '1_UAH_to_EUR_lag_1'], 'path_to_result': '/diploma_info/datalake/', 'forecast_periods': 4, 'model_name': 'lightgbm', 'model': LGBMClassifier(eta=0.3, max_depth=9, metric='binary', n_estimators=5000,\n",
      "               n_jobs=-1, objective='binary', random_state=2, verbosity=-1), 'forecast_frequency': 'daily', 'company': 'netflix', 'model_hyperparameters': {'n_estimators': 5000, 'n_jobs': -1, 'max_depth': 9, 'eta': 0.3, 'random_state': 2, 'objective': 'binary', 'verbosity': -1, 'metric': 'binary'}, 'problem': 'classification'} \n",
      "\n",
      "(2368, 9) (2368, 1)\n",
      "lightgbm\n"
     ]
    },
    {
     "name": "stderr",
     "output_type": "stream",
     "text": [
      "100%|██████████████████████████████████████████████████████████████████████████████████| 38/38 [00:23<00:00,  1.61it/s]\n"
     ]
    },
    {
     "name": "stdout",
     "output_type": "stream",
     "text": [
      "lightgbm == {'unique_uuid': '134c9a4a-20c5-11ef-bc25-c0e434d84b22', 'train_start': datetime.datetime(2023, 1, 1, 0, 0), 'train_end': datetime.datetime(2023, 12, 29, 0, 0), 'test_start': datetime.datetime(2024, 1, 2, 0, 0), 'test_end': datetime.datetime(2024, 2, 8, 0, 0), 'target_column': 'growth', 'train_features': ['open', 'close_max_3_days', 'close_min_3_days', 'close_mean_3_days', '1_USD_to_EUR_lag_1', '1_EUR_to_USD_lag_1', '1_UAH_to_USD_lag_1', '1_USD_to_UAH_lag_1', '1_EUR_to_UAH_lag_1', '1_UAH_to_EUR_lag_1'], 'path_to_result': '/diploma_info/datalake/', 'forecast_periods': 4, 'model_name': 'lightgbm', 'model': LGBMClassifier(eta=0.3, max_depth=9, metric='binary', n_estimators=5000,\n",
      "               n_jobs=-1, objective='binary', random_state=2, verbosity=-1), 'forecast_frequency': 'daily', 'company': 'netflix', 'model_hyperparameters': {'n_estimators': 5000, 'n_jobs': -1, 'max_depth': 9, 'eta': 0.3, 'random_state': 2, 'objective': 'binary', 'verbosity': -1, 'metric': 'binary'}, 'problem': 'classification'} \n",
      "\n",
      "(2368, 10) (2368, 1)\n",
      "lightgbm\n"
     ]
    },
    {
     "name": "stderr",
     "output_type": "stream",
     "text": [
      "100%|██████████████████████████████████████████████████████████████████████████████████| 38/38 [00:25<00:00,  1.49it/s]\n"
     ]
    },
    {
     "name": "stdout",
     "output_type": "stream",
     "text": [
      "lightgbm == {'unique_uuid': '134c9a4b-20c5-11ef-bca0-c0e434d84b22', 'train_start': datetime.datetime(2023, 1, 1, 0, 0), 'train_end': datetime.datetime(2023, 12, 29, 0, 0), 'test_start': datetime.datetime(2024, 1, 2, 0, 0), 'test_end': datetime.datetime(2024, 2, 8, 0, 0), 'target_column': 'growth', 'train_features': ['open', 'year', 'month', 'day', 'day_of_week', 'week_of_year', '1_USD_to_EUR_lag_1', '1_EUR_to_USD_lag_1', '1_UAH_to_USD_lag_1', '1_USD_to_UAH_lag_1', '1_EUR_to_UAH_lag_1', '1_UAH_to_EUR_lag_1'], 'path_to_result': '/diploma_info/datalake/', 'forecast_periods': 4, 'model_name': 'lightgbm', 'model': LGBMClassifier(eta=0.3, max_depth=9, metric='binary', n_estimators=5000,\n",
      "               n_jobs=-1, objective='binary', random_state=2, verbosity=-1), 'forecast_frequency': 'daily', 'company': 'netflix', 'model_hyperparameters': {'n_estimators': 5000, 'n_jobs': -1, 'max_depth': 9, 'eta': 0.3, 'random_state': 2, 'objective': 'binary', 'verbosity': -1, 'metric': 'binary'}, 'problem': 'classification'} \n",
      "\n",
      "(2368, 12) (2368, 1)\n",
      "lightgbm\n"
     ]
    },
    {
     "name": "stderr",
     "output_type": "stream",
     "text": [
      "100%|██████████████████████████████████████████████████████████████████████████████████| 38/38 [00:22<00:00,  1.66it/s]\n"
     ]
    },
    {
     "name": "stdout",
     "output_type": "stream",
     "text": [
      "random_forest == {'unique_uuid': '134c9a4c-20c5-11ef-87ca-c0e434d84b22', 'train_start': datetime.datetime(2023, 1, 1, 0, 0), 'train_end': datetime.datetime(2023, 12, 29, 0, 0), 'test_start': datetime.datetime(2024, 1, 2, 0, 0), 'test_end': datetime.datetime(2024, 2, 8, 0, 0), 'target_column': 'growth', 'train_features': ['open', 'volume_lag_1', 'usa_inflation_%', '1_USD_to_EUR_lag_1', '1_EUR_to_USD_lag_1', '1_UAH_to_USD_lag_1', '1_USD_to_UAH_lag_1', '1_EUR_to_UAH_lag_1', '1_UAH_to_EUR_lag_1'], 'path_to_result': '/diploma_info/datalake/', 'forecast_periods': 4, 'model_name': 'random_forest', 'model': RandomForestClassifier(max_depth=7, n_estimators=10, n_jobs=-1, random_state=2), 'forecast_frequency': 'daily', 'company': 'netflix', 'model_hyperparameters': {'n_estimators': 10, 'n_jobs': -1, 'random_state': 2, 'max_depth': 7}, 'problem': 'classification'} \n",
      "\n",
      "(2368, 9) (2368, 1)\n",
      "random_forest\n"
     ]
    },
    {
     "name": "stderr",
     "output_type": "stream",
     "text": [
      "100%|██████████████████████████████████████████████████████████████████████████████████| 38/38 [00:02<00:00, 16.09it/s]\n"
     ]
    },
    {
     "name": "stdout",
     "output_type": "stream",
     "text": [
      "random_forest == {'unique_uuid': '134c9a4d-20c5-11ef-b501-c0e434d84b22', 'train_start': datetime.datetime(2023, 1, 1, 0, 0), 'train_end': datetime.datetime(2023, 12, 29, 0, 0), 'test_start': datetime.datetime(2024, 1, 2, 0, 0), 'test_end': datetime.datetime(2024, 2, 8, 0, 0), 'target_column': 'growth', 'train_features': ['open', 'close_max_3_days', 'close_min_3_days', 'close_mean_3_days', '1_USD_to_EUR_lag_1', '1_EUR_to_USD_lag_1', '1_UAH_to_USD_lag_1', '1_USD_to_UAH_lag_1', '1_EUR_to_UAH_lag_1', '1_UAH_to_EUR_lag_1'], 'path_to_result': '/diploma_info/datalake/', 'forecast_periods': 4, 'model_name': 'random_forest', 'model': RandomForestClassifier(max_depth=7, n_estimators=10, n_jobs=-1, random_state=2), 'forecast_frequency': 'daily', 'company': 'netflix', 'model_hyperparameters': {'n_estimators': 10, 'n_jobs': -1, 'random_state': 2, 'max_depth': 7}, 'problem': 'classification'} \n",
      "\n",
      "(2368, 10) (2368, 1)\n",
      "random_forest\n"
     ]
    },
    {
     "name": "stderr",
     "output_type": "stream",
     "text": [
      "100%|██████████████████████████████████████████████████████████████████████████████████| 38/38 [00:02<00:00, 16.00it/s]\n"
     ]
    },
    {
     "name": "stdout",
     "output_type": "stream",
     "text": [
      "random_forest == {'unique_uuid': '134c9a4e-20c5-11ef-b3ac-c0e434d84b22', 'train_start': datetime.datetime(2023, 1, 1, 0, 0), 'train_end': datetime.datetime(2023, 12, 29, 0, 0), 'test_start': datetime.datetime(2024, 1, 2, 0, 0), 'test_end': datetime.datetime(2024, 2, 8, 0, 0), 'target_column': 'growth', 'train_features': ['open', 'year', 'month', 'day', 'day_of_week', 'week_of_year', '1_USD_to_EUR_lag_1', '1_EUR_to_USD_lag_1', '1_UAH_to_USD_lag_1', '1_USD_to_UAH_lag_1', '1_EUR_to_UAH_lag_1', '1_UAH_to_EUR_lag_1'], 'path_to_result': '/diploma_info/datalake/', 'forecast_periods': 4, 'model_name': 'random_forest', 'model': RandomForestClassifier(max_depth=7, n_estimators=10, n_jobs=-1, random_state=2), 'forecast_frequency': 'daily', 'company': 'netflix', 'model_hyperparameters': {'n_estimators': 10, 'n_jobs': -1, 'random_state': 2, 'max_depth': 7}, 'problem': 'classification'} \n",
      "\n",
      "(2368, 12) (2368, 1)\n",
      "random_forest\n"
     ]
    },
    {
     "name": "stderr",
     "output_type": "stream",
     "text": [
      "100%|██████████████████████████████████████████████████████████████████████████████████| 38/38 [00:02<00:00, 16.30it/s]\n"
     ]
    },
    {
     "name": "stdout",
     "output_type": "stream",
     "text": [
      "knear_neighbors == {'unique_uuid': '134c9a4f-20c5-11ef-bf50-c0e434d84b22', 'train_start': datetime.datetime(2023, 1, 1, 0, 0), 'train_end': datetime.datetime(2023, 12, 29, 0, 0), 'test_start': datetime.datetime(2024, 1, 2, 0, 0), 'test_end': datetime.datetime(2024, 2, 8, 0, 0), 'target_column': 'growth', 'train_features': ['open', 'volume_lag_1', 'usa_inflation_%', '1_USD_to_EUR_lag_1', '1_EUR_to_USD_lag_1', '1_UAH_to_USD_lag_1', '1_USD_to_UAH_lag_1', '1_EUR_to_UAH_lag_1', '1_UAH_to_EUR_lag_1'], 'path_to_result': '/diploma_info/datalake/', 'forecast_periods': 4, 'model_name': 'knear_neighbors', 'model': KNeighborsClassifier(n_jobs=-1, n_neighbors=3), 'forecast_frequency': 'daily', 'company': 'netflix', 'model_hyperparameters': {'n_neighbors': 3, 'n_jobs': -1}, 'problem': 'classification'} \n",
      "\n",
      "(2368, 9) (2368, 1)\n",
      "knear_neighbors\n"
     ]
    },
    {
     "name": "stderr",
     "output_type": "stream",
     "text": [
      "100%|██████████████████████████████████████████████████████████████████████████████████| 38/38 [00:01<00:00, 32.54it/s]\n"
     ]
    },
    {
     "name": "stdout",
     "output_type": "stream",
     "text": [
      "knear_neighbors == {'unique_uuid': '134c9a50-20c5-11ef-a042-c0e434d84b22', 'train_start': datetime.datetime(2023, 1, 1, 0, 0), 'train_end': datetime.datetime(2023, 12, 29, 0, 0), 'test_start': datetime.datetime(2024, 1, 2, 0, 0), 'test_end': datetime.datetime(2024, 2, 8, 0, 0), 'target_column': 'growth', 'train_features': ['open', 'close_max_3_days', 'close_min_3_days', 'close_mean_3_days', '1_USD_to_EUR_lag_1', '1_EUR_to_USD_lag_1', '1_UAH_to_USD_lag_1', '1_USD_to_UAH_lag_1', '1_EUR_to_UAH_lag_1', '1_UAH_to_EUR_lag_1'], 'path_to_result': '/diploma_info/datalake/', 'forecast_periods': 4, 'model_name': 'knear_neighbors', 'model': KNeighborsClassifier(n_jobs=-1, n_neighbors=3), 'forecast_frequency': 'daily', 'company': 'netflix', 'model_hyperparameters': {'n_neighbors': 3, 'n_jobs': -1}, 'problem': 'classification'} \n",
      "\n",
      "(2368, 10) (2368, 1)\n",
      "knear_neighbors\n"
     ]
    },
    {
     "name": "stderr",
     "output_type": "stream",
     "text": [
      "100%|██████████████████████████████████████████████████████████████████████████████████| 38/38 [00:01<00:00, 30.74it/s]\n"
     ]
    },
    {
     "name": "stdout",
     "output_type": "stream",
     "text": [
      "knear_neighbors == {'unique_uuid': '134c9a51-20c5-11ef-8ce9-c0e434d84b22', 'train_start': datetime.datetime(2023, 1, 1, 0, 0), 'train_end': datetime.datetime(2023, 12, 29, 0, 0), 'test_start': datetime.datetime(2024, 1, 2, 0, 0), 'test_end': datetime.datetime(2024, 2, 8, 0, 0), 'target_column': 'growth', 'train_features': ['open', 'year', 'month', 'day', 'day_of_week', 'week_of_year', '1_USD_to_EUR_lag_1', '1_EUR_to_USD_lag_1', '1_UAH_to_USD_lag_1', '1_USD_to_UAH_lag_1', '1_EUR_to_UAH_lag_1', '1_UAH_to_EUR_lag_1'], 'path_to_result': '/diploma_info/datalake/', 'forecast_periods': 4, 'model_name': 'knear_neighbors', 'model': KNeighborsClassifier(n_jobs=-1, n_neighbors=3), 'forecast_frequency': 'daily', 'company': 'netflix', 'model_hyperparameters': {'n_neighbors': 3, 'n_jobs': -1}, 'problem': 'classification'} \n",
      "\n",
      "(2368, 12) (2368, 1)\n",
      "knear_neighbors\n"
     ]
    },
    {
     "name": "stderr",
     "output_type": "stream",
     "text": [
      "100%|██████████████████████████████████████████████████████████████████████████████████| 38/38 [00:01<00:00, 32.88it/s]\n"
     ]
    },
    {
     "name": "stdout",
     "output_type": "stream",
     "text": [
      "knear_neighbors == {'unique_uuid': '134c9a52-20c5-11ef-8857-c0e434d84b22', 'train_start': datetime.datetime(2023, 1, 1, 0, 0), 'train_end': datetime.datetime(2023, 12, 29, 0, 0), 'test_start': datetime.datetime(2024, 1, 2, 0, 0), 'test_end': datetime.datetime(2024, 2, 8, 0, 0), 'target_column': 'growth', 'train_features': ['open', 'volume_lag_1', 'usa_inflation_%', '1_USD_to_EUR_lag_1', '1_EUR_to_USD_lag_1', '1_UAH_to_USD_lag_1', '1_USD_to_UAH_lag_1', '1_EUR_to_UAH_lag_1', '1_UAH_to_EUR_lag_1'], 'path_to_result': '/diploma_info/datalake/', 'forecast_periods': 4, 'model_name': 'knear_neighbors', 'model': KNeighborsClassifier(n_jobs=-1, n_neighbors=50), 'forecast_frequency': 'daily', 'company': 'netflix', 'model_hyperparameters': {'n_neighbors': 50, 'n_jobs': -1}, 'problem': 'classification'} \n",
      "\n",
      "(2368, 9) (2368, 1)\n",
      "knear_neighbors\n"
     ]
    },
    {
     "name": "stderr",
     "output_type": "stream",
     "text": [
      "100%|██████████████████████████████████████████████████████████████████████████████████| 38/38 [00:01<00:00, 32.10it/s]\n"
     ]
    },
    {
     "name": "stdout",
     "output_type": "stream",
     "text": [
      "knear_neighbors == {'unique_uuid': '134c9a53-20c5-11ef-b31e-c0e434d84b22', 'train_start': datetime.datetime(2023, 1, 1, 0, 0), 'train_end': datetime.datetime(2023, 12, 29, 0, 0), 'test_start': datetime.datetime(2024, 1, 2, 0, 0), 'test_end': datetime.datetime(2024, 2, 8, 0, 0), 'target_column': 'growth', 'train_features': ['open', 'close_max_3_days', 'close_min_3_days', 'close_mean_3_days', '1_USD_to_EUR_lag_1', '1_EUR_to_USD_lag_1', '1_UAH_to_USD_lag_1', '1_USD_to_UAH_lag_1', '1_EUR_to_UAH_lag_1', '1_UAH_to_EUR_lag_1'], 'path_to_result': '/diploma_info/datalake/', 'forecast_periods': 4, 'model_name': 'knear_neighbors', 'model': KNeighborsClassifier(n_jobs=-1, n_neighbors=50), 'forecast_frequency': 'daily', 'company': 'netflix', 'model_hyperparameters': {'n_neighbors': 50, 'n_jobs': -1}, 'problem': 'classification'} \n",
      "\n",
      "(2368, 10) (2368, 1)\n",
      "knear_neighbors\n"
     ]
    },
    {
     "name": "stderr",
     "output_type": "stream",
     "text": [
      "100%|██████████████████████████████████████████████████████████████████████████████████| 38/38 [00:01<00:00, 29.10it/s]\n"
     ]
    },
    {
     "name": "stdout",
     "output_type": "stream",
     "text": [
      "knear_neighbors == {'unique_uuid': '134c9a54-20c5-11ef-b1d2-c0e434d84b22', 'train_start': datetime.datetime(2023, 1, 1, 0, 0), 'train_end': datetime.datetime(2023, 12, 29, 0, 0), 'test_start': datetime.datetime(2024, 1, 2, 0, 0), 'test_end': datetime.datetime(2024, 2, 8, 0, 0), 'target_column': 'growth', 'train_features': ['open', 'year', 'month', 'day', 'day_of_week', 'week_of_year', '1_USD_to_EUR_lag_1', '1_EUR_to_USD_lag_1', '1_UAH_to_USD_lag_1', '1_USD_to_UAH_lag_1', '1_EUR_to_UAH_lag_1', '1_UAH_to_EUR_lag_1'], 'path_to_result': '/diploma_info/datalake/', 'forecast_periods': 4, 'model_name': 'knear_neighbors', 'model': KNeighborsClassifier(n_jobs=-1, n_neighbors=50), 'forecast_frequency': 'daily', 'company': 'netflix', 'model_hyperparameters': {'n_neighbors': 50, 'n_jobs': -1}, 'problem': 'classification'} \n",
      "\n",
      "(2368, 12) (2368, 1)\n",
      "knear_neighbors\n"
     ]
    },
    {
     "name": "stderr",
     "output_type": "stream",
     "text": [
      "100%|██████████████████████████████████████████████████████████████████████████████████| 38/38 [00:01<00:00, 32.74it/s]\n"
     ]
    }
   ],
   "source": [
    "# companies = [\"NETFLIX\"]\n",
    "companies = [\"AMAZON\", \"APPLE\", \"GOOGLE\", \"META\", \"NETFLIX\"]\n",
    "time_period = [\"daily\"]\n",
    "# time_period = [\"daily\", \"weekly\", \"monthly\"]\n",
    "\n",
    "problem = 'classification'\n",
    "models_list = ['XGBoost', 'LightGBM', 'Random_Forest', 'KNear_Neighbors']\n",
    "# models_list = ['XGBoost', 'LightGBM', 'Random_Forest', 'KNear_Neighbors', 'LOGistic_REGression']\n",
    "# models_list = ['Prophet']\n",
    "models_dict = dict([(\"\".join(re.findall('([A-Z])', k)).lower(), k.lower()) for k in models_list])\n",
    "\n",
    "forecast_steps = 4        # means that forecast will be made on {n} futute periods \n",
    " \n",
    "\n",
    "for company, period in list(itertools.product(companies, time_period)):\n",
    "    \n",
    "    full_set, train_end, test_start, test_end, train_features_set = init(company, period)\n",
    "    print(f'company: {company}\\t period: {period}\\t train ends: {train_end}\\t test starts: {test_start}')\n",
    "    \n",
    "    _research_task_uuid = str(uuid.uuid1())\n",
    "    print(f'_research_task_uuid = {_research_task_uuid}\\n')\n",
    "    \n",
    "    configs = define_parameters(company.lower(), period.lower(), train_end, test_start, test_end, train_features_set, forecast_steps, models_dict, problem)\n",
    "    print(f'count_configs {len(configs)} \\n')\n",
    "    \n",
    "    for _ in configs:\n",
    "        print(_['model_name'], '==', _, '\\n')\n",
    "        \n",
    "        run_wfv(full_set, _, _research_task_uuid, forecast_steps, company, models_dict, problem)"
   ]
  },
  {
   "cell_type": "markdown",
   "id": "fdf350a9",
   "metadata": {},
   "source": [
    "## View results"
   ]
  },
  {
   "cell_type": "code",
   "execution_count": 24,
   "id": "d1cc9fb1",
   "metadata": {},
   "outputs": [],
   "source": [
    "# df_preds['true_val'] = df.growth\n",
    "# df_preds "
   ]
  },
  {
   "cell_type": "code",
   "execution_count": 25,
   "id": "754ad290",
   "metadata": {
    "code_folding": []
   },
   "outputs": [],
   "source": [
    "# df_preds[(df_preds['true_val'] - df_preds['xgb_10_3_d-1'])==0]\n",
    "\n",
    "# df_errors = pd.DataFrame()\n",
    "\n",
    "\n",
    "# for d in [0, 1, 2, 3]:\n",
    "#     for n in [k for k in df_preds.columns if f'd-{d}' in k]:\n",
    "#         acc = round(abs(df_preds[(df_preds['true_val'] - df_preds[n])==0].shape[0]/df_preds.shape[0] - 1), 2) * 100\n",
    "        \n",
    "# #         print(n, acc)\n",
    "#         df_errors.loc[d, n.split(\"_d\")[0]] = acc\n",
    "        \n",
    "#     print(df_errors.iloc[:, :2])"
   ]
  },
  {
   "cell_type": "code",
   "execution_count": 26,
   "id": "39d4f3bd",
   "metadata": {},
   "outputs": [],
   "source": [
    "# df_errors[[k for k in df_errors.columns if 'lin' in k]]"
   ]
  },
  {
   "cell_type": "code",
   "execution_count": 27,
   "id": "832db5ed",
   "metadata": {},
   "outputs": [
    {
     "data": {
      "text/html": [
       "<div>\n",
       "<style scoped>\n",
       "    .dataframe tbody tr th:only-of-type {\n",
       "        vertical-align: middle;\n",
       "    }\n",
       "\n",
       "    .dataframe tbody tr th {\n",
       "        vertical-align: top;\n",
       "    }\n",
       "\n",
       "    .dataframe thead th {\n",
       "        text-align: right;\n",
       "    }\n",
       "</style>\n",
       "<table border=\"1\" class=\"dataframe\">\n",
       "  <thead>\n",
       "    <tr style=\"text-align: right;\">\n",
       "      <th></th>\n",
       "      <th>open</th>\n",
       "      <th>high</th>\n",
       "      <th>low</th>\n",
       "      <th>close</th>\n",
       "      <th>adj_close</th>\n",
       "      <th>volume</th>\n",
       "      <th>diff_close_value</th>\n",
       "      <th>diff_open_value</th>\n",
       "      <th>open-prev_close</th>\n",
       "      <th>(close-open)_lag_1</th>\n",
       "      <th>...</th>\n",
       "      <th>close_max_7_days</th>\n",
       "      <th>close_min_7_days</th>\n",
       "      <th>close_mean_7_days</th>\n",
       "      <th>1_USD_to_EUR_lag_1</th>\n",
       "      <th>1_EUR_to_USD_lag_1</th>\n",
       "      <th>1_UAH_to_USD_lag_1</th>\n",
       "      <th>1_USD_to_UAH_lag_1</th>\n",
       "      <th>1_EUR_to_UAH_lag_1</th>\n",
       "      <th>1_UAH_to_EUR_lag_1</th>\n",
       "      <th>usa_inflation_%</th>\n",
       "    </tr>\n",
       "    <tr>\n",
       "      <th>date</th>\n",
       "      <th></th>\n",
       "      <th></th>\n",
       "      <th></th>\n",
       "      <th></th>\n",
       "      <th></th>\n",
       "      <th></th>\n",
       "      <th></th>\n",
       "      <th></th>\n",
       "      <th></th>\n",
       "      <th></th>\n",
       "      <th></th>\n",
       "      <th></th>\n",
       "      <th></th>\n",
       "      <th></th>\n",
       "      <th></th>\n",
       "      <th></th>\n",
       "      <th></th>\n",
       "      <th></th>\n",
       "      <th></th>\n",
       "      <th></th>\n",
       "      <th></th>\n",
       "    </tr>\n",
       "  </thead>\n",
       "  <tbody>\n",
       "    <tr>\n",
       "      <th>2015-01-02</th>\n",
       "      <td>49.151428</td>\n",
       "      <td>50.331429</td>\n",
       "      <td>48.731430</td>\n",
       "      <td>49.848572</td>\n",
       "      <td>49.848572</td>\n",
       "      <td>13475000.0</td>\n",
       "      <td>1.047142</td>\n",
       "      <td>0.118572</td>\n",
       "      <td>0.349998</td>\n",
       "      <td>-0.231426</td>\n",
       "      <td>...</td>\n",
       "      <td>49.0</td>\n",
       "      <td>48.0</td>\n",
       "      <td>49.0</td>\n",
       "      <td>0.8265</td>\n",
       "      <td>1.2098</td>\n",
       "      <td>0.06322</td>\n",
       "      <td>15.819</td>\n",
       "      <td>19.138</td>\n",
       "      <td>0.05225</td>\n",
       "      <td>0.76</td>\n",
       "    </tr>\n",
       "    <tr>\n",
       "      <th>2015-01-05</th>\n",
       "      <td>49.258572</td>\n",
       "      <td>49.258572</td>\n",
       "      <td>47.147144</td>\n",
       "      <td>47.311428</td>\n",
       "      <td>47.311428</td>\n",
       "      <td>18165000.0</td>\n",
       "      <td>-2.537144</td>\n",
       "      <td>0.107143</td>\n",
       "      <td>-0.590000</td>\n",
       "      <td>0.697144</td>\n",
       "      <td>...</td>\n",
       "      <td>50.0</td>\n",
       "      <td>48.0</td>\n",
       "      <td>49.0</td>\n",
       "      <td>0.8370</td>\n",
       "      <td>1.1946</td>\n",
       "      <td>0.06265</td>\n",
       "      <td>15.962</td>\n",
       "      <td>18.900</td>\n",
       "      <td>0.05243</td>\n",
       "      <td>0.76</td>\n",
       "    </tr>\n",
       "    <tr>\n",
       "      <th>2015-01-06</th>\n",
       "      <td>47.347141</td>\n",
       "      <td>47.639999</td>\n",
       "      <td>45.661430</td>\n",
       "      <td>46.501431</td>\n",
       "      <td>46.501431</td>\n",
       "      <td>16037700.0</td>\n",
       "      <td>-0.809998</td>\n",
       "      <td>-1.911430</td>\n",
       "      <td>0.035713</td>\n",
       "      <td>-1.947144</td>\n",
       "      <td>...</td>\n",
       "      <td>50.0</td>\n",
       "      <td>47.0</td>\n",
       "      <td>49.0</td>\n",
       "      <td>0.8391</td>\n",
       "      <td>1.1918</td>\n",
       "      <td>0.06322</td>\n",
       "      <td>15.818</td>\n",
       "      <td>18.852</td>\n",
       "      <td>0.05305</td>\n",
       "      <td>0.76</td>\n",
       "    </tr>\n",
       "    <tr>\n",
       "      <th>2015-01-07</th>\n",
       "      <td>47.347141</td>\n",
       "      <td>47.421429</td>\n",
       "      <td>46.271427</td>\n",
       "      <td>46.742859</td>\n",
       "      <td>46.742859</td>\n",
       "      <td>9849700.0</td>\n",
       "      <td>0.241428</td>\n",
       "      <td>0.000000</td>\n",
       "      <td>0.845711</td>\n",
       "      <td>-0.845711</td>\n",
       "      <td>...</td>\n",
       "      <td>50.0</td>\n",
       "      <td>47.0</td>\n",
       "      <td>48.0</td>\n",
       "      <td>0.8377</td>\n",
       "      <td>1.1937</td>\n",
       "      <td>0.06317</td>\n",
       "      <td>15.830</td>\n",
       "      <td>18.896</td>\n",
       "      <td>0.05292</td>\n",
       "      <td>0.76</td>\n",
       "    </tr>\n",
       "    <tr>\n",
       "      <th>2015-01-08</th>\n",
       "      <td>47.119999</td>\n",
       "      <td>47.835712</td>\n",
       "      <td>46.478573</td>\n",
       "      <td>47.779999</td>\n",
       "      <td>47.779999</td>\n",
       "      <td>9601900.0</td>\n",
       "      <td>1.037140</td>\n",
       "      <td>-0.227142</td>\n",
       "      <td>0.377140</td>\n",
       "      <td>-0.604282</td>\n",
       "      <td>...</td>\n",
       "      <td>50.0</td>\n",
       "      <td>47.0</td>\n",
       "      <td>48.0</td>\n",
       "      <td>0.8461</td>\n",
       "      <td>1.1819</td>\n",
       "      <td>0.06317</td>\n",
       "      <td>15.830</td>\n",
       "      <td>18.709</td>\n",
       "      <td>0.05345</td>\n",
       "      <td>0.76</td>\n",
       "    </tr>\n",
       "    <tr>\n",
       "      <th>...</th>\n",
       "      <td>...</td>\n",
       "      <td>...</td>\n",
       "      <td>...</td>\n",
       "      <td>...</td>\n",
       "      <td>...</td>\n",
       "      <td>...</td>\n",
       "      <td>...</td>\n",
       "      <td>...</td>\n",
       "      <td>...</td>\n",
       "      <td>...</td>\n",
       "      <td>...</td>\n",
       "      <td>...</td>\n",
       "      <td>...</td>\n",
       "      <td>...</td>\n",
       "      <td>...</td>\n",
       "      <td>...</td>\n",
       "      <td>...</td>\n",
       "      <td>...</td>\n",
       "      <td>...</td>\n",
       "      <td>...</td>\n",
       "      <td>...</td>\n",
       "    </tr>\n",
       "    <tr>\n",
       "      <th>2024-05-23</th>\n",
       "      <td>642.340027</td>\n",
       "      <td>642.710022</td>\n",
       "      <td>630.000000</td>\n",
       "      <td>635.669983</td>\n",
       "      <td>635.669983</td>\n",
       "      <td>2313900.0</td>\n",
       "      <td>-4.799988</td>\n",
       "      <td>-4.799988</td>\n",
       "      <td>1.870056</td>\n",
       "      <td>-6.670044</td>\n",
       "      <td>...</td>\n",
       "      <td>651.0</td>\n",
       "      <td>611.0</td>\n",
       "      <td>627.0</td>\n",
       "      <td>0.9238</td>\n",
       "      <td>1.0825</td>\n",
       "      <td>0.02512</td>\n",
       "      <td>39.810</td>\n",
       "      <td>43.094</td>\n",
       "      <td>0.02321</td>\n",
       "      <td>3.36</td>\n",
       "    </tr>\n",
       "    <tr>\n",
       "      <th>2024-05-24</th>\n",
       "      <td>639.400024</td>\n",
       "      <td>652.000000</td>\n",
       "      <td>637.599976</td>\n",
       "      <td>646.750000</td>\n",
       "      <td>646.750000</td>\n",
       "      <td>2613300.0</td>\n",
       "      <td>11.080017</td>\n",
       "      <td>-2.940002</td>\n",
       "      <td>3.730042</td>\n",
       "      <td>-6.670044</td>\n",
       "      <td>...</td>\n",
       "      <td>651.0</td>\n",
       "      <td>611.0</td>\n",
       "      <td>630.0</td>\n",
       "      <td>0.9248</td>\n",
       "      <td>1.0814</td>\n",
       "      <td>0.02503</td>\n",
       "      <td>39.948</td>\n",
       "      <td>43.198</td>\n",
       "      <td>0.02315</td>\n",
       "      <td>3.36</td>\n",
       "    </tr>\n",
       "    <tr>\n",
       "      <th>2024-05-28</th>\n",
       "      <td>647.049988</td>\n",
       "      <td>649.750000</td>\n",
       "      <td>643.030029</td>\n",
       "      <td>649.000000</td>\n",
       "      <td>649.000000</td>\n",
       "      <td>2607600.0</td>\n",
       "      <td>2.250000</td>\n",
       "      <td>7.649963</td>\n",
       "      <td>0.299988</td>\n",
       "      <td>7.349976</td>\n",
       "      <td>...</td>\n",
       "      <td>651.0</td>\n",
       "      <td>611.0</td>\n",
       "      <td>635.0</td>\n",
       "      <td>0.9209</td>\n",
       "      <td>1.0859</td>\n",
       "      <td>0.02480</td>\n",
       "      <td>40.318</td>\n",
       "      <td>43.783</td>\n",
       "      <td>0.02284</td>\n",
       "      <td>3.36</td>\n",
       "    </tr>\n",
       "    <tr>\n",
       "      <th>2024-05-29</th>\n",
       "      <td>649.000000</td>\n",
       "      <td>0.000000</td>\n",
       "      <td>0.000000</td>\n",
       "      <td>0.000000</td>\n",
       "      <td>0.000000</td>\n",
       "      <td>0.0</td>\n",
       "      <td>0.000000</td>\n",
       "      <td>1.950012</td>\n",
       "      <td>0.000000</td>\n",
       "      <td>1.950012</td>\n",
       "      <td>...</td>\n",
       "      <td>651.0</td>\n",
       "      <td>621.0</td>\n",
       "      <td>641.0</td>\n",
       "      <td>0.9211</td>\n",
       "      <td>1.0857</td>\n",
       "      <td>0.02470</td>\n",
       "      <td>40.491</td>\n",
       "      <td>43.961</td>\n",
       "      <td>0.02275</td>\n",
       "      <td>3.36</td>\n",
       "    </tr>\n",
       "    <tr>\n",
       "      <th>2024-05-30</th>\n",
       "      <td>644.130000</td>\n",
       "      <td>0.000000</td>\n",
       "      <td>0.000000</td>\n",
       "      <td>0.000000</td>\n",
       "      <td>0.000000</td>\n",
       "      <td>0.0</td>\n",
       "      <td>0.000000</td>\n",
       "      <td>-4.870000</td>\n",
       "      <td>0.000000</td>\n",
       "      <td>0.000000</td>\n",
       "      <td>...</td>\n",
       "      <td>0.0</td>\n",
       "      <td>0.0</td>\n",
       "      <td>0.0</td>\n",
       "      <td>0.9257</td>\n",
       "      <td>1.0802</td>\n",
       "      <td>0.02467</td>\n",
       "      <td>40.533</td>\n",
       "      <td>43.785</td>\n",
       "      <td>0.02284</td>\n",
       "      <td>3.36</td>\n",
       "    </tr>\n",
       "  </tbody>\n",
       "</table>\n",
       "<p>2368 rows × 58 columns</p>\n",
       "</div>"
      ],
      "text/plain": [
       "                  open        high         low       close   adj_close  \\\n",
       "date                                                                     \n",
       "2015-01-02   49.151428   50.331429   48.731430   49.848572   49.848572   \n",
       "2015-01-05   49.258572   49.258572   47.147144   47.311428   47.311428   \n",
       "2015-01-06   47.347141   47.639999   45.661430   46.501431   46.501431   \n",
       "2015-01-07   47.347141   47.421429   46.271427   46.742859   46.742859   \n",
       "2015-01-08   47.119999   47.835712   46.478573   47.779999   47.779999   \n",
       "...                ...         ...         ...         ...         ...   \n",
       "2024-05-23  642.340027  642.710022  630.000000  635.669983  635.669983   \n",
       "2024-05-24  639.400024  652.000000  637.599976  646.750000  646.750000   \n",
       "2024-05-28  647.049988  649.750000  643.030029  649.000000  649.000000   \n",
       "2024-05-29  649.000000    0.000000    0.000000    0.000000    0.000000   \n",
       "2024-05-30  644.130000    0.000000    0.000000    0.000000    0.000000   \n",
       "\n",
       "                volume  diff_close_value  diff_open_value  open-prev_close  \\\n",
       "date                                                                         \n",
       "2015-01-02  13475000.0          1.047142         0.118572         0.349998   \n",
       "2015-01-05  18165000.0         -2.537144         0.107143        -0.590000   \n",
       "2015-01-06  16037700.0         -0.809998        -1.911430         0.035713   \n",
       "2015-01-07   9849700.0          0.241428         0.000000         0.845711   \n",
       "2015-01-08   9601900.0          1.037140        -0.227142         0.377140   \n",
       "...                ...               ...              ...              ...   \n",
       "2024-05-23   2313900.0         -4.799988        -4.799988         1.870056   \n",
       "2024-05-24   2613300.0         11.080017        -2.940002         3.730042   \n",
       "2024-05-28   2607600.0          2.250000         7.649963         0.299988   \n",
       "2024-05-29         0.0          0.000000         1.950012         0.000000   \n",
       "2024-05-30         0.0          0.000000        -4.870000         0.000000   \n",
       "\n",
       "            (close-open)_lag_1  ...  close_max_7_days  close_min_7_days  \\\n",
       "date                            ...                                       \n",
       "2015-01-02           -0.231426  ...              49.0              48.0   \n",
       "2015-01-05            0.697144  ...              50.0              48.0   \n",
       "2015-01-06           -1.947144  ...              50.0              47.0   \n",
       "2015-01-07           -0.845711  ...              50.0              47.0   \n",
       "2015-01-08           -0.604282  ...              50.0              47.0   \n",
       "...                        ...  ...               ...               ...   \n",
       "2024-05-23           -6.670044  ...             651.0             611.0   \n",
       "2024-05-24           -6.670044  ...             651.0             611.0   \n",
       "2024-05-28            7.349976  ...             651.0             611.0   \n",
       "2024-05-29            1.950012  ...             651.0             621.0   \n",
       "2024-05-30            0.000000  ...               0.0               0.0   \n",
       "\n",
       "            close_mean_7_days  1_USD_to_EUR_lag_1  1_EUR_to_USD_lag_1  \\\n",
       "date                                                                    \n",
       "2015-01-02               49.0              0.8265              1.2098   \n",
       "2015-01-05               49.0              0.8370              1.1946   \n",
       "2015-01-06               49.0              0.8391              1.1918   \n",
       "2015-01-07               48.0              0.8377              1.1937   \n",
       "2015-01-08               48.0              0.8461              1.1819   \n",
       "...                       ...                 ...                 ...   \n",
       "2024-05-23              627.0              0.9238              1.0825   \n",
       "2024-05-24              630.0              0.9248              1.0814   \n",
       "2024-05-28              635.0              0.9209              1.0859   \n",
       "2024-05-29              641.0              0.9211              1.0857   \n",
       "2024-05-30                0.0              0.9257              1.0802   \n",
       "\n",
       "            1_UAH_to_USD_lag_1  1_USD_to_UAH_lag_1  1_EUR_to_UAH_lag_1  \\\n",
       "date                                                                     \n",
       "2015-01-02             0.06322              15.819              19.138   \n",
       "2015-01-05             0.06265              15.962              18.900   \n",
       "2015-01-06             0.06322              15.818              18.852   \n",
       "2015-01-07             0.06317              15.830              18.896   \n",
       "2015-01-08             0.06317              15.830              18.709   \n",
       "...                        ...                 ...                 ...   \n",
       "2024-05-23             0.02512              39.810              43.094   \n",
       "2024-05-24             0.02503              39.948              43.198   \n",
       "2024-05-28             0.02480              40.318              43.783   \n",
       "2024-05-29             0.02470              40.491              43.961   \n",
       "2024-05-30             0.02467              40.533              43.785   \n",
       "\n",
       "            1_UAH_to_EUR_lag_1  usa_inflation_%  \n",
       "date                                             \n",
       "2015-01-02             0.05225             0.76  \n",
       "2015-01-05             0.05243             0.76  \n",
       "2015-01-06             0.05305             0.76  \n",
       "2015-01-07             0.05292             0.76  \n",
       "2015-01-08             0.05345             0.76  \n",
       "...                        ...              ...  \n",
       "2024-05-23             0.02321             3.36  \n",
       "2024-05-24             0.02315             3.36  \n",
       "2024-05-28             0.02284             3.36  \n",
       "2024-05-29             0.02275             3.36  \n",
       "2024-05-30             0.02284             3.36  \n",
       "\n",
       "[2368 rows x 58 columns]"
      ]
     },
     "execution_count": 27,
     "metadata": {},
     "output_type": "execute_result"
    }
   ],
   "source": [
    "full_set"
   ]
  }
 ],
 "metadata": {
  "kernelspec": {
   "display_name": "Python 3 (ipykernel)",
   "language": "python",
   "name": "python3"
  },
  "language_info": {
   "codemirror_mode": {
    "name": "ipython",
    "version": 3
   },
   "file_extension": ".py",
   "mimetype": "text/x-python",
   "name": "python",
   "nbconvert_exporter": "python",
   "pygments_lexer": "ipython3",
   "version": "3.11.7"
  },
  "varInspector": {
   "cols": {
    "lenName": 16,
    "lenType": 16,
    "lenVar": 40
   },
   "kernels_config": {
    "python": {
     "delete_cmd_postfix": "",
     "delete_cmd_prefix": "del ",
     "library": "var_list.py",
     "varRefreshCmd": "print(var_dic_list())"
    },
    "r": {
     "delete_cmd_postfix": ") ",
     "delete_cmd_prefix": "rm(",
     "library": "var_list.r",
     "varRefreshCmd": "cat(var_dic_list()) "
    }
   },
   "types_to_exclude": [
    "module",
    "function",
    "builtin_function_or_method",
    "instance",
    "_Feature"
   ],
   "window_display": false
  }
 },
 "nbformat": 4,
 "nbformat_minor": 5
}
