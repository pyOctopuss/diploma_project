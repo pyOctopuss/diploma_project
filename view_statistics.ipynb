{
 "cells": [
  {
   "cell_type": "code",
   "execution_count": 1,
   "id": "bc5c74dc",
   "metadata": {},
   "outputs": [
    {
     "data": {
      "text/html": [
       "<style>.container { width:90% !important; }</style>"
      ],
      "text/plain": [
       "<IPython.core.display.HTML object>"
      ]
     },
     "metadata": {},
     "output_type": "display_data"
    }
   ],
   "source": [
    "from IPython.display import display, HTML\n",
    "display(HTML(\"<style>.container { width:90% !important; }</style>\"))\n",
    "\n",
    "from pylab import rcParams\n",
    "rcParams['figure.figsize'] = 12,8"
   ]
  },
  {
   "cell_type": "code",
   "execution_count": 2,
   "id": "3d57b9af",
   "metadata": {},
   "outputs": [],
   "source": [
    "import matplotlib.pyplot as plt\n",
    "import seaborn as sns\n",
    "\n",
    "\n",
    "import pandas as pd\n",
    "import numpy as np\n",
    "\n",
    "from datetime import datetime, timedelta\n",
    "\n",
    "import re\n",
    "\n",
    "import os\n",
    "from glob import glob\n",
    "from tqdm import tqdm\n",
    "\n",
    "import yaml\n",
    "from yaml import dump\n",
    "import uuid\n",
    "import itertools\n",
    "\n",
    "import matplotlib.pyplot as plt"
   ]
  },
  {
   "cell_type": "code",
   "execution_count": 3,
   "id": "6627bb13",
   "metadata": {},
   "outputs": [],
   "source": [
    "import plotly.graph_objects as go\n",
    "import plotly.express as px\n",
    "from plotly.subplots import make_subplots"
   ]
  },
  {
   "cell_type": "code",
   "execution_count": 4,
   "id": "2392ee5b",
   "metadata": {},
   "outputs": [],
   "source": [
    "import warnings\n",
    "warnings.simplefilter(action=\"ignore\")"
   ]
  },
  {
   "cell_type": "code",
   "execution_count": 5,
   "id": "f5b346e7",
   "metadata": {},
   "outputs": [],
   "source": [
    "path = glob(f\"/diploma_info/datalake/statistical_result/*.csv\")"
   ]
  },
  {
   "cell_type": "code",
   "execution_count": 7,
   "id": "3d460f80",
   "metadata": {},
   "outputs": [],
   "source": [
    "amazon = pd.read_csv(path[0])\n",
    "apple = pd.read_csv(path[1])\n",
    "google = pd.read_csv(path[2])\n",
    "meta = pd.read_csv(path[3])\n",
    "netflix = pd.read_csv(path[4])"
   ]
  },
  {
   "cell_type": "code",
   "execution_count": 57,
   "id": "cafbc192",
   "metadata": {
    "scrolled": false
   },
   "outputs": [
    {
     "data": {
      "text/html": [
       "<div>\n",
       "<style scoped>\n",
       "    .dataframe tbody tr th:only-of-type {\n",
       "        vertical-align: middle;\n",
       "    }\n",
       "\n",
       "    .dataframe tbody tr th {\n",
       "        vertical-align: top;\n",
       "    }\n",
       "\n",
       "    .dataframe thead th {\n",
       "        text-align: right;\n",
       "    }\n",
       "</style>\n",
       "<table border=\"1\" class=\"dataframe\">\n",
       "  <thead>\n",
       "    <tr style=\"text-align: right;\">\n",
       "      <th></th>\n",
       "      <th>Unnamed: 0</th>\n",
       "      <th>forecasted_day</th>\n",
       "      <th>n_days_forecasted</th>\n",
       "      <th>n_forecasted_right</th>\n",
       "      <th>accuracy</th>\n",
       "      <th>model</th>\n",
       "      <th>train_start/duration</th>\n",
       "      <th>features</th>\n",
       "      <th>hyperparameters</th>\n",
       "      <th>experiment_uuid</th>\n",
       "    </tr>\n",
       "  </thead>\n",
       "  <tbody>\n",
       "    <tr>\n",
       "      <th>320</th>\n",
       "      <td>random_forest_9fc0_d-0</td>\n",
       "      <td>0.0</td>\n",
       "      <td>27.0</td>\n",
       "      <td>15.0</td>\n",
       "      <td>55.56</td>\n",
       "      <td>random_forest</td>\n",
       "      <td>2004-09-01</td>\n",
       "      <td>['close_lag_1', 'year', 'month', 'day', 'day_o...</td>\n",
       "      <td>{'max_depth': 7, 'n_estimators': 10, 'n_jobs':...</td>\n",
       "      <td>2cf1b4e5-da50-11ee-9fc0-c0e434d84b22</td>\n",
       "    </tr>\n",
       "  </tbody>\n",
       "</table>\n",
       "</div>"
      ],
      "text/plain": [
       "                 Unnamed: 0  forecasted_day  n_days_forecasted  \\\n",
       "320  random_forest_9fc0_d-0             0.0               27.0   \n",
       "\n",
       "     n_forecasted_right  accuracy          model train_start/duration  \\\n",
       "320                15.0     55.56  random_forest           2004-09-01   \n",
       "\n",
       "                                              features  \\\n",
       "320  ['close_lag_1', 'year', 'month', 'day', 'day_o...   \n",
       "\n",
       "                                       hyperparameters  \\\n",
       "320  {'max_depth': 7, 'n_estimators': 10, 'n_jobs':...   \n",
       "\n",
       "                          experiment_uuid  \n",
       "320  2cf1b4e5-da50-11ee-9fc0-c0e434d84b22  "
      ]
     },
     "execution_count": 57,
     "metadata": {},
     "output_type": "execute_result"
    }
   ],
   "source": [
    "netflix[netflix['model'] == 'random_forest'][netflix['accuracy'] == netflix[(netflix['forecasted_day']==0)&(netflix['model'] == 'random_forest')].accuracy.max()]\n",
    "# [['features', 'hyperparameters']].values"
   ]
  },
  {
   "cell_type": "code",
   "execution_count": null,
   "id": "412ef047",
   "metadata": {},
   "outputs": [],
   "source": []
  }
 ],
 "metadata": {
  "kernelspec": {
   "display_name": "Python 3 (ipykernel)",
   "language": "python",
   "name": "python3"
  },
  "language_info": {
   "codemirror_mode": {
    "name": "ipython",
    "version": 3
   },
   "file_extension": ".py",
   "mimetype": "text/x-python",
   "name": "python",
   "nbconvert_exporter": "python",
   "pygments_lexer": "ipython3",
   "version": "3.11.7"
  },
  "varInspector": {
   "cols": {
    "lenName": 16,
    "lenType": 16,
    "lenVar": 40
   },
   "kernels_config": {
    "python": {
     "delete_cmd_postfix": "",
     "delete_cmd_prefix": "del ",
     "library": "var_list.py",
     "varRefreshCmd": "print(var_dic_list())"
    },
    "r": {
     "delete_cmd_postfix": ") ",
     "delete_cmd_prefix": "rm(",
     "library": "var_list.r",
     "varRefreshCmd": "cat(var_dic_list()) "
    }
   },
   "types_to_exclude": [
    "module",
    "function",
    "builtin_function_or_method",
    "instance",
    "_Feature"
   ],
   "window_display": false
  }
 },
 "nbformat": 4,
 "nbformat_minor": 5
}
